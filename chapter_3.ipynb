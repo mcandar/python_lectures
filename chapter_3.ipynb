{
 "cells": [
  {
   "cell_type": "markdown",
   "metadata": {},
   "source": [
    "# Chapter 3\n",
    "\n",
    "We will explain two of the important aspects of python programming. Using these tools and know-how, one could design better algorithms and structures.\n",
    "\n",
    "## Learning Goals\n",
    "\n",
    "- Standard Library\n",
    "- Introduction to Object-oriented programming\n",
    "\n",
    "## Authors\n",
    "\n",
    "- Mert Candar, mccandar@gmail.com\n",
    "- Aras Kahraman, aras.kahraman@hotmail.com\n",
    "\n",
    "## Learning Curve Boosters\n",
    "\n",
    "https://github.com/kyclark/tiny_python_projects\n",
    "\n",
    "https://github.com/Python-World/python-mini-projects/tree/master/projects\n",
    "\n",
    "https://github.com/rlvaugh/Impractical_Python_Projects"
   ]
  },
  {
   "cell_type": "markdown",
   "metadata": {},
   "source": [
    "## Section 1: Standard Library\n",
    "\n",
    "A **module** in python is a systematic collection and organization of code blocks, namely, *the definitons and declarations* in order to perform a series of tasks about a domain, topic or problem. A module is usually composed of python scripts, text files, configuration files and folders. Structuring a module usually aims simplicity and efficiency of usage, and development.\n",
    "\n",
    "We can denote several highly important advantages of using modules:\n",
    "\n",
    "* Computation efficiency\n",
    "* Clean code\n",
    "* Higher level of abstraction\n",
    "\n",
    "Thus, modules are almost a must-have tool for a python coder.\n",
    "\n",
    "**Standard library** consists of a number of python modules that comes with python by default. To list some of those:\n",
    "\n",
    "* math\n",
    "* random\n",
    "* statistics\n",
    "* datetime\n",
    "* collections\n",
    "* itertools\n",
    "* functools\n",
    "* pickle\n",
    "* csv\n",
    "* json\n",
    "* time\n",
    "\n",
    "Find the full list [here](https://docs.python.org/3/library/)\n",
    "\n",
    "### `import` command\n",
    "\n",
    "We use `import` command to connect module to our script. Simply, `import` searches for the specified module and loads its content to memory. Thus, all of the imported objects of module are made available for usage.\n",
    "\n",
    "We can import:\n",
    "\n",
    "* modules\n",
    "* scripts\n",
    "* variables, functions and classes, simply any object, (of a script)\n",
    "\n",
    "There are several ways of import"
   ]
  },
  {
   "cell_type": "code",
   "execution_count": null,
   "metadata": {},
   "outputs": [],
   "source": [
    "import math\n",
    "\n",
    "math.sin(math.pi)"
   ]
  },
  {
   "cell_type": "code",
   "execution_count": null,
   "metadata": {},
   "outputs": [],
   "source": [
    "import math as mt\n",
    "\n",
    "mt.sin(math.pi)"
   ]
  },
  {
   "cell_type": "code",
   "execution_count": null,
   "metadata": {},
   "outputs": [],
   "source": [
    "from math import sin, pi\n",
    "\n",
    "sin(pi)"
   ]
  },
  {
   "cell_type": "code",
   "execution_count": null,
   "metadata": {},
   "outputs": [],
   "source": [
    "# not recommended\n",
    "from math import *\n",
    "\n",
    "sin(pi)"
   ]
  },
  {
   "cell_type": "markdown",
   "metadata": {},
   "source": [
    "### Modules"
   ]
  },
  {
   "cell_type": "code",
   "execution_count": null,
   "metadata": {
    "scrolled": true
   },
   "outputs": [],
   "source": [
    "import math"
   ]
  },
  {
   "cell_type": "code",
   "execution_count": null,
   "metadata": {},
   "outputs": [],
   "source": [
    "pi = math.pi\n",
    "print(math.sin(pi/2))\n",
    "print(math.cos(pi))"
   ]
  },
  {
   "cell_type": "code",
   "execution_count": null,
   "metadata": {},
   "outputs": [],
   "source": [
    "print(math.asin(1))\n",
    "print(math.acos(-1))"
   ]
  },
  {
   "cell_type": "code",
   "execution_count": null,
   "metadata": {
    "scrolled": true
   },
   "outputs": [],
   "source": [
    "print(math.ceil(3.5))\n",
    "print(math.ceil(-2.3))"
   ]
  },
  {
   "cell_type": "code",
   "execution_count": null,
   "metadata": {},
   "outputs": [],
   "source": [
    "print(math.floor(3.5))\n",
    "print(math.floor(-2.3))"
   ]
  },
  {
   "cell_type": "code",
   "execution_count": null,
   "metadata": {},
   "outputs": [],
   "source": [
    "math.log(20)"
   ]
  },
  {
   "cell_type": "code",
   "execution_count": null,
   "metadata": {},
   "outputs": [],
   "source": [
    "math.log(math.e)"
   ]
  },
  {
   "cell_type": "code",
   "execution_count": null,
   "metadata": {},
   "outputs": [],
   "source": [
    "math.log10(10)"
   ]
  },
  {
   "cell_type": "code",
   "execution_count": null,
   "metadata": {},
   "outputs": [],
   "source": [
    "math.log10(1e6)"
   ]
  },
  {
   "cell_type": "code",
   "execution_count": null,
   "metadata": {},
   "outputs": [],
   "source": [
    "math.log(8,2)"
   ]
  },
  {
   "cell_type": "code",
   "execution_count": null,
   "metadata": {},
   "outputs": [],
   "source": [
    "math.factorial(5)"
   ]
  },
  {
   "cell_type": "code",
   "execution_count": null,
   "metadata": {},
   "outputs": [],
   "source": [
    "math.factorial(5.12)"
   ]
  },
  {
   "cell_type": "code",
   "execution_count": null,
   "metadata": {
    "scrolled": true
   },
   "outputs": [],
   "source": [
    "math.gamma(6)"
   ]
  },
  {
   "cell_type": "code",
   "execution_count": null,
   "metadata": {},
   "outputs": [],
   "source": [
    "math.gamma(6.12)"
   ]
  },
  {
   "cell_type": "code",
   "execution_count": null,
   "metadata": {},
   "outputs": [],
   "source": [
    "math.inf"
   ]
  },
  {
   "cell_type": "code",
   "execution_count": null,
   "metadata": {},
   "outputs": [],
   "source": [
    "math.log10(math.inf)"
   ]
  },
  {
   "cell_type": "code",
   "execution_count": null,
   "metadata": {},
   "outputs": [],
   "source": [
    "math.nan"
   ]
  },
  {
   "cell_type": "code",
   "execution_count": null,
   "metadata": {},
   "outputs": [],
   "source": [
    "math.log10(math.nan)"
   ]
  },
  {
   "cell_type": "code",
   "execution_count": null,
   "metadata": {
    "scrolled": true
   },
   "outputs": [],
   "source": [
    "import random"
   ]
  },
  {
   "cell_type": "code",
   "execution_count": null,
   "metadata": {},
   "outputs": [],
   "source": [
    "mu = 100\n",
    "sigma = 20\n",
    "\n",
    "print(random.gauss(mu, sigma))"
   ]
  },
  {
   "cell_type": "code",
   "execution_count": null,
   "metadata": {},
   "outputs": [],
   "source": [
    "lst = [8, 22, 44, 664]\n",
    "\n",
    "random.shuffle(lst)\n",
    "\n",
    "lst"
   ]
  },
  {
   "cell_type": "code",
   "execution_count": null,
   "metadata": {},
   "outputs": [],
   "source": [
    "lst = ['Dave', 'Oliver', 'Jane', 'Kirk', 'Samantha']\n",
    "random.choice(lst)"
   ]
  },
  {
   "cell_type": "code",
   "execution_count": null,
   "metadata": {},
   "outputs": [],
   "source": [
    "random.sample(lst,2)"
   ]
  },
  {
   "cell_type": "code",
   "execution_count": null,
   "metadata": {},
   "outputs": [],
   "source": [
    "random.randint(45, 500)"
   ]
  },
  {
   "cell_type": "code",
   "execution_count": null,
   "metadata": {},
   "outputs": [],
   "source": [
    "random.uniform(5,100)"
   ]
  },
  {
   "cell_type": "code",
   "execution_count": null,
   "metadata": {},
   "outputs": [],
   "source": [
    "s = random.uniform(-10.519, 1.5)"
   ]
  },
  {
   "cell_type": "code",
   "execution_count": null,
   "metadata": {},
   "outputs": [],
   "source": [
    "def rand_list(n,distribution=\"uniform\",*args,**kwargs):\n",
    "    \"\"\"\n",
    "    Generate random number series.\n",
    "    \n",
    "    Parameters\n",
    "    ----------\n",
    "    n : int\n",
    "        Number of values to generate, i.e. length.\n",
    "    distribution : str\n",
    "        A method of `random` module.\n",
    "    \n",
    "    Returns\n",
    "    -------\n",
    "    m : list\n",
    "        Random number series.\n",
    "    \"\"\"\n",
    "    fun = getattr(random,distribution)\n",
    "    map_fun = lambda x: fun(*args,**kwargs)\n",
    "    return list(map(map_fun,range(n)))"
   ]
  },
  {
   "cell_type": "code",
   "execution_count": null,
   "metadata": {},
   "outputs": [],
   "source": [
    "rand_list(10,\"gauss\",0,1)"
   ]
  },
  {
   "cell_type": "code",
   "execution_count": null,
   "metadata": {},
   "outputs": [],
   "source": [
    "# is the same with...\n",
    "[random.gauss(0,1) for _ in range(10)]"
   ]
  },
  {
   "cell_type": "code",
   "execution_count": null,
   "metadata": {},
   "outputs": [],
   "source": [
    "rand_list(10,\"uniform\",0,1)"
   ]
  },
  {
   "cell_type": "code",
   "execution_count": null,
   "metadata": {},
   "outputs": [],
   "source": [
    "rand_list(10,\"randint\",0,1)"
   ]
  },
  {
   "cell_type": "code",
   "execution_count": null,
   "metadata": {},
   "outputs": [],
   "source": [
    "def count_interval(x,l,u):\n",
    "    \"\"\"\n",
    "    Count the number of values that\n",
    "    fall into the specified interval.\n",
    "    \"\"\"\n",
    "    return sum(map(lambda e: e >= l and e <= u,x))\n",
    "    \n",
    "def histogram(x,bins=20):\n",
    "    \"\"\"\n",
    "    Compute histogram of a given\n",
    "    numeric series.\n",
    "    \"\"\"\n",
    "    l, u = min(x), max(x)\n",
    "    h = (u - l) / bins\n",
    "    breaks = [l+h*i for i in range(bins+1)]\n",
    "    count_consecutive = lambda i: count_interval(x,breaks[i],breaks[i+1])\n",
    "    return list(map(count_consecutive,range(20))), breaks\n",
    "\n",
    "def plot_histogram(x,max_char=50,*args,**kwargs):\n",
    "    \"\"\"\n",
    "    Visualize histogram of a given\n",
    "    numeric series.\n",
    "    \"\"\"\n",
    "    counts, breaks = histogram(x,*args,**kwargs)\n",
    "    u = max(counts)/max_char\n",
    "    for c, b in zip(counts,breaks):\n",
    "        s = int(c/u)\n",
    "        print(str(round(b,2)).ljust(5),\"|\",s*\"#\")"
   ]
  },
  {
   "cell_type": "code",
   "execution_count": null,
   "metadata": {},
   "outputs": [],
   "source": [
    "data = rand_list(5000,\"uniform\",0,1)\n",
    "plot_histogram(data)"
   ]
  },
  {
   "cell_type": "code",
   "execution_count": null,
   "metadata": {},
   "outputs": [],
   "source": [
    "data = rand_list(5000,\"gauss\",0,1)\n",
    "plot_histogram(data)"
   ]
  },
  {
   "cell_type": "code",
   "execution_count": null,
   "metadata": {},
   "outputs": [],
   "source": [
    "data = rand_list(5000,\"lognormvariate\",0,0.4)\n",
    "plot_histogram(data)"
   ]
  },
  {
   "cell_type": "code",
   "execution_count": null,
   "metadata": {},
   "outputs": [],
   "source": [
    "data = rand_list(5000,\"expovariate\",0.2)\n",
    "plot_histogram(data)"
   ]
  },
  {
   "cell_type": "code",
   "execution_count": null,
   "metadata": {},
   "outputs": [],
   "source": [
    "data = rand_list(5000,\"gammavariate\",2,5)\n",
    "plot_histogram(data)"
   ]
  },
  {
   "cell_type": "code",
   "execution_count": null,
   "metadata": {},
   "outputs": [],
   "source": [
    "data = rand_list(5000,\"weibullvariate\",0.1,8)\n",
    "plot_histogram(data)"
   ]
  },
  {
   "cell_type": "code",
   "execution_count": null,
   "metadata": {},
   "outputs": [],
   "source": [
    "random.seed(1000)\n",
    "rand_list(10,\"gammavariate\",1,5)"
   ]
  },
  {
   "cell_type": "code",
   "execution_count": null,
   "metadata": {},
   "outputs": [],
   "source": [
    "random.seed(1000)\n",
    "rand_list(10,\"gammavariate\",1,5)"
   ]
  },
  {
   "cell_type": "code",
   "execution_count": null,
   "metadata": {},
   "outputs": [],
   "source": [
    "import statistics as ss"
   ]
  },
  {
   "cell_type": "code",
   "execution_count": null,
   "metadata": {},
   "outputs": [],
   "source": [
    "data = rand_list(20,\"gauss\",7,3)\n",
    "\n",
    "x = ss.mean(data)\n",
    "print(x)"
   ]
  },
  {
   "cell_type": "code",
   "execution_count": null,
   "metadata": {},
   "outputs": [],
   "source": [
    "random.seed(123)\n",
    "data = rand_list(1000,\"gauss\",7,3)\n",
    "\n",
    "ss.mean(data)"
   ]
  },
  {
   "cell_type": "code",
   "execution_count": null,
   "metadata": {},
   "outputs": [],
   "source": [
    "ss.median(data)"
   ]
  },
  {
   "cell_type": "code",
   "execution_count": null,
   "metadata": {},
   "outputs": [],
   "source": [
    "ss.median([7, 8, 9])"
   ]
  },
  {
   "cell_type": "code",
   "execution_count": null,
   "metadata": {},
   "outputs": [],
   "source": [
    "ss.median([7, 8, 9, 15])"
   ]
  },
  {
   "cell_type": "code",
   "execution_count": null,
   "metadata": {},
   "outputs": [],
   "source": [
    "ss.median_low([1, 5, 7, 9])"
   ]
  },
  {
   "cell_type": "code",
   "execution_count": null,
   "metadata": {},
   "outputs": [],
   "source": [
    "ss.median_high([1, 5, 7, 9])"
   ]
  },
  {
   "cell_type": "code",
   "execution_count": null,
   "metadata": {
    "scrolled": false
   },
   "outputs": [],
   "source": [
    "ss.stdev(data)"
   ]
  },
  {
   "cell_type": "code",
   "execution_count": null,
   "metadata": {},
   "outputs": [],
   "source": [
    "ss.variance(data)"
   ]
  },
  {
   "cell_type": "code",
   "execution_count": null,
   "metadata": {},
   "outputs": [],
   "source": [
    "ss.mode(data)"
   ]
  },
  {
   "cell_type": "code",
   "execution_count": null,
   "metadata": {},
   "outputs": [],
   "source": [
    "data_int = list(map(int,data))\n",
    "data_int"
   ]
  },
  {
   "cell_type": "code",
   "execution_count": null,
   "metadata": {},
   "outputs": [],
   "source": [
    "ss.mode(data_int)"
   ]
  },
  {
   "cell_type": "code",
   "execution_count": null,
   "metadata": {},
   "outputs": [],
   "source": [
    "set1 =[1,2,1,2,4,1,2,5,6,23,3,2,1,3,4,1,4]\n",
    "\n",
    "ss.mode(set1)"
   ]
  },
  {
   "cell_type": "code",
   "execution_count": null,
   "metadata": {
    "scrolled": true
   },
   "outputs": [],
   "source": [
    "set1 =[1, 2, \"a\", \"3\", 5, 7, 4, \"a\", 5, 5]\n",
    "  \n",
    "ss.mode(set1)"
   ]
  },
  {
   "cell_type": "code",
   "execution_count": null,
   "metadata": {},
   "outputs": [],
   "source": [
    "from collections import namedtuple, defaultdict"
   ]
  },
  {
   "cell_type": "code",
   "execution_count": null,
   "metadata": {},
   "outputs": [],
   "source": [
    "position = namedtuple(\"Position\",\"x,y\")\n",
    "pos = position(12.5,5.8)\n",
    "pos"
   ]
  },
  {
   "cell_type": "code",
   "execution_count": null,
   "metadata": {},
   "outputs": [],
   "source": [
    "print(pos[0])\n",
    "print(pos.x)"
   ]
  },
  {
   "cell_type": "code",
   "execution_count": null,
   "metadata": {},
   "outputs": [],
   "source": [
    "print(pos[1])\n",
    "print(pos.y)"
   ]
  },
  {
   "cell_type": "code",
   "execution_count": null,
   "metadata": {},
   "outputs": [],
   "source": [
    "pos * 2"
   ]
  },
  {
   "cell_type": "code",
   "execution_count": null,
   "metadata": {},
   "outputs": [],
   "source": [
    "print(pos.x,pos.y)"
   ]
  },
  {
   "cell_type": "code",
   "execution_count": null,
   "metadata": {},
   "outputs": [],
   "source": [
    "person = namedtuple(\"People\", \"name,age,job\")\n",
    "\n",
    "Dave = person(name=\"Dave\", age=\"32\", job=\"Data Scientist\")\n",
    "Oliver = person(name=\"Oliver\", age=\"35\", job=\"Software Developer\")"
   ]
  },
  {
   "cell_type": "code",
   "execution_count": null,
   "metadata": {},
   "outputs": [],
   "source": [
    "print(Dave)"
   ]
  },
  {
   "cell_type": "code",
   "execution_count": null,
   "metadata": {},
   "outputs": [],
   "source": [
    "print(Dave.age)"
   ]
  },
  {
   "cell_type": "code",
   "execution_count": null,
   "metadata": {},
   "outputs": [],
   "source": [
    "print(Oliver.job)"
   ]
  },
  {
   "cell_type": "code",
   "execution_count": null,
   "metadata": {},
   "outputs": [],
   "source": [
    "workers_job = defaultdict(list)\n",
    "\n",
    "[workers_job[\"Leonard\"]].append(\"Editor\")\n",
    "workers_job[\"Joseph\"].append(\"Author\")\n",
    "workers_job[\"Jane\"].append(\"IT\")\n",
    "\n",
    "print(workers_job)"
   ]
  },
  {
   "cell_type": "code",
   "execution_count": null,
   "metadata": {},
   "outputs": [],
   "source": [
    "workers_job[\"Matthew\"]"
   ]
  },
  {
   "cell_type": "code",
   "execution_count": null,
   "metadata": {},
   "outputs": [],
   "source": [
    "def count_words(s):\n",
    "    out = defaultdict(lambda : 0)\n",
    "    for word in s.split():\n",
    "        out[word] += 1\n",
    "    return out"
   ]
  },
  {
   "cell_type": "code",
   "execution_count": null,
   "metadata": {
    "scrolled": true
   },
   "outputs": [],
   "source": [
    "s = \"\"\"\n",
    "Lorem ipsum dolor sit amet, consectetur adipiscing elit. Integer vestibulum sodales tortor, vitae vulputate \n",
    "dolor posuere quis. Praesent ut lorem nec metus finibus tincidunt. Donec est nunc, varius vel lobortis nec, \n",
    "viverra ac sapien. Quisque blandit ipsum in massa porttitor faucibus. Orci varius natoque penatibus et magnis \n",
    "dis parturient montes, nascetur ridiculus mus. Lorem ipsum dolor sit amet, consectetur adipiscing elit. Vivamus\n",
    "auctor mi quis massa suscipit pharetra.\n",
    "\"\"\"\n",
    "count_words(s)"
   ]
  },
  {
   "cell_type": "code",
   "execution_count": null,
   "metadata": {},
   "outputs": [],
   "source": [
    "def count_words1(s):\n",
    "    out = defaultdict(lambda : 0)\n",
    "    for word in s.split():\n",
    "        out[word] += 1\n",
    "    return out\n",
    "\n",
    "def count_words2(s):\n",
    "    out = {}\n",
    "    for word in s.split():\n",
    "        if word in out:\n",
    "            out[word] += 1\n",
    "        else:\n",
    "            out[word] = 1\n",
    "    return out"
   ]
  },
  {
   "cell_type": "code",
   "execution_count": null,
   "metadata": {},
   "outputs": [],
   "source": [
    "%timeit count_words1(s)"
   ]
  },
  {
   "cell_type": "code",
   "execution_count": null,
   "metadata": {},
   "outputs": [],
   "source": [
    "%timeit count_words2(s)"
   ]
  },
  {
   "cell_type": "code",
   "execution_count": null,
   "metadata": {},
   "outputs": [],
   "source": [
    "from functools import reduce"
   ]
  },
  {
   "cell_type": "code",
   "execution_count": null,
   "metadata": {},
   "outputs": [],
   "source": [
    "reduce(lambda x, y: x+y, [1, 2, 3, 4, 5])"
   ]
  },
  {
   "cell_type": "code",
   "execution_count": null,
   "metadata": {},
   "outputs": [],
   "source": [
    "((((1+2)+3)+4)+5)"
   ]
  },
  {
   "cell_type": "code",
   "execution_count": null,
   "metadata": {},
   "outputs": [],
   "source": [
    "d = [2, 4, 7, 3]\n",
    "\n",
    "print(reduce(lambda x, y: x + y, d))\n",
    "print(\"With an initial value:\",reduce(lambda x, y: x + y, d, 6))"
   ]
  },
  {
   "cell_type": "code",
   "execution_count": null,
   "metadata": {},
   "outputs": [],
   "source": [
    "numbers = [11,3,9,12,4,15,66]\n",
    "\n",
    "def find_max(a,b):\n",
    "    if a > b:\n",
    "        return a\n",
    "    else:\n",
    "        return b\n",
    "\n",
    "reduce(find_max,numbers)"
   ]
  },
  {
   "cell_type": "code",
   "execution_count": null,
   "metadata": {},
   "outputs": [],
   "source": [
    "import itertools"
   ]
  },
  {
   "cell_type": "code",
   "execution_count": null,
   "metadata": {},
   "outputs": [],
   "source": [
    "list_odd = [1, 3, 5, 7]\n",
    "list_even = [2, 4, 6, 8]\n",
    "\n",
    "numbers = list(itertools.chain(list_odd, list_even))\n",
    "\n",
    "print(numbers)"
   ]
  },
  {
   "cell_type": "code",
   "execution_count": null,
   "metadata": {},
   "outputs": [],
   "source": [
    "list(itertools.chain(list_odd, list_even, list_even, list_even))"
   ]
  },
  {
   "cell_type": "code",
   "execution_count": null,
   "metadata": {},
   "outputs": [],
   "source": [
    "A = [1,1,3,3,3]\n",
    "\n",
    "list(itertools.combinations(A,4))"
   ]
  },
  {
   "cell_type": "code",
   "execution_count": null,
   "metadata": {
    "scrolled": true
   },
   "outputs": [],
   "source": [
    "letters =\"abcdef\"\n",
    "\n",
    "[' '.join(i) for i in itertools.combinations(letters, 3)]"
   ]
  },
  {
   "cell_type": "code",
   "execution_count": null,
   "metadata": {
    "scrolled": true
   },
   "outputs": [],
   "source": [
    "list(itertools.combinations(letters, 2))"
   ]
  },
  {
   "cell_type": "code",
   "execution_count": null,
   "metadata": {},
   "outputs": [],
   "source": [
    "letters"
   ]
  },
  {
   "cell_type": "code",
   "execution_count": null,
   "metadata": {},
   "outputs": [],
   "source": [
    "list(itertools.combinations_with_replacement(letters, 2))"
   ]
  },
  {
   "cell_type": "code",
   "execution_count": null,
   "metadata": {
    "scrolled": true
   },
   "outputs": [],
   "source": [
    "list(itertools.permutations(letters,2))"
   ]
  },
  {
   "cell_type": "code",
   "execution_count": null,
   "metadata": {},
   "outputs": [],
   "source": [
    "list(itertools.permutations('XYZ'))"
   ]
  },
  {
   "cell_type": "code",
   "execution_count": null,
   "metadata": {
    "scrolled": false
   },
   "outputs": [],
   "source": [
    "list(itertools.permutations(range(5), 2))"
   ]
  },
  {
   "cell_type": "code",
   "execution_count": null,
   "metadata": {},
   "outputs": [],
   "source": [
    "d = [1,1,4,1,2,41,1,2,2,41]\n",
    "d.sort()\n",
    "d"
   ]
  },
  {
   "cell_type": "code",
   "execution_count": null,
   "metadata": {},
   "outputs": [],
   "source": [
    "for i,k in itertools.groupby(d):\n",
    "    print(i,k)"
   ]
  },
  {
   "cell_type": "code",
   "execution_count": null,
   "metadata": {},
   "outputs": [],
   "source": [
    "for i,k in itertools.groupby(d):\n",
    "    print(i,list(k))"
   ]
  },
  {
   "cell_type": "code",
   "execution_count": null,
   "metadata": {},
   "outputs": [],
   "source": [
    "for i,k in itertools.groupby(d):\n",
    "    print(i,len(list(k)))"
   ]
  },
  {
   "cell_type": "code",
   "execution_count": null,
   "metadata": {},
   "outputs": [],
   "source": [
    "L = [(\"a\", 1), (\"a\", 2), (\"b\", 3), (\"b\", 4)]\n",
    "\n",
    "key_func = lambda x: x[0]\n",
    "\n",
    "for key, group in itertools.groupby(L, key_func):\n",
    "    print(key, \":\", list(group))"
   ]
  },
  {
   "cell_type": "code",
   "execution_count": null,
   "metadata": {},
   "outputs": [],
   "source": [
    "animal_list = [\n",
    "    (\"Animal\", \"cat\"), \n",
    "    (\"Animal\", \"dog\"), \n",
    "    (\"Bird\", \"peacock\"), \n",
    "    (\"Bird\", \"pigeon\")\n",
    "]\n",
    "  \n",
    "for key, group in itertools.groupby(animal_list, lambda x : x[0]):\n",
    "    print(key,\":\", list(group))"
   ]
  },
  {
   "cell_type": "code",
   "execution_count": null,
   "metadata": {},
   "outputs": [],
   "source": [
    "employees = [{'name': 'Alan', 'age': 34},\n",
    "         {'name': 'Catherine', 'age': 34},\n",
    "         {'name': 'Betsy', 'age': 29},\n",
    "        {'name': 'David', 'age': 33}]\n",
    "\n",
    "grouped_data = itertools.groupby(employees, key=lambda x: x['age'])\n",
    "\n",
    "for key, group in grouped_data:\n",
    "     print(key,\":\", list(group))"
   ]
  },
  {
   "cell_type": "code",
   "execution_count": null,
   "metadata": {
    "scrolled": true
   },
   "outputs": [],
   "source": [
    "# Generate a random user purchase count data\n",
    "purchase_count = list(zip(\n",
    "    rand_list(30,\"randint\",13412,13420),\n",
    "    map(int,rand_list(30,\"expovariate\",0.05))\n",
    "))\n",
    "purchase_count"
   ]
  },
  {
   "cell_type": "code",
   "execution_count": null,
   "metadata": {
    "scrolled": true
   },
   "outputs": [],
   "source": [
    "grouper = itertools.groupby(purchase_count, lambda x : x[0])\n",
    "\n",
    "def sum_group(g):\n",
    "    return sum(map(lambda x: x[1],group))\n",
    "\n",
    "for key, group in grouper:\n",
    "    print(key,sum_group(group))"
   ]
  },
  {
   "cell_type": "code",
   "execution_count": null,
   "metadata": {},
   "outputs": [],
   "source": [
    "l1 = ['a', 'b', 'c']\n",
    "l2 = ['X', 'Y', 'Z']\n",
    "\n",
    "list(itertools.product(l1, l2)) # simply a cartesian product of two sets (in math)"
   ]
  },
  {
   "cell_type": "code",
   "execution_count": null,
   "metadata": {},
   "outputs": [],
   "source": [
    "t = ('AA', 'BB')\n",
    "d = {'colour': 'white', 'size': 'small'}\n",
    "r = range(2)\n",
    "\n",
    "list(itertools.product(t, d, r))"
   ]
  },
  {
   "cell_type": "code",
   "execution_count": null,
   "metadata": {},
   "outputs": [],
   "source": [
    "import datetime\n",
    "\n",
    "print(\"Today:\",datetime.datetime.today())\n",
    "print(\"Current date and time:\",datetime.datetime.now())\n",
    "print(\"Current UTC date and time:\",datetime.datetime.utcnow())"
   ]
  },
  {
   "cell_type": "code",
   "execution_count": null,
   "metadata": {},
   "outputs": [],
   "source": [
    "a = datetime.datetime.now()\n",
    "a"
   ]
  },
  {
   "cell_type": "code",
   "execution_count": null,
   "metadata": {},
   "outputs": [],
   "source": [
    "a.time()"
   ]
  },
  {
   "cell_type": "code",
   "execution_count": null,
   "metadata": {},
   "outputs": [],
   "source": [
    "print(datetime.datetime(2021,5,20))\n",
    "print(datetime.datetime(2021, 5, 20,0,13,59))\n",
    "print(datetime.date(2021,5,20))"
   ]
  },
  {
   "cell_type": "code",
   "execution_count": null,
   "metadata": {},
   "outputs": [],
   "source": [
    "t0 = datetime.datetime.now()\n",
    "print(t0)"
   ]
  },
  {
   "cell_type": "code",
   "execution_count": null,
   "metadata": {},
   "outputs": [],
   "source": [
    "t1 = t0 + datetime.timedelta(hours=1)\n",
    "print(t1)"
   ]
  },
  {
   "cell_type": "code",
   "execution_count": null,
   "metadata": {},
   "outputs": [],
   "source": [
    "t2 = t0 + datetime.timedelta(days=1)\n",
    "print(t2)"
   ]
  },
  {
   "cell_type": "code",
   "execution_count": null,
   "metadata": {},
   "outputs": [],
   "source": [
    "import time"
   ]
  },
  {
   "cell_type": "code",
   "execution_count": null,
   "metadata": {},
   "outputs": [],
   "source": [
    "# Epoch time as seconds\n",
    "print(time.time())"
   ]
  },
  {
   "cell_type": "code",
   "execution_count": null,
   "metadata": {},
   "outputs": [],
   "source": [
    "n_sec = 3\n",
    "time.sleep(n_sec)\n",
    "print(\"I waited \",n_sec,\"seconds.\")"
   ]
  },
  {
   "cell_type": "markdown",
   "metadata": {},
   "source": [
    "### File Input/Output\n",
    "\n",
    "We can read from and write to files using \"file handles\" in python. This is the most basic type of file IO.\n",
    "\n",
    "* `open()`\n",
    "* `close()`"
   ]
  },
  {
   "cell_type": "code",
   "execution_count": null,
   "metadata": {},
   "outputs": [],
   "source": [
    "import csv"
   ]
  },
  {
   "cell_type": "code",
   "execution_count": null,
   "metadata": {},
   "outputs": [],
   "source": [
    "col2 = rand_list(4,\"randint\",1000,1500)\n",
    "col3 = rand_list(4,\"gauss\",700,300)\n",
    "t = [\"2020Q1\",\"2020Q2\",\"2020Q3\",\"2020Q4\"]\n",
    "\n",
    "data = list(zip(t,col2,col3))\n",
    "data"
   ]
  },
  {
   "cell_type": "code",
   "execution_count": null,
   "metadata": {},
   "outputs": [],
   "source": [
    "f = open(\"sales.csv\",mode=\"w\")\n",
    "writer = csv.writer(f)\n",
    "writer.writerows(data)\n",
    "f.close()"
   ]
  },
  {
   "cell_type": "code",
   "execution_count": null,
   "metadata": {},
   "outputs": [],
   "source": [
    "f = open(\"sales.csv\",mode=\"r\")\n",
    "print(f)\n",
    "print(type(f))"
   ]
  },
  {
   "cell_type": "code",
   "execution_count": null,
   "metadata": {},
   "outputs": [],
   "source": [
    "rd = csv.reader(f)\n",
    "for line in rd:\n",
    "    print(line)\n",
    "f.close()"
   ]
  },
  {
   "cell_type": "markdown",
   "metadata": {},
   "source": [
    "### `with` statement\n",
    "\n",
    "The safest way to read a file. Could be used on different cases than file IO too.\n",
    "\n",
    "1. `with` a_function `as` my_variable_name (call `__enter__` method)\n",
    "2. perform what is specified\n",
    "3. if computation is finished, exit (call `__exit__` method)"
   ]
  },
  {
   "cell_type": "code",
   "execution_count": null,
   "metadata": {},
   "outputs": [],
   "source": [
    "with open(\"sales.csv\",mode=\"w\") as f:\n",
    "    writer = csv.writer(f)\n",
    "    writer.writerows(data)"
   ]
  },
  {
   "cell_type": "code",
   "execution_count": null,
   "metadata": {},
   "outputs": [],
   "source": [
    "with open(\"sales.csv\",mode=\"r\") as f:\n",
    "    reader = csv.reader(f)\n",
    "    for line in reader:\n",
    "        print(line)"
   ]
  },
  {
   "cell_type": "code",
   "execution_count": null,
   "metadata": {},
   "outputs": [],
   "source": [
    "with open(\"sales.csv\",mode=\"r\") as f:\n",
    "    reader = csv.reader(f)\n",
    "    content = list(map(list,reader))\n",
    "\n",
    "content"
   ]
  },
  {
   "cell_type": "code",
   "execution_count": null,
   "metadata": {},
   "outputs": [],
   "source": [
    "with open(\"sales.csv\",mode=\"r\") as f:\n",
    "    reader = csv.reader(f)\n",
    "    content = map(list,reader) # <----- see the difference here\n",
    "\n",
    "list(content) # <--- now try to call it"
   ]
  },
  {
   "cell_type": "code",
   "execution_count": null,
   "metadata": {},
   "outputs": [],
   "source": [
    "import json"
   ]
  },
  {
   "cell_type": "code",
   "execution_count": null,
   "metadata": {},
   "outputs": [],
   "source": [
    "import urllib\n",
    "\n",
    "def request_random_user():\n",
    "    url = \"https://jsonplaceholder.typicode.com/users\"\n",
    "    response = urllib.request.urlopen(url)\n",
    "    return response.read().decode()\n",
    "\n",
    "raw_content = request_random_user()\n",
    "raw_content"
   ]
  },
  {
   "cell_type": "code",
   "execution_count": null,
   "metadata": {},
   "outputs": [],
   "source": [
    "print(raw_content)"
   ]
  },
  {
   "cell_type": "code",
   "execution_count": null,
   "metadata": {},
   "outputs": [],
   "source": [
    "content = json.loads(raw_content) # `eval()` would also do it for this case\n",
    "content"
   ]
  },
  {
   "cell_type": "code",
   "execution_count": null,
   "metadata": {},
   "outputs": [],
   "source": [
    "type(content)"
   ]
  },
  {
   "cell_type": "code",
   "execution_count": null,
   "metadata": {},
   "outputs": [],
   "source": [
    "type(content[0])"
   ]
  },
  {
   "cell_type": "code",
   "execution_count": null,
   "metadata": {},
   "outputs": [],
   "source": [
    "with open(\"users.json\",\"w\") as f:\n",
    "    json.dump(content,f)"
   ]
  },
  {
   "cell_type": "code",
   "execution_count": null,
   "metadata": {},
   "outputs": [],
   "source": [
    "with open(\"users.json\",\"r\") as f:\n",
    "    written_content = json.load(f)\n",
    "written_content"
   ]
  },
  {
   "cell_type": "code",
   "execution_count": null,
   "metadata": {
    "scrolled": true
   },
   "outputs": [],
   "source": [
    "# get what would have written to file if were to use `json.dump`\n",
    "raw = json.dumps(written_content)\n",
    "raw"
   ]
  },
  {
   "cell_type": "code",
   "execution_count": null,
   "metadata": {},
   "outputs": [],
   "source": [
    "# parse string as json file\n",
    "json.loads(raw)"
   ]
  },
  {
   "cell_type": "code",
   "execution_count": null,
   "metadata": {},
   "outputs": [],
   "source": [
    "import pickle"
   ]
  },
  {
   "cell_type": "code",
   "execution_count": null,
   "metadata": {},
   "outputs": [],
   "source": [
    "person = namedtuple(\"Person\",\"name,age\")\n",
    "\n",
    "a = 1,2,3,[4,5]\n",
    "data = {\n",
    "    \"person1\":[{\"a\",\"b\",\"c\"},(\"Lorem\",\"ipsum\",[29,range(10)])],\n",
    "    \"person1\":[a,{123,234,345,456}],\n",
    "    \"others\": map(str,a),\n",
    "    \"fun\":rand_list\n",
    "}"
   ]
  },
  {
   "cell_type": "code",
   "execution_count": null,
   "metadata": {},
   "outputs": [],
   "source": [
    "data"
   ]
  },
  {
   "cell_type": "code",
   "execution_count": null,
   "metadata": {},
   "outputs": [],
   "source": [
    "with open(\"complex_data.pickle\",mode=\"wb\") as f:\n",
    "    pickle.dump(data,f)"
   ]
  },
  {
   "cell_type": "code",
   "execution_count": null,
   "metadata": {},
   "outputs": [],
   "source": [
    "with open(\"complex_data.pickle\",mode=\"rb\") as f:\n",
    "    written_data = pickle.load(f)\n",
    "written_data"
   ]
  },
  {
   "cell_type": "code",
   "execution_count": null,
   "metadata": {},
   "outputs": [],
   "source": [
    "written_data['others']"
   ]
  },
  {
   "cell_type": "code",
   "execution_count": null,
   "metadata": {},
   "outputs": [],
   "source": [
    "list(written_data['others'])"
   ]
  },
  {
   "cell_type": "code",
   "execution_count": null,
   "metadata": {},
   "outputs": [],
   "source": [
    "written_data[\"fun\"]"
   ]
  },
  {
   "cell_type": "code",
   "execution_count": null,
   "metadata": {},
   "outputs": [],
   "source": [
    "myfun = written_data[\"fun\"]\n",
    "myfun(10,\"randint\",0,100)"
   ]
  },
  {
   "cell_type": "markdown",
   "metadata": {},
   "source": [
    "## Section 2: Object-oriented Programming\n",
    "\n",
    "Object Oriented programming (OOP) is a programming paradigm that relies on the concept of classes and objects. It is used to structure a software program into simple, reusable pieces of code blueprints (usually called classes), which are used to create individual instances of objects.\n",
    "\n",
    "### An object ...\n",
    "is a software bundle of related state and behavior. Software objects are often used to model the real-world objects that you find in everyday life.\n",
    "\n",
    "### A class ...\n",
    "is a blueprint or prototype from which objects are created."
   ]
  },
  {
   "cell_type": "code",
   "execution_count": null,
   "metadata": {},
   "outputs": [],
   "source": [
    "# the basic syntax\n",
    "class MyClass:\n",
    "    def __init__(self,arg1,arg2):\n",
    "        self.arg1 = arg1\n",
    "        self.arg2 = arg2\n",
    "    \n",
    "    def method1(self):\n",
    "        self.arg1 * 2\n",
    "        pass\n",
    "    \n",
    "    def method2(self,arguments):\n",
    "        pass"
   ]
  },
  {
   "cell_type": "markdown",
   "metadata": {},
   "source": [
    "### The role of `self`\n",
    "\n",
    "The `self` is used to represent the instance of the class. With this keyword, you can access the attributes and methods of the class in python. It binds the attributes with the given arguments."
   ]
  },
  {
   "cell_type": "code",
   "execution_count": null,
   "metadata": {},
   "outputs": [],
   "source": [
    "class Pet:\n",
    "    def __init__(self,name,age,breed=None):\n",
    "        self.name = name\n",
    "        self.age = age\n",
    "        self.breed = breed\n",
    "        \n",
    "my_cat = Pet(\"Fluffy\",4)\n",
    "\n",
    "print(my_cat.name)\n",
    "print(my_cat.age)\n",
    "print(my_cat.breed)"
   ]
  },
  {
   "cell_type": "code",
   "execution_count": null,
   "metadata": {},
   "outputs": [],
   "source": [
    "class Pet:\n",
    "    def __init__(self,name,age,breed=None,height=None,weight=None):\n",
    "        self.name = name\n",
    "        self.age = age\n",
    "        self.breed = breed\n",
    "        self.height = height\n",
    "        self.weight = weight\n",
    "        \n",
    "    def describe(self):\n",
    "        out = {\n",
    "            \"Name\":self.name,\n",
    "            \"Age\":self.age,\n",
    "        }\n",
    "        \n",
    "        if self.breed is not None:\n",
    "            out[\"Breed\"] = self.breed\n",
    "        \n",
    "        return out\n",
    "    \n",
    "    def display_info(self):\n",
    "        d = self.describe()\n",
    "        d = map(lambda s: \": \".join(map(str,s)),d.items())\n",
    "        print(\"\\n\".join(d))\n",
    "    \n",
    "    def is_valid(self):\n",
    "        if self.height is not None and self.weight is not None:\n",
    "            return 0 < self.height < 40 and 0.2 < self.weight < 20\n",
    "        else:\n",
    "            return None\n",
    "\n",
    "\n",
    "my_cat = Pet(\"Kitty\",4,\"Exotic Shorthair\",27,6)\n",
    "my_cat.is_valid()"
   ]
  },
  {
   "cell_type": "code",
   "execution_count": null,
   "metadata": {},
   "outputs": [],
   "source": [
    "my_cat.describe()"
   ]
  },
  {
   "cell_type": "code",
   "execution_count": null,
   "metadata": {},
   "outputs": [],
   "source": [
    "my_cat.display_info()"
   ]
  },
  {
   "cell_type": "markdown",
   "metadata": {},
   "source": [
    "### Leading underscores `_` and `__`\n",
    "\n",
    "A single underscore `_` is a weak \"internal use\" indicator and should be treated as a non-public part of the API. It should be considered an implementation detail and subject to change without notice.\n",
    "\n",
    "On the other hand, double underscore `__` prefix makes an attribute private.\n",
    "\n",
    "**A warning in the [docs](https://docs.python.org/3/tutorial/classes.html#private-variables):**\n",
    "\n",
    "> it still is possible to access or modify a variable that is considered private."
   ]
  },
  {
   "cell_type": "code",
   "execution_count": null,
   "metadata": {},
   "outputs": [],
   "source": [
    "class Pet:\n",
    "    def __init__(self,name,age):\n",
    "        self.name = name\n",
    "        self.age = age\n",
    "    \n",
    "    def describe(self):\n",
    "        print(\"Name:\",self.name)\n",
    "        print(\"Age:\",self.age)\n",
    "    \n",
    "    def _method(self):\n",
    "        print(\"Method name with single leading underscore.\")\n",
    "    \n",
    "    def __method(self):\n",
    "        print(\"Method name with double leading underscore.\")\n",
    "    \n",
    "    def method(self):\n",
    "        self.__method()"
   ]
  },
  {
   "cell_type": "code",
   "execution_count": null,
   "metadata": {},
   "outputs": [],
   "source": [
    "p = Pet(\"\",\"\")"
   ]
  },
  {
   "cell_type": "code",
   "execution_count": null,
   "metadata": {},
   "outputs": [],
   "source": [
    "p._method()"
   ]
  },
  {
   "cell_type": "code",
   "execution_count": null,
   "metadata": {},
   "outputs": [],
   "source": [
    "p.__method()"
   ]
  },
  {
   "cell_type": "code",
   "execution_count": null,
   "metadata": {},
   "outputs": [],
   "source": [
    "p.method()"
   ]
  },
  {
   "cell_type": "markdown",
   "metadata": {},
   "source": [
    "### Magic Methods"
   ]
  },
  {
   "cell_type": "code",
   "execution_count": null,
   "metadata": {},
   "outputs": [],
   "source": [
    "class Dataset:\n",
    "    def __init__(self,d):\n",
    "        self.d = d\n",
    "    \n",
    "    def __repr__(self):\n",
    "        out = \"\"\n",
    "        for row in self.d:\n",
    "            out += \",\".join(map(lambda s: str(s).rjust(4),row)) + \"\\n\"\n",
    "        \n",
    "        return out\n",
    "    \n",
    "    def __str__(self):\n",
    "        return self.__repr__()\n",
    "    \n",
    "    def __add__(self,other):\n",
    "        return self.d + other.d\n",
    "    \n",
    "    def __gt__(self,other):\n",
    "        if isinstance(other,(list,tuple,dict,set)):\n",
    "            return len(self.d) > len(other)\n",
    "        else:\n",
    "            return len(self.d) > len(other.d)"
   ]
  },
  {
   "cell_type": "code",
   "execution_count": null,
   "metadata": {},
   "outputs": [],
   "source": [
    "d = [rand_list(5,\"randint\",0,100) for _ in range(12)]\n",
    "d"
   ]
  },
  {
   "cell_type": "code",
   "execution_count": null,
   "metadata": {},
   "outputs": [],
   "source": [
    "ds = Dataset(d)\n",
    "ds"
   ]
  },
  {
   "cell_type": "code",
   "execution_count": null,
   "metadata": {},
   "outputs": [],
   "source": [
    "ds + ds"
   ]
  },
  {
   "cell_type": "code",
   "execution_count": null,
   "metadata": {},
   "outputs": [],
   "source": [
    "k = [rand_list(17,\"randint\",0,100) for _ in range(12)]\n",
    "ks = Dataset(k)\n",
    "\n",
    "ds > ks"
   ]
  },
  {
   "cell_type": "code",
   "execution_count": null,
   "metadata": {},
   "outputs": [],
   "source": [
    "class Array:\n",
    "    def __init__(self,d):\n",
    "        self.d = d\n",
    "    \n",
    "    def __repr__(self):\n",
    "        out = \"\"\n",
    "        for row in self.d:\n",
    "            out += \",\".join(map(lambda s: str(s).rjust(4),row)) + \"\\n\"\n",
    "        \n",
    "        return out\n",
    "    \n",
    "    def __str__(self):\n",
    "        return self.__repr__()\n",
    "    \n",
    "    def __add__(self,other):\n",
    "        out = []\n",
    "        for row1,row2 in zip(self.d,other.d):\n",
    "            tmp = map(sum,zip(row1,row2))\n",
    "            out.append(list(tmp))\n",
    "                \n",
    "        return out\n",
    "    \n",
    "    def __sub__(self,other):\n",
    "        out = []\n",
    "        for row1,row2 in zip(self.d,other.d):\n",
    "            tmp = map(lambda x: x[0] - x[1],zip(row1,row2))\n",
    "            out.append(list(tmp))\n",
    "                \n",
    "        return out\n",
    "    \n",
    "    def __mul__(self,other):\n",
    "        out = []\n",
    "        for row1,row2 in zip(self.d,other.d):\n",
    "            tmp = map(lambda x: x[0] * x[1],zip(row1,row2))\n",
    "            out.append(list(tmp))\n",
    "                \n",
    "        return out\n",
    "    \n",
    "    def __truediv__(self,other):\n",
    "        out = []\n",
    "        for row1,row2 in zip(self.d,other.d):\n",
    "            tmp = map(lambda x: x[0] / x[1],zip(row1,row2))\n",
    "            out.append(list(tmp))\n",
    "                \n",
    "        return out\n",
    "    \n",
    "    def __gt__(self,other):\n",
    "        return self.sum_elements() > other.sum_elements()\n",
    "    \n",
    "    def __ge__(self,other):\n",
    "        return self.sum_elements() >= other.sum_elements()\n",
    "    \n",
    "    def sum_elements(self):\n",
    "        return sum(map(sum,self.d))"
   ]
  },
  {
   "cell_type": "code",
   "execution_count": null,
   "metadata": {},
   "outputs": [],
   "source": [
    "d = [rand_list(17,\"randint\",20,100) for _ in range(12)]\n",
    "m = Array(d)\n",
    "m"
   ]
  },
  {
   "cell_type": "code",
   "execution_count": null,
   "metadata": {},
   "outputs": [],
   "source": [
    "m.sum_elements()"
   ]
  },
  {
   "cell_type": "code",
   "execution_count": null,
   "metadata": {},
   "outputs": [],
   "source": [
    "m + m"
   ]
  },
  {
   "cell_type": "code",
   "execution_count": null,
   "metadata": {},
   "outputs": [],
   "source": [
    "m - m"
   ]
  },
  {
   "cell_type": "code",
   "execution_count": null,
   "metadata": {},
   "outputs": [],
   "source": [
    "m * m"
   ]
  },
  {
   "cell_type": "code",
   "execution_count": null,
   "metadata": {},
   "outputs": [],
   "source": [
    "m / m"
   ]
  },
  {
   "cell_type": "code",
   "execution_count": null,
   "metadata": {},
   "outputs": [],
   "source": [
    "m > m"
   ]
  },
  {
   "cell_type": "code",
   "execution_count": null,
   "metadata": {},
   "outputs": [],
   "source": [
    "m >= m"
   ]
  },
  {
   "cell_type": "code",
   "execution_count": null,
   "metadata": {},
   "outputs": [],
   "source": [
    "dir(int)"
   ]
  },
  {
   "cell_type": "markdown",
   "metadata": {},
   "source": [
    "### A word on `closure` and `decorator` concepts\n",
    "\n",
    "A **closure** is function that returns another function which is defined in it. Thus, it is a function to create another function.\n",
    "\n",
    "* We must have a nested function (function inside a function).\n",
    "* The nested function must refer to a value defined in the enclosing function.\n",
    "* The enclosing function must return the nested function.\n",
    "\n",
    "A **decorator** is a closure that takes functions (i.e. `callable`) as arguments."
   ]
  },
  {
   "cell_type": "code",
   "execution_count": null,
   "metadata": {},
   "outputs": [],
   "source": [
    "# an example closure\n",
    "def harbinger(s):\n",
    "    \n",
    "    def message():\n",
    "        print(\"The message is:\")\n",
    "        print(s)\n",
    "        \n",
    "    return message"
   ]
  },
  {
   "cell_type": "code",
   "execution_count": null,
   "metadata": {},
   "outputs": [],
   "source": [
    "msg = harbinger(\"Good news!\")\n",
    "msg"
   ]
  },
  {
   "cell_type": "code",
   "execution_count": null,
   "metadata": {},
   "outputs": [],
   "source": [
    "msg()"
   ]
  },
  {
   "cell_type": "code",
   "execution_count": null,
   "metadata": {},
   "outputs": [],
   "source": [
    "# an example decorator\n",
    "def uppercase(function):\n",
    "    def wrapper(s):\n",
    "        func = function(s)\n",
    "        make_uppercase = func.upper()\n",
    "        return make_uppercase\n",
    "\n",
    "    return wrapper"
   ]
  },
  {
   "cell_type": "code",
   "execution_count": null,
   "metadata": {},
   "outputs": [],
   "source": [
    "def greetings(name):\n",
    "    return \"Hi \" + name\n",
    "\n",
    "greetings(\"friend\")"
   ]
  },
  {
   "cell_type": "code",
   "execution_count": null,
   "metadata": {},
   "outputs": [],
   "source": [
    "@uppercase\n",
    "def greetings(name):\n",
    "    return \"Hi \" + name\n",
    "\n",
    "greetings(\"friend\")"
   ]
  },
  {
   "cell_type": "code",
   "execution_count": null,
   "metadata": {},
   "outputs": [],
   "source": [
    "def size_check(function):\n",
    "    def wrapper(*args):\n",
    "        size_1, size_2 = len(args[0]), len(args[1])\n",
    "        if size_1 != size_2:\n",
    "            raise ValueError(\"Sizes do not match.\")\n",
    "        \n",
    "        return function(*args)\n",
    "    \n",
    "    return wrapper\n",
    "\n",
    "@size_check\n",
    "def add(a,b):\n",
    "    out = []\n",
    "    for row1,row2 in zip(a,b):\n",
    "        tmp = map(sum,zip(row1,row2))\n",
    "        out.append(list(tmp))\n",
    "    return out"
   ]
  },
  {
   "cell_type": "code",
   "execution_count": null,
   "metadata": {},
   "outputs": [],
   "source": [
    "a = [rand_list(5,\"randint\",0,100) for _ in range(12)]\n",
    "b = [rand_list(5,\"randint\",0,100) for _ in range(12)]\n",
    "add(a,b)"
   ]
  },
  {
   "cell_type": "code",
   "execution_count": null,
   "metadata": {},
   "outputs": [],
   "source": [
    "a = [rand_list(3,\"randint\",0,100) for _ in range(5)]\n",
    "b = [rand_list(3,\"expovariate\",0.1) for _ in range(5)]\n",
    "add(a,b)"
   ]
  },
  {
   "cell_type": "code",
   "execution_count": null,
   "metadata": {},
   "outputs": [],
   "source": [
    "a = [rand_list(3,\"gauss\",0,100) for _ in range(5)]\n",
    "b = [rand_list(3,\"expovariate\",0.1) for _ in range(7)]\n",
    "add(a,b)"
   ]
  },
  {
   "cell_type": "code",
   "execution_count": null,
   "metadata": {},
   "outputs": [],
   "source": [
    "def type_check(function):\n",
    "    def wrapper(*args):\n",
    "        e1, e2 = args[0][0][0], args[1][0][0]\n",
    "        if type(e1) != type(e2):\n",
    "            raise ValueError(\"Types do not match.\")\n",
    "        \n",
    "        return function(*args)\n",
    "    \n",
    "    return wrapper\n",
    "\n",
    "@type_check\n",
    "@size_check\n",
    "def add(a,b):\n",
    "    out = []\n",
    "    for row1,row2 in zip(a,b):\n",
    "        tmp = map(sum,zip(row1,row2))\n",
    "        out.append(list(tmp))\n",
    "    return out"
   ]
  },
  {
   "cell_type": "code",
   "execution_count": null,
   "metadata": {},
   "outputs": [],
   "source": [
    "a = [rand_list(5,\"randint\",0,100) for _ in range(12)]\n",
    "b = [rand_list(5,\"randint\",0,100) for _ in range(12)]\n",
    "add(a,b)"
   ]
  },
  {
   "cell_type": "code",
   "execution_count": null,
   "metadata": {},
   "outputs": [],
   "source": [
    "a = [rand_list(3,\"randint\",0,100) for _ in range(5)]\n",
    "b = [rand_list(3,\"expovariate\",0.1) for _ in range(5)]\n",
    "add(a,b)"
   ]
  },
  {
   "cell_type": "markdown",
   "metadata": {},
   "source": [
    "### `getter` and `setter` methods"
   ]
  },
  {
   "cell_type": "code",
   "execution_count": null,
   "metadata": {},
   "outputs": [],
   "source": [
    "# class getters, and setters\n",
    "class Pet:\n",
    "    def __init__(self,name,age):\n",
    "        self._name = name\n",
    "        self.age = age\n",
    "    \n",
    "    def describe(self):\n",
    "        print(\"Name:\",self.name)\n",
    "        print(\"Age:\",self.age)\n",
    "\n",
    "    @property\n",
    "    def name(self):\n",
    "        return self._name\n",
    "    \n",
    "    @name.setter\n",
    "    def name(self,s):\n",
    "        self._name = s\n",
    "        \n",
    "    @name.deleter\n",
    "    def name(self):\n",
    "        del self._name"
   ]
  },
  {
   "cell_type": "code",
   "execution_count": null,
   "metadata": {},
   "outputs": [],
   "source": [
    "a = Pet(\"Duman\",1.5)\n",
    "a.name"
   ]
  },
  {
   "cell_type": "code",
   "execution_count": null,
   "metadata": {},
   "outputs": [],
   "source": [
    "a.name = \"Smokey\"\n",
    "a.name"
   ]
  },
  {
   "cell_type": "code",
   "execution_count": null,
   "metadata": {},
   "outputs": [],
   "source": [
    "a.name = \"a\""
   ]
  },
  {
   "cell_type": "code",
   "execution_count": null,
   "metadata": {},
   "outputs": [],
   "source": [
    "# class getters, and setters\n",
    "class Pet:\n",
    "    def __init__(self,name,age):\n",
    "        self._name = name\n",
    "        self.age = age\n",
    "    \n",
    "    def describe(self):\n",
    "        print(\"Name:\",self.name)\n",
    "        print(\"Age:\",self.age)\n",
    "\n",
    "    @property\n",
    "    def name(self):\n",
    "        return self._name\n",
    "    \n",
    "    @name.setter\n",
    "    def name(self,s):\n",
    "        if len(s) < 2:\n",
    "            raise ValueError()\n",
    "            \n",
    "        self._name = s.capitalize()\n",
    "        \n",
    "    @name.deleter\n",
    "    def name(self):\n",
    "        del self._name"
   ]
  },
  {
   "cell_type": "code",
   "execution_count": null,
   "metadata": {},
   "outputs": [],
   "source": [
    "a = Pet(\"Duman\",1.5)\n",
    "a.name"
   ]
  },
  {
   "cell_type": "code",
   "execution_count": null,
   "metadata": {},
   "outputs": [],
   "source": [
    "a.name = \"smokey\"\n",
    "a.name"
   ]
  },
  {
   "cell_type": "code",
   "execution_count": null,
   "metadata": {},
   "outputs": [],
   "source": [
    "a.name = \"Y\"\n",
    "a.name"
   ]
  },
  {
   "cell_type": "markdown",
   "metadata": {},
   "source": [
    "### `classmethod` and `staticmethod`\n",
    "\n",
    "They do not require a class instance creation, and are bound to the class rather than its object. So, they are not dependent on the state of the object.\n",
    "\n",
    "The difference between a static method and a class method is:\n",
    "\n",
    "* Static method knows nothing about the class and just deals with the arguments.\n",
    "* Class method works with the class since its parameter is always the class itself."
   ]
  },
  {
   "cell_type": "code",
   "execution_count": null,
   "metadata": {},
   "outputs": [],
   "source": [
    "class SmartPhones:\n",
    "    brand = \"Apple\"\n",
    "    \n",
    "    def __init__(self,model):\n",
    "        self.model = model\n",
    "    \n",
    "    @classmethod\n",
    "    def change_brand(cls,new_brand):\n",
    "        cls.brand = new_brand"
   ]
  },
  {
   "cell_type": "code",
   "execution_count": null,
   "metadata": {},
   "outputs": [],
   "source": [
    "SmartPhones"
   ]
  },
  {
   "cell_type": "code",
   "execution_count": null,
   "metadata": {},
   "outputs": [],
   "source": [
    "SmartPhones.brand"
   ]
  },
  {
   "cell_type": "code",
   "execution_count": null,
   "metadata": {},
   "outputs": [],
   "source": [
    "SmartPhones.model"
   ]
  },
  {
   "cell_type": "code",
   "execution_count": null,
   "metadata": {},
   "outputs": [],
   "source": [
    "obj = SmartPhones(\"iphone\")\n",
    "obj.model"
   ]
  },
  {
   "cell_type": "code",
   "execution_count": null,
   "metadata": {},
   "outputs": [],
   "source": [
    "obj.brand"
   ]
  },
  {
   "cell_type": "code",
   "execution_count": null,
   "metadata": {},
   "outputs": [],
   "source": [
    "obj.change_brand(\"Samsung\")\n",
    "obj.brand"
   ]
  },
  {
   "cell_type": "code",
   "execution_count": null,
   "metadata": {},
   "outputs": [],
   "source": [
    "obj = SmartPhones(\"iphone\")\n",
    "obj.brand"
   ]
  },
  {
   "cell_type": "code",
   "execution_count": null,
   "metadata": {},
   "outputs": [],
   "source": [
    "SmartPhones.change_brand(\"Samsung\")"
   ]
  },
  {
   "cell_type": "code",
   "execution_count": null,
   "metadata": {},
   "outputs": [],
   "source": [
    "SmartPhones.brand"
   ]
  },
  {
   "cell_type": "code",
   "execution_count": null,
   "metadata": {},
   "outputs": [],
   "source": [
    "class SmartPhones:\n",
    "    brand = \"Apple\"\n",
    "    \n",
    "    def __init__(self,model):\n",
    "        self.model = model\n",
    "    \n",
    "    @staticmethod\n",
    "    def change_brand(cls,new_brand):\n",
    "        cls.brand = new_brand"
   ]
  },
  {
   "cell_type": "code",
   "execution_count": null,
   "metadata": {},
   "outputs": [],
   "source": [
    "SmartPhones.change_brand(\"Samsung\")"
   ]
  },
  {
   "cell_type": "code",
   "execution_count": null,
   "metadata": {},
   "outputs": [],
   "source": [
    "class SmartPhones:\n",
    "    brand = \"Apple\"\n",
    "    \n",
    "    def __init__(self,model):\n",
    "        self.model = model\n",
    "    \n",
    "    @classmethod\n",
    "    def change_brand(cls,new_brand):\n",
    "        cls.brand = new_brand\n",
    "    \n",
    "    @staticmethod\n",
    "    def screen_size(x):\n",
    "        hypo = (16**2 + 9**2)**(1/2)\n",
    "        e1 = (x/hypo) * 16\n",
    "        e2 = (x/hypo) * 9\n",
    "        return e1 * e2"
   ]
  },
  {
   "cell_type": "code",
   "execution_count": null,
   "metadata": {},
   "outputs": [],
   "source": [
    "SmartPhones.screen_size(12)"
   ]
  },
  {
   "cell_type": "code",
   "execution_count": null,
   "metadata": {},
   "outputs": [],
   "source": [
    "SmartPhones(\"iphone\").screen_size(12)"
   ]
  },
  {
   "cell_type": "code",
   "execution_count": null,
   "metadata": {},
   "outputs": [],
   "source": [
    "device = SmartPhones(\"iphone\")\n",
    "device.screen_size(17)"
   ]
  },
  {
   "cell_type": "markdown",
   "metadata": {},
   "source": [
    "### Inheritance\n",
    "\n",
    "We can group classes by their common features, into a **parent** class. We can create a new **child** class by taking the **parents'** features with the help of inheritance. Afterwards, we can add new features or change the existings ones.\n",
    "\n",
    "![](https://img-16.ccm2.net/_tbKjSTchfAOch80rBS73pJnS2s=/313x/506e368f623744669396580451bd6587/ccm-encyclopedia/poo-images-animaux.gif)\n",
    "\n",
    "![](https://upload.wikimedia.org/wikipedia/commons/thumb/d/d5/CPT-OOP-inheritance.svg/450px-CPT-OOP-inheritance.svg.png)\n",
    "\n",
    "![](https://www.edureka.co/blog/wp-content/uploads/2017/07/Types-of-Inheritance-1.jpg)"
   ]
  },
  {
   "cell_type": "code",
   "execution_count": null,
   "metadata": {},
   "outputs": [],
   "source": [
    "class Employee():\n",
    "    def __init__(self,name,salary,department):\n",
    "        self.name = name\n",
    "        self.salary = salary\n",
    "        self.department = department\n",
    "        self.id = random.randint(10000,99999)\n",
    "        \n",
    "    def showinfo(self):\n",
    "        print(\"Name:\",self.name)\n",
    "        print(\"Id:\",self.id)\n",
    "        print(\"Salary:\",self.salary)\n",
    "        print(\"Department:\",self.department)\n",
    "        \n",
    "    def change_department(self,new_department):\n",
    "        self.department = new_department"
   ]
  },
  {
   "cell_type": "code",
   "execution_count": null,
   "metadata": {},
   "outputs": [],
   "source": [
    "class Manager(Employee):\n",
    "    pass"
   ]
  },
  {
   "cell_type": "code",
   "execution_count": null,
   "metadata": {},
   "outputs": [],
   "source": [
    "Manager1 = Manager(\"Dave Johnson\",12000,\"Human Resources\")"
   ]
  },
  {
   "cell_type": "code",
   "execution_count": null,
   "metadata": {
    "scrolled": true
   },
   "outputs": [],
   "source": [
    "Manager1.showinfo()"
   ]
  },
  {
   "cell_type": "code",
   "execution_count": null,
   "metadata": {},
   "outputs": [],
   "source": [
    "Manager1.change_department(\"Finance\")"
   ]
  },
  {
   "cell_type": "code",
   "execution_count": null,
   "metadata": {},
   "outputs": [],
   "source": [
    "Manager1.showinfo()"
   ]
  },
  {
   "cell_type": "code",
   "execution_count": null,
   "metadata": {},
   "outputs": [],
   "source": [
    "class Manager(Employee):\n",
    "    def give_raise(self,raise_amount):\n",
    "        self.salary += raise_amount\n",
    "    \n",
    "    def create_team(self,members):\n",
    "        self.members = members"
   ]
  },
  {
   "cell_type": "code",
   "execution_count": null,
   "metadata": {},
   "outputs": [],
   "source": [
    "Manager2 = Manager(\"Rose Newman\",14000,\"IT\")"
   ]
  },
  {
   "cell_type": "code",
   "execution_count": null,
   "metadata": {
    "scrolled": true
   },
   "outputs": [],
   "source": [
    "Manager2.showinfo()"
   ]
  },
  {
   "cell_type": "code",
   "execution_count": null,
   "metadata": {},
   "outputs": [],
   "source": [
    "Manager2.give_raise(2000)"
   ]
  },
  {
   "cell_type": "code",
   "execution_count": null,
   "metadata": {},
   "outputs": [],
   "source": [
    "Manager2.showinfo()"
   ]
  },
  {
   "cell_type": "code",
   "execution_count": null,
   "metadata": {},
   "outputs": [],
   "source": [
    "e1 = Employee(\"Dennis Ritchie\",5000,\"IT\")\n",
    "e2 = Employee(\"Guido van Rossum\",5000,\"IT\")\n",
    "e3 = Employee(\"Richard Stallman\",5000,\"IT\")\n",
    "e4 = Employee(\"Linus Torvalds\",5000,\"IT\")\n",
    "\n",
    "Manager2.create_team([e1,e2,e3,e4])"
   ]
  },
  {
   "cell_type": "code",
   "execution_count": null,
   "metadata": {},
   "outputs": [],
   "source": [
    "Manager2.members"
   ]
  },
  {
   "cell_type": "code",
   "execution_count": null,
   "metadata": {},
   "outputs": [],
   "source": [
    "class Vehicle(object):\n",
    "    def __init__(self,topspeed,weight):\n",
    "        self.topspeed = topspeed\n",
    "        self.weight = weight\n",
    "    \n",
    "    def method1(self):\n",
    "        pass\n",
    "\n",
    "class Land(Vehicle):\n",
    "    def __init__(self,wheels,axles,*args,**kwargs):\n",
    "        self.wheels = wheels\n",
    "        self.axles = axles\n",
    "        super().__init__(*args,**kwargs)\n",
    "\n",
    "class Commercial(Vehicle):\n",
    "    def __init__(self,reduced_tax=True,*args,**kwargs):\n",
    "        super().__init__(*args,**kwargs)\n",
    "\n",
    "class Pickup(Land,Commercial):\n",
    "    def __init__(self,load_capacity,towing_capacity,*args,**kwargs):\n",
    "        self.load_capacity = load_capacity\n",
    "        self.towing_capacity = towing_capacity\n",
    "        super().__init__(*args,**kwargs)"
   ]
  },
  {
   "cell_type": "code",
   "execution_count": null,
   "metadata": {},
   "outputs": [],
   "source": [
    "myvehicle = Pickup(topspeed=120,weight=2.5,wheels=4,axles=2,load_capacity=1.2,towing_capacity=3)\n",
    "myvehicle"
   ]
  },
  {
   "cell_type": "code",
   "execution_count": null,
   "metadata": {},
   "outputs": [],
   "source": [
    "myvehicle.load_capacity"
   ]
  },
  {
   "cell_type": "code",
   "execution_count": null,
   "metadata": {},
   "outputs": [],
   "source": [
    "myvehicle.topspeed"
   ]
  },
  {
   "cell_type": "markdown",
   "metadata": {},
   "source": [
    "## Example Project"
   ]
  },
  {
   "cell_type": "code",
   "execution_count": null,
   "metadata": {},
   "outputs": [],
   "source": [
    "class RockPaperScissors:\n",
    "    def __init__(self,name,n_games):\n",
    "        self.name = name\n",
    "        self.n_games = n_games\n",
    "        self.n_played = 0\n",
    "        self.n_win = 0\n",
    "        self.n_loss = 0\n",
    "        self.n_draw = 0\n",
    "        self.objects = [\"Rock\",\"Scissors\",\"Paper\"]\n",
    "    \n",
    "    def shake(self):\n",
    "        out = random.choice(self.objects)\n",
    "        print(out)\n",
    "        return out\n",
    "    \n",
    "    def compare(self,a,b):\n",
    "        if a != b:\n",
    "            if a == \"Rock\" and b == \"Scissors\":\n",
    "                return True\n",
    "            elif a == \"Scissors\" and b == \"Paper\":\n",
    "                return True\n",
    "            elif a == \"Paper\" and b == \"Rock\":\n",
    "                return True\n",
    "            else:\n",
    "                return False\n",
    "        else:\n",
    "            return None\n",
    "    \n",
    "    def check_winner(self):\n",
    "        if self.n_played >= self.n_games:\n",
    "            print(\"Game has ended.\")\n",
    "            if self.n_win > self.n_loss:\n",
    "                print(self.name,\"has won!\")\n",
    "            elif self.n_win == self.n_loss:\n",
    "                print(\"Draw!\")\n",
    "            else:\n",
    "                print(self.name,\"has lost!\")\n",
    "\n",
    "    def __mul__(self,other):\n",
    "        r1 = self.shake()\n",
    "        r2 = other.shake()\n",
    "        left_win = self.compare(r1,r2)\n",
    "        \n",
    "        if left_win is not None:\n",
    "            if left_win:\n",
    "                self.n_win += 1\n",
    "            else:\n",
    "                self.n_loss += 1\n",
    "        else:\n",
    "            self.n_draw += 1\n",
    "            \n",
    "        self.n_played += 1\n",
    "        self.check_winner()\n",
    "                \n",
    "        return left_win"
   ]
  },
  {
   "cell_type": "code",
   "execution_count": null,
   "metadata": {},
   "outputs": [],
   "source": [
    "player1 = RockPaperScissors(\"Jimmy\",5)\n",
    "player2 = RockPaperScissors(\"Taylor\",5)"
   ]
  },
  {
   "cell_type": "code",
   "execution_count": null,
   "metadata": {},
   "outputs": [],
   "source": [
    "player1 * player2"
   ]
  },
  {
   "cell_type": "code",
   "execution_count": null,
   "metadata": {},
   "outputs": [],
   "source": [
    "n = 7\n",
    "player1 = RockPaperScissors(\"Jimmy\",n)\n",
    "player2 = RockPaperScissors(\"Taylor\",n)\n",
    "\n",
    "for i in range(n):\n",
    "    print(\"Round\",i + 1)\n",
    "    player1 * player2\n",
    "    print()"
   ]
  },
  {
   "cell_type": "markdown",
   "metadata": {},
   "source": [
    "## Project\n",
    "\n",
    "**Design a class from scratch, or convert one of the projects in the following list to object-oriented form. Do not hesitate to copy/paste open source code, take advantage of them if you need.**\n",
    "\n",
    "https://github.com/kyclark/tiny_python_projects\n",
    "\n",
    "https://github.com/Python-World/python-mini-projects/tree/master/projects\n",
    "\n",
    "https://github.com/rlvaugh/Impractical_Python_Projects\n",
    "\n",
    "**You can also diversify your project with following random apis:**\n",
    "\n",
    "https://random-data-api.com/\n",
    "\n",
    "https://jsonplaceholder.typicode.com/users\n",
    "\n",
    "you can find more api endpoints [here](https://www.programmableweb.com/category/random/api)."
   ]
  },
  {
   "cell_type": "markdown",
   "metadata": {},
   "source": [
    "## Prerequisite to Next Week: `numpy`\n",
    "\n",
    "Be sure to install numpy using `pip`, or `conda`.\n",
    "\n",
    "* `$pip install numpy`\n",
    "\n",
    "or\n",
    "\n",
    "\n",
    "* `$conda install numpy`\n",
    "\n",
    "or use Anaconda Navigator to install numpy module."
   ]
  },
  {
   "cell_type": "markdown",
   "metadata": {},
   "source": [
    "## References\n",
    "\n",
    "https://docs.python.org/3/library/\n",
    "\n",
    "https://docs.python.org/3/reference/import.html\n",
    "\n",
    "https://www.educative.io/blog/object-oriented-programming\n",
    "\n",
    "https://docs.oracle.com/javase/tutorial/java/concepts/index.html\n",
    "\n",
    "https://www.edureka.co/blog/self-in-python/\n",
    "\n",
    "https://www.python.org/dev/peps/pep-0008/\n",
    "\n",
    "https://docs.python.org/3/tutorial/classes.html#private-variables\n",
    "\n",
    "https://www.programiz.com/python-programming/closure\n",
    "\n",
    "https://www.programiz.com/python-programming/methods/built-in/staticmethod#:~:text=Static%20methods%2C%20much%20like%20class,the%20state%20of%20the%20object."
   ]
  },
  {
   "cell_type": "code",
   "execution_count": null,
   "metadata": {},
   "outputs": [],
   "source": []
  }
 ],
 "metadata": {
  "kernelspec": {
   "display_name": "Python 3",
   "language": "python",
   "name": "python3"
  },
  "language_info": {
   "codemirror_mode": {
    "name": "ipython",
    "version": 3
   },
   "file_extension": ".py",
   "mimetype": "text/x-python",
   "name": "python",
   "nbconvert_exporter": "python",
   "pygments_lexer": "ipython3",
   "version": "3.6.9"
  }
 },
 "nbformat": 4,
 "nbformat_minor": 4
}
