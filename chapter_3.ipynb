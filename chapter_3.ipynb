{
 "cells": [
  {
   "cell_type": "markdown",
   "metadata": {},
   "source": [
    "# Chapter 3\n",
    "\n",
    ".............\n",
    "\n",
    "## Learning Goals\n",
    "\n",
    "- Standard Library\n",
    "- Introduction to Object-oriented programming\n",
    "\n",
    "## Authors\n",
    "\n",
    "* Mert Candar\n",
    "* Aras Kahraman"
   ]
  },
  {
   "cell_type": "markdown",
   "metadata": {},
   "source": [
    "## Section 1: Standard Library\n",
    "\n",
    "A **module** in python is a systematic collection and organization of code blocks, namely, *the definitons and declarations* in order to perform a series of tasks about a domain, topic or problem. A module is usually composed of python scripts, text files, configuration files and folders. Structuring a module usually aims:\n",
    "\n",
    "* Simplicity of usage, and development\n",
    "\n",
    "We can denote several highly important advantages of using modules:\n",
    "\n",
    "* Computation efficiency\n",
    "* Clean code\n",
    "* Higher level of abstraction\n",
    "\n",
    "Thus, modules are almost a must-have tool for a python coder.\n",
    "\n",
    "**Standard library** consists of a number of python modules that comes with python by default. To list some of those:\n",
    "\n",
    "* re\n",
    "* datetime\n",
    "* collections\n",
    "* math\n",
    "* random\n",
    "* itertools\n",
    "* functools\n",
    "* pickle\n",
    "* csv\n",
    "* json\n",
    "* sys\n",
    "* time\n",
    "\n",
    "Find the full list [here](https://docs.python.org/3/library/)\n",
    "\n",
    "### `import` command\n",
    "\n",
    "We use `import` command to connect module to our script. Simply, `import` searches for the specified module and loads its content to memory. Thus, all of the imported objects of module are made available for usage.\n",
    "\n",
    "We can import:\n",
    "\n",
    "* modules\n",
    "* scripts\n",
    "* variables, functions and classes, simply any object, (of a script)\n",
    "\n",
    "There are several ways of import"
   ]
  },
  {
   "cell_type": "code",
   "execution_count": 9,
   "metadata": {},
   "outputs": [
    {
     "data": {
      "text/plain": [
       "1.2246467991473532e-16"
      ]
     },
     "execution_count": 9,
     "metadata": {},
     "output_type": "execute_result"
    }
   ],
   "source": [
    "import math\n",
    "\n",
    "math.sin(math.pi)"
   ]
  },
  {
   "cell_type": "code",
   "execution_count": 10,
   "metadata": {},
   "outputs": [
    {
     "data": {
      "text/plain": [
       "1.2246467991473532e-16"
      ]
     },
     "execution_count": 10,
     "metadata": {},
     "output_type": "execute_result"
    }
   ],
   "source": [
    "import math as mt\n",
    "\n",
    "mt.sin(math.pi)"
   ]
  },
  {
   "cell_type": "code",
   "execution_count": 11,
   "metadata": {},
   "outputs": [
    {
     "data": {
      "text/plain": [
       "1.2246467991473532e-16"
      ]
     },
     "execution_count": 11,
     "metadata": {},
     "output_type": "execute_result"
    }
   ],
   "source": [
    "from math import sin, pi\n",
    "\n",
    "sin(pi)"
   ]
  },
  {
   "cell_type": "code",
   "execution_count": null,
   "metadata": {},
   "outputs": [],
   "source": [
    "# not recommended\n",
    "from math import *\n",
    "\n",
    "sin(pi)"
   ]
  },
  {
   "cell_type": "markdown",
   "metadata": {},
   "source": [
    "### Modules"
   ]
  },
  {
   "cell_type": "code",
   "execution_count": 96,
   "metadata": {
    "scrolled": true
   },
   "outputs": [],
   "source": [
    "import math"
   ]
  },
  {
   "cell_type": "code",
   "execution_count": 97,
   "metadata": {},
   "outputs": [
    {
     "name": "stdout",
     "output_type": "stream",
     "text": [
      "1.0\n",
      "-1.0\n"
     ]
    }
   ],
   "source": [
    "pi = math.pi\n",
    "print(math.sin(pi/2))\n",
    "print(math.cos(pi))"
   ]
  },
  {
   "cell_type": "code",
   "execution_count": 98,
   "metadata": {},
   "outputs": [
    {
     "name": "stdout",
     "output_type": "stream",
     "text": [
      "1.5707963267948966\n",
      "3.141592653589793\n"
     ]
    }
   ],
   "source": [
    "print(math.asin(1))\n",
    "print(math.acos(-1))"
   ]
  },
  {
   "cell_type": "code",
   "execution_count": 99,
   "metadata": {
    "scrolled": true
   },
   "outputs": [
    {
     "name": "stdout",
     "output_type": "stream",
     "text": [
      "4\n",
      "-2\n"
     ]
    }
   ],
   "source": [
    "print(math.ceil(3.5))\n",
    "print(math.ceil(-2.3))"
   ]
  },
  {
   "cell_type": "code",
   "execution_count": 100,
   "metadata": {},
   "outputs": [
    {
     "name": "stdout",
     "output_type": "stream",
     "text": [
      "3\n",
      "-3\n"
     ]
    }
   ],
   "source": [
    "print(math.floor(3.5))\n",
    "print(math.floor(-2.3))"
   ]
  },
  {
   "cell_type": "code",
   "execution_count": 101,
   "metadata": {},
   "outputs": [
    {
     "data": {
      "text/plain": [
       "120"
      ]
     },
     "execution_count": 101,
     "metadata": {},
     "output_type": "execute_result"
    }
   ],
   "source": [
    "math.factorial(5)"
   ]
  },
  {
   "cell_type": "code",
   "execution_count": 102,
   "metadata": {},
   "outputs": [
    {
     "ename": "ValueError",
     "evalue": "factorial() only accepts integral values",
     "output_type": "error",
     "traceback": [
      "\u001b[0;31m---------------------------------------------------------------------------\u001b[0m",
      "\u001b[0;31mValueError\u001b[0m                                Traceback (most recent call last)",
      "\u001b[0;32m<ipython-input-102-c33b5f16a730>\u001b[0m in \u001b[0;36m<module>\u001b[0;34m\u001b[0m\n\u001b[0;32m----> 1\u001b[0;31m \u001b[0mmath\u001b[0m\u001b[0;34m.\u001b[0m\u001b[0mfactorial\u001b[0m\u001b[0;34m(\u001b[0m\u001b[0;36m5.12\u001b[0m\u001b[0;34m)\u001b[0m\u001b[0;34m\u001b[0m\u001b[0;34m\u001b[0m\u001b[0m\n\u001b[0m",
      "\u001b[0;31mValueError\u001b[0m: factorial() only accepts integral values"
     ]
    }
   ],
   "source": [
    "math.factorial(5.12)"
   ]
  },
  {
   "cell_type": "code",
   "execution_count": 103,
   "metadata": {},
   "outputs": [
    {
     "data": {
      "text/plain": [
       "120.0"
      ]
     },
     "execution_count": 103,
     "metadata": {},
     "output_type": "execute_result"
    }
   ],
   "source": [
    "math.gamma(6)"
   ]
  },
  {
   "cell_type": "code",
   "execution_count": 104,
   "metadata": {},
   "outputs": [
    {
     "data": {
      "text/plain": [
       "147.4548527269623"
      ]
     },
     "execution_count": 104,
     "metadata": {},
     "output_type": "execute_result"
    }
   ],
   "source": [
    "math.gamma(6.12)"
   ]
  },
  {
   "cell_type": "code",
   "execution_count": 109,
   "metadata": {},
   "outputs": [
    {
     "data": {
      "text/plain": [
       "2.995732273553991"
      ]
     },
     "execution_count": 109,
     "metadata": {},
     "output_type": "execute_result"
    }
   ],
   "source": [
    "math.log(20)"
   ]
  },
  {
   "cell_type": "code",
   "execution_count": 110,
   "metadata": {},
   "outputs": [
    {
     "data": {
      "text/plain": [
       "1.0"
      ]
     },
     "execution_count": 110,
     "metadata": {},
     "output_type": "execute_result"
    }
   ],
   "source": [
    "math.log(math.e)"
   ]
  },
  {
   "cell_type": "code",
   "execution_count": 111,
   "metadata": {},
   "outputs": [
    {
     "data": {
      "text/plain": [
       "1.0"
      ]
     },
     "execution_count": 111,
     "metadata": {},
     "output_type": "execute_result"
    }
   ],
   "source": [
    "math.log10(10)"
   ]
  },
  {
   "cell_type": "code",
   "execution_count": 112,
   "metadata": {},
   "outputs": [
    {
     "data": {
      "text/plain": [
       "6.0"
      ]
     },
     "execution_count": 112,
     "metadata": {},
     "output_type": "execute_result"
    }
   ],
   "source": [
    "math.log10(1e6)"
   ]
  },
  {
   "cell_type": "code",
   "execution_count": 113,
   "metadata": {},
   "outputs": [
    {
     "data": {
      "text/plain": [
       "3.0"
      ]
     },
     "execution_count": 113,
     "metadata": {},
     "output_type": "execute_result"
    }
   ],
   "source": [
    "math.log(8,2)"
   ]
  },
  {
   "cell_type": "code",
   "execution_count": 114,
   "metadata": {},
   "outputs": [
    {
     "data": {
      "text/plain": [
       "inf"
      ]
     },
     "execution_count": 114,
     "metadata": {},
     "output_type": "execute_result"
    }
   ],
   "source": [
    "math.inf"
   ]
  },
  {
   "cell_type": "code",
   "execution_count": 115,
   "metadata": {},
   "outputs": [
    {
     "data": {
      "text/plain": [
       "inf"
      ]
     },
     "execution_count": 115,
     "metadata": {},
     "output_type": "execute_result"
    }
   ],
   "source": [
    "math.log10(math.inf)"
   ]
  },
  {
   "cell_type": "code",
   "execution_count": 116,
   "metadata": {},
   "outputs": [
    {
     "data": {
      "text/plain": [
       "nan"
      ]
     },
     "execution_count": 116,
     "metadata": {},
     "output_type": "execute_result"
    }
   ],
   "source": [
    "math.nan"
   ]
  },
  {
   "cell_type": "code",
   "execution_count": 117,
   "metadata": {},
   "outputs": [
    {
     "data": {
      "text/plain": [
       "nan"
      ]
     },
     "execution_count": 117,
     "metadata": {},
     "output_type": "execute_result"
    }
   ],
   "source": [
    "math.log10(math.nan)"
   ]
  },
  {
   "cell_type": "code",
   "execution_count": 1,
   "metadata": {
    "scrolled": true
   },
   "outputs": [],
   "source": [
    "import random\n",
    "\n",
    "# number = int(input(\"Please guess a number\"))\n",
    "# rand_num = random.randrange(0,11)\n",
    "\n",
    "# while number != rand_num:\n",
    "#     if (number == rand_num): \n",
    "#         print( \"You got it!\")\n",
    "#         break\n",
    "#     if (number > rand_num):\n",
    "#         print(\"Wrong! You guessed too high\")\n",
    "#         break\n",
    "#     if (number < rand_num):\n",
    "#         print(\"Wrong! You guessed too low\")\n",
    "#         break\n",
    "# else:\n",
    "#     print(\"Please enter an integer between 1 and 10: \")"
   ]
  },
  {
   "cell_type": "code",
   "execution_count": 2,
   "metadata": {
    "scrolled": true
   },
   "outputs": [
    {
     "name": "stdout",
     "output_type": "stream",
     "text": [
      "Random number seed 1 :  0.13436424411240122\n",
      "Random number seed 1 :  0.13436424411240122\n",
      "Random number seed 2 :  0.9560342718892494\n",
      "Random number seed 2 :  0.9560342718892494\n",
      "Random number seed 3 :  0.23796462709189137\n",
      "Random number seed 4 :  0.23604808973743452\n"
     ]
    }
   ],
   "source": [
    "# random.seed(1)\n",
    "# print(\"Random number seed 1 : \", random.random())\n",
    "\n",
    "# random.seed(1)\n",
    "# print(\"Random number seed 1 : \", random.random())\n",
    "\n",
    "# random.seed(2)\n",
    "# print(\"Random number seed 2 : \", random.random())\n",
    "\n",
    "# random.seed(2)\n",
    "# print(\"Random number seed 2 : \", random.random())\n",
    "\n",
    "# random.seed(3)\n",
    "# print(\"Random number seed 3 : \", random.random())\n",
    "\n",
    "# random.seed(4)\n",
    "# print(\"Random number seed 4 : \", random.random())"
   ]
  },
  {
   "cell_type": "code",
   "execution_count": 3,
   "metadata": {},
   "outputs": [
    {
     "name": "stdout",
     "output_type": "stream",
     "text": [
      "Random number seed 1 :  0.13436424411240122\n"
     ]
    }
   ],
   "source": [
    "# random.seed(1)\n",
    "# print(\"Random number seed 1 : \", random.random())"
   ]
  },
  {
   "cell_type": "code",
   "execution_count": 4,
   "metadata": {
    "scrolled": true
   },
   "outputs": [
    {
     "name": "stdout",
     "output_type": "stream",
     "text": [
      "40\n",
      "25\n",
      "33\n"
     ]
    }
   ],
   "source": [
    "# for i in range(3):\n",
    "#     random.seed()\n",
    "#     print(random.randint(25,50))"
   ]
  },
  {
   "cell_type": "code",
   "execution_count": 5,
   "metadata": {},
   "outputs": [
    {
     "name": "stdout",
     "output_type": "stream",
     "text": [
      "29\n",
      "29\n",
      "29\n"
     ]
    }
   ],
   "source": [
    "# for i in range(3):\n",
    "#     random.seed(1)\n",
    "#     print(random.randint(25,50))"
   ]
  },
  {
   "cell_type": "code",
   "execution_count": 6,
   "metadata": {},
   "outputs": [
    {
     "name": "stdout",
     "output_type": "stream",
     "text": [
      "26\n",
      "26\n",
      "26\n"
     ]
    }
   ],
   "source": [
    "# for i in range(3):\n",
    "#     random.seed(2)\n",
    "#     print(random.randint(25,50))"
   ]
  },
  {
   "cell_type": "code",
   "execution_count": 141,
   "metadata": {},
   "outputs": [
    {
     "name": "stdout",
     "output_type": "stream",
     "text": [
      "102.57875151224394\n"
     ]
    }
   ],
   "source": [
    "mu = 100\n",
    "sigma = 20\n",
    "\n",
    "print(random.gauss(mu, sigma))"
   ]
  },
  {
   "cell_type": "code",
   "execution_count": 142,
   "metadata": {},
   "outputs": [
    {
     "name": "stdout",
     "output_type": "stream",
     "text": [
      "Changed list :  [664, 44, 22, 8]\n"
     ]
    }
   ],
   "source": [
    "lst = [8, 22, 44, 664]\n",
    "\n",
    "random.shuffle(lst)\n",
    "\n",
    "print(\"Changed list : \",  lst)"
   ]
  },
  {
   "cell_type": "code",
   "execution_count": 145,
   "metadata": {},
   "outputs": [
    {
     "data": {
      "text/plain": [
       "'Oliver'"
      ]
     },
     "execution_count": 145,
     "metadata": {},
     "output_type": "execute_result"
    }
   ],
   "source": [
    "lst = ['Dave', 'Oliver', 'Jane', 'Kirk', 'Samantha']\n",
    "random.choice(lst)"
   ]
  },
  {
   "cell_type": "code",
   "execution_count": 146,
   "metadata": {},
   "outputs": [
    {
     "data": {
      "text/plain": [
       "['Dave', 'Oliver']"
      ]
     },
     "execution_count": 146,
     "metadata": {},
     "output_type": "execute_result"
    }
   ],
   "source": [
    "random.sample(lst,2)"
   ]
  },
  {
   "cell_type": "code",
   "execution_count": 150,
   "metadata": {},
   "outputs": [
    {
     "data": {
      "text/plain": [
       "265"
      ]
     },
     "execution_count": 150,
     "metadata": {},
     "output_type": "execute_result"
    }
   ],
   "source": [
    "random.randint(45, 500)"
   ]
  },
  {
   "cell_type": "code",
   "execution_count": 151,
   "metadata": {},
   "outputs": [
    {
     "data": {
      "text/plain": [
       "30.154670461946818"
      ]
     },
     "execution_count": 151,
     "metadata": {},
     "output_type": "execute_result"
    }
   ],
   "source": [
    "random.uniform(5,100)"
   ]
  },
  {
   "cell_type": "code",
   "execution_count": 152,
   "metadata": {},
   "outputs": [
    {
     "data": {
      "text/plain": [
       "1.2481153511272867"
      ]
     },
     "execution_count": 152,
     "metadata": {},
     "output_type": "execute_result"
    }
   ],
   "source": [
    "random.uniform(0.5, 1.5)"
   ]
  },
  {
   "cell_type": "code",
   "execution_count": 153,
   "metadata": {},
   "outputs": [],
   "source": [
    "def rand_list(n,distribution=\"uniform\",*args,**kwargs):\n",
    "    fun = getattr(random,distribution)\n",
    "    map_fun = lambda x: fun(*args,**kwargs)\n",
    "    return list(map(map_fun,range(n)))"
   ]
  },
  {
   "cell_type": "code",
   "execution_count": 154,
   "metadata": {},
   "outputs": [
    {
     "data": {
      "text/plain": [
       "[-0.8783328003237133,\n",
       " 0.7347849049900745,\n",
       " 1.967766574508474,\n",
       " -2.222442914071265,\n",
       " -2.4785337788348323,\n",
       " 0.7716025500781777,\n",
       " -1.4714912808543155,\n",
       " -1.7323687755481045,\n",
       " 0.7899490834947852,\n",
       " 1.322176388832882]"
      ]
     },
     "execution_count": 154,
     "metadata": {},
     "output_type": "execute_result"
    }
   ],
   "source": [
    "rand_list(10,\"gauss\",0,1)"
   ]
  },
  {
   "cell_type": "code",
   "execution_count": 155,
   "metadata": {},
   "outputs": [
    {
     "data": {
      "text/plain": [
       "[1.8689546376313182,\n",
       " 2.292103191567417,\n",
       " 8.727048948909722,\n",
       " 5.2292994338333,\n",
       " 8.0460102571339,\n",
       " 7.602401636110474,\n",
       " 5.02585875004427,\n",
       " 9.499206647869778,\n",
       " 9.182565261651703,\n",
       " 5.681354280487376]"
      ]
     },
     "execution_count": 155,
     "metadata": {},
     "output_type": "execute_result"
    }
   ],
   "source": [
    "rand_list(10,\"uniform\",0,10)"
   ]
  },
  {
   "cell_type": "code",
   "execution_count": 156,
   "metadata": {},
   "outputs": [
    {
     "data": {
      "text/plain": [
       "[7, 3, 4, 3, 6, 6, 4, 2, 4, 6]"
      ]
     },
     "execution_count": 156,
     "metadata": {},
     "output_type": "execute_result"
    }
   ],
   "source": [
    "rand_list(10,\"randint\",0,10)"
   ]
  },
  {
   "cell_type": "code",
   "execution_count": 157,
   "metadata": {},
   "outputs": [],
   "source": [
    "def count_interval(x,l,u):\n",
    "    return sum(map(lambda e: e >= l and e <= u,x))\n",
    "    \n",
    "def histogram(x,bins=20):\n",
    "    l, u = min(x), max(x)\n",
    "    h = (u - l)/bins\n",
    "    breaks = [l+h*i for i in range(bins+1)]\n",
    "    count_consecutive = lambda i: count_interval(x,breaks[i],breaks[i+1])\n",
    "    return list(map(count_consecutive,range(20))), breaks\n",
    "\n",
    "def plot(x,max_char=50,*args,**kwargs):\n",
    "    counts, breaks = histogram(x,*args,**kwargs)\n",
    "    u = max(counts)/max_char\n",
    "    for c, b in zip(counts,breaks):\n",
    "        s = int(c/u)\n",
    "        print(str(round(b,2)).ljust(5),\"|\",s*\"#\")"
   ]
  },
  {
   "cell_type": "code",
   "execution_count": 158,
   "metadata": {},
   "outputs": [
    {
     "name": "stdout",
     "output_type": "stream",
     "text": [
      "0.0   | #############################################\n",
      "0.05  | ##############################################\n",
      "0.1   | ##########################################\n",
      "0.15  | ##################################################\n",
      "0.2   | ###########################################\n",
      "0.25  | #########################################\n",
      "0.3   | #############################################\n",
      "0.35  | ######################################\n",
      "0.4   | #########################################\n",
      "0.45  | #########################################\n",
      "0.5   | ############################################\n",
      "0.55  | ###########################################\n",
      "0.6   | #####################################\n",
      "0.65  | ############################################\n",
      "0.7   | #########################################\n",
      "0.75  | ########################################\n",
      "0.8   | ####################################\n",
      "0.85  | #####################################\n",
      "0.9   | #############################################\n",
      "0.95  | #########################################\n"
     ]
    }
   ],
   "source": [
    "data = rand_list(5000,\"uniform\",0,1)\n",
    "plot(data)"
   ]
  },
  {
   "cell_type": "code",
   "execution_count": 160,
   "metadata": {},
   "outputs": [
    {
     "name": "stdout",
     "output_type": "stream",
     "text": [
      "-3.73 | \n",
      "-3.34 | \n",
      "-2.95 | #\n",
      "-2.56 | ###\n",
      "-2.17 | #######\n",
      "-1.77 | #############\n",
      "-1.38 | ########################\n",
      "-0.99 | ####################################\n",
      "-0.6  | ############################################\n",
      "-0.21 | ##################################################\n",
      "0.18  | ################################################\n",
      "0.57  | #################################\n",
      "0.96  | ########################\n",
      "1.35  | ###############\n",
      "1.74  | ########\n",
      "2.13  | ##\n",
      "2.52  | \n",
      "2.91  | \n",
      "3.3   | \n",
      "3.69  | \n"
     ]
    }
   ],
   "source": [
    "data = rand_list(5000,\"gauss\",0,1)\n",
    "plot(data)"
   ]
  },
  {
   "cell_type": "code",
   "execution_count": 31,
   "metadata": {},
   "outputs": [
    {
     "name": "stdout",
     "output_type": "stream",
     "text": [
      "0.21  | #####\n",
      "0.48  | ###################################\n",
      "0.75  | ##################################################\n",
      "1.02  | ######################################\n",
      "1.29  | #######################\n",
      "1.56  | ###########\n",
      "1.83  | #####\n",
      "2.1   | ##\n",
      "2.38  | #\n",
      "2.65  | \n",
      "2.92  | \n",
      "3.19  | \n",
      "3.46  | \n",
      "3.73  | \n",
      "4.0   | \n",
      "4.27  | \n",
      "4.54  | \n",
      "4.81  | \n",
      "5.09  | \n",
      "5.36  | \n"
     ]
    }
   ],
   "source": [
    "data = rand_list(5000,\"lognormvariate\",0,0.4)\n",
    "plot(data)"
   ]
  },
  {
   "cell_type": "code",
   "execution_count": 32,
   "metadata": {},
   "outputs": [
    {
     "name": "stdout",
     "output_type": "stream",
     "text": [
      "0.0   | #################################################\n",
      "2.36  | ###############################\n",
      "4.72  | ##################\n",
      "7.08  | ############\n",
      "9.43  | #######\n",
      "11.79 | #####\n",
      "14.15 | ###\n",
      "16.51 | #\n",
      "18.87 | #\n",
      "21.23 | \n",
      "23.58 | \n",
      "25.94 | \n",
      "28.3  | \n",
      "30.66 | \n",
      "33.02 | \n",
      "35.37 | \n",
      "37.73 | \n",
      "40.09 | \n",
      "42.45 | \n",
      "44.81 | \n"
     ]
    }
   ],
   "source": [
    "data = rand_list(5000,\"gammavariate\",1,5)\n",
    "plot(data)"
   ]
  },
  {
   "cell_type": "code",
   "execution_count": 33,
   "metadata": {},
   "outputs": [
    {
     "name": "stdout",
     "output_type": "stream",
     "text": [
      "0.03  | \n",
      "0.03  | \n",
      "0.04  | \n",
      "0.04  | \n",
      "0.05  | #\n",
      "0.05  | ##\n",
      "0.06  | ###\n",
      "0.06  | #####\n",
      "0.07  | ###########\n",
      "0.07  | ##############\n",
      "0.08  | ###########################\n",
      "0.08  | ################################\n",
      "0.09  | ###########################################\n",
      "0.09  | ##################################################\n",
      "0.1   | ################################################\n",
      "0.1   | ############################################\n",
      "0.11  | ############################\n",
      "0.11  | ############\n",
      "0.12  | #####\n",
      "0.12  | #\n"
     ]
    }
   ],
   "source": [
    "data = rand_list(5000,\"weibullvariate\",0.1,8)\n",
    "plot(data)"
   ]
  },
  {
   "cell_type": "code",
   "execution_count": 162,
   "metadata": {},
   "outputs": [],
   "source": [
    "import statistics as ss"
   ]
  },
  {
   "cell_type": "code",
   "execution_count": 163,
   "metadata": {},
   "outputs": [
    {
     "name": "stdout",
     "output_type": "stream",
     "text": [
      "6.699517536036626\n"
     ]
    }
   ],
   "source": [
    "data = rand_list(20,\"gauss\",7,3)\n",
    "\n",
    "x = ss.mean(data)\n",
    "print(x)"
   ]
  },
  {
   "cell_type": "code",
   "execution_count": 164,
   "metadata": {},
   "outputs": [
    {
     "data": {
      "text/plain": [
       "7.072556446629133"
      ]
     },
     "execution_count": 164,
     "metadata": {},
     "output_type": "execute_result"
    }
   ],
   "source": [
    "data = rand_list(2000,\"gauss\",7,3)\n",
    "\n",
    "ss.mean(data)"
   ]
  },
  {
   "cell_type": "code",
   "execution_count": 165,
   "metadata": {},
   "outputs": [
    {
     "data": {
      "text/plain": [
       "7.051063700882047"
      ]
     },
     "execution_count": 165,
     "metadata": {},
     "output_type": "execute_result"
    }
   ],
   "source": [
    "ss.median(data)"
   ]
  },
  {
   "cell_type": "code",
   "execution_count": 167,
   "metadata": {},
   "outputs": [
    {
     "data": {
      "text/plain": [
       "8"
      ]
     },
     "execution_count": 167,
     "metadata": {},
     "output_type": "execute_result"
    }
   ],
   "source": [
    "ss.median([7, 8, 9])"
   ]
  },
  {
   "cell_type": "code",
   "execution_count": 168,
   "metadata": {},
   "outputs": [
    {
     "data": {
      "text/plain": [
       "8.5"
      ]
     },
     "execution_count": 168,
     "metadata": {},
     "output_type": "execute_result"
    }
   ],
   "source": [
    "ss.median([7, 8, 9, 15])"
   ]
  },
  {
   "cell_type": "code",
   "execution_count": 169,
   "metadata": {},
   "outputs": [
    {
     "data": {
      "text/plain": [
       "5"
      ]
     },
     "execution_count": 169,
     "metadata": {},
     "output_type": "execute_result"
    }
   ],
   "source": [
    "ss.median_low([1, 5, 7, 9])"
   ]
  },
  {
   "cell_type": "code",
   "execution_count": 170,
   "metadata": {},
   "outputs": [
    {
     "data": {
      "text/plain": [
       "7"
      ]
     },
     "execution_count": 170,
     "metadata": {},
     "output_type": "execute_result"
    }
   ],
   "source": [
    "ss.median_high([1, 5, 7, 9])"
   ]
  },
  {
   "cell_type": "code",
   "execution_count": 171,
   "metadata": {
    "scrolled": false
   },
   "outputs": [
    {
     "data": {
      "text/plain": [
       "3.0895182465722106"
      ]
     },
     "execution_count": 171,
     "metadata": {},
     "output_type": "execute_result"
    }
   ],
   "source": [
    "ss.stdev(data)"
   ]
  },
  {
   "cell_type": "code",
   "execution_count": 172,
   "metadata": {},
   "outputs": [
    {
     "data": {
      "text/plain": [
       "9.545122995902627"
      ]
     },
     "execution_count": 172,
     "metadata": {},
     "output_type": "execute_result"
    }
   ],
   "source": [
    "ss.variance(data)"
   ]
  },
  {
   "cell_type": "code",
   "execution_count": 173,
   "metadata": {},
   "outputs": [
    {
     "ename": "StatisticsError",
     "evalue": "no unique mode; found 2000 equally common values",
     "output_type": "error",
     "traceback": [
      "\u001b[0;31m---------------------------------------------------------------------------\u001b[0m",
      "\u001b[0;31mStatisticsError\u001b[0m                           Traceback (most recent call last)",
      "\u001b[0;32m<ipython-input-173-b9fa88eaa997>\u001b[0m in \u001b[0;36m<module>\u001b[0;34m\u001b[0m\n\u001b[0;32m----> 1\u001b[0;31m \u001b[0mss\u001b[0m\u001b[0;34m.\u001b[0m\u001b[0mmode\u001b[0m\u001b[0;34m(\u001b[0m\u001b[0mdata\u001b[0m\u001b[0;34m)\u001b[0m \u001b[0;31m# <------------------------------- MERT\u001b[0m\u001b[0;34m\u001b[0m\u001b[0;34m\u001b[0m\u001b[0m\n\u001b[0m",
      "\u001b[0;32m/usr/lib/python3.6/statistics.py\u001b[0m in \u001b[0;36mmode\u001b[0;34m(data)\u001b[0m\n\u001b[1;32m    505\u001b[0m     \u001b[0;32melif\u001b[0m \u001b[0mtable\u001b[0m\u001b[0;34m:\u001b[0m\u001b[0;34m\u001b[0m\u001b[0;34m\u001b[0m\u001b[0m\n\u001b[1;32m    506\u001b[0m         raise StatisticsError(\n\u001b[0;32m--> 507\u001b[0;31m                 \u001b[0;34m'no unique mode; found %d equally common values'\u001b[0m \u001b[0;34m%\u001b[0m \u001b[0mlen\u001b[0m\u001b[0;34m(\u001b[0m\u001b[0mtable\u001b[0m\u001b[0;34m)\u001b[0m\u001b[0;34m\u001b[0m\u001b[0;34m\u001b[0m\u001b[0m\n\u001b[0m\u001b[1;32m    508\u001b[0m                 )\n\u001b[1;32m    509\u001b[0m     \u001b[0;32melse\u001b[0m\u001b[0;34m:\u001b[0m\u001b[0;34m\u001b[0m\u001b[0;34m\u001b[0m\u001b[0m\n",
      "\u001b[0;31mStatisticsError\u001b[0m: no unique mode; found 2000 equally common values"
     ]
    }
   ],
   "source": [
    "ss.mode(data) # <------------------------------- MERT"
   ]
  },
  {
   "cell_type": "code",
   "execution_count": 174,
   "metadata": {},
   "outputs": [
    {
     "data": {
      "text/plain": [
       "[5,\n",
       " 11,\n",
       " 9,\n",
       " 3,\n",
       " 4,\n",
       " 1,\n",
       " 4,\n",
       " 3,\n",
       " 5,\n",
       " 3,\n",
       " 10,\n",
       " 12,\n",
       " 10,\n",
       " 1,\n",
       " 5,\n",
       " 4,\n",
       " 6,\n",
       " 3,\n",
       " 5,\n",
       " 7,\n",
       " 0,\n",
       " 8,\n",
       " 2,\n",
       " 5,\n",
       " 6,\n",
       " 4,\n",
       " 0,\n",
       " 4,\n",
       " 5,\n",
       " 10,\n",
       " 4,\n",
       " 6,\n",
       " 6,\n",
       " 14,\n",
       " 5,\n",
       " 3,\n",
       " 9,\n",
       " 7,\n",
       " 8,\n",
       " 4,\n",
       " 6,\n",
       " 10,\n",
       " 9,\n",
       " 5,\n",
       " 0,\n",
       " 6,\n",
       " 8,\n",
       " 5,\n",
       " 2,\n",
       " 7,\n",
       " -3,\n",
       " 2,\n",
       " 0,\n",
       " 2,\n",
       " 10,\n",
       " 10,\n",
       " 11,\n",
       " 9,\n",
       " 9,\n",
       " 2,\n",
       " 0,\n",
       " 9,\n",
       " 13,\n",
       " 7,\n",
       " 0,\n",
       " 6,\n",
       " 8,\n",
       " 8,\n",
       " 8,\n",
       " 9,\n",
       " 1,\n",
       " 11,\n",
       " 8,\n",
       " 3,\n",
       " 6,\n",
       " 10,\n",
       " 9,\n",
       " 1,\n",
       " 6,\n",
       " 11,\n",
       " 7,\n",
       " 11,\n",
       " 9,\n",
       " 8,\n",
       " 7,\n",
       " 10,\n",
       " 4,\n",
       " 5,\n",
       " 12,\n",
       " 7,\n",
       " 1,\n",
       " 7,\n",
       " 7,\n",
       " 6,\n",
       " 6,\n",
       " 1,\n",
       " 0,\n",
       " 4,\n",
       " 7,\n",
       " 6,\n",
       " 2,\n",
       " 6,\n",
       " 1,\n",
       " 6,\n",
       " 13,\n",
       " 5,\n",
       " 9,\n",
       " 10,\n",
       " 5,\n",
       " 1,\n",
       " 9,\n",
       " 12,\n",
       " 2,\n",
       " 5,\n",
       " 4,\n",
       " 1,\n",
       " 8,\n",
       " 6,\n",
       " 11,\n",
       " 8,\n",
       " 4,\n",
       " 10,\n",
       " 1,\n",
       " 5,\n",
       " 4,\n",
       " 2,\n",
       " 9,\n",
       " 8,\n",
       " 10,\n",
       " 7,\n",
       " 6,\n",
       " 8,\n",
       " 10,\n",
       " 8,\n",
       " 11,\n",
       " 2,\n",
       " 4,\n",
       " 4,\n",
       " 5,\n",
       " 5,\n",
       " 9,\n",
       " 5,\n",
       " 0,\n",
       " 8,\n",
       " 8,\n",
       " 3,\n",
       " 5,\n",
       " 0,\n",
       " 7,\n",
       " 8,\n",
       " 3,\n",
       " 4,\n",
       " 5,\n",
       " 4,\n",
       " 12,\n",
       " 9,\n",
       " 7,\n",
       " 5,\n",
       " 6,\n",
       " 3,\n",
       " 5,\n",
       " 5,\n",
       " 4,\n",
       " 6,\n",
       " 6,\n",
       " 6,\n",
       " 6,\n",
       " 6,\n",
       " 6,\n",
       " 7,\n",
       " 5,\n",
       " 4,\n",
       " 6,\n",
       " 8,\n",
       " 5,\n",
       " 8,\n",
       " 9,\n",
       " 6,\n",
       " 7,\n",
       " 6,\n",
       " 8,\n",
       " 7,\n",
       " 4,\n",
       " 9,\n",
       " 7,\n",
       " 7,\n",
       " 3,\n",
       " 4,\n",
       " 4,\n",
       " 8,\n",
       " 7,\n",
       " 10,\n",
       " 10,\n",
       " 2,\n",
       " 5,\n",
       " 7,\n",
       " 4,\n",
       " 10,\n",
       " 0,\n",
       " 4,\n",
       " 3,\n",
       " 3,\n",
       " 10,\n",
       " 3,\n",
       " 5,\n",
       " 6,\n",
       " 6,\n",
       " 9,\n",
       " 2,\n",
       " -1,\n",
       " 8,\n",
       " 4,\n",
       " 5,\n",
       " 5,\n",
       " 7,\n",
       " 5,\n",
       " 5,\n",
       " 6,\n",
       " 6,\n",
       " 6,\n",
       " 5,\n",
       " 6,\n",
       " 2,\n",
       " 8,\n",
       " 12,\n",
       " 8,\n",
       " 9,\n",
       " 1,\n",
       " 9,\n",
       " 6,\n",
       " 10,\n",
       " 8,\n",
       " 8,\n",
       " 7,\n",
       " 11,\n",
       " 2,\n",
       " 10,\n",
       " 9,\n",
       " 8,\n",
       " 4,\n",
       " 0,\n",
       " 10,\n",
       " 4,\n",
       " 7,\n",
       " 8,\n",
       " 6,\n",
       " 4,\n",
       " 8,\n",
       " 7,\n",
       " 7,\n",
       " 5,\n",
       " 2,\n",
       " 5,\n",
       " 3,\n",
       " 8,\n",
       " 6,\n",
       " 4,\n",
       " 11,\n",
       " 9,\n",
       " 9,\n",
       " 4,\n",
       " 9,\n",
       " 6,\n",
       " 8,\n",
       " 3,\n",
       " 2,\n",
       " 8,\n",
       " 4,\n",
       " 12,\n",
       " 10,\n",
       " 4,\n",
       " 2,\n",
       " 7,\n",
       " 1,\n",
       " 5,\n",
       " 0,\n",
       " 5,\n",
       " 5,\n",
       " 7,\n",
       " 5,\n",
       " 5,\n",
       " 7,\n",
       " 10,\n",
       " 7,\n",
       " 5,\n",
       " 4,\n",
       " 8,\n",
       " 4,\n",
       " 3,\n",
       " 4,\n",
       " 8,\n",
       " 6,\n",
       " 5,\n",
       " 0,\n",
       " 10,\n",
       " 7,\n",
       " 5,\n",
       " 11,\n",
       " 5,\n",
       " 4,\n",
       " 9,\n",
       " 12,\n",
       " 8,\n",
       " 6,\n",
       " 12,\n",
       " 6,\n",
       " 7,\n",
       " 4,\n",
       " 3,\n",
       " 7,\n",
       " 8,\n",
       " 9,\n",
       " 11,\n",
       " 11,\n",
       " 12,\n",
       " 6,\n",
       " 7,\n",
       " 6,\n",
       " 7,\n",
       " 3,\n",
       " 5,\n",
       " 9,\n",
       " 11,\n",
       " 7,\n",
       " 8,\n",
       " 2,\n",
       " 10,\n",
       " 6,\n",
       " 6,\n",
       " 7,\n",
       " 5,\n",
       " 6,\n",
       " 8,\n",
       " 8,\n",
       " 4,\n",
       " 7,\n",
       " 3,\n",
       " 9,\n",
       " 12,\n",
       " 9,\n",
       " 7,\n",
       " 8,\n",
       " 4,\n",
       " 8,\n",
       " 7,\n",
       " -1,\n",
       " 6,\n",
       " 8,\n",
       " 6,\n",
       " 12,\n",
       " 3,\n",
       " 6,\n",
       " 9,\n",
       " 6,\n",
       " 6,\n",
       " 9,\n",
       " 10,\n",
       " 10,\n",
       " 5,\n",
       " 9,\n",
       " 9,\n",
       " 9,\n",
       " 10,\n",
       " 0,\n",
       " 6,\n",
       " 7,\n",
       " 9,\n",
       " 8,\n",
       " 8,\n",
       " 9,\n",
       " 11,\n",
       " 8,\n",
       " 3,\n",
       " 7,\n",
       " 11,\n",
       " 7,\n",
       " 6,\n",
       " 5,\n",
       " 6,\n",
       " 8,\n",
       " 7,\n",
       " 8,\n",
       " 5,\n",
       " 3,\n",
       " 13,\n",
       " 6,\n",
       " 4,\n",
       " 10,\n",
       " 4,\n",
       " 3,\n",
       " 12,\n",
       " 7,\n",
       " 6,\n",
       " 0,\n",
       " 6,\n",
       " 12,\n",
       " 9,\n",
       " 9,\n",
       " 2,\n",
       " 14,\n",
       " 6,\n",
       " 2,\n",
       " 0,\n",
       " 6,\n",
       " 7,\n",
       " 5,\n",
       " -1,\n",
       " 4,\n",
       " 5,\n",
       " 9,\n",
       " 11,\n",
       " 2,\n",
       " 13,\n",
       " 5,\n",
       " 2,\n",
       " 8,\n",
       " 0,\n",
       " 10,\n",
       " 0,\n",
       " 7,\n",
       " 8,\n",
       " 7,\n",
       " 5,\n",
       " 2,\n",
       " 5,\n",
       " 3,\n",
       " 12,\n",
       " 4,\n",
       " 12,\n",
       " 4,\n",
       " 8,\n",
       " 6,\n",
       " 7,\n",
       " 5,\n",
       " 2,\n",
       " 9,\n",
       " 9,\n",
       " 6,\n",
       " 2,\n",
       " 3,\n",
       " 9,\n",
       " 8,\n",
       " 9,\n",
       " 4,\n",
       " 11,\n",
       " 4,\n",
       " 5,\n",
       " 8,\n",
       " 4,\n",
       " 4,\n",
       " 6,\n",
       " 7,\n",
       " 7,\n",
       " 9,\n",
       " 5,\n",
       " 6,\n",
       " 2,\n",
       " 12,\n",
       " 8,\n",
       " 12,\n",
       " 0,\n",
       " 9,\n",
       " 9,\n",
       " 8,\n",
       " 11,\n",
       " 7,\n",
       " 3,\n",
       " 4,\n",
       " 2,\n",
       " 8,\n",
       " 10,\n",
       " 7,\n",
       " 8,\n",
       " 6,\n",
       " 8,\n",
       " 7,\n",
       " 3,\n",
       " 7,\n",
       " 5,\n",
       " 9,\n",
       " 8,\n",
       " 11,\n",
       " 3,\n",
       " 9,\n",
       " 12,\n",
       " 6,\n",
       " 10,\n",
       " 11,\n",
       " 9,\n",
       " 7,\n",
       " 6,\n",
       " 9,\n",
       " 12,\n",
       " 1,\n",
       " 5,\n",
       " 10,\n",
       " 8,\n",
       " 10,\n",
       " 8,\n",
       " 8,\n",
       " 2,\n",
       " 5,\n",
       " 10,\n",
       " 9,\n",
       " 9,\n",
       " 4,\n",
       " 0,\n",
       " 4,\n",
       " 7,\n",
       " 7,\n",
       " 0,\n",
       " 4,\n",
       " 7,\n",
       " 4,\n",
       " 6,\n",
       " 4,\n",
       " 8,\n",
       " 8,\n",
       " 12,\n",
       " 4,\n",
       " 8,\n",
       " 13,\n",
       " 8,\n",
       " 9,\n",
       " 8,\n",
       " 5,\n",
       " 7,\n",
       " 8,\n",
       " 5,\n",
       " 3,\n",
       " 3,\n",
       " 6,\n",
       " 12,\n",
       " 10,\n",
       " 7,\n",
       " 7,\n",
       " 4,\n",
       " 7,\n",
       " 0,\n",
       " 5,\n",
       " 9,\n",
       " 8,\n",
       " 12,\n",
       " 4,\n",
       " 3,\n",
       " 8,\n",
       " 6,\n",
       " 12,\n",
       " 9,\n",
       " 6,\n",
       " 9,\n",
       " 3,\n",
       " 0,\n",
       " 2,\n",
       " 4,\n",
       " 6,\n",
       " 13,\n",
       " 10,\n",
       " 6,\n",
       " 6,\n",
       " 8,\n",
       " 7,\n",
       " 9,\n",
       " 5,\n",
       " 4,\n",
       " 4,\n",
       " 10,\n",
       " 8,\n",
       " 7,\n",
       " 7,\n",
       " 7,\n",
       " 8,\n",
       " 7,\n",
       " 7,\n",
       " 5,\n",
       " 5,\n",
       " 5,\n",
       " 4,\n",
       " 11,\n",
       " 7,\n",
       " 8,\n",
       " 8,\n",
       " 10,\n",
       " 8,\n",
       " 3,\n",
       " 11,\n",
       " 13,\n",
       " 8,\n",
       " 13,\n",
       " 13,\n",
       " 12,\n",
       " 6,\n",
       " 3,\n",
       " 2,\n",
       " 7,\n",
       " 8,\n",
       " 7,\n",
       " 9,\n",
       " 9,\n",
       " 6,\n",
       " 7,\n",
       " 5,\n",
       " 4,\n",
       " 11,\n",
       " 5,\n",
       " 6,\n",
       " 13,\n",
       " 9,\n",
       " 9,\n",
       " 6,\n",
       " 9,\n",
       " 8,\n",
       " 4,\n",
       " 7,\n",
       " 7,\n",
       " 2,\n",
       " 7,\n",
       " 14,\n",
       " 5,\n",
       " 4,\n",
       " 1,\n",
       " 8,\n",
       " 8,\n",
       " 9,\n",
       " 4,\n",
       " 3,\n",
       " 3,\n",
       " 7,\n",
       " 7,\n",
       " 8,\n",
       " 6,\n",
       " 8,\n",
       " 9,\n",
       " 1,\n",
       " 4,\n",
       " 6,\n",
       " 4,\n",
       " 5,\n",
       " 11,\n",
       " 10,\n",
       " 7,\n",
       " 3,\n",
       " 4,\n",
       " 5,\n",
       " 9,\n",
       " 8,\n",
       " 7,\n",
       " 6,\n",
       " 11,\n",
       " 12,\n",
       " 5,\n",
       " 10,\n",
       " 7,\n",
       " 0,\n",
       " 1,\n",
       " 12,\n",
       " 5,\n",
       " 7,\n",
       " 14,\n",
       " 9,\n",
       " 4,\n",
       " 11,\n",
       " 7,\n",
       " 6,\n",
       " 8,\n",
       " 8,\n",
       " 9,\n",
       " 2,\n",
       " 7,\n",
       " 4,\n",
       " 6,\n",
       " 5,\n",
       " 9,\n",
       " 11,\n",
       " 10,\n",
       " 9,\n",
       " 9,\n",
       " 2,\n",
       " 12,\n",
       " 11,\n",
       " 6,\n",
       " 6,\n",
       " 9,\n",
       " 12,\n",
       " 0,\n",
       " 6,\n",
       " 5,\n",
       " 8,\n",
       " 10,\n",
       " 8,\n",
       " 10,\n",
       " 6,\n",
       " 4,\n",
       " 7,\n",
       " 7,\n",
       " 9,\n",
       " 4,\n",
       " 0,\n",
       " 8,\n",
       " 8,\n",
       " 5,\n",
       " 6,\n",
       " 11,\n",
       " 12,\n",
       " 4,\n",
       " 3,\n",
       " 7,\n",
       " 7,\n",
       " 6,\n",
       " 3,\n",
       " 9,\n",
       " 10,\n",
       " 12,\n",
       " 8,\n",
       " 9,\n",
       " 8,\n",
       " 6,\n",
       " 4,\n",
       " 11,\n",
       " 5,\n",
       " 8,\n",
       " 12,\n",
       " 4,\n",
       " 6,\n",
       " 6,\n",
       " 3,\n",
       " 9,\n",
       " 2,\n",
       " 8,\n",
       " 12,\n",
       " 7,\n",
       " 8,\n",
       " 9,\n",
       " 6,\n",
       " 5,\n",
       " 7,\n",
       " 4,\n",
       " 11,\n",
       " 1,\n",
       " 8,\n",
       " 7,\n",
       " 5,\n",
       " 9,\n",
       " 9,\n",
       " 5,\n",
       " 7,\n",
       " 10,\n",
       " 4,\n",
       " 6,\n",
       " 9,\n",
       " 11,\n",
       " 6,\n",
       " 10,\n",
       " 8,\n",
       " 4,\n",
       " 3,\n",
       " 8,\n",
       " 8,\n",
       " 11,\n",
       " 7,\n",
       " 8,\n",
       " 11,\n",
       " 10,\n",
       " 5,\n",
       " 3,\n",
       " 0,\n",
       " 2,\n",
       " 3,\n",
       " 6,\n",
       " 12,\n",
       " 16,\n",
       " 6,\n",
       " 8,\n",
       " 9,\n",
       " 7,\n",
       " 5,\n",
       " 11,\n",
       " 9,\n",
       " 5,\n",
       " 5,\n",
       " 10,\n",
       " 6,\n",
       " 4,\n",
       " 0,\n",
       " 12,\n",
       " 7,\n",
       " 7,\n",
       " 5,\n",
       " -3,\n",
       " 7,\n",
       " 10,\n",
       " 4,\n",
       " 9,\n",
       " 8,\n",
       " 7,\n",
       " 7,\n",
       " 5,\n",
       " 8,\n",
       " 12,\n",
       " 6,\n",
       " 6,\n",
       " 9,\n",
       " 9,\n",
       " 8,\n",
       " 6,\n",
       " 7,\n",
       " 7,\n",
       " 9,\n",
       " 5,\n",
       " 1,\n",
       " 6,\n",
       " 5,\n",
       " 8,\n",
       " 8,\n",
       " 10,\n",
       " 9,\n",
       " 6,\n",
       " 7,\n",
       " 5,\n",
       " 8,\n",
       " 7,\n",
       " 9,\n",
       " 6,\n",
       " 7,\n",
       " 5,\n",
       " 5,\n",
       " 11,\n",
       " 0,\n",
       " 8,\n",
       " 4,\n",
       " 6,\n",
       " 7,\n",
       " 2,\n",
       " 13,\n",
       " 13,\n",
       " 5,\n",
       " 9,\n",
       " 8,\n",
       " 10,\n",
       " 12,\n",
       " 7,\n",
       " 3,\n",
       " 10,\n",
       " 4,\n",
       " 10,\n",
       " 9,\n",
       " 0,\n",
       " 6,\n",
       " 7,\n",
       " 7,\n",
       " 2,\n",
       " 9,\n",
       " 6,\n",
       " 5,\n",
       " 6,\n",
       " 5,\n",
       " 4,\n",
       " 0,\n",
       " 10,\n",
       " 8,\n",
       " 6,\n",
       " 6,\n",
       " 4,\n",
       " 10,\n",
       " 5,\n",
       " 6,\n",
       " 6,\n",
       " 5,\n",
       " 3,\n",
       " 7,\n",
       " 0,\n",
       " 1,\n",
       " 9,\n",
       " 8,\n",
       " 4,\n",
       " 10,\n",
       " 3,\n",
       " 5,\n",
       " -2,\n",
       " 4,\n",
       " 9,\n",
       " 1,\n",
       " 7,\n",
       " 4,\n",
       " 6,\n",
       " 6,\n",
       " 5,\n",
       " 6,\n",
       " 11,\n",
       " 9,\n",
       " 14,\n",
       " 6,\n",
       " 8,\n",
       " 7,\n",
       " 13,\n",
       " 8,\n",
       " 5,\n",
       " 5,\n",
       " 6,\n",
       " 8,\n",
       " 11,\n",
       " 8,\n",
       " 9,\n",
       " 6,\n",
       " 0,\n",
       " 6,\n",
       " 11,\n",
       " 7,\n",
       " 10,\n",
       " 7,\n",
       " 11,\n",
       " 7,\n",
       " 3,\n",
       " 5,\n",
       " 2,\n",
       " 8,\n",
       " 6,\n",
       " 3,\n",
       " 9,\n",
       " 6,\n",
       " 3,\n",
       " 6,\n",
       " 13,\n",
       " 7,\n",
       " 7,\n",
       " 4,\n",
       " 4,\n",
       " 5,\n",
       " 7,\n",
       " 9,\n",
       " 3,\n",
       " 9,\n",
       " 4,\n",
       " 7,\n",
       " 5,\n",
       " 6,\n",
       " 3,\n",
       " 7,\n",
       " 5,\n",
       " 10,\n",
       " 12,\n",
       " 10,\n",
       " 1,\n",
       " 5,\n",
       " 7,\n",
       " 13,\n",
       " 6,\n",
       " 5,\n",
       " 7,\n",
       " 9,\n",
       " 13,\n",
       " 5,\n",
       " 7,\n",
       " 8,\n",
       " 5,\n",
       " 9,\n",
       " 12,\n",
       " 6,\n",
       " 10,\n",
       " 8,\n",
       " 6,\n",
       " 5,\n",
       " 7,\n",
       " 5,\n",
       " 7,\n",
       " 5,\n",
       " 9,\n",
       " 6,\n",
       " 1,\n",
       " 8,\n",
       " 5,\n",
       " 4,\n",
       " 6,\n",
       " 12,\n",
       " 10,\n",
       " 6,\n",
       " 10,\n",
       " 9,\n",
       " 9,\n",
       " 9,\n",
       " 7,\n",
       " 10,\n",
       " 10,\n",
       " 10,\n",
       " 5,\n",
       " 3,\n",
       " 4,\n",
       " 6,\n",
       " 5,\n",
       " 8,\n",
       " 6,\n",
       " 6,\n",
       " 11,\n",
       " 8,\n",
       " 5,\n",
       " 4,\n",
       " 11,\n",
       " 3,\n",
       " 10,\n",
       " 10,\n",
       " ...]"
      ]
     },
     "execution_count": 174,
     "metadata": {},
     "output_type": "execute_result"
    }
   ],
   "source": [
    "data_int = map(int,data) # <------------------------------- MERT\n",
    "list(data_int)"
   ]
  },
  {
   "cell_type": "code",
   "execution_count": 175,
   "metadata": {},
   "outputs": [
    {
     "ename": "StatisticsError",
     "evalue": "no mode for empty data",
     "output_type": "error",
     "traceback": [
      "\u001b[0;31m---------------------------------------------------------------------------\u001b[0m",
      "\u001b[0;31mStatisticsError\u001b[0m                           Traceback (most recent call last)",
      "\u001b[0;32m<ipython-input-175-82bf18f7a090>\u001b[0m in \u001b[0;36m<module>\u001b[0;34m\u001b[0m\n\u001b[0;32m----> 1\u001b[0;31m \u001b[0mss\u001b[0m\u001b[0;34m.\u001b[0m\u001b[0mmode\u001b[0m\u001b[0;34m(\u001b[0m\u001b[0mlist\u001b[0m\u001b[0;34m(\u001b[0m\u001b[0mdata_int\u001b[0m\u001b[0;34m)\u001b[0m\u001b[0;34m)\u001b[0m\u001b[0;34m\u001b[0m\u001b[0;34m\u001b[0m\u001b[0m\n\u001b[0m",
      "\u001b[0;32m/usr/lib/python3.6/statistics.py\u001b[0m in \u001b[0;36mmode\u001b[0;34m(data)\u001b[0m\n\u001b[1;32m    508\u001b[0m                 )\n\u001b[1;32m    509\u001b[0m     \u001b[0;32melse\u001b[0m\u001b[0;34m:\u001b[0m\u001b[0;34m\u001b[0m\u001b[0;34m\u001b[0m\u001b[0m\n\u001b[0;32m--> 510\u001b[0;31m         \u001b[0;32mraise\u001b[0m \u001b[0mStatisticsError\u001b[0m\u001b[0;34m(\u001b[0m\u001b[0;34m'no mode for empty data'\u001b[0m\u001b[0;34m)\u001b[0m\u001b[0;34m\u001b[0m\u001b[0;34m\u001b[0m\u001b[0m\n\u001b[0m\u001b[1;32m    511\u001b[0m \u001b[0;34m\u001b[0m\u001b[0m\n\u001b[1;32m    512\u001b[0m \u001b[0;34m\u001b[0m\u001b[0m\n",
      "\u001b[0;31mStatisticsError\u001b[0m: no mode for empty data"
     ]
    }
   ],
   "source": [
    "ss.mode(list(data_int))"
   ]
  },
  {
   "cell_type": "code",
   "execution_count": 176,
   "metadata": {},
   "outputs": [
    {
     "data": {
      "text/plain": [
       "5"
      ]
     },
     "execution_count": 176,
     "metadata": {},
     "output_type": "execute_result"
    }
   ],
   "source": [
    "set1 =[1, 2, \"a\", \"3\", 5, 7, 4, \"a\", 5, 5]\n",
    "  \n",
    "ss.mode(set1)"
   ]
  },
  {
   "cell_type": "code",
   "execution_count": 177,
   "metadata": {},
   "outputs": [],
   "source": [
    "import collections"
   ]
  },
  {
   "cell_type": "code",
   "execution_count": 178,
   "metadata": {},
   "outputs": [],
   "source": [
    "person = collections.namedtuple(\"People\", \"name,age,job\")\n",
    "\n",
    "Dave = person(name=\"Dave\", age=\"32\", job=\"Data Scientist\")\n",
    "Oliver = person(name=\"Oliver\", age=\"35\", job=\"Software Developer\")"
   ]
  },
  {
   "cell_type": "code",
   "execution_count": 179,
   "metadata": {},
   "outputs": [
    {
     "name": "stdout",
     "output_type": "stream",
     "text": [
      "People(name='Dave', age='32', job='Data Scientist')\n"
     ]
    }
   ],
   "source": [
    "print(Dave)"
   ]
  },
  {
   "cell_type": "code",
   "execution_count": 78,
   "metadata": {},
   "outputs": [
    {
     "name": "stdout",
     "output_type": "stream",
     "text": [
      "32\n"
     ]
    }
   ],
   "source": [
    "print(Dave.age)"
   ]
  },
  {
   "cell_type": "code",
   "execution_count": 79,
   "metadata": {},
   "outputs": [
    {
     "name": "stdout",
     "output_type": "stream",
     "text": [
      "Software Developer\n"
     ]
    }
   ],
   "source": [
    "print(Oliver.job)"
   ]
  },
  {
   "cell_type": "code",
   "execution_count": 181,
   "metadata": {},
   "outputs": [
    {
     "name": "stdout",
     "output_type": "stream",
     "text": [
      "defaultdict(<class 'int'>, {'Leonard': 32, 'Joseph': 28, 'Jane': 0})\n"
     ]
    }
   ],
   "source": [
    "# workers_time = collections.defaultdict(int)\n",
    "\n",
    "# workers_time[\"Leonard\"] = 32\n",
    "# workers_time[\"Joseph\"] = 28\n",
    "# jane_worktime = workers_time[\"Jane\"]\n",
    "\n",
    "# print(workers_time)"
   ]
  },
  {
   "cell_type": "code",
   "execution_count": 183,
   "metadata": {},
   "outputs": [
    {
     "name": "stdout",
     "output_type": "stream",
     "text": [
      "defaultdict(<class 'list'>, {'Leonard': ['Editor'], 'Joseph': ['Author'], 'Jane': ['IT']})\n"
     ]
    }
   ],
   "source": [
    "workers_job = collections.defaultdict(list)\n",
    "\n",
    "workers_job[\"Leonard\"].append(\"Editor\")\n",
    "workers_job[\"Joseph\"].append(\"Author\")\n",
    "workers_job[\"Jane\"].append(\"IT\")\n",
    "\n",
    "print(workers_job)"
   ]
  },
  {
   "cell_type": "code",
   "execution_count": 184,
   "metadata": {},
   "outputs": [
    {
     "data": {
      "text/plain": [
       "[]"
      ]
     },
     "execution_count": 184,
     "metadata": {},
     "output_type": "execute_result"
    }
   ],
   "source": [
    "workers_job[\"Matthew\"]"
   ]
  },
  {
   "cell_type": "code",
   "execution_count": 185,
   "metadata": {},
   "outputs": [],
   "source": [
    "def count_words(s):\n",
    "    out = collections.defaultdict(lambda : 0)\n",
    "    for word in s.split():\n",
    "        out[word] += 1\n",
    "    return out"
   ]
  },
  {
   "cell_type": "code",
   "execution_count": 186,
   "metadata": {
    "scrolled": true
   },
   "outputs": [
    {
     "data": {
      "text/plain": [
       "defaultdict(<function __main__.count_words.<locals>.<lambda>()>,\n",
       "            {'\"Lorem': 1,\n",
       "             'ipsum': 3,\n",
       "             'dolor': 3,\n",
       "             'sit': 2,\n",
       "             'amet,': 2,\n",
       "             'consectetur': 2,\n",
       "             'adipiscing': 2,\n",
       "             'elit.': 2,\n",
       "             'Integer': 1,\n",
       "             'vestibulum': 1,\n",
       "             'sodales': 1,\n",
       "             'tortor,': 1,\n",
       "             'vitae': 1,\n",
       "             'vulputate': 1,\n",
       "             'posuere': 1,\n",
       "             'quis.': 1,\n",
       "             'Praesent': 1,\n",
       "             'ut': 1,\n",
       "             'lorem': 1,\n",
       "             'nec': 1,\n",
       "             'metus': 1,\n",
       "             'finibus': 1,\n",
       "             'tincidunt.': 1,\n",
       "             'Donec': 1,\n",
       "             'est': 1,\n",
       "             'nunc,': 1,\n",
       "             'varius': 2,\n",
       "             'vel': 1,\n",
       "             'lobortis': 1,\n",
       "             'nec,': 1,\n",
       "             'viverra': 1,\n",
       "             'ac': 1,\n",
       "             'sapien.': 1,\n",
       "             'Quisque': 1,\n",
       "             'blandit': 1,\n",
       "             'in': 1,\n",
       "             'massa': 2,\n",
       "             'porttitor': 1,\n",
       "             'faucibus.': 1,\n",
       "             'Orci': 1,\n",
       "             'natoque': 1,\n",
       "             'penatibus': 1,\n",
       "             'et': 1,\n",
       "             'magnis': 1,\n",
       "             'dis': 1,\n",
       "             'parturient': 1,\n",
       "             'montes,': 1,\n",
       "             'nascetur': 1,\n",
       "             'ridiculus': 1,\n",
       "             'mus.': 1,\n",
       "             'Lorem': 1,\n",
       "             'Vivamus': 1,\n",
       "             'auctor': 1,\n",
       "             'mi': 1,\n",
       "             'quis': 1,\n",
       "             'suscipit': 1,\n",
       "             'pharetra.\"': 1})"
      ]
     },
     "execution_count": 186,
     "metadata": {},
     "output_type": "execute_result"
    }
   ],
   "source": [
    "s = \"\"\"\n",
    "\"Lorem ipsum dolor sit amet, consectetur adipiscing elit. Integer vestibulum sodales tortor, vitae vulputate \n",
    "dolor posuere quis. Praesent ut lorem nec metus finibus tincidunt. Donec est nunc, varius vel lobortis nec, \n",
    "viverra ac sapien. Quisque blandit ipsum in massa porttitor faucibus. Orci varius natoque penatibus et magnis \n",
    "dis parturient montes, nascetur ridiculus mus. Lorem ipsum dolor sit amet, consectetur adipiscing elit. Vivamus\n",
    "auctor mi quis massa suscipit pharetra.\"\n",
    "\"\"\"\n",
    "count_words(s)"
   ]
  },
  {
   "cell_type": "code",
   "execution_count": 84,
   "metadata": {},
   "outputs": [
    {
     "data": {
      "text/plain": [
       "15"
      ]
     },
     "execution_count": 84,
     "metadata": {},
     "output_type": "execute_result"
    }
   ],
   "source": [
    "from functools import reduce\n",
    "\n",
    "reduce(lambda x, y: x+y, [1, 2, 3, 4, 5])"
   ]
  },
  {
   "cell_type": "code",
   "execution_count": 85,
   "metadata": {},
   "outputs": [
    {
     "data": {
      "text/plain": [
       "15"
      ]
     },
     "execution_count": 85,
     "metadata": {},
     "output_type": "execute_result"
    }
   ],
   "source": [
    "((((1+2)+3)+4)+5)"
   ]
  },
  {
   "cell_type": "code",
   "execution_count": null,
   "metadata": {},
   "outputs": [],
   "source": [
    "### TODO: ARAS: MORE EXAMPLES ON REDUCE <-----------------------------------------"
   ]
  },
  {
   "cell_type": "code",
   "execution_count": 241,
   "metadata": {},
   "outputs": [],
   "source": [
    "import itertools"
   ]
  },
  {
   "cell_type": "code",
   "execution_count": 192,
   "metadata": {},
   "outputs": [
    {
     "name": "stdout",
     "output_type": "stream",
     "text": [
      "[1, 3, 5, 7, 2, 4, 6, 8]\n"
     ]
    }
   ],
   "source": [
    "list_odd = [1, 3, 5, 7]\n",
    "list_even = [2, 4, 6, 8]\n",
    "\n",
    "numbers = list(itertools.chain(list_odd, list_even))\n",
    "\n",
    "print(numbers)"
   ]
  },
  {
   "cell_type": "code",
   "execution_count": 194,
   "metadata": {},
   "outputs": [
    {
     "data": {
      "text/plain": [
       "[1, 3, 5, 7, 2, 4, 6, 8, 2, 4, 6, 8, 2, 4, 6, 8]"
      ]
     },
     "execution_count": 194,
     "metadata": {},
     "output_type": "execute_result"
    }
   ],
   "source": [
    "list(itertools.chain(list_odd, list_even,list_even,list_even))"
   ]
  },
  {
   "cell_type": "code",
   "execution_count": 195,
   "metadata": {},
   "outputs": [
    {
     "data": {
      "text/plain": [
       "[(1, 1, 3, 3), (1, 1, 3, 3), (1, 1, 3, 3), (1, 3, 3, 3), (1, 3, 3, 3)]"
      ]
     },
     "execution_count": 195,
     "metadata": {},
     "output_type": "execute_result"
    }
   ],
   "source": [
    "A = [1,1,3,3,3]\n",
    "\n",
    "list(itertools.combinations(A,4))"
   ]
  },
  {
   "cell_type": "code",
   "execution_count": 198,
   "metadata": {},
   "outputs": [
    {
     "data": {
      "text/plain": [
       "['a b c',\n",
       " 'a b d',\n",
       " 'a b e',\n",
       " 'a b f',\n",
       " 'a c d',\n",
       " 'a c e',\n",
       " 'a c f',\n",
       " 'a d e',\n",
       " 'a d f',\n",
       " 'a e f',\n",
       " 'b c d',\n",
       " 'b c e',\n",
       " 'b c f',\n",
       " 'b d e',\n",
       " 'b d f',\n",
       " 'b e f',\n",
       " 'c d e',\n",
       " 'c d f',\n",
       " 'c e f',\n",
       " 'd e f']"
      ]
     },
     "execution_count": 198,
     "metadata": {},
     "output_type": "execute_result"
    }
   ],
   "source": [
    "letters =\"abcdef\"\n",
    "\n",
    "[' '.join(i) for i in itertools.combinations(letters, 3)]"
   ]
  },
  {
   "cell_type": "code",
   "execution_count": 200,
   "metadata": {},
   "outputs": [
    {
     "data": {
      "text/plain": [
       "[('a', 'b'),\n",
       " ('a', 'c'),\n",
       " ('a', 'd'),\n",
       " ('a', 'e'),\n",
       " ('a', 'f'),\n",
       " ('b', 'c'),\n",
       " ('b', 'd'),\n",
       " ('b', 'e'),\n",
       " ('b', 'f'),\n",
       " ('c', 'd'),\n",
       " ('c', 'e'),\n",
       " ('c', 'f'),\n",
       " ('d', 'e'),\n",
       " ('d', 'f'),\n",
       " ('e', 'f')]"
      ]
     },
     "execution_count": 200,
     "metadata": {},
     "output_type": "execute_result"
    }
   ],
   "source": [
    "list(itertools.combinations(letters, 2))"
   ]
  },
  {
   "cell_type": "code",
   "execution_count": 201,
   "metadata": {},
   "outputs": [
    {
     "data": {
      "text/plain": [
       "[('a', 'a'),\n",
       " ('a', 'b'),\n",
       " ('a', 'c'),\n",
       " ('a', 'd'),\n",
       " ('a', 'e'),\n",
       " ('a', 'f'),\n",
       " ('b', 'b'),\n",
       " ('b', 'c'),\n",
       " ('b', 'd'),\n",
       " ('b', 'e'),\n",
       " ('b', 'f'),\n",
       " ('c', 'c'),\n",
       " ('c', 'd'),\n",
       " ('c', 'e'),\n",
       " ('c', 'f'),\n",
       " ('d', 'd'),\n",
       " ('d', 'e'),\n",
       " ('d', 'f'),\n",
       " ('e', 'e'),\n",
       " ('e', 'f'),\n",
       " ('f', 'f')]"
      ]
     },
     "execution_count": 201,
     "metadata": {},
     "output_type": "execute_result"
    }
   ],
   "source": [
    "list(itertools.combinations_with_replacement(letters, 2))"
   ]
  },
  {
   "cell_type": "code",
   "execution_count": 205,
   "metadata": {},
   "outputs": [
    {
     "data": {
      "text/plain": [
       "[('1', '4', '7'),\n",
       " ('1', '7', '4'),\n",
       " ('4', '1', '7'),\n",
       " ('4', '7', '1'),\n",
       " ('7', '1', '4'),\n",
       " ('7', '4', '1')]"
      ]
     },
     "execution_count": 205,
     "metadata": {},
     "output_type": "execute_result"
    }
   ],
   "source": [
    "a = \"147\"\n",
    "\n",
    "list(itertools.permutations(a))"
   ]
  },
  {
   "cell_type": "code",
   "execution_count": 224,
   "metadata": {},
   "outputs": [],
   "source": [
    "d = [1,1,4,1,2,41,1,2,2,41]\n",
    "d.sort()"
   ]
  },
  {
   "cell_type": "code",
   "execution_count": 226,
   "metadata": {},
   "outputs": [
    {
     "name": "stdout",
     "output_type": "stream",
     "text": [
      "1 4\n",
      "2 3\n",
      "4 1\n",
      "41 2\n"
     ]
    }
   ],
   "source": [
    "for i,k in itertools.groupby(d):\n",
    "    print(i,len(list(k)))"
   ]
  },
  {
   "cell_type": "code",
   "execution_count": null,
   "metadata": {},
   "outputs": [],
   "source": [
    "## TODO: ARAS GROUPBY EXAMPLE <-----------------"
   ]
  },
  {
   "cell_type": "code",
   "execution_count": 227,
   "metadata": {},
   "outputs": [],
   "source": [
    "# stocks = {\"PC\":10,\"PS\":16,\"TV\":16,\"Printer\":22,\"Modem\":10,\"Phone\":8}\n",
    "\n",
    "# a = list(itertools.groupby(stocks.items()), key=lambda x:x[1])\n",
    "\n",
    "# for k,v in a:\n",
    "#     print(k, list(v))"
   ]
  },
  {
   "cell_type": "code",
   "execution_count": 229,
   "metadata": {},
   "outputs": [
    {
     "data": {
      "text/plain": [
       "[('a', 'X'),\n",
       " ('a', 'Y'),\n",
       " ('a', 'Z'),\n",
       " ('b', 'X'),\n",
       " ('b', 'Y'),\n",
       " ('b', 'Z'),\n",
       " ('c', 'X'),\n",
       " ('c', 'Y'),\n",
       " ('c', 'Z')]"
      ]
     },
     "execution_count": 229,
     "metadata": {},
     "output_type": "execute_result"
    }
   ],
   "source": [
    "l1 = ['a', 'b', 'c']\n",
    "l2 = ['X', 'Y', 'Z']\n",
    "\n",
    "list(itertools.product(l1, l2))"
   ]
  },
  {
   "cell_type": "code",
   "execution_count": 237,
   "metadata": {},
   "outputs": [
    {
     "name": "stdout",
     "output_type": "stream",
     "text": [
      "All the permutations of the given list is:\n"
     ]
    },
    {
     "data": {
      "text/plain": [
       "[('science', 'data'),\n",
       " ('science', 'analysis'),\n",
       " ('science', 'analytics'),\n",
       " ('data', 'science'),\n",
       " ('data', 'analysis'),\n",
       " ('data', 'analytics'),\n",
       " ('analysis', 'science'),\n",
       " ('analysis', 'data'),\n",
       " ('analysis', 'analytics'),\n",
       " ('analytics', 'science'),\n",
       " ('analytics', 'data'),\n",
       " ('analytics', 'analysis')]"
      ]
     },
     "execution_count": 237,
     "metadata": {},
     "output_type": "execute_result"
    }
   ],
   "source": [
    "list(itertools.permutations([\"science\", 'data',\"analysis\",\"analytics\"], 2))"
   ]
  },
  {
   "cell_type": "code",
   "execution_count": 239,
   "metadata": {},
   "outputs": [
    {
     "data": {
      "text/plain": [
       "[('X', 'Y', 'Z'),\n",
       " ('X', 'Z', 'Y'),\n",
       " ('Y', 'X', 'Z'),\n",
       " ('Y', 'Z', 'X'),\n",
       " ('Z', 'X', 'Y'),\n",
       " ('Z', 'Y', 'X')]"
      ]
     },
     "execution_count": 239,
     "metadata": {},
     "output_type": "execute_result"
    }
   ],
   "source": [
    "list(itertools.permutations('XYZ'))"
   ]
  },
  {
   "cell_type": "code",
   "execution_count": 240,
   "metadata": {},
   "outputs": [
    {
     "data": {
      "text/plain": [
       "[(0, 1),\n",
       " (0, 2),\n",
       " (0, 3),\n",
       " (0, 4),\n",
       " (1, 0),\n",
       " (1, 2),\n",
       " (1, 3),\n",
       " (1, 4),\n",
       " (2, 0),\n",
       " (2, 1),\n",
       " (2, 3),\n",
       " (2, 4),\n",
       " (3, 0),\n",
       " (3, 1),\n",
       " (3, 2),\n",
       " (3, 4),\n",
       " (4, 0),\n",
       " (4, 1),\n",
       " (4, 2),\n",
       " (4, 3)]"
      ]
     },
     "execution_count": 240,
     "metadata": {},
     "output_type": "execute_result"
    }
   ],
   "source": [
    "list(itertools.permutations(range(5), 2))"
   ]
  },
  {
   "cell_type": "code",
   "execution_count": 50,
   "metadata": {},
   "outputs": [
    {
     "name": "stdout",
     "output_type": "stream",
     "text": [
      "[('AA', 'colour', 0), ('AA', 'colour', 1), ('AA', 'size', 0), ('AA', 'size', 1), ('BB', 'colour', 0), ('BB', 'colour', 1), ('BB', 'size', 0), ('BB', 'size', 1)]\n"
     ]
    }
   ],
   "source": [
    "t = ('AA', 'BB')\n",
    "d = {'colour': 'white', 'size': 'small'}\n",
    "r = range(2)\n",
    "\n",
    "list_product = list(itertools.product(t, d, r))\n",
    "\n",
    "print(list_product)"
   ]
  },
  {
   "cell_type": "code",
   "execution_count": 254,
   "metadata": {},
   "outputs": [
    {
     "name": "stdout",
     "output_type": "stream",
     "text": [
      "Today: 2021-05-21 18:12:21.103140\n",
      "Current date and time: 2021-05-21 18:12:21.103388\n",
      "Current UTC date and time: 2021-05-21 15:12:21.103454\n",
      "Current time: 00:00:00\n",
      "A specified date with (unspecified) time: 2021-05-20 00:00:00\n",
      "A specified date: 2021-05-20\n"
     ]
    }
   ],
   "source": [
    "import datetime\n",
    "\n",
    "print(\"Today:\",datetime.datetime.today())\n",
    "print(\"Current date and time:\",datetime.datetime.now())\n",
    "print(\"Current UTC date and time:\",datetime.datetime.utcnow())\n",
    "print(\"Current time:\",datetime.time())"
   ]
  },
  {
   "cell_type": "code",
   "execution_count": 268,
   "metadata": {},
   "outputs": [
    {
     "name": "stdout",
     "output_type": "stream",
     "text": [
      "2021-05-20 00:00:00\n",
      "2021-05-20 00:13:59\n",
      "2021-05-20\n"
     ]
    }
   ],
   "source": [
    "print(datetime.datetime(2021,5,20))\n",
    "print(datetime.datetime(2021, 5, 20,0,13,59))\n",
    "print(datetime.date(2021,5,20))"
   ]
  },
  {
   "cell_type": "code",
   "execution_count": 256,
   "metadata": {},
   "outputs": [
    {
     "name": "stdout",
     "output_type": "stream",
     "text": [
      "2021-05-21 18:13:03.715340\n"
     ]
    }
   ],
   "source": [
    "t0 = datetime.datetime.now()\n",
    "print(t0)"
   ]
  },
  {
   "cell_type": "code",
   "execution_count": 261,
   "metadata": {},
   "outputs": [
    {
     "name": "stdout",
     "output_type": "stream",
     "text": [
      "2021-05-21 19:13:03.715340\n"
     ]
    }
   ],
   "source": [
    "t1 = t0 + datetime.timedelta(hours=1)\n",
    "print(t1)"
   ]
  },
  {
   "cell_type": "code",
   "execution_count": 262,
   "metadata": {},
   "outputs": [
    {
     "name": "stdout",
     "output_type": "stream",
     "text": [
      "2021-05-22 18:13:03.715340\n"
     ]
    }
   ],
   "source": [
    "t2 = t0 + datetime.timedelta(days=1)\n",
    "print(t2)"
   ]
  },
  {
   "cell_type": "code",
   "execution_count": 277,
   "metadata": {},
   "outputs": [],
   "source": [
    "import time"
   ]
  },
  {
   "cell_type": "code",
   "execution_count": 278,
   "metadata": {},
   "outputs": [
    {
     "name": "stdout",
     "output_type": "stream",
     "text": [
      "1621610409.98509\n"
     ]
    }
   ],
   "source": [
    "# Epoch time as seconds\n",
    "print(time.time())"
   ]
  },
  {
   "cell_type": "code",
   "execution_count": 279,
   "metadata": {},
   "outputs": [
    {
     "name": "stdout",
     "output_type": "stream",
     "text": [
      "I waited  3 seconds.\n"
     ]
    }
   ],
   "source": [
    "n_sec = 3\n",
    "time.sleep(n_sec)\n",
    "print(\"I waited \",n_sec,\"seconds.\")"
   ]
  },
  {
   "cell_type": "code",
   "execution_count": 80,
   "metadata": {},
   "outputs": [
    {
     "name": "stdout",
     "output_type": "stream",
     "text": [
      "Writing workers.csv\n"
     ]
    }
   ],
   "source": [
    "## Ipython magic\n",
    "# %%writefile workers.csv\n",
    "# \"Newman, Samantha\",38,\"London, England\"\n",
    "# \"Patricia, Halley\",36,\"Sydney, Australia\"\n",
    "# \"Corkery, Bill\",45,\"Detroit, USA\""
   ]
  },
  {
   "cell_type": "markdown",
   "metadata": {},
   "source": [
    "### File Input/Output\n",
    "\n",
    "We can read from and write to files using \"file handles\" in python. This is the most basic type of file IO.\n",
    "\n",
    "* `open()`\n",
    "* `close()`"
   ]
  },
  {
   "cell_type": "code",
   "execution_count": null,
   "metadata": {},
   "outputs": [],
   "source": [
    "import csv"
   ]
  },
  {
   "cell_type": "code",
   "execution_count": 287,
   "metadata": {},
   "outputs": [],
   "source": [
    "data = [\n",
    "    [\"2020Q1\",12412,142],\n",
    "    [\"2020Q2\",12412,142],\n",
    "    [\"2020Q3\",12412,142],\n",
    "    [\"2020Q4\",12412,142]\n",
    "]\n",
    "f = open(\"sales.csv\",mode=\"w\")\n",
    "writer = csv.writer(f)\n",
    "writer.writerows(data)\n",
    "f.close()"
   ]
  },
  {
   "cell_type": "code",
   "execution_count": 288,
   "metadata": {},
   "outputs": [
    {
     "name": "stdout",
     "output_type": "stream",
     "text": [
      "<_io.TextIOWrapper name='sales.csv' mode='r' encoding='UTF-8'>\n",
      "<class '_io.TextIOWrapper'>\n",
      "['2020Q1', '12412', '142']\n",
      "['2020Q2', '12412', '142']\n",
      "['2020Q3', '12412', '142']\n",
      "['2020Q4', '12412', '142']\n"
     ]
    }
   ],
   "source": [
    "f = open(\"sales.csv\",mode=\"r\")\n",
    "print(f)\n",
    "print(type(f))\n",
    "rd = csv.reader(f)\n",
    "for line in rd:\n",
    "    print(line)\n",
    "f.close()"
   ]
  },
  {
   "cell_type": "markdown",
   "metadata": {},
   "source": [
    "### `with` statement"
   ]
  },
  {
   "cell_type": "code",
   "execution_count": 290,
   "metadata": {},
   "outputs": [],
   "source": [
    "with open(\"sales.csv\",mode=\"w\") as f:\n",
    "    writer = csv.writer(f)\n",
    "    writer.writerows(data)"
   ]
  },
  {
   "cell_type": "code",
   "execution_count": 298,
   "metadata": {},
   "outputs": [
    {
     "name": "stdout",
     "output_type": "stream",
     "text": [
      "['2020Q1', '12412', '142']\n",
      "['2020Q2', '12412', '142']\n",
      "['2020Q3', '12412', '142']\n",
      "['2020Q4', '12412', '142']\n"
     ]
    }
   ],
   "source": [
    "with open(\"sales.csv\",mode=\"r\") as f:\n",
    "    reader = csv.reader(f)\n",
    "    for line in reader:\n",
    "        print(line)"
   ]
  },
  {
   "cell_type": "code",
   "execution_count": 299,
   "metadata": {},
   "outputs": [
    {
     "name": "stdout",
     "output_type": "stream",
     "text": [
      "[['2020Q1', '12412', '142'], ['2020Q2', '12412', '142'], ['2020Q3', '12412', '142'], ['2020Q4', '12412', '142']]\n"
     ]
    }
   ],
   "source": [
    "with open(\"sales.csv\",mode=\"r\") as f:\n",
    "    reader = csv.reader(f)\n",
    "    content = list(map(list,reader))\n",
    "\n",
    "print(content)"
   ]
  },
  {
   "cell_type": "code",
   "execution_count": 83,
   "metadata": {},
   "outputs": [
    {
     "name": "stdout",
     "output_type": "stream",
     "text": [
      "['Newman, Samantha', '38', 'London, England']\n",
      "['Patricia, Halley', '36', 'Sydney, Australia']\n",
      "['Corkery, Bill', '45', 'Detroit, USA']\n"
     ]
    }
   ],
   "source": [
    "# with open(\"workers.csv\") as f:\n",
    "#     rd = csv.reader(f)\n",
    "#     for line in rd:\n",
    "#         print(line)"
   ]
  },
  {
   "cell_type": "code",
   "execution_count": 89,
   "metadata": {},
   "outputs": [],
   "source": [
    "# with open(\"managers.csv\", \"w\", newline=\"\") as m:\n",
    "#     wr = csv.writer(m)\n",
    "#     wr.writerow(['Graham, Leanne', '53', 'Tulsa, USA'])\n",
    "#     wr.writerow(['Weissnat, Kurtis', '57', 'Dublin, Ireland'])"
   ]
  },
  {
   "cell_type": "code",
   "execution_count": 91,
   "metadata": {},
   "outputs": [
    {
     "name": "stdout",
     "output_type": "stream",
     "text": [
      "['Graham, Leanne', '53', 'Tulsa, USA']\n",
      "['Weissnat, Kurtis', '57', 'Dublin, Ireland']\n"
     ]
    }
   ],
   "source": [
    "# with open(\"managers.csv\") as m:\n",
    "#     mg = csv.reader(m)\n",
    "#     for line in mg:\n",
    "#         print(line)"
   ]
  },
  {
   "cell_type": "code",
   "execution_count": 301,
   "metadata": {},
   "outputs": [],
   "source": [
    "import json\n",
    "\n",
    "## read\n",
    "## write\n",
    "\n",
    "# f = open(\"\")\n",
    "# f.close()\n",
    "\n",
    "# with open(\"\",\"rb\") as f:\n",
    "#     json.read(.....)\n",
    "    \n",
    "# with open(\"\",\"wb\") as f:\n",
    "#     json.dump(.....)\n",
    "    \n",
    "# json.dumps()\n",
    "# json.loads()"
   ]
  },
  {
   "cell_type": "code",
   "execution_count": 304,
   "metadata": {},
   "outputs": [
    {
     "ename": "AttributeError",
     "evalue": "'str' object has no attribute 'read'",
     "output_type": "error",
     "traceback": [
      "\u001b[0;31m---------------------------------------------------------------------------\u001b[0m",
      "\u001b[0;31mAttributeError\u001b[0m                            Traceback (most recent call last)",
      "\u001b[0;32m<ipython-input-304-697fcf3adf5a>\u001b[0m in \u001b[0;36m<module>\u001b[0;34m\u001b[0m\n\u001b[0;32m----> 1\u001b[0;31m \u001b[0mjson\u001b[0m\u001b[0;34m.\u001b[0m\u001b[0mload\u001b[0m\u001b[0;34m(\u001b[0m\u001b[0;34m\"https://jsonplaceholder.typicode.com/users\"\u001b[0m\u001b[0;34m)\u001b[0m\u001b[0;34m\u001b[0m\u001b[0;34m\u001b[0m\u001b[0m\n\u001b[0m",
      "\u001b[0;32m/usr/lib/python3.6/json/__init__.py\u001b[0m in \u001b[0;36mload\u001b[0;34m(fp, cls, object_hook, parse_float, parse_int, parse_constant, object_pairs_hook, **kw)\u001b[0m\n\u001b[1;32m    294\u001b[0m \u001b[0;34m\u001b[0m\u001b[0m\n\u001b[1;32m    295\u001b[0m     \"\"\"\n\u001b[0;32m--> 296\u001b[0;31m     return loads(fp.read(),\n\u001b[0m\u001b[1;32m    297\u001b[0m         \u001b[0mcls\u001b[0m\u001b[0;34m=\u001b[0m\u001b[0mcls\u001b[0m\u001b[0;34m,\u001b[0m \u001b[0mobject_hook\u001b[0m\u001b[0;34m=\u001b[0m\u001b[0mobject_hook\u001b[0m\u001b[0;34m,\u001b[0m\u001b[0;34m\u001b[0m\u001b[0;34m\u001b[0m\u001b[0m\n\u001b[1;32m    298\u001b[0m         \u001b[0mparse_float\u001b[0m\u001b[0;34m=\u001b[0m\u001b[0mparse_float\u001b[0m\u001b[0;34m,\u001b[0m \u001b[0mparse_int\u001b[0m\u001b[0;34m=\u001b[0m\u001b[0mparse_int\u001b[0m\u001b[0;34m,\u001b[0m\u001b[0;34m\u001b[0m\u001b[0;34m\u001b[0m\u001b[0m\n",
      "\u001b[0;31mAttributeError\u001b[0m: 'str' object has no attribute 'read'"
     ]
    }
   ],
   "source": []
  },
  {
   "cell_type": "code",
   "execution_count": 73,
   "metadata": {},
   "outputs": [
    {
     "name": "stdout",
     "output_type": "stream",
     "text": [
      "Nancy\n",
      "Green\n",
      "{'firstName': 'nancy', 'email': 'nancygreen@nomail.com'}\n",
      "\"Nancy\"\n"
     ]
    }
   ],
   "source": [
    "import json\n",
    "\n",
    "data = '{\"firstName\":\"Nancy\",\"lastName\":\"Green\"}'\n",
    "\n",
    "y = json.loads(data)\n",
    "type(y)\n",
    "print(y[\"firstName\"])\n",
    "print(y[\"lastName\"])\n",
    "\n",
    "\n",
    "customer = {\"firstName\":\"nancy\",\n",
    "            \"email\":\"nancygreen@nomail.com\"}\n",
    "\n",
    "customerJson = json.dumps(customer)\n",
    "\n",
    "print(customer)\n",
    "print(json.dumps(\"Nancy\"))"
   ]
  },
  {
   "cell_type": "code",
   "execution_count": 315,
   "metadata": {},
   "outputs": [],
   "source": [
    "import urllib"
   ]
  },
  {
   "cell_type": "code",
   "execution_count": 350,
   "metadata": {},
   "outputs": [
    {
     "data": {
      "text/plain": [
       "[{'id': 1,\n",
       "  'name': 'Leanne Graham',\n",
       "  'username': 'Bret',\n",
       "  'email': 'Sincere@april.biz',\n",
       "  'address': {'street': 'Kulas Light',\n",
       "   'suite': 'Apt. 556',\n",
       "   'city': 'Gwenborough',\n",
       "   'zipcode': '92998-3874',\n",
       "   'geo': {'lat': '-37.3159', 'lng': '81.1496'}},\n",
       "  'phone': '1-770-736-8031 x56442',\n",
       "  'website': 'hildegard.org',\n",
       "  'company': {'name': 'Romaguera-Crona',\n",
       "   'catchPhrase': 'Multi-layered client-server neural-net',\n",
       "   'bs': 'harness real-time e-markets'}},\n",
       " {'id': 2,\n",
       "  'name': 'Ervin Howell',\n",
       "  'username': 'Antonette',\n",
       "  'email': 'Shanna@melissa.tv',\n",
       "  'address': {'street': 'Victor Plains',\n",
       "   'suite': 'Suite 879',\n",
       "   'city': 'Wisokyburgh',\n",
       "   'zipcode': '90566-7771',\n",
       "   'geo': {'lat': '-43.9509', 'lng': '-34.4618'}},\n",
       "  'phone': '010-692-6593 x09125',\n",
       "  'website': 'anastasia.net',\n",
       "  'company': {'name': 'Deckow-Crist',\n",
       "   'catchPhrase': 'Proactive didactic contingency',\n",
       "   'bs': 'synergize scalable supply-chains'}},\n",
       " {'id': 3,\n",
       "  'name': 'Clementine Bauch',\n",
       "  'username': 'Samantha',\n",
       "  'email': 'Nathan@yesenia.net',\n",
       "  'address': {'street': 'Douglas Extension',\n",
       "   'suite': 'Suite 847',\n",
       "   'city': 'McKenziehaven',\n",
       "   'zipcode': '59590-4157',\n",
       "   'geo': {'lat': '-68.6102', 'lng': '-47.0653'}},\n",
       "  'phone': '1-463-123-4447',\n",
       "  'website': 'ramiro.info',\n",
       "  'company': {'name': 'Romaguera-Jacobson',\n",
       "   'catchPhrase': 'Face to face bifurcated interface',\n",
       "   'bs': 'e-enable strategic applications'}},\n",
       " {'id': 4,\n",
       "  'name': 'Patricia Lebsack',\n",
       "  'username': 'Karianne',\n",
       "  'email': 'Julianne.OConner@kory.org',\n",
       "  'address': {'street': 'Hoeger Mall',\n",
       "   'suite': 'Apt. 692',\n",
       "   'city': 'South Elvis',\n",
       "   'zipcode': '53919-4257',\n",
       "   'geo': {'lat': '29.4572', 'lng': '-164.2990'}},\n",
       "  'phone': '493-170-9623 x156',\n",
       "  'website': 'kale.biz',\n",
       "  'company': {'name': 'Robel-Corkery',\n",
       "   'catchPhrase': 'Multi-tiered zero tolerance productivity',\n",
       "   'bs': 'transition cutting-edge web services'}},\n",
       " {'id': 5,\n",
       "  'name': 'Chelsey Dietrich',\n",
       "  'username': 'Kamren',\n",
       "  'email': 'Lucio_Hettinger@annie.ca',\n",
       "  'address': {'street': 'Skiles Walks',\n",
       "   'suite': 'Suite 351',\n",
       "   'city': 'Roscoeview',\n",
       "   'zipcode': '33263',\n",
       "   'geo': {'lat': '-31.8129', 'lng': '62.5342'}},\n",
       "  'phone': '(254)954-1289',\n",
       "  'website': 'demarco.info',\n",
       "  'company': {'name': 'Keebler LLC',\n",
       "   'catchPhrase': 'User-centric fault-tolerant solution',\n",
       "   'bs': 'revolutionize end-to-end systems'}},\n",
       " {'id': 6,\n",
       "  'name': 'Mrs. Dennis Schulist',\n",
       "  'username': 'Leopoldo_Corkery',\n",
       "  'email': 'Karley_Dach@jasper.info',\n",
       "  'address': {'street': 'Norberto Crossing',\n",
       "   'suite': 'Apt. 950',\n",
       "   'city': 'South Christy',\n",
       "   'zipcode': '23505-1337',\n",
       "   'geo': {'lat': '-71.4197', 'lng': '71.7478'}},\n",
       "  'phone': '1-477-935-8478 x6430',\n",
       "  'website': 'ola.org',\n",
       "  'company': {'name': 'Considine-Lockman',\n",
       "   'catchPhrase': 'Synchronised bottom-line interface',\n",
       "   'bs': 'e-enable innovative applications'}},\n",
       " {'id': 7,\n",
       "  'name': 'Kurtis Weissnat',\n",
       "  'username': 'Elwyn.Skiles',\n",
       "  'email': 'Telly.Hoeger@billy.biz',\n",
       "  'address': {'street': 'Rex Trail',\n",
       "   'suite': 'Suite 280',\n",
       "   'city': 'Howemouth',\n",
       "   'zipcode': '58804-1099',\n",
       "   'geo': {'lat': '24.8918', 'lng': '21.8984'}},\n",
       "  'phone': '210.067.6132',\n",
       "  'website': 'elvis.io',\n",
       "  'company': {'name': 'Johns Group',\n",
       "   'catchPhrase': 'Configurable multimedia task-force',\n",
       "   'bs': 'generate enterprise e-tailers'}},\n",
       " {'id': 8,\n",
       "  'name': 'Nicholas Runolfsdottir V',\n",
       "  'username': 'Maxime_Nienow',\n",
       "  'email': 'Sherwood@rosamond.me',\n",
       "  'address': {'street': 'Ellsworth Summit',\n",
       "   'suite': 'Suite 729',\n",
       "   'city': 'Aliyaview',\n",
       "   'zipcode': '45169',\n",
       "   'geo': {'lat': '-14.3990', 'lng': '-120.7677'}},\n",
       "  'phone': '586.493.6943 x140',\n",
       "  'website': 'jacynthe.com',\n",
       "  'company': {'name': 'Abernathy Group',\n",
       "   'catchPhrase': 'Implemented secondary concept',\n",
       "   'bs': 'e-enable extensible e-tailers'}},\n",
       " {'id': 9,\n",
       "  'name': 'Glenna Reichert',\n",
       "  'username': 'Delphine',\n",
       "  'email': 'Chaim_McDermott@dana.io',\n",
       "  'address': {'street': 'Dayna Park',\n",
       "   'suite': 'Suite 449',\n",
       "   'city': 'Bartholomebury',\n",
       "   'zipcode': '76495-3109',\n",
       "   'geo': {'lat': '24.6463', 'lng': '-168.8889'}},\n",
       "  'phone': '(775)976-6794 x41206',\n",
       "  'website': 'conrad.com',\n",
       "  'company': {'name': 'Yost and Sons',\n",
       "   'catchPhrase': 'Switchable contextually-based project',\n",
       "   'bs': 'aggregate real-time technologies'}},\n",
       " {'id': 10,\n",
       "  'name': 'Clementina DuBuque',\n",
       "  'username': 'Moriah.Stanton',\n",
       "  'email': 'Rey.Padberg@karina.biz',\n",
       "  'address': {'street': 'Kattie Turnpike',\n",
       "   'suite': 'Suite 198',\n",
       "   'city': 'Lebsackbury',\n",
       "   'zipcode': '31428-2261',\n",
       "   'geo': {'lat': '-38.2386', 'lng': '57.2232'}},\n",
       "  'phone': '024-648-3804',\n",
       "  'website': 'ambrose.net',\n",
       "  'company': {'name': 'Hoeger LLC',\n",
       "   'catchPhrase': 'Centralized empowering task-force',\n",
       "   'bs': 'target end-to-end models'}}]"
      ]
     },
     "execution_count": 350,
     "metadata": {},
     "output_type": "execute_result"
    }
   ],
   "source": [
    "response = urllib.request.urlopen(\"https://jsonplaceholder.typicode.com/users\")\n",
    "raw_content = response.read().decode()\n",
    "content = eval(raw_content)\n",
    "content"
   ]
  },
  {
   "cell_type": "code",
   "execution_count": 354,
   "metadata": {},
   "outputs": [
    {
     "data": {
      "text/plain": [
       "[{'id': 1,\n",
       "  'name': 'Leanne Graham',\n",
       "  'username': 'Bret',\n",
       "  'email': 'Sincere@april.biz',\n",
       "  'address': {'street': 'Kulas Light',\n",
       "   'suite': 'Apt. 556',\n",
       "   'city': 'Gwenborough',\n",
       "   'zipcode': '92998-3874',\n",
       "   'geo': {'lat': '-37.3159', 'lng': '81.1496'}},\n",
       "  'phone': '1-770-736-8031 x56442',\n",
       "  'website': 'hildegard.org',\n",
       "  'company': {'name': 'Romaguera-Crona',\n",
       "   'catchPhrase': 'Multi-layered client-server neural-net',\n",
       "   'bs': 'harness real-time e-markets'}},\n",
       " {'id': 2,\n",
       "  'name': 'Ervin Howell',\n",
       "  'username': 'Antonette',\n",
       "  'email': 'Shanna@melissa.tv',\n",
       "  'address': {'street': 'Victor Plains',\n",
       "   'suite': 'Suite 879',\n",
       "   'city': 'Wisokyburgh',\n",
       "   'zipcode': '90566-7771',\n",
       "   'geo': {'lat': '-43.9509', 'lng': '-34.4618'}},\n",
       "  'phone': '010-692-6593 x09125',\n",
       "  'website': 'anastasia.net',\n",
       "  'company': {'name': 'Deckow-Crist',\n",
       "   'catchPhrase': 'Proactive didactic contingency',\n",
       "   'bs': 'synergize scalable supply-chains'}},\n",
       " {'id': 3,\n",
       "  'name': 'Clementine Bauch',\n",
       "  'username': 'Samantha',\n",
       "  'email': 'Nathan@yesenia.net',\n",
       "  'address': {'street': 'Douglas Extension',\n",
       "   'suite': 'Suite 847',\n",
       "   'city': 'McKenziehaven',\n",
       "   'zipcode': '59590-4157',\n",
       "   'geo': {'lat': '-68.6102', 'lng': '-47.0653'}},\n",
       "  'phone': '1-463-123-4447',\n",
       "  'website': 'ramiro.info',\n",
       "  'company': {'name': 'Romaguera-Jacobson',\n",
       "   'catchPhrase': 'Face to face bifurcated interface',\n",
       "   'bs': 'e-enable strategic applications'}},\n",
       " {'id': 4,\n",
       "  'name': 'Patricia Lebsack',\n",
       "  'username': 'Karianne',\n",
       "  'email': 'Julianne.OConner@kory.org',\n",
       "  'address': {'street': 'Hoeger Mall',\n",
       "   'suite': 'Apt. 692',\n",
       "   'city': 'South Elvis',\n",
       "   'zipcode': '53919-4257',\n",
       "   'geo': {'lat': '29.4572', 'lng': '-164.2990'}},\n",
       "  'phone': '493-170-9623 x156',\n",
       "  'website': 'kale.biz',\n",
       "  'company': {'name': 'Robel-Corkery',\n",
       "   'catchPhrase': 'Multi-tiered zero tolerance productivity',\n",
       "   'bs': 'transition cutting-edge web services'}},\n",
       " {'id': 5,\n",
       "  'name': 'Chelsey Dietrich',\n",
       "  'username': 'Kamren',\n",
       "  'email': 'Lucio_Hettinger@annie.ca',\n",
       "  'address': {'street': 'Skiles Walks',\n",
       "   'suite': 'Suite 351',\n",
       "   'city': 'Roscoeview',\n",
       "   'zipcode': '33263',\n",
       "   'geo': {'lat': '-31.8129', 'lng': '62.5342'}},\n",
       "  'phone': '(254)954-1289',\n",
       "  'website': 'demarco.info',\n",
       "  'company': {'name': 'Keebler LLC',\n",
       "   'catchPhrase': 'User-centric fault-tolerant solution',\n",
       "   'bs': 'revolutionize end-to-end systems'}},\n",
       " {'id': 6,\n",
       "  'name': 'Mrs. Dennis Schulist',\n",
       "  'username': 'Leopoldo_Corkery',\n",
       "  'email': 'Karley_Dach@jasper.info',\n",
       "  'address': {'street': 'Norberto Crossing',\n",
       "   'suite': 'Apt. 950',\n",
       "   'city': 'South Christy',\n",
       "   'zipcode': '23505-1337',\n",
       "   'geo': {'lat': '-71.4197', 'lng': '71.7478'}},\n",
       "  'phone': '1-477-935-8478 x6430',\n",
       "  'website': 'ola.org',\n",
       "  'company': {'name': 'Considine-Lockman',\n",
       "   'catchPhrase': 'Synchronised bottom-line interface',\n",
       "   'bs': 'e-enable innovative applications'}},\n",
       " {'id': 7,\n",
       "  'name': 'Kurtis Weissnat',\n",
       "  'username': 'Elwyn.Skiles',\n",
       "  'email': 'Telly.Hoeger@billy.biz',\n",
       "  'address': {'street': 'Rex Trail',\n",
       "   'suite': 'Suite 280',\n",
       "   'city': 'Howemouth',\n",
       "   'zipcode': '58804-1099',\n",
       "   'geo': {'lat': '24.8918', 'lng': '21.8984'}},\n",
       "  'phone': '210.067.6132',\n",
       "  'website': 'elvis.io',\n",
       "  'company': {'name': 'Johns Group',\n",
       "   'catchPhrase': 'Configurable multimedia task-force',\n",
       "   'bs': 'generate enterprise e-tailers'}},\n",
       " {'id': 8,\n",
       "  'name': 'Nicholas Runolfsdottir V',\n",
       "  'username': 'Maxime_Nienow',\n",
       "  'email': 'Sherwood@rosamond.me',\n",
       "  'address': {'street': 'Ellsworth Summit',\n",
       "   'suite': 'Suite 729',\n",
       "   'city': 'Aliyaview',\n",
       "   'zipcode': '45169',\n",
       "   'geo': {'lat': '-14.3990', 'lng': '-120.7677'}},\n",
       "  'phone': '586.493.6943 x140',\n",
       "  'website': 'jacynthe.com',\n",
       "  'company': {'name': 'Abernathy Group',\n",
       "   'catchPhrase': 'Implemented secondary concept',\n",
       "   'bs': 'e-enable extensible e-tailers'}},\n",
       " {'id': 9,\n",
       "  'name': 'Glenna Reichert',\n",
       "  'username': 'Delphine',\n",
       "  'email': 'Chaim_McDermott@dana.io',\n",
       "  'address': {'street': 'Dayna Park',\n",
       "   'suite': 'Suite 449',\n",
       "   'city': 'Bartholomebury',\n",
       "   'zipcode': '76495-3109',\n",
       "   'geo': {'lat': '24.6463', 'lng': '-168.8889'}},\n",
       "  'phone': '(775)976-6794 x41206',\n",
       "  'website': 'conrad.com',\n",
       "  'company': {'name': 'Yost and Sons',\n",
       "   'catchPhrase': 'Switchable contextually-based project',\n",
       "   'bs': 'aggregate real-time technologies'}},\n",
       " {'id': 10,\n",
       "  'name': 'Clementina DuBuque',\n",
       "  'username': 'Moriah.Stanton',\n",
       "  'email': 'Rey.Padberg@karina.biz',\n",
       "  'address': {'street': 'Kattie Turnpike',\n",
       "   'suite': 'Suite 198',\n",
       "   'city': 'Lebsackbury',\n",
       "   'zipcode': '31428-2261',\n",
       "   'geo': {'lat': '-38.2386', 'lng': '57.2232'}},\n",
       "  'phone': '024-648-3804',\n",
       "  'website': 'ambrose.net',\n",
       "  'company': {'name': 'Hoeger LLC',\n",
       "   'catchPhrase': 'Centralized empowering task-force',\n",
       "   'bs': 'target end-to-end models'}}]"
      ]
     },
     "execution_count": 354,
     "metadata": {},
     "output_type": "execute_result"
    }
   ],
   "source": [
    "response = urllib.request.urlopen(\"https://jsonplaceholder.typicode.com/users\")\n",
    "raw_content = response.read().decode()\n",
    "content = json.loads(raw_content)\n",
    "content"
   ]
  },
  {
   "cell_type": "code",
   "execution_count": 351,
   "metadata": {},
   "outputs": [],
   "source": [
    "with open(\"users.json\",\"w\") as f:\n",
    "    json.dump(content,f)"
   ]
  },
  {
   "cell_type": "code",
   "execution_count": 353,
   "metadata": {},
   "outputs": [
    {
     "data": {
      "text/plain": [
       "[{'id': 1,\n",
       "  'name': 'Leanne Graham',\n",
       "  'username': 'Bret',\n",
       "  'email': 'Sincere@april.biz',\n",
       "  'address': {'street': 'Kulas Light',\n",
       "   'suite': 'Apt. 556',\n",
       "   'city': 'Gwenborough',\n",
       "   'zipcode': '92998-3874',\n",
       "   'geo': {'lat': '-37.3159', 'lng': '81.1496'}},\n",
       "  'phone': '1-770-736-8031 x56442',\n",
       "  'website': 'hildegard.org',\n",
       "  'company': {'name': 'Romaguera-Crona',\n",
       "   'catchPhrase': 'Multi-layered client-server neural-net',\n",
       "   'bs': 'harness real-time e-markets'}},\n",
       " {'id': 2,\n",
       "  'name': 'Ervin Howell',\n",
       "  'username': 'Antonette',\n",
       "  'email': 'Shanna@melissa.tv',\n",
       "  'address': {'street': 'Victor Plains',\n",
       "   'suite': 'Suite 879',\n",
       "   'city': 'Wisokyburgh',\n",
       "   'zipcode': '90566-7771',\n",
       "   'geo': {'lat': '-43.9509', 'lng': '-34.4618'}},\n",
       "  'phone': '010-692-6593 x09125',\n",
       "  'website': 'anastasia.net',\n",
       "  'company': {'name': 'Deckow-Crist',\n",
       "   'catchPhrase': 'Proactive didactic contingency',\n",
       "   'bs': 'synergize scalable supply-chains'}},\n",
       " {'id': 3,\n",
       "  'name': 'Clementine Bauch',\n",
       "  'username': 'Samantha',\n",
       "  'email': 'Nathan@yesenia.net',\n",
       "  'address': {'street': 'Douglas Extension',\n",
       "   'suite': 'Suite 847',\n",
       "   'city': 'McKenziehaven',\n",
       "   'zipcode': '59590-4157',\n",
       "   'geo': {'lat': '-68.6102', 'lng': '-47.0653'}},\n",
       "  'phone': '1-463-123-4447',\n",
       "  'website': 'ramiro.info',\n",
       "  'company': {'name': 'Romaguera-Jacobson',\n",
       "   'catchPhrase': 'Face to face bifurcated interface',\n",
       "   'bs': 'e-enable strategic applications'}},\n",
       " {'id': 4,\n",
       "  'name': 'Patricia Lebsack',\n",
       "  'username': 'Karianne',\n",
       "  'email': 'Julianne.OConner@kory.org',\n",
       "  'address': {'street': 'Hoeger Mall',\n",
       "   'suite': 'Apt. 692',\n",
       "   'city': 'South Elvis',\n",
       "   'zipcode': '53919-4257',\n",
       "   'geo': {'lat': '29.4572', 'lng': '-164.2990'}},\n",
       "  'phone': '493-170-9623 x156',\n",
       "  'website': 'kale.biz',\n",
       "  'company': {'name': 'Robel-Corkery',\n",
       "   'catchPhrase': 'Multi-tiered zero tolerance productivity',\n",
       "   'bs': 'transition cutting-edge web services'}},\n",
       " {'id': 5,\n",
       "  'name': 'Chelsey Dietrich',\n",
       "  'username': 'Kamren',\n",
       "  'email': 'Lucio_Hettinger@annie.ca',\n",
       "  'address': {'street': 'Skiles Walks',\n",
       "   'suite': 'Suite 351',\n",
       "   'city': 'Roscoeview',\n",
       "   'zipcode': '33263',\n",
       "   'geo': {'lat': '-31.8129', 'lng': '62.5342'}},\n",
       "  'phone': '(254)954-1289',\n",
       "  'website': 'demarco.info',\n",
       "  'company': {'name': 'Keebler LLC',\n",
       "   'catchPhrase': 'User-centric fault-tolerant solution',\n",
       "   'bs': 'revolutionize end-to-end systems'}},\n",
       " {'id': 6,\n",
       "  'name': 'Mrs. Dennis Schulist',\n",
       "  'username': 'Leopoldo_Corkery',\n",
       "  'email': 'Karley_Dach@jasper.info',\n",
       "  'address': {'street': 'Norberto Crossing',\n",
       "   'suite': 'Apt. 950',\n",
       "   'city': 'South Christy',\n",
       "   'zipcode': '23505-1337',\n",
       "   'geo': {'lat': '-71.4197', 'lng': '71.7478'}},\n",
       "  'phone': '1-477-935-8478 x6430',\n",
       "  'website': 'ola.org',\n",
       "  'company': {'name': 'Considine-Lockman',\n",
       "   'catchPhrase': 'Synchronised bottom-line interface',\n",
       "   'bs': 'e-enable innovative applications'}},\n",
       " {'id': 7,\n",
       "  'name': 'Kurtis Weissnat',\n",
       "  'username': 'Elwyn.Skiles',\n",
       "  'email': 'Telly.Hoeger@billy.biz',\n",
       "  'address': {'street': 'Rex Trail',\n",
       "   'suite': 'Suite 280',\n",
       "   'city': 'Howemouth',\n",
       "   'zipcode': '58804-1099',\n",
       "   'geo': {'lat': '24.8918', 'lng': '21.8984'}},\n",
       "  'phone': '210.067.6132',\n",
       "  'website': 'elvis.io',\n",
       "  'company': {'name': 'Johns Group',\n",
       "   'catchPhrase': 'Configurable multimedia task-force',\n",
       "   'bs': 'generate enterprise e-tailers'}},\n",
       " {'id': 8,\n",
       "  'name': 'Nicholas Runolfsdottir V',\n",
       "  'username': 'Maxime_Nienow',\n",
       "  'email': 'Sherwood@rosamond.me',\n",
       "  'address': {'street': 'Ellsworth Summit',\n",
       "   'suite': 'Suite 729',\n",
       "   'city': 'Aliyaview',\n",
       "   'zipcode': '45169',\n",
       "   'geo': {'lat': '-14.3990', 'lng': '-120.7677'}},\n",
       "  'phone': '586.493.6943 x140',\n",
       "  'website': 'jacynthe.com',\n",
       "  'company': {'name': 'Abernathy Group',\n",
       "   'catchPhrase': 'Implemented secondary concept',\n",
       "   'bs': 'e-enable extensible e-tailers'}},\n",
       " {'id': 9,\n",
       "  'name': 'Glenna Reichert',\n",
       "  'username': 'Delphine',\n",
       "  'email': 'Chaim_McDermott@dana.io',\n",
       "  'address': {'street': 'Dayna Park',\n",
       "   'suite': 'Suite 449',\n",
       "   'city': 'Bartholomebury',\n",
       "   'zipcode': '76495-3109',\n",
       "   'geo': {'lat': '24.6463', 'lng': '-168.8889'}},\n",
       "  'phone': '(775)976-6794 x41206',\n",
       "  'website': 'conrad.com',\n",
       "  'company': {'name': 'Yost and Sons',\n",
       "   'catchPhrase': 'Switchable contextually-based project',\n",
       "   'bs': 'aggregate real-time technologies'}},\n",
       " {'id': 10,\n",
       "  'name': 'Clementina DuBuque',\n",
       "  'username': 'Moriah.Stanton',\n",
       "  'email': 'Rey.Padberg@karina.biz',\n",
       "  'address': {'street': 'Kattie Turnpike',\n",
       "   'suite': 'Suite 198',\n",
       "   'city': 'Lebsackbury',\n",
       "   'zipcode': '31428-2261',\n",
       "   'geo': {'lat': '-38.2386', 'lng': '57.2232'}},\n",
       "  'phone': '024-648-3804',\n",
       "  'website': 'ambrose.net',\n",
       "  'company': {'name': 'Hoeger LLC',\n",
       "   'catchPhrase': 'Centralized empowering task-force',\n",
       "   'bs': 'target end-to-end models'}}]"
      ]
     },
     "execution_count": 353,
     "metadata": {},
     "output_type": "execute_result"
    }
   ],
   "source": [
    "with open(\"users.json\",\"r\") as f:\n",
    "    written_content = json.load(f)\n",
    "written_content"
   ]
  },
  {
   "cell_type": "code",
   "execution_count": 357,
   "metadata": {},
   "outputs": [],
   "source": [
    "# get what would have written to file if were to use `json.dump`\n",
    "raw = json.dumps(written_content)"
   ]
  },
  {
   "cell_type": "code",
   "execution_count": 358,
   "metadata": {},
   "outputs": [
    {
     "data": {
      "text/plain": [
       "[{'id': 1,\n",
       "  'name': 'Leanne Graham',\n",
       "  'username': 'Bret',\n",
       "  'email': 'Sincere@april.biz',\n",
       "  'address': {'street': 'Kulas Light',\n",
       "   'suite': 'Apt. 556',\n",
       "   'city': 'Gwenborough',\n",
       "   'zipcode': '92998-3874',\n",
       "   'geo': {'lat': '-37.3159', 'lng': '81.1496'}},\n",
       "  'phone': '1-770-736-8031 x56442',\n",
       "  'website': 'hildegard.org',\n",
       "  'company': {'name': 'Romaguera-Crona',\n",
       "   'catchPhrase': 'Multi-layered client-server neural-net',\n",
       "   'bs': 'harness real-time e-markets'}},\n",
       " {'id': 2,\n",
       "  'name': 'Ervin Howell',\n",
       "  'username': 'Antonette',\n",
       "  'email': 'Shanna@melissa.tv',\n",
       "  'address': {'street': 'Victor Plains',\n",
       "   'suite': 'Suite 879',\n",
       "   'city': 'Wisokyburgh',\n",
       "   'zipcode': '90566-7771',\n",
       "   'geo': {'lat': '-43.9509', 'lng': '-34.4618'}},\n",
       "  'phone': '010-692-6593 x09125',\n",
       "  'website': 'anastasia.net',\n",
       "  'company': {'name': 'Deckow-Crist',\n",
       "   'catchPhrase': 'Proactive didactic contingency',\n",
       "   'bs': 'synergize scalable supply-chains'}},\n",
       " {'id': 3,\n",
       "  'name': 'Clementine Bauch',\n",
       "  'username': 'Samantha',\n",
       "  'email': 'Nathan@yesenia.net',\n",
       "  'address': {'street': 'Douglas Extension',\n",
       "   'suite': 'Suite 847',\n",
       "   'city': 'McKenziehaven',\n",
       "   'zipcode': '59590-4157',\n",
       "   'geo': {'lat': '-68.6102', 'lng': '-47.0653'}},\n",
       "  'phone': '1-463-123-4447',\n",
       "  'website': 'ramiro.info',\n",
       "  'company': {'name': 'Romaguera-Jacobson',\n",
       "   'catchPhrase': 'Face to face bifurcated interface',\n",
       "   'bs': 'e-enable strategic applications'}},\n",
       " {'id': 4,\n",
       "  'name': 'Patricia Lebsack',\n",
       "  'username': 'Karianne',\n",
       "  'email': 'Julianne.OConner@kory.org',\n",
       "  'address': {'street': 'Hoeger Mall',\n",
       "   'suite': 'Apt. 692',\n",
       "   'city': 'South Elvis',\n",
       "   'zipcode': '53919-4257',\n",
       "   'geo': {'lat': '29.4572', 'lng': '-164.2990'}},\n",
       "  'phone': '493-170-9623 x156',\n",
       "  'website': 'kale.biz',\n",
       "  'company': {'name': 'Robel-Corkery',\n",
       "   'catchPhrase': 'Multi-tiered zero tolerance productivity',\n",
       "   'bs': 'transition cutting-edge web services'}},\n",
       " {'id': 5,\n",
       "  'name': 'Chelsey Dietrich',\n",
       "  'username': 'Kamren',\n",
       "  'email': 'Lucio_Hettinger@annie.ca',\n",
       "  'address': {'street': 'Skiles Walks',\n",
       "   'suite': 'Suite 351',\n",
       "   'city': 'Roscoeview',\n",
       "   'zipcode': '33263',\n",
       "   'geo': {'lat': '-31.8129', 'lng': '62.5342'}},\n",
       "  'phone': '(254)954-1289',\n",
       "  'website': 'demarco.info',\n",
       "  'company': {'name': 'Keebler LLC',\n",
       "   'catchPhrase': 'User-centric fault-tolerant solution',\n",
       "   'bs': 'revolutionize end-to-end systems'}},\n",
       " {'id': 6,\n",
       "  'name': 'Mrs. Dennis Schulist',\n",
       "  'username': 'Leopoldo_Corkery',\n",
       "  'email': 'Karley_Dach@jasper.info',\n",
       "  'address': {'street': 'Norberto Crossing',\n",
       "   'suite': 'Apt. 950',\n",
       "   'city': 'South Christy',\n",
       "   'zipcode': '23505-1337',\n",
       "   'geo': {'lat': '-71.4197', 'lng': '71.7478'}},\n",
       "  'phone': '1-477-935-8478 x6430',\n",
       "  'website': 'ola.org',\n",
       "  'company': {'name': 'Considine-Lockman',\n",
       "   'catchPhrase': 'Synchronised bottom-line interface',\n",
       "   'bs': 'e-enable innovative applications'}},\n",
       " {'id': 7,\n",
       "  'name': 'Kurtis Weissnat',\n",
       "  'username': 'Elwyn.Skiles',\n",
       "  'email': 'Telly.Hoeger@billy.biz',\n",
       "  'address': {'street': 'Rex Trail',\n",
       "   'suite': 'Suite 280',\n",
       "   'city': 'Howemouth',\n",
       "   'zipcode': '58804-1099',\n",
       "   'geo': {'lat': '24.8918', 'lng': '21.8984'}},\n",
       "  'phone': '210.067.6132',\n",
       "  'website': 'elvis.io',\n",
       "  'company': {'name': 'Johns Group',\n",
       "   'catchPhrase': 'Configurable multimedia task-force',\n",
       "   'bs': 'generate enterprise e-tailers'}},\n",
       " {'id': 8,\n",
       "  'name': 'Nicholas Runolfsdottir V',\n",
       "  'username': 'Maxime_Nienow',\n",
       "  'email': 'Sherwood@rosamond.me',\n",
       "  'address': {'street': 'Ellsworth Summit',\n",
       "   'suite': 'Suite 729',\n",
       "   'city': 'Aliyaview',\n",
       "   'zipcode': '45169',\n",
       "   'geo': {'lat': '-14.3990', 'lng': '-120.7677'}},\n",
       "  'phone': '586.493.6943 x140',\n",
       "  'website': 'jacynthe.com',\n",
       "  'company': {'name': 'Abernathy Group',\n",
       "   'catchPhrase': 'Implemented secondary concept',\n",
       "   'bs': 'e-enable extensible e-tailers'}},\n",
       " {'id': 9,\n",
       "  'name': 'Glenna Reichert',\n",
       "  'username': 'Delphine',\n",
       "  'email': 'Chaim_McDermott@dana.io',\n",
       "  'address': {'street': 'Dayna Park',\n",
       "   'suite': 'Suite 449',\n",
       "   'city': 'Bartholomebury',\n",
       "   'zipcode': '76495-3109',\n",
       "   'geo': {'lat': '24.6463', 'lng': '-168.8889'}},\n",
       "  'phone': '(775)976-6794 x41206',\n",
       "  'website': 'conrad.com',\n",
       "  'company': {'name': 'Yost and Sons',\n",
       "   'catchPhrase': 'Switchable contextually-based project',\n",
       "   'bs': 'aggregate real-time technologies'}},\n",
       " {'id': 10,\n",
       "  'name': 'Clementina DuBuque',\n",
       "  'username': 'Moriah.Stanton',\n",
       "  'email': 'Rey.Padberg@karina.biz',\n",
       "  'address': {'street': 'Kattie Turnpike',\n",
       "   'suite': 'Suite 198',\n",
       "   'city': 'Lebsackbury',\n",
       "   'zipcode': '31428-2261',\n",
       "   'geo': {'lat': '-38.2386', 'lng': '57.2232'}},\n",
       "  'phone': '024-648-3804',\n",
       "  'website': 'ambrose.net',\n",
       "  'company': {'name': 'Hoeger LLC',\n",
       "   'catchPhrase': 'Centralized empowering task-force',\n",
       "   'bs': 'target end-to-end models'}}]"
      ]
     },
     "execution_count": 358,
     "metadata": {},
     "output_type": "execute_result"
    }
   ],
   "source": [
    "# parse string as json file\n",
    "json.loads(raw)"
   ]
  },
  {
   "cell_type": "code",
   "execution_count": 77,
   "metadata": {},
   "outputs": [
    {
     "name": "stdout",
     "output_type": "stream",
     "text": [
      "{\"name\": \"John\", \"age\": 30, \"married\": true, \"divorced\": false, \"children\": [\"Ann\", \"Billy\"], \"pets\": null, \"cars\": [{\"model\": \"BMW 230\", \"mpg\": 27.5}, {\"model\": \"Ford Edge\", \"mpg\": 24.1}]}\n"
     ]
    }
   ],
   "source": [
    "x = {\n",
    "  \"name\": \"John\",\n",
    "  \"age\": 30,\n",
    "  \"married\": True,\n",
    "  \"divorced\": False,\n",
    "  \"children\": (\"Ann\",\"Billy\"),\n",
    "  \"pets\": None,\n",
    "  \"cars\": [\n",
    "    {\"model\": \"BMW 230\", \"mpg\": 27.5},\n",
    "    {\"model\": \"Ford Edge\", \"mpg\": 24.1}\n",
    "  ]\n",
    "}\n",
    "\n",
    "print(json.dumps(x))"
   ]
  },
  {
   "cell_type": "code",
   "execution_count": 364,
   "metadata": {},
   "outputs": [],
   "source": [
    "import pickle"
   ]
  },
  {
   "cell_type": "code",
   "execution_count": 368,
   "metadata": {},
   "outputs": [],
   "source": [
    "person = collections.namedtuple(\"Person\",\"name,age\")\n",
    "\n",
    "a = 1,2,3,[4,5]\n",
    "data = {\n",
    "    \"mert\":[{\"a\",\"b\",\"c\"},(\"Aras\",\"Kahraman\",[29])],\n",
    "    \"aras\":[a,{123,234,345,456}],\n",
    "    \"others\": map(str,a)}\n",
    "\n",
    "# person(name=\"others\",age=30)"
   ]
  },
  {
   "cell_type": "code",
   "execution_count": 369,
   "metadata": {},
   "outputs": [
    {
     "data": {
      "text/plain": [
       "{'mert': [{'a', 'b', 'c'}, ('Aras', 'Kahraman', [29])],\n",
       " 'aras': [(1, 2, 3, [4, 5]), {123, 234, 345, 456}],\n",
       " 'others': <map at 0x7f6774341128>}"
      ]
     },
     "execution_count": 369,
     "metadata": {},
     "output_type": "execute_result"
    }
   ],
   "source": [
    "data"
   ]
  },
  {
   "cell_type": "code",
   "execution_count": 370,
   "metadata": {},
   "outputs": [],
   "source": [
    "with open(\"complex_data.pickle\",mode=\"wb\") as f:\n",
    "    pickle.dump(data,f)"
   ]
  },
  {
   "cell_type": "code",
   "execution_count": 371,
   "metadata": {},
   "outputs": [
    {
     "data": {
      "text/plain": [
       "{'mert': [{'a', 'b', 'c'}, ('Aras', 'Kahraman', [29])],\n",
       " 'aras': [(1, 2, 3, [4, 5]), {123, 234, 345, 456}],\n",
       " 'others': <map at 0x7f6775015358>}"
      ]
     },
     "execution_count": 371,
     "metadata": {},
     "output_type": "execute_result"
    }
   ],
   "source": [
    "with open(\"complex_data.pickle\",mode=\"rb\") as f:\n",
    "    written_data = pickle.load(f)\n",
    "written_data"
   ]
  },
  {
   "cell_type": "code",
   "execution_count": 372,
   "metadata": {},
   "outputs": [
    {
     "data": {
      "text/plain": [
       "['1', '2', '3', '[4, 5]']"
      ]
     },
     "execution_count": 372,
     "metadata": {},
     "output_type": "execute_result"
    }
   ],
   "source": [
    "list(written_data['others'])"
   ]
  },
  {
   "cell_type": "code",
   "execution_count": 37,
   "metadata": {},
   "outputs": [
    {
     "data": {
      "text/plain": [
       "' \\t\\n\\r\\x0b\\x0c'"
      ]
     },
     "execution_count": 37,
     "metadata": {},
     "output_type": "execute_result"
    }
   ],
   "source": [
    "### CAUTION <--------------- MERT\n",
    "import re\n",
    "\n",
    "# regular expression examples!!! <------------------------\n",
    "\n",
    "re.compile\n",
    "re.search\n",
    "re.findall\n",
    "re.finditer\n",
    "re.match\n",
    "re.sub"
   ]
  },
  {
   "cell_type": "markdown",
   "metadata": {},
   "source": [
    "## Section 2: Object-oriented Programming\n",
    "\n",
    ".............. <--------------- MERT"
   ]
  },
  {
   "cell_type": "code",
   "execution_count": 19,
   "metadata": {},
   "outputs": [
    {
     "name": "stdout",
     "output_type": "stream",
     "text": [
      "Fluffy\n",
      "4\n",
      "Exotic Shorthair\n"
     ]
    }
   ],
   "source": [
    "class Pet:\n",
    "    species = \"Exotic Shorthair\"\n",
    "    \n",
    "    def __init__(self,name,age):\n",
    "        self.name = name\n",
    "        self.age = age\n",
    "        \n",
    "Pet1 = Pet(\"Fluffy\",4)\n",
    "\n",
    "print(Pet1.name)\n",
    "print(Pet1.age)\n",
    "print(Pet1.species)"
   ]
  },
  {
   "cell_type": "code",
   "execution_count": 11,
   "metadata": {},
   "outputs": [],
   "source": [
    "class Pet_2:\n",
    "    def __init__(self,name,age):\n",
    "        self.name = name\n",
    "        self.age = age\n",
    "\n",
    "    def describe(self):\n",
    "        print(\"Name:\",self.name)\n",
    "        print(\"Age:\",self.age)"
   ]
  },
  {
   "cell_type": "code",
   "execution_count": 69,
   "metadata": {},
   "outputs": [
    {
     "name": "stdout",
     "output_type": "stream",
     "text": [
      "Name: Kitty\n",
      "Age: 6\n",
      "None\n"
     ]
    }
   ],
   "source": [
    "Pet2= Pet_2(\"Kitty\",6)\n",
    "\n",
    "print(Pet2.describe())"
   ]
  },
  {
   "cell_type": "code",
   "execution_count": 56,
   "metadata": {},
   "outputs": [],
   "source": [
    "### NOT A PRIORITY <----\n",
    "class Pet:\n",
    "    def __init__(self,name,age):\n",
    "        self.name = name\n",
    "        self.age = age\n",
    "    \n",
    "    def describe(self):\n",
    "        print(\"Name:\",self.name)\n",
    "        print(\"Age:\",self.age)\n",
    "    \n",
    "    @staticmethod\n",
    "    def method1(self):\n",
    "        pass\n",
    "    \n",
    "    @classmethod\n",
    "    def method2(cls):\n",
    "        pass"
   ]
  },
  {
   "cell_type": "code",
   "execution_count": 65,
   "metadata": {},
   "outputs": [],
   "source": [
    "### NOT A PRIORITY <----\n",
    "## https://stackoverflow.com/a/2627034/7184515\n",
    "# class getters, and setters\n",
    "class Pet:\n",
    "    def __init__(self,name,age):\n",
    "        self._name = name\n",
    "        self.age = age\n",
    "    \n",
    "    def describe(self):\n",
    "        print(\"Name:\",self.name)\n",
    "        print(\"Age:\",self.age)\n",
    "\n",
    "    @property\n",
    "    def name(self):\n",
    "        return self._name\n",
    "    \n",
    "    @name.setter\n",
    "    def name(self,s):\n",
    "        self._name = s.capitalize()"
   ]
  },
  {
   "cell_type": "code",
   "execution_count": 66,
   "metadata": {},
   "outputs": [
    {
     "data": {
      "text/plain": [
       "'Duman'"
      ]
     },
     "execution_count": 66,
     "metadata": {},
     "output_type": "execute_result"
    }
   ],
   "source": [
    "a = Pet(\"Duman\",1.5)\n",
    "a.name"
   ]
  },
  {
   "cell_type": "code",
   "execution_count": 68,
   "metadata": {},
   "outputs": [
    {
     "data": {
      "text/plain": [
       "'Zıbık'"
      ]
     },
     "execution_count": 68,
     "metadata": {},
     "output_type": "execute_result"
    }
   ],
   "source": [
    "a.name = \"zıbık\"\n",
    "a.name"
   ]
  },
  {
   "cell_type": "code",
   "execution_count": null,
   "metadata": {},
   "outputs": [],
   "source": [
    "class Pet:\n",
    "    def __init__(self,name,age):\n",
    "        self.name = name\n",
    "        self.age = age\n",
    "    \n",
    "    def describe(self):\n",
    "        print(\"Name:\",self.name)\n",
    "        print(\"Age:\",self.age)\n",
    "    \n",
    "    def _method1(self):\n",
    "        pass\n",
    "    \n",
    "    def __method2(self):\n",
    "        pass"
   ]
  },
  {
   "cell_type": "code",
   "execution_count": 49,
   "metadata": {},
   "outputs": [
    {
     "data": {
      "text/plain": [
       "<__main__.Pet at 0x7f8b573a8e10>"
      ]
     },
     "execution_count": 49,
     "metadata": {},
     "output_type": "execute_result"
    }
   ],
   "source": [
    "p = Pet(\"Shimmy\",2)\n",
    "p"
   ]
  },
  {
   "cell_type": "code",
   "execution_count": 50,
   "metadata": {},
   "outputs": [
    {
     "data": {
      "text/plain": [
       "'Shimmy'"
      ]
     },
     "execution_count": 50,
     "metadata": {},
     "output_type": "execute_result"
    }
   ],
   "source": [
    "p.name"
   ]
  },
  {
   "cell_type": "code",
   "execution_count": 51,
   "metadata": {},
   "outputs": [
    {
     "data": {
      "text/plain": [
       "2"
      ]
     },
     "execution_count": 51,
     "metadata": {},
     "output_type": "execute_result"
    }
   ],
   "source": [
    "p.age"
   ]
  },
  {
   "cell_type": "code",
   "execution_count": 52,
   "metadata": {},
   "outputs": [
    {
     "name": "stdout",
     "output_type": "stream",
     "text": [
      "Name: Shimmy\n",
      "Age: 2\n"
     ]
    }
   ],
   "source": [
    "p.describe()"
   ]
  },
  {
   "cell_type": "code",
   "execution_count": null,
   "metadata": {},
   "outputs": [],
   "source": [
    "### ................. FILL SEVERAL EXAMPLES HERE"
   ]
  },
  {
   "cell_type": "code",
   "execution_count": null,
   "metadata": {},
   "outputs": [],
   "source": [
    "class employees:\n",
    "    def __init__(self, name, lname, age, language):\n",
    "        self.name = name\n",
    "        self.lname = lname\n",
    "        self.age = age\n",
    "        self.language = language\n",
    "   \n",
    "    def print_name(self):\n",
    "        print(self.name  + \" \" + self.lname)\n",
    "       \n",
    "    def showage(self):\n",
    "        print(self.name  +  \" \" + self.lname, \"is\", self.age +  \" years old \")\n",
    "       \n",
    "    def speak_language(self):\n",
    "        print(self.name, self.lname, \"speaks\", self.language)\n",
    "       \n",
    "    def showinfo(self):\n",
    "        print(self.name, self.lname, \"is\", self.age, \"and\", \"speaks\", self.language)\n",
    "\n",
    "        \n",
    "manager1 = managers(\"Mert\", \"Trump\", \"44\")\n",
    "manager2 = managers(\"Gamze\", \"Cakır\", \"43\")\n",
    "\n",
    "manager1.print_name()\n",
    "\n",
    "manager1.showage()\n",
    "\n",
    "manager1.addlanguage(\"Spanish and English\")\n",
    "\n",
    "manager1.showinfo()\n",
    "\n",
    "manager2.print_name()\n",
    "\n",
    "manager2.showage()\n",
    "\n",
    "manager2.addlanguage(\"English and French\")\n",
    "\n",
    "manager2.showinfo()\n",
    "\n",
    "employee1 = employees(\"Aras\", \"Kahraman\", \"28\", \"English and Italian\" )\n",
    "employee2 = employees(\"Evrim\", \"Solhan\", \"27\", \"Turkish\")\n",
    "employee3 = employees(\"Ozlem\", \"İsci\", \"34\", \"Russian\")\n",
    "\n",
    "employee1.showinfo()\n",
    "\n",
    "employee2.showinfo()\n",
    "\n",
    "employee3.showinfo()\n"
   ]
  },
  {
   "cell_type": "code",
   "execution_count": 68,
   "metadata": {},
   "outputs": [
    {
     "name": "stdout",
     "output_type": "stream",
     "text": [
      "Addition = 80\n",
      "Multiply = 336\n"
     ]
    }
   ],
   "source": [
    "class Math:\n",
    "    def addition(self,number1,number2):\n",
    "        return number1 + number2\n",
    "\n",
    "    def extraction(self,number1,number2):\n",
    "        return number1 - number2\n",
    "    \n",
    "    def multiply(self,number1,number2):\n",
    "        return number1 * number2\n",
    "    \n",
    "    def division(self,number1,number2):\n",
    "        return number1 / number2\n",
    "    \n",
    "math = Math()\n",
    "print(\"Addition = \" + str(math.addition(2,78)))\n",
    "print(\"Multiply = \" + str(math.multiply(4,84)))"
   ]
  },
  {
   "cell_type": "code",
   "execution_count": 53,
   "metadata": {},
   "outputs": [],
   "source": [
    "class Pet:\n",
    "    def __init__(self,name,age):\n",
    "        self.name = name\n",
    "        self.age = age\n",
    "    \n",
    "    def __repr__(self):\n",
    "        pass\n",
    "    \n",
    "    def __str__(self):\n",
    "        pass\n",
    "    \n",
    "    def __add__(self,other):\n",
    "        return self.name + other.name\n",
    "    \n",
    "    def __sub__(self,other):\n",
    "        pass\n",
    "    \n",
    "    def __mul__(self,other):\n",
    "        pass\n",
    "    \n",
    "    def __ge__(self):\n",
    "        pass"
   ]
  },
  {
   "cell_type": "code",
   "execution_count": 54,
   "metadata": {},
   "outputs": [
    {
     "data": {
      "text/plain": [
       "'ShimmyDoug'"
      ]
     },
     "execution_count": 54,
     "metadata": {},
     "output_type": "execute_result"
    }
   ],
   "source": [
    "Pet(\"Shimmy\",2) + Pet(\"Doug\",2)"
   ]
  },
  {
   "cell_type": "code",
   "execution_count": 55,
   "metadata": {},
   "outputs": [],
   "source": [
    "## inheritance\n",
    "class Cat(Pet):\n",
    "    def __init__(self,lovesdogs=False,*args):\n",
    "        super().__init__(*args)\n",
    "    "
   ]
  },
  {
   "cell_type": "code",
   "execution_count": 57,
   "metadata": {},
   "outputs": [],
   "source": [
    "class Worker():\n",
    "    def __init__(self,name,salary,department):\n",
    "        self.name = name\n",
    "        self.salary = salary\n",
    "        self.department = department\n",
    "        \n",
    "    def showinfo(self):\n",
    "        \n",
    "        print(self.name)\n",
    "        print(self.salary)\n",
    "        print(self.department)\n",
    "        \n",
    "    def change_department(self,new_department):\n",
    "        \n",
    "        self.department = new_department"
   ]
  },
  {
   "cell_type": "code",
   "execution_count": 58,
   "metadata": {},
   "outputs": [],
   "source": [
    "class Manager(Worker):\n",
    "    pass"
   ]
  },
  {
   "cell_type": "code",
   "execution_count": 59,
   "metadata": {},
   "outputs": [],
   "source": [
    "Manager1 = Manager(\"Dave Johnson\",1000,\"Human Resources\")"
   ]
  },
  {
   "cell_type": "code",
   "execution_count": 60,
   "metadata": {
    "scrolled": true
   },
   "outputs": [
    {
     "name": "stdout",
     "output_type": "stream",
     "text": [
      "Dave Johnson\n",
      "1000\n",
      "Human Resources\n"
     ]
    }
   ],
   "source": [
    "Manager1.showinfo()"
   ]
  },
  {
   "cell_type": "code",
   "execution_count": 61,
   "metadata": {},
   "outputs": [],
   "source": [
    "Manager1.change_department(\"Finance\")"
   ]
  },
  {
   "cell_type": "code",
   "execution_count": 62,
   "metadata": {},
   "outputs": [
    {
     "name": "stdout",
     "output_type": "stream",
     "text": [
      "Dave Johnson\n",
      "1000\n",
      "Finance\n"
     ]
    }
   ],
   "source": [
    "Manager1.showinfo()"
   ]
  },
  {
   "cell_type": "code",
   "execution_count": 63,
   "metadata": {},
   "outputs": [],
   "source": [
    "class Manager(Worker):\n",
    "    def give_raise(self,raise_amount):\n",
    "        self.salary += raise_amount"
   ]
  },
  {
   "cell_type": "code",
   "execution_count": 64,
   "metadata": {},
   "outputs": [],
   "source": [
    "Manager2 = Manager(\"Rose Newman\",2000,\"IT\")"
   ]
  },
  {
   "cell_type": "code",
   "execution_count": 65,
   "metadata": {
    "scrolled": true
   },
   "outputs": [
    {
     "name": "stdout",
     "output_type": "stream",
     "text": [
      "Rose Newman\n",
      "2000\n",
      "IT\n"
     ]
    }
   ],
   "source": [
    "Manager2.showinfo()"
   ]
  },
  {
   "cell_type": "code",
   "execution_count": 66,
   "metadata": {},
   "outputs": [],
   "source": [
    "Manager2.give_raise(500)"
   ]
  },
  {
   "cell_type": "code",
   "execution_count": 67,
   "metadata": {},
   "outputs": [
    {
     "name": "stdout",
     "output_type": "stream",
     "text": [
      "Rose Newman\n",
      "2500\n",
      "IT\n"
     ]
    }
   ],
   "source": [
    "Manager2.showinfo()"
   ]
  },
  {
   "cell_type": "code",
   "execution_count": null,
   "metadata": {},
   "outputs": [],
   "source": [
    "class Author:\n",
    "    pass\n",
    "\n",
    "class Columnist(Author):\n",
    "    pass\n",
    "\n",
    "class Academic(Author):\n",
    "    pass\n",
    "\n",
    "class Poet(Author):\n",
    "    pass\n",
    "\n",
    "class Novelist(Author):\n",
    "    pass\n",
    "\n",
    "class Critic(Author):\n",
    "    pass\n",
    "\n",
    "class NewAge(Poet,Novelist,Columnist):\n",
    "    pass"
   ]
  },
  {
   "cell_type": "markdown",
   "metadata": {},
   "source": [
    "## Example Project"
   ]
  },
  {
   "cell_type": "markdown",
   "metadata": {},
   "source": [
    "## Project"
   ]
  },
  {
   "cell_type": "markdown",
   "metadata": {},
   "source": [
    "## Prerequisite to Next Week: `numpy`\n",
    "\n",
    "Be sure to install numpy using `pip`, or `conda`.\n",
    "\n",
    "* `$pip install numpy`\n",
    "\n",
    "or\n",
    "\n",
    "\n",
    "* `$conda install numpy`\n",
    "\n",
    "or use Anaconda Navigator to install numpy module."
   ]
  },
  {
   "cell_type": "markdown",
   "metadata": {},
   "source": [
    "## References\n",
    "\n",
    "https://docs.python.org/3/library/\n",
    "\n",
    "https://docs.python.org/3/reference/import.html\n",
    "\n"
   ]
  },
  {
   "cell_type": "code",
   "execution_count": null,
   "metadata": {},
   "outputs": [],
   "source": []
  }
 ],
 "metadata": {
  "kernelspec": {
   "display_name": "Python 3",
   "language": "python",
   "name": "python3"
  },
  "language_info": {
   "codemirror_mode": {
    "name": "ipython",
    "version": 3
   },
   "file_extension": ".py",
   "mimetype": "text/x-python",
   "name": "python",
   "nbconvert_exporter": "python",
   "pygments_lexer": "ipython3",
   "version": "3.6.9"
  }
 },
 "nbformat": 4,
 "nbformat_minor": 4
}
