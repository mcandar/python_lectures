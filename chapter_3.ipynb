{
 "cells": [
  {
   "cell_type": "markdown",
   "metadata": {},
   "source": [
    "# Chapter 3\n",
    "\n",
    ".............\n",
    "\n",
    "## Learning Goals\n",
    "\n",
    "- Standard Library\n",
    "- Introduction to Object-oriented programming\n",
    "\n",
    "## Authors\n",
    "\n",
    "* Mert Candar\n",
    "* Aras Kahraman"
   ]
  },
  {
   "cell_type": "markdown",
   "metadata": {},
   "source": [
    "## Section 1: Standard Library\n",
    "\n",
    "Standard library consists of a number of python modules that comes with python by default.\n",
    "\n",
    "* string\n",
    "* re\n",
    "* datetime\n",
    "* collections\n",
    "* math\n",
    "* random\n",
    "* itertools\n",
    "* functools\n",
    "* pathlib\n",
    "* os\n",
    "* pickle\n",
    "* csv\n",
    "* json\n",
    "* urllib\n",
    "* sys\n",
    "* time\n",
    "\n",
    "### `import` command"
   ]
  },
  {
   "cell_type": "code",
   "execution_count": 2,
   "metadata": {},
   "outputs": [],
   "source": [
    "import math\n",
    "from math import log"
   ]
  },
  {
   "cell_type": "code",
   "execution_count": 3,
   "metadata": {},
   "outputs": [],
   "source": [
    "## TODO: ALSO MAKE MAP AND FILTER EXAMPLES MAYBE WITH FOR LOOPS!!!!\n",
    "## TODO: google search each module for possible examples...."
   ]
  },
  {
   "cell_type": "code",
   "execution_count": 69,
   "metadata": {
    "scrolled": true
   },
   "outputs": [
    {
     "ename": "TypeError",
     "evalue": "gamma() takes exactly one argument (0 given)",
     "output_type": "error",
     "traceback": [
      "\u001b[1;31m---------------------------------------------------------------------------\u001b[0m",
      "\u001b[1;31mTypeError\u001b[0m                                 Traceback (most recent call last)",
      "\u001b[1;32m<ipython-input-69-8803d8273173>\u001b[0m in \u001b[0;36m<module>\u001b[1;34m\u001b[0m\n\u001b[0;32m      2\u001b[0m \u001b[1;32mimport\u001b[0m \u001b[0mmath\u001b[0m\u001b[1;33m\u001b[0m\u001b[1;33m\u001b[0m\u001b[0m\n\u001b[0;32m      3\u001b[0m \u001b[1;33m\u001b[0m\u001b[0m\n\u001b[1;32m----> 4\u001b[1;33m \u001b[0mmath\u001b[0m\u001b[1;33m.\u001b[0m\u001b[0mgamma\u001b[0m\u001b[1;33m(\u001b[0m\u001b[1;33m)\u001b[0m\u001b[1;33m\u001b[0m\u001b[1;33m\u001b[0m\u001b[0m\n\u001b[0m\u001b[0;32m      5\u001b[0m \u001b[0mmath\u001b[0m\u001b[1;33m.\u001b[0m\u001b[0msin\u001b[0m\u001b[1;33m(\u001b[0m\u001b[1;33m)\u001b[0m\u001b[1;33m\u001b[0m\u001b[1;33m\u001b[0m\u001b[0m\n\u001b[0;32m      6\u001b[0m \u001b[0mmath\u001b[0m\u001b[1;33m.\u001b[0m\u001b[0mceil\u001b[0m\u001b[1;33m\u001b[0m\u001b[1;33m\u001b[0m\u001b[0m\n",
      "\u001b[1;31mTypeError\u001b[0m: gamma() takes exactly one argument (0 given)"
     ]
    }
   ],
   "source": [
    "# math basic operations\n",
    "import math\n",
    "\n",
    "math.gamma()\n",
    "math.sin()\n",
    "math.ceil\n",
    "math.factorial\n",
    "math.log\n",
    "\n",
    "math.inf"
   ]
  },
  {
   "cell_type": "code",
   "execution_count": 68,
   "metadata": {},
   "outputs": [
    {
     "data": {
      "text/plain": [
       "24.0"
      ]
     },
     "execution_count": 68,
     "metadata": {},
     "output_type": "execute_result"
    }
   ],
   "source": [
    "math.gamma(5)"
   ]
  },
  {
   "cell_type": "code",
   "execution_count": 67,
   "metadata": {},
   "outputs": [
    {
     "data": {
      "text/plain": [
       "-0.3048106211022167"
      ]
     },
     "execution_count": 67,
     "metadata": {},
     "output_type": "execute_result"
    }
   ],
   "source": [
    "math.sin(60)"
   ]
  },
  {
   "cell_type": "code",
   "execution_count": 14,
   "metadata": {},
   "outputs": [
    {
     "data": {
      "text/plain": [
       "0.8939966636005579"
      ]
     },
     "execution_count": 14,
     "metadata": {},
     "output_type": "execute_result"
    }
   ],
   "source": [
    "math.sin(90)"
   ]
  },
  {
   "cell_type": "code",
   "execution_count": 22,
   "metadata": {
    "scrolled": true
   },
   "outputs": [
    {
     "data": {
      "text/plain": [
       "4"
      ]
     },
     "execution_count": 22,
     "metadata": {},
     "output_type": "execute_result"
    }
   ],
   "source": [
    "math.ceil(3.5)"
   ]
  },
  {
   "cell_type": "code",
   "execution_count": 25,
   "metadata": {},
   "outputs": [
    {
     "data": {
      "text/plain": [
       "-2"
      ]
     },
     "execution_count": 25,
     "metadata": {},
     "output_type": "execute_result"
    }
   ],
   "source": [
    "math.ceil(-2.3)"
   ]
  },
  {
   "cell_type": "code",
   "execution_count": 19,
   "metadata": {},
   "outputs": [
    {
     "data": {
      "text/plain": [
       "0"
      ]
     },
     "execution_count": 19,
     "metadata": {},
     "output_type": "execute_result"
    }
   ],
   "source": [
    "math.ceil(-0.3)"
   ]
  },
  {
   "cell_type": "code",
   "execution_count": 28,
   "metadata": {},
   "outputs": [
    {
     "data": {
      "text/plain": [
       "120"
      ]
     },
     "execution_count": 28,
     "metadata": {},
     "output_type": "execute_result"
    }
   ],
   "source": [
    "math.factorial(5)"
   ]
  },
  {
   "cell_type": "code",
   "execution_count": 29,
   "metadata": {},
   "outputs": [
    {
     "ename": "ValueError",
     "evalue": "factorial() not defined for negative values",
     "output_type": "error",
     "traceback": [
      "\u001b[1;31m---------------------------------------------------------------------------\u001b[0m",
      "\u001b[1;31mValueError\u001b[0m                                Traceback (most recent call last)",
      "\u001b[1;32m<ipython-input-29-a46d876612ec>\u001b[0m in \u001b[0;36m<module>\u001b[1;34m\u001b[0m\n\u001b[1;32m----> 1\u001b[1;33m \u001b[0mmath\u001b[0m\u001b[1;33m.\u001b[0m\u001b[0mfactorial\u001b[0m\u001b[1;33m(\u001b[0m\u001b[1;33m-\u001b[0m\u001b[1;36m5\u001b[0m\u001b[1;33m)\u001b[0m\u001b[1;33m\u001b[0m\u001b[1;33m\u001b[0m\u001b[0m\n\u001b[0m",
      "\u001b[1;31mValueError\u001b[0m: factorial() not defined for negative values"
     ]
    }
   ],
   "source": [
    "math.factorial(-5)"
   ]
  },
  {
   "cell_type": "code",
   "execution_count": 30,
   "metadata": {},
   "outputs": [
    {
     "data": {
      "text/plain": [
       "2.995732273553991"
      ]
     },
     "execution_count": 30,
     "metadata": {},
     "output_type": "execute_result"
    }
   ],
   "source": [
    "math.log(20)"
   ]
  },
  {
   "cell_type": "code",
   "execution_count": 32,
   "metadata": {},
   "outputs": [
    {
     "ename": "TypeError",
     "evalue": "'float' object is not callable",
     "output_type": "error",
     "traceback": [
      "\u001b[1;31m---------------------------------------------------------------------------\u001b[0m",
      "\u001b[1;31mTypeError\u001b[0m                                 Traceback (most recent call last)",
      "\u001b[1;32m<ipython-input-32-1f958c5b1af2>\u001b[0m in \u001b[0;36m<module>\u001b[1;34m\u001b[0m\n\u001b[1;32m----> 1\u001b[1;33m \u001b[0mmath\u001b[0m\u001b[1;33m.\u001b[0m\u001b[0minf\u001b[0m\u001b[1;33m(\u001b[0m\u001b[1;36m20.2\u001b[0m\u001b[1;33m)\u001b[0m\u001b[1;33m\u001b[0m\u001b[1;33m\u001b[0m\u001b[0m\n\u001b[0m",
      "\u001b[1;31mTypeError\u001b[0m: 'float' object is not callable"
     ]
    }
   ],
   "source": [
    "math.inf(20.2) #---------------< Buraya bak"
   ]
  },
  {
   "cell_type": "code",
   "execution_count": 33,
   "metadata": {},
   "outputs": [
    {
     "data": {
      "text/plain": [
       "<function statistics.mode(data)>"
      ]
     },
     "execution_count": 33,
     "metadata": {},
     "output_type": "execute_result"
    }
   ],
   "source": [
    "import statistics\n",
    "\n",
    "statistics.mean\n",
    "statistics.median\n",
    "statistics.stdev\n",
    "statistics.variance\n",
    "statistics.mode"
   ]
  },
  {
   "cell_type": "code",
   "execution_count": 35,
   "metadata": {},
   "outputs": [
    {
     "name": "stdout",
     "output_type": "stream",
     "text": [
      "Mean is : 5.142857142857143\n"
     ]
    }
   ],
   "source": [
    "data1 = [1, 3, 8, 20, -4, 6, 2]\n",
    "  \n",
    "x = statistics.mean(data1)\n",
    "\n",
    "print(\"Mean is :\", x)"
   ]
  },
  {
   "cell_type": "code",
   "execution_count": 39,
   "metadata": {},
   "outputs": [
    {
     "data": {
      "text/plain": [
       "8"
      ]
     },
     "execution_count": 39,
     "metadata": {},
     "output_type": "execute_result"
    }
   ],
   "source": [
    "statistics.median([7, 8, 9])"
   ]
  },
  {
   "cell_type": "code",
   "execution_count": 41,
   "metadata": {},
   "outputs": [
    {
     "data": {
      "text/plain": [
       "8.5"
      ]
     },
     "execution_count": 41,
     "metadata": {},
     "output_type": "execute_result"
    }
   ],
   "source": [
    "statistics.median([7, 8, 9, 15])"
   ]
  },
  {
   "cell_type": "code",
   "execution_count": 43,
   "metadata": {},
   "outputs": [
    {
     "data": {
      "text/plain": [
       "5"
      ]
     },
     "execution_count": 43,
     "metadata": {},
     "output_type": "execute_result"
    }
   ],
   "source": [
    "statistics.median_low([1, 5, 7])"
   ]
  },
  {
   "cell_type": "code",
   "execution_count": 45,
   "metadata": {},
   "outputs": [
    {
     "data": {
      "text/plain": [
       "5"
      ]
     },
     "execution_count": 45,
     "metadata": {},
     "output_type": "execute_result"
    }
   ],
   "source": [
    "statistics.median_low([1, 5, 7, 9])"
   ]
  },
  {
   "cell_type": "code",
   "execution_count": 46,
   "metadata": {},
   "outputs": [
    {
     "data": {
      "text/plain": [
       "7"
      ]
     },
     "execution_count": 46,
     "metadata": {},
     "output_type": "execute_result"
    }
   ],
   "source": [
    "statistics.median_high([1, 5, 7, 9])"
   ]
  },
  {
   "cell_type": "code",
   "execution_count": 72,
   "metadata": {
    "scrolled": false
   },
   "outputs": [
    {
     "data": {
      "text/plain": [
       "1.5811388300841898"
      ]
     },
     "execution_count": 72,
     "metadata": {},
     "output_type": "execute_result"
    }
   ],
   "source": [
    "list = [1, 2, 3, 4, 5]\n",
    "\n",
    "statistics.stdev(list)"
   ]
  },
  {
   "cell_type": "code",
   "execution_count": 71,
   "metadata": {},
   "outputs": [
    {
     "data": {
      "text/plain": [
       "7.107616666666669"
      ]
     },
     "execution_count": 71,
     "metadata": {},
     "output_type": "execute_result"
    }
   ],
   "source": [
    "data = [4.64, 1.18, 2.53, 8.22, 4, 1.16]\n",
    "  \n",
    "statistics.variance(data)"
   ]
  },
  {
   "cell_type": "code",
   "execution_count": 73,
   "metadata": {},
   "outputs": [
    {
     "data": {
      "text/plain": [
       "5"
      ]
     },
     "execution_count": 73,
     "metadata": {},
     "output_type": "execute_result"
    }
   ],
   "source": [
    "set1 =[1, 2, \"a\", \"3\", 5, 7, 4, \"a\", 5, 5]\n",
    "  \n",
    "statistics.mode(set1)"
   ]
  },
  {
   "cell_type": "code",
   "execution_count": 2,
   "metadata": {
    "scrolled": true
   },
   "outputs": [
    {
     "ename": "KeyboardInterrupt",
     "evalue": "Interrupted by user",
     "output_type": "error",
     "traceback": [
      "\u001b[1;31m---------------------------------------------------------------------------\u001b[0m",
      "\u001b[1;31mKeyboardInterrupt\u001b[0m                         Traceback (most recent call last)",
      "\u001b[1;32m<ipython-input-2-80293e5b304f>\u001b[0m in \u001b[0;36m<module>\u001b[1;34m\u001b[0m\n\u001b[0;32m      8\u001b[0m \u001b[0mrandom\u001b[0m\u001b[1;33m.\u001b[0m\u001b[0muniform\u001b[0m\u001b[1;33m\u001b[0m\u001b[1;33m\u001b[0m\u001b[0m\n\u001b[0;32m      9\u001b[0m \u001b[1;33m\u001b[0m\u001b[0m\n\u001b[1;32m---> 10\u001b[1;33m \u001b[0mnumber\u001b[0m \u001b[1;33m=\u001b[0m \u001b[0mint\u001b[0m\u001b[1;33m(\u001b[0m\u001b[0minput\u001b[0m\u001b[1;33m(\u001b[0m\u001b[1;34m\"Please guess a number\"\u001b[0m\u001b[1;33m)\u001b[0m\u001b[1;33m)\u001b[0m\u001b[1;33m\u001b[0m\u001b[1;33m\u001b[0m\u001b[0m\n\u001b[0m\u001b[0;32m     11\u001b[0m \u001b[0mrand_num\u001b[0m \u001b[1;33m=\u001b[0m \u001b[0mrandom\u001b[0m\u001b[1;33m.\u001b[0m\u001b[0mrandrange\u001b[0m\u001b[1;33m(\u001b[0m\u001b[1;36m0\u001b[0m\u001b[1;33m,\u001b[0m\u001b[1;36m11\u001b[0m\u001b[1;33m)\u001b[0m\u001b[1;33m\u001b[0m\u001b[1;33m\u001b[0m\u001b[0m\n\u001b[0;32m     12\u001b[0m \u001b[1;33m\u001b[0m\u001b[0m\n",
      "\u001b[1;32m~\\anaconda3\\lib\\site-packages\\ipykernel\\kernelbase.py\u001b[0m in \u001b[0;36mraw_input\u001b[1;34m(self, prompt)\u001b[0m\n\u001b[0;32m    858\u001b[0m                 \u001b[1;34m\"raw_input was called, but this frontend does not support input requests.\"\u001b[0m\u001b[1;33m\u001b[0m\u001b[1;33m\u001b[0m\u001b[0m\n\u001b[0;32m    859\u001b[0m             )\n\u001b[1;32m--> 860\u001b[1;33m         return self._input_request(str(prompt),\n\u001b[0m\u001b[0;32m    861\u001b[0m             \u001b[0mself\u001b[0m\u001b[1;33m.\u001b[0m\u001b[0m_parent_ident\u001b[0m\u001b[1;33m,\u001b[0m\u001b[1;33m\u001b[0m\u001b[1;33m\u001b[0m\u001b[0m\n\u001b[0;32m    862\u001b[0m             \u001b[0mself\u001b[0m\u001b[1;33m.\u001b[0m\u001b[0m_parent_header\u001b[0m\u001b[1;33m,\u001b[0m\u001b[1;33m\u001b[0m\u001b[1;33m\u001b[0m\u001b[0m\n",
      "\u001b[1;32m~\\anaconda3\\lib\\site-packages\\ipykernel\\kernelbase.py\u001b[0m in \u001b[0;36m_input_request\u001b[1;34m(self, prompt, ident, parent, password)\u001b[0m\n\u001b[0;32m    902\u001b[0m             \u001b[1;32mexcept\u001b[0m \u001b[0mKeyboardInterrupt\u001b[0m\u001b[1;33m:\u001b[0m\u001b[1;33m\u001b[0m\u001b[1;33m\u001b[0m\u001b[0m\n\u001b[0;32m    903\u001b[0m                 \u001b[1;31m# re-raise KeyboardInterrupt, to truncate traceback\u001b[0m\u001b[1;33m\u001b[0m\u001b[1;33m\u001b[0m\u001b[1;33m\u001b[0m\u001b[0m\n\u001b[1;32m--> 904\u001b[1;33m                 \u001b[1;32mraise\u001b[0m \u001b[0mKeyboardInterrupt\u001b[0m\u001b[1;33m(\u001b[0m\u001b[1;34m\"Interrupted by user\"\u001b[0m\u001b[1;33m)\u001b[0m \u001b[1;32mfrom\u001b[0m \u001b[1;32mNone\u001b[0m\u001b[1;33m\u001b[0m\u001b[1;33m\u001b[0m\u001b[0m\n\u001b[0m\u001b[0;32m    905\u001b[0m             \u001b[1;32mexcept\u001b[0m \u001b[0mException\u001b[0m \u001b[1;32mas\u001b[0m \u001b[0me\u001b[0m\u001b[1;33m:\u001b[0m\u001b[1;33m\u001b[0m\u001b[1;33m\u001b[0m\u001b[0m\n\u001b[0;32m    906\u001b[0m                 \u001b[0mself\u001b[0m\u001b[1;33m.\u001b[0m\u001b[0mlog\u001b[0m\u001b[1;33m.\u001b[0m\u001b[0mwarning\u001b[0m\u001b[1;33m(\u001b[0m\u001b[1;34m\"Invalid Message:\"\u001b[0m\u001b[1;33m,\u001b[0m \u001b[0mexc_info\u001b[0m\u001b[1;33m=\u001b[0m\u001b[1;32mTrue\u001b[0m\u001b[1;33m)\u001b[0m\u001b[1;33m\u001b[0m\u001b[1;33m\u001b[0m\u001b[0m\n",
      "\u001b[1;31mKeyboardInterrupt\u001b[0m: Interrupted by user"
     ]
    }
   ],
   "source": [
    "import random\n",
    "\n",
    "random.seed\n",
    "random.gauss #----------------------------< Buna bak\n",
    "random.shuffle\n",
    "random.choice\n",
    "random.randint\n",
    "random.uniform\n",
    "\n",
    "number = int(input(\"Please guess a number\"))\n",
    "rand_num = random.randrange(0,11)\n",
    "\n",
    "while number != rand_num:\n",
    "    if (number == rand_num): \n",
    "        print( \"You got it!\")\n",
    "        break\n",
    "    if (number > rand_num):\n",
    "        print(\"Wrong! You guessed too high\")\n",
    "        break\n",
    "    if (number < rand_num):\n",
    "        print(\"Wrong! You guessed too low\")\n",
    "        break\n",
    "else:\n",
    "    print(\"Please enter an integer between 1 and 10: \")"
   ]
  },
  {
   "cell_type": "code",
   "execution_count": 7,
   "metadata": {
    "scrolled": true
   },
   "outputs": [
    {
     "name": "stdout",
     "output_type": "stream",
     "text": [
      "Random number seed 1 :  0.13436424411240122\n",
      "Random number seed 1 :  0.13436424411240122\n",
      "Random number seed 2 :  0.9560342718892494\n",
      "Random number seed 2 :  0.9560342718892494\n",
      "Random number seed 3 :  0.23796462709189137\n",
      "Random number seed 4 :  0.23604808973743452\n"
     ]
    }
   ],
   "source": [
    "random.seed(1)\n",
    "print(\"Random number seed 1 : \", random.random())\n",
    "\n",
    "random.seed(1)\n",
    "print(\"Random number seed 1 : \", random.random())\n",
    "\n",
    "random.seed(2)\n",
    "print(\"Random number seed 2 : \", random.random())\n",
    "\n",
    "random.seed(2)\n",
    "print(\"Random number seed 2 : \", random.random())\n",
    "\n",
    "random.seed(3)\n",
    "print(\"Random number seed 3 : \", random.random())\n",
    "\n",
    "random.seed(4)\n",
    "print(\"Random number seed 4 : \", random.random())"
   ]
  },
  {
   "cell_type": "code",
   "execution_count": 8,
   "metadata": {},
   "outputs": [
    {
     "name": "stdout",
     "output_type": "stream",
     "text": [
      "Random number seed 1 :  0.13436424411240122\n"
     ]
    }
   ],
   "source": [
    "random.seed(1)\n",
    "print(\"Random number seed 1 : \", random.random())"
   ]
  },
  {
   "cell_type": "code",
   "execution_count": 20,
   "metadata": {
    "scrolled": true
   },
   "outputs": [
    {
     "name": "stdout",
     "output_type": "stream",
     "text": [
      "42\n",
      "43\n",
      "41\n"
     ]
    }
   ],
   "source": [
    "for i in range(3):\n",
    "    random.seed()\n",
    "    print(random.randint(25,50))"
   ]
  },
  {
   "cell_type": "code",
   "execution_count": 21,
   "metadata": {},
   "outputs": [
    {
     "name": "stdout",
     "output_type": "stream",
     "text": [
      "29\n",
      "29\n",
      "29\n"
     ]
    }
   ],
   "source": [
    "for i in range(3):\n",
    "    random.seed(1)\n",
    "    print(random.randint(25,50))"
   ]
  },
  {
   "cell_type": "code",
   "execution_count": 22,
   "metadata": {},
   "outputs": [
    {
     "name": "stdout",
     "output_type": "stream",
     "text": [
      "26\n",
      "26\n",
      "26\n"
     ]
    }
   ],
   "source": [
    "for i in range(3):\n",
    "    random.seed(2)\n",
    "    print(random.randint(25,50))"
   ]
  },
  {
   "cell_type": "code",
   "execution_count": 7,
   "metadata": {},
   "outputs": [
    {
     "name": "stdout",
     "output_type": "stream",
     "text": [
      "28.468720839352102\n"
     ]
    }
   ],
   "source": [
    "mu = 100\n",
    "sigma = 50\n",
    "\n",
    "print(random.gauss(mu, sigma))"
   ]
  },
  {
   "cell_type": "code",
   "execution_count": 8,
   "metadata": {},
   "outputs": [
    {
     "name": "stdout",
     "output_type": "stream",
     "text": [
      "Changed list :  [44, 8, 664, 22]\n"
     ]
    }
   ],
   "source": [
    "list = [8, 22, 44, 664]\n",
    "\n",
    "random.shuffle(list)\n",
    "\n",
    "print(\"Changed list : \",  list)"
   ]
  },
  {
   "cell_type": "code",
   "execution_count": 10,
   "metadata": {},
   "outputs": [
    {
     "data": {
      "text/plain": [
       "'Kirk'"
      ]
     },
     "execution_count": 10,
     "metadata": {},
     "output_type": "execute_result"
    }
   ],
   "source": [
    "list = ['Dave', 'Oliver', 'Jane', 'Kirk', 'Samantha']\n",
    "\n",
    "random.choice(list)"
   ]
  },
  {
   "cell_type": "code",
   "execution_count": 13,
   "metadata": {},
   "outputs": [
    {
     "data": {
      "text/plain": [
       "293"
      ]
     },
     "execution_count": 13,
     "metadata": {},
     "output_type": "execute_result"
    }
   ],
   "source": [
    "random.randint(45, 500)"
   ]
  },
  {
   "cell_type": "code",
   "execution_count": 23,
   "metadata": {},
   "outputs": [
    {
     "data": {
      "text/plain": [
       "24.843010218299757"
      ]
     },
     "execution_count": 23,
     "metadata": {},
     "output_type": "execute_result"
    }
   ],
   "source": [
    "random.uniform(5,100)"
   ]
  },
  {
   "cell_type": "code",
   "execution_count": 24,
   "metadata": {},
   "outputs": [
    {
     "data": {
      "text/plain": [
       "1.0565071594120399"
      ]
     },
     "execution_count": 24,
     "metadata": {},
     "output_type": "execute_result"
    }
   ],
   "source": [
    "random.uniform(0.5, 1.5)"
   ]
  },
  {
   "cell_type": "code",
   "execution_count": 35,
   "metadata": {},
   "outputs": [
    {
     "data": {
      "text/plain": [
       "collections.defaultdict"
      ]
     },
     "execution_count": 35,
     "metadata": {},
     "output_type": "execute_result"
    }
   ],
   "source": [
    "import collections\n",
    "\n",
    "collections.namedtuple\n",
    "collections.defaultdict"
   ]
  },
  {
   "cell_type": "code",
   "execution_count": 30,
   "metadata": {},
   "outputs": [],
   "source": [
    "person = namedtuple(\"People\", \"name,age,job\")\n",
    "\n",
    "Dave = person(name=\"Dave\", age=\"32\", job=\"Data Scientist\")\n",
    "Oliver = person(name=\"Oliver\", age=\"35\", job=\"Software Developer\")"
   ]
  },
  {
   "cell_type": "code",
   "execution_count": 31,
   "metadata": {},
   "outputs": [
    {
     "name": "stdout",
     "output_type": "stream",
     "text": [
      "People(name='Dave', age='32', job='Data Scientist')\n"
     ]
    }
   ],
   "source": [
    "print(Dave)"
   ]
  },
  {
   "cell_type": "code",
   "execution_count": 32,
   "metadata": {},
   "outputs": [
    {
     "name": "stdout",
     "output_type": "stream",
     "text": [
      "32\n"
     ]
    }
   ],
   "source": [
    "print(Dave.age)"
   ]
  },
  {
   "cell_type": "code",
   "execution_count": 33,
   "metadata": {},
   "outputs": [
    {
     "name": "stdout",
     "output_type": "stream",
     "text": [
      "Software Developer\n"
     ]
    }
   ],
   "source": [
    "print(Oliver.job)"
   ]
  },
  {
   "cell_type": "code",
   "execution_count": 41,
   "metadata": {},
   "outputs": [
    {
     "name": "stdout",
     "output_type": "stream",
     "text": [
      "defaultdict(<class 'int'>, {'Leonard': 32, 'Joseph': 28, 'Jane': 0})\n"
     ]
    }
   ],
   "source": [
    "workers_time = defaultdict(int)\n",
    "\n",
    "workers_time[\"Leonard\"] = 32\n",
    "workers_time[\"Joseph\"] = 28\n",
    "jane_worktime = workers_time[\"Jane\"]\n",
    "\n",
    "print(workers_time)"
   ]
  },
  {
   "cell_type": "code",
   "execution_count": 44,
   "metadata": {},
   "outputs": [
    {
     "ename": "TypeError",
     "evalue": "first argument must be callable or None",
     "output_type": "error",
     "traceback": [
      "\u001b[1;31m---------------------------------------------------------------------------\u001b[0m",
      "\u001b[1;31mTypeError\u001b[0m                                 Traceback (most recent call last)",
      "\u001b[1;32m<ipython-input-44-27181bffbaed>\u001b[0m in \u001b[0;36m<module>\u001b[1;34m\u001b[0m\n\u001b[0;32m      1\u001b[0m \u001b[1;32mfrom\u001b[0m \u001b[0mcollections\u001b[0m \u001b[1;32mimport\u001b[0m \u001b[0mdefaultdict\u001b[0m\u001b[1;33m\u001b[0m\u001b[1;33m\u001b[0m\u001b[0m\n\u001b[1;32m----> 2\u001b[1;33m \u001b[0mworkers_job\u001b[0m \u001b[1;33m=\u001b[0m \u001b[0mdefaultdict\u001b[0m\u001b[1;33m(\u001b[0m\u001b[0mlist\u001b[0m\u001b[1;33m)\u001b[0m\u001b[1;33m\u001b[0m\u001b[1;33m\u001b[0m\u001b[0m\n\u001b[0m\u001b[0;32m      3\u001b[0m \u001b[1;33m\u001b[0m\u001b[0m\n\u001b[0;32m      4\u001b[0m \u001b[0mworkers_job\u001b[0m\u001b[1;33m[\u001b[0m\u001b[1;34m\"Leonard\"\u001b[0m\u001b[1;33m]\u001b[0m\u001b[1;33m.\u001b[0m\u001b[0mappend\u001b[0m\u001b[1;33m(\u001b[0m\u001b[1;34m\"Editor\"\u001b[0m\u001b[1;33m)\u001b[0m\u001b[1;33m\u001b[0m\u001b[1;33m\u001b[0m\u001b[0m\n\u001b[0;32m      5\u001b[0m \u001b[0mworkers_job\u001b[0m\u001b[1;33m[\u001b[0m\u001b[1;34m\"Joseph\"\u001b[0m\u001b[1;33m]\u001b[0m\u001b[1;33m.\u001b[0m\u001b[0mappend\u001b[0m\u001b[1;33m(\u001b[0m\u001b[1;34m\"Author\"\u001b[0m\u001b[1;33m)\u001b[0m\u001b[1;33m\u001b[0m\u001b[1;33m\u001b[0m\u001b[0m\n",
      "\u001b[1;31mTypeError\u001b[0m: first argument must be callable or None"
     ]
    }
   ],
   "source": [
    "workers_job = defaultdict(list)\n",
    "\n",
    "workers_job[\"Leonard\"].append(\"Editor\")\n",
    "workers_job[\"Joseph\"].append(\"Author\")\n",
    "workers_job[\"Jane\"].append(\"IT\")\n",
    "\n",
    "print(workers_job)"
   ]
  },
  {
   "cell_type": "code",
   "execution_count": 46,
   "metadata": {},
   "outputs": [
    {
     "data": {
      "text/plain": [
       "<function _functools.reduce>"
      ]
     },
     "execution_count": 46,
     "metadata": {},
     "output_type": "execute_result"
    }
   ],
   "source": [
    "import functools\n",
    "\n",
    "functools.reduce"
   ]
  },
  {
   "cell_type": "code",
   "execution_count": 2,
   "metadata": {},
   "outputs": [
    {
     "data": {
      "text/plain": [
       "itertools.product"
      ]
     },
     "execution_count": 2,
     "metadata": {},
     "output_type": "execute_result"
    }
   ],
   "source": [
    "import itertools\n",
    "\n",
    "itertools.chain\n",
    "itertools.combinations\n",
    "itertools.combinations_with_replacement\n",
    "itertools.permutations\n",
    "itertools.groupby #--------------------------< ask\n",
    "itertools.product"
   ]
  },
  {
   "cell_type": "code",
   "execution_count": 29,
   "metadata": {},
   "outputs": [],
   "source": [
    "import itertools"
   ]
  },
  {
   "cell_type": "code",
   "execution_count": 30,
   "metadata": {},
   "outputs": [
    {
     "name": "stdout",
     "output_type": "stream",
     "text": [
      "[1, 2, 3, 4, 5, 6, 7, 8]\n"
     ]
    }
   ],
   "source": [
    "list_odd = [1, 3, 5, 7]\n",
    " \n",
    "list_even = [2, 4, 6, 8]\n",
    "\n",
    "numbers = list(chain(list_odd, list_even))\n",
    " \n",
    "numbers.sort()\n",
    "\n",
    "print(numbers)"
   ]
  },
  {
   "cell_type": "code",
   "execution_count": 31,
   "metadata": {},
   "outputs": [
    {
     "name": "stdout",
     "output_type": "stream",
     "text": [
      "[(1, 1, 3, 3), (1, 1, 3, 3), (1, 1, 3, 3), (1, 3, 3, 3), (1, 3, 3, 3)]\n"
     ]
    }
   ],
   "source": [
    "A = [1,1,3,3,3]\n",
    "\n",
    "print(list(combinations(A,4)))"
   ]
  },
  {
   "cell_type": "code",
   "execution_count": 32,
   "metadata": {},
   "outputs": [
    {
     "name": "stdout",
     "output_type": "stream",
     "text": [
      "['D a A', 'D a T', 'D a a', 'D A T', 'D A a', 'D T a', 'a A T', 'a A a', 'a T a', 'A T a']\n"
     ]
    }
   ],
   "source": [
    "letters =\"DaATa\"\n",
    "\n",
    "a = combinations(letters, 3) \n",
    "\n",
    "list_combination = [' '.join(i) for i in a]\n",
    "  \n",
    "print(y)"
   ]
  },
  {
   "cell_type": "code",
   "execution_count": 33,
   "metadata": {},
   "outputs": [
    {
     "name": "stdout",
     "output_type": "stream",
     "text": [
      "[('D', 'D'), ('D', 'a'), ('D', 'A'), ('D', 'T'), ('D', 'a'), ('a', 'a'), ('a', 'A'), ('a', 'T'), ('a', 'a'), ('A', 'A'), ('A', 'T'), ('A', 'a'), ('T', 'T'), ('T', 'a'), ('a', 'a')]\n"
     ]
    }
   ],
   "source": [
    "letters =\"DaATa\"\n",
    "  \n",
    "l = list(combinations_with_replacement(letters, 2))\n",
    "\n",
    "print(l)"
   ]
  },
  {
   "cell_type": "code",
   "execution_count": 34,
   "metadata": {},
   "outputs": [
    {
     "name": "stdout",
     "output_type": "stream",
     "text": [
      "('1', '4', '7')\n",
      "('1', '7', '4')\n",
      "('4', '1', '7')\n",
      "('4', '7', '1')\n",
      "('7', '1', '4')\n",
      "('7', '4', '1')\n"
     ]
    }
   ],
   "source": [
    "a = \"147\"\n",
    "\n",
    "p = permutations(a) \n",
    "\n",
    "for j in list(p): \n",
    "    print(j) "
   ]
  },
  {
   "cell_type": "code",
   "execution_count": 43,
   "metadata": {},
   "outputs": [
    {
     "ename": "NameError",
     "evalue": "name 'groupby' is not defined",
     "output_type": "error",
     "traceback": [
      "\u001b[1;31m---------------------------------------------------------------------------\u001b[0m",
      "\u001b[1;31mNameError\u001b[0m                                 Traceback (most recent call last)",
      "\u001b[1;32m<ipython-input-43-966c6dc8261e>\u001b[0m in \u001b[0;36m<module>\u001b[1;34m\u001b[0m\n\u001b[0;32m      1\u001b[0m \u001b[0mstocks\u001b[0m \u001b[1;33m=\u001b[0m \u001b[1;33m{\u001b[0m\u001b[1;34m\"PC\"\u001b[0m\u001b[1;33m:\u001b[0m\u001b[1;36m10\u001b[0m\u001b[1;33m,\u001b[0m\u001b[1;34m\"PS\"\u001b[0m\u001b[1;33m:\u001b[0m\u001b[1;36m16\u001b[0m\u001b[1;33m,\u001b[0m\u001b[1;34m\"TV\"\u001b[0m\u001b[1;33m:\u001b[0m\u001b[1;36m16\u001b[0m\u001b[1;33m,\u001b[0m\u001b[1;34m\"Printer\"\u001b[0m\u001b[1;33m:\u001b[0m\u001b[1;36m22\u001b[0m\u001b[1;33m,\u001b[0m\u001b[1;34m\"Modem\"\u001b[0m\u001b[1;33m:\u001b[0m\u001b[1;36m10\u001b[0m\u001b[1;33m,\u001b[0m\u001b[1;34m\"Phone\"\u001b[0m\u001b[1;33m:\u001b[0m\u001b[1;36m8\u001b[0m\u001b[1;33m}\u001b[0m\u001b[1;33m\u001b[0m\u001b[1;33m\u001b[0m\u001b[0m\n\u001b[0;32m      2\u001b[0m \u001b[1;33m\u001b[0m\u001b[0m\n\u001b[1;32m----> 3\u001b[1;33m \u001b[0ma\u001b[0m \u001b[1;33m=\u001b[0m \u001b[0mlist\u001b[0m\u001b[1;33m(\u001b[0m\u001b[0mgroupby\u001b[0m\u001b[1;33m(\u001b[0m\u001b[0mstocks\u001b[0m\u001b[1;33m.\u001b[0m\u001b[0mitems\u001b[0m\u001b[1;33m(\u001b[0m\u001b[1;33m)\u001b[0m\u001b[1;33m)\u001b[0m\u001b[1;33m,\u001b[0m \u001b[0mkey\u001b[0m\u001b[1;33m=\u001b[0m\u001b[1;32mlambda\u001b[0m \u001b[0mx\u001b[0m\u001b[1;33m:\u001b[0m\u001b[0mx\u001b[0m\u001b[1;33m[\u001b[0m\u001b[1;36m1\u001b[0m\u001b[1;33m]\u001b[0m\u001b[1;33m)\u001b[0m\u001b[1;33m\u001b[0m\u001b[1;33m\u001b[0m\u001b[0m\n\u001b[0m\u001b[0;32m      4\u001b[0m \u001b[1;33m\u001b[0m\u001b[0m\n\u001b[0;32m      5\u001b[0m \u001b[1;32mfor\u001b[0m \u001b[0mk\u001b[0m\u001b[1;33m,\u001b[0m\u001b[0mv\u001b[0m \u001b[1;32min\u001b[0m \u001b[0ma\u001b[0m\u001b[1;33m:\u001b[0m\u001b[1;33m\u001b[0m\u001b[1;33m\u001b[0m\u001b[0m\n",
      "\u001b[1;31mNameError\u001b[0m: name 'groupby' is not defined"
     ]
    }
   ],
   "source": [
    "stocks = {\"PC\":10,\"PS\":16,\"TV\":16,\"Printer\":22,\"Modem\":10,\"Phone\":8}\n",
    "\n",
    "a = list(groupby(stocks.items()), key=lambda x:x[1])\n",
    "\n",
    "for k,v in a:\n",
    "    print(k, list(v))"
   ]
  },
  {
   "cell_type": "code",
   "execution_count": 47,
   "metadata": {},
   "outputs": [
    {
     "name": "stdout",
     "output_type": "stream",
     "text": [
      "[('a', 'X'), ('a', 'Y'), ('a', 'Z'), ('b', 'X'), ('b', 'Y'), ('b', 'Z'), ('c', 'X'), ('c', 'Y'), ('c', 'Z')]\n"
     ]
    }
   ],
   "source": [
    "l1 = ['a', 'b', 'c']\n",
    "l2 = ['X', 'Y', 'Z']\n",
    "\n",
    "p = itertools.product(l1, l2)\n",
    "print(list(p))"
   ]
  },
  {
   "cell_type": "code",
   "execution_count": 35,
   "metadata": {},
   "outputs": [
    {
     "name": "stdout",
     "output_type": "stream",
     "text": [
      "All the permutations of the given list is:\n",
      "[(1, 'data'), ('data', 1)]\n",
      "All the permutations of the given string is:\n",
      "[('X', 'Y'), ('Y', 'X')]\n",
      "All the permutations of the given container is:\n",
      "[(0, 1), (0, 2), (0, 3), (0, 4), (1, 0), (1, 2), (1, 3), (1, 4), (2, 0), (2, 1), (2, 3), (2, 4), (3, 0), (3, 1), (3, 2), (3, 4), (4, 0), (4, 1), (4, 2), (4, 3)]\n"
     ]
    }
   ],
   "source": [
    "print (\"All the permutations of the given list is:\")   \n",
    "print (list(permutations([1, 'data'], 2)))   \n",
    "   \n",
    "print (\"All the permutations of the given string is:\")   \n",
    "print (list(permutations('XY')))  \n",
    "      \n",
    "print (\"All the permutations of the given container is:\")   \n",
    "print(list(permutations(range(5), 2)))  "
   ]
  },
  {
   "cell_type": "code",
   "execution_count": 50,
   "metadata": {},
   "outputs": [
    {
     "name": "stdout",
     "output_type": "stream",
     "text": [
      "[('AA', 'colour', 0), ('AA', 'colour', 1), ('AA', 'size', 0), ('AA', 'size', 1), ('BB', 'colour', 0), ('BB', 'colour', 1), ('BB', 'size', 0), ('BB', 'size', 1)]\n"
     ]
    }
   ],
   "source": [
    "t = ('AA', 'BB')\n",
    "d = {'colour': 'white', 'size': 'small'}\n",
    "r = range(2)\n",
    "\n",
    "list_product = list(itertools.product(t, d, r))\n",
    "\n",
    "print(list_product)"
   ]
  },
  {
   "cell_type": "code",
   "execution_count": null,
   "metadata": {},
   "outputs": [],
   "source": []
  },
  {
   "cell_type": "code",
   "execution_count": null,
   "metadata": {},
   "outputs": [],
   "source": []
  },
  {
   "cell_type": "code",
   "execution_count": 37,
   "metadata": {},
   "outputs": [
    {
     "data": {
      "text/plain": [
       "' \\t\\n\\r\\x0b\\x0c'"
      ]
     },
     "execution_count": 37,
     "metadata": {},
     "output_type": "execute_result"
    }
   ],
   "source": [
    "### CAUTION\n",
    "import re\n",
    "\n",
    "# regular expression examples!!! <------------------------\n",
    "\n",
    "re.compile\n",
    "re.search\n",
    "re.findall\n",
    "re.finditer\n",
    "re.match\n",
    "re.sub"
   ]
  },
  {
   "cell_type": "code",
   "execution_count": 54,
   "metadata": {},
   "outputs": [
    {
     "data": {
      "text/plain": [
       "datetime.date"
      ]
     },
     "execution_count": 54,
     "metadata": {},
     "output_type": "execute_result"
    }
   ],
   "source": [
    "import datetime\n",
    "\n",
    "datetime.datetime.now()\n",
    "datetime.datetime(2021,5,20) #-----------------------< ask\n",
    "datetime.date"
   ]
  },
  {
   "cell_type": "code",
   "execution_count": 61,
   "metadata": {},
   "outputs": [
    {
     "name": "stdout",
     "output_type": "stream",
     "text": [
      "2021-05-20 05:46:33.008848\n",
      "2021\n",
      "2021-05-20\n"
     ]
    }
   ],
   "source": [
    "from datetime import datetime\n",
    "\n",
    "current_time = datetime.now()\n",
    "\n",
    "print(current_time)\n",
    "print(current_time.year)\n",
    "print(current_time.date())"
   ]
  },
  {
   "cell_type": "code",
   "execution_count": 55,
   "metadata": {},
   "outputs": [
    {
     "name": "stdout",
     "output_type": "stream",
     "text": [
      "Today's date: 2021-05-20\n"
     ]
    }
   ],
   "source": [
    "from datetime import date\n",
    "\n",
    "today = date.today()\n",
    "\n",
    "print(\"Today's date:\", today)"
   ]
  },
  {
   "cell_type": "code",
   "execution_count": 57,
   "metadata": {},
   "outputs": [
    {
     "name": "stdout",
     "output_type": "stream",
     "text": [
      "2021-05-20 00:00:00\n"
     ]
    }
   ],
   "source": [
    "x = datetime.datetime(2021, 5, 20)\n",
    "\n",
    "print(x)"
   ]
  },
  {
   "cell_type": "code",
   "execution_count": 41,
   "metadata": {},
   "outputs": [
    {
     "data": {
      "text/plain": [
       "<function time.time>"
      ]
     },
     "execution_count": 41,
     "metadata": {},
     "output_type": "execute_result"
    }
   ],
   "source": [
    "import time\n",
    "\n",
    "time.clock #-----------------< ask\n",
    "time.sleep\n",
    "time.time"
   ]
  },
  {
   "cell_type": "code",
   "execution_count": 62,
   "metadata": {},
   "outputs": [],
   "source": [
    "import time"
   ]
  },
  {
   "cell_type": "code",
   "execution_count": 63,
   "metadata": {},
   "outputs": [
    {
     "name": "stdout",
     "output_type": "stream",
     "text": [
      "1621479249.214609\n"
     ]
    }
   ],
   "source": [
    "print(time.time())"
   ]
  },
  {
   "cell_type": "code",
   "execution_count": 64,
   "metadata": {},
   "outputs": [
    {
     "name": "stdout",
     "output_type": "stream",
     "text": [
      "0\n",
      "1\n",
      "2\n",
      "3\n",
      "4\n",
      "5\n",
      "6\n",
      "7\n",
      "8\n",
      "9\n"
     ]
    }
   ],
   "source": [
    "for i in range(10):\n",
    "    time.sleep(1)\n",
    "    print(i)"
   ]
  },
  {
   "cell_type": "code",
   "execution_count": null,
   "metadata": {},
   "outputs": [],
   "source": []
  },
  {
   "cell_type": "code",
   "execution_count": null,
   "metadata": {},
   "outputs": [],
   "source": [
    "import csv\n",
    "\n",
    "## read\n",
    "## write"
   ]
  },
  {
   "cell_type": "code",
   "execution_count": 80,
   "metadata": {},
   "outputs": [
    {
     "name": "stdout",
     "output_type": "stream",
     "text": [
      "Writing workers.csv\n"
     ]
    }
   ],
   "source": [
    "%%writefile workers.csv\n",
    "\"Newman, Samantha\",38,\"London, England\"\n",
    "\"Patricia, Halley\",36,\"Sydney, Australia\"\n",
    "\"Corkery, Bill\",45,\"Detroit, USA\""
   ]
  },
  {
   "cell_type": "code",
   "execution_count": 83,
   "metadata": {},
   "outputs": [
    {
     "name": "stdout",
     "output_type": "stream",
     "text": [
      "['Newman, Samantha', '38', 'London, England']\n",
      "['Patricia, Halley', '36', 'Sydney, Australia']\n",
      "['Corkery, Bill', '45', 'Detroit, USA']\n"
     ]
    }
   ],
   "source": [
    "import csv\n",
    "\n",
    "with open(\"workers.csv\") as w:\n",
    "    rd = csv.reader(w)\n",
    "    for line in rd:\n",
    "        print(line)"
   ]
  },
  {
   "cell_type": "code",
   "execution_count": 89,
   "metadata": {},
   "outputs": [],
   "source": [
    "with open(\"managers.csv\", \"w\", newline=\"\") as m:\n",
    "    wr = csv.writer(m)\n",
    "    wr.writerow(['Graham, Leanne', '53', 'Tulsa, USA'])\n",
    "    wr.writerow(['Weissnat, Kurtis', '57', 'Dublin, Ireland'])"
   ]
  },
  {
   "cell_type": "code",
   "execution_count": 91,
   "metadata": {},
   "outputs": [
    {
     "name": "stdout",
     "output_type": "stream",
     "text": [
      "['Graham, Leanne', '53', 'Tulsa, USA']\n",
      "['Weissnat, Kurtis', '57', 'Dublin, Ireland']\n"
     ]
    }
   ],
   "source": [
    "with open(\"managers.csv\") as m:\n",
    "    mg = csv.reader(m)\n",
    "    for line in mg:\n",
    "        print(line)"
   ]
  },
  {
   "cell_type": "code",
   "execution_count": 71,
   "metadata": {},
   "outputs": [
    {
     "ename": "SyntaxError",
     "evalue": "invalid syntax (<ipython-input-71-542131bf5ccd>, line 10)",
     "output_type": "error",
     "traceback": [
      "\u001b[1;36m  File \u001b[1;32m\"<ipython-input-71-542131bf5ccd>\"\u001b[1;36m, line \u001b[1;32m10\u001b[0m\n\u001b[1;33m    json.read(.....)\u001b[0m\n\u001b[1;37m                  ^\u001b[0m\n\u001b[1;31mSyntaxError\u001b[0m\u001b[1;31m:\u001b[0m invalid syntax\n"
     ]
    }
   ],
   "source": [
    "import json\n",
    "\n",
    "## read\n",
    "## write\n",
    "\n",
    "f = open(\"\")\n",
    "f.close()\n",
    "\n",
    "with open(\"\",\"rb\") as f:\n",
    "    json.read(.....)\n",
    "    \n",
    "with open(\"\",\"wb\") as f:\n",
    "    json.dump(.....)\n",
    "    \n",
    "json.dumps()\n",
    "json.loads()"
   ]
  },
  {
   "cell_type": "code",
   "execution_count": 73,
   "metadata": {},
   "outputs": [
    {
     "name": "stdout",
     "output_type": "stream",
     "text": [
      "Nancy\n",
      "Green\n",
      "{'firstName': 'nancy', 'email': 'nancygreen@nomail.com'}\n",
      "\"Nancy\"\n"
     ]
    }
   ],
   "source": [
    "import json\n",
    "\n",
    "data = '{\"firstName\":\"Nancy\",\"lastName\":\"Green\"}'\n",
    "\n",
    "y = json.loads(data)\n",
    "type(y)\n",
    "print(y[\"firstName\"])\n",
    "print(y[\"lastName\"])\n",
    "\n",
    "\n",
    "customer = {\"firstName\":\"nancy\",\n",
    "            \"email\":\"nancygreen@nomail.com\"}\n",
    "\n",
    "customerJson = json.dumps(customer)\n",
    "\n",
    "print(customer)\n",
    "print(json.dumps(\"Nancy\"))"
   ]
  },
  {
   "cell_type": "code",
   "execution_count": 80,
   "metadata": {},
   "outputs": [
    {
     "name": "stdout",
     "output_type": "stream",
     "text": [
      "cells\n",
      "metadata\n",
      "nbformat\n",
      "nbformat_minor\n",
      "{'cells': [{'cell_type': 'code', 'execution_count': None, 'metadata': {}, 'outputs': [], 'source': ['[\\n', '  {\\n', '    \"id\": 1,\\n', '    \"name\": \"Leanne Graham\",\\n', '    \"username\": \"Bret\",\\n', '    \"email\": \"Sincere@april.biz\",\\n', '    \"address\": {\\n', '      \"street\": \"Kulas Light\",\\n', '      \"suite\": \"Apt. 556\",\\n', '      \"city\": \"Gwenborough\",\\n', '      \"zipcode\": \"92998-3874\",\\n', '      \"geo\": {\\n', '        \"lat\": \"-37.3159\",\\n', '        \"lng\": \"81.1496\"\\n', '      }\\n', '    },\\n', '    \"phone\": \"1-770-736-8031 x56442\",\\n', '    \"website\": \"hildegard.org\",\\n', '    \"company\": {\\n', '      \"name\": \"Romaguera-Crona\",\\n', '      \"catchPhrase\": \"Multi-layered client-server neural-net\",\\n', '      \"bs\": \"harness real-time e-markets\"\\n', '    }\\n', '  },\\n', '  {\\n', '    \"id\": 2,\\n', '    \"name\": \"Ervin Howell\",\\n', '    \"username\": \"Antonette\",\\n', '    \"email\": \"Shanna@melissa.tv\",\\n', '    \"address\": {\\n', '      \"street\": \"Victor Plains\",\\n', '      \"suite\": \"Suite 879\",\\n', '      \"city\": \"Wisokyburgh\",\\n', '      \"zipcode\": \"90566-7771\",\\n', '      \"geo\": {\\n', '        \"lat\": \"-43.9509\",\\n', '        \"lng\": \"-34.4618\"\\n', '      }\\n', '    },\\n', '    \"phone\": \"010-692-6593 x09125\",\\n', '    \"website\": \"anastasia.net\",\\n', '    \"company\": {\\n', '      \"name\": \"Deckow-Crist\",\\n', '      \"catchPhrase\": \"Proactive didactic contingency\",\\n', '      \"bs\": \"synergize scalable supply-chains\"\\n', '    }\\n', '  },\\n', '  {\\n', '    \"id\": 3,\\n', '    \"name\": \"Clementine Bauch\",\\n', '    \"username\": \"Samantha\",\\n', '    \"email\": \"Nathan@yesenia.net\",\\n', '    \"address\": {\\n', '      \"street\": \"Douglas Extension\",\\n', '      \"suite\": \"Suite 847\",\\n', '      \"city\": \"McKenziehaven\",\\n', '      \"zipcode\": \"59590-4157\",\\n', '      \"geo\": {\\n', '        \"lat\": \"-68.6102\",\\n', '        \"lng\": \"-47.0653\"\\n', '      }\\n', '    },\\n', '    \"phone\": \"1-463-123-4447\",\\n', '    \"website\": \"ramiro.info\",\\n', '    \"company\": {\\n', '      \"name\": \"Romaguera-Jacobson\",\\n', '      \"catchPhrase\": \"Face to face bifurcated interface\",\\n', '      \"bs\": \"e-enable strategic applications\"\\n', '    }\\n', '  },\\n', '  {\\n', '    \"id\": 4,\\n', '    \"name\": \"Patricia Lebsack\",\\n', '    \"username\": \"Karianne\",\\n', '    \"email\": \"Julianne.OConner@kory.org\",\\n', '    \"address\": {\\n', '      \"street\": \"Hoeger Mall\",\\n', '      \"suite\": \"Apt. 692\",\\n', '      \"city\": \"South Elvis\",\\n', '      \"zipcode\": \"53919-4257\",\\n', '      \"geo\": {\\n', '        \"lat\": \"29.4572\",\\n', '        \"lng\": \"-164.2990\"\\n', '      }\\n', '    },\\n', '    \"phone\": \"493-170-9623 x156\",\\n', '    \"website\": \"kale.biz\",\\n', '    \"company\": {\\n', '      \"name\": \"Robel-Corkery\",\\n', '      \"catchPhrase\": \"Multi-tiered zero tolerance productivity\",\\n', '      \"bs\": \"transition cutting-edge web services\"\\n', '    }\\n', '  },\\n', '  {\\n', '    \"id\": 5,\\n', '    \"name\": \"Chelsey Dietrich\",\\n', '    \"username\": \"Kamren\",\\n', '    \"email\": \"Lucio_Hettinger@annie.ca\",\\n', '    \"address\": {\\n', '      \"street\": \"Skiles Walks\",\\n', '      \"suite\": \"Suite 351\",\\n', '      \"city\": \"Roscoeview\",\\n', '      \"zipcode\": \"33263\",\\n', '      \"geo\": {\\n', '        \"lat\": \"-31.8129\",\\n', '        \"lng\": \"62.5342\"\\n', '      }\\n', '    },\\n', '    \"phone\": \"(254)954-1289\",\\n', '    \"website\": \"demarco.info\",\\n', '    \"company\": {\\n', '      \"name\": \"Keebler LLC\",\\n', '      \"catchPhrase\": \"User-centric fault-tolerant solution\",\\n', '      \"bs\": \"revolutionize end-to-end systems\"\\n', '    }\\n', '  },\\n', '  {\\n', '    \"id\": 6,\\n', '    \"name\": \"Mrs. Dennis Schulist\",\\n', '    \"username\": \"Leopoldo_Corkery\",\\n', '    \"email\": \"Karley_Dach@jasper.info\",\\n', '    \"address\": {\\n', '      \"street\": \"Norberto Crossing\",\\n', '      \"suite\": \"Apt. 950\",\\n', '      \"city\": \"South Christy\",\\n', '      \"zipcode\": \"23505-1337\",\\n', '      \"geo\": {\\n', '        \"lat\": \"-71.4197\",\\n', '        \"lng\": \"71.7478\"\\n', '      }\\n', '    },\\n', '    \"phone\": \"1-477-935-8478 x6430\",\\n', '    \"website\": \"ola.org\",\\n', '    \"company\": {\\n', '      \"name\": \"Considine-Lockman\",\\n', '      \"catchPhrase\": \"Synchronised bottom-line interface\",\\n', '      \"bs\": \"e-enable innovative applications\"\\n', '    }\\n', '  },\\n', '  {\\n', '    \"id\": 7,\\n', '    \"name\": \"Kurtis Weissnat\",\\n', '    \"username\": \"Elwyn.Skiles\",\\n', '    \"email\": \"Telly.Hoeger@billy.biz\",\\n', '    \"address\": {\\n', '      \"street\": \"Rex Trail\",\\n', '      \"suite\": \"Suite 280\",\\n', '      \"city\": \"Howemouth\",\\n', '      \"zipcode\": \"58804-1099\",\\n', '      \"geo\": {\\n', '        \"lat\": \"24.8918\",\\n', '        \"lng\": \"21.8984\"\\n', '      }\\n', '    },\\n', '    \"phone\": \"210.067.6132\",\\n', '    \"website\": \"elvis.io\",\\n', '    \"company\": {\\n', '      \"name\": \"Johns Group\",\\n', '      \"catchPhrase\": \"Configurable multimedia task-force\",\\n', '      \"bs\": \"generate enterprise e-tailers\"\\n', '    }\\n', '  },\\n', '  {\\n', '    \"id\": 8,\\n', '    \"name\": \"Nicholas Runolfsdottir V\",\\n', '    \"username\": \"Maxime_Nienow\",\\n', '    \"email\": \"Sherwood@rosamond.me\",\\n', '    \"address\": {\\n', '      \"street\": \"Ellsworth Summit\",\\n', '      \"suite\": \"Suite 729\",\\n', '      \"city\": \"Aliyaview\",\\n', '      \"zipcode\": \"45169\",\\n', '      \"geo\": {\\n', '        \"lat\": \"-14.3990\",\\n', '        \"lng\": \"-120.7677\"\\n', '      }\\n', '    },\\n', '    \"phone\": \"586.493.6943 x140\",\\n', '    \"website\": \"jacynthe.com\",\\n', '    \"company\": {\\n', '      \"name\": \"Abernathy Group\",\\n', '      \"catchPhrase\": \"Implemented secondary concept\",\\n', '      \"bs\": \"e-enable extensible e-tailers\"\\n', '    }\\n', '  },\\n', '  {\\n', '    \"id\": 9,\\n', '    \"name\": \"Glenna Reichert\",\\n', '    \"username\": \"Delphine\",\\n', '    \"email\": \"Chaim_McDermott@dana.io\",\\n', '    \"address\": {\\n', '      \"street\": \"Dayna Park\",\\n', '      \"suite\": \"Suite 449\",\\n', '      \"city\": \"Bartholomebury\",\\n', '      \"zipcode\": \"76495-3109\",\\n', '      \"geo\": {\\n', '        \"lat\": \"24.6463\",\\n', '        \"lng\": \"-168.8889\"\\n', '      }\\n', '    },\\n', '    \"phone\": \"(775)976-6794 x41206\",\\n', '    \"website\": \"conrad.com\",\\n', '    \"company\": {\\n', '      \"name\": \"Yost and Sons\",\\n', '      \"catchPhrase\": \"Switchable contextually-based project\",\\n', '      \"bs\": \"aggregate real-time technologies\"\\n', '    }\\n', '  },\\n', '  {\\n', '    \"id\": 10,\\n', '    \"name\": \"Clementina DuBuque\",\\n', '    \"username\": \"Moriah.Stanton\",\\n', '    \"email\": \"Rey.Padberg@karina.biz\",\\n', '    \"address\": {\\n', '      \"street\": \"Kattie Turnpike\",\\n', '      \"suite\": \"Suite 198\",\\n', '      \"city\": \"Lebsackbury\",\\n', '      \"zipcode\": \"31428-2261\",\\n', '      \"geo\": {\\n', '        \"lat\": \"-38.2386\",\\n', '        \"lng\": \"57.2232\"\\n', '      }\\n', '    },\\n', '    \"phone\": \"024-648-3804\",\\n', '    \"website\": \"ambrose.net\",\\n', '    \"company\": {\\n', '      \"name\": \"Hoeger LLC\",\\n', '      \"catchPhrase\": \"Centralized empowering task-force\",\\n', '      \"bs\": \"target end-to-end models\"\\n', '    }\\n', '  }\\n', ']']}], 'metadata': {'kernelspec': {'display_name': 'Python 3', 'language': 'python', 'name': 'python3'}, 'language_info': {'codemirror_mode': {'name': 'ipython', 'version': 3}, 'file_extension': '.py', 'mimetype': 'text/x-python', 'name': 'python', 'nbconvert_exporter': 'python', 'pygments_lexer': 'ipython3', 'version': '3.8.5'}}, 'nbformat': 4, 'nbformat_minor': 4}\n"
     ]
    },
    {
     "ename": "KeyError",
     "evalue": "0",
     "output_type": "error",
     "traceback": [
      "\u001b[1;31m---------------------------------------------------------------------------\u001b[0m",
      "\u001b[1;31mKeyError\u001b[0m                                  Traceback (most recent call last)",
      "\u001b[1;32m<ipython-input-80-0b3d8c4d3201>\u001b[0m in \u001b[0;36m<module>\u001b[1;34m\u001b[0m\n\u001b[0;32m      5\u001b[0m         \u001b[0mprint\u001b[0m\u001b[1;33m(\u001b[0m\u001b[0mi\u001b[0m\u001b[1;33m)\u001b[0m\u001b[1;33m\u001b[0m\u001b[1;33m\u001b[0m\u001b[0m\n\u001b[0;32m      6\u001b[0m     \u001b[0mprint\u001b[0m\u001b[1;33m(\u001b[0m\u001b[0mdata\u001b[0m\u001b[1;33m)\u001b[0m\u001b[1;33m\u001b[0m\u001b[1;33m\u001b[0m\u001b[0m\n\u001b[1;32m----> 7\u001b[1;33m     \u001b[0mprint\u001b[0m\u001b[1;33m(\u001b[0m\u001b[0mdata\u001b[0m\u001b[1;33m[\u001b[0m\u001b[1;36m0\u001b[0m\u001b[1;33m]\u001b[0m\u001b[1;33m[\u001b[0m\u001b[1;34m\"username\"\u001b[0m\u001b[1;33m]\u001b[0m\u001b[1;33m)\u001b[0m\u001b[1;33m\u001b[0m\u001b[1;33m\u001b[0m\u001b[0m\n\u001b[0m\u001b[0;32m      8\u001b[0m     \u001b[0mprint\u001b[0m\u001b[1;33m(\u001b[0m\u001b[0mdata\u001b[0m\u001b[1;33m[\u001b[0m\u001b[1;36m0\u001b[0m\u001b[1;33m]\u001b[0m\u001b[1;33m[\u001b[0m\u001b[1;34m\"email\"\u001b[0m\u001b[1;33m]\u001b[0m\u001b[1;33m)\u001b[0m\u001b[1;33m\u001b[0m\u001b[1;33m\u001b[0m\u001b[0m\n\u001b[0;32m      9\u001b[0m     \u001b[0mprint\u001b[0m\u001b[1;33m(\u001b[0m\u001b[0mdata\u001b[0m\u001b[1;33m[\u001b[0m\u001b[1;36m0\u001b[0m\u001b[1;33m]\u001b[0m\u001b[1;33m[\u001b[0m\u001b[1;34m\"address\"\u001b[0m\u001b[1;33m]\u001b[0m\u001b[1;33m)\u001b[0m\u001b[1;33m\u001b[0m\u001b[1;33m\u001b[0m\u001b[0m\n",
      "\u001b[1;31mKeyError\u001b[0m: 0"
     ]
    }
   ],
   "source": [
    "with open(\"Users_data.json\") as users:\n",
    "    data = json.load(users)\n",
    "    \n",
    "    print(data)\n",
    "    print(data[0][\"username\"])\n",
    "    print(data[0][\"email\"])\n",
    "    print(data[0][\"address\"])\n",
    "    print(data[0][\"address\"][\"street\"])\n",
    "    print(data[0][\"address\"][\"geo\"][\"lat\"])\n",
    "    \n",
    "    for x in range(5):\n",
    "        print(data[x][\"username\"])\n",
    "        print(data[x][\"email\"])\n",
    "        print(data[x][\"address\"])\n",
    "        print(data[x][\"address\"][\"street\"])\n",
    "        print(data[x][\"address\"][\"geo\"][\"lat\"])"
   ]
  },
  {
   "cell_type": "code",
   "execution_count": 75,
   "metadata": {},
   "outputs": [
    {
     "name": "stdout",
     "output_type": "stream",
     "text": [
      "30\n"
     ]
    }
   ],
   "source": [
    "x =  '{\"name\":\"John\", \"age\":30, \"city\":\"New York\"}'\n",
    "\n",
    "y = json.loads(x)\n",
    "\n",
    "print(y[\"age\"])"
   ]
  },
  {
   "cell_type": "code",
   "execution_count": 76,
   "metadata": {},
   "outputs": [
    {
     "name": "stdout",
     "output_type": "stream",
     "text": [
      "{\"name\": \"John\", \"age\": 30, \"city\": \"New York\"}\n"
     ]
    }
   ],
   "source": [
    "x = {\n",
    "  \"name\": \"John\",\n",
    "  \"age\": 30,\n",
    "  \"city\": \"New York\"\n",
    "}\n",
    "\n",
    "y = json.dumps(x)\n",
    "\n",
    "print(y)"
   ]
  },
  {
   "cell_type": "code",
   "execution_count": 77,
   "metadata": {},
   "outputs": [
    {
     "name": "stdout",
     "output_type": "stream",
     "text": [
      "{\"name\": \"John\", \"age\": 30, \"married\": true, \"divorced\": false, \"children\": [\"Ann\", \"Billy\"], \"pets\": null, \"cars\": [{\"model\": \"BMW 230\", \"mpg\": 27.5}, {\"model\": \"Ford Edge\", \"mpg\": 24.1}]}\n"
     ]
    }
   ],
   "source": [
    "x = {\n",
    "  \"name\": \"John\",\n",
    "  \"age\": 30,\n",
    "  \"married\": True,\n",
    "  \"divorced\": False,\n",
    "  \"children\": (\"Ann\",\"Billy\"),\n",
    "  \"pets\": None,\n",
    "  \"cars\": [\n",
    "    {\"model\": \"BMW 230\", \"mpg\": 27.5},\n",
    "    {\"model\": \"Ford Edge\", \"mpg\": 24.1}\n",
    "  ]\n",
    "}\n",
    "\n",
    "print(json.dumps(x))"
   ]
  },
  {
   "cell_type": "code",
   "execution_count": null,
   "metadata": {},
   "outputs": [],
   "source": [
    "import pickle\n",
    "\n",
    "## read\n",
    "## write\n",
    "\n",
    "f = open(\"\")\n",
    "f.close()\n",
    "\n",
    "with open(\"\",\"rb\") as f:\n",
    "    pickle.read(.....)\n",
    "    \n",
    "with open(\"\",\"wb\") as f:\n",
    "    pickle.dump(.....)"
   ]
  },
  {
   "cell_type": "markdown",
   "metadata": {},
   "source": [
    "## Section 2: Object-oriented Programming\n",
    "\n",
    ".............. <--------------- MERT"
   ]
  },
  {
   "cell_type": "code",
   "execution_count": 19,
   "metadata": {},
   "outputs": [
    {
     "name": "stdout",
     "output_type": "stream",
     "text": [
      "Fluffy\n",
      "4\n",
      "Exotic Shorthair\n"
     ]
    }
   ],
   "source": [
    "class Pet:\n",
    "    species = \"Exotic Shorthair\"\n",
    "    \n",
    "    def __init__(self,name,age):\n",
    "        self.name = name\n",
    "        self.age = age\n",
    "        \n",
    "Pet1 = Pet(\"Fluffy\",4)\n",
    "\n",
    "print(Pet1.name)\n",
    "print(Pet1.age)\n",
    "print(Pet1.species)"
   ]
  },
  {
   "cell_type": "code",
   "execution_count": 11,
   "metadata": {},
   "outputs": [],
   "source": [
    "class Pet_2:\n",
    "    def __init__(self,name,age):\n",
    "        self.name = name\n",
    "        self.age = age\n",
    "\n",
    "    def describe(self):\n",
    "        print(\"Name:\",self.name)\n",
    "        print(\"Age:\",self.age)"
   ]
  },
  {
   "cell_type": "code",
   "execution_count": 69,
   "metadata": {},
   "outputs": [
    {
     "name": "stdout",
     "output_type": "stream",
     "text": [
      "Name: Kitty\n",
      "Age: 6\n",
      "None\n"
     ]
    }
   ],
   "source": [
    "Pet2= Pet_2(\"Kitty\",6)\n",
    "\n",
    "print(Pet2.describe())"
   ]
  },
  {
   "cell_type": "code",
   "execution_count": 56,
   "metadata": {},
   "outputs": [],
   "source": [
    "### NOT A PRIORITY <----\n",
    "class Pet:\n",
    "    def __init__(self,name,age):\n",
    "        self.name = name\n",
    "        self.age = age\n",
    "    \n",
    "    def describe(self):\n",
    "        print(\"Name:\",self.name)\n",
    "        print(\"Age:\",self.age)\n",
    "    \n",
    "    @staticmethod\n",
    "    def method1(self):\n",
    "        pass\n",
    "    \n",
    "    @classmethod\n",
    "    def method2(cls):\n",
    "        pass"
   ]
  },
  {
   "cell_type": "code",
   "execution_count": 65,
   "metadata": {},
   "outputs": [],
   "source": [
    "### NOT A PRIORITY <----\n",
    "## https://stackoverflow.com/a/2627034/7184515\n",
    "# class getters, and setters\n",
    "class Pet:\n",
    "    def __init__(self,name,age):\n",
    "        self._name = name\n",
    "        self.age = age\n",
    "    \n",
    "    def describe(self):\n",
    "        print(\"Name:\",self.name)\n",
    "        print(\"Age:\",self.age)\n",
    "\n",
    "    @property\n",
    "    def name(self):\n",
    "        return self._name\n",
    "    \n",
    "    @name.setter\n",
    "    def name(self,s):\n",
    "        self._name = s.capitalize()"
   ]
  },
  {
   "cell_type": "code",
   "execution_count": 66,
   "metadata": {},
   "outputs": [
    {
     "data": {
      "text/plain": [
       "'Duman'"
      ]
     },
     "execution_count": 66,
     "metadata": {},
     "output_type": "execute_result"
    }
   ],
   "source": [
    "a = Pet(\"Duman\",1.5)\n",
    "a.name"
   ]
  },
  {
   "cell_type": "code",
   "execution_count": 68,
   "metadata": {},
   "outputs": [
    {
     "data": {
      "text/plain": [
       "'Zıbık'"
      ]
     },
     "execution_count": 68,
     "metadata": {},
     "output_type": "execute_result"
    }
   ],
   "source": [
    "a.name = \"zıbık\"\n",
    "a.name"
   ]
  },
  {
   "cell_type": "code",
   "execution_count": null,
   "metadata": {},
   "outputs": [],
   "source": [
    "class Pet:\n",
    "    def __init__(self,name,age):\n",
    "        self.name = name\n",
    "        self.age = age\n",
    "    \n",
    "    def describe(self):\n",
    "        print(\"Name:\",self.name)\n",
    "        print(\"Age:\",self.age)\n",
    "    \n",
    "    def _method1(self):\n",
    "        pass\n",
    "    \n",
    "    def __method2(self):\n",
    "        pass"
   ]
  },
  {
   "cell_type": "code",
   "execution_count": 49,
   "metadata": {},
   "outputs": [
    {
     "data": {
      "text/plain": [
       "<__main__.Pet at 0x7f8b573a8e10>"
      ]
     },
     "execution_count": 49,
     "metadata": {},
     "output_type": "execute_result"
    }
   ],
   "source": [
    "p = Pet(\"Shimmy\",2)\n",
    "p"
   ]
  },
  {
   "cell_type": "code",
   "execution_count": 50,
   "metadata": {},
   "outputs": [
    {
     "data": {
      "text/plain": [
       "'Shimmy'"
      ]
     },
     "execution_count": 50,
     "metadata": {},
     "output_type": "execute_result"
    }
   ],
   "source": [
    "p.name"
   ]
  },
  {
   "cell_type": "code",
   "execution_count": 51,
   "metadata": {},
   "outputs": [
    {
     "data": {
      "text/plain": [
       "2"
      ]
     },
     "execution_count": 51,
     "metadata": {},
     "output_type": "execute_result"
    }
   ],
   "source": [
    "p.age"
   ]
  },
  {
   "cell_type": "code",
   "execution_count": 52,
   "metadata": {},
   "outputs": [
    {
     "name": "stdout",
     "output_type": "stream",
     "text": [
      "Name: Shimmy\n",
      "Age: 2\n"
     ]
    }
   ],
   "source": [
    "p.describe()"
   ]
  },
  {
   "cell_type": "code",
   "execution_count": null,
   "metadata": {},
   "outputs": [],
   "source": [
    "### ................. FILL SEVERAL EXAMPLES HERE"
   ]
  },
  {
   "cell_type": "code",
   "execution_count": null,
   "metadata": {},
   "outputs": [],
   "source": [
    "class employees:\n",
    "    def __init__(self, name, lname, age, language):\n",
    "        self.name = name\n",
    "        self.lname = lname\n",
    "        self.age = age\n",
    "        self.language = language\n",
    "   \n",
    "    def print_name(self):\n",
    "        print(self.name  + \" \" + self.lname)\n",
    "       \n",
    "    def showage(self):\n",
    "        print(self.name  +  \" \" + self.lname, \"is\", self.age +  \" years old \")\n",
    "       \n",
    "    def speak_language(self):\n",
    "        print(self.name, self.lname, \"speaks\", self.language)\n",
    "       \n",
    "    def showinfo(self):\n",
    "        print(self.name, self.lname, \"is\", self.age, \"and\", \"speaks\", self.language)\n",
    "\n",
    "        \n",
    "manager1 = managers(\"Mert\", \"Trump\", \"44\")\n",
    "manager2 = managers(\"Gamze\", \"Cakır\", \"43\")\n",
    "\n",
    "manager1.print_name()\n",
    "\n",
    "manager1.showage()\n",
    "\n",
    "manager1.addlanguage(\"Spanish and English\")\n",
    "\n",
    "manager1.showinfo()\n",
    "\n",
    "manager2.print_name()\n",
    "\n",
    "manager2.showage()\n",
    "\n",
    "manager2.addlanguage(\"English and French\")\n",
    "\n",
    "manager2.showinfo()\n",
    "\n",
    "employee1 = employees(\"Aras\", \"Kahraman\", \"28\", \"English and Italian\" )\n",
    "employee2 = employees(\"Evrim\", \"Solhan\", \"27\", \"Turkish\")\n",
    "employee3 = employees(\"Ozlem\", \"İsci\", \"34\", \"Russian\")\n",
    "\n",
    "employee1.showinfo()\n",
    "\n",
    "employee2.showinfo()\n",
    "\n",
    "employee3.showinfo()\n"
   ]
  },
  {
   "cell_type": "code",
   "execution_count": 68,
   "metadata": {},
   "outputs": [
    {
     "name": "stdout",
     "output_type": "stream",
     "text": [
      "Addition = 80\n",
      "Multiply = 336\n"
     ]
    }
   ],
   "source": [
    "class Math:\n",
    "    def addition(self,number1,number2):\n",
    "        return number1 + number2\n",
    "\n",
    "    def extraction(self,number1,number2):\n",
    "        return number1 - number2\n",
    "    \n",
    "    def multiply(self,number1,number2):\n",
    "        return number1 * number2\n",
    "    \n",
    "    def division(self,number1,number2):\n",
    "        return number1 / number2\n",
    "    \n",
    "math = Math()\n",
    "print(\"Addition = \" + str(math.addition(2,78)))\n",
    "print(\"Multiply = \" + str(math.multiply(4,84)))"
   ]
  },
  {
   "cell_type": "code",
   "execution_count": 53,
   "metadata": {},
   "outputs": [],
   "source": [
    "class Pet:\n",
    "    def __init__(self,name,age):\n",
    "        self.name = name\n",
    "        self.age = age\n",
    "    \n",
    "    def __repr__(self):\n",
    "        pass\n",
    "    \n",
    "    def __str__(self):\n",
    "        pass\n",
    "    \n",
    "    def __add__(self,other):\n",
    "        return self.name + other.name\n",
    "    \n",
    "    def __sub__(self,other):\n",
    "        pass\n",
    "    \n",
    "    def __mul__(self,other):\n",
    "        pass\n",
    "    \n",
    "    def __ge__(self):\n",
    "        pass"
   ]
  },
  {
   "cell_type": "code",
   "execution_count": 54,
   "metadata": {},
   "outputs": [
    {
     "data": {
      "text/plain": [
       "'ShimmyDoug'"
      ]
     },
     "execution_count": 54,
     "metadata": {},
     "output_type": "execute_result"
    }
   ],
   "source": [
    "Pet(\"Shimmy\",2) + Pet(\"Doug\",2)"
   ]
  },
  {
   "cell_type": "code",
   "execution_count": 55,
   "metadata": {},
   "outputs": [],
   "source": [
    "## inheritance\n",
    "class Cat(Pet):\n",
    "    def __init__(self,lovesdogs=False,*args):\n",
    "        super().__init__(*args)\n",
    "    "
   ]
  },
  {
   "cell_type": "code",
   "execution_count": 57,
   "metadata": {},
   "outputs": [],
   "source": [
    "class Worker():\n",
    "    def __init__(self,name,salary,department):\n",
    "        self.name = name\n",
    "        self.salary = salary\n",
    "        self.department = department\n",
    "        \n",
    "    def showinfo(self):\n",
    "        \n",
    "        print(self.name)\n",
    "        print(self.salary)\n",
    "        print(self.department)\n",
    "        \n",
    "    def change_department(self,new_department):\n",
    "        \n",
    "        self.department = new_department"
   ]
  },
  {
   "cell_type": "code",
   "execution_count": 58,
   "metadata": {},
   "outputs": [],
   "source": [
    "class Manager(Worker):\n",
    "    pass"
   ]
  },
  {
   "cell_type": "code",
   "execution_count": 59,
   "metadata": {},
   "outputs": [],
   "source": [
    "Manager1 = Manager(\"Dave Johnson\",1000,\"Human Resources\")"
   ]
  },
  {
   "cell_type": "code",
   "execution_count": 60,
   "metadata": {
    "scrolled": true
   },
   "outputs": [
    {
     "name": "stdout",
     "output_type": "stream",
     "text": [
      "Dave Johnson\n",
      "1000\n",
      "Human Resources\n"
     ]
    }
   ],
   "source": [
    "Manager1.showinfo()"
   ]
  },
  {
   "cell_type": "code",
   "execution_count": 61,
   "metadata": {},
   "outputs": [],
   "source": [
    "Manager1.change_department(\"Finance\")"
   ]
  },
  {
   "cell_type": "code",
   "execution_count": 62,
   "metadata": {},
   "outputs": [
    {
     "name": "stdout",
     "output_type": "stream",
     "text": [
      "Dave Johnson\n",
      "1000\n",
      "Finance\n"
     ]
    }
   ],
   "source": [
    "Manager1.showinfo()"
   ]
  },
  {
   "cell_type": "code",
   "execution_count": 63,
   "metadata": {},
   "outputs": [],
   "source": [
    "class Manager(Worker):\n",
    "    def give_raise(self,raise_amount):\n",
    "        self.salary += raise_amount"
   ]
  },
  {
   "cell_type": "code",
   "execution_count": 64,
   "metadata": {},
   "outputs": [],
   "source": [
    "Manager2 = Manager(\"Rose Newman\",2000,\"IT\")"
   ]
  },
  {
   "cell_type": "code",
   "execution_count": 65,
   "metadata": {
    "scrolled": true
   },
   "outputs": [
    {
     "name": "stdout",
     "output_type": "stream",
     "text": [
      "Rose Newman\n",
      "2000\n",
      "IT\n"
     ]
    }
   ],
   "source": [
    "Manager2.showinfo()"
   ]
  },
  {
   "cell_type": "code",
   "execution_count": 66,
   "metadata": {},
   "outputs": [],
   "source": [
    "Manager2.give_raise(500)"
   ]
  },
  {
   "cell_type": "code",
   "execution_count": 67,
   "metadata": {},
   "outputs": [
    {
     "name": "stdout",
     "output_type": "stream",
     "text": [
      "Rose Newman\n",
      "2500\n",
      "IT\n"
     ]
    }
   ],
   "source": [
    "Manager2.showinfo()"
   ]
  },
  {
   "cell_type": "markdown",
   "metadata": {},
   "source": [
    "## Example Project"
   ]
  },
  {
   "cell_type": "markdown",
   "metadata": {},
   "source": [
    "## Project"
   ]
  },
  {
   "cell_type": "code",
   "execution_count": null,
   "metadata": {},
   "outputs": [],
   "source": []
  }
 ],
 "metadata": {
  "kernelspec": {
   "display_name": "Python 3",
   "language": "python",
   "name": "python3"
  },
  "language_info": {
   "codemirror_mode": {
    "name": "ipython",
    "version": 3
   },
   "file_extension": ".py",
   "mimetype": "text/x-python",
   "name": "python",
   "nbconvert_exporter": "python",
   "pygments_lexer": "ipython3",
   "version": "3.8.5"
  }
 },
 "nbformat": 4,
 "nbformat_minor": 4
}
