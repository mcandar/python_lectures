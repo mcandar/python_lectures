{
 "cells": [
  {
   "cell_type": "markdown",
   "metadata": {},
   "source": [
    "# Chapter 3\n",
    "\n",
    "We will explain two of the important aspects of python programming. Using these tools and know-how, one could design better algorithms and structures.\n",
    "\n",
    "## Learning Goals\n",
    "\n",
    "- Standard Library\n",
    "- Introduction to Object-oriented programming\n",
    "\n",
    "## Authors\n",
    "\n",
    "- Mert Candar, mccandar@gmail.com\n",
    "- Aras Kahraman, aras.kahraman@hotmail.com\n",
    "\n",
    "## Learning Curve Boosters\n",
    "\n",
    "https://github.com/kyclark/tiny_python_projects\n",
    "\n",
    "https://github.com/Python-World/python-mini-projects/tree/master/projects\n",
    "\n",
    "https://github.com/rlvaugh/Impractical_Python_Projects"
   ]
  },
  {
   "cell_type": "markdown",
   "metadata": {},
   "source": [
    "## Section 1: Standard Library\n",
    "\n",
    "A **module** in python is a systematic collection and organization of code blocks, namely, *the definitons and declarations* in order to perform a series of tasks about a domain, topic or problem. A module is usually composed of python scripts, text files, configuration files and folders. Structuring a module usually aims simplicity and efficiency of usage, and development.\n",
    "\n",
    "We can denote several highly important advantages of using modules:\n",
    "\n",
    "* Computation efficiency\n",
    "* Clean code\n",
    "* Higher level of abstraction\n",
    "\n",
    "Thus, modules are almost a must-have tool for a python coder.\n",
    "\n",
    "**Standard library** consists of a number of python modules that comes with python by default. To list some of those:\n",
    "\n",
    "* math\n",
    "* random\n",
    "* statistics\n",
    "* datetime\n",
    "* collections\n",
    "* itertools\n",
    "* functools\n",
    "* pickle\n",
    "* csv\n",
    "* json\n",
    "* time\n",
    "\n",
    "Find the full list [here](https://docs.python.org/3/library/)\n",
    "\n",
    "### `import` command\n",
    "\n",
    "We use `import` command to connect module to our script. Simply, `import` searches for the specified module and loads its content to memory. Thus, all of the imported objects of module are made available for usage.\n",
    "\n",
    "We can import:\n",
    "\n",
    "* modules\n",
    "* scripts\n",
    "* variables, functions and classes, simply any object, (of a script)\n",
    "\n",
    "There are several ways of import"
   ]
  },
  {
   "cell_type": "code",
   "execution_count": 2,
   "metadata": {},
   "outputs": [
    {
     "data": {
      "text/plain": [
       "1.2246467991473532e-16"
      ]
     },
     "execution_count": 2,
     "metadata": {},
     "output_type": "execute_result"
    }
   ],
   "source": [
    "import math\n",
    "\n",
    "math.sin(math.pi)"
   ]
  },
  {
   "cell_type": "code",
   "execution_count": 4,
   "metadata": {},
   "outputs": [
    {
     "data": {
      "text/plain": [
       "1.2246467991473532e-16"
      ]
     },
     "execution_count": 4,
     "metadata": {},
     "output_type": "execute_result"
    }
   ],
   "source": [
    "import math as mt\n",
    "\n",
    "mt.sin(math.pi)"
   ]
  },
  {
   "cell_type": "code",
   "execution_count": 5,
   "metadata": {},
   "outputs": [
    {
     "data": {
      "text/plain": [
       "1.2246467991473532e-16"
      ]
     },
     "execution_count": 5,
     "metadata": {},
     "output_type": "execute_result"
    }
   ],
   "source": [
    "from math import sin, pi\n",
    "\n",
    "sin(pi)"
   ]
  },
  {
   "cell_type": "code",
   "execution_count": 6,
   "metadata": {},
   "outputs": [
    {
     "data": {
      "text/plain": [
       "1.2246467991473532e-16"
      ]
     },
     "execution_count": 6,
     "metadata": {},
     "output_type": "execute_result"
    }
   ],
   "source": [
    "# not recommended\n",
    "from math import *\n",
    "\n",
    "sin(pi)"
   ]
  },
  {
   "cell_type": "markdown",
   "metadata": {},
   "source": [
    "### Modules"
   ]
  },
  {
   "cell_type": "code",
   "execution_count": 7,
   "metadata": {
    "scrolled": true
   },
   "outputs": [],
   "source": [
    "import math"
   ]
  },
  {
   "cell_type": "code",
   "execution_count": 9,
   "metadata": {},
   "outputs": [
    {
     "name": "stdout",
     "output_type": "stream",
     "text": [
      "1.0\n",
      "-1.0\n"
     ]
    }
   ],
   "source": [
    "pi = math.pi\n",
    "print(math.sin(pi/2))\n",
    "print(math.cos(pi))"
   ]
  },
  {
   "cell_type": "code",
   "execution_count": 11,
   "metadata": {},
   "outputs": [
    {
     "name": "stdout",
     "output_type": "stream",
     "text": [
      "1.5707963267948966\n",
      "3.141592653589793\n"
     ]
    }
   ],
   "source": [
    "print(math.asin(1))\n",
    "print(math.acos(-1))"
   ]
  },
  {
   "cell_type": "code",
   "execution_count": 13,
   "metadata": {
    "scrolled": true
   },
   "outputs": [
    {
     "name": "stdout",
     "output_type": "stream",
     "text": [
      "4\n",
      "-2\n"
     ]
    }
   ],
   "source": [
    "print(math.ceil(3.5))\n",
    "print(math.ceil(-2.3))"
   ]
  },
  {
   "cell_type": "code",
   "execution_count": 14,
   "metadata": {},
   "outputs": [
    {
     "name": "stdout",
     "output_type": "stream",
     "text": [
      "3\n",
      "-3\n"
     ]
    }
   ],
   "source": [
    "print(math.floor(3.5))\n",
    "print(math.floor(-2.3))"
   ]
  },
  {
   "cell_type": "code",
   "execution_count": 15,
   "metadata": {},
   "outputs": [
    {
     "data": {
      "text/plain": [
       "2.995732273553991"
      ]
     },
     "execution_count": 15,
     "metadata": {},
     "output_type": "execute_result"
    }
   ],
   "source": [
    "math.log(20)"
   ]
  },
  {
   "cell_type": "code",
   "execution_count": 17,
   "metadata": {},
   "outputs": [
    {
     "data": {
      "text/plain": [
       "1.0"
      ]
     },
     "execution_count": 17,
     "metadata": {},
     "output_type": "execute_result"
    }
   ],
   "source": [
    "math.log(math.e)"
   ]
  },
  {
   "cell_type": "code",
   "execution_count": 18,
   "metadata": {},
   "outputs": [
    {
     "data": {
      "text/plain": [
       "1.0"
      ]
     },
     "execution_count": 18,
     "metadata": {},
     "output_type": "execute_result"
    }
   ],
   "source": [
    "math.log10(10)"
   ]
  },
  {
   "cell_type": "code",
   "execution_count": 19,
   "metadata": {},
   "outputs": [
    {
     "data": {
      "text/plain": [
       "6.0"
      ]
     },
     "execution_count": 19,
     "metadata": {},
     "output_type": "execute_result"
    }
   ],
   "source": [
    "math.log10(1e6)"
   ]
  },
  {
   "cell_type": "code",
   "execution_count": 21,
   "metadata": {},
   "outputs": [
    {
     "data": {
      "text/plain": [
       "3.0"
      ]
     },
     "execution_count": 21,
     "metadata": {},
     "output_type": "execute_result"
    }
   ],
   "source": [
    "math.log(8,2)"
   ]
  },
  {
   "cell_type": "code",
   "execution_count": 22,
   "metadata": {},
   "outputs": [
    {
     "data": {
      "text/plain": [
       "120"
      ]
     },
     "execution_count": 22,
     "metadata": {},
     "output_type": "execute_result"
    }
   ],
   "source": [
    "math.factorial(5)"
   ]
  },
  {
   "cell_type": "code",
   "execution_count": 23,
   "metadata": {},
   "outputs": [
    {
     "ename": "ValueError",
     "evalue": "factorial() only accepts integral values",
     "output_type": "error",
     "traceback": [
      "\u001b[0;31m---------------------------------------------------------------------------\u001b[0m",
      "\u001b[0;31mValueError\u001b[0m                                Traceback (most recent call last)",
      "\u001b[0;32m<ipython-input-23-c33b5f16a730>\u001b[0m in \u001b[0;36m<module>\u001b[0;34m\u001b[0m\n\u001b[0;32m----> 1\u001b[0;31m \u001b[0mmath\u001b[0m\u001b[0;34m.\u001b[0m\u001b[0mfactorial\u001b[0m\u001b[0;34m(\u001b[0m\u001b[0;36m5.12\u001b[0m\u001b[0;34m)\u001b[0m\u001b[0;34m\u001b[0m\u001b[0;34m\u001b[0m\u001b[0m\n\u001b[0m",
      "\u001b[0;31mValueError\u001b[0m: factorial() only accepts integral values"
     ]
    }
   ],
   "source": [
    "math.factorial(5.12)"
   ]
  },
  {
   "cell_type": "code",
   "execution_count": 24,
   "metadata": {
    "scrolled": true
   },
   "outputs": [
    {
     "data": {
      "text/plain": [
       "120.0"
      ]
     },
     "execution_count": 24,
     "metadata": {},
     "output_type": "execute_result"
    }
   ],
   "source": [
    "math.gamma(6)"
   ]
  },
  {
   "cell_type": "code",
   "execution_count": 25,
   "metadata": {},
   "outputs": [
    {
     "data": {
      "text/plain": [
       "147.4548527269623"
      ]
     },
     "execution_count": 25,
     "metadata": {},
     "output_type": "execute_result"
    }
   ],
   "source": [
    "math.gamma(6.12)"
   ]
  },
  {
   "cell_type": "code",
   "execution_count": 26,
   "metadata": {},
   "outputs": [
    {
     "data": {
      "text/plain": [
       "inf"
      ]
     },
     "execution_count": 26,
     "metadata": {},
     "output_type": "execute_result"
    }
   ],
   "source": [
    "math.inf"
   ]
  },
  {
   "cell_type": "code",
   "execution_count": 27,
   "metadata": {},
   "outputs": [
    {
     "data": {
      "text/plain": [
       "inf"
      ]
     },
     "execution_count": 27,
     "metadata": {},
     "output_type": "execute_result"
    }
   ],
   "source": [
    "math.log10(math.inf)"
   ]
  },
  {
   "cell_type": "code",
   "execution_count": 29,
   "metadata": {},
   "outputs": [
    {
     "data": {
      "text/plain": [
       "nan"
      ]
     },
     "execution_count": 29,
     "metadata": {},
     "output_type": "execute_result"
    }
   ],
   "source": [
    "math.nan"
   ]
  },
  {
   "cell_type": "code",
   "execution_count": 30,
   "metadata": {},
   "outputs": [
    {
     "data": {
      "text/plain": [
       "nan"
      ]
     },
     "execution_count": 30,
     "metadata": {},
     "output_type": "execute_result"
    }
   ],
   "source": [
    "math.log10(math.nan)"
   ]
  },
  {
   "cell_type": "code",
   "execution_count": 31,
   "metadata": {
    "scrolled": true
   },
   "outputs": [],
   "source": [
    "import random"
   ]
  },
  {
   "cell_type": "code",
   "execution_count": 33,
   "metadata": {},
   "outputs": [
    {
     "name": "stdout",
     "output_type": "stream",
     "text": [
      "82.51080165913947\n"
     ]
    }
   ],
   "source": [
    "mu = 100\n",
    "sigma = 20\n",
    "\n",
    "print(random.gauss(mu, sigma))"
   ]
  },
  {
   "cell_type": "code",
   "execution_count": 37,
   "metadata": {},
   "outputs": [
    {
     "data": {
      "text/plain": [
       "[8, 44, 22, 664]"
      ]
     },
     "execution_count": 37,
     "metadata": {},
     "output_type": "execute_result"
    }
   ],
   "source": [
    "lst = [8, 22, 44, 664]\n",
    "\n",
    "random.shuffle(lst)\n",
    "\n",
    "lst"
   ]
  },
  {
   "cell_type": "code",
   "execution_count": 40,
   "metadata": {},
   "outputs": [
    {
     "data": {
      "text/plain": [
       "'Dave'"
      ]
     },
     "execution_count": 40,
     "metadata": {},
     "output_type": "execute_result"
    }
   ],
   "source": [
    "lst = ['Dave', 'Oliver', 'Jane', 'Kirk', 'Samantha']\n",
    "random.choice(lst)"
   ]
  },
  {
   "cell_type": "code",
   "execution_count": 42,
   "metadata": {},
   "outputs": [
    {
     "data": {
      "text/plain": [
       "['Oliver', 'Samantha']"
      ]
     },
     "execution_count": 42,
     "metadata": {},
     "output_type": "execute_result"
    }
   ],
   "source": [
    "random.sample(lst,2)"
   ]
  },
  {
   "cell_type": "code",
   "execution_count": 46,
   "metadata": {},
   "outputs": [
    {
     "data": {
      "text/plain": [
       "273"
      ]
     },
     "execution_count": 46,
     "metadata": {},
     "output_type": "execute_result"
    }
   ],
   "source": [
    "random.randint(45, 500)"
   ]
  },
  {
   "cell_type": "code",
   "execution_count": 47,
   "metadata": {},
   "outputs": [
    {
     "data": {
      "text/plain": [
       "94.09178179914366"
      ]
     },
     "execution_count": 47,
     "metadata": {},
     "output_type": "execute_result"
    }
   ],
   "source": [
    "random.uniform(5,100)"
   ]
  },
  {
   "cell_type": "code",
   "execution_count": 52,
   "metadata": {},
   "outputs": [],
   "source": [
    "s = random.uniform(-10.519, 1.5)"
   ]
  },
  {
   "cell_type": "code",
   "execution_count": 55,
   "metadata": {},
   "outputs": [],
   "source": [
    "def rand_list(n,distribution=\"uniform\",*args,**kwargs):\n",
    "    \"\"\"\n",
    "    Generate random number series.\n",
    "    \n",
    "    Parameters\n",
    "    ----------\n",
    "    n : int\n",
    "        Number of values to generate, i.e. length.\n",
    "    distribution : str\n",
    "        A method of `random` module.\n",
    "    \n",
    "    Returns\n",
    "    -------\n",
    "    m : list\n",
    "        Random number series.\n",
    "    \"\"\"\n",
    "    fun = getattr(random,distribution)\n",
    "    map_fun = lambda x: fun(*args,**kwargs)\n",
    "    return list(map(map_fun,range(n)))"
   ]
  },
  {
   "cell_type": "code",
   "execution_count": 56,
   "metadata": {},
   "outputs": [
    {
     "data": {
      "text/plain": [
       "[-0.07569095088934555,\n",
       " 0.36043892545421297,\n",
       " -0.1565956130789772,\n",
       " -0.6767675464230208,\n",
       " -0.6155818100551531,\n",
       " -0.805218439031403,\n",
       " 1.9725472272078324,\n",
       " -1.4151105012599756,\n",
       " -0.9186524893445783,\n",
       " 0.33637479970632433]"
      ]
     },
     "execution_count": 56,
     "metadata": {},
     "output_type": "execute_result"
    }
   ],
   "source": [
    "rand_list(10,\"gauss\",0,1)"
   ]
  },
  {
   "cell_type": "code",
   "execution_count": 57,
   "metadata": {},
   "outputs": [
    {
     "data": {
      "text/plain": [
       "[0.5375416491798537,\n",
       " 1.1909771758302927,\n",
       " -1.1631889623312488,\n",
       " -0.3853596950783923,\n",
       " 0.7033301589421532,\n",
       " -2.102710445625154,\n",
       " 1.5674633013551937,\n",
       " -0.9241191081386162,\n",
       " 1.2893141844300544,\n",
       " 1.0929802699147908]"
      ]
     },
     "execution_count": 57,
     "metadata": {},
     "output_type": "execute_result"
    }
   ],
   "source": [
    "# is the same with...\n",
    "[random.gauss(0,1) for _ in range(10)]"
   ]
  },
  {
   "cell_type": "code",
   "execution_count": 58,
   "metadata": {},
   "outputs": [
    {
     "data": {
      "text/plain": [
       "[0.5793306933306934,\n",
       " 0.9876111314547265,\n",
       " 0.056209354354487706,\n",
       " 0.3645809487853112,\n",
       " 0.6858130467844497,\n",
       " 0.6461739305612163,\n",
       " 0.057939184518774445,\n",
       " 0.5776050325568799,\n",
       " 0.999081534676573,\n",
       " 0.8659504732087461]"
      ]
     },
     "execution_count": 58,
     "metadata": {},
     "output_type": "execute_result"
    }
   ],
   "source": [
    "rand_list(10,\"uniform\",0,1)"
   ]
  },
  {
   "cell_type": "code",
   "execution_count": 59,
   "metadata": {},
   "outputs": [
    {
     "data": {
      "text/plain": [
       "[0, 1, 0, 0, 0, 0, 1, 0, 1, 1]"
      ]
     },
     "execution_count": 59,
     "metadata": {},
     "output_type": "execute_result"
    }
   ],
   "source": [
    "rand_list(10,\"randint\",0,1)"
   ]
  },
  {
   "cell_type": "code",
   "execution_count": 60,
   "metadata": {},
   "outputs": [],
   "source": [
    "def count_interval(x,l,u):\n",
    "    \"\"\"\n",
    "    Count the number of values that\n",
    "    fall into the specified interval.\n",
    "    \"\"\"\n",
    "    return sum(map(lambda e: e >= l and e <= u,x))\n",
    "    \n",
    "def histogram(x,bins=20):\n",
    "    \"\"\"\n",
    "    Compute histogram of a given\n",
    "    numeric series.\n",
    "    \"\"\"\n",
    "    l, u = min(x), max(x)\n",
    "    h = (u - l) / bins\n",
    "    breaks = [l+h*i for i in range(bins+1)]\n",
    "    count_consecutive = lambda i: count_interval(x,breaks[i],breaks[i+1])\n",
    "    return list(map(count_consecutive,range(20))), breaks\n",
    "\n",
    "def plot_histogram(x,max_char=50,*args,**kwargs):\n",
    "    \"\"\"\n",
    "    Visualize histogram of a given\n",
    "    numeric series.\n",
    "    \"\"\"\n",
    "    counts, breaks = histogram(x,*args,**kwargs)\n",
    "    u = max(counts)/max_char\n",
    "    for c, b in zip(counts,breaks):\n",
    "        s = int(c/u)\n",
    "        print(str(round(b,2)).ljust(5),\"|\",s*\"#\")"
   ]
  },
  {
   "cell_type": "code",
   "execution_count": 61,
   "metadata": {},
   "outputs": [
    {
     "name": "stdout",
     "output_type": "stream",
     "text": [
      "0.0   | ######################################\n",
      "0.05  | ###################################\n",
      "0.1   | #######################################\n",
      "0.15  | ######################################\n",
      "0.2   | ########################################\n",
      "0.25  | ######################################\n",
      "0.3   | #######################################\n",
      "0.35  | #######################################\n",
      "0.4   | ###########################################\n",
      "0.45  | ########################################\n",
      "0.5   | ##################################################\n",
      "0.55  | ####################################\n",
      "0.6   | ######################################\n",
      "0.65  | ####################################\n",
      "0.7   | ########################################\n",
      "0.75  | ####################################\n",
      "0.8   | ####################################\n",
      "0.85  | ######################################\n",
      "0.9   | ##########################################\n",
      "0.95  | ######################################\n"
     ]
    }
   ],
   "source": [
    "data = rand_list(5000,\"uniform\",0,1)\n",
    "plot_histogram(data)"
   ]
  },
  {
   "cell_type": "code",
   "execution_count": 63,
   "metadata": {},
   "outputs": [
    {
     "name": "stdout",
     "output_type": "stream",
     "text": [
      "-3.4  | \n",
      "-3.05 | \n",
      "-2.69 | ##\n",
      "-2.34 | #####\n",
      "-1.98 | #########\n",
      "-1.63 | #################\n",
      "-1.27 | ###########################\n",
      "-0.91 | ###################################\n",
      "-0.56 | ##########################################\n",
      "-0.2  | ##################################################\n",
      "0.15  | #########################################\n",
      "0.51  | #####################################\n",
      "0.86  | ###########################\n",
      "1.22  | ##################\n",
      "1.57  | ###########\n",
      "1.93  | #####\n",
      "2.28  | #\n",
      "2.64  | \n",
      "3.0   | \n",
      "3.35  | \n"
     ]
    }
   ],
   "source": [
    "data = rand_list(5000,\"gauss\",0,1)\n",
    "plot_histogram(data)"
   ]
  },
  {
   "cell_type": "code",
   "execution_count": 65,
   "metadata": {},
   "outputs": [
    {
     "name": "stdout",
     "output_type": "stream",
     "text": [
      "0.22  | ###\n",
      "0.4   | ####################\n",
      "0.58  | ###########################################\n",
      "0.76  | ##################################################\n",
      "0.94  | #############################################\n",
      "1.12  | #################################\n",
      "1.3   | #######################\n",
      "1.48  | ###############\n",
      "1.66  | ##########\n",
      "1.84  | ######\n",
      "2.02  | ###\n",
      "2.2   | #\n",
      "2.38  | #\n",
      "2.56  | \n",
      "2.74  | \n",
      "2.92  | \n",
      "3.1   | \n",
      "3.28  | \n",
      "3.46  | \n",
      "3.63  | \n"
     ]
    }
   ],
   "source": [
    "data = rand_list(5000,\"lognormvariate\",0,0.4)\n",
    "plot_histogram(data)"
   ]
  },
  {
   "cell_type": "code",
   "execution_count": 67,
   "metadata": {},
   "outputs": [
    {
     "name": "stdout",
     "output_type": "stream",
     "text": [
      "0.0   | ##################################################\n",
      "2.13  | #################################\n",
      "4.26  | #####################\n",
      "6.38  | ###############\n",
      "8.51  | #########\n",
      "10.64 | #####\n",
      "12.77 | ###\n",
      "14.89 | ##\n",
      "17.02 | #\n",
      "19.15 | #\n",
      "21.27 | \n",
      "23.4  | \n",
      "25.53 | \n",
      "27.66 | \n",
      "29.78 | \n",
      "31.91 | \n",
      "34.04 | \n",
      "36.17 | \n",
      "38.29 | \n",
      "40.42 | \n"
     ]
    }
   ],
   "source": [
    "data = rand_list(5000,\"expovariate\",0.2)\n",
    "plot_histogram(data)"
   ]
  },
  {
   "cell_type": "code",
   "execution_count": 68,
   "metadata": {},
   "outputs": [
    {
     "name": "stdout",
     "output_type": "stream",
     "text": [
      "0.18  | ############################\n",
      "2.89  | ##################################################\n",
      "5.6   | ###############################################\n",
      "8.31  | #######################################\n",
      "11.02 | ############################\n",
      "13.74 | ####################\n",
      "16.45 | ############\n",
      "19.16 | ########\n",
      "21.87 | ######\n",
      "24.58 | ###\n",
      "27.3  | ##\n",
      "30.01 | #\n",
      "32.72 | #\n",
      "35.43 | \n",
      "38.14 | \n",
      "40.86 | \n",
      "43.57 | \n",
      "46.28 | \n",
      "48.99 | \n",
      "51.71 | \n"
     ]
    }
   ],
   "source": [
    "data = rand_list(5000,\"gammavariate\",2,5)\n",
    "plot_histogram(data)"
   ]
  },
  {
   "cell_type": "code",
   "execution_count": 69,
   "metadata": {},
   "outputs": [
    {
     "name": "stdout",
     "output_type": "stream",
     "text": [
      "0.04  | \n",
      "0.04  | \n",
      "0.05  | \n",
      "0.05  | #\n",
      "0.05  | ##\n",
      "0.06  | ####\n",
      "0.06  | ######\n",
      "0.07  | ############\n",
      "0.07  | ##################\n",
      "0.08  | ########################\n",
      "0.08  | ##################################\n",
      "0.09  | ##########################################\n",
      "0.09  | #############################################\n",
      "0.1   | ##################################################\n",
      "0.1   | #############################################\n",
      "0.11  | ###################################\n",
      "0.11  | ####################\n",
      "0.12  | ##########\n",
      "0.12  | ###\n",
      "0.12  | \n"
     ]
    }
   ],
   "source": [
    "data = rand_list(5000,\"weibullvariate\",0.1,8)\n",
    "plot_histogram(data)"
   ]
  },
  {
   "cell_type": "code",
   "execution_count": 72,
   "metadata": {},
   "outputs": [
    {
     "data": {
      "text/plain": [
       "[1.2592801715398216,\n",
       " 2.0036897968158534,\n",
       " 11.556131407537318,\n",
       " 5.2068538162163955,\n",
       " 3.7974206652551423,\n",
       " 3.1303992215718237,\n",
       " 0.10964822833057329,\n",
       " 10.188989977535375,\n",
       " 1.993116819810311,\n",
       " 5.049856731431943]"
      ]
     },
     "execution_count": 72,
     "metadata": {},
     "output_type": "execute_result"
    }
   ],
   "source": [
    "random.seed(1000)\n",
    "rand_list(10,\"gammavariate\",1,5)"
   ]
  },
  {
   "cell_type": "code",
   "execution_count": 73,
   "metadata": {},
   "outputs": [
    {
     "data": {
      "text/plain": [
       "[1.2592801715398216,\n",
       " 2.0036897968158534,\n",
       " 11.556131407537318,\n",
       " 5.2068538162163955,\n",
       " 3.7974206652551423,\n",
       " 3.1303992215718237,\n",
       " 0.10964822833057329,\n",
       " 10.188989977535375,\n",
       " 1.993116819810311,\n",
       " 5.049856731431943]"
      ]
     },
     "execution_count": 73,
     "metadata": {},
     "output_type": "execute_result"
    }
   ],
   "source": [
    "random.seed(1000)\n",
    "rand_list(10,\"gammavariate\",1,5)"
   ]
  },
  {
   "cell_type": "code",
   "execution_count": 74,
   "metadata": {},
   "outputs": [],
   "source": [
    "import statistics as ss"
   ]
  },
  {
   "cell_type": "code",
   "execution_count": 79,
   "metadata": {},
   "outputs": [
    {
     "name": "stdout",
     "output_type": "stream",
     "text": [
      "5.990572403553227\n"
     ]
    }
   ],
   "source": [
    "data = rand_list(20,\"gauss\",7,3)\n",
    "\n",
    "x = ss.mean(data)\n",
    "print(x)"
   ]
  },
  {
   "cell_type": "code",
   "execution_count": 81,
   "metadata": {},
   "outputs": [
    {
     "data": {
      "text/plain": [
       "7.126507534558333"
      ]
     },
     "execution_count": 81,
     "metadata": {},
     "output_type": "execute_result"
    }
   ],
   "source": [
    "random.seed(123)\n",
    "data = rand_list(1000,\"gauss\",7,3)\n",
    "\n",
    "ss.mean(data)"
   ]
  },
  {
   "cell_type": "code",
   "execution_count": 84,
   "metadata": {},
   "outputs": [
    {
     "data": {
      "text/plain": [
       "7.240378633116992"
      ]
     },
     "execution_count": 84,
     "metadata": {},
     "output_type": "execute_result"
    }
   ],
   "source": [
    "ss.median(data)"
   ]
  },
  {
   "cell_type": "code",
   "execution_count": 85,
   "metadata": {},
   "outputs": [
    {
     "data": {
      "text/plain": [
       "8"
      ]
     },
     "execution_count": 85,
     "metadata": {},
     "output_type": "execute_result"
    }
   ],
   "source": [
    "ss.median([7, 8, 9])"
   ]
  },
  {
   "cell_type": "code",
   "execution_count": 87,
   "metadata": {},
   "outputs": [
    {
     "data": {
      "text/plain": [
       "8.5"
      ]
     },
     "execution_count": 87,
     "metadata": {},
     "output_type": "execute_result"
    }
   ],
   "source": [
    "ss.median([7, 8, 9, 15])"
   ]
  },
  {
   "cell_type": "code",
   "execution_count": 89,
   "metadata": {},
   "outputs": [
    {
     "data": {
      "text/plain": [
       "5"
      ]
     },
     "execution_count": 89,
     "metadata": {},
     "output_type": "execute_result"
    }
   ],
   "source": [
    "ss.median_low([1, 5, 7, 9])"
   ]
  },
  {
   "cell_type": "code",
   "execution_count": 90,
   "metadata": {},
   "outputs": [
    {
     "data": {
      "text/plain": [
       "7"
      ]
     },
     "execution_count": 90,
     "metadata": {},
     "output_type": "execute_result"
    }
   ],
   "source": [
    "ss.median_high([1, 5, 7, 9])"
   ]
  },
  {
   "cell_type": "code",
   "execution_count": 91,
   "metadata": {
    "scrolled": false
   },
   "outputs": [
    {
     "data": {
      "text/plain": [
       "2.9903723915317406"
      ]
     },
     "execution_count": 91,
     "metadata": {},
     "output_type": "execute_result"
    }
   ],
   "source": [
    "ss.stdev(data)"
   ]
  },
  {
   "cell_type": "code",
   "execution_count": 92,
   "metadata": {},
   "outputs": [
    {
     "data": {
      "text/plain": [
       "8.942327040035263"
      ]
     },
     "execution_count": 92,
     "metadata": {},
     "output_type": "execute_result"
    }
   ],
   "source": [
    "ss.variance(data)"
   ]
  },
  {
   "cell_type": "code",
   "execution_count": 93,
   "metadata": {},
   "outputs": [
    {
     "ename": "StatisticsError",
     "evalue": "no unique mode; found 1000 equally common values",
     "output_type": "error",
     "traceback": [
      "\u001b[0;31m---------------------------------------------------------------------------\u001b[0m",
      "\u001b[0;31mStatisticsError\u001b[0m                           Traceback (most recent call last)",
      "\u001b[0;32m<ipython-input-93-b840bac39b95>\u001b[0m in \u001b[0;36m<module>\u001b[0;34m\u001b[0m\n\u001b[0;32m----> 1\u001b[0;31m \u001b[0mss\u001b[0m\u001b[0;34m.\u001b[0m\u001b[0mmode\u001b[0m\u001b[0;34m(\u001b[0m\u001b[0mdata\u001b[0m\u001b[0;34m)\u001b[0m\u001b[0;34m\u001b[0m\u001b[0;34m\u001b[0m\u001b[0m\n\u001b[0m",
      "\u001b[0;32m/usr/lib/python3.6/statistics.py\u001b[0m in \u001b[0;36mmode\u001b[0;34m(data)\u001b[0m\n\u001b[1;32m    505\u001b[0m     \u001b[0;32melif\u001b[0m \u001b[0mtable\u001b[0m\u001b[0;34m:\u001b[0m\u001b[0;34m\u001b[0m\u001b[0;34m\u001b[0m\u001b[0m\n\u001b[1;32m    506\u001b[0m         raise StatisticsError(\n\u001b[0;32m--> 507\u001b[0;31m                 \u001b[0;34m'no unique mode; found %d equally common values'\u001b[0m \u001b[0;34m%\u001b[0m \u001b[0mlen\u001b[0m\u001b[0;34m(\u001b[0m\u001b[0mtable\u001b[0m\u001b[0;34m)\u001b[0m\u001b[0;34m\u001b[0m\u001b[0;34m\u001b[0m\u001b[0m\n\u001b[0m\u001b[1;32m    508\u001b[0m                 )\n\u001b[1;32m    509\u001b[0m     \u001b[0;32melse\u001b[0m\u001b[0;34m:\u001b[0m\u001b[0;34m\u001b[0m\u001b[0;34m\u001b[0m\u001b[0m\n",
      "\u001b[0;31mStatisticsError\u001b[0m: no unique mode; found 1000 equally common values"
     ]
    }
   ],
   "source": [
    "ss.mode(data)"
   ]
  },
  {
   "cell_type": "code",
   "execution_count": 94,
   "metadata": {},
   "outputs": [
    {
     "data": {
      "text/plain": [
       "[8,\n",
       " 7,\n",
       " 5,\n",
       " 7,\n",
       " 7,\n",
       " 6,\n",
       " 4,\n",
       " 6,\n",
       " 8,\n",
       " 5,\n",
       " 5,\n",
       " 9,\n",
       " 7,\n",
       " 7,\n",
       " 5,\n",
       " 7,\n",
       " 6,\n",
       " 6,\n",
       " 5,\n",
       " 9,\n",
       " 8,\n",
       " 6,\n",
       " 10,\n",
       " 11,\n",
       " 13,\n",
       " 7,\n",
       " 4,\n",
       " 5,\n",
       " 9,\n",
       " 2,\n",
       " 4,\n",
       " 11,\n",
       " 8,\n",
       " 10,\n",
       " 1,\n",
       " 6,\n",
       " 5,\n",
       " 9,\n",
       " 7,\n",
       " 3,\n",
       " 5,\n",
       " 3,\n",
       " 3,\n",
       " 1,\n",
       " 2,\n",
       " 7,\n",
       " 6,\n",
       " 7,\n",
       " 7,\n",
       " 5,\n",
       " 9,\n",
       " 0,\n",
       " 5,\n",
       " 5,\n",
       " 5,\n",
       " 9,\n",
       " 9,\n",
       " 8,\n",
       " 4,\n",
       " 5,\n",
       " 7,\n",
       " 8,\n",
       " 6,\n",
       " 6,\n",
       " 5,\n",
       " 8,\n",
       " 2,\n",
       " 6,\n",
       " 10,\n",
       " 4,\n",
       " 14,\n",
       " 6,\n",
       " 5,\n",
       " 5,\n",
       " 5,\n",
       " 7,\n",
       " 10,\n",
       " 6,\n",
       " 7,\n",
       " 6,\n",
       " 8,\n",
       " 8,\n",
       " 6,\n",
       " 9,\n",
       " 6,\n",
       " 10,\n",
       " 5,\n",
       " 7,\n",
       " 9,\n",
       " 8,\n",
       " 9,\n",
       " 8,\n",
       " 10,\n",
       " 7,\n",
       " 11,\n",
       " 9,\n",
       " 0,\n",
       " 11,\n",
       " 6,\n",
       " 10,\n",
       " 7,\n",
       " 4,\n",
       " 4,\n",
       " 10,\n",
       " 13,\n",
       " 5,\n",
       " 2,\n",
       " 9,\n",
       " 5,\n",
       " 4,\n",
       " 7,\n",
       " 8,\n",
       " 7,\n",
       " 6,\n",
       " 3,\n",
       " 6,\n",
       " 9,\n",
       " 10,\n",
       " 11,\n",
       " 4,\n",
       " 5,\n",
       " 8,\n",
       " 10,\n",
       " 6,\n",
       " 3,\n",
       " 3,\n",
       " 6,\n",
       " 7,\n",
       " 9,\n",
       " 10,\n",
       " 3,\n",
       " 11,\n",
       " 6,\n",
       " -1,\n",
       " 5,\n",
       " 4,\n",
       " 7,\n",
       " 6,\n",
       " 0,\n",
       " 6,\n",
       " 5,\n",
       " 6,\n",
       " 3,\n",
       " 6,\n",
       " 2,\n",
       " 11,\n",
       " 5,\n",
       " 9,\n",
       " 4,\n",
       " 6,\n",
       " 5,\n",
       " 9,\n",
       " 8,\n",
       " 6,\n",
       " 7,\n",
       " 8,\n",
       " 13,\n",
       " 6,\n",
       " 8,\n",
       " 10,\n",
       " 9,\n",
       " 8,\n",
       " 4,\n",
       " 10,\n",
       " 11,\n",
       " 4,\n",
       " 1,\n",
       " 5,\n",
       " 2,\n",
       " 7,\n",
       " 7,\n",
       " 4,\n",
       " 8,\n",
       " 3,\n",
       " 3,\n",
       " 7,\n",
       " 7,\n",
       " 10,\n",
       " 9,\n",
       " 10,\n",
       " 11,\n",
       " 3,\n",
       " 4,\n",
       " 4,\n",
       " 6,\n",
       " 5,\n",
       " 12,\n",
       " 8,\n",
       " 4,\n",
       " 10,\n",
       " 4,\n",
       " 8,\n",
       " 7,\n",
       " 4,\n",
       " 7,\n",
       " 1,\n",
       " 10,\n",
       " 14,\n",
       " 9,\n",
       " 8,\n",
       " 1,\n",
       " 6,\n",
       " 8,\n",
       " 10,\n",
       " 2,\n",
       " 11,\n",
       " 8,\n",
       " 8,\n",
       " 8,\n",
       " 4,\n",
       " 7,\n",
       " 6,\n",
       " 5,\n",
       " 7,\n",
       " 0,\n",
       " 3,\n",
       " 5,\n",
       " 10,\n",
       " 6,\n",
       " 10,\n",
       " 4,\n",
       " 6,\n",
       " 5,\n",
       " 3,\n",
       " 8,\n",
       " 5,\n",
       " 8,\n",
       " 6,\n",
       " 11,\n",
       " 7,\n",
       " 6,\n",
       " 3,\n",
       " 17,\n",
       " 9,\n",
       " 10,\n",
       " 11,\n",
       " 8,\n",
       " 5,\n",
       " 9,\n",
       " 4,\n",
       " 12,\n",
       " 3,\n",
       " 7,\n",
       " 4,\n",
       " 0,\n",
       " 2,\n",
       " 5,\n",
       " 9,\n",
       " 6,\n",
       " 6,\n",
       " 6,\n",
       " 8,\n",
       " 4,\n",
       " 8,\n",
       " 4,\n",
       " 4,\n",
       " 7,\n",
       " 7,\n",
       " 1,\n",
       " 6,\n",
       " 12,\n",
       " 4,\n",
       " 5,\n",
       " 12,\n",
       " 4,\n",
       " 7,\n",
       " 9,\n",
       " 8,\n",
       " 4,\n",
       " 6,\n",
       " 9,\n",
       " 13,\n",
       " 13,\n",
       " 9,\n",
       " 2,\n",
       " 9,\n",
       " 9,\n",
       " 9,\n",
       " 7,\n",
       " 3,\n",
       " 4,\n",
       " 9,\n",
       " 7,\n",
       " 8,\n",
       " 7,\n",
       " 7,\n",
       " 7,\n",
       " 6,\n",
       " 7,\n",
       " 6,\n",
       " 4,\n",
       " 3,\n",
       " 13,\n",
       " 8,\n",
       " 6,\n",
       " 0,\n",
       " 4,\n",
       " 7,\n",
       " 7,\n",
       " 8,\n",
       " 4,\n",
       " 2,\n",
       " 7,\n",
       " 7,\n",
       " 5,\n",
       " 8,\n",
       " 7,\n",
       " 9,\n",
       " 5,\n",
       " 4,\n",
       " 4,\n",
       " 5,\n",
       " 10,\n",
       " 6,\n",
       " 8,\n",
       " 7,\n",
       " 6,\n",
       " 0,\n",
       " 9,\n",
       " 9,\n",
       " 9,\n",
       " 4,\n",
       " 10,\n",
       " 7,\n",
       " 6,\n",
       " 9,\n",
       " 8,\n",
       " 6,\n",
       " 9,\n",
       " 2,\n",
       " 4,\n",
       " 5,\n",
       " 10,\n",
       " 9,\n",
       " 8,\n",
       " 6,\n",
       " 9,\n",
       " 9,\n",
       " 7,\n",
       " 6,\n",
       " 7,\n",
       " 5,\n",
       " 8,\n",
       " 7,\n",
       " 0,\n",
       " 8,\n",
       " 6,\n",
       " 6,\n",
       " 8,\n",
       " 9,\n",
       " 10,\n",
       " 9,\n",
       " 2,\n",
       " 12,\n",
       " 9,\n",
       " 1,\n",
       " 7,\n",
       " 10,\n",
       " 6,\n",
       " 5,\n",
       " 9,\n",
       " 7,\n",
       " 2,\n",
       " 10,\n",
       " 7,\n",
       " 6,\n",
       " 13,\n",
       " 9,\n",
       " 6,\n",
       " 8,\n",
       " 8,\n",
       " 1,\n",
       " 2,\n",
       " 3,\n",
       " 10,\n",
       " 2,\n",
       " 6,\n",
       " 10,\n",
       " 9,\n",
       " 6,\n",
       " 2,\n",
       " 2,\n",
       " 9,\n",
       " 4,\n",
       " 4,\n",
       " 10,\n",
       " 9,\n",
       " 7,\n",
       " 7,\n",
       " 2,\n",
       " 11,\n",
       " 9,\n",
       " 4,\n",
       " 4,\n",
       " 10,\n",
       " 9,\n",
       " 6,\n",
       " 5,\n",
       " 6,\n",
       " 6,\n",
       " 7,\n",
       " 9,\n",
       " 7,\n",
       " 4,\n",
       " 13,\n",
       " 1,\n",
       " 7,\n",
       " 7,\n",
       " 6,\n",
       " 1,\n",
       " 10,\n",
       " 4,\n",
       " 7,\n",
       " 4,\n",
       " 17,\n",
       " 14,\n",
       " 5,\n",
       " 5,\n",
       " 7,\n",
       " 6,\n",
       " 9,\n",
       " 7,\n",
       " 9,\n",
       " 9,\n",
       " 4,\n",
       " 4,\n",
       " 5,\n",
       " 6,\n",
       " 0,\n",
       " 5,\n",
       " 4,\n",
       " 11,\n",
       " 3,\n",
       " 3,\n",
       " 5,\n",
       " 4,\n",
       " 7,\n",
       " 8,\n",
       " 8,\n",
       " 7,\n",
       " 7,\n",
       " 1,\n",
       " 9,\n",
       " 1,\n",
       " 4,\n",
       " 10,\n",
       " 7,\n",
       " 5,\n",
       " 9,\n",
       " 7,\n",
       " 11,\n",
       " 4,\n",
       " 10,\n",
       " 11,\n",
       " 8,\n",
       " 9,\n",
       " 10,\n",
       " 12,\n",
       " 7,\n",
       " 6,\n",
       " 12,\n",
       " 7,\n",
       " 3,\n",
       " 9,\n",
       " 4,\n",
       " 4,\n",
       " 7,\n",
       " 9,\n",
       " 2,\n",
       " 3,\n",
       " 6,\n",
       " 7,\n",
       " 8,\n",
       " 8,\n",
       " 10,\n",
       " 6,\n",
       " 3,\n",
       " 7,\n",
       " 10,\n",
       " 2,\n",
       " 9,\n",
       " 10,\n",
       " 0,\n",
       " 5,\n",
       " 10,\n",
       " 8,\n",
       " 8,\n",
       " 10,\n",
       " 8,\n",
       " 4,\n",
       " 4,\n",
       " 6,\n",
       " 12,\n",
       " 4,\n",
       " 7,\n",
       " 7,\n",
       " 4,\n",
       " 6,\n",
       " 11,\n",
       " 7,\n",
       " 9,\n",
       " 10,\n",
       " 10,\n",
       " 9,\n",
       " 9,\n",
       " 2,\n",
       " 10,\n",
       " 4,\n",
       " 6,\n",
       " 8,\n",
       " 2,\n",
       " 0,\n",
       " 6,\n",
       " 5,\n",
       " 8,\n",
       " 7,\n",
       " 7,\n",
       " 5,\n",
       " 5,\n",
       " 3,\n",
       " 4,\n",
       " 9,\n",
       " 6,\n",
       " 10,\n",
       " 8,\n",
       " 10,\n",
       " 4,\n",
       " 3,\n",
       " 13,\n",
       " 6,\n",
       " 10,\n",
       " 4,\n",
       " 10,\n",
       " 10,\n",
       " 10,\n",
       " 5,\n",
       " 2,\n",
       " 8,\n",
       " 3,\n",
       " 2,\n",
       " 4,\n",
       " 7,\n",
       " 8,\n",
       " 3,\n",
       " 5,\n",
       " 5,\n",
       " 3,\n",
       " 6,\n",
       " 2,\n",
       " 4,\n",
       " 6,\n",
       " 8,\n",
       " 4,\n",
       " 9,\n",
       " 4,\n",
       " 7,\n",
       " 5,\n",
       " 7,\n",
       " 10,\n",
       " 9,\n",
       " 10,\n",
       " 8,\n",
       " 10,\n",
       " 6,\n",
       " 5,\n",
       " 2,\n",
       " 3,\n",
       " 7,\n",
       " 7,\n",
       " 11,\n",
       " 4,\n",
       " 6,\n",
       " 10,\n",
       " 5,\n",
       " 1,\n",
       " 10,\n",
       " 7,\n",
       " 0,\n",
       " 5,\n",
       " 9,\n",
       " 7,\n",
       " 11,\n",
       " 9,\n",
       " 3,\n",
       " 6,\n",
       " 5,\n",
       " 8,\n",
       " 6,\n",
       " 7,\n",
       " 5,\n",
       " 5,\n",
       " 2,\n",
       " 8,\n",
       " 10,\n",
       " 7,\n",
       " 14,\n",
       " 10,\n",
       " 14,\n",
       " 6,\n",
       " 6,\n",
       " 8,\n",
       " 9,\n",
       " 5,\n",
       " 3,\n",
       " 7,\n",
       " 10,\n",
       " 8,\n",
       " 4,\n",
       " 5,\n",
       " 10,\n",
       " 10,\n",
       " 3,\n",
       " 10,\n",
       " 6,\n",
       " 7,\n",
       " 7,\n",
       " 9,\n",
       " 6,\n",
       " 8,\n",
       " 0,\n",
       " 2,\n",
       " 5,\n",
       " 2,\n",
       " 5,\n",
       " 9,\n",
       " 2,\n",
       " 6,\n",
       " 6,\n",
       " 9,\n",
       " 9,\n",
       " 9,\n",
       " 1,\n",
       " 1,\n",
       " 9,\n",
       " 4,\n",
       " 10,\n",
       " 12,\n",
       " 12,\n",
       " 5,\n",
       " 9,\n",
       " 8,\n",
       " 7,\n",
       " 10,\n",
       " 8,\n",
       " 7,\n",
       " 6,\n",
       " 3,\n",
       " 7,\n",
       " 6,\n",
       " 5,\n",
       " 8,\n",
       " 9,\n",
       " 5,\n",
       " 9,\n",
       " 3,\n",
       " 7,\n",
       " 2,\n",
       " 12,\n",
       " 8,\n",
       " 8,\n",
       " 5,\n",
       " 4,\n",
       " 9,\n",
       " 12,\n",
       " 3,\n",
       " 9,\n",
       " 13,\n",
       " 3,\n",
       " 3,\n",
       " 8,\n",
       " 7,\n",
       " 7,\n",
       " 13,\n",
       " 4,\n",
       " 2,\n",
       " 10,\n",
       " 6,\n",
       " 4,\n",
       " 10,\n",
       " 8,\n",
       " 9,\n",
       " 9,\n",
       " 6,\n",
       " 6,\n",
       " 7,\n",
       " 9,\n",
       " 6,\n",
       " 5,\n",
       " 4,\n",
       " 5,\n",
       " 1,\n",
       " 5,\n",
       " 2,\n",
       " 3,\n",
       " 7,\n",
       " 9,\n",
       " 4,\n",
       " 7,\n",
       " 5,\n",
       " 11,\n",
       " 8,\n",
       " 10,\n",
       " 4,\n",
       " 10,\n",
       " 0,\n",
       " 8,\n",
       " 0,\n",
       " 9,\n",
       " 9,\n",
       " 8,\n",
       " 5,\n",
       " 7,\n",
       " 11,\n",
       " 2,\n",
       " 4,\n",
       " 9,\n",
       " 4,\n",
       " 6,\n",
       " 11,\n",
       " 8,\n",
       " 7,\n",
       " 3,\n",
       " 3,\n",
       " 4,\n",
       " 7,\n",
       " 5,\n",
       " 0,\n",
       " 6,\n",
       " 2,\n",
       " 9,\n",
       " 9,\n",
       " 8,\n",
       " 10,\n",
       " 8,\n",
       " 5,\n",
       " 5,\n",
       " 9,\n",
       " 11,\n",
       " 12,\n",
       " 12,\n",
       " 7,\n",
       " 4,\n",
       " 8,\n",
       " 9,\n",
       " 7,\n",
       " 12,\n",
       " 5,\n",
       " 10,\n",
       " 12,\n",
       " 8,\n",
       " 11,\n",
       " 4,\n",
       " 6,\n",
       " 6,\n",
       " 8,\n",
       " 9,\n",
       " 6,\n",
       " 5,\n",
       " 9,\n",
       " 7,\n",
       " 6,\n",
       " 8,\n",
       " 9,\n",
       " 5,\n",
       " 10,\n",
       " 9,\n",
       " 11,\n",
       " 8,\n",
       " 5,\n",
       " 4,\n",
       " 9,\n",
       " 10,\n",
       " 9,\n",
       " 11,\n",
       " 2,\n",
       " 4,\n",
       " 10,\n",
       " 5,\n",
       " 5,\n",
       " 9,\n",
       " 1,\n",
       " 3,\n",
       " 8,\n",
       " 8,\n",
       " 6,\n",
       " 1,\n",
       " -2,\n",
       " 6,\n",
       " 0,\n",
       " 3,\n",
       " 8,\n",
       " 10,\n",
       " 7,\n",
       " 13,\n",
       " 8,\n",
       " 8,\n",
       " 7,\n",
       " 7,\n",
       " 6,\n",
       " 2,\n",
       " 5,\n",
       " 5,\n",
       " 5,\n",
       " 5,\n",
       " 2,\n",
       " 2,\n",
       " 8,\n",
       " 6,\n",
       " 6,\n",
       " 10,\n",
       " 6,\n",
       " 14,\n",
       " 0,\n",
       " 1,\n",
       " 11,\n",
       " 7,\n",
       " 10,\n",
       " 8,\n",
       " 8,\n",
       " 6,\n",
       " 3,\n",
       " 7,\n",
       " 4,\n",
       " 8,\n",
       " 7,\n",
       " 2,\n",
       " 8,\n",
       " 9,\n",
       " 2,\n",
       " 8,\n",
       " 4,\n",
       " 7,\n",
       " 5,\n",
       " 3,\n",
       " 3,\n",
       " 11,\n",
       " 7,\n",
       " 9,\n",
       " 9,\n",
       " 5,\n",
       " 5,\n",
       " 6,\n",
       " 11,\n",
       " 7,\n",
       " 4,\n",
       " 9,\n",
       " 5,\n",
       " 8,\n",
       " 8,\n",
       " 11,\n",
       " 7,\n",
       " 10,\n",
       " 10,\n",
       " 11,\n",
       " 2,\n",
       " 5,\n",
       " 4,\n",
       " 8,\n",
       " 6,\n",
       " 10,\n",
       " 11,\n",
       " 0,\n",
       " 3,\n",
       " 9,\n",
       " 6,\n",
       " 6,\n",
       " 14,\n",
       " 2,\n",
       " 7,\n",
       " 11,\n",
       " 9,\n",
       " 10,\n",
       " 2,\n",
       " 8,\n",
       " 4,\n",
       " 11,\n",
       " 5,\n",
       " 4,\n",
       " 7,\n",
       " 6,\n",
       " 8,\n",
       " 7,\n",
       " 6,\n",
       " 10,\n",
       " 4,\n",
       " 3,\n",
       " 8,\n",
       " 10,\n",
       " 8,\n",
       " 9,\n",
       " 4,\n",
       " 8,\n",
       " 4,\n",
       " 9,\n",
       " 11,\n",
       " 6,\n",
       " 6,\n",
       " 8,\n",
       " 7,\n",
       " 12,\n",
       " 9,\n",
       " 6,\n",
       " 9,\n",
       " 8,\n",
       " 9,\n",
       " 6,\n",
       " 7,\n",
       " 3,\n",
       " 6,\n",
       " 7,\n",
       " 7,\n",
       " 10,\n",
       " 5,\n",
       " 7,\n",
       " 0,\n",
       " 7,\n",
       " 3,\n",
       " 4,\n",
       " 8,\n",
       " -1,\n",
       " 8,\n",
       " 8,\n",
       " 14,\n",
       " 7,\n",
       " 10,\n",
       " 8,\n",
       " 2,\n",
       " 7,\n",
       " 5,\n",
       " 13,\n",
       " 5,\n",
       " 9,\n",
       " 5,\n",
       " 5,\n",
       " 2,\n",
       " 3,\n",
       " 11,\n",
       " 7,\n",
       " 10,\n",
       " 4,\n",
       " 5,\n",
       " 12,\n",
       " 6,\n",
       " 10,\n",
       " 5,\n",
       " 7,\n",
       " 11,\n",
       " 13,\n",
       " 1,\n",
       " 1,\n",
       " 9,\n",
       " 8,\n",
       " 11,\n",
       " 8,\n",
       " 3,\n",
       " 10,\n",
       " 3,\n",
       " 5,\n",
       " 3,\n",
       " 10,\n",
       " 6,\n",
       " 2,\n",
       " 7,\n",
       " 8,\n",
       " 7,\n",
       " 1,\n",
       " 5,\n",
       " 9,\n",
       " 3,\n",
       " 8,\n",
       " 7,\n",
       " 9,\n",
       " 10,\n",
       " 5,\n",
       " 7,\n",
       " 4,\n",
       " 4,\n",
       " 4,\n",
       " 5,\n",
       " 6,\n",
       " 5,\n",
       " 7,\n",
       " 9,\n",
       " 10,\n",
       " 6,\n",
       " 2,\n",
       " 4,\n",
       " 9,\n",
       " 7,\n",
       " 9,\n",
       " 7,\n",
       " 9,\n",
       " 8,\n",
       " 5,\n",
       " 7,\n",
       " 8,\n",
       " 4,\n",
       " 5,\n",
       " 6,\n",
       " 0]"
      ]
     },
     "execution_count": 94,
     "metadata": {},
     "output_type": "execute_result"
    }
   ],
   "source": [
    "data_int = list(map(int,data))\n",
    "data_int"
   ]
  },
  {
   "cell_type": "code",
   "execution_count": 95,
   "metadata": {},
   "outputs": [
    {
     "data": {
      "text/plain": [
       "7"
      ]
     },
     "execution_count": 95,
     "metadata": {},
     "output_type": "execute_result"
    }
   ],
   "source": [
    "ss.mode(data_int)"
   ]
  },
  {
   "cell_type": "code",
   "execution_count": 96,
   "metadata": {},
   "outputs": [
    {
     "data": {
      "text/plain": [
       "1"
      ]
     },
     "execution_count": 96,
     "metadata": {},
     "output_type": "execute_result"
    }
   ],
   "source": [
    "set1 =[1,2,1,2,4,1,2,5,6,23,3,2,1,3,4,1,4]\n",
    "\n",
    "ss.mode(set1)"
   ]
  },
  {
   "cell_type": "code",
   "execution_count": 97,
   "metadata": {
    "scrolled": true
   },
   "outputs": [
    {
     "data": {
      "text/plain": [
       "5"
      ]
     },
     "execution_count": 97,
     "metadata": {},
     "output_type": "execute_result"
    }
   ],
   "source": [
    "set1 =[1, 2, \"a\", \"3\", 5, 7, 4, \"a\", 5, 5]\n",
    "  \n",
    "ss.mode(set1)"
   ]
  },
  {
   "cell_type": "code",
   "execution_count": 99,
   "metadata": {},
   "outputs": [],
   "source": [
    "from collections import namedtuple, defaultdict"
   ]
  },
  {
   "cell_type": "code",
   "execution_count": 101,
   "metadata": {},
   "outputs": [
    {
     "data": {
      "text/plain": [
       "Position(x=12.5, y=5.8)"
      ]
     },
     "execution_count": 101,
     "metadata": {},
     "output_type": "execute_result"
    }
   ],
   "source": [
    "position = namedtuple(\"Position\",\"x,y\")\n",
    "pos = position(12.5,5.8)\n",
    "pos"
   ]
  },
  {
   "cell_type": "code",
   "execution_count": 103,
   "metadata": {},
   "outputs": [
    {
     "name": "stdout",
     "output_type": "stream",
     "text": [
      "12.5\n",
      "12.5\n"
     ]
    }
   ],
   "source": [
    "print(pos[0])\n",
    "print(pos.x)"
   ]
  },
  {
   "cell_type": "code",
   "execution_count": 104,
   "metadata": {},
   "outputs": [
    {
     "name": "stdout",
     "output_type": "stream",
     "text": [
      "5.8\n",
      "5.8\n"
     ]
    }
   ],
   "source": [
    "print(pos[1])\n",
    "print(pos.y)"
   ]
  },
  {
   "cell_type": "code",
   "execution_count": 106,
   "metadata": {},
   "outputs": [
    {
     "data": {
      "text/plain": [
       "(12.5, 5.8, 12.5, 5.8)"
      ]
     },
     "execution_count": 106,
     "metadata": {},
     "output_type": "execute_result"
    }
   ],
   "source": [
    "pos * 2"
   ]
  },
  {
   "cell_type": "code",
   "execution_count": 107,
   "metadata": {},
   "outputs": [
    {
     "name": "stdout",
     "output_type": "stream",
     "text": [
      "12.5 5.8\n"
     ]
    }
   ],
   "source": [
    "print(pos.x,pos.y)"
   ]
  },
  {
   "cell_type": "code",
   "execution_count": 108,
   "metadata": {},
   "outputs": [],
   "source": [
    "person = namedtuple(\"People\", \"name,age,job\")\n",
    "\n",
    "Dave = person(name=\"Dave\", age=\"32\", job=\"Data Scientist\")\n",
    "Oliver = person(name=\"Oliver\", age=\"35\", job=\"Software Developer\")"
   ]
  },
  {
   "cell_type": "code",
   "execution_count": 109,
   "metadata": {},
   "outputs": [
    {
     "name": "stdout",
     "output_type": "stream",
     "text": [
      "People(name='Dave', age='32', job='Data Scientist')\n"
     ]
    }
   ],
   "source": [
    "print(Dave)"
   ]
  },
  {
   "cell_type": "code",
   "execution_count": 110,
   "metadata": {},
   "outputs": [
    {
     "name": "stdout",
     "output_type": "stream",
     "text": [
      "32\n"
     ]
    }
   ],
   "source": [
    "print(Dave.age)"
   ]
  },
  {
   "cell_type": "code",
   "execution_count": 111,
   "metadata": {},
   "outputs": [
    {
     "name": "stdout",
     "output_type": "stream",
     "text": [
      "Software Developer\n"
     ]
    }
   ],
   "source": [
    "print(Oliver.job)"
   ]
  },
  {
   "cell_type": "code",
   "execution_count": 113,
   "metadata": {},
   "outputs": [
    {
     "name": "stdout",
     "output_type": "stream",
     "text": [
      "defaultdict(<class 'list'>, {'Leonard': [], 'Joseph': ['Author'], 'Jane': ['IT']})\n"
     ]
    }
   ],
   "source": [
    "workers_job = defaultdict(list)\n",
    "\n",
    "[workers_job[\"Leonard\"]].append(\"Editor\")\n",
    "workers_job[\"Joseph\"].append(\"Author\")\n",
    "workers_job[\"Jane\"].append(\"IT\")\n",
    "\n",
    "print(workers_job)"
   ]
  },
  {
   "cell_type": "code",
   "execution_count": 114,
   "metadata": {},
   "outputs": [
    {
     "data": {
      "text/plain": [
       "[]"
      ]
     },
     "execution_count": 114,
     "metadata": {},
     "output_type": "execute_result"
    }
   ],
   "source": [
    "workers_job[\"Matthew\"]"
   ]
  },
  {
   "cell_type": "code",
   "execution_count": 115,
   "metadata": {},
   "outputs": [],
   "source": [
    "def count_words(s):\n",
    "    out = defaultdict(lambda : 0)\n",
    "    for word in s.split():\n",
    "        out[word] += 1\n",
    "    return out"
   ]
  },
  {
   "cell_type": "code",
   "execution_count": 116,
   "metadata": {
    "scrolled": true
   },
   "outputs": [
    {
     "data": {
      "text/plain": [
       "defaultdict(<function __main__.count_words.<locals>.<lambda>()>,\n",
       "            {'Lorem': 2,\n",
       "             'ipsum': 3,\n",
       "             'dolor': 3,\n",
       "             'sit': 2,\n",
       "             'amet,': 2,\n",
       "             'consectetur': 2,\n",
       "             'adipiscing': 2,\n",
       "             'elit.': 2,\n",
       "             'Integer': 1,\n",
       "             'vestibulum': 1,\n",
       "             'sodales': 1,\n",
       "             'tortor,': 1,\n",
       "             'vitae': 1,\n",
       "             'vulputate': 1,\n",
       "             'posuere': 1,\n",
       "             'quis.': 1,\n",
       "             'Praesent': 1,\n",
       "             'ut': 1,\n",
       "             'lorem': 1,\n",
       "             'nec': 1,\n",
       "             'metus': 1,\n",
       "             'finibus': 1,\n",
       "             'tincidunt.': 1,\n",
       "             'Donec': 1,\n",
       "             'est': 1,\n",
       "             'nunc,': 1,\n",
       "             'varius': 2,\n",
       "             'vel': 1,\n",
       "             'lobortis': 1,\n",
       "             'nec,': 1,\n",
       "             'viverra': 1,\n",
       "             'ac': 1,\n",
       "             'sapien.': 1,\n",
       "             'Quisque': 1,\n",
       "             'blandit': 1,\n",
       "             'in': 1,\n",
       "             'massa': 2,\n",
       "             'porttitor': 1,\n",
       "             'faucibus.': 1,\n",
       "             'Orci': 1,\n",
       "             'natoque': 1,\n",
       "             'penatibus': 1,\n",
       "             'et': 1,\n",
       "             'magnis': 1,\n",
       "             'dis': 1,\n",
       "             'parturient': 1,\n",
       "             'montes,': 1,\n",
       "             'nascetur': 1,\n",
       "             'ridiculus': 1,\n",
       "             'mus.': 1,\n",
       "             'Vivamus': 1,\n",
       "             'auctor': 1,\n",
       "             'mi': 1,\n",
       "             'quis': 1,\n",
       "             'suscipit': 1,\n",
       "             'pharetra.': 1})"
      ]
     },
     "execution_count": 116,
     "metadata": {},
     "output_type": "execute_result"
    }
   ],
   "source": [
    "s = \"\"\"\n",
    "Lorem ipsum dolor sit amet, consectetur adipiscing elit. Integer vestibulum sodales tortor, vitae vulputate \n",
    "dolor posuere quis. Praesent ut lorem nec metus finibus tincidunt. Donec est nunc, varius vel lobortis nec, \n",
    "viverra ac sapien. Quisque blandit ipsum in massa porttitor faucibus. Orci varius natoque penatibus et magnis \n",
    "dis parturient montes, nascetur ridiculus mus. Lorem ipsum dolor sit amet, consectetur adipiscing elit. Vivamus\n",
    "auctor mi quis massa suscipit pharetra.\n",
    "\"\"\"\n",
    "count_words(s)"
   ]
  },
  {
   "cell_type": "code",
   "execution_count": 117,
   "metadata": {},
   "outputs": [],
   "source": [
    "def count_words1(s):\n",
    "    out = defaultdict(lambda : 0)\n",
    "    for word in s.split():\n",
    "        out[word] += 1\n",
    "    return out\n",
    "\n",
    "def count_words2(s):\n",
    "    out = {}\n",
    "    for word in s.split():\n",
    "        if word in out:\n",
    "            out[word] += 1\n",
    "        else:\n",
    "            out[word] = 1\n",
    "    return out"
   ]
  },
  {
   "cell_type": "code",
   "execution_count": 118,
   "metadata": {},
   "outputs": [
    {
     "name": "stdout",
     "output_type": "stream",
     "text": [
      "22.3 µs ± 952 ns per loop (mean ± std. dev. of 7 runs, 10000 loops each)\n"
     ]
    }
   ],
   "source": [
    "%timeit count_words1(s)"
   ]
  },
  {
   "cell_type": "code",
   "execution_count": 119,
   "metadata": {},
   "outputs": [
    {
     "name": "stdout",
     "output_type": "stream",
     "text": [
      "13.3 µs ± 260 ns per loop (mean ± std. dev. of 7 runs, 100000 loops each)\n"
     ]
    }
   ],
   "source": [
    "%timeit count_words2(s)"
   ]
  },
  {
   "cell_type": "code",
   "execution_count": 120,
   "metadata": {},
   "outputs": [],
   "source": [
    "from functools import reduce"
   ]
  },
  {
   "cell_type": "code",
   "execution_count": 122,
   "metadata": {},
   "outputs": [
    {
     "data": {
      "text/plain": [
       "15"
      ]
     },
     "execution_count": 122,
     "metadata": {},
     "output_type": "execute_result"
    }
   ],
   "source": [
    "reduce(lambda x, y: x+y, [1, 2, 3, 4, 5])"
   ]
  },
  {
   "cell_type": "code",
   "execution_count": 124,
   "metadata": {},
   "outputs": [
    {
     "data": {
      "text/plain": [
       "15"
      ]
     },
     "execution_count": 124,
     "metadata": {},
     "output_type": "execute_result"
    }
   ],
   "source": [
    "((((1+2)+3)+4)+5)"
   ]
  },
  {
   "cell_type": "code",
   "execution_count": 126,
   "metadata": {},
   "outputs": [
    {
     "name": "stdout",
     "output_type": "stream",
     "text": [
      "16\n",
      "With an initial value: 22\n"
     ]
    }
   ],
   "source": [
    "d = [2, 4, 7, 3]\n",
    "\n",
    "print(reduce(lambda x, y: x + y, d))\n",
    "print(\"With an initial value:\",reduce(lambda x, y: x + y, d, 6))"
   ]
  },
  {
   "cell_type": "code",
   "execution_count": 127,
   "metadata": {},
   "outputs": [
    {
     "data": {
      "text/plain": [
       "66"
      ]
     },
     "execution_count": 127,
     "metadata": {},
     "output_type": "execute_result"
    }
   ],
   "source": [
    "numbers = [11,3,9,12,4,15,66]\n",
    "\n",
    "def find_max(a,b):\n",
    "    if a > b:\n",
    "        return a\n",
    "    else:\n",
    "        return b\n",
    "\n",
    "reduce(find_max,numbers)"
   ]
  },
  {
   "cell_type": "code",
   "execution_count": 129,
   "metadata": {},
   "outputs": [],
   "source": [
    "import itertools"
   ]
  },
  {
   "cell_type": "code",
   "execution_count": 131,
   "metadata": {},
   "outputs": [
    {
     "name": "stdout",
     "output_type": "stream",
     "text": [
      "[1, 3, 5, 7, 2, 4, 6, 8]\n"
     ]
    }
   ],
   "source": [
    "list_odd = [1, 3, 5, 7]\n",
    "list_even = [2, 4, 6, 8]\n",
    "\n",
    "numbers = list(itertools.chain(list_odd, list_even))\n",
    "\n",
    "print(numbers)"
   ]
  },
  {
   "cell_type": "code",
   "execution_count": 132,
   "metadata": {},
   "outputs": [
    {
     "data": {
      "text/plain": [
       "[1, 3, 5, 7, 2, 4, 6, 8, 2, 4, 6, 8, 2, 4, 6, 8]"
      ]
     },
     "execution_count": 132,
     "metadata": {},
     "output_type": "execute_result"
    }
   ],
   "source": [
    "list(itertools.chain(list_odd, list_even, list_even, list_even))"
   ]
  },
  {
   "cell_type": "code",
   "execution_count": 135,
   "metadata": {},
   "outputs": [
    {
     "data": {
      "text/plain": [
       "[(1, 1, 3, 3), (1, 1, 3, 3), (1, 1, 3, 3), (1, 3, 3, 3), (1, 3, 3, 3)]"
      ]
     },
     "execution_count": 135,
     "metadata": {},
     "output_type": "execute_result"
    }
   ],
   "source": [
    "A = [1,1,3,3,3]\n",
    "\n",
    "list(itertools.combinations(A,4))"
   ]
  },
  {
   "cell_type": "code",
   "execution_count": 137,
   "metadata": {
    "scrolled": true
   },
   "outputs": [
    {
     "data": {
      "text/plain": [
       "['a b c',\n",
       " 'a b d',\n",
       " 'a b e',\n",
       " 'a b f',\n",
       " 'a c d',\n",
       " 'a c e',\n",
       " 'a c f',\n",
       " 'a d e',\n",
       " 'a d f',\n",
       " 'a e f',\n",
       " 'b c d',\n",
       " 'b c e',\n",
       " 'b c f',\n",
       " 'b d e',\n",
       " 'b d f',\n",
       " 'b e f',\n",
       " 'c d e',\n",
       " 'c d f',\n",
       " 'c e f',\n",
       " 'd e f']"
      ]
     },
     "execution_count": 137,
     "metadata": {},
     "output_type": "execute_result"
    }
   ],
   "source": [
    "letters =\"abcdef\"\n",
    "\n",
    "[' '.join(i) for i in itertools.combinations(letters, 3)]"
   ]
  },
  {
   "cell_type": "code",
   "execution_count": 138,
   "metadata": {
    "scrolled": true
   },
   "outputs": [
    {
     "data": {
      "text/plain": [
       "[('a', 'b'),\n",
       " ('a', 'c'),\n",
       " ('a', 'd'),\n",
       " ('a', 'e'),\n",
       " ('a', 'f'),\n",
       " ('b', 'c'),\n",
       " ('b', 'd'),\n",
       " ('b', 'e'),\n",
       " ('b', 'f'),\n",
       " ('c', 'd'),\n",
       " ('c', 'e'),\n",
       " ('c', 'f'),\n",
       " ('d', 'e'),\n",
       " ('d', 'f'),\n",
       " ('e', 'f')]"
      ]
     },
     "execution_count": 138,
     "metadata": {},
     "output_type": "execute_result"
    }
   ],
   "source": [
    "list(itertools.combinations(letters, 2))"
   ]
  },
  {
   "cell_type": "code",
   "execution_count": 139,
   "metadata": {},
   "outputs": [
    {
     "data": {
      "text/plain": [
       "'abcdef'"
      ]
     },
     "execution_count": 139,
     "metadata": {},
     "output_type": "execute_result"
    }
   ],
   "source": [
    "letters"
   ]
  },
  {
   "cell_type": "code",
   "execution_count": 140,
   "metadata": {},
   "outputs": [
    {
     "data": {
      "text/plain": [
       "[('a', 'a'),\n",
       " ('a', 'b'),\n",
       " ('a', 'c'),\n",
       " ('a', 'd'),\n",
       " ('a', 'e'),\n",
       " ('a', 'f'),\n",
       " ('b', 'b'),\n",
       " ('b', 'c'),\n",
       " ('b', 'd'),\n",
       " ('b', 'e'),\n",
       " ('b', 'f'),\n",
       " ('c', 'c'),\n",
       " ('c', 'd'),\n",
       " ('c', 'e'),\n",
       " ('c', 'f'),\n",
       " ('d', 'd'),\n",
       " ('d', 'e'),\n",
       " ('d', 'f'),\n",
       " ('e', 'e'),\n",
       " ('e', 'f'),\n",
       " ('f', 'f')]"
      ]
     },
     "execution_count": 140,
     "metadata": {},
     "output_type": "execute_result"
    }
   ],
   "source": [
    "list(itertools.combinations_with_replacement(letters, 2))"
   ]
  },
  {
   "cell_type": "code",
   "execution_count": 141,
   "metadata": {
    "scrolled": true
   },
   "outputs": [
    {
     "data": {
      "text/plain": [
       "[('a', 'b'),\n",
       " ('a', 'c'),\n",
       " ('a', 'd'),\n",
       " ('a', 'e'),\n",
       " ('a', 'f'),\n",
       " ('b', 'a'),\n",
       " ('b', 'c'),\n",
       " ('b', 'd'),\n",
       " ('b', 'e'),\n",
       " ('b', 'f'),\n",
       " ('c', 'a'),\n",
       " ('c', 'b'),\n",
       " ('c', 'd'),\n",
       " ('c', 'e'),\n",
       " ('c', 'f'),\n",
       " ('d', 'a'),\n",
       " ('d', 'b'),\n",
       " ('d', 'c'),\n",
       " ('d', 'e'),\n",
       " ('d', 'f'),\n",
       " ('e', 'a'),\n",
       " ('e', 'b'),\n",
       " ('e', 'c'),\n",
       " ('e', 'd'),\n",
       " ('e', 'f'),\n",
       " ('f', 'a'),\n",
       " ('f', 'b'),\n",
       " ('f', 'c'),\n",
       " ('f', 'd'),\n",
       " ('f', 'e')]"
      ]
     },
     "execution_count": 141,
     "metadata": {},
     "output_type": "execute_result"
    }
   ],
   "source": [
    "list(itertools.permutations(letters,2))"
   ]
  },
  {
   "cell_type": "code",
   "execution_count": 142,
   "metadata": {},
   "outputs": [
    {
     "data": {
      "text/plain": [
       "[('X', 'Y', 'Z'),\n",
       " ('X', 'Z', 'Y'),\n",
       " ('Y', 'X', 'Z'),\n",
       " ('Y', 'Z', 'X'),\n",
       " ('Z', 'X', 'Y'),\n",
       " ('Z', 'Y', 'X')]"
      ]
     },
     "execution_count": 142,
     "metadata": {},
     "output_type": "execute_result"
    }
   ],
   "source": [
    "list(itertools.permutations('XYZ'))"
   ]
  },
  {
   "cell_type": "code",
   "execution_count": 144,
   "metadata": {
    "scrolled": false
   },
   "outputs": [
    {
     "data": {
      "text/plain": [
       "[(0, 1),\n",
       " (0, 2),\n",
       " (0, 3),\n",
       " (0, 4),\n",
       " (1, 0),\n",
       " (1, 2),\n",
       " (1, 3),\n",
       " (1, 4),\n",
       " (2, 0),\n",
       " (2, 1),\n",
       " (2, 3),\n",
       " (2, 4),\n",
       " (3, 0),\n",
       " (3, 1),\n",
       " (3, 2),\n",
       " (3, 4),\n",
       " (4, 0),\n",
       " (4, 1),\n",
       " (4, 2),\n",
       " (4, 3)]"
      ]
     },
     "execution_count": 144,
     "metadata": {},
     "output_type": "execute_result"
    }
   ],
   "source": [
    "list(itertools.permutations(range(5), 2))"
   ]
  },
  {
   "cell_type": "code",
   "execution_count": 145,
   "metadata": {},
   "outputs": [
    {
     "data": {
      "text/plain": [
       "[1, 1, 1, 1, 2, 2, 2, 4, 41, 41]"
      ]
     },
     "execution_count": 145,
     "metadata": {},
     "output_type": "execute_result"
    }
   ],
   "source": [
    "d = [1,1,4,1,2,41,1,2,2,41]\n",
    "d.sort()\n",
    "d"
   ]
  },
  {
   "cell_type": "code",
   "execution_count": 146,
   "metadata": {},
   "outputs": [
    {
     "name": "stdout",
     "output_type": "stream",
     "text": [
      "1 <itertools._grouper object at 0x7fe8c925e048>\n",
      "2 <itertools._grouper object at 0x7fe8c925e9e8>\n",
      "4 <itertools._grouper object at 0x7fe8c925e438>\n",
      "41 <itertools._grouper object at 0x7fe8c925ecc0>\n"
     ]
    }
   ],
   "source": [
    "for i,k in itertools.groupby(d):\n",
    "    print(i,k)"
   ]
  },
  {
   "cell_type": "code",
   "execution_count": 148,
   "metadata": {},
   "outputs": [
    {
     "name": "stdout",
     "output_type": "stream",
     "text": [
      "1 [1, 1, 1, 1]\n",
      "2 [2, 2, 2]\n",
      "4 [4]\n",
      "41 [41, 41]\n"
     ]
    }
   ],
   "source": [
    "for i,k in itertools.groupby(d):\n",
    "    print(i,list(k))"
   ]
  },
  {
   "cell_type": "code",
   "execution_count": 149,
   "metadata": {},
   "outputs": [
    {
     "name": "stdout",
     "output_type": "stream",
     "text": [
      "1 4\n",
      "2 3\n",
      "4 1\n",
      "41 2\n"
     ]
    }
   ],
   "source": [
    "for i,k in itertools.groupby(d):\n",
    "    print(i,len(list(k)))"
   ]
  },
  {
   "cell_type": "code",
   "execution_count": 150,
   "metadata": {},
   "outputs": [
    {
     "name": "stdout",
     "output_type": "stream",
     "text": [
      "a : [('a', 1), ('a', 2)]\n",
      "b : [('b', 3), ('b', 4)]\n"
     ]
    }
   ],
   "source": [
    "L = [(\"a\", 1), (\"a\", 2), (\"b\", 3), (\"b\", 4)]\n",
    "\n",
    "key_func = lambda x: x[0]\n",
    "\n",
    "for key, group in itertools.groupby(L, key_func):\n",
    "    print(key, \":\", list(group))"
   ]
  },
  {
   "cell_type": "code",
   "execution_count": 151,
   "metadata": {},
   "outputs": [
    {
     "name": "stdout",
     "output_type": "stream",
     "text": [
      "Animal : [('Animal', 'cat'), ('Animal', 'dog')]\n",
      "Bird : [('Bird', 'peacock'), ('Bird', 'pigeon')]\n"
     ]
    }
   ],
   "source": [
    "animal_list = [\n",
    "    (\"Animal\", \"cat\"), \n",
    "    (\"Animal\", \"dog\"), \n",
    "    (\"Bird\", \"peacock\"), \n",
    "    (\"Bird\", \"pigeon\")\n",
    "]\n",
    "  \n",
    "for key, group in itertools.groupby(animal_list, lambda x : x[0]):\n",
    "    print(key,\":\", list(group))"
   ]
  },
  {
   "cell_type": "code",
   "execution_count": 153,
   "metadata": {},
   "outputs": [
    {
     "name": "stdout",
     "output_type": "stream",
     "text": [
      "34 : [{'name': 'Alan', 'age': 34}, {'name': 'Catherine', 'age': 34}]\n",
      "29 : [{'name': 'Betsy', 'age': 29}]\n",
      "33 : [{'name': 'David', 'age': 33}]\n"
     ]
    }
   ],
   "source": [
    "employees = [{'name': 'Alan', 'age': 34},\n",
    "         {'name': 'Catherine', 'age': 34},\n",
    "         {'name': 'Betsy', 'age': 29},\n",
    "        {'name': 'David', 'age': 33}]\n",
    "\n",
    "grouped_data = itertools.groupby(employees, key=lambda x: x['age'])\n",
    "\n",
    "for key, group in grouped_data:\n",
    "     print(key,\":\", list(group))"
   ]
  },
  {
   "cell_type": "code",
   "execution_count": 155,
   "metadata": {
    "scrolled": true
   },
   "outputs": [
    {
     "data": {
      "text/plain": [
       "[(13420, 9),\n",
       " (13415, 8),\n",
       " (13420, 12),\n",
       " (13414, 19),\n",
       " (13415, 16),\n",
       " (13415, 13),\n",
       " (13415, 1),\n",
       " (13414, 29),\n",
       " (13413, 36),\n",
       " (13416, 2),\n",
       " (13416, 12),\n",
       " (13413, 4),\n",
       " (13415, 36),\n",
       " (13415, 15),\n",
       " (13412, 26),\n",
       " (13416, 49),\n",
       " (13417, 25),\n",
       " (13417, 4),\n",
       " (13413, 8),\n",
       " (13415, 46),\n",
       " (13420, 2),\n",
       " (13416, 23),\n",
       " (13412, 42),\n",
       " (13413, 3),\n",
       " (13416, 40),\n",
       " (13413, 20),\n",
       " (13420, 7),\n",
       " (13420, 6),\n",
       " (13418, 53),\n",
       " (13415, 39)]"
      ]
     },
     "execution_count": 155,
     "metadata": {},
     "output_type": "execute_result"
    }
   ],
   "source": [
    "# Generate a random user purchase count data\n",
    "purchase_count = list(zip(\n",
    "    rand_list(30,\"randint\",13412,13420),\n",
    "    map(int,rand_list(30,\"expovariate\",0.05))\n",
    "))\n",
    "purchase_count"
   ]
  },
  {
   "cell_type": "code",
   "execution_count": 156,
   "metadata": {
    "scrolled": true
   },
   "outputs": [
    {
     "name": "stdout",
     "output_type": "stream",
     "text": [
      "13420 9\n",
      "13415 8\n",
      "13420 12\n",
      "13414 19\n",
      "13415 30\n",
      "13414 29\n",
      "13413 36\n",
      "13416 14\n",
      "13413 4\n",
      "13415 51\n",
      "13412 26\n",
      "13416 49\n",
      "13417 29\n",
      "13413 8\n",
      "13415 46\n",
      "13420 2\n",
      "13416 23\n",
      "13412 42\n",
      "13413 3\n",
      "13416 40\n",
      "13413 20\n",
      "13420 13\n",
      "13418 53\n",
      "13415 39\n"
     ]
    }
   ],
   "source": [
    "grouper = itertools.groupby(purchase_count, lambda x : x[0])\n",
    "\n",
    "def sum_group(g):\n",
    "    return sum(map(lambda x: x[1],group))\n",
    "\n",
    "for key, group in grouper:\n",
    "    print(key,sum_group(group))"
   ]
  },
  {
   "cell_type": "code",
   "execution_count": 157,
   "metadata": {},
   "outputs": [
    {
     "data": {
      "text/plain": [
       "[('a', 'X'),\n",
       " ('a', 'Y'),\n",
       " ('a', 'Z'),\n",
       " ('b', 'X'),\n",
       " ('b', 'Y'),\n",
       " ('b', 'Z'),\n",
       " ('c', 'X'),\n",
       " ('c', 'Y'),\n",
       " ('c', 'Z')]"
      ]
     },
     "execution_count": 157,
     "metadata": {},
     "output_type": "execute_result"
    }
   ],
   "source": [
    "l1 = ['a', 'b', 'c']\n",
    "l2 = ['X', 'Y', 'Z']\n",
    "\n",
    "list(itertools.product(l1, l2)) # simply a cartesian product of two sets (in math)"
   ]
  },
  {
   "cell_type": "code",
   "execution_count": 158,
   "metadata": {},
   "outputs": [
    {
     "data": {
      "text/plain": [
       "[('AA', 'colour', 0),\n",
       " ('AA', 'colour', 1),\n",
       " ('AA', 'size', 0),\n",
       " ('AA', 'size', 1),\n",
       " ('BB', 'colour', 0),\n",
       " ('BB', 'colour', 1),\n",
       " ('BB', 'size', 0),\n",
       " ('BB', 'size', 1)]"
      ]
     },
     "execution_count": 158,
     "metadata": {},
     "output_type": "execute_result"
    }
   ],
   "source": [
    "t = ('AA', 'BB')\n",
    "d = {'colour': 'white', 'size': 'small'}\n",
    "r = range(2)\n",
    "\n",
    "list(itertools.product(t, d, r))"
   ]
  },
  {
   "cell_type": "code",
   "execution_count": 165,
   "metadata": {},
   "outputs": [
    {
     "name": "stdout",
     "output_type": "stream",
     "text": [
      "Today: 2021-05-23 13:58:04.128572\n",
      "Current date and time: 2021-05-23 13:58:04.128672\n",
      "Current UTC date and time: 2021-05-23 10:58:04.128742\n"
     ]
    }
   ],
   "source": [
    "import datetime\n",
    "\n",
    "print(\"Today:\",datetime.datetime.today())\n",
    "print(\"Current date and time:\",datetime.datetime.now())\n",
    "print(\"Current UTC date and time:\",datetime.datetime.utcnow())"
   ]
  },
  {
   "cell_type": "code",
   "execution_count": 168,
   "metadata": {},
   "outputs": [
    {
     "data": {
      "text/plain": [
       "datetime.datetime(2021, 5, 23, 13, 58, 12, 5859)"
      ]
     },
     "execution_count": 168,
     "metadata": {},
     "output_type": "execute_result"
    }
   ],
   "source": [
    "a = datetime.datetime.now()\n",
    "a"
   ]
  },
  {
   "cell_type": "code",
   "execution_count": 167,
   "metadata": {},
   "outputs": [
    {
     "data": {
      "text/plain": [
       "datetime.time(13, 58, 4, 812113)"
      ]
     },
     "execution_count": 167,
     "metadata": {},
     "output_type": "execute_result"
    }
   ],
   "source": [
    "a.time()"
   ]
  },
  {
   "cell_type": "code",
   "execution_count": 170,
   "metadata": {},
   "outputs": [
    {
     "name": "stdout",
     "output_type": "stream",
     "text": [
      "2021-05-20 00:00:00\n",
      "2021-05-20 00:13:59\n",
      "2021-05-20\n"
     ]
    }
   ],
   "source": [
    "print(datetime.datetime(2021,5,20))\n",
    "print(datetime.datetime(2021, 5, 20,0,13,59))\n",
    "print(datetime.date(2021,5,20))"
   ]
  },
  {
   "cell_type": "code",
   "execution_count": 171,
   "metadata": {},
   "outputs": [
    {
     "name": "stdout",
     "output_type": "stream",
     "text": [
      "2021-05-23 13:58:53.816969\n"
     ]
    }
   ],
   "source": [
    "t0 = datetime.datetime.now()\n",
    "print(t0)"
   ]
  },
  {
   "cell_type": "code",
   "execution_count": 177,
   "metadata": {},
   "outputs": [
    {
     "name": "stdout",
     "output_type": "stream",
     "text": [
      "2021-05-23 14:58:53.816969\n"
     ]
    }
   ],
   "source": [
    "t1 = t0 + datetime.timedelta(hours=1)\n",
    "print(t1)"
   ]
  },
  {
   "cell_type": "code",
   "execution_count": 178,
   "metadata": {},
   "outputs": [
    {
     "name": "stdout",
     "output_type": "stream",
     "text": [
      "2021-05-24 13:58:53.816969\n"
     ]
    }
   ],
   "source": [
    "t2 = t0 + datetime.timedelta(days=1)\n",
    "print(t2)"
   ]
  },
  {
   "cell_type": "code",
   "execution_count": 179,
   "metadata": {},
   "outputs": [],
   "source": [
    "import time"
   ]
  },
  {
   "cell_type": "code",
   "execution_count": 181,
   "metadata": {},
   "outputs": [
    {
     "name": "stdout",
     "output_type": "stream",
     "text": [
      "1621767670.7317958\n"
     ]
    }
   ],
   "source": [
    "# Epoch time as seconds\n",
    "print(time.time())"
   ]
  },
  {
   "cell_type": "code",
   "execution_count": 184,
   "metadata": {},
   "outputs": [
    {
     "name": "stdout",
     "output_type": "stream",
     "text": [
      "I waited  3 seconds.\n"
     ]
    }
   ],
   "source": [
    "n_sec = 3\n",
    "time.sleep(n_sec)\n",
    "print(\"I waited \",n_sec,\"seconds.\")"
   ]
  },
  {
   "cell_type": "markdown",
   "metadata": {},
   "source": [
    "### File Input/Output\n",
    "\n",
    "We can read from and write to files using \"file handles\" in python. This is the most basic type of file IO.\n",
    "\n",
    "* `open()`\n",
    "* `close()`"
   ]
  },
  {
   "cell_type": "code",
   "execution_count": 185,
   "metadata": {},
   "outputs": [],
   "source": [
    "import csv"
   ]
  },
  {
   "cell_type": "code",
   "execution_count": 186,
   "metadata": {},
   "outputs": [
    {
     "data": {
      "text/plain": [
       "[('2020Q1', 1009, 771.2514520520497),\n",
       " ('2020Q2', 1443, 603.0937778695551),\n",
       " ('2020Q3', 1046, 289.0906836583134),\n",
       " ('2020Q4', 1140, 957.1910938706981)]"
      ]
     },
     "execution_count": 186,
     "metadata": {},
     "output_type": "execute_result"
    }
   ],
   "source": [
    "col2 = rand_list(4,\"randint\",1000,1500)\n",
    "col3 = rand_list(4,\"gauss\",700,300)\n",
    "t = [\"2020Q1\",\"2020Q2\",\"2020Q3\",\"2020Q4\"]\n",
    "\n",
    "data = list(zip(t,col2,col3))\n",
    "data"
   ]
  },
  {
   "cell_type": "code",
   "execution_count": 187,
   "metadata": {},
   "outputs": [],
   "source": [
    "f = open(\"sales.csv\",mode=\"w\")\n",
    "writer = csv.writer(f)\n",
    "writer.writerows(data)\n",
    "f.close()"
   ]
  },
  {
   "cell_type": "code",
   "execution_count": 188,
   "metadata": {},
   "outputs": [
    {
     "name": "stdout",
     "output_type": "stream",
     "text": [
      "<_io.TextIOWrapper name='sales.csv' mode='r' encoding='UTF-8'>\n",
      "<class '_io.TextIOWrapper'>\n"
     ]
    }
   ],
   "source": [
    "f = open(\"sales.csv\",mode=\"r\")\n",
    "print(f)\n",
    "print(type(f))"
   ]
  },
  {
   "cell_type": "code",
   "execution_count": 189,
   "metadata": {},
   "outputs": [
    {
     "name": "stdout",
     "output_type": "stream",
     "text": [
      "['2020Q1', '1009', '771.2514520520497']\n",
      "['2020Q2', '1443', '603.0937778695551']\n",
      "['2020Q3', '1046', '289.0906836583134']\n",
      "['2020Q4', '1140', '957.1910938706981']\n"
     ]
    }
   ],
   "source": [
    "rd = csv.reader(f)\n",
    "for line in rd:\n",
    "    print(line)\n",
    "f.close()"
   ]
  },
  {
   "cell_type": "markdown",
   "metadata": {},
   "source": [
    "### `with` statement\n",
    "\n",
    "The safest way to read a file. Could be used on different cases than file IO too.\n",
    "\n",
    "1. `with` a_function `as` my_variable_name (call `__enter__` method)\n",
    "2. perform what is specified\n",
    "3. if computation is finished, exit (call `__exit__` method)"
   ]
  },
  {
   "cell_type": "code",
   "execution_count": 190,
   "metadata": {},
   "outputs": [],
   "source": [
    "with open(\"sales.csv\",mode=\"w\") as f:\n",
    "    writer = csv.writer(f)\n",
    "    writer.writerows(data)"
   ]
  },
  {
   "cell_type": "code",
   "execution_count": 191,
   "metadata": {},
   "outputs": [
    {
     "name": "stdout",
     "output_type": "stream",
     "text": [
      "['2020Q1', '1009', '771.2514520520497']\n",
      "['2020Q2', '1443', '603.0937778695551']\n",
      "['2020Q3', '1046', '289.0906836583134']\n",
      "['2020Q4', '1140', '957.1910938706981']\n"
     ]
    }
   ],
   "source": [
    "with open(\"sales.csv\",mode=\"r\") as f:\n",
    "    reader = csv.reader(f)\n",
    "    for line in reader:\n",
    "        print(line)"
   ]
  },
  {
   "cell_type": "code",
   "execution_count": 192,
   "metadata": {},
   "outputs": [
    {
     "data": {
      "text/plain": [
       "[['2020Q1', '1009', '771.2514520520497'],\n",
       " ['2020Q2', '1443', '603.0937778695551'],\n",
       " ['2020Q3', '1046', '289.0906836583134'],\n",
       " ['2020Q4', '1140', '957.1910938706981']]"
      ]
     },
     "execution_count": 192,
     "metadata": {},
     "output_type": "execute_result"
    }
   ],
   "source": [
    "with open(\"sales.csv\",mode=\"r\") as f:\n",
    "    reader = csv.reader(f)\n",
    "    content = list(map(list,reader))\n",
    "\n",
    "content"
   ]
  },
  {
   "cell_type": "code",
   "execution_count": 193,
   "metadata": {},
   "outputs": [
    {
     "ename": "ValueError",
     "evalue": "I/O operation on closed file.",
     "output_type": "error",
     "traceback": [
      "\u001b[0;31m---------------------------------------------------------------------------\u001b[0m",
      "\u001b[0;31mValueError\u001b[0m                                Traceback (most recent call last)",
      "\u001b[0;32m<ipython-input-193-33f23eb7c236>\u001b[0m in \u001b[0;36m<module>\u001b[0;34m\u001b[0m\n\u001b[1;32m      3\u001b[0m     \u001b[0mcontent\u001b[0m \u001b[0;34m=\u001b[0m \u001b[0mmap\u001b[0m\u001b[0;34m(\u001b[0m\u001b[0mlist\u001b[0m\u001b[0;34m,\u001b[0m\u001b[0mreader\u001b[0m\u001b[0;34m)\u001b[0m \u001b[0;31m# <----- see the difference here\u001b[0m\u001b[0;34m\u001b[0m\u001b[0;34m\u001b[0m\u001b[0m\n\u001b[1;32m      4\u001b[0m \u001b[0;34m\u001b[0m\u001b[0m\n\u001b[0;32m----> 5\u001b[0;31m \u001b[0mlist\u001b[0m\u001b[0;34m(\u001b[0m\u001b[0mcontent\u001b[0m\u001b[0;34m)\u001b[0m \u001b[0;31m# <--- now try to call it\u001b[0m\u001b[0;34m\u001b[0m\u001b[0;34m\u001b[0m\u001b[0m\n\u001b[0m",
      "\u001b[0;31mValueError\u001b[0m: I/O operation on closed file."
     ]
    }
   ],
   "source": [
    "with open(\"sales.csv\",mode=\"r\") as f:\n",
    "    reader = csv.reader(f)\n",
    "    content = map(list,reader) # <----- see the difference here\n",
    "\n",
    "list(content) # <--- now try to call it"
   ]
  },
  {
   "cell_type": "code",
   "execution_count": 197,
   "metadata": {},
   "outputs": [],
   "source": [
    "import json"
   ]
  },
  {
   "cell_type": "code",
   "execution_count": 194,
   "metadata": {},
   "outputs": [
    {
     "data": {
      "text/plain": [
       "'[\\n  {\\n    \"id\": 1,\\n    \"name\": \"Leanne Graham\",\\n    \"username\": \"Bret\",\\n    \"email\": \"Sincere@april.biz\",\\n    \"address\": {\\n      \"street\": \"Kulas Light\",\\n      \"suite\": \"Apt. 556\",\\n      \"city\": \"Gwenborough\",\\n      \"zipcode\": \"92998-3874\",\\n      \"geo\": {\\n        \"lat\": \"-37.3159\",\\n        \"lng\": \"81.1496\"\\n      }\\n    },\\n    \"phone\": \"1-770-736-8031 x56442\",\\n    \"website\": \"hildegard.org\",\\n    \"company\": {\\n      \"name\": \"Romaguera-Crona\",\\n      \"catchPhrase\": \"Multi-layered client-server neural-net\",\\n      \"bs\": \"harness real-time e-markets\"\\n    }\\n  },\\n  {\\n    \"id\": 2,\\n    \"name\": \"Ervin Howell\",\\n    \"username\": \"Antonette\",\\n    \"email\": \"Shanna@melissa.tv\",\\n    \"address\": {\\n      \"street\": \"Victor Plains\",\\n      \"suite\": \"Suite 879\",\\n      \"city\": \"Wisokyburgh\",\\n      \"zipcode\": \"90566-7771\",\\n      \"geo\": {\\n        \"lat\": \"-43.9509\",\\n        \"lng\": \"-34.4618\"\\n      }\\n    },\\n    \"phone\": \"010-692-6593 x09125\",\\n    \"website\": \"anastasia.net\",\\n    \"company\": {\\n      \"name\": \"Deckow-Crist\",\\n      \"catchPhrase\": \"Proactive didactic contingency\",\\n      \"bs\": \"synergize scalable supply-chains\"\\n    }\\n  },\\n  {\\n    \"id\": 3,\\n    \"name\": \"Clementine Bauch\",\\n    \"username\": \"Samantha\",\\n    \"email\": \"Nathan@yesenia.net\",\\n    \"address\": {\\n      \"street\": \"Douglas Extension\",\\n      \"suite\": \"Suite 847\",\\n      \"city\": \"McKenziehaven\",\\n      \"zipcode\": \"59590-4157\",\\n      \"geo\": {\\n        \"lat\": \"-68.6102\",\\n        \"lng\": \"-47.0653\"\\n      }\\n    },\\n    \"phone\": \"1-463-123-4447\",\\n    \"website\": \"ramiro.info\",\\n    \"company\": {\\n      \"name\": \"Romaguera-Jacobson\",\\n      \"catchPhrase\": \"Face to face bifurcated interface\",\\n      \"bs\": \"e-enable strategic applications\"\\n    }\\n  },\\n  {\\n    \"id\": 4,\\n    \"name\": \"Patricia Lebsack\",\\n    \"username\": \"Karianne\",\\n    \"email\": \"Julianne.OConner@kory.org\",\\n    \"address\": {\\n      \"street\": \"Hoeger Mall\",\\n      \"suite\": \"Apt. 692\",\\n      \"city\": \"South Elvis\",\\n      \"zipcode\": \"53919-4257\",\\n      \"geo\": {\\n        \"lat\": \"29.4572\",\\n        \"lng\": \"-164.2990\"\\n      }\\n    },\\n    \"phone\": \"493-170-9623 x156\",\\n    \"website\": \"kale.biz\",\\n    \"company\": {\\n      \"name\": \"Robel-Corkery\",\\n      \"catchPhrase\": \"Multi-tiered zero tolerance productivity\",\\n      \"bs\": \"transition cutting-edge web services\"\\n    }\\n  },\\n  {\\n    \"id\": 5,\\n    \"name\": \"Chelsey Dietrich\",\\n    \"username\": \"Kamren\",\\n    \"email\": \"Lucio_Hettinger@annie.ca\",\\n    \"address\": {\\n      \"street\": \"Skiles Walks\",\\n      \"suite\": \"Suite 351\",\\n      \"city\": \"Roscoeview\",\\n      \"zipcode\": \"33263\",\\n      \"geo\": {\\n        \"lat\": \"-31.8129\",\\n        \"lng\": \"62.5342\"\\n      }\\n    },\\n    \"phone\": \"(254)954-1289\",\\n    \"website\": \"demarco.info\",\\n    \"company\": {\\n      \"name\": \"Keebler LLC\",\\n      \"catchPhrase\": \"User-centric fault-tolerant solution\",\\n      \"bs\": \"revolutionize end-to-end systems\"\\n    }\\n  },\\n  {\\n    \"id\": 6,\\n    \"name\": \"Mrs. Dennis Schulist\",\\n    \"username\": \"Leopoldo_Corkery\",\\n    \"email\": \"Karley_Dach@jasper.info\",\\n    \"address\": {\\n      \"street\": \"Norberto Crossing\",\\n      \"suite\": \"Apt. 950\",\\n      \"city\": \"South Christy\",\\n      \"zipcode\": \"23505-1337\",\\n      \"geo\": {\\n        \"lat\": \"-71.4197\",\\n        \"lng\": \"71.7478\"\\n      }\\n    },\\n    \"phone\": \"1-477-935-8478 x6430\",\\n    \"website\": \"ola.org\",\\n    \"company\": {\\n      \"name\": \"Considine-Lockman\",\\n      \"catchPhrase\": \"Synchronised bottom-line interface\",\\n      \"bs\": \"e-enable innovative applications\"\\n    }\\n  },\\n  {\\n    \"id\": 7,\\n    \"name\": \"Kurtis Weissnat\",\\n    \"username\": \"Elwyn.Skiles\",\\n    \"email\": \"Telly.Hoeger@billy.biz\",\\n    \"address\": {\\n      \"street\": \"Rex Trail\",\\n      \"suite\": \"Suite 280\",\\n      \"city\": \"Howemouth\",\\n      \"zipcode\": \"58804-1099\",\\n      \"geo\": {\\n        \"lat\": \"24.8918\",\\n        \"lng\": \"21.8984\"\\n      }\\n    },\\n    \"phone\": \"210.067.6132\",\\n    \"website\": \"elvis.io\",\\n    \"company\": {\\n      \"name\": \"Johns Group\",\\n      \"catchPhrase\": \"Configurable multimedia task-force\",\\n      \"bs\": \"generate enterprise e-tailers\"\\n    }\\n  },\\n  {\\n    \"id\": 8,\\n    \"name\": \"Nicholas Runolfsdottir V\",\\n    \"username\": \"Maxime_Nienow\",\\n    \"email\": \"Sherwood@rosamond.me\",\\n    \"address\": {\\n      \"street\": \"Ellsworth Summit\",\\n      \"suite\": \"Suite 729\",\\n      \"city\": \"Aliyaview\",\\n      \"zipcode\": \"45169\",\\n      \"geo\": {\\n        \"lat\": \"-14.3990\",\\n        \"lng\": \"-120.7677\"\\n      }\\n    },\\n    \"phone\": \"586.493.6943 x140\",\\n    \"website\": \"jacynthe.com\",\\n    \"company\": {\\n      \"name\": \"Abernathy Group\",\\n      \"catchPhrase\": \"Implemented secondary concept\",\\n      \"bs\": \"e-enable extensible e-tailers\"\\n    }\\n  },\\n  {\\n    \"id\": 9,\\n    \"name\": \"Glenna Reichert\",\\n    \"username\": \"Delphine\",\\n    \"email\": \"Chaim_McDermott@dana.io\",\\n    \"address\": {\\n      \"street\": \"Dayna Park\",\\n      \"suite\": \"Suite 449\",\\n      \"city\": \"Bartholomebury\",\\n      \"zipcode\": \"76495-3109\",\\n      \"geo\": {\\n        \"lat\": \"24.6463\",\\n        \"lng\": \"-168.8889\"\\n      }\\n    },\\n    \"phone\": \"(775)976-6794 x41206\",\\n    \"website\": \"conrad.com\",\\n    \"company\": {\\n      \"name\": \"Yost and Sons\",\\n      \"catchPhrase\": \"Switchable contextually-based project\",\\n      \"bs\": \"aggregate real-time technologies\"\\n    }\\n  },\\n  {\\n    \"id\": 10,\\n    \"name\": \"Clementina DuBuque\",\\n    \"username\": \"Moriah.Stanton\",\\n    \"email\": \"Rey.Padberg@karina.biz\",\\n    \"address\": {\\n      \"street\": \"Kattie Turnpike\",\\n      \"suite\": \"Suite 198\",\\n      \"city\": \"Lebsackbury\",\\n      \"zipcode\": \"31428-2261\",\\n      \"geo\": {\\n        \"lat\": \"-38.2386\",\\n        \"lng\": \"57.2232\"\\n      }\\n    },\\n    \"phone\": \"024-648-3804\",\\n    \"website\": \"ambrose.net\",\\n    \"company\": {\\n      \"name\": \"Hoeger LLC\",\\n      \"catchPhrase\": \"Centralized empowering task-force\",\\n      \"bs\": \"target end-to-end models\"\\n    }\\n  }\\n]'"
      ]
     },
     "execution_count": 194,
     "metadata": {},
     "output_type": "execute_result"
    }
   ],
   "source": [
    "import urllib\n",
    "\n",
    "def request_random_user():\n",
    "    url = \"https://jsonplaceholder.typicode.com/users\"\n",
    "    response = urllib.request.urlopen(url)\n",
    "    return response.read().decode()\n",
    "\n",
    "raw_content = request_random_user()\n",
    "raw_content"
   ]
  },
  {
   "cell_type": "code",
   "execution_count": 195,
   "metadata": {},
   "outputs": [
    {
     "name": "stdout",
     "output_type": "stream",
     "text": [
      "[\n",
      "  {\n",
      "    \"id\": 1,\n",
      "    \"name\": \"Leanne Graham\",\n",
      "    \"username\": \"Bret\",\n",
      "    \"email\": \"Sincere@april.biz\",\n",
      "    \"address\": {\n",
      "      \"street\": \"Kulas Light\",\n",
      "      \"suite\": \"Apt. 556\",\n",
      "      \"city\": \"Gwenborough\",\n",
      "      \"zipcode\": \"92998-3874\",\n",
      "      \"geo\": {\n",
      "        \"lat\": \"-37.3159\",\n",
      "        \"lng\": \"81.1496\"\n",
      "      }\n",
      "    },\n",
      "    \"phone\": \"1-770-736-8031 x56442\",\n",
      "    \"website\": \"hildegard.org\",\n",
      "    \"company\": {\n",
      "      \"name\": \"Romaguera-Crona\",\n",
      "      \"catchPhrase\": \"Multi-layered client-server neural-net\",\n",
      "      \"bs\": \"harness real-time e-markets\"\n",
      "    }\n",
      "  },\n",
      "  {\n",
      "    \"id\": 2,\n",
      "    \"name\": \"Ervin Howell\",\n",
      "    \"username\": \"Antonette\",\n",
      "    \"email\": \"Shanna@melissa.tv\",\n",
      "    \"address\": {\n",
      "      \"street\": \"Victor Plains\",\n",
      "      \"suite\": \"Suite 879\",\n",
      "      \"city\": \"Wisokyburgh\",\n",
      "      \"zipcode\": \"90566-7771\",\n",
      "      \"geo\": {\n",
      "        \"lat\": \"-43.9509\",\n",
      "        \"lng\": \"-34.4618\"\n",
      "      }\n",
      "    },\n",
      "    \"phone\": \"010-692-6593 x09125\",\n",
      "    \"website\": \"anastasia.net\",\n",
      "    \"company\": {\n",
      "      \"name\": \"Deckow-Crist\",\n",
      "      \"catchPhrase\": \"Proactive didactic contingency\",\n",
      "      \"bs\": \"synergize scalable supply-chains\"\n",
      "    }\n",
      "  },\n",
      "  {\n",
      "    \"id\": 3,\n",
      "    \"name\": \"Clementine Bauch\",\n",
      "    \"username\": \"Samantha\",\n",
      "    \"email\": \"Nathan@yesenia.net\",\n",
      "    \"address\": {\n",
      "      \"street\": \"Douglas Extension\",\n",
      "      \"suite\": \"Suite 847\",\n",
      "      \"city\": \"McKenziehaven\",\n",
      "      \"zipcode\": \"59590-4157\",\n",
      "      \"geo\": {\n",
      "        \"lat\": \"-68.6102\",\n",
      "        \"lng\": \"-47.0653\"\n",
      "      }\n",
      "    },\n",
      "    \"phone\": \"1-463-123-4447\",\n",
      "    \"website\": \"ramiro.info\",\n",
      "    \"company\": {\n",
      "      \"name\": \"Romaguera-Jacobson\",\n",
      "      \"catchPhrase\": \"Face to face bifurcated interface\",\n",
      "      \"bs\": \"e-enable strategic applications\"\n",
      "    }\n",
      "  },\n",
      "  {\n",
      "    \"id\": 4,\n",
      "    \"name\": \"Patricia Lebsack\",\n",
      "    \"username\": \"Karianne\",\n",
      "    \"email\": \"Julianne.OConner@kory.org\",\n",
      "    \"address\": {\n",
      "      \"street\": \"Hoeger Mall\",\n",
      "      \"suite\": \"Apt. 692\",\n",
      "      \"city\": \"South Elvis\",\n",
      "      \"zipcode\": \"53919-4257\",\n",
      "      \"geo\": {\n",
      "        \"lat\": \"29.4572\",\n",
      "        \"lng\": \"-164.2990\"\n",
      "      }\n",
      "    },\n",
      "    \"phone\": \"493-170-9623 x156\",\n",
      "    \"website\": \"kale.biz\",\n",
      "    \"company\": {\n",
      "      \"name\": \"Robel-Corkery\",\n",
      "      \"catchPhrase\": \"Multi-tiered zero tolerance productivity\",\n",
      "      \"bs\": \"transition cutting-edge web services\"\n",
      "    }\n",
      "  },\n",
      "  {\n",
      "    \"id\": 5,\n",
      "    \"name\": \"Chelsey Dietrich\",\n",
      "    \"username\": \"Kamren\",\n",
      "    \"email\": \"Lucio_Hettinger@annie.ca\",\n",
      "    \"address\": {\n",
      "      \"street\": \"Skiles Walks\",\n",
      "      \"suite\": \"Suite 351\",\n",
      "      \"city\": \"Roscoeview\",\n",
      "      \"zipcode\": \"33263\",\n",
      "      \"geo\": {\n",
      "        \"lat\": \"-31.8129\",\n",
      "        \"lng\": \"62.5342\"\n",
      "      }\n",
      "    },\n",
      "    \"phone\": \"(254)954-1289\",\n",
      "    \"website\": \"demarco.info\",\n",
      "    \"company\": {\n",
      "      \"name\": \"Keebler LLC\",\n",
      "      \"catchPhrase\": \"User-centric fault-tolerant solution\",\n",
      "      \"bs\": \"revolutionize end-to-end systems\"\n",
      "    }\n",
      "  },\n",
      "  {\n",
      "    \"id\": 6,\n",
      "    \"name\": \"Mrs. Dennis Schulist\",\n",
      "    \"username\": \"Leopoldo_Corkery\",\n",
      "    \"email\": \"Karley_Dach@jasper.info\",\n",
      "    \"address\": {\n",
      "      \"street\": \"Norberto Crossing\",\n",
      "      \"suite\": \"Apt. 950\",\n",
      "      \"city\": \"South Christy\",\n",
      "      \"zipcode\": \"23505-1337\",\n",
      "      \"geo\": {\n",
      "        \"lat\": \"-71.4197\",\n",
      "        \"lng\": \"71.7478\"\n",
      "      }\n",
      "    },\n",
      "    \"phone\": \"1-477-935-8478 x6430\",\n",
      "    \"website\": \"ola.org\",\n",
      "    \"company\": {\n",
      "      \"name\": \"Considine-Lockman\",\n",
      "      \"catchPhrase\": \"Synchronised bottom-line interface\",\n",
      "      \"bs\": \"e-enable innovative applications\"\n",
      "    }\n",
      "  },\n",
      "  {\n",
      "    \"id\": 7,\n",
      "    \"name\": \"Kurtis Weissnat\",\n",
      "    \"username\": \"Elwyn.Skiles\",\n",
      "    \"email\": \"Telly.Hoeger@billy.biz\",\n",
      "    \"address\": {\n",
      "      \"street\": \"Rex Trail\",\n",
      "      \"suite\": \"Suite 280\",\n",
      "      \"city\": \"Howemouth\",\n",
      "      \"zipcode\": \"58804-1099\",\n",
      "      \"geo\": {\n",
      "        \"lat\": \"24.8918\",\n",
      "        \"lng\": \"21.8984\"\n",
      "      }\n",
      "    },\n",
      "    \"phone\": \"210.067.6132\",\n",
      "    \"website\": \"elvis.io\",\n",
      "    \"company\": {\n",
      "      \"name\": \"Johns Group\",\n",
      "      \"catchPhrase\": \"Configurable multimedia task-force\",\n",
      "      \"bs\": \"generate enterprise e-tailers\"\n",
      "    }\n",
      "  },\n",
      "  {\n",
      "    \"id\": 8,\n",
      "    \"name\": \"Nicholas Runolfsdottir V\",\n",
      "    \"username\": \"Maxime_Nienow\",\n",
      "    \"email\": \"Sherwood@rosamond.me\",\n",
      "    \"address\": {\n",
      "      \"street\": \"Ellsworth Summit\",\n",
      "      \"suite\": \"Suite 729\",\n",
      "      \"city\": \"Aliyaview\",\n",
      "      \"zipcode\": \"45169\",\n",
      "      \"geo\": {\n",
      "        \"lat\": \"-14.3990\",\n",
      "        \"lng\": \"-120.7677\"\n",
      "      }\n",
      "    },\n",
      "    \"phone\": \"586.493.6943 x140\",\n",
      "    \"website\": \"jacynthe.com\",\n",
      "    \"company\": {\n",
      "      \"name\": \"Abernathy Group\",\n",
      "      \"catchPhrase\": \"Implemented secondary concept\",\n",
      "      \"bs\": \"e-enable extensible e-tailers\"\n",
      "    }\n",
      "  },\n",
      "  {\n",
      "    \"id\": 9,\n",
      "    \"name\": \"Glenna Reichert\",\n",
      "    \"username\": \"Delphine\",\n",
      "    \"email\": \"Chaim_McDermott@dana.io\",\n",
      "    \"address\": {\n",
      "      \"street\": \"Dayna Park\",\n",
      "      \"suite\": \"Suite 449\",\n",
      "      \"city\": \"Bartholomebury\",\n",
      "      \"zipcode\": \"76495-3109\",\n",
      "      \"geo\": {\n",
      "        \"lat\": \"24.6463\",\n",
      "        \"lng\": \"-168.8889\"\n",
      "      }\n",
      "    },\n",
      "    \"phone\": \"(775)976-6794 x41206\",\n",
      "    \"website\": \"conrad.com\",\n",
      "    \"company\": {\n",
      "      \"name\": \"Yost and Sons\",\n",
      "      \"catchPhrase\": \"Switchable contextually-based project\",\n",
      "      \"bs\": \"aggregate real-time technologies\"\n",
      "    }\n",
      "  },\n",
      "  {\n",
      "    \"id\": 10,\n",
      "    \"name\": \"Clementina DuBuque\",\n",
      "    \"username\": \"Moriah.Stanton\",\n",
      "    \"email\": \"Rey.Padberg@karina.biz\",\n",
      "    \"address\": {\n",
      "      \"street\": \"Kattie Turnpike\",\n",
      "      \"suite\": \"Suite 198\",\n",
      "      \"city\": \"Lebsackbury\",\n",
      "      \"zipcode\": \"31428-2261\",\n",
      "      \"geo\": {\n",
      "        \"lat\": \"-38.2386\",\n",
      "        \"lng\": \"57.2232\"\n",
      "      }\n",
      "    },\n",
      "    \"phone\": \"024-648-3804\",\n",
      "    \"website\": \"ambrose.net\",\n",
      "    \"company\": {\n",
      "      \"name\": \"Hoeger LLC\",\n",
      "      \"catchPhrase\": \"Centralized empowering task-force\",\n",
      "      \"bs\": \"target end-to-end models\"\n",
      "    }\n",
      "  }\n",
      "]\n"
     ]
    }
   ],
   "source": [
    "print(raw_content)"
   ]
  },
  {
   "cell_type": "code",
   "execution_count": 198,
   "metadata": {},
   "outputs": [
    {
     "data": {
      "text/plain": [
       "[{'id': 1,\n",
       "  'name': 'Leanne Graham',\n",
       "  'username': 'Bret',\n",
       "  'email': 'Sincere@april.biz',\n",
       "  'address': {'street': 'Kulas Light',\n",
       "   'suite': 'Apt. 556',\n",
       "   'city': 'Gwenborough',\n",
       "   'zipcode': '92998-3874',\n",
       "   'geo': {'lat': '-37.3159', 'lng': '81.1496'}},\n",
       "  'phone': '1-770-736-8031 x56442',\n",
       "  'website': 'hildegard.org',\n",
       "  'company': {'name': 'Romaguera-Crona',\n",
       "   'catchPhrase': 'Multi-layered client-server neural-net',\n",
       "   'bs': 'harness real-time e-markets'}},\n",
       " {'id': 2,\n",
       "  'name': 'Ervin Howell',\n",
       "  'username': 'Antonette',\n",
       "  'email': 'Shanna@melissa.tv',\n",
       "  'address': {'street': 'Victor Plains',\n",
       "   'suite': 'Suite 879',\n",
       "   'city': 'Wisokyburgh',\n",
       "   'zipcode': '90566-7771',\n",
       "   'geo': {'lat': '-43.9509', 'lng': '-34.4618'}},\n",
       "  'phone': '010-692-6593 x09125',\n",
       "  'website': 'anastasia.net',\n",
       "  'company': {'name': 'Deckow-Crist',\n",
       "   'catchPhrase': 'Proactive didactic contingency',\n",
       "   'bs': 'synergize scalable supply-chains'}},\n",
       " {'id': 3,\n",
       "  'name': 'Clementine Bauch',\n",
       "  'username': 'Samantha',\n",
       "  'email': 'Nathan@yesenia.net',\n",
       "  'address': {'street': 'Douglas Extension',\n",
       "   'suite': 'Suite 847',\n",
       "   'city': 'McKenziehaven',\n",
       "   'zipcode': '59590-4157',\n",
       "   'geo': {'lat': '-68.6102', 'lng': '-47.0653'}},\n",
       "  'phone': '1-463-123-4447',\n",
       "  'website': 'ramiro.info',\n",
       "  'company': {'name': 'Romaguera-Jacobson',\n",
       "   'catchPhrase': 'Face to face bifurcated interface',\n",
       "   'bs': 'e-enable strategic applications'}},\n",
       " {'id': 4,\n",
       "  'name': 'Patricia Lebsack',\n",
       "  'username': 'Karianne',\n",
       "  'email': 'Julianne.OConner@kory.org',\n",
       "  'address': {'street': 'Hoeger Mall',\n",
       "   'suite': 'Apt. 692',\n",
       "   'city': 'South Elvis',\n",
       "   'zipcode': '53919-4257',\n",
       "   'geo': {'lat': '29.4572', 'lng': '-164.2990'}},\n",
       "  'phone': '493-170-9623 x156',\n",
       "  'website': 'kale.biz',\n",
       "  'company': {'name': 'Robel-Corkery',\n",
       "   'catchPhrase': 'Multi-tiered zero tolerance productivity',\n",
       "   'bs': 'transition cutting-edge web services'}},\n",
       " {'id': 5,\n",
       "  'name': 'Chelsey Dietrich',\n",
       "  'username': 'Kamren',\n",
       "  'email': 'Lucio_Hettinger@annie.ca',\n",
       "  'address': {'street': 'Skiles Walks',\n",
       "   'suite': 'Suite 351',\n",
       "   'city': 'Roscoeview',\n",
       "   'zipcode': '33263',\n",
       "   'geo': {'lat': '-31.8129', 'lng': '62.5342'}},\n",
       "  'phone': '(254)954-1289',\n",
       "  'website': 'demarco.info',\n",
       "  'company': {'name': 'Keebler LLC',\n",
       "   'catchPhrase': 'User-centric fault-tolerant solution',\n",
       "   'bs': 'revolutionize end-to-end systems'}},\n",
       " {'id': 6,\n",
       "  'name': 'Mrs. Dennis Schulist',\n",
       "  'username': 'Leopoldo_Corkery',\n",
       "  'email': 'Karley_Dach@jasper.info',\n",
       "  'address': {'street': 'Norberto Crossing',\n",
       "   'suite': 'Apt. 950',\n",
       "   'city': 'South Christy',\n",
       "   'zipcode': '23505-1337',\n",
       "   'geo': {'lat': '-71.4197', 'lng': '71.7478'}},\n",
       "  'phone': '1-477-935-8478 x6430',\n",
       "  'website': 'ola.org',\n",
       "  'company': {'name': 'Considine-Lockman',\n",
       "   'catchPhrase': 'Synchronised bottom-line interface',\n",
       "   'bs': 'e-enable innovative applications'}},\n",
       " {'id': 7,\n",
       "  'name': 'Kurtis Weissnat',\n",
       "  'username': 'Elwyn.Skiles',\n",
       "  'email': 'Telly.Hoeger@billy.biz',\n",
       "  'address': {'street': 'Rex Trail',\n",
       "   'suite': 'Suite 280',\n",
       "   'city': 'Howemouth',\n",
       "   'zipcode': '58804-1099',\n",
       "   'geo': {'lat': '24.8918', 'lng': '21.8984'}},\n",
       "  'phone': '210.067.6132',\n",
       "  'website': 'elvis.io',\n",
       "  'company': {'name': 'Johns Group',\n",
       "   'catchPhrase': 'Configurable multimedia task-force',\n",
       "   'bs': 'generate enterprise e-tailers'}},\n",
       " {'id': 8,\n",
       "  'name': 'Nicholas Runolfsdottir V',\n",
       "  'username': 'Maxime_Nienow',\n",
       "  'email': 'Sherwood@rosamond.me',\n",
       "  'address': {'street': 'Ellsworth Summit',\n",
       "   'suite': 'Suite 729',\n",
       "   'city': 'Aliyaview',\n",
       "   'zipcode': '45169',\n",
       "   'geo': {'lat': '-14.3990', 'lng': '-120.7677'}},\n",
       "  'phone': '586.493.6943 x140',\n",
       "  'website': 'jacynthe.com',\n",
       "  'company': {'name': 'Abernathy Group',\n",
       "   'catchPhrase': 'Implemented secondary concept',\n",
       "   'bs': 'e-enable extensible e-tailers'}},\n",
       " {'id': 9,\n",
       "  'name': 'Glenna Reichert',\n",
       "  'username': 'Delphine',\n",
       "  'email': 'Chaim_McDermott@dana.io',\n",
       "  'address': {'street': 'Dayna Park',\n",
       "   'suite': 'Suite 449',\n",
       "   'city': 'Bartholomebury',\n",
       "   'zipcode': '76495-3109',\n",
       "   'geo': {'lat': '24.6463', 'lng': '-168.8889'}},\n",
       "  'phone': '(775)976-6794 x41206',\n",
       "  'website': 'conrad.com',\n",
       "  'company': {'name': 'Yost and Sons',\n",
       "   'catchPhrase': 'Switchable contextually-based project',\n",
       "   'bs': 'aggregate real-time technologies'}},\n",
       " {'id': 10,\n",
       "  'name': 'Clementina DuBuque',\n",
       "  'username': 'Moriah.Stanton',\n",
       "  'email': 'Rey.Padberg@karina.biz',\n",
       "  'address': {'street': 'Kattie Turnpike',\n",
       "   'suite': 'Suite 198',\n",
       "   'city': 'Lebsackbury',\n",
       "   'zipcode': '31428-2261',\n",
       "   'geo': {'lat': '-38.2386', 'lng': '57.2232'}},\n",
       "  'phone': '024-648-3804',\n",
       "  'website': 'ambrose.net',\n",
       "  'company': {'name': 'Hoeger LLC',\n",
       "   'catchPhrase': 'Centralized empowering task-force',\n",
       "   'bs': 'target end-to-end models'}}]"
      ]
     },
     "execution_count": 198,
     "metadata": {},
     "output_type": "execute_result"
    }
   ],
   "source": [
    "content = json.loads(raw_content) # `eval()` would also do it for this case\n",
    "content"
   ]
  },
  {
   "cell_type": "code",
   "execution_count": 199,
   "metadata": {},
   "outputs": [
    {
     "data": {
      "text/plain": [
       "list"
      ]
     },
     "execution_count": 199,
     "metadata": {},
     "output_type": "execute_result"
    }
   ],
   "source": [
    "type(content)"
   ]
  },
  {
   "cell_type": "code",
   "execution_count": 200,
   "metadata": {},
   "outputs": [
    {
     "data": {
      "text/plain": [
       "dict"
      ]
     },
     "execution_count": 200,
     "metadata": {},
     "output_type": "execute_result"
    }
   ],
   "source": [
    "type(content[0])"
   ]
  },
  {
   "cell_type": "code",
   "execution_count": 201,
   "metadata": {},
   "outputs": [],
   "source": [
    "with open(\"users.json\",\"w\") as f:\n",
    "    json.dump(content,f)"
   ]
  },
  {
   "cell_type": "code",
   "execution_count": 202,
   "metadata": {},
   "outputs": [
    {
     "data": {
      "text/plain": [
       "[{'id': 1,\n",
       "  'name': 'Leanne Graham',\n",
       "  'username': 'Bret',\n",
       "  'email': 'Sincere@april.biz',\n",
       "  'address': {'street': 'Kulas Light',\n",
       "   'suite': 'Apt. 556',\n",
       "   'city': 'Gwenborough',\n",
       "   'zipcode': '92998-3874',\n",
       "   'geo': {'lat': '-37.3159', 'lng': '81.1496'}},\n",
       "  'phone': '1-770-736-8031 x56442',\n",
       "  'website': 'hildegard.org',\n",
       "  'company': {'name': 'Romaguera-Crona',\n",
       "   'catchPhrase': 'Multi-layered client-server neural-net',\n",
       "   'bs': 'harness real-time e-markets'}},\n",
       " {'id': 2,\n",
       "  'name': 'Ervin Howell',\n",
       "  'username': 'Antonette',\n",
       "  'email': 'Shanna@melissa.tv',\n",
       "  'address': {'street': 'Victor Plains',\n",
       "   'suite': 'Suite 879',\n",
       "   'city': 'Wisokyburgh',\n",
       "   'zipcode': '90566-7771',\n",
       "   'geo': {'lat': '-43.9509', 'lng': '-34.4618'}},\n",
       "  'phone': '010-692-6593 x09125',\n",
       "  'website': 'anastasia.net',\n",
       "  'company': {'name': 'Deckow-Crist',\n",
       "   'catchPhrase': 'Proactive didactic contingency',\n",
       "   'bs': 'synergize scalable supply-chains'}},\n",
       " {'id': 3,\n",
       "  'name': 'Clementine Bauch',\n",
       "  'username': 'Samantha',\n",
       "  'email': 'Nathan@yesenia.net',\n",
       "  'address': {'street': 'Douglas Extension',\n",
       "   'suite': 'Suite 847',\n",
       "   'city': 'McKenziehaven',\n",
       "   'zipcode': '59590-4157',\n",
       "   'geo': {'lat': '-68.6102', 'lng': '-47.0653'}},\n",
       "  'phone': '1-463-123-4447',\n",
       "  'website': 'ramiro.info',\n",
       "  'company': {'name': 'Romaguera-Jacobson',\n",
       "   'catchPhrase': 'Face to face bifurcated interface',\n",
       "   'bs': 'e-enable strategic applications'}},\n",
       " {'id': 4,\n",
       "  'name': 'Patricia Lebsack',\n",
       "  'username': 'Karianne',\n",
       "  'email': 'Julianne.OConner@kory.org',\n",
       "  'address': {'street': 'Hoeger Mall',\n",
       "   'suite': 'Apt. 692',\n",
       "   'city': 'South Elvis',\n",
       "   'zipcode': '53919-4257',\n",
       "   'geo': {'lat': '29.4572', 'lng': '-164.2990'}},\n",
       "  'phone': '493-170-9623 x156',\n",
       "  'website': 'kale.biz',\n",
       "  'company': {'name': 'Robel-Corkery',\n",
       "   'catchPhrase': 'Multi-tiered zero tolerance productivity',\n",
       "   'bs': 'transition cutting-edge web services'}},\n",
       " {'id': 5,\n",
       "  'name': 'Chelsey Dietrich',\n",
       "  'username': 'Kamren',\n",
       "  'email': 'Lucio_Hettinger@annie.ca',\n",
       "  'address': {'street': 'Skiles Walks',\n",
       "   'suite': 'Suite 351',\n",
       "   'city': 'Roscoeview',\n",
       "   'zipcode': '33263',\n",
       "   'geo': {'lat': '-31.8129', 'lng': '62.5342'}},\n",
       "  'phone': '(254)954-1289',\n",
       "  'website': 'demarco.info',\n",
       "  'company': {'name': 'Keebler LLC',\n",
       "   'catchPhrase': 'User-centric fault-tolerant solution',\n",
       "   'bs': 'revolutionize end-to-end systems'}},\n",
       " {'id': 6,\n",
       "  'name': 'Mrs. Dennis Schulist',\n",
       "  'username': 'Leopoldo_Corkery',\n",
       "  'email': 'Karley_Dach@jasper.info',\n",
       "  'address': {'street': 'Norberto Crossing',\n",
       "   'suite': 'Apt. 950',\n",
       "   'city': 'South Christy',\n",
       "   'zipcode': '23505-1337',\n",
       "   'geo': {'lat': '-71.4197', 'lng': '71.7478'}},\n",
       "  'phone': '1-477-935-8478 x6430',\n",
       "  'website': 'ola.org',\n",
       "  'company': {'name': 'Considine-Lockman',\n",
       "   'catchPhrase': 'Synchronised bottom-line interface',\n",
       "   'bs': 'e-enable innovative applications'}},\n",
       " {'id': 7,\n",
       "  'name': 'Kurtis Weissnat',\n",
       "  'username': 'Elwyn.Skiles',\n",
       "  'email': 'Telly.Hoeger@billy.biz',\n",
       "  'address': {'street': 'Rex Trail',\n",
       "   'suite': 'Suite 280',\n",
       "   'city': 'Howemouth',\n",
       "   'zipcode': '58804-1099',\n",
       "   'geo': {'lat': '24.8918', 'lng': '21.8984'}},\n",
       "  'phone': '210.067.6132',\n",
       "  'website': 'elvis.io',\n",
       "  'company': {'name': 'Johns Group',\n",
       "   'catchPhrase': 'Configurable multimedia task-force',\n",
       "   'bs': 'generate enterprise e-tailers'}},\n",
       " {'id': 8,\n",
       "  'name': 'Nicholas Runolfsdottir V',\n",
       "  'username': 'Maxime_Nienow',\n",
       "  'email': 'Sherwood@rosamond.me',\n",
       "  'address': {'street': 'Ellsworth Summit',\n",
       "   'suite': 'Suite 729',\n",
       "   'city': 'Aliyaview',\n",
       "   'zipcode': '45169',\n",
       "   'geo': {'lat': '-14.3990', 'lng': '-120.7677'}},\n",
       "  'phone': '586.493.6943 x140',\n",
       "  'website': 'jacynthe.com',\n",
       "  'company': {'name': 'Abernathy Group',\n",
       "   'catchPhrase': 'Implemented secondary concept',\n",
       "   'bs': 'e-enable extensible e-tailers'}},\n",
       " {'id': 9,\n",
       "  'name': 'Glenna Reichert',\n",
       "  'username': 'Delphine',\n",
       "  'email': 'Chaim_McDermott@dana.io',\n",
       "  'address': {'street': 'Dayna Park',\n",
       "   'suite': 'Suite 449',\n",
       "   'city': 'Bartholomebury',\n",
       "   'zipcode': '76495-3109',\n",
       "   'geo': {'lat': '24.6463', 'lng': '-168.8889'}},\n",
       "  'phone': '(775)976-6794 x41206',\n",
       "  'website': 'conrad.com',\n",
       "  'company': {'name': 'Yost and Sons',\n",
       "   'catchPhrase': 'Switchable contextually-based project',\n",
       "   'bs': 'aggregate real-time technologies'}},\n",
       " {'id': 10,\n",
       "  'name': 'Clementina DuBuque',\n",
       "  'username': 'Moriah.Stanton',\n",
       "  'email': 'Rey.Padberg@karina.biz',\n",
       "  'address': {'street': 'Kattie Turnpike',\n",
       "   'suite': 'Suite 198',\n",
       "   'city': 'Lebsackbury',\n",
       "   'zipcode': '31428-2261',\n",
       "   'geo': {'lat': '-38.2386', 'lng': '57.2232'}},\n",
       "  'phone': '024-648-3804',\n",
       "  'website': 'ambrose.net',\n",
       "  'company': {'name': 'Hoeger LLC',\n",
       "   'catchPhrase': 'Centralized empowering task-force',\n",
       "   'bs': 'target end-to-end models'}}]"
      ]
     },
     "execution_count": 202,
     "metadata": {},
     "output_type": "execute_result"
    }
   ],
   "source": [
    "with open(\"users.json\",\"r\") as f:\n",
    "    written_content = json.load(f)\n",
    "written_content"
   ]
  },
  {
   "cell_type": "code",
   "execution_count": 203,
   "metadata": {
    "scrolled": true
   },
   "outputs": [
    {
     "data": {
      "text/plain": [
       "'[{\"id\": 1, \"name\": \"Leanne Graham\", \"username\": \"Bret\", \"email\": \"Sincere@april.biz\", \"address\": {\"street\": \"Kulas Light\", \"suite\": \"Apt. 556\", \"city\": \"Gwenborough\", \"zipcode\": \"92998-3874\", \"geo\": {\"lat\": \"-37.3159\", \"lng\": \"81.1496\"}}, \"phone\": \"1-770-736-8031 x56442\", \"website\": \"hildegard.org\", \"company\": {\"name\": \"Romaguera-Crona\", \"catchPhrase\": \"Multi-layered client-server neural-net\", \"bs\": \"harness real-time e-markets\"}}, {\"id\": 2, \"name\": \"Ervin Howell\", \"username\": \"Antonette\", \"email\": \"Shanna@melissa.tv\", \"address\": {\"street\": \"Victor Plains\", \"suite\": \"Suite 879\", \"city\": \"Wisokyburgh\", \"zipcode\": \"90566-7771\", \"geo\": {\"lat\": \"-43.9509\", \"lng\": \"-34.4618\"}}, \"phone\": \"010-692-6593 x09125\", \"website\": \"anastasia.net\", \"company\": {\"name\": \"Deckow-Crist\", \"catchPhrase\": \"Proactive didactic contingency\", \"bs\": \"synergize scalable supply-chains\"}}, {\"id\": 3, \"name\": \"Clementine Bauch\", \"username\": \"Samantha\", \"email\": \"Nathan@yesenia.net\", \"address\": {\"street\": \"Douglas Extension\", \"suite\": \"Suite 847\", \"city\": \"McKenziehaven\", \"zipcode\": \"59590-4157\", \"geo\": {\"lat\": \"-68.6102\", \"lng\": \"-47.0653\"}}, \"phone\": \"1-463-123-4447\", \"website\": \"ramiro.info\", \"company\": {\"name\": \"Romaguera-Jacobson\", \"catchPhrase\": \"Face to face bifurcated interface\", \"bs\": \"e-enable strategic applications\"}}, {\"id\": 4, \"name\": \"Patricia Lebsack\", \"username\": \"Karianne\", \"email\": \"Julianne.OConner@kory.org\", \"address\": {\"street\": \"Hoeger Mall\", \"suite\": \"Apt. 692\", \"city\": \"South Elvis\", \"zipcode\": \"53919-4257\", \"geo\": {\"lat\": \"29.4572\", \"lng\": \"-164.2990\"}}, \"phone\": \"493-170-9623 x156\", \"website\": \"kale.biz\", \"company\": {\"name\": \"Robel-Corkery\", \"catchPhrase\": \"Multi-tiered zero tolerance productivity\", \"bs\": \"transition cutting-edge web services\"}}, {\"id\": 5, \"name\": \"Chelsey Dietrich\", \"username\": \"Kamren\", \"email\": \"Lucio_Hettinger@annie.ca\", \"address\": {\"street\": \"Skiles Walks\", \"suite\": \"Suite 351\", \"city\": \"Roscoeview\", \"zipcode\": \"33263\", \"geo\": {\"lat\": \"-31.8129\", \"lng\": \"62.5342\"}}, \"phone\": \"(254)954-1289\", \"website\": \"demarco.info\", \"company\": {\"name\": \"Keebler LLC\", \"catchPhrase\": \"User-centric fault-tolerant solution\", \"bs\": \"revolutionize end-to-end systems\"}}, {\"id\": 6, \"name\": \"Mrs. Dennis Schulist\", \"username\": \"Leopoldo_Corkery\", \"email\": \"Karley_Dach@jasper.info\", \"address\": {\"street\": \"Norberto Crossing\", \"suite\": \"Apt. 950\", \"city\": \"South Christy\", \"zipcode\": \"23505-1337\", \"geo\": {\"lat\": \"-71.4197\", \"lng\": \"71.7478\"}}, \"phone\": \"1-477-935-8478 x6430\", \"website\": \"ola.org\", \"company\": {\"name\": \"Considine-Lockman\", \"catchPhrase\": \"Synchronised bottom-line interface\", \"bs\": \"e-enable innovative applications\"}}, {\"id\": 7, \"name\": \"Kurtis Weissnat\", \"username\": \"Elwyn.Skiles\", \"email\": \"Telly.Hoeger@billy.biz\", \"address\": {\"street\": \"Rex Trail\", \"suite\": \"Suite 280\", \"city\": \"Howemouth\", \"zipcode\": \"58804-1099\", \"geo\": {\"lat\": \"24.8918\", \"lng\": \"21.8984\"}}, \"phone\": \"210.067.6132\", \"website\": \"elvis.io\", \"company\": {\"name\": \"Johns Group\", \"catchPhrase\": \"Configurable multimedia task-force\", \"bs\": \"generate enterprise e-tailers\"}}, {\"id\": 8, \"name\": \"Nicholas Runolfsdottir V\", \"username\": \"Maxime_Nienow\", \"email\": \"Sherwood@rosamond.me\", \"address\": {\"street\": \"Ellsworth Summit\", \"suite\": \"Suite 729\", \"city\": \"Aliyaview\", \"zipcode\": \"45169\", \"geo\": {\"lat\": \"-14.3990\", \"lng\": \"-120.7677\"}}, \"phone\": \"586.493.6943 x140\", \"website\": \"jacynthe.com\", \"company\": {\"name\": \"Abernathy Group\", \"catchPhrase\": \"Implemented secondary concept\", \"bs\": \"e-enable extensible e-tailers\"}}, {\"id\": 9, \"name\": \"Glenna Reichert\", \"username\": \"Delphine\", \"email\": \"Chaim_McDermott@dana.io\", \"address\": {\"street\": \"Dayna Park\", \"suite\": \"Suite 449\", \"city\": \"Bartholomebury\", \"zipcode\": \"76495-3109\", \"geo\": {\"lat\": \"24.6463\", \"lng\": \"-168.8889\"}}, \"phone\": \"(775)976-6794 x41206\", \"website\": \"conrad.com\", \"company\": {\"name\": \"Yost and Sons\", \"catchPhrase\": \"Switchable contextually-based project\", \"bs\": \"aggregate real-time technologies\"}}, {\"id\": 10, \"name\": \"Clementina DuBuque\", \"username\": \"Moriah.Stanton\", \"email\": \"Rey.Padberg@karina.biz\", \"address\": {\"street\": \"Kattie Turnpike\", \"suite\": \"Suite 198\", \"city\": \"Lebsackbury\", \"zipcode\": \"31428-2261\", \"geo\": {\"lat\": \"-38.2386\", \"lng\": \"57.2232\"}}, \"phone\": \"024-648-3804\", \"website\": \"ambrose.net\", \"company\": {\"name\": \"Hoeger LLC\", \"catchPhrase\": \"Centralized empowering task-force\", \"bs\": \"target end-to-end models\"}}]'"
      ]
     },
     "execution_count": 203,
     "metadata": {},
     "output_type": "execute_result"
    }
   ],
   "source": [
    "# get what would have written to file if were to use `json.dump`\n",
    "raw = json.dumps(written_content)\n",
    "raw"
   ]
  },
  {
   "cell_type": "code",
   "execution_count": 204,
   "metadata": {},
   "outputs": [
    {
     "data": {
      "text/plain": [
       "[{'id': 1,\n",
       "  'name': 'Leanne Graham',\n",
       "  'username': 'Bret',\n",
       "  'email': 'Sincere@april.biz',\n",
       "  'address': {'street': 'Kulas Light',\n",
       "   'suite': 'Apt. 556',\n",
       "   'city': 'Gwenborough',\n",
       "   'zipcode': '92998-3874',\n",
       "   'geo': {'lat': '-37.3159', 'lng': '81.1496'}},\n",
       "  'phone': '1-770-736-8031 x56442',\n",
       "  'website': 'hildegard.org',\n",
       "  'company': {'name': 'Romaguera-Crona',\n",
       "   'catchPhrase': 'Multi-layered client-server neural-net',\n",
       "   'bs': 'harness real-time e-markets'}},\n",
       " {'id': 2,\n",
       "  'name': 'Ervin Howell',\n",
       "  'username': 'Antonette',\n",
       "  'email': 'Shanna@melissa.tv',\n",
       "  'address': {'street': 'Victor Plains',\n",
       "   'suite': 'Suite 879',\n",
       "   'city': 'Wisokyburgh',\n",
       "   'zipcode': '90566-7771',\n",
       "   'geo': {'lat': '-43.9509', 'lng': '-34.4618'}},\n",
       "  'phone': '010-692-6593 x09125',\n",
       "  'website': 'anastasia.net',\n",
       "  'company': {'name': 'Deckow-Crist',\n",
       "   'catchPhrase': 'Proactive didactic contingency',\n",
       "   'bs': 'synergize scalable supply-chains'}},\n",
       " {'id': 3,\n",
       "  'name': 'Clementine Bauch',\n",
       "  'username': 'Samantha',\n",
       "  'email': 'Nathan@yesenia.net',\n",
       "  'address': {'street': 'Douglas Extension',\n",
       "   'suite': 'Suite 847',\n",
       "   'city': 'McKenziehaven',\n",
       "   'zipcode': '59590-4157',\n",
       "   'geo': {'lat': '-68.6102', 'lng': '-47.0653'}},\n",
       "  'phone': '1-463-123-4447',\n",
       "  'website': 'ramiro.info',\n",
       "  'company': {'name': 'Romaguera-Jacobson',\n",
       "   'catchPhrase': 'Face to face bifurcated interface',\n",
       "   'bs': 'e-enable strategic applications'}},\n",
       " {'id': 4,\n",
       "  'name': 'Patricia Lebsack',\n",
       "  'username': 'Karianne',\n",
       "  'email': 'Julianne.OConner@kory.org',\n",
       "  'address': {'street': 'Hoeger Mall',\n",
       "   'suite': 'Apt. 692',\n",
       "   'city': 'South Elvis',\n",
       "   'zipcode': '53919-4257',\n",
       "   'geo': {'lat': '29.4572', 'lng': '-164.2990'}},\n",
       "  'phone': '493-170-9623 x156',\n",
       "  'website': 'kale.biz',\n",
       "  'company': {'name': 'Robel-Corkery',\n",
       "   'catchPhrase': 'Multi-tiered zero tolerance productivity',\n",
       "   'bs': 'transition cutting-edge web services'}},\n",
       " {'id': 5,\n",
       "  'name': 'Chelsey Dietrich',\n",
       "  'username': 'Kamren',\n",
       "  'email': 'Lucio_Hettinger@annie.ca',\n",
       "  'address': {'street': 'Skiles Walks',\n",
       "   'suite': 'Suite 351',\n",
       "   'city': 'Roscoeview',\n",
       "   'zipcode': '33263',\n",
       "   'geo': {'lat': '-31.8129', 'lng': '62.5342'}},\n",
       "  'phone': '(254)954-1289',\n",
       "  'website': 'demarco.info',\n",
       "  'company': {'name': 'Keebler LLC',\n",
       "   'catchPhrase': 'User-centric fault-tolerant solution',\n",
       "   'bs': 'revolutionize end-to-end systems'}},\n",
       " {'id': 6,\n",
       "  'name': 'Mrs. Dennis Schulist',\n",
       "  'username': 'Leopoldo_Corkery',\n",
       "  'email': 'Karley_Dach@jasper.info',\n",
       "  'address': {'street': 'Norberto Crossing',\n",
       "   'suite': 'Apt. 950',\n",
       "   'city': 'South Christy',\n",
       "   'zipcode': '23505-1337',\n",
       "   'geo': {'lat': '-71.4197', 'lng': '71.7478'}},\n",
       "  'phone': '1-477-935-8478 x6430',\n",
       "  'website': 'ola.org',\n",
       "  'company': {'name': 'Considine-Lockman',\n",
       "   'catchPhrase': 'Synchronised bottom-line interface',\n",
       "   'bs': 'e-enable innovative applications'}},\n",
       " {'id': 7,\n",
       "  'name': 'Kurtis Weissnat',\n",
       "  'username': 'Elwyn.Skiles',\n",
       "  'email': 'Telly.Hoeger@billy.biz',\n",
       "  'address': {'street': 'Rex Trail',\n",
       "   'suite': 'Suite 280',\n",
       "   'city': 'Howemouth',\n",
       "   'zipcode': '58804-1099',\n",
       "   'geo': {'lat': '24.8918', 'lng': '21.8984'}},\n",
       "  'phone': '210.067.6132',\n",
       "  'website': 'elvis.io',\n",
       "  'company': {'name': 'Johns Group',\n",
       "   'catchPhrase': 'Configurable multimedia task-force',\n",
       "   'bs': 'generate enterprise e-tailers'}},\n",
       " {'id': 8,\n",
       "  'name': 'Nicholas Runolfsdottir V',\n",
       "  'username': 'Maxime_Nienow',\n",
       "  'email': 'Sherwood@rosamond.me',\n",
       "  'address': {'street': 'Ellsworth Summit',\n",
       "   'suite': 'Suite 729',\n",
       "   'city': 'Aliyaview',\n",
       "   'zipcode': '45169',\n",
       "   'geo': {'lat': '-14.3990', 'lng': '-120.7677'}},\n",
       "  'phone': '586.493.6943 x140',\n",
       "  'website': 'jacynthe.com',\n",
       "  'company': {'name': 'Abernathy Group',\n",
       "   'catchPhrase': 'Implemented secondary concept',\n",
       "   'bs': 'e-enable extensible e-tailers'}},\n",
       " {'id': 9,\n",
       "  'name': 'Glenna Reichert',\n",
       "  'username': 'Delphine',\n",
       "  'email': 'Chaim_McDermott@dana.io',\n",
       "  'address': {'street': 'Dayna Park',\n",
       "   'suite': 'Suite 449',\n",
       "   'city': 'Bartholomebury',\n",
       "   'zipcode': '76495-3109',\n",
       "   'geo': {'lat': '24.6463', 'lng': '-168.8889'}},\n",
       "  'phone': '(775)976-6794 x41206',\n",
       "  'website': 'conrad.com',\n",
       "  'company': {'name': 'Yost and Sons',\n",
       "   'catchPhrase': 'Switchable contextually-based project',\n",
       "   'bs': 'aggregate real-time technologies'}},\n",
       " {'id': 10,\n",
       "  'name': 'Clementina DuBuque',\n",
       "  'username': 'Moriah.Stanton',\n",
       "  'email': 'Rey.Padberg@karina.biz',\n",
       "  'address': {'street': 'Kattie Turnpike',\n",
       "   'suite': 'Suite 198',\n",
       "   'city': 'Lebsackbury',\n",
       "   'zipcode': '31428-2261',\n",
       "   'geo': {'lat': '-38.2386', 'lng': '57.2232'}},\n",
       "  'phone': '024-648-3804',\n",
       "  'website': 'ambrose.net',\n",
       "  'company': {'name': 'Hoeger LLC',\n",
       "   'catchPhrase': 'Centralized empowering task-force',\n",
       "   'bs': 'target end-to-end models'}}]"
      ]
     },
     "execution_count": 204,
     "metadata": {},
     "output_type": "execute_result"
    }
   ],
   "source": [
    "# parse string as json file\n",
    "json.loads(raw)"
   ]
  },
  {
   "cell_type": "code",
   "execution_count": 208,
   "metadata": {},
   "outputs": [],
   "source": [
    "import pickle"
   ]
  },
  {
   "cell_type": "code",
   "execution_count": 209,
   "metadata": {},
   "outputs": [],
   "source": [
    "person = namedtuple(\"Person\",\"name,age\")\n",
    "\n",
    "a = 1,2,3,[4,5]\n",
    "data = {\n",
    "    \"person1\":[{\"a\",\"b\",\"c\"},(\"Lorem\",\"ipsum\",[29,range(10)])],\n",
    "    \"person1\":[a,{123,234,345,456}],\n",
    "    \"others\": map(str,a),\n",
    "    \"fun\":rand_list\n",
    "}"
   ]
  },
  {
   "cell_type": "code",
   "execution_count": 210,
   "metadata": {},
   "outputs": [
    {
     "data": {
      "text/plain": [
       "{'person1': [(1, 2, 3, [4, 5]), {123, 234, 345, 456}],\n",
       " 'others': <map at 0x7fe8c95e7940>,\n",
       " 'fun': <function __main__.rand_list(n, distribution='uniform', *args, **kwargs)>}"
      ]
     },
     "execution_count": 210,
     "metadata": {},
     "output_type": "execute_result"
    }
   ],
   "source": [
    "data"
   ]
  },
  {
   "cell_type": "code",
   "execution_count": 211,
   "metadata": {},
   "outputs": [],
   "source": [
    "with open(\"complex_data.pickle\",mode=\"wb\") as f:\n",
    "    pickle.dump(data,f)"
   ]
  },
  {
   "cell_type": "code",
   "execution_count": 212,
   "metadata": {},
   "outputs": [
    {
     "data": {
      "text/plain": [
       "{'person1': [(1, 2, 3, [4, 5]), {123, 234, 345, 456}],\n",
       " 'others': <map at 0x7fe8c95e7860>,\n",
       " 'fun': <function __main__.rand_list(n, distribution='uniform', *args, **kwargs)>}"
      ]
     },
     "execution_count": 212,
     "metadata": {},
     "output_type": "execute_result"
    }
   ],
   "source": [
    "with open(\"complex_data.pickle\",mode=\"rb\") as f:\n",
    "    written_data = pickle.load(f)\n",
    "written_data"
   ]
  },
  {
   "cell_type": "code",
   "execution_count": 213,
   "metadata": {},
   "outputs": [
    {
     "data": {
      "text/plain": [
       "<map at 0x7fe8c95e7860>"
      ]
     },
     "execution_count": 213,
     "metadata": {},
     "output_type": "execute_result"
    }
   ],
   "source": [
    "written_data['others']"
   ]
  },
  {
   "cell_type": "code",
   "execution_count": 214,
   "metadata": {},
   "outputs": [
    {
     "data": {
      "text/plain": [
       "['1', '2', '3', '[4, 5]']"
      ]
     },
     "execution_count": 214,
     "metadata": {},
     "output_type": "execute_result"
    }
   ],
   "source": [
    "list(written_data['others'])"
   ]
  },
  {
   "cell_type": "code",
   "execution_count": 215,
   "metadata": {},
   "outputs": [
    {
     "data": {
      "text/plain": [
       "<function __main__.rand_list(n, distribution='uniform', *args, **kwargs)>"
      ]
     },
     "execution_count": 215,
     "metadata": {},
     "output_type": "execute_result"
    }
   ],
   "source": [
    "written_data[\"fun\"]"
   ]
  },
  {
   "cell_type": "code",
   "execution_count": 216,
   "metadata": {},
   "outputs": [
    {
     "data": {
      "text/plain": [
       "[85, 59, 43, 15, 16, 59, 85, 17, 100, 79]"
      ]
     },
     "execution_count": 216,
     "metadata": {},
     "output_type": "execute_result"
    }
   ],
   "source": [
    "myfun = written_data[\"fun\"]\n",
    "myfun(10,\"randint\",0,100)"
   ]
  },
  {
   "cell_type": "markdown",
   "metadata": {},
   "source": [
    "## Section 2: Object-oriented Programming\n",
    "\n",
    "Object Oriented programming (OOP) is a programming paradigm that relies on the concept of classes and objects. It is used to structure a software program into simple, reusable pieces of code blueprints (usually called classes), which are used to create individual instances of objects.\n",
    "\n",
    "### An object ...\n",
    "is a software bundle of related state and behavior. Software objects are often used to model the real-world objects that you find in everyday life.\n",
    "\n",
    "### A class ...\n",
    "is a blueprint or prototype from which objects are created."
   ]
  },
  {
   "cell_type": "code",
   "execution_count": null,
   "metadata": {},
   "outputs": [],
   "source": [
    "# the basic syntax\n",
    "class MyClass:\n",
    "    def __init__(self,arg1,arg2):\n",
    "        self.arg1 = arg1\n",
    "        self.arg2 = arg2\n",
    "    \n",
    "    def method1(self):\n",
    "        self.arg1 * 2\n",
    "        pass\n",
    "    \n",
    "    def method2(self,arguments):\n",
    "        pass"
   ]
  },
  {
   "cell_type": "markdown",
   "metadata": {},
   "source": [
    "### The role of `self`\n",
    "\n",
    "The `self` is used to represent the instance of the class. With this keyword, you can access the attributes and methods of the class in python. It binds the attributes with the given arguments."
   ]
  },
  {
   "cell_type": "code",
   "execution_count": 218,
   "metadata": {},
   "outputs": [
    {
     "name": "stdout",
     "output_type": "stream",
     "text": [
      "Fluffy\n",
      "4\n",
      "None\n"
     ]
    }
   ],
   "source": [
    "class Pet:\n",
    "    def __init__(self,name,age,breed=None):\n",
    "        self.name = name\n",
    "        self.age = age\n",
    "        self.breed = breed\n",
    "        \n",
    "my_cat = Pet(\"Fluffy\",4)\n",
    "\n",
    "print(my_cat.name)\n",
    "print(my_cat.age)\n",
    "print(my_cat.breed)"
   ]
  },
  {
   "cell_type": "code",
   "execution_count": 220,
   "metadata": {},
   "outputs": [
    {
     "data": {
      "text/plain": [
       "True"
      ]
     },
     "execution_count": 220,
     "metadata": {},
     "output_type": "execute_result"
    }
   ],
   "source": [
    "class Pet:\n",
    "    def __init__(self,name,age,breed=None,height=None,weight=None):\n",
    "        self.name = name\n",
    "        self.age = age\n",
    "        self.breed = breed\n",
    "        self.height = height\n",
    "        self.weight = weight\n",
    "        \n",
    "    def describe(self):\n",
    "        out = {\n",
    "            \"Name\":self.name,\n",
    "            \"Age\":self.age,\n",
    "        }\n",
    "        \n",
    "        if self.breed is not None:\n",
    "            out[\"Breed\"] = self.breed\n",
    "        \n",
    "        return out\n",
    "    \n",
    "    def display_info(self):\n",
    "        d = self.describe()\n",
    "        d = map(lambda s: \": \".join(map(str,s)),d.items())\n",
    "        print(\"\\n\".join(d))\n",
    "    \n",
    "    def is_valid(self):\n",
    "        if self.height is not None and self.weight is not None:\n",
    "            return 0 < self.height < 40 and 0.2 < self.weight < 20\n",
    "        else:\n",
    "            return None\n",
    "\n",
    "\n",
    "my_cat = Pet(\"Kitty\",4,\"Exotic Shorthair\",27,6)\n",
    "my_cat.is_valid()"
   ]
  },
  {
   "cell_type": "code",
   "execution_count": 221,
   "metadata": {},
   "outputs": [
    {
     "data": {
      "text/plain": [
       "{'Name': 'Kitty', 'Age': 4, 'Breed': 'Exotic Shorthair'}"
      ]
     },
     "execution_count": 221,
     "metadata": {},
     "output_type": "execute_result"
    }
   ],
   "source": [
    "my_cat.describe()"
   ]
  },
  {
   "cell_type": "code",
   "execution_count": 222,
   "metadata": {},
   "outputs": [
    {
     "name": "stdout",
     "output_type": "stream",
     "text": [
      "Name: Kitty\n",
      "Age: 4\n",
      "Breed: Exotic Shorthair\n"
     ]
    }
   ],
   "source": [
    "my_cat.display_info()"
   ]
  },
  {
   "cell_type": "markdown",
   "metadata": {},
   "source": [
    "### Leading underscores `_` and `__`\n",
    "\n",
    "A single underscore `_` is a weak \"internal use\" indicator and should be treated as a non-public part of the API. It should be considered an implementation detail and subject to change without notice.\n",
    "\n",
    "On the other hand, double underscore `__` prefix makes an attribute private.\n",
    "\n",
    "**A warning in the [docs](https://docs.python.org/3/tutorial/classes.html#private-variables):**\n",
    "\n",
    "> it still is possible to access or modify a variable that is considered private."
   ]
  },
  {
   "cell_type": "code",
   "execution_count": 223,
   "metadata": {},
   "outputs": [],
   "source": [
    "class Pet:\n",
    "    def __init__(self,name,age):\n",
    "        self.name = name\n",
    "        self.age = age\n",
    "    \n",
    "    def describe(self):\n",
    "        print(\"Name:\",self.name)\n",
    "        print(\"Age:\",self.age)\n",
    "    \n",
    "    def _method(self):\n",
    "        print(\"Method name with single leading underscore.\")\n",
    "    \n",
    "    def __method(self):\n",
    "        print(\"Method name with double leading underscore.\")\n",
    "    \n",
    "    def method(self):\n",
    "        self.__method()"
   ]
  },
  {
   "cell_type": "code",
   "execution_count": 225,
   "metadata": {},
   "outputs": [],
   "source": [
    "p = Pet(\"\",\"\")"
   ]
  },
  {
   "cell_type": "code",
   "execution_count": 226,
   "metadata": {},
   "outputs": [
    {
     "name": "stdout",
     "output_type": "stream",
     "text": [
      "Method name with single leading underscore.\n"
     ]
    }
   ],
   "source": [
    "p._method()"
   ]
  },
  {
   "cell_type": "code",
   "execution_count": 228,
   "metadata": {},
   "outputs": [
    {
     "ename": "AttributeError",
     "evalue": "'Pet' object has no attribute '__method'",
     "output_type": "error",
     "traceback": [
      "\u001b[0;31m---------------------------------------------------------------------------\u001b[0m",
      "\u001b[0;31mAttributeError\u001b[0m                            Traceback (most recent call last)",
      "\u001b[0;32m<ipython-input-228-43b97696b86a>\u001b[0m in \u001b[0;36m<module>\u001b[0;34m\u001b[0m\n\u001b[0;32m----> 1\u001b[0;31m \u001b[0mp\u001b[0m\u001b[0;34m.\u001b[0m\u001b[0m__method\u001b[0m\u001b[0;34m(\u001b[0m\u001b[0;34m)\u001b[0m\u001b[0;34m\u001b[0m\u001b[0;34m\u001b[0m\u001b[0m\n\u001b[0m",
      "\u001b[0;31mAttributeError\u001b[0m: 'Pet' object has no attribute '__method'"
     ]
    }
   ],
   "source": [
    "p.__method()"
   ]
  },
  {
   "cell_type": "code",
   "execution_count": 229,
   "metadata": {},
   "outputs": [
    {
     "name": "stdout",
     "output_type": "stream",
     "text": [
      "Method name with double leading underscore.\n"
     ]
    }
   ],
   "source": [
    "p.method()"
   ]
  },
  {
   "cell_type": "markdown",
   "metadata": {},
   "source": [
    "### Magic Methods"
   ]
  },
  {
   "cell_type": "code",
   "execution_count": 252,
   "metadata": {},
   "outputs": [],
   "source": [
    "class Dataset:\n",
    "    def __init__(self,d):\n",
    "        self.d = d\n",
    "    \n",
    "    def __repr__(self):\n",
    "        out = \"\"\n",
    "        for row in self.d:\n",
    "            out += \",\".join(map(lambda s: str(s).rjust(4),row)) + \"\\n\"\n",
    "        \n",
    "        return out\n",
    "    \n",
    "    def __str__(self):\n",
    "        return self.__repr__()\n",
    "    \n",
    "    def __add__(self,other):\n",
    "        return self.d + other.d\n",
    "    \n",
    "    def __gt__(self,other):\n",
    "        if isinstance(other,(list,tuple,dict,set)):\n",
    "            return len(self.d) > len(other)\n",
    "        else:\n",
    "            return len(self.d) > len(other.d)"
   ]
  },
  {
   "cell_type": "code",
   "execution_count": 253,
   "metadata": {},
   "outputs": [
    {
     "data": {
      "text/plain": [
       "[[48, 95, 10, 59, 66],\n",
       " [34, 68, 47, 40, 92],\n",
       " [62, 72, 9, 70, 43],\n",
       " [3, 23, 53, 52, 94],\n",
       " [92, 48, 93, 57, 66],\n",
       " [36, 39, 97, 98, 47],\n",
       " [65, 61, 28, 73, 60],\n",
       " [43, 84, 48, 10, 35],\n",
       " [40, 30, 25, 98, 9],\n",
       " [27, 90, 70, 43, 73],\n",
       " [89, 54, 92, 4, 61],\n",
       " [96, 23, 57, 42, 7]]"
      ]
     },
     "execution_count": 253,
     "metadata": {},
     "output_type": "execute_result"
    }
   ],
   "source": [
    "d = [rand_list(5,\"randint\",0,100) for _ in range(12)]\n",
    "d"
   ]
  },
  {
   "cell_type": "code",
   "execution_count": 256,
   "metadata": {},
   "outputs": [
    {
     "data": {
      "text/plain": [
       "  48,  95,  10,  59,  66\n",
       "  34,  68,  47,  40,  92\n",
       "  62,  72,   9,  70,  43\n",
       "   3,  23,  53,  52,  94\n",
       "  92,  48,  93,  57,  66\n",
       "  36,  39,  97,  98,  47\n",
       "  65,  61,  28,  73,  60\n",
       "  43,  84,  48,  10,  35\n",
       "  40,  30,  25,  98,   9\n",
       "  27,  90,  70,  43,  73\n",
       "  89,  54,  92,   4,  61\n",
       "  96,  23,  57,  42,   7"
      ]
     },
     "execution_count": 256,
     "metadata": {},
     "output_type": "execute_result"
    }
   ],
   "source": [
    "ds = Dataset(d)\n",
    "ds"
   ]
  },
  {
   "cell_type": "code",
   "execution_count": 257,
   "metadata": {},
   "outputs": [
    {
     "data": {
      "text/plain": [
       "[[48, 95, 10, 59, 66],\n",
       " [34, 68, 47, 40, 92],\n",
       " [62, 72, 9, 70, 43],\n",
       " [3, 23, 53, 52, 94],\n",
       " [92, 48, 93, 57, 66],\n",
       " [36, 39, 97, 98, 47],\n",
       " [65, 61, 28, 73, 60],\n",
       " [43, 84, 48, 10, 35],\n",
       " [40, 30, 25, 98, 9],\n",
       " [27, 90, 70, 43, 73],\n",
       " [89, 54, 92, 4, 61],\n",
       " [96, 23, 57, 42, 7],\n",
       " [48, 95, 10, 59, 66],\n",
       " [34, 68, 47, 40, 92],\n",
       " [62, 72, 9, 70, 43],\n",
       " [3, 23, 53, 52, 94],\n",
       " [92, 48, 93, 57, 66],\n",
       " [36, 39, 97, 98, 47],\n",
       " [65, 61, 28, 73, 60],\n",
       " [43, 84, 48, 10, 35],\n",
       " [40, 30, 25, 98, 9],\n",
       " [27, 90, 70, 43, 73],\n",
       " [89, 54, 92, 4, 61],\n",
       " [96, 23, 57, 42, 7]]"
      ]
     },
     "execution_count": 257,
     "metadata": {},
     "output_type": "execute_result"
    }
   ],
   "source": [
    "ds + ds"
   ]
  },
  {
   "cell_type": "code",
   "execution_count": 258,
   "metadata": {},
   "outputs": [
    {
     "data": {
      "text/plain": [
       "False"
      ]
     },
     "execution_count": 258,
     "metadata": {},
     "output_type": "execute_result"
    }
   ],
   "source": [
    "k = [rand_list(17,\"randint\",0,100) for _ in range(12)]\n",
    "ks = Dataset(k)\n",
    "\n",
    "ds > ks"
   ]
  },
  {
   "cell_type": "code",
   "execution_count": 260,
   "metadata": {},
   "outputs": [],
   "source": [
    "class Array:\n",
    "    def __init__(self,d):\n",
    "        self.d = d\n",
    "    \n",
    "    def __repr__(self):\n",
    "        out = \"\"\n",
    "        for row in self.d:\n",
    "            out += \",\".join(map(lambda s: str(s).rjust(4),row)) + \"\\n\"\n",
    "        \n",
    "        return out\n",
    "    \n",
    "    def __str__(self):\n",
    "        return self.__repr__()\n",
    "    \n",
    "    def __add__(self,other):\n",
    "        out = []\n",
    "        for row1,row2 in zip(self.d,other.d):\n",
    "            tmp = map(sum,zip(row1,row2))\n",
    "            out.append(list(tmp))\n",
    "                \n",
    "        return out\n",
    "    \n",
    "    def __sub__(self,other):\n",
    "        out = []\n",
    "        for row1,row2 in zip(self.d,other.d):\n",
    "            tmp = map(lambda x: x[0] - x[1],zip(row1,row2))\n",
    "            out.append(list(tmp))\n",
    "                \n",
    "        return out\n",
    "    \n",
    "    def __mul__(self,other):\n",
    "        out = []\n",
    "        for row1,row2 in zip(self.d,other.d):\n",
    "            tmp = map(lambda x: x[0] * x[1],zip(row1,row2))\n",
    "            out.append(list(tmp))\n",
    "                \n",
    "        return out\n",
    "    \n",
    "    def __truediv__(self,other):\n",
    "        out = []\n",
    "        for row1,row2 in zip(self.d,other.d):\n",
    "            tmp = map(lambda x: x[0] / x[1],zip(row1,row2))\n",
    "            out.append(list(tmp))\n",
    "                \n",
    "        return out\n",
    "    \n",
    "    def __gt__(self,other):\n",
    "        return self.sum_elements() > other.sum_elements()\n",
    "    \n",
    "    def __ge__(self,other):\n",
    "        return self.sum_elements() >= other.sum_elements()\n",
    "    \n",
    "    def sum_elements(self):\n",
    "        return sum(map(sum,self.d))"
   ]
  },
  {
   "cell_type": "code",
   "execution_count": 264,
   "metadata": {},
   "outputs": [
    {
     "data": {
      "text/plain": [
       "  29,  57,  83,  31,  33,  47,  97,  62,  70,  79,  98,  75,  45,  30,  57,  34,  50\n",
       "  98,  49,  56,  29,  37,  25,  74,  68,  74,  39,  75,  56,  67,  71,  96,  63,  94\n",
       "  46,  83,  43,  78,  53,  69,  60,  62,  27,  70,  67,  95,  54,  53,  70,  85,  40\n",
       "  51,  34,  69,  25,  37,  88,  51,  41,  81,  63,  95,  49,  81,  63,  53,  83,  55\n",
       "  48,  77,  63,  80,  94,  33,  54,  98,  35,  93,  48,  87,  96,  50,  26,  94,  43\n",
       "  49,  49,  73,  29,  81,  21,  92,  89,  88,  77,  61,  37,  52,  89,  26,  62,  65\n",
       "  51,  61,  20,  72,  52, 100,  55,  67,  47,  83,  25,  93,  55,  98,  38,  38,  52\n",
       "  35,  34,  74,  81,  87,  90,  60,  41,  51,  92,  49,  80,  97,  21,  94,  21,  47\n",
       "  94,  74,  78,  64,  23,  39,  76,  29,  58,  36,  91,  90,  61,  72,  51,  73,  38\n",
       "  51,  54,  33,  21,  61,  87,  28,  27,  80,  52,  97,  21,  28,  99,  31,  42,  70\n",
       "  40,  71,  54,  98,  43,  88,  66,  27,  61,  88,  56,  21,  37,  67,  21,  74,  48\n",
       "  57,  36,  28,  69,  65,  47,  95,  37,  46,  96,  86,  98,  69,  90,  24,  92,  63"
      ]
     },
     "execution_count": 264,
     "metadata": {},
     "output_type": "execute_result"
    }
   ],
   "source": [
    "d = [rand_list(17,\"randint\",20,100) for _ in range(12)]\n",
    "m = Array(d)\n",
    "m"
   ]
  },
  {
   "cell_type": "code",
   "execution_count": 265,
   "metadata": {},
   "outputs": [
    {
     "data": {
      "text/plain": [
       "12329"
      ]
     },
     "execution_count": 265,
     "metadata": {},
     "output_type": "execute_result"
    }
   ],
   "source": [
    "m.sum_elements()"
   ]
  },
  {
   "cell_type": "code",
   "execution_count": 266,
   "metadata": {},
   "outputs": [
    {
     "data": {
      "text/plain": [
       "[[58,\n",
       "  114,\n",
       "  166,\n",
       "  62,\n",
       "  66,\n",
       "  94,\n",
       "  194,\n",
       "  124,\n",
       "  140,\n",
       "  158,\n",
       "  196,\n",
       "  150,\n",
       "  90,\n",
       "  60,\n",
       "  114,\n",
       "  68,\n",
       "  100],\n",
       " [196,\n",
       "  98,\n",
       "  112,\n",
       "  58,\n",
       "  74,\n",
       "  50,\n",
       "  148,\n",
       "  136,\n",
       "  148,\n",
       "  78,\n",
       "  150,\n",
       "  112,\n",
       "  134,\n",
       "  142,\n",
       "  192,\n",
       "  126,\n",
       "  188],\n",
       " [92,\n",
       "  166,\n",
       "  86,\n",
       "  156,\n",
       "  106,\n",
       "  138,\n",
       "  120,\n",
       "  124,\n",
       "  54,\n",
       "  140,\n",
       "  134,\n",
       "  190,\n",
       "  108,\n",
       "  106,\n",
       "  140,\n",
       "  170,\n",
       "  80],\n",
       " [102,\n",
       "  68,\n",
       "  138,\n",
       "  50,\n",
       "  74,\n",
       "  176,\n",
       "  102,\n",
       "  82,\n",
       "  162,\n",
       "  126,\n",
       "  190,\n",
       "  98,\n",
       "  162,\n",
       "  126,\n",
       "  106,\n",
       "  166,\n",
       "  110],\n",
       " [96,\n",
       "  154,\n",
       "  126,\n",
       "  160,\n",
       "  188,\n",
       "  66,\n",
       "  108,\n",
       "  196,\n",
       "  70,\n",
       "  186,\n",
       "  96,\n",
       "  174,\n",
       "  192,\n",
       "  100,\n",
       "  52,\n",
       "  188,\n",
       "  86],\n",
       " [98,\n",
       "  98,\n",
       "  146,\n",
       "  58,\n",
       "  162,\n",
       "  42,\n",
       "  184,\n",
       "  178,\n",
       "  176,\n",
       "  154,\n",
       "  122,\n",
       "  74,\n",
       "  104,\n",
       "  178,\n",
       "  52,\n",
       "  124,\n",
       "  130],\n",
       " [102,\n",
       "  122,\n",
       "  40,\n",
       "  144,\n",
       "  104,\n",
       "  200,\n",
       "  110,\n",
       "  134,\n",
       "  94,\n",
       "  166,\n",
       "  50,\n",
       "  186,\n",
       "  110,\n",
       "  196,\n",
       "  76,\n",
       "  76,\n",
       "  104],\n",
       " [70,\n",
       "  68,\n",
       "  148,\n",
       "  162,\n",
       "  174,\n",
       "  180,\n",
       "  120,\n",
       "  82,\n",
       "  102,\n",
       "  184,\n",
       "  98,\n",
       "  160,\n",
       "  194,\n",
       "  42,\n",
       "  188,\n",
       "  42,\n",
       "  94],\n",
       " [188,\n",
       "  148,\n",
       "  156,\n",
       "  128,\n",
       "  46,\n",
       "  78,\n",
       "  152,\n",
       "  58,\n",
       "  116,\n",
       "  72,\n",
       "  182,\n",
       "  180,\n",
       "  122,\n",
       "  144,\n",
       "  102,\n",
       "  146,\n",
       "  76],\n",
       " [102, 108, 66, 42, 122, 174, 56, 54, 160, 104, 194, 42, 56, 198, 62, 84, 140],\n",
       " [80,\n",
       "  142,\n",
       "  108,\n",
       "  196,\n",
       "  86,\n",
       "  176,\n",
       "  132,\n",
       "  54,\n",
       "  122,\n",
       "  176,\n",
       "  112,\n",
       "  42,\n",
       "  74,\n",
       "  134,\n",
       "  42,\n",
       "  148,\n",
       "  96],\n",
       " [114,\n",
       "  72,\n",
       "  56,\n",
       "  138,\n",
       "  130,\n",
       "  94,\n",
       "  190,\n",
       "  74,\n",
       "  92,\n",
       "  192,\n",
       "  172,\n",
       "  196,\n",
       "  138,\n",
       "  180,\n",
       "  48,\n",
       "  184,\n",
       "  126]]"
      ]
     },
     "execution_count": 266,
     "metadata": {},
     "output_type": "execute_result"
    }
   ],
   "source": [
    "m + m"
   ]
  },
  {
   "cell_type": "code",
   "execution_count": 267,
   "metadata": {},
   "outputs": [
    {
     "data": {
      "text/plain": [
       "[[0, 0, 0, 0, 0, 0, 0, 0, 0, 0, 0, 0, 0, 0, 0, 0, 0],\n",
       " [0, 0, 0, 0, 0, 0, 0, 0, 0, 0, 0, 0, 0, 0, 0, 0, 0],\n",
       " [0, 0, 0, 0, 0, 0, 0, 0, 0, 0, 0, 0, 0, 0, 0, 0, 0],\n",
       " [0, 0, 0, 0, 0, 0, 0, 0, 0, 0, 0, 0, 0, 0, 0, 0, 0],\n",
       " [0, 0, 0, 0, 0, 0, 0, 0, 0, 0, 0, 0, 0, 0, 0, 0, 0],\n",
       " [0, 0, 0, 0, 0, 0, 0, 0, 0, 0, 0, 0, 0, 0, 0, 0, 0],\n",
       " [0, 0, 0, 0, 0, 0, 0, 0, 0, 0, 0, 0, 0, 0, 0, 0, 0],\n",
       " [0, 0, 0, 0, 0, 0, 0, 0, 0, 0, 0, 0, 0, 0, 0, 0, 0],\n",
       " [0, 0, 0, 0, 0, 0, 0, 0, 0, 0, 0, 0, 0, 0, 0, 0, 0],\n",
       " [0, 0, 0, 0, 0, 0, 0, 0, 0, 0, 0, 0, 0, 0, 0, 0, 0],\n",
       " [0, 0, 0, 0, 0, 0, 0, 0, 0, 0, 0, 0, 0, 0, 0, 0, 0],\n",
       " [0, 0, 0, 0, 0, 0, 0, 0, 0, 0, 0, 0, 0, 0, 0, 0, 0]]"
      ]
     },
     "execution_count": 267,
     "metadata": {},
     "output_type": "execute_result"
    }
   ],
   "source": [
    "m - m"
   ]
  },
  {
   "cell_type": "code",
   "execution_count": 268,
   "metadata": {},
   "outputs": [
    {
     "data": {
      "text/plain": [
       "[[841,\n",
       "  3249,\n",
       "  6889,\n",
       "  961,\n",
       "  1089,\n",
       "  2209,\n",
       "  9409,\n",
       "  3844,\n",
       "  4900,\n",
       "  6241,\n",
       "  9604,\n",
       "  5625,\n",
       "  2025,\n",
       "  900,\n",
       "  3249,\n",
       "  1156,\n",
       "  2500],\n",
       " [9604,\n",
       "  2401,\n",
       "  3136,\n",
       "  841,\n",
       "  1369,\n",
       "  625,\n",
       "  5476,\n",
       "  4624,\n",
       "  5476,\n",
       "  1521,\n",
       "  5625,\n",
       "  3136,\n",
       "  4489,\n",
       "  5041,\n",
       "  9216,\n",
       "  3969,\n",
       "  8836],\n",
       " [2116,\n",
       "  6889,\n",
       "  1849,\n",
       "  6084,\n",
       "  2809,\n",
       "  4761,\n",
       "  3600,\n",
       "  3844,\n",
       "  729,\n",
       "  4900,\n",
       "  4489,\n",
       "  9025,\n",
       "  2916,\n",
       "  2809,\n",
       "  4900,\n",
       "  7225,\n",
       "  1600],\n",
       " [2601,\n",
       "  1156,\n",
       "  4761,\n",
       "  625,\n",
       "  1369,\n",
       "  7744,\n",
       "  2601,\n",
       "  1681,\n",
       "  6561,\n",
       "  3969,\n",
       "  9025,\n",
       "  2401,\n",
       "  6561,\n",
       "  3969,\n",
       "  2809,\n",
       "  6889,\n",
       "  3025],\n",
       " [2304,\n",
       "  5929,\n",
       "  3969,\n",
       "  6400,\n",
       "  8836,\n",
       "  1089,\n",
       "  2916,\n",
       "  9604,\n",
       "  1225,\n",
       "  8649,\n",
       "  2304,\n",
       "  7569,\n",
       "  9216,\n",
       "  2500,\n",
       "  676,\n",
       "  8836,\n",
       "  1849],\n",
       " [2401,\n",
       "  2401,\n",
       "  5329,\n",
       "  841,\n",
       "  6561,\n",
       "  441,\n",
       "  8464,\n",
       "  7921,\n",
       "  7744,\n",
       "  5929,\n",
       "  3721,\n",
       "  1369,\n",
       "  2704,\n",
       "  7921,\n",
       "  676,\n",
       "  3844,\n",
       "  4225],\n",
       " [2601,\n",
       "  3721,\n",
       "  400,\n",
       "  5184,\n",
       "  2704,\n",
       "  10000,\n",
       "  3025,\n",
       "  4489,\n",
       "  2209,\n",
       "  6889,\n",
       "  625,\n",
       "  8649,\n",
       "  3025,\n",
       "  9604,\n",
       "  1444,\n",
       "  1444,\n",
       "  2704],\n",
       " [1225,\n",
       "  1156,\n",
       "  5476,\n",
       "  6561,\n",
       "  7569,\n",
       "  8100,\n",
       "  3600,\n",
       "  1681,\n",
       "  2601,\n",
       "  8464,\n",
       "  2401,\n",
       "  6400,\n",
       "  9409,\n",
       "  441,\n",
       "  8836,\n",
       "  441,\n",
       "  2209],\n",
       " [8836,\n",
       "  5476,\n",
       "  6084,\n",
       "  4096,\n",
       "  529,\n",
       "  1521,\n",
       "  5776,\n",
       "  841,\n",
       "  3364,\n",
       "  1296,\n",
       "  8281,\n",
       "  8100,\n",
       "  3721,\n",
       "  5184,\n",
       "  2601,\n",
       "  5329,\n",
       "  1444],\n",
       " [2601,\n",
       "  2916,\n",
       "  1089,\n",
       "  441,\n",
       "  3721,\n",
       "  7569,\n",
       "  784,\n",
       "  729,\n",
       "  6400,\n",
       "  2704,\n",
       "  9409,\n",
       "  441,\n",
       "  784,\n",
       "  9801,\n",
       "  961,\n",
       "  1764,\n",
       "  4900],\n",
       " [1600,\n",
       "  5041,\n",
       "  2916,\n",
       "  9604,\n",
       "  1849,\n",
       "  7744,\n",
       "  4356,\n",
       "  729,\n",
       "  3721,\n",
       "  7744,\n",
       "  3136,\n",
       "  441,\n",
       "  1369,\n",
       "  4489,\n",
       "  441,\n",
       "  5476,\n",
       "  2304],\n",
       " [3249,\n",
       "  1296,\n",
       "  784,\n",
       "  4761,\n",
       "  4225,\n",
       "  2209,\n",
       "  9025,\n",
       "  1369,\n",
       "  2116,\n",
       "  9216,\n",
       "  7396,\n",
       "  9604,\n",
       "  4761,\n",
       "  8100,\n",
       "  576,\n",
       "  8464,\n",
       "  3969]]"
      ]
     },
     "execution_count": 268,
     "metadata": {},
     "output_type": "execute_result"
    }
   ],
   "source": [
    "m * m"
   ]
  },
  {
   "cell_type": "code",
   "execution_count": 269,
   "metadata": {},
   "outputs": [
    {
     "data": {
      "text/plain": [
       "[[1.0,\n",
       "  1.0,\n",
       "  1.0,\n",
       "  1.0,\n",
       "  1.0,\n",
       "  1.0,\n",
       "  1.0,\n",
       "  1.0,\n",
       "  1.0,\n",
       "  1.0,\n",
       "  1.0,\n",
       "  1.0,\n",
       "  1.0,\n",
       "  1.0,\n",
       "  1.0,\n",
       "  1.0,\n",
       "  1.0],\n",
       " [1.0,\n",
       "  1.0,\n",
       "  1.0,\n",
       "  1.0,\n",
       "  1.0,\n",
       "  1.0,\n",
       "  1.0,\n",
       "  1.0,\n",
       "  1.0,\n",
       "  1.0,\n",
       "  1.0,\n",
       "  1.0,\n",
       "  1.0,\n",
       "  1.0,\n",
       "  1.0,\n",
       "  1.0,\n",
       "  1.0],\n",
       " [1.0,\n",
       "  1.0,\n",
       "  1.0,\n",
       "  1.0,\n",
       "  1.0,\n",
       "  1.0,\n",
       "  1.0,\n",
       "  1.0,\n",
       "  1.0,\n",
       "  1.0,\n",
       "  1.0,\n",
       "  1.0,\n",
       "  1.0,\n",
       "  1.0,\n",
       "  1.0,\n",
       "  1.0,\n",
       "  1.0],\n",
       " [1.0,\n",
       "  1.0,\n",
       "  1.0,\n",
       "  1.0,\n",
       "  1.0,\n",
       "  1.0,\n",
       "  1.0,\n",
       "  1.0,\n",
       "  1.0,\n",
       "  1.0,\n",
       "  1.0,\n",
       "  1.0,\n",
       "  1.0,\n",
       "  1.0,\n",
       "  1.0,\n",
       "  1.0,\n",
       "  1.0],\n",
       " [1.0,\n",
       "  1.0,\n",
       "  1.0,\n",
       "  1.0,\n",
       "  1.0,\n",
       "  1.0,\n",
       "  1.0,\n",
       "  1.0,\n",
       "  1.0,\n",
       "  1.0,\n",
       "  1.0,\n",
       "  1.0,\n",
       "  1.0,\n",
       "  1.0,\n",
       "  1.0,\n",
       "  1.0,\n",
       "  1.0],\n",
       " [1.0,\n",
       "  1.0,\n",
       "  1.0,\n",
       "  1.0,\n",
       "  1.0,\n",
       "  1.0,\n",
       "  1.0,\n",
       "  1.0,\n",
       "  1.0,\n",
       "  1.0,\n",
       "  1.0,\n",
       "  1.0,\n",
       "  1.0,\n",
       "  1.0,\n",
       "  1.0,\n",
       "  1.0,\n",
       "  1.0],\n",
       " [1.0,\n",
       "  1.0,\n",
       "  1.0,\n",
       "  1.0,\n",
       "  1.0,\n",
       "  1.0,\n",
       "  1.0,\n",
       "  1.0,\n",
       "  1.0,\n",
       "  1.0,\n",
       "  1.0,\n",
       "  1.0,\n",
       "  1.0,\n",
       "  1.0,\n",
       "  1.0,\n",
       "  1.0,\n",
       "  1.0],\n",
       " [1.0,\n",
       "  1.0,\n",
       "  1.0,\n",
       "  1.0,\n",
       "  1.0,\n",
       "  1.0,\n",
       "  1.0,\n",
       "  1.0,\n",
       "  1.0,\n",
       "  1.0,\n",
       "  1.0,\n",
       "  1.0,\n",
       "  1.0,\n",
       "  1.0,\n",
       "  1.0,\n",
       "  1.0,\n",
       "  1.0],\n",
       " [1.0,\n",
       "  1.0,\n",
       "  1.0,\n",
       "  1.0,\n",
       "  1.0,\n",
       "  1.0,\n",
       "  1.0,\n",
       "  1.0,\n",
       "  1.0,\n",
       "  1.0,\n",
       "  1.0,\n",
       "  1.0,\n",
       "  1.0,\n",
       "  1.0,\n",
       "  1.0,\n",
       "  1.0,\n",
       "  1.0],\n",
       " [1.0,\n",
       "  1.0,\n",
       "  1.0,\n",
       "  1.0,\n",
       "  1.0,\n",
       "  1.0,\n",
       "  1.0,\n",
       "  1.0,\n",
       "  1.0,\n",
       "  1.0,\n",
       "  1.0,\n",
       "  1.0,\n",
       "  1.0,\n",
       "  1.0,\n",
       "  1.0,\n",
       "  1.0,\n",
       "  1.0],\n",
       " [1.0,\n",
       "  1.0,\n",
       "  1.0,\n",
       "  1.0,\n",
       "  1.0,\n",
       "  1.0,\n",
       "  1.0,\n",
       "  1.0,\n",
       "  1.0,\n",
       "  1.0,\n",
       "  1.0,\n",
       "  1.0,\n",
       "  1.0,\n",
       "  1.0,\n",
       "  1.0,\n",
       "  1.0,\n",
       "  1.0],\n",
       " [1.0,\n",
       "  1.0,\n",
       "  1.0,\n",
       "  1.0,\n",
       "  1.0,\n",
       "  1.0,\n",
       "  1.0,\n",
       "  1.0,\n",
       "  1.0,\n",
       "  1.0,\n",
       "  1.0,\n",
       "  1.0,\n",
       "  1.0,\n",
       "  1.0,\n",
       "  1.0,\n",
       "  1.0,\n",
       "  1.0]]"
      ]
     },
     "execution_count": 269,
     "metadata": {},
     "output_type": "execute_result"
    }
   ],
   "source": [
    "m / m"
   ]
  },
  {
   "cell_type": "code",
   "execution_count": 270,
   "metadata": {},
   "outputs": [
    {
     "data": {
      "text/plain": [
       "False"
      ]
     },
     "execution_count": 270,
     "metadata": {},
     "output_type": "execute_result"
    }
   ],
   "source": [
    "m > m"
   ]
  },
  {
   "cell_type": "code",
   "execution_count": 271,
   "metadata": {},
   "outputs": [
    {
     "data": {
      "text/plain": [
       "True"
      ]
     },
     "execution_count": 271,
     "metadata": {},
     "output_type": "execute_result"
    }
   ],
   "source": [
    "m >= m"
   ]
  },
  {
   "cell_type": "code",
   "execution_count": 272,
   "metadata": {},
   "outputs": [
    {
     "data": {
      "text/plain": [
       "['__abs__',\n",
       " '__add__',\n",
       " '__and__',\n",
       " '__bool__',\n",
       " '__ceil__',\n",
       " '__class__',\n",
       " '__delattr__',\n",
       " '__dir__',\n",
       " '__divmod__',\n",
       " '__doc__',\n",
       " '__eq__',\n",
       " '__float__',\n",
       " '__floor__',\n",
       " '__floordiv__',\n",
       " '__format__',\n",
       " '__ge__',\n",
       " '__getattribute__',\n",
       " '__getnewargs__',\n",
       " '__gt__',\n",
       " '__hash__',\n",
       " '__index__',\n",
       " '__init__',\n",
       " '__init_subclass__',\n",
       " '__int__',\n",
       " '__invert__',\n",
       " '__le__',\n",
       " '__lshift__',\n",
       " '__lt__',\n",
       " '__mod__',\n",
       " '__mul__',\n",
       " '__ne__',\n",
       " '__neg__',\n",
       " '__new__',\n",
       " '__or__',\n",
       " '__pos__',\n",
       " '__pow__',\n",
       " '__radd__',\n",
       " '__rand__',\n",
       " '__rdivmod__',\n",
       " '__reduce__',\n",
       " '__reduce_ex__',\n",
       " '__repr__',\n",
       " '__rfloordiv__',\n",
       " '__rlshift__',\n",
       " '__rmod__',\n",
       " '__rmul__',\n",
       " '__ror__',\n",
       " '__round__',\n",
       " '__rpow__',\n",
       " '__rrshift__',\n",
       " '__rshift__',\n",
       " '__rsub__',\n",
       " '__rtruediv__',\n",
       " '__rxor__',\n",
       " '__setattr__',\n",
       " '__sizeof__',\n",
       " '__str__',\n",
       " '__sub__',\n",
       " '__subclasshook__',\n",
       " '__truediv__',\n",
       " '__trunc__',\n",
       " '__xor__',\n",
       " 'bit_length',\n",
       " 'conjugate',\n",
       " 'denominator',\n",
       " 'from_bytes',\n",
       " 'imag',\n",
       " 'numerator',\n",
       " 'real',\n",
       " 'to_bytes']"
      ]
     },
     "execution_count": 272,
     "metadata": {},
     "output_type": "execute_result"
    }
   ],
   "source": [
    "dir(int)"
   ]
  },
  {
   "cell_type": "markdown",
   "metadata": {},
   "source": [
    "### A word on `closure` and `decorator` concepts\n",
    "\n",
    "A **closure** is function that returns another function which is defined in it. Thus, it is a function to create another function.\n",
    "\n",
    "* We must have a nested function (function inside a function).\n",
    "* The nested function must refer to a value defined in the enclosing function.\n",
    "* The enclosing function must return the nested function.\n",
    "\n",
    "A **decorator** is a closure that takes functions (i.e. `callable`) as arguments."
   ]
  },
  {
   "cell_type": "code",
   "execution_count": 273,
   "metadata": {},
   "outputs": [],
   "source": [
    "# an example closure\n",
    "def harbinger(s):\n",
    "    \n",
    "    def message():\n",
    "        print(\"The message is:\")\n",
    "        print(s)\n",
    "        \n",
    "    return message"
   ]
  },
  {
   "cell_type": "code",
   "execution_count": 275,
   "metadata": {},
   "outputs": [
    {
     "data": {
      "text/plain": [
       "<function __main__.harbinger.<locals>.message()>"
      ]
     },
     "execution_count": 275,
     "metadata": {},
     "output_type": "execute_result"
    }
   ],
   "source": [
    "msg = harbinger(\"Good news!\")\n",
    "msg"
   ]
  },
  {
   "cell_type": "code",
   "execution_count": 276,
   "metadata": {},
   "outputs": [
    {
     "name": "stdout",
     "output_type": "stream",
     "text": [
      "The message is:\n",
      "Good news!\n"
     ]
    }
   ],
   "source": [
    "msg()"
   ]
  },
  {
   "cell_type": "code",
   "execution_count": 278,
   "metadata": {},
   "outputs": [],
   "source": [
    "# an example decorator\n",
    "def uppercase(function):\n",
    "    def wrapper(s):\n",
    "        func = function(s)\n",
    "        make_uppercase = func.upper()\n",
    "        return make_uppercase\n",
    "\n",
    "    return wrapper"
   ]
  },
  {
   "cell_type": "code",
   "execution_count": 279,
   "metadata": {},
   "outputs": [
    {
     "data": {
      "text/plain": [
       "'Hi friend'"
      ]
     },
     "execution_count": 279,
     "metadata": {},
     "output_type": "execute_result"
    }
   ],
   "source": [
    "def greetings(name):\n",
    "    return \"Hi \" + name\n",
    "\n",
    "greetings(\"friend\")"
   ]
  },
  {
   "cell_type": "code",
   "execution_count": 280,
   "metadata": {},
   "outputs": [
    {
     "data": {
      "text/plain": [
       "'HI FRIEND'"
      ]
     },
     "execution_count": 280,
     "metadata": {},
     "output_type": "execute_result"
    }
   ],
   "source": [
    "@uppercase\n",
    "def greetings(name):\n",
    "    return \"Hi \" + name\n",
    "\n",
    "greetings(\"friend\")"
   ]
  },
  {
   "cell_type": "code",
   "execution_count": 282,
   "metadata": {},
   "outputs": [],
   "source": [
    "def size_check(function):\n",
    "    def wrapper(*args):\n",
    "        size_1, size_2 = len(args[0]), len(args[1])\n",
    "        if size_1 != size_2:\n",
    "            raise ValueError(\"Sizes do not match.\")\n",
    "        \n",
    "        return function(*args)\n",
    "    \n",
    "    return wrapper\n",
    "\n",
    "@size_check\n",
    "def add(a,b):\n",
    "    out = []\n",
    "    for row1,row2 in zip(a,b):\n",
    "        tmp = map(sum,zip(row1,row2))\n",
    "        out.append(list(tmp))\n",
    "    return out"
   ]
  },
  {
   "cell_type": "code",
   "execution_count": 284,
   "metadata": {},
   "outputs": [
    {
     "data": {
      "text/plain": [
       "[[106, 166, 79, 31, 136],\n",
       " [110, 118, 153, 173, 89],\n",
       " [70, 26, 43, 114, 128],\n",
       " [88, 64, 92, 135, 78],\n",
       " [96, 89, 168, 32, 74],\n",
       " [107, 111, 62, 84, 113],\n",
       " [36, 64, 73, 59, 91],\n",
       " [77, 80, 104, 70, 96],\n",
       " [128, 124, 32, 159, 70],\n",
       " [110, 99, 118, 22, 57],\n",
       " [10, 80, 139, 78, 101],\n",
       " [93, 81, 41, 113, 191]]"
      ]
     },
     "execution_count": 284,
     "metadata": {},
     "output_type": "execute_result"
    }
   ],
   "source": [
    "a = [rand_list(5,\"randint\",0,100) for _ in range(12)]\n",
    "b = [rand_list(5,\"randint\",0,100) for _ in range(12)]\n",
    "add(a,b)"
   ]
  },
  {
   "cell_type": "code",
   "execution_count": 285,
   "metadata": {},
   "outputs": [
    {
     "data": {
      "text/plain": [
       "[[107.50459066408351, 43.56419510339172, 50.04319935617123],\n",
       " [12.983269915565485, 76.96752201361016, 47.87135753191791],\n",
       " [26.724826716833057, 74.52841043161872, 22.676441622242073],\n",
       " [61.04959205244969, 71.34519905570748, 69.63609521645385],\n",
       " [128.9252212114274, 99.37551627724764, 65.0654996220627]]"
      ]
     },
     "execution_count": 285,
     "metadata": {},
     "output_type": "execute_result"
    }
   ],
   "source": [
    "a = [rand_list(3,\"randint\",0,100) for _ in range(5)]\n",
    "b = [rand_list(3,\"expovariate\",0.1) for _ in range(5)]\n",
    "add(a,b)"
   ]
  },
  {
   "cell_type": "code",
   "execution_count": 286,
   "metadata": {},
   "outputs": [
    {
     "ename": "ValueError",
     "evalue": "Sizes do not match.",
     "output_type": "error",
     "traceback": [
      "\u001b[0;31m---------------------------------------------------------------------------\u001b[0m",
      "\u001b[0;31mValueError\u001b[0m                                Traceback (most recent call last)",
      "\u001b[0;32m<ipython-input-286-3585cbc4f625>\u001b[0m in \u001b[0;36m<module>\u001b[0;34m\u001b[0m\n\u001b[1;32m      1\u001b[0m \u001b[0ma\u001b[0m \u001b[0;34m=\u001b[0m \u001b[0;34m[\u001b[0m\u001b[0mrand_list\u001b[0m\u001b[0;34m(\u001b[0m\u001b[0;36m3\u001b[0m\u001b[0;34m,\u001b[0m\u001b[0;34m\"gauss\"\u001b[0m\u001b[0;34m,\u001b[0m\u001b[0;36m0\u001b[0m\u001b[0;34m,\u001b[0m\u001b[0;36m100\u001b[0m\u001b[0;34m)\u001b[0m \u001b[0;32mfor\u001b[0m \u001b[0m_\u001b[0m \u001b[0;32min\u001b[0m \u001b[0mrange\u001b[0m\u001b[0;34m(\u001b[0m\u001b[0;36m5\u001b[0m\u001b[0;34m)\u001b[0m\u001b[0;34m]\u001b[0m\u001b[0;34m\u001b[0m\u001b[0;34m\u001b[0m\u001b[0m\n\u001b[1;32m      2\u001b[0m \u001b[0mb\u001b[0m \u001b[0;34m=\u001b[0m \u001b[0;34m[\u001b[0m\u001b[0mrand_list\u001b[0m\u001b[0;34m(\u001b[0m\u001b[0;36m3\u001b[0m\u001b[0;34m,\u001b[0m\u001b[0;34m\"expovariate\"\u001b[0m\u001b[0;34m,\u001b[0m\u001b[0;36m0.1\u001b[0m\u001b[0;34m)\u001b[0m \u001b[0;32mfor\u001b[0m \u001b[0m_\u001b[0m \u001b[0;32min\u001b[0m \u001b[0mrange\u001b[0m\u001b[0;34m(\u001b[0m\u001b[0;36m7\u001b[0m\u001b[0;34m)\u001b[0m\u001b[0;34m]\u001b[0m\u001b[0;34m\u001b[0m\u001b[0;34m\u001b[0m\u001b[0m\n\u001b[0;32m----> 3\u001b[0;31m \u001b[0madd\u001b[0m\u001b[0;34m(\u001b[0m\u001b[0ma\u001b[0m\u001b[0;34m,\u001b[0m\u001b[0mb\u001b[0m\u001b[0;34m)\u001b[0m\u001b[0;34m\u001b[0m\u001b[0;34m\u001b[0m\u001b[0m\n\u001b[0m",
      "\u001b[0;32m<ipython-input-282-e30893b48d5e>\u001b[0m in \u001b[0;36mwrapper\u001b[0;34m(*args)\u001b[0m\n\u001b[1;32m      3\u001b[0m         \u001b[0msize_1\u001b[0m\u001b[0;34m,\u001b[0m \u001b[0msize_2\u001b[0m \u001b[0;34m=\u001b[0m \u001b[0mlen\u001b[0m\u001b[0;34m(\u001b[0m\u001b[0margs\u001b[0m\u001b[0;34m[\u001b[0m\u001b[0;36m0\u001b[0m\u001b[0;34m]\u001b[0m\u001b[0;34m)\u001b[0m\u001b[0;34m,\u001b[0m \u001b[0mlen\u001b[0m\u001b[0;34m(\u001b[0m\u001b[0margs\u001b[0m\u001b[0;34m[\u001b[0m\u001b[0;36m1\u001b[0m\u001b[0;34m]\u001b[0m\u001b[0;34m)\u001b[0m\u001b[0;34m\u001b[0m\u001b[0;34m\u001b[0m\u001b[0m\n\u001b[1;32m      4\u001b[0m         \u001b[0;32mif\u001b[0m \u001b[0msize_1\u001b[0m \u001b[0;34m!=\u001b[0m \u001b[0msize_2\u001b[0m\u001b[0;34m:\u001b[0m\u001b[0;34m\u001b[0m\u001b[0;34m\u001b[0m\u001b[0m\n\u001b[0;32m----> 5\u001b[0;31m             \u001b[0;32mraise\u001b[0m \u001b[0mValueError\u001b[0m\u001b[0;34m(\u001b[0m\u001b[0;34m\"Sizes do not match.\"\u001b[0m\u001b[0;34m)\u001b[0m\u001b[0;34m\u001b[0m\u001b[0;34m\u001b[0m\u001b[0m\n\u001b[0m\u001b[1;32m      6\u001b[0m \u001b[0;34m\u001b[0m\u001b[0m\n\u001b[1;32m      7\u001b[0m         \u001b[0;32mreturn\u001b[0m \u001b[0mfunction\u001b[0m\u001b[0;34m(\u001b[0m\u001b[0;34m*\u001b[0m\u001b[0margs\u001b[0m\u001b[0;34m)\u001b[0m\u001b[0;34m\u001b[0m\u001b[0;34m\u001b[0m\u001b[0m\n",
      "\u001b[0;31mValueError\u001b[0m: Sizes do not match."
     ]
    }
   ],
   "source": [
    "a = [rand_list(3,\"gauss\",0,100) for _ in range(5)]\n",
    "b = [rand_list(3,\"expovariate\",0.1) for _ in range(7)]\n",
    "add(a,b)"
   ]
  },
  {
   "cell_type": "code",
   "execution_count": 287,
   "metadata": {},
   "outputs": [],
   "source": [
    "def type_check(function):\n",
    "    def wrapper(*args):\n",
    "        e1, e2 = args[0][0][0], args[1][0][0]\n",
    "        if type(e1) != type(e2):\n",
    "            raise ValueError(\"Types do not match.\")\n",
    "        \n",
    "        return function(*args)\n",
    "    \n",
    "    return wrapper\n",
    "\n",
    "@type_check\n",
    "@size_check\n",
    "def add(a,b):\n",
    "    out = []\n",
    "    for row1,row2 in zip(a,b):\n",
    "        tmp = map(sum,zip(row1,row2))\n",
    "        out.append(list(tmp))\n",
    "    return out"
   ]
  },
  {
   "cell_type": "code",
   "execution_count": 288,
   "metadata": {},
   "outputs": [
    {
     "data": {
      "text/plain": [
       "[[124, 15, 81, 116, 72],\n",
       " [132, 102, 106, 58, 71],\n",
       " [55, 191, 95, 156, 75],\n",
       " [81, 133, 100, 106, 77],\n",
       " [117, 175, 118, 148, 111],\n",
       " [74, 116, 101, 132, 39],\n",
       " [86, 105, 49, 98, 32],\n",
       " [103, 31, 71, 185, 98],\n",
       " [64, 80, 60, 98, 51],\n",
       " [62, 194, 121, 111, 52],\n",
       " [16, 176, 87, 117, 131],\n",
       " [164, 77, 17, 111, 115]]"
      ]
     },
     "execution_count": 288,
     "metadata": {},
     "output_type": "execute_result"
    }
   ],
   "source": [
    "a = [rand_list(5,\"randint\",0,100) for _ in range(12)]\n",
    "b = [rand_list(5,\"randint\",0,100) for _ in range(12)]\n",
    "add(a,b)"
   ]
  },
  {
   "cell_type": "code",
   "execution_count": 289,
   "metadata": {},
   "outputs": [
    {
     "ename": "ValueError",
     "evalue": "Types do not match.",
     "output_type": "error",
     "traceback": [
      "\u001b[0;31m---------------------------------------------------------------------------\u001b[0m",
      "\u001b[0;31mValueError\u001b[0m                                Traceback (most recent call last)",
      "\u001b[0;32m<ipython-input-289-e959906b80c0>\u001b[0m in \u001b[0;36m<module>\u001b[0;34m\u001b[0m\n\u001b[1;32m      1\u001b[0m \u001b[0ma\u001b[0m \u001b[0;34m=\u001b[0m \u001b[0;34m[\u001b[0m\u001b[0mrand_list\u001b[0m\u001b[0;34m(\u001b[0m\u001b[0;36m3\u001b[0m\u001b[0;34m,\u001b[0m\u001b[0;34m\"randint\"\u001b[0m\u001b[0;34m,\u001b[0m\u001b[0;36m0\u001b[0m\u001b[0;34m,\u001b[0m\u001b[0;36m100\u001b[0m\u001b[0;34m)\u001b[0m \u001b[0;32mfor\u001b[0m \u001b[0m_\u001b[0m \u001b[0;32min\u001b[0m \u001b[0mrange\u001b[0m\u001b[0;34m(\u001b[0m\u001b[0;36m5\u001b[0m\u001b[0;34m)\u001b[0m\u001b[0;34m]\u001b[0m\u001b[0;34m\u001b[0m\u001b[0;34m\u001b[0m\u001b[0m\n\u001b[1;32m      2\u001b[0m \u001b[0mb\u001b[0m \u001b[0;34m=\u001b[0m \u001b[0;34m[\u001b[0m\u001b[0mrand_list\u001b[0m\u001b[0;34m(\u001b[0m\u001b[0;36m3\u001b[0m\u001b[0;34m,\u001b[0m\u001b[0;34m\"expovariate\"\u001b[0m\u001b[0;34m,\u001b[0m\u001b[0;36m0.1\u001b[0m\u001b[0;34m)\u001b[0m \u001b[0;32mfor\u001b[0m \u001b[0m_\u001b[0m \u001b[0;32min\u001b[0m \u001b[0mrange\u001b[0m\u001b[0;34m(\u001b[0m\u001b[0;36m5\u001b[0m\u001b[0;34m)\u001b[0m\u001b[0;34m]\u001b[0m\u001b[0;34m\u001b[0m\u001b[0;34m\u001b[0m\u001b[0m\n\u001b[0;32m----> 3\u001b[0;31m \u001b[0madd\u001b[0m\u001b[0;34m(\u001b[0m\u001b[0ma\u001b[0m\u001b[0;34m,\u001b[0m\u001b[0mb\u001b[0m\u001b[0;34m)\u001b[0m\u001b[0;34m\u001b[0m\u001b[0;34m\u001b[0m\u001b[0m\n\u001b[0m",
      "\u001b[0;32m<ipython-input-287-b40fab59c0d9>\u001b[0m in \u001b[0;36mwrapper\u001b[0;34m(*args)\u001b[0m\n\u001b[1;32m      3\u001b[0m         \u001b[0me1\u001b[0m\u001b[0;34m,\u001b[0m \u001b[0me2\u001b[0m \u001b[0;34m=\u001b[0m \u001b[0margs\u001b[0m\u001b[0;34m[\u001b[0m\u001b[0;36m0\u001b[0m\u001b[0;34m]\u001b[0m\u001b[0;34m[\u001b[0m\u001b[0;36m0\u001b[0m\u001b[0;34m]\u001b[0m\u001b[0;34m[\u001b[0m\u001b[0;36m0\u001b[0m\u001b[0;34m]\u001b[0m\u001b[0;34m,\u001b[0m \u001b[0margs\u001b[0m\u001b[0;34m[\u001b[0m\u001b[0;36m1\u001b[0m\u001b[0;34m]\u001b[0m\u001b[0;34m[\u001b[0m\u001b[0;36m0\u001b[0m\u001b[0;34m]\u001b[0m\u001b[0;34m[\u001b[0m\u001b[0;36m0\u001b[0m\u001b[0;34m]\u001b[0m\u001b[0;34m\u001b[0m\u001b[0;34m\u001b[0m\u001b[0m\n\u001b[1;32m      4\u001b[0m         \u001b[0;32mif\u001b[0m \u001b[0mtype\u001b[0m\u001b[0;34m(\u001b[0m\u001b[0me1\u001b[0m\u001b[0;34m)\u001b[0m \u001b[0;34m!=\u001b[0m \u001b[0mtype\u001b[0m\u001b[0;34m(\u001b[0m\u001b[0me2\u001b[0m\u001b[0;34m)\u001b[0m\u001b[0;34m:\u001b[0m\u001b[0;34m\u001b[0m\u001b[0;34m\u001b[0m\u001b[0m\n\u001b[0;32m----> 5\u001b[0;31m             \u001b[0;32mraise\u001b[0m \u001b[0mValueError\u001b[0m\u001b[0;34m(\u001b[0m\u001b[0;34m\"Types do not match.\"\u001b[0m\u001b[0;34m)\u001b[0m\u001b[0;34m\u001b[0m\u001b[0;34m\u001b[0m\u001b[0m\n\u001b[0m\u001b[1;32m      6\u001b[0m \u001b[0;34m\u001b[0m\u001b[0m\n\u001b[1;32m      7\u001b[0m         \u001b[0;32mreturn\u001b[0m \u001b[0mfunction\u001b[0m\u001b[0;34m(\u001b[0m\u001b[0;34m*\u001b[0m\u001b[0margs\u001b[0m\u001b[0;34m)\u001b[0m\u001b[0;34m\u001b[0m\u001b[0;34m\u001b[0m\u001b[0m\n",
      "\u001b[0;31mValueError\u001b[0m: Types do not match."
     ]
    }
   ],
   "source": [
    "a = [rand_list(3,\"randint\",0,100) for _ in range(5)]\n",
    "b = [rand_list(3,\"expovariate\",0.1) for _ in range(5)]\n",
    "add(a,b)"
   ]
  },
  {
   "cell_type": "markdown",
   "metadata": {},
   "source": [
    "### `getter` and `setter` methods"
   ]
  },
  {
   "cell_type": "code",
   "execution_count": 290,
   "metadata": {},
   "outputs": [],
   "source": [
    "# class getters, and setters\n",
    "class Pet:\n",
    "    def __init__(self,name,age):\n",
    "        self._name = name\n",
    "        self.age = age\n",
    "    \n",
    "    def describe(self):\n",
    "        print(\"Name:\",self.name)\n",
    "        print(\"Age:\",self.age)\n",
    "\n",
    "    @property\n",
    "    def name(self):\n",
    "        return self._name\n",
    "    \n",
    "    @name.setter\n",
    "    def name(self,s):\n",
    "        self._name = s\n",
    "        \n",
    "    @name.deleter\n",
    "    def name(self):\n",
    "        del self._name"
   ]
  },
  {
   "cell_type": "code",
   "execution_count": 291,
   "metadata": {},
   "outputs": [
    {
     "data": {
      "text/plain": [
       "'Duman'"
      ]
     },
     "execution_count": 291,
     "metadata": {},
     "output_type": "execute_result"
    }
   ],
   "source": [
    "a = Pet(\"Duman\",1.5)\n",
    "a.name"
   ]
  },
  {
   "cell_type": "code",
   "execution_count": 292,
   "metadata": {},
   "outputs": [
    {
     "data": {
      "text/plain": [
       "'Smokey'"
      ]
     },
     "execution_count": 292,
     "metadata": {},
     "output_type": "execute_result"
    }
   ],
   "source": [
    "a.name = \"Smokey\"\n",
    "a.name"
   ]
  },
  {
   "cell_type": "code",
   "execution_count": 293,
   "metadata": {},
   "outputs": [],
   "source": [
    "a.name = \"a\""
   ]
  },
  {
   "cell_type": "code",
   "execution_count": 301,
   "metadata": {},
   "outputs": [],
   "source": [
    "# class getters, and setters\n",
    "class Pet:\n",
    "    def __init__(self,name,age):\n",
    "        self._name = name\n",
    "        self.age = age\n",
    "    \n",
    "    def describe(self):\n",
    "        print(\"Name:\",self.name)\n",
    "        print(\"Age:\",self.age)\n",
    "\n",
    "    @property\n",
    "    def name(self):\n",
    "        return self._name\n",
    "    \n",
    "    @name.setter\n",
    "    def name(self,s):\n",
    "        if len(s) < 2:\n",
    "            raise ValueError()\n",
    "            \n",
    "        self._name = s.capitalize()\n",
    "        \n",
    "    @name.deleter\n",
    "    def name(self):\n",
    "        del self._name"
   ]
  },
  {
   "cell_type": "code",
   "execution_count": 298,
   "metadata": {},
   "outputs": [
    {
     "data": {
      "text/plain": [
       "'Duman'"
      ]
     },
     "execution_count": 298,
     "metadata": {},
     "output_type": "execute_result"
    }
   ],
   "source": [
    "a = Pet(\"Duman\",1.5)\n",
    "a.name"
   ]
  },
  {
   "cell_type": "code",
   "execution_count": 299,
   "metadata": {},
   "outputs": [
    {
     "data": {
      "text/plain": [
       "'Smokey'"
      ]
     },
     "execution_count": 299,
     "metadata": {},
     "output_type": "execute_result"
    }
   ],
   "source": [
    "a.name = \"smokey\"\n",
    "a.name"
   ]
  },
  {
   "cell_type": "code",
   "execution_count": 300,
   "metadata": {},
   "outputs": [
    {
     "ename": "ValueError",
     "evalue": "",
     "output_type": "error",
     "traceback": [
      "\u001b[0;31m---------------------------------------------------------------------------\u001b[0m",
      "\u001b[0;31mValueError\u001b[0m                                Traceback (most recent call last)",
      "\u001b[0;32m<ipython-input-300-c6c6ba27c287>\u001b[0m in \u001b[0;36m<module>\u001b[0;34m\u001b[0m\n\u001b[0;32m----> 1\u001b[0;31m \u001b[0ma\u001b[0m\u001b[0;34m.\u001b[0m\u001b[0mname\u001b[0m \u001b[0;34m=\u001b[0m \u001b[0;34m\"Y\"\u001b[0m\u001b[0;34m\u001b[0m\u001b[0;34m\u001b[0m\u001b[0m\n\u001b[0m\u001b[1;32m      2\u001b[0m \u001b[0ma\u001b[0m\u001b[0;34m.\u001b[0m\u001b[0mname\u001b[0m\u001b[0;34m\u001b[0m\u001b[0;34m\u001b[0m\u001b[0m\n",
      "\u001b[0;32m<ipython-input-296-46e1b80d75f7>\u001b[0m in \u001b[0;36mname\u001b[0;34m(self, s)\u001b[0m\n\u001b[1;32m     16\u001b[0m     \u001b[0;32mdef\u001b[0m \u001b[0mname\u001b[0m\u001b[0;34m(\u001b[0m\u001b[0mself\u001b[0m\u001b[0;34m,\u001b[0m\u001b[0ms\u001b[0m\u001b[0;34m)\u001b[0m\u001b[0;34m:\u001b[0m\u001b[0;34m\u001b[0m\u001b[0;34m\u001b[0m\u001b[0m\n\u001b[1;32m     17\u001b[0m         \u001b[0;32mif\u001b[0m \u001b[0mlen\u001b[0m\u001b[0;34m(\u001b[0m\u001b[0ms\u001b[0m\u001b[0;34m)\u001b[0m \u001b[0;34m<\u001b[0m \u001b[0;36m2\u001b[0m\u001b[0;34m:\u001b[0m\u001b[0;34m\u001b[0m\u001b[0;34m\u001b[0m\u001b[0m\n\u001b[0;32m---> 18\u001b[0;31m             \u001b[0;32mraise\u001b[0m \u001b[0mValueError\u001b[0m\u001b[0;34m(\u001b[0m\u001b[0;34m)\u001b[0m\u001b[0;34m\u001b[0m\u001b[0;34m\u001b[0m\u001b[0m\n\u001b[0m\u001b[1;32m     19\u001b[0m \u001b[0;34m\u001b[0m\u001b[0m\n\u001b[1;32m     20\u001b[0m         \u001b[0mself\u001b[0m\u001b[0;34m.\u001b[0m\u001b[0m_name\u001b[0m \u001b[0;34m=\u001b[0m \u001b[0ms\u001b[0m\u001b[0;34m.\u001b[0m\u001b[0mcapitalize\u001b[0m\u001b[0;34m(\u001b[0m\u001b[0;34m)\u001b[0m\u001b[0;34m\u001b[0m\u001b[0;34m\u001b[0m\u001b[0m\n",
      "\u001b[0;31mValueError\u001b[0m: "
     ]
    }
   ],
   "source": [
    "a.name = \"Y\"\n",
    "a.name"
   ]
  },
  {
   "cell_type": "markdown",
   "metadata": {},
   "source": [
    "### `classmethod` and `staticmethod`\n",
    "\n",
    "They do not require a class instance creation, and are bound to the class rather than its object. So, they are not dependent on the state of the object.\n",
    "\n",
    "The difference between a static method and a class method is:\n",
    "\n",
    "* Static method knows nothing about the class and just deals with the arguments.\n",
    "* Class method works with the class since its parameter is always the class itself."
   ]
  },
  {
   "cell_type": "code",
   "execution_count": 303,
   "metadata": {},
   "outputs": [],
   "source": [
    "class SmartPhones:\n",
    "    brand = \"Apple\"\n",
    "    \n",
    "    def __init__(self,model):\n",
    "        self.model = model\n",
    "    \n",
    "    @classmethod\n",
    "    def change_brand(cls,new_brand):\n",
    "        cls.brand = new_brand"
   ]
  },
  {
   "cell_type": "code",
   "execution_count": 304,
   "metadata": {},
   "outputs": [
    {
     "data": {
      "text/plain": [
       "__main__.SmartPhones"
      ]
     },
     "execution_count": 304,
     "metadata": {},
     "output_type": "execute_result"
    }
   ],
   "source": [
    "SmartPhones"
   ]
  },
  {
   "cell_type": "code",
   "execution_count": 305,
   "metadata": {},
   "outputs": [
    {
     "data": {
      "text/plain": [
       "'Apple'"
      ]
     },
     "execution_count": 305,
     "metadata": {},
     "output_type": "execute_result"
    }
   ],
   "source": [
    "SmartPhones.brand"
   ]
  },
  {
   "cell_type": "code",
   "execution_count": 308,
   "metadata": {},
   "outputs": [
    {
     "ename": "AttributeError",
     "evalue": "type object 'SmartPhones' has no attribute 'model'",
     "output_type": "error",
     "traceback": [
      "\u001b[0;31m---------------------------------------------------------------------------\u001b[0m",
      "\u001b[0;31mAttributeError\u001b[0m                            Traceback (most recent call last)",
      "\u001b[0;32m<ipython-input-308-8ec3ff53bb3d>\u001b[0m in \u001b[0;36m<module>\u001b[0;34m\u001b[0m\n\u001b[0;32m----> 1\u001b[0;31m \u001b[0mSmartPhones\u001b[0m\u001b[0;34m.\u001b[0m\u001b[0mmodel\u001b[0m\u001b[0;34m\u001b[0m\u001b[0;34m\u001b[0m\u001b[0m\n\u001b[0m",
      "\u001b[0;31mAttributeError\u001b[0m: type object 'SmartPhones' has no attribute 'model'"
     ]
    }
   ],
   "source": [
    "SmartPhones.model"
   ]
  },
  {
   "cell_type": "code",
   "execution_count": 310,
   "metadata": {},
   "outputs": [
    {
     "data": {
      "text/plain": [
       "'iphone'"
      ]
     },
     "execution_count": 310,
     "metadata": {},
     "output_type": "execute_result"
    }
   ],
   "source": [
    "obj = SmartPhones(\"iphone\")\n",
    "obj.model"
   ]
  },
  {
   "cell_type": "code",
   "execution_count": 311,
   "metadata": {},
   "outputs": [
    {
     "data": {
      "text/plain": [
       "'Apple'"
      ]
     },
     "execution_count": 311,
     "metadata": {},
     "output_type": "execute_result"
    }
   ],
   "source": [
    "obj.brand"
   ]
  },
  {
   "cell_type": "code",
   "execution_count": 312,
   "metadata": {},
   "outputs": [
    {
     "data": {
      "text/plain": [
       "'Samsung'"
      ]
     },
     "execution_count": 312,
     "metadata": {},
     "output_type": "execute_result"
    }
   ],
   "source": [
    "obj.change_brand(\"Samsung\")\n",
    "obj.brand"
   ]
  },
  {
   "cell_type": "code",
   "execution_count": 314,
   "metadata": {},
   "outputs": [
    {
     "data": {
      "text/plain": [
       "'Samsung'"
      ]
     },
     "execution_count": 314,
     "metadata": {},
     "output_type": "execute_result"
    }
   ],
   "source": [
    "obj = SmartPhones(\"iphone\")\n",
    "obj.brand"
   ]
  },
  {
   "cell_type": "code",
   "execution_count": 315,
   "metadata": {},
   "outputs": [],
   "source": [
    "SmartPhones.change_brand(\"Samsung\")"
   ]
  },
  {
   "cell_type": "code",
   "execution_count": 316,
   "metadata": {},
   "outputs": [
    {
     "data": {
      "text/plain": [
       "'Samsung'"
      ]
     },
     "execution_count": 316,
     "metadata": {},
     "output_type": "execute_result"
    }
   ],
   "source": [
    "SmartPhones.brand"
   ]
  },
  {
   "cell_type": "code",
   "execution_count": 317,
   "metadata": {},
   "outputs": [],
   "source": [
    "class SmartPhones:\n",
    "    brand = \"Apple\"\n",
    "    \n",
    "    def __init__(self,model):\n",
    "        self.model = model\n",
    "    \n",
    "    @staticmethod\n",
    "    def change_brand(cls,new_brand):\n",
    "        cls.brand = new_brand"
   ]
  },
  {
   "cell_type": "code",
   "execution_count": 318,
   "metadata": {},
   "outputs": [
    {
     "ename": "TypeError",
     "evalue": "change_brand() missing 1 required positional argument: 'new_brand'",
     "output_type": "error",
     "traceback": [
      "\u001b[0;31m---------------------------------------------------------------------------\u001b[0m",
      "\u001b[0;31mTypeError\u001b[0m                                 Traceback (most recent call last)",
      "\u001b[0;32m<ipython-input-318-1a2ab9933501>\u001b[0m in \u001b[0;36m<module>\u001b[0;34m\u001b[0m\n\u001b[0;32m----> 1\u001b[0;31m \u001b[0mSmartPhones\u001b[0m\u001b[0;34m.\u001b[0m\u001b[0mchange_brand\u001b[0m\u001b[0;34m(\u001b[0m\u001b[0;34m\"Samsung\"\u001b[0m\u001b[0;34m)\u001b[0m\u001b[0;34m\u001b[0m\u001b[0;34m\u001b[0m\u001b[0m\n\u001b[0m",
      "\u001b[0;31mTypeError\u001b[0m: change_brand() missing 1 required positional argument: 'new_brand'"
     ]
    }
   ],
   "source": [
    "SmartPhones.change_brand(\"Samsung\")"
   ]
  },
  {
   "cell_type": "code",
   "execution_count": 321,
   "metadata": {},
   "outputs": [],
   "source": [
    "class SmartPhones:\n",
    "    brand = \"Apple\"\n",
    "    \n",
    "    def __init__(self,model):\n",
    "        self.model = model\n",
    "    \n",
    "    @classmethod\n",
    "    def change_brand(cls,new_brand):\n",
    "        cls.brand = new_brand\n",
    "    \n",
    "    @staticmethod\n",
    "    def screen_size(x):\n",
    "        hypo = (16**2 + 9**2)**(1/2)\n",
    "        e1 = (x/hypo) * 16\n",
    "        e2 = (x/hypo) * 9\n",
    "        return e1 * e2"
   ]
  },
  {
   "cell_type": "code",
   "execution_count": 322,
   "metadata": {},
   "outputs": [
    {
     "data": {
      "text/plain": [
       "61.531157270029674"
      ]
     },
     "execution_count": 322,
     "metadata": {},
     "output_type": "execute_result"
    }
   ],
   "source": [
    "SmartPhones.screen_size(12)"
   ]
  },
  {
   "cell_type": "code",
   "execution_count": 323,
   "metadata": {},
   "outputs": [
    {
     "data": {
      "text/plain": [
       "61.531157270029674"
      ]
     },
     "execution_count": 323,
     "metadata": {},
     "output_type": "execute_result"
    }
   ],
   "source": [
    "SmartPhones(\"iphone\").screen_size(12)"
   ]
  },
  {
   "cell_type": "code",
   "execution_count": 324,
   "metadata": {},
   "outputs": [
    {
     "data": {
      "text/plain": [
       "123.48961424332344"
      ]
     },
     "execution_count": 324,
     "metadata": {},
     "output_type": "execute_result"
    }
   ],
   "source": [
    "device = SmartPhones(\"iphone\")\n",
    "device.screen_size(17)"
   ]
  },
  {
   "cell_type": "markdown",
   "metadata": {},
   "source": [
    "### Inheritance\n",
    "\n",
    "We can group classes by their common features, into a **parent** class. We can create a new **child** class by taking the **parents'** features with the help of inheritance. Afterwards, we can add new features or change the existings ones.\n",
    "\n",
    "![](https://img-16.ccm2.net/_tbKjSTchfAOch80rBS73pJnS2s=/313x/506e368f623744669396580451bd6587/ccm-encyclopedia/poo-images-animaux.gif)\n",
    "\n",
    "![](https://upload.wikimedia.org/wikipedia/commons/thumb/d/d5/CPT-OOP-inheritance.svg/450px-CPT-OOP-inheritance.svg.png)\n",
    "\n",
    "![](https://www.edureka.co/blog/wp-content/uploads/2017/07/Types-of-Inheritance-1.jpg)"
   ]
  },
  {
   "cell_type": "code",
   "execution_count": 327,
   "metadata": {},
   "outputs": [],
   "source": [
    "class Employee():\n",
    "    def __init__(self,name,salary,department):\n",
    "        self.name = name\n",
    "        self.salary = salary\n",
    "        self.department = department\n",
    "        self.id = random.randint(10000,99999)\n",
    "        \n",
    "    def showinfo(self):\n",
    "        print(\"Name:\",self.name)\n",
    "        print(\"Id:\",self.id)\n",
    "        print(\"Salary:\",self.salary)\n",
    "        print(\"Department:\",self.department)\n",
    "        \n",
    "    def change_department(self,new_department):\n",
    "        self.department = new_department"
   ]
  },
  {
   "cell_type": "code",
   "execution_count": 328,
   "metadata": {},
   "outputs": [],
   "source": [
    "class Manager(Employee):\n",
    "    pass"
   ]
  },
  {
   "cell_type": "code",
   "execution_count": 329,
   "metadata": {},
   "outputs": [],
   "source": [
    "Manager1 = Manager(\"Dave Johnson\",12000,\"Human Resources\")"
   ]
  },
  {
   "cell_type": "code",
   "execution_count": 330,
   "metadata": {
    "scrolled": true
   },
   "outputs": [
    {
     "name": "stdout",
     "output_type": "stream",
     "text": [
      "Name: Dave Johnson\n",
      "Id: 23035\n",
      "Salary: 12000\n",
      "Department: Human Resources\n"
     ]
    }
   ],
   "source": [
    "Manager1.showinfo()"
   ]
  },
  {
   "cell_type": "code",
   "execution_count": 332,
   "metadata": {},
   "outputs": [],
   "source": [
    "Manager1.change_department(\"Finance\")"
   ]
  },
  {
   "cell_type": "code",
   "execution_count": 333,
   "metadata": {},
   "outputs": [
    {
     "name": "stdout",
     "output_type": "stream",
     "text": [
      "Name: Dave Johnson\n",
      "Id: 23035\n",
      "Salary: 12000\n",
      "Department: Finance\n"
     ]
    }
   ],
   "source": [
    "Manager1.showinfo()"
   ]
  },
  {
   "cell_type": "code",
   "execution_count": 334,
   "metadata": {},
   "outputs": [],
   "source": [
    "class Manager(Employee):\n",
    "    def give_raise(self,raise_amount):\n",
    "        self.salary += raise_amount\n",
    "    \n",
    "    def create_team(self,members):\n",
    "        self.members = members"
   ]
  },
  {
   "cell_type": "code",
   "execution_count": 335,
   "metadata": {},
   "outputs": [],
   "source": [
    "Manager2 = Manager(\"Rose Newman\",14000,\"IT\")"
   ]
  },
  {
   "cell_type": "code",
   "execution_count": 336,
   "metadata": {
    "scrolled": true
   },
   "outputs": [
    {
     "name": "stdout",
     "output_type": "stream",
     "text": [
      "Name: Rose Newman\n",
      "Id: 60112\n",
      "Salary: 14000\n",
      "Department: IT\n"
     ]
    }
   ],
   "source": [
    "Manager2.showinfo()"
   ]
  },
  {
   "cell_type": "code",
   "execution_count": 337,
   "metadata": {},
   "outputs": [],
   "source": [
    "Manager2.give_raise(2000)"
   ]
  },
  {
   "cell_type": "code",
   "execution_count": 338,
   "metadata": {},
   "outputs": [
    {
     "name": "stdout",
     "output_type": "stream",
     "text": [
      "Name: Rose Newman\n",
      "Id: 60112\n",
      "Salary: 16000\n",
      "Department: IT\n"
     ]
    }
   ],
   "source": [
    "Manager2.showinfo()"
   ]
  },
  {
   "cell_type": "code",
   "execution_count": 341,
   "metadata": {},
   "outputs": [],
   "source": [
    "e1 = Employee(\"Dennis Ritchie\",5000,\"IT\")\n",
    "e2 = Employee(\"Guido van Rossum\",5000,\"IT\")\n",
    "e3 = Employee(\"Richard Stallman\",5000,\"IT\")\n",
    "e4 = Employee(\"Linus Torvalds\",5000,\"IT\")\n",
    "\n",
    "Manager2.create_team([e1,e2,e3,e4])"
   ]
  },
  {
   "cell_type": "code",
   "execution_count": 342,
   "metadata": {},
   "outputs": [
    {
     "data": {
      "text/plain": [
       "[<__main__.Employee at 0x7fe8c8753b00>,\n",
       " <__main__.Employee at 0x7fe8c8753b70>,\n",
       " <__main__.Employee at 0x7fe8c87539e8>,\n",
       " <__main__.Employee at 0x7fe8c8753a90>]"
      ]
     },
     "execution_count": 342,
     "metadata": {},
     "output_type": "execute_result"
    }
   ],
   "source": [
    "Manager2.members"
   ]
  },
  {
   "cell_type": "code",
   "execution_count": 344,
   "metadata": {},
   "outputs": [],
   "source": [
    "class Vehicle(object):\n",
    "    def __init__(self,topspeed,weight):\n",
    "        self.topspeed = topspeed\n",
    "        self.weight = weight\n",
    "    \n",
    "    def method1(self):\n",
    "        pass\n",
    "\n",
    "class Land(Vehicle):\n",
    "    def __init__(self,wheels,axles,*args,**kwargs):\n",
    "        self.wheels = wheels\n",
    "        self.axles = axles\n",
    "        super().__init__(*args,**kwargs)\n",
    "\n",
    "class Commercial(Vehicle):\n",
    "    def __init__(self,reduced_tax=True,*args,**kwargs):\n",
    "        super().__init__(*args,**kwargs)\n",
    "\n",
    "class Pickup(Land,Commercial):\n",
    "    def __init__(self,load_capacity,towing_capacity,*args,**kwargs):\n",
    "        self.load_capacity = load_capacity\n",
    "        self.towing_capacity = towing_capacity\n",
    "        super().__init__(*args,**kwargs)"
   ]
  },
  {
   "cell_type": "code",
   "execution_count": 347,
   "metadata": {},
   "outputs": [
    {
     "data": {
      "text/plain": [
       "<__main__.Pickup at 0x7fe8c8753fd0>"
      ]
     },
     "execution_count": 347,
     "metadata": {},
     "output_type": "execute_result"
    }
   ],
   "source": [
    "myvehicle = Pickup(topspeed=120,weight=2.5,wheels=4,axles=2,load_capacity=1.2,towing_capacity=3)\n",
    "myvehicle"
   ]
  },
  {
   "cell_type": "code",
   "execution_count": 348,
   "metadata": {},
   "outputs": [
    {
     "data": {
      "text/plain": [
       "1.2"
      ]
     },
     "execution_count": 348,
     "metadata": {},
     "output_type": "execute_result"
    }
   ],
   "source": [
    "myvehicle.load_capacity"
   ]
  },
  {
   "cell_type": "code",
   "execution_count": 349,
   "metadata": {},
   "outputs": [
    {
     "data": {
      "text/plain": [
       "120"
      ]
     },
     "execution_count": 349,
     "metadata": {},
     "output_type": "execute_result"
    }
   ],
   "source": [
    "myvehicle.topspeed"
   ]
  },
  {
   "cell_type": "markdown",
   "metadata": {},
   "source": [
    "## Example Project"
   ]
  },
  {
   "cell_type": "code",
   "execution_count": 350,
   "metadata": {},
   "outputs": [],
   "source": [
    "class RockPaperScissors:\n",
    "    def __init__(self,name,n_games):\n",
    "        self.name = name\n",
    "        self.n_games = n_games\n",
    "        self.n_played = 0\n",
    "        self.n_win = 0\n",
    "        self.n_loss = 0\n",
    "        self.n_draw = 0\n",
    "        self.objects = [\"Rock\",\"Scissors\",\"Paper\"]\n",
    "    \n",
    "    def shake(self):\n",
    "        out = random.choice(self.objects)\n",
    "        print(out)\n",
    "        return out\n",
    "    \n",
    "    def compare(self,a,b):\n",
    "        if a != b:\n",
    "            if a == \"Rock\" and b == \"Scissors\":\n",
    "                return True\n",
    "            elif a == \"Scissors\" and b == \"Paper\":\n",
    "                return True\n",
    "            elif a == \"Paper\" and b == \"Rock\":\n",
    "                return True\n",
    "            else:\n",
    "                return False\n",
    "        else:\n",
    "            return None\n",
    "    \n",
    "    def check_winner(self):\n",
    "        if self.n_played >= self.n_games:\n",
    "            print(\"Game has ended.\")\n",
    "            if self.n_win > self.n_loss:\n",
    "                print(self.name,\"has won!\")\n",
    "            elif self.n_win == self.n_loss:\n",
    "                print(\"Draw!\")\n",
    "            else:\n",
    "                print(self.name,\"has lost!\")\n",
    "\n",
    "    def __mul__(self,other):\n",
    "        r1 = self.shake()\n",
    "        r2 = other.shake()\n",
    "        left_win = self.compare(r1,r2)\n",
    "        \n",
    "        if left_win is not None:\n",
    "            if left_win:\n",
    "                self.n_win += 1\n",
    "            else:\n",
    "                self.n_loss += 1\n",
    "        else:\n",
    "            self.n_draw += 1\n",
    "            \n",
    "        self.n_played += 1\n",
    "        self.check_winner()\n",
    "                \n",
    "        return left_win"
   ]
  },
  {
   "cell_type": "code",
   "execution_count": 361,
   "metadata": {},
   "outputs": [],
   "source": [
    "player1 = RockPaperScissors(\"Jimmy\",5)\n",
    "player2 = RockPaperScissors(\"Taylor\",5)"
   ]
  },
  {
   "cell_type": "code",
   "execution_count": 367,
   "metadata": {},
   "outputs": [
    {
     "name": "stdout",
     "output_type": "stream",
     "text": [
      "Rock\n",
      "Paper\n",
      "Game has ended.\n",
      "Draw!\n"
     ]
    },
    {
     "data": {
      "text/plain": [
       "False"
      ]
     },
     "execution_count": 367,
     "metadata": {},
     "output_type": "execute_result"
    }
   ],
   "source": [
    "player1 * player2"
   ]
  },
  {
   "cell_type": "code",
   "execution_count": 368,
   "metadata": {},
   "outputs": [
    {
     "name": "stdout",
     "output_type": "stream",
     "text": [
      "Round 1\n",
      "Paper\n",
      "Rock\n",
      "\n",
      "Round 2\n",
      "Paper\n",
      "Scissors\n",
      "\n",
      "Round 3\n",
      "Scissors\n",
      "Scissors\n",
      "\n",
      "Round 4\n",
      "Paper\n",
      "Paper\n",
      "\n",
      "Round 5\n",
      "Rock\n",
      "Rock\n",
      "\n",
      "Round 6\n",
      "Rock\n",
      "Paper\n",
      "\n",
      "Round 7\n",
      "Scissors\n",
      "Scissors\n",
      "Game has ended.\n",
      "Jimmy has lost!\n",
      "\n"
     ]
    }
   ],
   "source": [
    "n = 7\n",
    "player1 = RockPaperScissors(\"Jimmy\",n)\n",
    "player2 = RockPaperScissors(\"Taylor\",n)\n",
    "\n",
    "for i in range(n):\n",
    "    print(\"Round\",i + 1)\n",
    "    player1 * player2\n",
    "    print()"
   ]
  },
  {
   "cell_type": "markdown",
   "metadata": {},
   "source": [
    "## Project\n",
    "\n",
    "**Design a class from scratch, or convert one of the projects in the following list to object-oriented form. Do not hesitate to copy/paste open source code, take advantage of them if you need.**\n",
    "\n",
    "https://github.com/kyclark/tiny_python_projects\n",
    "\n",
    "https://github.com/Python-World/python-mini-projects/tree/master/projects\n",
    "\n",
    "https://github.com/rlvaugh/Impractical_Python_Projects\n",
    "\n",
    "**You can also diversify your project with following random apis:**\n",
    "\n",
    "https://random-data-api.com/\n",
    "\n",
    "https://jsonplaceholder.typicode.com/users\n",
    "\n",
    "you can find more api endpoints [here](https://www.programmableweb.com/category/random/api)."
   ]
  },
  {
   "cell_type": "markdown",
   "metadata": {},
   "source": [
    "## Prerequisite to Next Week: `numpy`\n",
    "\n",
    "Be sure to install numpy using `pip`, or `conda`.\n",
    "\n",
    "* `$pip install numpy`\n",
    "\n",
    "or\n",
    "\n",
    "\n",
    "* `$conda install numpy`\n",
    "\n",
    "or use Anaconda Navigator to install numpy module."
   ]
  },
  {
   "cell_type": "markdown",
   "metadata": {},
   "source": [
    "## References\n",
    "\n",
    "https://docs.python.org/3/library/\n",
    "\n",
    "https://docs.python.org/3/reference/import.html\n",
    "\n",
    "https://www.educative.io/blog/object-oriented-programming\n",
    "\n",
    "https://docs.oracle.com/javase/tutorial/java/concepts/index.html\n",
    "\n",
    "https://www.edureka.co/blog/self-in-python/\n",
    "\n",
    "https://www.python.org/dev/peps/pep-0008/\n",
    "\n",
    "https://docs.python.org/3/tutorial/classes.html#private-variables\n",
    "\n",
    "https://www.programiz.com/python-programming/closure\n",
    "\n",
    "https://www.programiz.com/python-programming/methods/built-in/staticmethod#:~:text=Static%20methods%2C%20much%20like%20class,the%20state%20of%20the%20object."
   ]
  },
  {
   "cell_type": "code",
   "execution_count": null,
   "metadata": {},
   "outputs": [],
   "source": []
  }
 ],
 "metadata": {
  "kernelspec": {
   "display_name": "Python 3",
   "language": "python",
   "name": "python3"
  },
  "language_info": {
   "codemirror_mode": {
    "name": "ipython",
    "version": 3
   },
   "file_extension": ".py",
   "mimetype": "text/x-python",
   "name": "python",
   "nbconvert_exporter": "python",
   "pygments_lexer": "ipython3",
   "version": "3.6.9"
  }
 },
 "nbformat": 4,
 "nbformat_minor": 4
}
