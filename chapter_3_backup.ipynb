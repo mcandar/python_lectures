{
 "cells": [
  {
   "cell_type": "markdown",
   "metadata": {},
   "source": [
    "# Chapter 3\n",
    "\n",
    "We will explain two of the important aspects of python programming. Using these tools and know-how, one could design better algorithms.\n",
    "\n",
    "## Learning Goals\n",
    "\n",
    "- Standard Library\n",
    "- Introduction to Object-oriented programming\n",
    "\n",
    "## Authors\n",
    "\n",
    "* Mert Candar\n",
    "* Aras Kahraman"
   ]
  },
  {
   "cell_type": "markdown",
   "metadata": {},
   "source": [
    "## Section 1: Standard Library\n",
    "\n",
    "A **module** in python is a systematic collection and organization of code blocks, namely, *the definitons and declarations* in order to perform a series of tasks about a domain, topic or problem. A module is usually composed of python scripts, text files, configuration files and folders. Structuring a module usually aims simplicity and efficiency of usage, and development.\n",
    "\n",
    "We can denote several highly important advantages of using modules:\n",
    "\n",
    "* Computation efficiency\n",
    "* Clean code\n",
    "* Higher level of abstraction\n",
    "\n",
    "Thus, modules are almost a must-have tool for a python coder.\n",
    "\n",
    "**Standard library** consists of a number of python modules that comes with python by default. To list some of those:\n",
    "\n",
    "* math\n",
    "* random\n",
    "* statistics\n",
    "* datetime\n",
    "* collections\n",
    "* itertools\n",
    "* functools\n",
    "* pickle\n",
    "* csv\n",
    "* json\n",
    "* time\n",
    "* re\n",
    "\n",
    "Find the full list [here](https://docs.python.org/3/library/)\n",
    "\n",
    "### `import` command\n",
    "\n",
    "We use `import` command to connect module to our script. Simply, `import` searches for the specified module and loads its content to memory. Thus, all of the imported objects of module are made available for usage.\n",
    "\n",
    "We can import:\n",
    "\n",
    "* modules\n",
    "* scripts\n",
    "* variables, functions and classes, simply any object, (of a script)\n",
    "\n",
    "There are several ways of import"
   ]
  },
  {
   "cell_type": "code",
   "execution_count": null,
   "metadata": {},
   "outputs": [],
   "source": [
    "import math\n",
    "\n",
    "math.sin(math.pi)"
   ]
  },
  {
   "cell_type": "code",
   "execution_count": null,
   "metadata": {},
   "outputs": [],
   "source": [
    "import math as mt\n",
    "\n",
    "mt.sin(math.pi)"
   ]
  },
  {
   "cell_type": "code",
   "execution_count": null,
   "metadata": {},
   "outputs": [],
   "source": [
    "from math import sin, pi\n",
    "\n",
    "sin(pi)"
   ]
  },
  {
   "cell_type": "code",
   "execution_count": null,
   "metadata": {},
   "outputs": [],
   "source": [
    "# not recommended\n",
    "from math import *\n",
    "\n",
    "sin(pi)"
   ]
  },
  {
   "cell_type": "markdown",
   "metadata": {},
   "source": [
    "### Modules"
   ]
  },
  {
   "cell_type": "code",
   "execution_count": null,
   "metadata": {
    "scrolled": true
   },
   "outputs": [],
   "source": [
    "import math"
   ]
  },
  {
   "cell_type": "code",
   "execution_count": null,
   "metadata": {},
   "outputs": [],
   "source": [
    "pi = math.pi\n",
    "print(math.sin(pi/2))\n",
    "print(math.cos(pi))"
   ]
  },
  {
   "cell_type": "code",
   "execution_count": null,
   "metadata": {},
   "outputs": [],
   "source": [
    "print(math.asin(1))\n",
    "print(math.acos(-1))"
   ]
  },
  {
   "cell_type": "code",
   "execution_count": null,
   "metadata": {
    "scrolled": true
   },
   "outputs": [],
   "source": [
    "print(math.ceil(3.5))\n",
    "print(math.ceil(-2.3))"
   ]
  },
  {
   "cell_type": "code",
   "execution_count": null,
   "metadata": {},
   "outputs": [],
   "source": [
    "print(math.floor(3.5))\n",
    "print(math.floor(-2.3))"
   ]
  },
  {
   "cell_type": "code",
   "execution_count": null,
   "metadata": {},
   "outputs": [],
   "source": [
    "math.log(20)"
   ]
  },
  {
   "cell_type": "code",
   "execution_count": null,
   "metadata": {},
   "outputs": [],
   "source": [
    "math.log(math.e)"
   ]
  },
  {
   "cell_type": "code",
   "execution_count": null,
   "metadata": {},
   "outputs": [],
   "source": [
    "math.log10(10)"
   ]
  },
  {
   "cell_type": "code",
   "execution_count": null,
   "metadata": {},
   "outputs": [],
   "source": [
    "math.log10(1e6)"
   ]
  },
  {
   "cell_type": "code",
   "execution_count": null,
   "metadata": {},
   "outputs": [],
   "source": [
    "math.log(8,2)"
   ]
  },
  {
   "cell_type": "code",
   "execution_count": null,
   "metadata": {},
   "outputs": [],
   "source": [
    "math.factorial(5)"
   ]
  },
  {
   "cell_type": "code",
   "execution_count": null,
   "metadata": {},
   "outputs": [],
   "source": [
    "math.factorial(5.12)"
   ]
  },
  {
   "cell_type": "code",
   "execution_count": null,
   "metadata": {
    "scrolled": true
   },
   "outputs": [],
   "source": [
    "math.gamma(6)"
   ]
  },
  {
   "cell_type": "code",
   "execution_count": null,
   "metadata": {},
   "outputs": [],
   "source": [
    "math.gamma(6.12)"
   ]
  },
  {
   "cell_type": "code",
   "execution_count": null,
   "metadata": {},
   "outputs": [],
   "source": [
    "math.inf"
   ]
  },
  {
   "cell_type": "code",
   "execution_count": null,
   "metadata": {},
   "outputs": [],
   "source": [
    "math.log10(math.inf)"
   ]
  },
  {
   "cell_type": "code",
   "execution_count": null,
   "metadata": {},
   "outputs": [],
   "source": [
    "math.nan"
   ]
  },
  {
   "cell_type": "code",
   "execution_count": null,
   "metadata": {},
   "outputs": [],
   "source": [
    "math.log10(math.nan)"
   ]
  },
  {
   "cell_type": "code",
   "execution_count": 17,
   "metadata": {
    "scrolled": true
   },
   "outputs": [],
   "source": [
    "import random"
   ]
  },
  {
   "cell_type": "code",
   "execution_count": 18,
   "metadata": {},
   "outputs": [
    {
     "name": "stdout",
     "output_type": "stream",
     "text": [
      "101.66577171698079\n"
     ]
    }
   ],
   "source": [
    "mu = 100\n",
    "sigma = 20\n",
    "\n",
    "print(random.gauss(mu, sigma))"
   ]
  },
  {
   "cell_type": "code",
   "execution_count": 19,
   "metadata": {},
   "outputs": [
    {
     "name": "stdout",
     "output_type": "stream",
     "text": [
      "Changed list :  [8, 664, 22, 44]\n"
     ]
    }
   ],
   "source": [
    "lst = [8, 22, 44, 664]\n",
    "\n",
    "random.shuffle(lst)\n",
    "\n",
    "print(\"Changed list : \",  lst)"
   ]
  },
  {
   "cell_type": "code",
   "execution_count": 20,
   "metadata": {},
   "outputs": [
    {
     "data": {
      "text/plain": [
       "'Jane'"
      ]
     },
     "execution_count": 20,
     "metadata": {},
     "output_type": "execute_result"
    }
   ],
   "source": [
    "lst = ['Dave', 'Oliver', 'Jane', 'Kirk', 'Samantha']\n",
    "random.choice(lst)"
   ]
  },
  {
   "cell_type": "code",
   "execution_count": 21,
   "metadata": {},
   "outputs": [
    {
     "data": {
      "text/plain": [
       "['Kirk', 'Jane']"
      ]
     },
     "execution_count": 21,
     "metadata": {},
     "output_type": "execute_result"
    }
   ],
   "source": [
    "random.sample(lst,2)"
   ]
  },
  {
   "cell_type": "code",
   "execution_count": 22,
   "metadata": {},
   "outputs": [
    {
     "data": {
      "text/plain": [
       "345"
      ]
     },
     "execution_count": 22,
     "metadata": {},
     "output_type": "execute_result"
    }
   ],
   "source": [
    "random.randint(45, 500)"
   ]
  },
  {
   "cell_type": "code",
   "execution_count": 23,
   "metadata": {},
   "outputs": [
    {
     "data": {
      "text/plain": [
       "90.19037159528187"
      ]
     },
     "execution_count": 23,
     "metadata": {},
     "output_type": "execute_result"
    }
   ],
   "source": [
    "random.uniform(5,100)"
   ]
  },
  {
   "cell_type": "code",
   "execution_count": 24,
   "metadata": {},
   "outputs": [
    {
     "data": {
      "text/plain": [
       "0.8390070832602652"
      ]
     },
     "execution_count": 24,
     "metadata": {},
     "output_type": "execute_result"
    }
   ],
   "source": [
    "random.uniform(0.5, 1.5)"
   ]
  },
  {
   "cell_type": "code",
   "execution_count": 25,
   "metadata": {},
   "outputs": [],
   "source": [
    "def rand_list(n,distribution=\"uniform\",*args,**kwargs):\n",
    "    \"\"\"\n",
    "    Generate random number series.\n",
    "    \"\"\"\n",
    "    fun = getattr(random,distribution)\n",
    "    map_fun = lambda x: fun(*args,**kwargs)\n",
    "    return list(map(map_fun,range(n)))"
   ]
  },
  {
   "cell_type": "code",
   "execution_count": 26,
   "metadata": {},
   "outputs": [
    {
     "data": {
      "text/plain": [
       "[-0.01356235928728976,\n",
       " 0.020183860362437127,\n",
       " 0.8575130176198853,\n",
       " -0.29861549178745556,\n",
       " 0.05468516503921645,\n",
       " 1.1029744502860144,\n",
       " -0.6377271863846007,\n",
       " 1.2218212990439359,\n",
       " 1.0325285274127378,\n",
       " -0.709143256970142]"
      ]
     },
     "execution_count": 26,
     "metadata": {},
     "output_type": "execute_result"
    }
   ],
   "source": [
    "rand_list(10,\"gauss\",0,1)"
   ]
  },
  {
   "cell_type": "code",
   "execution_count": 62,
   "metadata": {},
   "outputs": [
    {
     "data": {
      "text/plain": [
       "[1.2926736236874665,\n",
       " -1.4932495288786127,\n",
       " -0.16015703153145852,\n",
       " -0.12627737606586448,\n",
       " 0.5997218170905811,\n",
       " 0.2362868789384976,\n",
       " 0.30726858618540254,\n",
       " 0.023490195737035473,\n",
       " -0.9408589964485476,\n",
       " 0.1162129959333249]"
      ]
     },
     "execution_count": 62,
     "metadata": {},
     "output_type": "execute_result"
    }
   ],
   "source": [
    "# is the same with...\n",
    "[random.gauss(0,1) for _ in range(10)]"
   ]
  },
  {
   "cell_type": "code",
   "execution_count": null,
   "metadata": {},
   "outputs": [],
   "source": [
    "rand_list(10,\"uniform\",0,10)"
   ]
  },
  {
   "cell_type": "code",
   "execution_count": null,
   "metadata": {},
   "outputs": [],
   "source": [
    "rand_list(10,\"randint\",0,10)"
   ]
  },
  {
   "cell_type": "code",
   "execution_count": null,
   "metadata": {},
   "outputs": [],
   "source": [
    "def count_interval(x,l,u):\n",
    "    \"\"\"\n",
    "    Count the number of samples in specified interval.\n",
    "    \"\"\"\n",
    "    return sum(map(lambda e: e >= l and e <= u,x))\n",
    "    \n",
    "def histogram(x,bins=20):\n",
    "    l, u = min(x), max(x)\n",
    "    h = (u - l)/bins\n",
    "    breaks = [l+h*i for i in range(bins+1)]\n",
    "    count_consecutive = lambda i: count_interval(x,breaks[i],breaks[i+1])\n",
    "    return list(map(count_consecutive,range(20))), breaks\n",
    "\n",
    "def plot(x,max_char=50,*args,**kwargs):\n",
    "    counts, breaks = histogram(x,*args,**kwargs)\n",
    "    u = max(counts)/max_char\n",
    "    for c, b in zip(counts,breaks):\n",
    "        s = int(c/u)\n",
    "        print(str(round(b,2)).ljust(5),\"|\",s*\"#\")"
   ]
  },
  {
   "cell_type": "code",
   "execution_count": 319,
   "metadata": {},
   "outputs": [
    {
     "name": "stdout",
     "output_type": "stream",
     "text": [
      "0.0   | ##############################################\n",
      "0.05  | ########################################\n",
      "0.1   | #########################################\n",
      "0.15  | ######################################\n",
      "0.2   | ###########################################\n",
      "0.25  | ##########################################\n",
      "0.3   | #######################################\n",
      "0.35  | ############################################\n",
      "0.4   | ####################################\n",
      "0.45  | ############################################\n",
      "0.5   | #######################################\n",
      "0.55  | #############################################\n",
      "0.6   | ##############################################\n",
      "0.65  | #############################################\n",
      "0.7   | ###############################################\n",
      "0.75  | ###########################################\n",
      "0.8   | ############################################\n",
      "0.85  | ##################################################\n",
      "0.9   | #########################################\n",
      "0.95  | ############################################\n"
     ]
    }
   ],
   "source": [
    "data = rand_list(5000,\"uniform\",0,1)\n",
    "plot(data)"
   ]
  },
  {
   "cell_type": "code",
   "execution_count": 320,
   "metadata": {},
   "outputs": [
    {
     "name": "stdout",
     "output_type": "stream",
     "text": [
      "-3.62 | \n",
      "-3.26 | \n",
      "-2.89 | \n",
      "-2.53 | ###\n",
      "-2.17 | ######\n",
      "-1.81 | ###########\n",
      "-1.45 | ###################\n",
      "-1.09 | ################################\n",
      "-0.73 | ########################################\n",
      "-0.36 | #############################################\n",
      "-0.0  | ##################################################\n",
      "0.36  | ########################################\n",
      "0.72  | ###############################\n",
      "1.08  | #####################\n",
      "1.44  | ###########\n",
      "1.81  | #######\n",
      "2.17  | ###\n",
      "2.53  | #\n",
      "2.89  | \n",
      "3.25  | \n"
     ]
    }
   ],
   "source": [
    "data = rand_list(5000,\"gauss\",0,1)\n",
    "plot(data)"
   ]
  },
  {
   "cell_type": "code",
   "execution_count": 321,
   "metadata": {},
   "outputs": [
    {
     "name": "stdout",
     "output_type": "stream",
     "text": [
      "0.23  | #######\n",
      "0.51  | #########################################\n",
      "0.79  | ##################################################\n",
      "1.07  | ####################################\n",
      "1.35  | ###################\n",
      "1.64  | ##########\n",
      "1.92  | ####\n",
      "2.2   | ###\n",
      "2.48  | \n",
      "2.76  | \n",
      "3.04  | \n",
      "3.32  | \n",
      "3.6   | \n",
      "3.88  | \n",
      "4.17  | \n",
      "4.45  | \n",
      "4.73  | \n",
      "5.01  | \n",
      "5.29  | \n",
      "5.57  | \n"
     ]
    }
   ],
   "source": [
    "data = rand_list(5000,\"lognormvariate\",0,0.4)\n",
    "plot(data)"
   ]
  },
  {
   "cell_type": "code",
   "execution_count": 322,
   "metadata": {},
   "outputs": [
    {
     "name": "stdout",
     "output_type": "stream",
     "text": [
      "0.0   | ##################################################\n",
      "2.68  | ##############################\n",
      "5.35  | #################\n",
      "8.03  | #########\n",
      "10.7  | ######\n",
      "13.38 | ###\n",
      "16.05 | ##\n",
      "18.73 | #\n",
      "21.4  | \n",
      "24.08 | \n",
      "26.75 | \n",
      "29.43 | \n",
      "32.11 | \n",
      "34.78 | \n",
      "37.46 | \n",
      "40.13 | \n",
      "42.81 | \n",
      "45.48 | \n",
      "48.16 | \n",
      "50.83 | \n"
     ]
    }
   ],
   "source": [
    "data = rand_list(5000,\"gammavariate\",1,5)\n",
    "plot(data)"
   ]
  },
  {
   "cell_type": "code",
   "execution_count": 323,
   "metadata": {},
   "outputs": [
    {
     "name": "stdout",
     "output_type": "stream",
     "text": [
      "0.03  | \n",
      "0.04  | \n",
      "0.04  | \n",
      "0.05  | \n",
      "0.05  | ##\n",
      "0.06  | ###\n",
      "0.06  | #####\n",
      "0.07  | ########\n",
      "0.07  | #############\n",
      "0.08  | ####################\n",
      "0.08  | ############################\n",
      "0.09  | #####################################\n",
      "0.09  | ##########################################\n",
      "0.1   | ##################################################\n",
      "0.1   | ########################################\n",
      "0.11  | ##################################\n",
      "0.11  | ###################\n",
      "0.12  | ########\n",
      "0.12  | ##\n",
      "0.13  | \n"
     ]
    }
   ],
   "source": [
    "data = rand_list(5000,\"weibullvariate\",0.1,8)\n",
    "plot(data)"
   ]
  },
  {
   "cell_type": "code",
   "execution_count": 324,
   "metadata": {},
   "outputs": [
    {
     "data": {
      "text/plain": [
       "[1.2592801715398216,\n",
       " 2.0036897968158534,\n",
       " 11.556131407537318,\n",
       " 5.2068538162163955,\n",
       " 3.7974206652551423,\n",
       " 3.1303992215718237,\n",
       " 0.10964822833057329,\n",
       " 10.188989977535375,\n",
       " 1.993116819810311,\n",
       " 5.049856731431943]"
      ]
     },
     "execution_count": 324,
     "metadata": {},
     "output_type": "execute_result"
    }
   ],
   "source": [
    "random.seed(1000)\n",
    "rand_list(10,\"gammavariate\",1,5)"
   ]
  },
  {
   "cell_type": "code",
   "execution_count": 325,
   "metadata": {},
   "outputs": [
    {
     "data": {
      "text/plain": [
       "[1.2592801715398216,\n",
       " 2.0036897968158534,\n",
       " 11.556131407537318,\n",
       " 5.2068538162163955,\n",
       " 3.7974206652551423,\n",
       " 3.1303992215718237,\n",
       " 0.10964822833057329,\n",
       " 10.188989977535375,\n",
       " 1.993116819810311,\n",
       " 5.049856731431943]"
      ]
     },
     "execution_count": 325,
     "metadata": {},
     "output_type": "execute_result"
    }
   ],
   "source": [
    "random.seed(1000)\n",
    "rand_list(10,\"gammavariate\",1,5)"
   ]
  },
  {
   "cell_type": "code",
   "execution_count": 326,
   "metadata": {},
   "outputs": [],
   "source": [
    "import statistics as ss"
   ]
  },
  {
   "cell_type": "code",
   "execution_count": 332,
   "metadata": {},
   "outputs": [
    {
     "name": "stdout",
     "output_type": "stream",
     "text": [
      "5.990572403553227\n"
     ]
    }
   ],
   "source": [
    "data = rand_list(20,\"gauss\",7,3)\n",
    "\n",
    "x = ss.mean(data)\n",
    "print(x)"
   ]
  },
  {
   "cell_type": "code",
   "execution_count": 333,
   "metadata": {},
   "outputs": [
    {
     "data": {
      "text/plain": [
       "7.126507534558333"
      ]
     },
     "execution_count": 333,
     "metadata": {},
     "output_type": "execute_result"
    }
   ],
   "source": [
    "random.seed(123)\n",
    "data = rand_list(1000,\"gauss\",7,3)\n",
    "\n",
    "ss.mean(data)"
   ]
  },
  {
   "cell_type": "code",
   "execution_count": 335,
   "metadata": {},
   "outputs": [
    {
     "data": {
      "text/plain": [
       "7.240378633116992"
      ]
     },
     "execution_count": 335,
     "metadata": {},
     "output_type": "execute_result"
    }
   ],
   "source": [
    "ss.median(data)"
   ]
  },
  {
   "cell_type": "code",
   "execution_count": 336,
   "metadata": {},
   "outputs": [
    {
     "data": {
      "text/plain": [
       "8"
      ]
     },
     "execution_count": 336,
     "metadata": {},
     "output_type": "execute_result"
    }
   ],
   "source": [
    "ss.median([7, 8, 9])"
   ]
  },
  {
   "cell_type": "code",
   "execution_count": 337,
   "metadata": {},
   "outputs": [
    {
     "data": {
      "text/plain": [
       "8.5"
      ]
     },
     "execution_count": 337,
     "metadata": {},
     "output_type": "execute_result"
    }
   ],
   "source": [
    "ss.median([7, 8, 9, 15])"
   ]
  },
  {
   "cell_type": "code",
   "execution_count": 338,
   "metadata": {},
   "outputs": [
    {
     "data": {
      "text/plain": [
       "5"
      ]
     },
     "execution_count": 338,
     "metadata": {},
     "output_type": "execute_result"
    }
   ],
   "source": [
    "ss.median_low([1, 5, 7, 9])"
   ]
  },
  {
   "cell_type": "code",
   "execution_count": 339,
   "metadata": {},
   "outputs": [
    {
     "data": {
      "text/plain": [
       "7"
      ]
     },
     "execution_count": 339,
     "metadata": {},
     "output_type": "execute_result"
    }
   ],
   "source": [
    "ss.median_high([1, 5, 7, 9])"
   ]
  },
  {
   "cell_type": "code",
   "execution_count": 340,
   "metadata": {
    "scrolled": false
   },
   "outputs": [
    {
     "data": {
      "text/plain": [
       "2.9903723915317406"
      ]
     },
     "execution_count": 340,
     "metadata": {},
     "output_type": "execute_result"
    }
   ],
   "source": [
    "ss.stdev(data)"
   ]
  },
  {
   "cell_type": "code",
   "execution_count": 341,
   "metadata": {},
   "outputs": [
    {
     "data": {
      "text/plain": [
       "8.942327040035263"
      ]
     },
     "execution_count": 341,
     "metadata": {},
     "output_type": "execute_result"
    }
   ],
   "source": [
    "ss.variance(data)"
   ]
  },
  {
   "cell_type": "code",
   "execution_count": 342,
   "metadata": {},
   "outputs": [
    {
     "ename": "StatisticsError",
     "evalue": "no unique mode; found 1000 equally common values",
     "output_type": "error",
     "traceback": [
      "\u001b[0;31m---------------------------------------------------------------------------\u001b[0m",
      "\u001b[0;31mStatisticsError\u001b[0m                           Traceback (most recent call last)",
      "\u001b[0;32m<ipython-input-342-b9fa88eaa997>\u001b[0m in \u001b[0;36m<module>\u001b[0;34m\u001b[0m\n\u001b[0;32m----> 1\u001b[0;31m \u001b[0mss\u001b[0m\u001b[0;34m.\u001b[0m\u001b[0mmode\u001b[0m\u001b[0;34m(\u001b[0m\u001b[0mdata\u001b[0m\u001b[0;34m)\u001b[0m \u001b[0;31m# <------------------------------- MERT\u001b[0m\u001b[0;34m\u001b[0m\u001b[0;34m\u001b[0m\u001b[0m\n\u001b[0m",
      "\u001b[0;32m/usr/lib/python3.6/statistics.py\u001b[0m in \u001b[0;36mmode\u001b[0;34m(data)\u001b[0m\n\u001b[1;32m    505\u001b[0m     \u001b[0;32melif\u001b[0m \u001b[0mtable\u001b[0m\u001b[0;34m:\u001b[0m\u001b[0;34m\u001b[0m\u001b[0;34m\u001b[0m\u001b[0m\n\u001b[1;32m    506\u001b[0m         raise StatisticsError(\n\u001b[0;32m--> 507\u001b[0;31m                 \u001b[0;34m'no unique mode; found %d equally common values'\u001b[0m \u001b[0;34m%\u001b[0m \u001b[0mlen\u001b[0m\u001b[0;34m(\u001b[0m\u001b[0mtable\u001b[0m\u001b[0;34m)\u001b[0m\u001b[0;34m\u001b[0m\u001b[0;34m\u001b[0m\u001b[0m\n\u001b[0m\u001b[1;32m    508\u001b[0m                 )\n\u001b[1;32m    509\u001b[0m     \u001b[0;32melse\u001b[0m\u001b[0;34m:\u001b[0m\u001b[0;34m\u001b[0m\u001b[0;34m\u001b[0m\u001b[0m\n",
      "\u001b[0;31mStatisticsError\u001b[0m: no unique mode; found 1000 equally common values"
     ]
    }
   ],
   "source": [
    "ss.mode(data)"
   ]
  },
  {
   "cell_type": "code",
   "execution_count": 350,
   "metadata": {},
   "outputs": [
    {
     "data": {
      "text/plain": [
       "[8,\n",
       " 7,\n",
       " 5,\n",
       " 7,\n",
       " 7,\n",
       " 6,\n",
       " 4,\n",
       " 6,\n",
       " 8,\n",
       " 5,\n",
       " 5,\n",
       " 9,\n",
       " 7,\n",
       " 7,\n",
       " 5,\n",
       " 7,\n",
       " 6,\n",
       " 6,\n",
       " 5,\n",
       " 9,\n",
       " 8,\n",
       " 6,\n",
       " 10,\n",
       " 11,\n",
       " 13,\n",
       " 7,\n",
       " 4,\n",
       " 5,\n",
       " 9,\n",
       " 2,\n",
       " 4,\n",
       " 11,\n",
       " 8,\n",
       " 10,\n",
       " 1,\n",
       " 6,\n",
       " 5,\n",
       " 9,\n",
       " 7,\n",
       " 3,\n",
       " 5,\n",
       " 3,\n",
       " 3,\n",
       " 1,\n",
       " 2,\n",
       " 7,\n",
       " 6,\n",
       " 7,\n",
       " 7,\n",
       " 5,\n",
       " 9,\n",
       " 0,\n",
       " 5,\n",
       " 5,\n",
       " 5,\n",
       " 9,\n",
       " 9,\n",
       " 8,\n",
       " 4,\n",
       " 5,\n",
       " 7,\n",
       " 8,\n",
       " 6,\n",
       " 6,\n",
       " 5,\n",
       " 8,\n",
       " 2,\n",
       " 6,\n",
       " 10,\n",
       " 4,\n",
       " 14,\n",
       " 6,\n",
       " 5,\n",
       " 5,\n",
       " 5,\n",
       " 7,\n",
       " 10,\n",
       " 6,\n",
       " 7,\n",
       " 6,\n",
       " 8,\n",
       " 8,\n",
       " 6,\n",
       " 9,\n",
       " 6,\n",
       " 10,\n",
       " 5,\n",
       " 7,\n",
       " 9,\n",
       " 8,\n",
       " 9,\n",
       " 8,\n",
       " 10,\n",
       " 7,\n",
       " 11,\n",
       " 9,\n",
       " 0,\n",
       " 11,\n",
       " 6,\n",
       " 10,\n",
       " 7,\n",
       " 4,\n",
       " 4,\n",
       " 10,\n",
       " 13,\n",
       " 5,\n",
       " 2,\n",
       " 9,\n",
       " 5,\n",
       " 4,\n",
       " 7,\n",
       " 8,\n",
       " 7,\n",
       " 6,\n",
       " 3,\n",
       " 6,\n",
       " 9,\n",
       " 10,\n",
       " 11,\n",
       " 4,\n",
       " 5,\n",
       " 8,\n",
       " 10,\n",
       " 6,\n",
       " 3,\n",
       " 3,\n",
       " 6,\n",
       " 7,\n",
       " 9,\n",
       " 10,\n",
       " 3,\n",
       " 11,\n",
       " 6,\n",
       " -1,\n",
       " 5,\n",
       " 4,\n",
       " 7,\n",
       " 6,\n",
       " 0,\n",
       " 6,\n",
       " 5,\n",
       " 6,\n",
       " 3,\n",
       " 6,\n",
       " 2,\n",
       " 11,\n",
       " 5,\n",
       " 9,\n",
       " 4,\n",
       " 6,\n",
       " 5,\n",
       " 9,\n",
       " 8,\n",
       " 6,\n",
       " 7,\n",
       " 8,\n",
       " 13,\n",
       " 6,\n",
       " 8,\n",
       " 10,\n",
       " 9,\n",
       " 8,\n",
       " 4,\n",
       " 10,\n",
       " 11,\n",
       " 4,\n",
       " 1,\n",
       " 5,\n",
       " 2,\n",
       " 7,\n",
       " 7,\n",
       " 4,\n",
       " 8,\n",
       " 3,\n",
       " 3,\n",
       " 7,\n",
       " 7,\n",
       " 10,\n",
       " 9,\n",
       " 10,\n",
       " 11,\n",
       " 3,\n",
       " 4,\n",
       " 4,\n",
       " 6,\n",
       " 5,\n",
       " 12,\n",
       " 8,\n",
       " 4,\n",
       " 10,\n",
       " 4,\n",
       " 8,\n",
       " 7,\n",
       " 4,\n",
       " 7,\n",
       " 1,\n",
       " 10,\n",
       " 14,\n",
       " 9,\n",
       " 8,\n",
       " 1,\n",
       " 6,\n",
       " 8,\n",
       " 10,\n",
       " 2,\n",
       " 11,\n",
       " 8,\n",
       " 8,\n",
       " 8,\n",
       " 4,\n",
       " 7,\n",
       " 6,\n",
       " 5,\n",
       " 7,\n",
       " 0,\n",
       " 3,\n",
       " 5,\n",
       " 10,\n",
       " 6,\n",
       " 10,\n",
       " 4,\n",
       " 6,\n",
       " 5,\n",
       " 3,\n",
       " 8,\n",
       " 5,\n",
       " 8,\n",
       " 6,\n",
       " 11,\n",
       " 7,\n",
       " 6,\n",
       " 3,\n",
       " 17,\n",
       " 9,\n",
       " 10,\n",
       " 11,\n",
       " 8,\n",
       " 5,\n",
       " 9,\n",
       " 4,\n",
       " 12,\n",
       " 3,\n",
       " 7,\n",
       " 4,\n",
       " 0,\n",
       " 2,\n",
       " 5,\n",
       " 9,\n",
       " 6,\n",
       " 6,\n",
       " 6,\n",
       " 8,\n",
       " 4,\n",
       " 8,\n",
       " 4,\n",
       " 4,\n",
       " 7,\n",
       " 7,\n",
       " 1,\n",
       " 6,\n",
       " 12,\n",
       " 4,\n",
       " 5,\n",
       " 12,\n",
       " 4,\n",
       " 7,\n",
       " 9,\n",
       " 8,\n",
       " 4,\n",
       " 6,\n",
       " 9,\n",
       " 13,\n",
       " 13,\n",
       " 9,\n",
       " 2,\n",
       " 9,\n",
       " 9,\n",
       " 9,\n",
       " 7,\n",
       " 3,\n",
       " 4,\n",
       " 9,\n",
       " 7,\n",
       " 8,\n",
       " 7,\n",
       " 7,\n",
       " 7,\n",
       " 6,\n",
       " 7,\n",
       " 6,\n",
       " 4,\n",
       " 3,\n",
       " 13,\n",
       " 8,\n",
       " 6,\n",
       " 0,\n",
       " 4,\n",
       " 7,\n",
       " 7,\n",
       " 8,\n",
       " 4,\n",
       " 2,\n",
       " 7,\n",
       " 7,\n",
       " 5,\n",
       " 8,\n",
       " 7,\n",
       " 9,\n",
       " 5,\n",
       " 4,\n",
       " 4,\n",
       " 5,\n",
       " 10,\n",
       " 6,\n",
       " 8,\n",
       " 7,\n",
       " 6,\n",
       " 0,\n",
       " 9,\n",
       " 9,\n",
       " 9,\n",
       " 4,\n",
       " 10,\n",
       " 7,\n",
       " 6,\n",
       " 9,\n",
       " 8,\n",
       " 6,\n",
       " 9,\n",
       " 2,\n",
       " 4,\n",
       " 5,\n",
       " 10,\n",
       " 9,\n",
       " 8,\n",
       " 6,\n",
       " 9,\n",
       " 9,\n",
       " 7,\n",
       " 6,\n",
       " 7,\n",
       " 5,\n",
       " 8,\n",
       " 7,\n",
       " 0,\n",
       " 8,\n",
       " 6,\n",
       " 6,\n",
       " 8,\n",
       " 9,\n",
       " 10,\n",
       " 9,\n",
       " 2,\n",
       " 12,\n",
       " 9,\n",
       " 1,\n",
       " 7,\n",
       " 10,\n",
       " 6,\n",
       " 5,\n",
       " 9,\n",
       " 7,\n",
       " 2,\n",
       " 10,\n",
       " 7,\n",
       " 6,\n",
       " 13,\n",
       " 9,\n",
       " 6,\n",
       " 8,\n",
       " 8,\n",
       " 1,\n",
       " 2,\n",
       " 3,\n",
       " 10,\n",
       " 2,\n",
       " 6,\n",
       " 10,\n",
       " 9,\n",
       " 6,\n",
       " 2,\n",
       " 2,\n",
       " 9,\n",
       " 4,\n",
       " 4,\n",
       " 10,\n",
       " 9,\n",
       " 7,\n",
       " 7,\n",
       " 2,\n",
       " 11,\n",
       " 9,\n",
       " 4,\n",
       " 4,\n",
       " 10,\n",
       " 9,\n",
       " 6,\n",
       " 5,\n",
       " 6,\n",
       " 6,\n",
       " 7,\n",
       " 9,\n",
       " 7,\n",
       " 4,\n",
       " 13,\n",
       " 1,\n",
       " 7,\n",
       " 7,\n",
       " 6,\n",
       " 1,\n",
       " 10,\n",
       " 4,\n",
       " 7,\n",
       " 4,\n",
       " 17,\n",
       " 14,\n",
       " 5,\n",
       " 5,\n",
       " 7,\n",
       " 6,\n",
       " 9,\n",
       " 7,\n",
       " 9,\n",
       " 9,\n",
       " 4,\n",
       " 4,\n",
       " 5,\n",
       " 6,\n",
       " 0,\n",
       " 5,\n",
       " 4,\n",
       " 11,\n",
       " 3,\n",
       " 3,\n",
       " 5,\n",
       " 4,\n",
       " 7,\n",
       " 8,\n",
       " 8,\n",
       " 7,\n",
       " 7,\n",
       " 1,\n",
       " 9,\n",
       " 1,\n",
       " 4,\n",
       " 10,\n",
       " 7,\n",
       " 5,\n",
       " 9,\n",
       " 7,\n",
       " 11,\n",
       " 4,\n",
       " 10,\n",
       " 11,\n",
       " 8,\n",
       " 9,\n",
       " 10,\n",
       " 12,\n",
       " 7,\n",
       " 6,\n",
       " 12,\n",
       " 7,\n",
       " 3,\n",
       " 9,\n",
       " 4,\n",
       " 4,\n",
       " 7,\n",
       " 9,\n",
       " 2,\n",
       " 3,\n",
       " 6,\n",
       " 7,\n",
       " 8,\n",
       " 8,\n",
       " 10,\n",
       " 6,\n",
       " 3,\n",
       " 7,\n",
       " 10,\n",
       " 2,\n",
       " 9,\n",
       " 10,\n",
       " 0,\n",
       " 5,\n",
       " 10,\n",
       " 8,\n",
       " 8,\n",
       " 10,\n",
       " 8,\n",
       " 4,\n",
       " 4,\n",
       " 6,\n",
       " 12,\n",
       " 4,\n",
       " 7,\n",
       " 7,\n",
       " 4,\n",
       " 6,\n",
       " 11,\n",
       " 7,\n",
       " 9,\n",
       " 10,\n",
       " 10,\n",
       " 9,\n",
       " 9,\n",
       " 2,\n",
       " 10,\n",
       " 4,\n",
       " 6,\n",
       " 8,\n",
       " 2,\n",
       " 0,\n",
       " 6,\n",
       " 5,\n",
       " 8,\n",
       " 7,\n",
       " 7,\n",
       " 5,\n",
       " 5,\n",
       " 3,\n",
       " 4,\n",
       " 9,\n",
       " 6,\n",
       " 10,\n",
       " 8,\n",
       " 10,\n",
       " 4,\n",
       " 3,\n",
       " 13,\n",
       " 6,\n",
       " 10,\n",
       " 4,\n",
       " 10,\n",
       " 10,\n",
       " 10,\n",
       " 5,\n",
       " 2,\n",
       " 8,\n",
       " 3,\n",
       " 2,\n",
       " 4,\n",
       " 7,\n",
       " 8,\n",
       " 3,\n",
       " 5,\n",
       " 5,\n",
       " 3,\n",
       " 6,\n",
       " 2,\n",
       " 4,\n",
       " 6,\n",
       " 8,\n",
       " 4,\n",
       " 9,\n",
       " 4,\n",
       " 7,\n",
       " 5,\n",
       " 7,\n",
       " 10,\n",
       " 9,\n",
       " 10,\n",
       " 8,\n",
       " 10,\n",
       " 6,\n",
       " 5,\n",
       " 2,\n",
       " 3,\n",
       " 7,\n",
       " 7,\n",
       " 11,\n",
       " 4,\n",
       " 6,\n",
       " 10,\n",
       " 5,\n",
       " 1,\n",
       " 10,\n",
       " 7,\n",
       " 0,\n",
       " 5,\n",
       " 9,\n",
       " 7,\n",
       " 11,\n",
       " 9,\n",
       " 3,\n",
       " 6,\n",
       " 5,\n",
       " 8,\n",
       " 6,\n",
       " 7,\n",
       " 5,\n",
       " 5,\n",
       " 2,\n",
       " 8,\n",
       " 10,\n",
       " 7,\n",
       " 14,\n",
       " 10,\n",
       " 14,\n",
       " 6,\n",
       " 6,\n",
       " 8,\n",
       " 9,\n",
       " 5,\n",
       " 3,\n",
       " 7,\n",
       " 10,\n",
       " 8,\n",
       " 4,\n",
       " 5,\n",
       " 10,\n",
       " 10,\n",
       " 3,\n",
       " 10,\n",
       " 6,\n",
       " 7,\n",
       " 7,\n",
       " 9,\n",
       " 6,\n",
       " 8,\n",
       " 0,\n",
       " 2,\n",
       " 5,\n",
       " 2,\n",
       " 5,\n",
       " 9,\n",
       " 2,\n",
       " 6,\n",
       " 6,\n",
       " 9,\n",
       " 9,\n",
       " 9,\n",
       " 1,\n",
       " 1,\n",
       " 9,\n",
       " 4,\n",
       " 10,\n",
       " 12,\n",
       " 12,\n",
       " 5,\n",
       " 9,\n",
       " 8,\n",
       " 7,\n",
       " 10,\n",
       " 8,\n",
       " 7,\n",
       " 6,\n",
       " 3,\n",
       " 7,\n",
       " 6,\n",
       " 5,\n",
       " 8,\n",
       " 9,\n",
       " 5,\n",
       " 9,\n",
       " 3,\n",
       " 7,\n",
       " 2,\n",
       " 12,\n",
       " 8,\n",
       " 8,\n",
       " 5,\n",
       " 4,\n",
       " 9,\n",
       " 12,\n",
       " 3,\n",
       " 9,\n",
       " 13,\n",
       " 3,\n",
       " 3,\n",
       " 8,\n",
       " 7,\n",
       " 7,\n",
       " 13,\n",
       " 4,\n",
       " 2,\n",
       " 10,\n",
       " 6,\n",
       " 4,\n",
       " 10,\n",
       " 8,\n",
       " 9,\n",
       " 9,\n",
       " 6,\n",
       " 6,\n",
       " 7,\n",
       " 9,\n",
       " 6,\n",
       " 5,\n",
       " 4,\n",
       " 5,\n",
       " 1,\n",
       " 5,\n",
       " 2,\n",
       " 3,\n",
       " 7,\n",
       " 9,\n",
       " 4,\n",
       " 7,\n",
       " 5,\n",
       " 11,\n",
       " 8,\n",
       " 10,\n",
       " 4,\n",
       " 10,\n",
       " 0,\n",
       " 8,\n",
       " 0,\n",
       " 9,\n",
       " 9,\n",
       " 8,\n",
       " 5,\n",
       " 7,\n",
       " 11,\n",
       " 2,\n",
       " 4,\n",
       " 9,\n",
       " 4,\n",
       " 6,\n",
       " 11,\n",
       " 8,\n",
       " 7,\n",
       " 3,\n",
       " 3,\n",
       " 4,\n",
       " 7,\n",
       " 5,\n",
       " 0,\n",
       " 6,\n",
       " 2,\n",
       " 9,\n",
       " 9,\n",
       " 8,\n",
       " 10,\n",
       " 8,\n",
       " 5,\n",
       " 5,\n",
       " 9,\n",
       " 11,\n",
       " 12,\n",
       " 12,\n",
       " 7,\n",
       " 4,\n",
       " 8,\n",
       " 9,\n",
       " 7,\n",
       " 12,\n",
       " 5,\n",
       " 10,\n",
       " 12,\n",
       " 8,\n",
       " 11,\n",
       " 4,\n",
       " 6,\n",
       " 6,\n",
       " 8,\n",
       " 9,\n",
       " 6,\n",
       " 5,\n",
       " 9,\n",
       " 7,\n",
       " 6,\n",
       " 8,\n",
       " 9,\n",
       " 5,\n",
       " 10,\n",
       " 9,\n",
       " 11,\n",
       " 8,\n",
       " 5,\n",
       " 4,\n",
       " 9,\n",
       " 10,\n",
       " 9,\n",
       " 11,\n",
       " 2,\n",
       " 4,\n",
       " 10,\n",
       " 5,\n",
       " 5,\n",
       " 9,\n",
       " 1,\n",
       " 3,\n",
       " 8,\n",
       " 8,\n",
       " 6,\n",
       " 1,\n",
       " -2,\n",
       " 6,\n",
       " 0,\n",
       " 3,\n",
       " 8,\n",
       " 10,\n",
       " 7,\n",
       " 13,\n",
       " 8,\n",
       " 8,\n",
       " 7,\n",
       " 7,\n",
       " 6,\n",
       " 2,\n",
       " 5,\n",
       " 5,\n",
       " 5,\n",
       " 5,\n",
       " 2,\n",
       " 2,\n",
       " 8,\n",
       " 6,\n",
       " 6,\n",
       " 10,\n",
       " 6,\n",
       " 14,\n",
       " 0,\n",
       " 1,\n",
       " 11,\n",
       " 7,\n",
       " 10,\n",
       " 8,\n",
       " 8,\n",
       " 6,\n",
       " 3,\n",
       " 7,\n",
       " 4,\n",
       " 8,\n",
       " 7,\n",
       " 2,\n",
       " 8,\n",
       " 9,\n",
       " 2,\n",
       " 8,\n",
       " 4,\n",
       " 7,\n",
       " 5,\n",
       " 3,\n",
       " 3,\n",
       " 11,\n",
       " 7,\n",
       " 9,\n",
       " 9,\n",
       " 5,\n",
       " 5,\n",
       " 6,\n",
       " 11,\n",
       " 7,\n",
       " 4,\n",
       " 9,\n",
       " 5,\n",
       " 8,\n",
       " 8,\n",
       " 11,\n",
       " 7,\n",
       " 10,\n",
       " 10,\n",
       " 11,\n",
       " 2,\n",
       " 5,\n",
       " 4,\n",
       " 8,\n",
       " 6,\n",
       " 10,\n",
       " 11,\n",
       " 0,\n",
       " 3,\n",
       " 9,\n",
       " 6,\n",
       " 6,\n",
       " 14,\n",
       " 2,\n",
       " 7,\n",
       " 11,\n",
       " 9,\n",
       " 10,\n",
       " 2,\n",
       " 8,\n",
       " 4,\n",
       " 11,\n",
       " 5,\n",
       " 4,\n",
       " 7,\n",
       " 6,\n",
       " 8,\n",
       " 7,\n",
       " 6,\n",
       " 10,\n",
       " 4,\n",
       " 3,\n",
       " 8,\n",
       " 10,\n",
       " 8,\n",
       " 9,\n",
       " 4,\n",
       " 8,\n",
       " 4,\n",
       " 9,\n",
       " 11,\n",
       " 6,\n",
       " 6,\n",
       " 8,\n",
       " 7,\n",
       " 12,\n",
       " 9,\n",
       " 6,\n",
       " 9,\n",
       " 8,\n",
       " 9,\n",
       " 6,\n",
       " 7,\n",
       " 3,\n",
       " 6,\n",
       " 7,\n",
       " 7,\n",
       " 10,\n",
       " 5,\n",
       " 7,\n",
       " 0,\n",
       " 7,\n",
       " 3,\n",
       " 4,\n",
       " 8,\n",
       " -1,\n",
       " 8,\n",
       " 8,\n",
       " 14,\n",
       " 7,\n",
       " 10,\n",
       " 8,\n",
       " 2,\n",
       " 7,\n",
       " 5,\n",
       " 13,\n",
       " 5,\n",
       " 9,\n",
       " 5,\n",
       " 5,\n",
       " 2,\n",
       " 3,\n",
       " 11,\n",
       " 7,\n",
       " 10,\n",
       " 4,\n",
       " 5,\n",
       " 12,\n",
       " 6,\n",
       " 10,\n",
       " 5,\n",
       " 7,\n",
       " 11,\n",
       " 13,\n",
       " 1,\n",
       " 1,\n",
       " 9,\n",
       " 8,\n",
       " 11,\n",
       " 8,\n",
       " 3,\n",
       " 10,\n",
       " 3,\n",
       " 5,\n",
       " 3,\n",
       " 10,\n",
       " 6,\n",
       " 2,\n",
       " 7,\n",
       " 8,\n",
       " 7,\n",
       " 1,\n",
       " 5,\n",
       " 9,\n",
       " 3,\n",
       " 8,\n",
       " 7,\n",
       " 9,\n",
       " 10,\n",
       " 5,\n",
       " 7,\n",
       " 4,\n",
       " 4,\n",
       " 4,\n",
       " 5,\n",
       " 6,\n",
       " 5,\n",
       " 7,\n",
       " 9,\n",
       " 10,\n",
       " 6,\n",
       " 2,\n",
       " 4,\n",
       " 9,\n",
       " 7,\n",
       " 9,\n",
       " 7,\n",
       " 9,\n",
       " 8,\n",
       " 5,\n",
       " 7,\n",
       " 8,\n",
       " 4,\n",
       " 5,\n",
       " 6,\n",
       " 0]"
      ]
     },
     "execution_count": 350,
     "metadata": {},
     "output_type": "execute_result"
    }
   ],
   "source": [
    "data_int = list(map(int,data))\n",
    "data_int"
   ]
  },
  {
   "cell_type": "code",
   "execution_count": 351,
   "metadata": {},
   "outputs": [
    {
     "data": {
      "text/plain": [
       "7"
      ]
     },
     "execution_count": 351,
     "metadata": {},
     "output_type": "execute_result"
    }
   ],
   "source": [
    "ss.mode(data_int)"
   ]
  },
  {
   "cell_type": "code",
   "execution_count": 352,
   "metadata": {},
   "outputs": [
    {
     "data": {
      "text/plain": [
       "1"
      ]
     },
     "execution_count": 352,
     "metadata": {},
     "output_type": "execute_result"
    }
   ],
   "source": [
    "set1 =[1,2,1,2,4,1,2,5,6,23,3,2,1,3,4,1,4]\n",
    "  \n",
    "ss.mode(set1)"
   ]
  },
  {
   "cell_type": "code",
   "execution_count": 349,
   "metadata": {
    "scrolled": true
   },
   "outputs": [
    {
     "data": {
      "text/plain": [
       "5"
      ]
     },
     "execution_count": 349,
     "metadata": {},
     "output_type": "execute_result"
    }
   ],
   "source": [
    "set1 =[1, 2, \"a\", \"3\", 5, 7, 4, \"a\", 5, 5]\n",
    "  \n",
    "ss.mode(set1)"
   ]
  },
  {
   "cell_type": "code",
   "execution_count": null,
   "metadata": {},
   "outputs": [],
   "source": [
    "import collections"
   ]
  },
  {
   "cell_type": "code",
   "execution_count": 353,
   "metadata": {},
   "outputs": [
    {
     "data": {
      "text/plain": [
       "Position(x=12.5, y=5.8)"
      ]
     },
     "execution_count": 353,
     "metadata": {},
     "output_type": "execute_result"
    }
   ],
   "source": [
    "position = collections.namedtuple(\"Position\",\"x,y\")\n",
    "pos = position(12.5,5.8)\n",
    "pos"
   ]
  },
  {
   "cell_type": "code",
   "execution_count": 354,
   "metadata": {},
   "outputs": [
    {
     "name": "stdout",
     "output_type": "stream",
     "text": [
      "12.5\n",
      "12.5\n"
     ]
    }
   ],
   "source": [
    "print(pos[0])\n",
    "print(pos.x)"
   ]
  },
  {
   "cell_type": "code",
   "execution_count": 355,
   "metadata": {},
   "outputs": [
    {
     "name": "stdout",
     "output_type": "stream",
     "text": [
      "5.8\n",
      "5.8\n"
     ]
    }
   ],
   "source": [
    "print(pos[1])\n",
    "print(pos.y)"
   ]
  },
  {
   "cell_type": "code",
   "execution_count": 356,
   "metadata": {},
   "outputs": [
    {
     "data": {
      "text/plain": [
       "(12.5, 5.8, 12.5, 5.8)"
      ]
     },
     "execution_count": 356,
     "metadata": {},
     "output_type": "execute_result"
    }
   ],
   "source": [
    "pos * 2"
   ]
  },
  {
   "cell_type": "code",
   "execution_count": 358,
   "metadata": {},
   "outputs": [
    {
     "name": "stdout",
     "output_type": "stream",
     "text": [
      "12.5 5.8\n"
     ]
    }
   ],
   "source": [
    "print(pos.x,pos.y)"
   ]
  },
  {
   "cell_type": "code",
   "execution_count": 359,
   "metadata": {},
   "outputs": [],
   "source": [
    "person = collections.namedtuple(\"People\", \"name,age,job\")\n",
    "\n",
    "Dave = person(name=\"Dave\", age=\"32\", job=\"Data Scientist\")\n",
    "Oliver = person(name=\"Oliver\", age=\"35\", job=\"Software Developer\")"
   ]
  },
  {
   "cell_type": "code",
   "execution_count": 360,
   "metadata": {},
   "outputs": [
    {
     "name": "stdout",
     "output_type": "stream",
     "text": [
      "People(name='Dave', age='32', job='Data Scientist')\n"
     ]
    }
   ],
   "source": [
    "print(Dave)"
   ]
  },
  {
   "cell_type": "code",
   "execution_count": 361,
   "metadata": {},
   "outputs": [
    {
     "name": "stdout",
     "output_type": "stream",
     "text": [
      "32\n"
     ]
    }
   ],
   "source": [
    "print(Dave.age)"
   ]
  },
  {
   "cell_type": "code",
   "execution_count": 362,
   "metadata": {},
   "outputs": [
    {
     "name": "stdout",
     "output_type": "stream",
     "text": [
      "Software Developer\n"
     ]
    }
   ],
   "source": [
    "print(Oliver.job)"
   ]
  },
  {
   "cell_type": "code",
   "execution_count": null,
   "metadata": {},
   "outputs": [],
   "source": [
    "workers_job = collections.defaultdict(list)\n",
    "\n",
    "workers_job[\"Leonard\"].append(\"Editor\")\n",
    "workers_job[\"Joseph\"].append(\"Author\")\n",
    "workers_job[\"Jane\"].append(\"IT\")\n",
    "\n",
    "print(workers_job)"
   ]
  },
  {
   "cell_type": "code",
   "execution_count": null,
   "metadata": {},
   "outputs": [],
   "source": [
    "workers_job[\"Matthew\"]"
   ]
  },
  {
   "cell_type": "code",
   "execution_count": null,
   "metadata": {},
   "outputs": [],
   "source": [
    "def count_words(s):\n",
    "    out = collections.defaultdict(lambda : 0)\n",
    "    for word in s.split():\n",
    "        out[word] += 1\n",
    "    return out"
   ]
  },
  {
   "cell_type": "code",
   "execution_count": null,
   "metadata": {
    "scrolled": true
   },
   "outputs": [],
   "source": [
    "s = \"\"\"\n",
    "\"Lorem ipsum dolor sit amet, consectetur adipiscing elit. Integer vestibulum sodales tortor, vitae vulputate \n",
    "dolor posuere quis. Praesent ut lorem nec metus finibus tincidunt. Donec est nunc, varius vel lobortis nec, \n",
    "viverra ac sapien. Quisque blandit ipsum in massa porttitor faucibus. Orci varius natoque penatibus et magnis \n",
    "dis parturient montes, nascetur ridiculus mus. Lorem ipsum dolor sit amet, consectetur adipiscing elit. Vivamus\n",
    "auctor mi quis massa suscipit pharetra.\"\n",
    "\"\"\"\n",
    "count_words(s)"
   ]
  },
  {
   "cell_type": "code",
   "execution_count": 15,
   "metadata": {},
   "outputs": [],
   "source": [
    "from functools import reduce"
   ]
  },
  {
   "cell_type": "code",
   "execution_count": 16,
   "metadata": {},
   "outputs": [
    {
     "data": {
      "text/plain": [
       "15"
      ]
     },
     "execution_count": 16,
     "metadata": {},
     "output_type": "execute_result"
    }
   ],
   "source": [
    "reduce(lambda x, y: x+y, [1, 2, 3, 4, 5])"
   ]
  },
  {
   "cell_type": "code",
   "execution_count": 17,
   "metadata": {},
   "outputs": [
    {
     "data": {
      "text/plain": [
       "15"
      ]
     },
     "execution_count": 17,
     "metadata": {},
     "output_type": "execute_result"
    }
   ],
   "source": [
    "((((1+2)+3)+4)+5)"
   ]
  },
  {
   "cell_type": "code",
   "execution_count": 35,
   "metadata": {},
   "outputs": [
    {
     "name": "stdout",
     "output_type": "stream",
     "text": [
      "16\n",
      "With an initial value: 22\n"
     ]
    }
   ],
   "source": [
    "d = [2, 4, 7, 3]\n",
    "\n",
    "print(reduce(lambda x, y: x + y, d))\n",
    "print(\"With an initial value:\",reduce(lambda x, y: x + y, d, 6))"
   ]
  },
  {
   "cell_type": "code",
   "execution_count": 36,
   "metadata": {},
   "outputs": [
    {
     "data": {
      "text/plain": [
       "66"
      ]
     },
     "execution_count": 36,
     "metadata": {},
     "output_type": "execute_result"
    }
   ],
   "source": [
    "numbers = [11,3,9,12,4,15,66]\n",
    "\n",
    "def find_max(a,b):\n",
    "    if a > b:\n",
    "        return a\n",
    "    else:\n",
    "        return b\n",
    "\n",
    "reduce(find_max,numbers)"
   ]
  },
  {
   "cell_type": "code",
   "execution_count": 1,
   "metadata": {},
   "outputs": [],
   "source": [
    "import itertools"
   ]
  },
  {
   "cell_type": "code",
   "execution_count": 2,
   "metadata": {},
   "outputs": [
    {
     "name": "stdout",
     "output_type": "stream",
     "text": [
      "[1, 3, 5, 7, 2, 4, 6, 8]\n"
     ]
    }
   ],
   "source": [
    "list_odd = [1, 3, 5, 7]\n",
    "list_even = [2, 4, 6, 8]\n",
    "\n",
    "numbers = list(itertools.chain(list_odd, list_even))\n",
    "\n",
    "print(numbers)"
   ]
  },
  {
   "cell_type": "code",
   "execution_count": 3,
   "metadata": {},
   "outputs": [
    {
     "data": {
      "text/plain": [
       "[1, 3, 5, 7, 2, 4, 6, 8, 2, 4, 6, 8, 2, 4, 6, 8]"
      ]
     },
     "execution_count": 3,
     "metadata": {},
     "output_type": "execute_result"
    }
   ],
   "source": [
    "list(itertools.chain(list_odd, list_even, list_even, list_even))"
   ]
  },
  {
   "cell_type": "code",
   "execution_count": 4,
   "metadata": {},
   "outputs": [
    {
     "data": {
      "text/plain": [
       "[(1, 1, 3, 3), (1, 1, 3, 3), (1, 1, 3, 3), (1, 3, 3, 3), (1, 3, 3, 3)]"
      ]
     },
     "execution_count": 4,
     "metadata": {},
     "output_type": "execute_result"
    }
   ],
   "source": [
    "A = [1,1,3,3,3]\n",
    "\n",
    "list(itertools.combinations(A,4))"
   ]
  },
  {
   "cell_type": "code",
   "execution_count": 5,
   "metadata": {
    "scrolled": true
   },
   "outputs": [
    {
     "data": {
      "text/plain": [
       "['a b c',\n",
       " 'a b d',\n",
       " 'a b e',\n",
       " 'a b f',\n",
       " 'a c d',\n",
       " 'a c e',\n",
       " 'a c f',\n",
       " 'a d e',\n",
       " 'a d f',\n",
       " 'a e f',\n",
       " 'b c d',\n",
       " 'b c e',\n",
       " 'b c f',\n",
       " 'b d e',\n",
       " 'b d f',\n",
       " 'b e f',\n",
       " 'c d e',\n",
       " 'c d f',\n",
       " 'c e f',\n",
       " 'd e f']"
      ]
     },
     "execution_count": 5,
     "metadata": {},
     "output_type": "execute_result"
    }
   ],
   "source": [
    "letters =\"abcdef\"\n",
    "\n",
    "[' '.join(i) for i in itertools.combinations(letters, 3)]"
   ]
  },
  {
   "cell_type": "code",
   "execution_count": 370,
   "metadata": {
    "scrolled": true
   },
   "outputs": [
    {
     "data": {
      "text/plain": [
       "[('a', 'b'),\n",
       " ('a', 'c'),\n",
       " ('a', 'd'),\n",
       " ('a', 'e'),\n",
       " ('a', 'f'),\n",
       " ('b', 'c'),\n",
       " ('b', 'd'),\n",
       " ('b', 'e'),\n",
       " ('b', 'f'),\n",
       " ('c', 'd'),\n",
       " ('c', 'e'),\n",
       " ('c', 'f'),\n",
       " ('d', 'e'),\n",
       " ('d', 'f'),\n",
       " ('e', 'f')]"
      ]
     },
     "execution_count": 370,
     "metadata": {},
     "output_type": "execute_result"
    }
   ],
   "source": [
    "list(itertools.combinations(letters, 2))"
   ]
  },
  {
   "cell_type": "code",
   "execution_count": 6,
   "metadata": {},
   "outputs": [
    {
     "data": {
      "text/plain": [
       "'abcdef'"
      ]
     },
     "execution_count": 6,
     "metadata": {},
     "output_type": "execute_result"
    }
   ],
   "source": [
    "letters"
   ]
  },
  {
   "cell_type": "code",
   "execution_count": 371,
   "metadata": {},
   "outputs": [
    {
     "data": {
      "text/plain": [
       "[('a', 'a'),\n",
       " ('a', 'b'),\n",
       " ('a', 'c'),\n",
       " ('a', 'd'),\n",
       " ('a', 'e'),\n",
       " ('a', 'f'),\n",
       " ('b', 'b'),\n",
       " ('b', 'c'),\n",
       " ('b', 'd'),\n",
       " ('b', 'e'),\n",
       " ('b', 'f'),\n",
       " ('c', 'c'),\n",
       " ('c', 'd'),\n",
       " ('c', 'e'),\n",
       " ('c', 'f'),\n",
       " ('d', 'd'),\n",
       " ('d', 'e'),\n",
       " ('d', 'f'),\n",
       " ('e', 'e'),\n",
       " ('e', 'f'),\n",
       " ('f', 'f')]"
      ]
     },
     "execution_count": 371,
     "metadata": {},
     "output_type": "execute_result"
    }
   ],
   "source": [
    "list(itertools.combinations_with_replacement(letters, 2))"
   ]
  },
  {
   "cell_type": "code",
   "execution_count": 7,
   "metadata": {
    "scrolled": true
   },
   "outputs": [
    {
     "data": {
      "text/plain": [
       "[('a', 'b'),\n",
       " ('a', 'c'),\n",
       " ('a', 'd'),\n",
       " ('a', 'e'),\n",
       " ('a', 'f'),\n",
       " ('b', 'a'),\n",
       " ('b', 'c'),\n",
       " ('b', 'd'),\n",
       " ('b', 'e'),\n",
       " ('b', 'f'),\n",
       " ('c', 'a'),\n",
       " ('c', 'b'),\n",
       " ('c', 'd'),\n",
       " ('c', 'e'),\n",
       " ('c', 'f'),\n",
       " ('d', 'a'),\n",
       " ('d', 'b'),\n",
       " ('d', 'c'),\n",
       " ('d', 'e'),\n",
       " ('d', 'f'),\n",
       " ('e', 'a'),\n",
       " ('e', 'b'),\n",
       " ('e', 'c'),\n",
       " ('e', 'd'),\n",
       " ('e', 'f'),\n",
       " ('f', 'a'),\n",
       " ('f', 'b'),\n",
       " ('f', 'c'),\n",
       " ('f', 'd'),\n",
       " ('f', 'e')]"
      ]
     },
     "execution_count": 7,
     "metadata": {},
     "output_type": "execute_result"
    }
   ],
   "source": [
    "list(itertools.permutations(letters,2))"
   ]
  },
  {
   "cell_type": "code",
   "execution_count": 69,
   "metadata": {},
   "outputs": [
    {
     "data": {
      "text/plain": [
       "[('X', 'Y', 'Z'),\n",
       " ('X', 'Z', 'Y'),\n",
       " ('Y', 'X', 'Z'),\n",
       " ('Y', 'Z', 'X'),\n",
       " ('Z', 'X', 'Y'),\n",
       " ('Z', 'Y', 'X')]"
      ]
     },
     "execution_count": 69,
     "metadata": {},
     "output_type": "execute_result"
    }
   ],
   "source": [
    "list(itertools.permutations('XYZ'))"
   ]
  },
  {
   "cell_type": "code",
   "execution_count": 70,
   "metadata": {
    "scrolled": false
   },
   "outputs": [
    {
     "data": {
      "text/plain": [
       "[(0, 1),\n",
       " (0, 2),\n",
       " (0, 3),\n",
       " (0, 4),\n",
       " (1, 0),\n",
       " (1, 2),\n",
       " (1, 3),\n",
       " (1, 4),\n",
       " (2, 0),\n",
       " (2, 1),\n",
       " (2, 3),\n",
       " (2, 4),\n",
       " (3, 0),\n",
       " (3, 1),\n",
       " (3, 2),\n",
       " (3, 4),\n",
       " (4, 0),\n",
       " (4, 1),\n",
       " (4, 2),\n",
       " (4, 3)]"
      ]
     },
     "execution_count": 70,
     "metadata": {},
     "output_type": "execute_result"
    }
   ],
   "source": [
    "list(itertools.permutations(range(5), 2))"
   ]
  },
  {
   "cell_type": "code",
   "execution_count": 12,
   "metadata": {},
   "outputs": [
    {
     "data": {
      "text/plain": [
       "[1, 1, 1, 1, 2, 2, 2, 4, 41, 41]"
      ]
     },
     "execution_count": 12,
     "metadata": {},
     "output_type": "execute_result"
    }
   ],
   "source": [
    "d = [1,1,4,1,2,41,1,2,2,41]\n",
    "d.sort()\n",
    "d"
   ]
  },
  {
   "cell_type": "code",
   "execution_count": 11,
   "metadata": {},
   "outputs": [
    {
     "name": "stdout",
     "output_type": "stream",
     "text": [
      "1 <itertools._grouper object at 0x7f7f24366358>\n",
      "2 <itertools._grouper object at 0x7f7f24366278>\n",
      "4 <itertools._grouper object at 0x7f7f243662e8>\n",
      "41 <itertools._grouper object at 0x7f7f24366320>\n"
     ]
    }
   ],
   "source": [
    "for i,k in itertools.groupby(d):\n",
    "    print(i,k)"
   ]
  },
  {
   "cell_type": "code",
   "execution_count": 10,
   "metadata": {},
   "outputs": [
    {
     "name": "stdout",
     "output_type": "stream",
     "text": [
      "1 [1, 1, 1, 1]\n",
      "2 [2, 2, 2]\n",
      "4 [4]\n",
      "41 [41, 41]\n"
     ]
    }
   ],
   "source": [
    "for i,k in itertools.groupby(d):\n",
    "    print(i,list(k))"
   ]
  },
  {
   "cell_type": "code",
   "execution_count": 374,
   "metadata": {},
   "outputs": [
    {
     "name": "stdout",
     "output_type": "stream",
     "text": [
      "1 4\n",
      "2 3\n",
      "4 1\n",
      "41 2\n"
     ]
    }
   ],
   "source": [
    "for i,k in itertools.groupby(d):\n",
    "    print(i,len(list(k)))"
   ]
  },
  {
   "cell_type": "code",
   "execution_count": 105,
   "metadata": {},
   "outputs": [
    {
     "name": "stdout",
     "output_type": "stream",
     "text": [
      "a : [('a', 1), ('a', 2)]\n",
      "b : [('b', 3), ('b', 4)]\n"
     ]
    }
   ],
   "source": [
    "L = [(\"a\", 1), (\"a\", 2), (\"b\", 3), (\"b\", 4)]\n",
    "\n",
    "key_func = lambda x: x[0]\n",
    "\n",
    "for key, group in itertools.groupby(L, key_func):\n",
    "    print(key, \":\", list(group))"
   ]
  },
  {
   "cell_type": "code",
   "execution_count": 106,
   "metadata": {},
   "outputs": [
    {
     "name": "stdout",
     "output_type": "stream",
     "text": [
      "Animal : [('Animal', 'cat'), ('Animal', 'dog')]\n",
      "Bird : [('Bird', 'peacock'), ('Bird', 'pigeon')]\n"
     ]
    }
   ],
   "source": [
    "animal_list = [\n",
    "    (\"Animal\", \"cat\"), \n",
    "    (\"Animal\", \"dog\"), \n",
    "    (\"Bird\", \"peacock\"), \n",
    "    (\"Bird\", \"pigeon\")\n",
    "]\n",
    "  \n",
    "for key, group in itertools.groupby(animal_list, lambda x : x[0]):\n",
    "    print(key,\":\", list(group))"
   ]
  },
  {
   "cell_type": "code",
   "execution_count": 107,
   "metadata": {},
   "outputs": [
    {
     "name": "stdout",
     "output_type": "stream",
     "text": [
      "34 : [{'name': 'Alan', 'age': 34}, {'name': 'Catherine', 'age': 34}]\n",
      "29 : [{'name': 'Betsy', 'age': 29}]\n",
      "33 : [{'name': 'David', 'age': 33}]\n"
     ]
    }
   ],
   "source": [
    "employees = [{'name': 'Alan', 'age': 34},\n",
    "         {'name': 'Catherine', 'age': 34},\n",
    "         {'name': 'Betsy', 'age': 29},\n",
    "        {'name': 'David', 'age': 33}]\n",
    "\n",
    "grouped_data = itertools.groupby(employees, key=lambda x: x['age'])\n",
    "\n",
    "for key, group in grouped_data:\n",
    "     print(key,\":\", list(group))"
   ]
  },
  {
   "cell_type": "code",
   "execution_count": 65,
   "metadata": {
    "scrolled": true
   },
   "outputs": [
    {
     "data": {
      "text/plain": [
       "[(13415, 37),\n",
       " (13419, 8),\n",
       " (13414, 3),\n",
       " (13415, 99),\n",
       " (13420, 19),\n",
       " (13416, 33),\n",
       " (13418, 19),\n",
       " (13415, 10),\n",
       " (13412, 3),\n",
       " (13420, 4),\n",
       " (13414, 2),\n",
       " (13417, 9),\n",
       " (13418, 5),\n",
       " (13412, 5),\n",
       " (13417, 23),\n",
       " (13416, 28),\n",
       " (13420, 1),\n",
       " (13415, 18),\n",
       " (13417, 7),\n",
       " (13415, 1),\n",
       " (13416, 59),\n",
       " (13412, 16),\n",
       " (13419, 3),\n",
       " (13417, 17),\n",
       " (13414, 11),\n",
       " (13412, 8),\n",
       " (13413, 13),\n",
       " (13418, 1),\n",
       " (13416, 7),\n",
       " (13416, 103)]"
      ]
     },
     "execution_count": 65,
     "metadata": {},
     "output_type": "execute_result"
    }
   ],
   "source": [
    "# Generate a random user purchase count data\n",
    "purchase_count = list(zip(\n",
    "    rand_list(30,\"randint\",13412,13420),\n",
    "    map(int,rand_list(30,\"expovariate\",0.05))\n",
    "))\n",
    "purchase_count"
   ]
  },
  {
   "cell_type": "code",
   "execution_count": 66,
   "metadata": {
    "scrolled": true
   },
   "outputs": [
    {
     "name": "stdout",
     "output_type": "stream",
     "text": [
      "13415 37\n",
      "13419 8\n",
      "13414 3\n",
      "13415 99\n",
      "13420 19\n",
      "13416 33\n",
      "13418 19\n",
      "13415 10\n",
      "13412 3\n",
      "13420 4\n",
      "13414 2\n",
      "13417 9\n",
      "13418 5\n",
      "13412 5\n",
      "13417 23\n",
      "13416 28\n",
      "13420 1\n",
      "13415 18\n",
      "13417 7\n",
      "13415 1\n",
      "13416 59\n",
      "13412 16\n",
      "13419 3\n",
      "13417 17\n",
      "13414 11\n",
      "13412 8\n",
      "13413 13\n",
      "13418 1\n",
      "13416 110\n"
     ]
    }
   ],
   "source": [
    "grouper = itertools.groupby(purchase_count, lambda x : x[0])\n",
    "\n",
    "def sum_group(g):\n",
    "    return sum(map(lambda x: x[1],group))\n",
    "\n",
    "for key, group in grouper:\n",
    "    print(key,sum_group(group))"
   ]
  },
  {
   "cell_type": "code",
   "execution_count": 71,
   "metadata": {},
   "outputs": [
    {
     "data": {
      "text/plain": [
       "[('a', 'X'),\n",
       " ('a', 'Y'),\n",
       " ('a', 'Z'),\n",
       " ('b', 'X'),\n",
       " ('b', 'Y'),\n",
       " ('b', 'Z'),\n",
       " ('c', 'X'),\n",
       " ('c', 'Y'),\n",
       " ('c', 'Z')]"
      ]
     },
     "execution_count": 71,
     "metadata": {},
     "output_type": "execute_result"
    }
   ],
   "source": [
    "l1 = ['a', 'b', 'c']\n",
    "l2 = ['X', 'Y', 'Z']\n",
    "\n",
    "list(itertools.product(l1, l2)) # simply a cartesian product of two sets (in math)"
   ]
  },
  {
   "cell_type": "code",
   "execution_count": 75,
   "metadata": {},
   "outputs": [
    {
     "data": {
      "text/plain": [
       "[('AA', 'colour', 0),\n",
       " ('AA', 'colour', 1),\n",
       " ('AA', 'size', 0),\n",
       " ('AA', 'size', 1),\n",
       " ('BB', 'colour', 0),\n",
       " ('BB', 'colour', 1),\n",
       " ('BB', 'size', 0),\n",
       " ('BB', 'size', 1)]"
      ]
     },
     "execution_count": 75,
     "metadata": {},
     "output_type": "execute_result"
    }
   ],
   "source": [
    "t = ('AA', 'BB')\n",
    "d = {'colour': 'white', 'size': 'small'}\n",
    "r = range(2)\n",
    "\n",
    "list(itertools.product(t, d, r))"
   ]
  },
  {
   "cell_type": "code",
   "execution_count": null,
   "metadata": {},
   "outputs": [],
   "source": [
    "import datetime\n",
    "\n",
    "print(\"Today:\",datetime.datetime.today())\n",
    "print(\"Current date and time:\",datetime.datetime.now())\n",
    "print(\"Current UTC date and time:\",datetime.datetime.utcnow())\n",
    "print(\"Current time:\",datetime.time())"
   ]
  },
  {
   "cell_type": "code",
   "execution_count": null,
   "metadata": {},
   "outputs": [],
   "source": [
    "print(datetime.datetime(2021,5,20))\n",
    "print(datetime.datetime(2021, 5, 20,0,13,59))\n",
    "print(datetime.date(2021,5,20))"
   ]
  },
  {
   "cell_type": "code",
   "execution_count": null,
   "metadata": {},
   "outputs": [],
   "source": [
    "t0 = datetime.datetime.now()\n",
    "print(t0)"
   ]
  },
  {
   "cell_type": "code",
   "execution_count": null,
   "metadata": {},
   "outputs": [],
   "source": [
    "t1 = t0 + datetime.timedelta(hours=1)\n",
    "print(t1)"
   ]
  },
  {
   "cell_type": "code",
   "execution_count": null,
   "metadata": {},
   "outputs": [],
   "source": [
    "t2 = t0 + datetime.timedelta(days=1)\n",
    "print(t2)"
   ]
  },
  {
   "cell_type": "code",
   "execution_count": null,
   "metadata": {},
   "outputs": [],
   "source": [
    "import time"
   ]
  },
  {
   "cell_type": "code",
   "execution_count": null,
   "metadata": {},
   "outputs": [],
   "source": [
    "# Epoch time as seconds\n",
    "print(time.time())"
   ]
  },
  {
   "cell_type": "code",
   "execution_count": null,
   "metadata": {},
   "outputs": [],
   "source": [
    "n_sec = 3\n",
    "time.sleep(n_sec)\n",
    "print(\"I waited \",n_sec,\"seconds.\")"
   ]
  },
  {
   "cell_type": "markdown",
   "metadata": {},
   "source": [
    "### File Input/Output\n",
    "\n",
    "We can read from and write to files using \"file handles\" in python. This is the most basic type of file IO.\n",
    "\n",
    "* `open()`\n",
    "* `close()`"
   ]
  },
  {
   "cell_type": "code",
   "execution_count": 82,
   "metadata": {},
   "outputs": [],
   "source": [
    "import csv"
   ]
  },
  {
   "cell_type": "code",
   "execution_count": 98,
   "metadata": {},
   "outputs": [
    {
     "data": {
      "text/plain": [
       "[('2020Q1', 1250, 543.1017439760382),\n",
       " ('2020Q2', 1293, 950.8965042754886),\n",
       " ('2020Q3', 1464, 926.0517121718628),\n",
       " ('2020Q4', 1499, 1148.8479633732054)]"
      ]
     },
     "execution_count": 98,
     "metadata": {},
     "output_type": "execute_result"
    }
   ],
   "source": [
    "col2 = rand_list(4,\"randint\",1000,1500)\n",
    "col3 = rand_list(4,\"gauss\",700,300)\n",
    "t = [\"2020Q1\",\"2020Q2\",\"2020Q3\",\"2020Q4\"]\n",
    "\n",
    "data = list(zip(t,col2,col3))\n",
    "data"
   ]
  },
  {
   "cell_type": "code",
   "execution_count": 99,
   "metadata": {},
   "outputs": [],
   "source": [
    "f = open(\"sales.csv\",mode=\"w\")\n",
    "writer = csv.writer(f)\n",
    "writer.writerows(data)\n",
    "f.close()"
   ]
  },
  {
   "cell_type": "code",
   "execution_count": 108,
   "metadata": {},
   "outputs": [
    {
     "name": "stdout",
     "output_type": "stream",
     "text": [
      "<_io.TextIOWrapper name='sales.csv' mode='r' encoding='UTF-8'>\n",
      "<class '_io.TextIOWrapper'>\n"
     ]
    }
   ],
   "source": [
    "f = open(\"sales.csv\",mode=\"r\")\n",
    "print(f)\n",
    "print(type(f))"
   ]
  },
  {
   "cell_type": "code",
   "execution_count": 109,
   "metadata": {},
   "outputs": [
    {
     "name": "stdout",
     "output_type": "stream",
     "text": [
      "['2020Q1', '1250', '543.1017439760382']\n",
      "['2020Q2', '1293', '950.8965042754886']\n",
      "['2020Q3', '1464', '926.0517121718628']\n",
      "['2020Q4', '1499', '1148.8479633732054']\n"
     ]
    }
   ],
   "source": [
    "rd = csv.reader(f)\n",
    "for line in rd:\n",
    "    print(line)\n",
    "f.close()"
   ]
  },
  {
   "cell_type": "markdown",
   "metadata": {},
   "source": [
    "### `with` statement"
   ]
  },
  {
   "cell_type": "code",
   "execution_count": 110,
   "metadata": {},
   "outputs": [],
   "source": [
    "with open(\"sales.csv\",mode=\"w\") as f:\n",
    "    writer = csv.writer(f)\n",
    "    writer.writerows(data)"
   ]
  },
  {
   "cell_type": "code",
   "execution_count": 111,
   "metadata": {},
   "outputs": [
    {
     "name": "stdout",
     "output_type": "stream",
     "text": [
      "['2020Q1', '1250', '543.1017439760382']\n",
      "['2020Q2', '1293', '950.8965042754886']\n",
      "['2020Q3', '1464', '926.0517121718628']\n",
      "['2020Q4', '1499', '1148.8479633732054']\n"
     ]
    }
   ],
   "source": [
    "with open(\"sales.csv\",mode=\"r\") as f:\n",
    "    reader = csv.reader(f)\n",
    "    for line in reader:\n",
    "        print(line)"
   ]
  },
  {
   "cell_type": "code",
   "execution_count": 112,
   "metadata": {},
   "outputs": [
    {
     "data": {
      "text/plain": [
       "[['2020Q1', '1250', '543.1017439760382'],\n",
       " ['2020Q2', '1293', '950.8965042754886'],\n",
       " ['2020Q3', '1464', '926.0517121718628'],\n",
       " ['2020Q4', '1499', '1148.8479633732054']]"
      ]
     },
     "execution_count": 112,
     "metadata": {},
     "output_type": "execute_result"
    }
   ],
   "source": [
    "with open(\"sales.csv\",mode=\"r\") as f:\n",
    "    reader = csv.reader(f)\n",
    "    content = list(map(list,reader))\n",
    "\n",
    "content"
   ]
  },
  {
   "cell_type": "code",
   "execution_count": 113,
   "metadata": {},
   "outputs": [
    {
     "ename": "ValueError",
     "evalue": "I/O operation on closed file.",
     "output_type": "error",
     "traceback": [
      "\u001b[0;31m---------------------------------------------------------------------------\u001b[0m",
      "\u001b[0;31mValueError\u001b[0m                                Traceback (most recent call last)",
      "\u001b[0;32m<ipython-input-113-33f23eb7c236>\u001b[0m in \u001b[0;36m<module>\u001b[0;34m\u001b[0m\n\u001b[1;32m      3\u001b[0m     \u001b[0mcontent\u001b[0m \u001b[0;34m=\u001b[0m \u001b[0mmap\u001b[0m\u001b[0;34m(\u001b[0m\u001b[0mlist\u001b[0m\u001b[0;34m,\u001b[0m\u001b[0mreader\u001b[0m\u001b[0;34m)\u001b[0m \u001b[0;31m# <----- see the difference here\u001b[0m\u001b[0;34m\u001b[0m\u001b[0;34m\u001b[0m\u001b[0m\n\u001b[1;32m      4\u001b[0m \u001b[0;34m\u001b[0m\u001b[0m\n\u001b[0;32m----> 5\u001b[0;31m \u001b[0mlist\u001b[0m\u001b[0;34m(\u001b[0m\u001b[0mcontent\u001b[0m\u001b[0;34m)\u001b[0m \u001b[0;31m# <--- now try to call it\u001b[0m\u001b[0;34m\u001b[0m\u001b[0;34m\u001b[0m\u001b[0m\n\u001b[0m",
      "\u001b[0;31mValueError\u001b[0m: I/O operation on closed file."
     ]
    }
   ],
   "source": [
    "with open(\"sales.csv\",mode=\"r\") as f:\n",
    "    reader = csv.reader(f)\n",
    "    content = map(list,reader) # <----- see the difference here\n",
    "\n",
    "list(content) # <--- now try to call it"
   ]
  },
  {
   "cell_type": "code",
   "execution_count": 93,
   "metadata": {},
   "outputs": [
    {
     "name": "stdout",
     "output_type": "stream",
     "text": [
      "Nancy\n",
      "Green\n",
      "{'firstName': 'nancy', 'email': 'nancygreen@nomail.com'}\n",
      "\"Nancy\"\n"
     ]
    }
   ],
   "source": [
    "# import json\n",
    "\n",
    "# data = '{\"firstName\":\"Nancy\",\"lastName\":\"Green\"}'\n",
    "\n",
    "# y = json.loads(data)\n",
    "# type(y)\n",
    "# print(y[\"firstName\"])\n",
    "# print(y[\"lastName\"])\n",
    "\n",
    "\n",
    "# customer = {\"firstName\":\"nancy\",\n",
    "#             \"email\":\"nancygreen@nomail.com\"}\n",
    "\n",
    "# customerJson = json.dumps(customer)\n",
    "\n",
    "# print(customer)\n",
    "# print(json.dumps(\"Nancy\"))"
   ]
  },
  {
   "cell_type": "code",
   "execution_count": 114,
   "metadata": {},
   "outputs": [],
   "source": [
    "import json\n",
    "import urllib"
   ]
  },
  {
   "cell_type": "code",
   "execution_count": 115,
   "metadata": {},
   "outputs": [
    {
     "data": {
      "text/plain": [
       "[{'id': 1,\n",
       "  'name': 'Leanne Graham',\n",
       "  'username': 'Bret',\n",
       "  'email': 'Sincere@april.biz',\n",
       "  'address': {'street': 'Kulas Light',\n",
       "   'suite': 'Apt. 556',\n",
       "   'city': 'Gwenborough',\n",
       "   'zipcode': '92998-3874',\n",
       "   'geo': {'lat': '-37.3159', 'lng': '81.1496'}},\n",
       "  'phone': '1-770-736-8031 x56442',\n",
       "  'website': 'hildegard.org',\n",
       "  'company': {'name': 'Romaguera-Crona',\n",
       "   'catchPhrase': 'Multi-layered client-server neural-net',\n",
       "   'bs': 'harness real-time e-markets'}},\n",
       " {'id': 2,\n",
       "  'name': 'Ervin Howell',\n",
       "  'username': 'Antonette',\n",
       "  'email': 'Shanna@melissa.tv',\n",
       "  'address': {'street': 'Victor Plains',\n",
       "   'suite': 'Suite 879',\n",
       "   'city': 'Wisokyburgh',\n",
       "   'zipcode': '90566-7771',\n",
       "   'geo': {'lat': '-43.9509', 'lng': '-34.4618'}},\n",
       "  'phone': '010-692-6593 x09125',\n",
       "  'website': 'anastasia.net',\n",
       "  'company': {'name': 'Deckow-Crist',\n",
       "   'catchPhrase': 'Proactive didactic contingency',\n",
       "   'bs': 'synergize scalable supply-chains'}},\n",
       " {'id': 3,\n",
       "  'name': 'Clementine Bauch',\n",
       "  'username': 'Samantha',\n",
       "  'email': 'Nathan@yesenia.net',\n",
       "  'address': {'street': 'Douglas Extension',\n",
       "   'suite': 'Suite 847',\n",
       "   'city': 'McKenziehaven',\n",
       "   'zipcode': '59590-4157',\n",
       "   'geo': {'lat': '-68.6102', 'lng': '-47.0653'}},\n",
       "  'phone': '1-463-123-4447',\n",
       "  'website': 'ramiro.info',\n",
       "  'company': {'name': 'Romaguera-Jacobson',\n",
       "   'catchPhrase': 'Face to face bifurcated interface',\n",
       "   'bs': 'e-enable strategic applications'}},\n",
       " {'id': 4,\n",
       "  'name': 'Patricia Lebsack',\n",
       "  'username': 'Karianne',\n",
       "  'email': 'Julianne.OConner@kory.org',\n",
       "  'address': {'street': 'Hoeger Mall',\n",
       "   'suite': 'Apt. 692',\n",
       "   'city': 'South Elvis',\n",
       "   'zipcode': '53919-4257',\n",
       "   'geo': {'lat': '29.4572', 'lng': '-164.2990'}},\n",
       "  'phone': '493-170-9623 x156',\n",
       "  'website': 'kale.biz',\n",
       "  'company': {'name': 'Robel-Corkery',\n",
       "   'catchPhrase': 'Multi-tiered zero tolerance productivity',\n",
       "   'bs': 'transition cutting-edge web services'}},\n",
       " {'id': 5,\n",
       "  'name': 'Chelsey Dietrich',\n",
       "  'username': 'Kamren',\n",
       "  'email': 'Lucio_Hettinger@annie.ca',\n",
       "  'address': {'street': 'Skiles Walks',\n",
       "   'suite': 'Suite 351',\n",
       "   'city': 'Roscoeview',\n",
       "   'zipcode': '33263',\n",
       "   'geo': {'lat': '-31.8129', 'lng': '62.5342'}},\n",
       "  'phone': '(254)954-1289',\n",
       "  'website': 'demarco.info',\n",
       "  'company': {'name': 'Keebler LLC',\n",
       "   'catchPhrase': 'User-centric fault-tolerant solution',\n",
       "   'bs': 'revolutionize end-to-end systems'}},\n",
       " {'id': 6,\n",
       "  'name': 'Mrs. Dennis Schulist',\n",
       "  'username': 'Leopoldo_Corkery',\n",
       "  'email': 'Karley_Dach@jasper.info',\n",
       "  'address': {'street': 'Norberto Crossing',\n",
       "   'suite': 'Apt. 950',\n",
       "   'city': 'South Christy',\n",
       "   'zipcode': '23505-1337',\n",
       "   'geo': {'lat': '-71.4197', 'lng': '71.7478'}},\n",
       "  'phone': '1-477-935-8478 x6430',\n",
       "  'website': 'ola.org',\n",
       "  'company': {'name': 'Considine-Lockman',\n",
       "   'catchPhrase': 'Synchronised bottom-line interface',\n",
       "   'bs': 'e-enable innovative applications'}},\n",
       " {'id': 7,\n",
       "  'name': 'Kurtis Weissnat',\n",
       "  'username': 'Elwyn.Skiles',\n",
       "  'email': 'Telly.Hoeger@billy.biz',\n",
       "  'address': {'street': 'Rex Trail',\n",
       "   'suite': 'Suite 280',\n",
       "   'city': 'Howemouth',\n",
       "   'zipcode': '58804-1099',\n",
       "   'geo': {'lat': '24.8918', 'lng': '21.8984'}},\n",
       "  'phone': '210.067.6132',\n",
       "  'website': 'elvis.io',\n",
       "  'company': {'name': 'Johns Group',\n",
       "   'catchPhrase': 'Configurable multimedia task-force',\n",
       "   'bs': 'generate enterprise e-tailers'}},\n",
       " {'id': 8,\n",
       "  'name': 'Nicholas Runolfsdottir V',\n",
       "  'username': 'Maxime_Nienow',\n",
       "  'email': 'Sherwood@rosamond.me',\n",
       "  'address': {'street': 'Ellsworth Summit',\n",
       "   'suite': 'Suite 729',\n",
       "   'city': 'Aliyaview',\n",
       "   'zipcode': '45169',\n",
       "   'geo': {'lat': '-14.3990', 'lng': '-120.7677'}},\n",
       "  'phone': '586.493.6943 x140',\n",
       "  'website': 'jacynthe.com',\n",
       "  'company': {'name': 'Abernathy Group',\n",
       "   'catchPhrase': 'Implemented secondary concept',\n",
       "   'bs': 'e-enable extensible e-tailers'}},\n",
       " {'id': 9,\n",
       "  'name': 'Glenna Reichert',\n",
       "  'username': 'Delphine',\n",
       "  'email': 'Chaim_McDermott@dana.io',\n",
       "  'address': {'street': 'Dayna Park',\n",
       "   'suite': 'Suite 449',\n",
       "   'city': 'Bartholomebury',\n",
       "   'zipcode': '76495-3109',\n",
       "   'geo': {'lat': '24.6463', 'lng': '-168.8889'}},\n",
       "  'phone': '(775)976-6794 x41206',\n",
       "  'website': 'conrad.com',\n",
       "  'company': {'name': 'Yost and Sons',\n",
       "   'catchPhrase': 'Switchable contextually-based project',\n",
       "   'bs': 'aggregate real-time technologies'}},\n",
       " {'id': 10,\n",
       "  'name': 'Clementina DuBuque',\n",
       "  'username': 'Moriah.Stanton',\n",
       "  'email': 'Rey.Padberg@karina.biz',\n",
       "  'address': {'street': 'Kattie Turnpike',\n",
       "   'suite': 'Suite 198',\n",
       "   'city': 'Lebsackbury',\n",
       "   'zipcode': '31428-2261',\n",
       "   'geo': {'lat': '-38.2386', 'lng': '57.2232'}},\n",
       "  'phone': '024-648-3804',\n",
       "  'website': 'ambrose.net',\n",
       "  'company': {'name': 'Hoeger LLC',\n",
       "   'catchPhrase': 'Centralized empowering task-force',\n",
       "   'bs': 'target end-to-end models'}}]"
      ]
     },
     "execution_count": 115,
     "metadata": {},
     "output_type": "execute_result"
    }
   ],
   "source": [
    "response = urllib.request.urlopen(\"https://jsonplaceholder.typicode.com/users\")\n",
    "raw_content = response.read().decode()\n",
    "\n",
    "content = json.loads(raw_content) # `eval()` would also do it\n",
    "content"
   ]
  },
  {
   "cell_type": "code",
   "execution_count": 116,
   "metadata": {},
   "outputs": [],
   "source": [
    "with open(\"users.json\",\"w\") as f:\n",
    "    json.dump(content,f)"
   ]
  },
  {
   "cell_type": "code",
   "execution_count": 117,
   "metadata": {},
   "outputs": [
    {
     "data": {
      "text/plain": [
       "[{'id': 1,\n",
       "  'name': 'Leanne Graham',\n",
       "  'username': 'Bret',\n",
       "  'email': 'Sincere@april.biz',\n",
       "  'address': {'street': 'Kulas Light',\n",
       "   'suite': 'Apt. 556',\n",
       "   'city': 'Gwenborough',\n",
       "   'zipcode': '92998-3874',\n",
       "   'geo': {'lat': '-37.3159', 'lng': '81.1496'}},\n",
       "  'phone': '1-770-736-8031 x56442',\n",
       "  'website': 'hildegard.org',\n",
       "  'company': {'name': 'Romaguera-Crona',\n",
       "   'catchPhrase': 'Multi-layered client-server neural-net',\n",
       "   'bs': 'harness real-time e-markets'}},\n",
       " {'id': 2,\n",
       "  'name': 'Ervin Howell',\n",
       "  'username': 'Antonette',\n",
       "  'email': 'Shanna@melissa.tv',\n",
       "  'address': {'street': 'Victor Plains',\n",
       "   'suite': 'Suite 879',\n",
       "   'city': 'Wisokyburgh',\n",
       "   'zipcode': '90566-7771',\n",
       "   'geo': {'lat': '-43.9509', 'lng': '-34.4618'}},\n",
       "  'phone': '010-692-6593 x09125',\n",
       "  'website': 'anastasia.net',\n",
       "  'company': {'name': 'Deckow-Crist',\n",
       "   'catchPhrase': 'Proactive didactic contingency',\n",
       "   'bs': 'synergize scalable supply-chains'}},\n",
       " {'id': 3,\n",
       "  'name': 'Clementine Bauch',\n",
       "  'username': 'Samantha',\n",
       "  'email': 'Nathan@yesenia.net',\n",
       "  'address': {'street': 'Douglas Extension',\n",
       "   'suite': 'Suite 847',\n",
       "   'city': 'McKenziehaven',\n",
       "   'zipcode': '59590-4157',\n",
       "   'geo': {'lat': '-68.6102', 'lng': '-47.0653'}},\n",
       "  'phone': '1-463-123-4447',\n",
       "  'website': 'ramiro.info',\n",
       "  'company': {'name': 'Romaguera-Jacobson',\n",
       "   'catchPhrase': 'Face to face bifurcated interface',\n",
       "   'bs': 'e-enable strategic applications'}},\n",
       " {'id': 4,\n",
       "  'name': 'Patricia Lebsack',\n",
       "  'username': 'Karianne',\n",
       "  'email': 'Julianne.OConner@kory.org',\n",
       "  'address': {'street': 'Hoeger Mall',\n",
       "   'suite': 'Apt. 692',\n",
       "   'city': 'South Elvis',\n",
       "   'zipcode': '53919-4257',\n",
       "   'geo': {'lat': '29.4572', 'lng': '-164.2990'}},\n",
       "  'phone': '493-170-9623 x156',\n",
       "  'website': 'kale.biz',\n",
       "  'company': {'name': 'Robel-Corkery',\n",
       "   'catchPhrase': 'Multi-tiered zero tolerance productivity',\n",
       "   'bs': 'transition cutting-edge web services'}},\n",
       " {'id': 5,\n",
       "  'name': 'Chelsey Dietrich',\n",
       "  'username': 'Kamren',\n",
       "  'email': 'Lucio_Hettinger@annie.ca',\n",
       "  'address': {'street': 'Skiles Walks',\n",
       "   'suite': 'Suite 351',\n",
       "   'city': 'Roscoeview',\n",
       "   'zipcode': '33263',\n",
       "   'geo': {'lat': '-31.8129', 'lng': '62.5342'}},\n",
       "  'phone': '(254)954-1289',\n",
       "  'website': 'demarco.info',\n",
       "  'company': {'name': 'Keebler LLC',\n",
       "   'catchPhrase': 'User-centric fault-tolerant solution',\n",
       "   'bs': 'revolutionize end-to-end systems'}},\n",
       " {'id': 6,\n",
       "  'name': 'Mrs. Dennis Schulist',\n",
       "  'username': 'Leopoldo_Corkery',\n",
       "  'email': 'Karley_Dach@jasper.info',\n",
       "  'address': {'street': 'Norberto Crossing',\n",
       "   'suite': 'Apt. 950',\n",
       "   'city': 'South Christy',\n",
       "   'zipcode': '23505-1337',\n",
       "   'geo': {'lat': '-71.4197', 'lng': '71.7478'}},\n",
       "  'phone': '1-477-935-8478 x6430',\n",
       "  'website': 'ola.org',\n",
       "  'company': {'name': 'Considine-Lockman',\n",
       "   'catchPhrase': 'Synchronised bottom-line interface',\n",
       "   'bs': 'e-enable innovative applications'}},\n",
       " {'id': 7,\n",
       "  'name': 'Kurtis Weissnat',\n",
       "  'username': 'Elwyn.Skiles',\n",
       "  'email': 'Telly.Hoeger@billy.biz',\n",
       "  'address': {'street': 'Rex Trail',\n",
       "   'suite': 'Suite 280',\n",
       "   'city': 'Howemouth',\n",
       "   'zipcode': '58804-1099',\n",
       "   'geo': {'lat': '24.8918', 'lng': '21.8984'}},\n",
       "  'phone': '210.067.6132',\n",
       "  'website': 'elvis.io',\n",
       "  'company': {'name': 'Johns Group',\n",
       "   'catchPhrase': 'Configurable multimedia task-force',\n",
       "   'bs': 'generate enterprise e-tailers'}},\n",
       " {'id': 8,\n",
       "  'name': 'Nicholas Runolfsdottir V',\n",
       "  'username': 'Maxime_Nienow',\n",
       "  'email': 'Sherwood@rosamond.me',\n",
       "  'address': {'street': 'Ellsworth Summit',\n",
       "   'suite': 'Suite 729',\n",
       "   'city': 'Aliyaview',\n",
       "   'zipcode': '45169',\n",
       "   'geo': {'lat': '-14.3990', 'lng': '-120.7677'}},\n",
       "  'phone': '586.493.6943 x140',\n",
       "  'website': 'jacynthe.com',\n",
       "  'company': {'name': 'Abernathy Group',\n",
       "   'catchPhrase': 'Implemented secondary concept',\n",
       "   'bs': 'e-enable extensible e-tailers'}},\n",
       " {'id': 9,\n",
       "  'name': 'Glenna Reichert',\n",
       "  'username': 'Delphine',\n",
       "  'email': 'Chaim_McDermott@dana.io',\n",
       "  'address': {'street': 'Dayna Park',\n",
       "   'suite': 'Suite 449',\n",
       "   'city': 'Bartholomebury',\n",
       "   'zipcode': '76495-3109',\n",
       "   'geo': {'lat': '24.6463', 'lng': '-168.8889'}},\n",
       "  'phone': '(775)976-6794 x41206',\n",
       "  'website': 'conrad.com',\n",
       "  'company': {'name': 'Yost and Sons',\n",
       "   'catchPhrase': 'Switchable contextually-based project',\n",
       "   'bs': 'aggregate real-time technologies'}},\n",
       " {'id': 10,\n",
       "  'name': 'Clementina DuBuque',\n",
       "  'username': 'Moriah.Stanton',\n",
       "  'email': 'Rey.Padberg@karina.biz',\n",
       "  'address': {'street': 'Kattie Turnpike',\n",
       "   'suite': 'Suite 198',\n",
       "   'city': 'Lebsackbury',\n",
       "   'zipcode': '31428-2261',\n",
       "   'geo': {'lat': '-38.2386', 'lng': '57.2232'}},\n",
       "  'phone': '024-648-3804',\n",
       "  'website': 'ambrose.net',\n",
       "  'company': {'name': 'Hoeger LLC',\n",
       "   'catchPhrase': 'Centralized empowering task-force',\n",
       "   'bs': 'target end-to-end models'}}]"
      ]
     },
     "execution_count": 117,
     "metadata": {},
     "output_type": "execute_result"
    }
   ],
   "source": [
    "with open(\"users.json\",\"r\") as f:\n",
    "    written_content = json.load(f)\n",
    "written_content"
   ]
  },
  {
   "cell_type": "code",
   "execution_count": 119,
   "metadata": {
    "scrolled": true
   },
   "outputs": [
    {
     "name": "stdout",
     "output_type": "stream",
     "text": [
      "[{\"id\": 1, \"name\": \"Leanne Graham\", \"username\": \"Bret\", \"email\": \"Sincere@april.biz\", \"address\": {\"street\": \"Kulas Light\", \"suite\": \"Apt. 556\", \"city\": \"Gwenborough\", \"zipcode\": \"92998-3874\", \"geo\": {\"lat\": \"-37.3159\", \"lng\": \"81.1496\"}}, \"phone\": \"1-770-736-8031 x56442\", \"website\": \"hildegard.org\", \"company\": {\"name\": \"Romaguera-Crona\", \"catchPhrase\": \"Multi-layered client-server neural-net\", \"bs\": \"harness real-time e-markets\"}}, {\"id\": 2, \"name\": \"Ervin Howell\", \"username\": \"Antonette\", \"email\": \"Shanna@melissa.tv\", \"address\": {\"street\": \"Victor Plains\", \"suite\": \"Suite 879\", \"city\": \"Wisokyburgh\", \"zipcode\": \"90566-7771\", \"geo\": {\"lat\": \"-43.9509\", \"lng\": \"-34.4618\"}}, \"phone\": \"010-692-6593 x09125\", \"website\": \"anastasia.net\", \"company\": {\"name\": \"Deckow-Crist\", \"catchPhrase\": \"Proactive didactic contingency\", \"bs\": \"synergize scalable supply-chains\"}}, {\"id\": 3, \"name\": \"Clementine Bauch\", \"username\": \"Samantha\", \"email\": \"Nathan@yesenia.net\", \"address\": {\"street\": \"Douglas Extension\", \"suite\": \"Suite 847\", \"city\": \"McKenziehaven\", \"zipcode\": \"59590-4157\", \"geo\": {\"lat\": \"-68.6102\", \"lng\": \"-47.0653\"}}, \"phone\": \"1-463-123-4447\", \"website\": \"ramiro.info\", \"company\": {\"name\": \"Romaguera-Jacobson\", \"catchPhrase\": \"Face to face bifurcated interface\", \"bs\": \"e-enable strategic applications\"}}, {\"id\": 4, \"name\": \"Patricia Lebsack\", \"username\": \"Karianne\", \"email\": \"Julianne.OConner@kory.org\", \"address\": {\"street\": \"Hoeger Mall\", \"suite\": \"Apt. 692\", \"city\": \"South Elvis\", \"zipcode\": \"53919-4257\", \"geo\": {\"lat\": \"29.4572\", \"lng\": \"-164.2990\"}}, \"phone\": \"493-170-9623 x156\", \"website\": \"kale.biz\", \"company\": {\"name\": \"Robel-Corkery\", \"catchPhrase\": \"Multi-tiered zero tolerance productivity\", \"bs\": \"transition cutting-edge web services\"}}, {\"id\": 5, \"name\": \"Chelsey Dietrich\", \"username\": \"Kamren\", \"email\": \"Lucio_Hettinger@annie.ca\", \"address\": {\"street\": \"Skiles Walks\", \"suite\": \"Suite 351\", \"city\": \"Roscoeview\", \"zipcode\": \"33263\", \"geo\": {\"lat\": \"-31.8129\", \"lng\": \"62.5342\"}}, \"phone\": \"(254)954-1289\", \"website\": \"demarco.info\", \"company\": {\"name\": \"Keebler LLC\", \"catchPhrase\": \"User-centric fault-tolerant solution\", \"bs\": \"revolutionize end-to-end systems\"}}, {\"id\": 6, \"name\": \"Mrs. Dennis Schulist\", \"username\": \"Leopoldo_Corkery\", \"email\": \"Karley_Dach@jasper.info\", \"address\": {\"street\": \"Norberto Crossing\", \"suite\": \"Apt. 950\", \"city\": \"South Christy\", \"zipcode\": \"23505-1337\", \"geo\": {\"lat\": \"-71.4197\", \"lng\": \"71.7478\"}}, \"phone\": \"1-477-935-8478 x6430\", \"website\": \"ola.org\", \"company\": {\"name\": \"Considine-Lockman\", \"catchPhrase\": \"Synchronised bottom-line interface\", \"bs\": \"e-enable innovative applications\"}}, {\"id\": 7, \"name\": \"Kurtis Weissnat\", \"username\": \"Elwyn.Skiles\", \"email\": \"Telly.Hoeger@billy.biz\", \"address\": {\"street\": \"Rex Trail\", \"suite\": \"Suite 280\", \"city\": \"Howemouth\", \"zipcode\": \"58804-1099\", \"geo\": {\"lat\": \"24.8918\", \"lng\": \"21.8984\"}}, \"phone\": \"210.067.6132\", \"website\": \"elvis.io\", \"company\": {\"name\": \"Johns Group\", \"catchPhrase\": \"Configurable multimedia task-force\", \"bs\": \"generate enterprise e-tailers\"}}, {\"id\": 8, \"name\": \"Nicholas Runolfsdottir V\", \"username\": \"Maxime_Nienow\", \"email\": \"Sherwood@rosamond.me\", \"address\": {\"street\": \"Ellsworth Summit\", \"suite\": \"Suite 729\", \"city\": \"Aliyaview\", \"zipcode\": \"45169\", \"geo\": {\"lat\": \"-14.3990\", \"lng\": \"-120.7677\"}}, \"phone\": \"586.493.6943 x140\", \"website\": \"jacynthe.com\", \"company\": {\"name\": \"Abernathy Group\", \"catchPhrase\": \"Implemented secondary concept\", \"bs\": \"e-enable extensible e-tailers\"}}, {\"id\": 9, \"name\": \"Glenna Reichert\", \"username\": \"Delphine\", \"email\": \"Chaim_McDermott@dana.io\", \"address\": {\"street\": \"Dayna Park\", \"suite\": \"Suite 449\", \"city\": \"Bartholomebury\", \"zipcode\": \"76495-3109\", \"geo\": {\"lat\": \"24.6463\", \"lng\": \"-168.8889\"}}, \"phone\": \"(775)976-6794 x41206\", \"website\": \"conrad.com\", \"company\": {\"name\": \"Yost and Sons\", \"catchPhrase\": \"Switchable contextually-based project\", \"bs\": \"aggregate real-time technologies\"}}, {\"id\": 10, \"name\": \"Clementina DuBuque\", \"username\": \"Moriah.Stanton\", \"email\": \"Rey.Padberg@karina.biz\", \"address\": {\"street\": \"Kattie Turnpike\", \"suite\": \"Suite 198\", \"city\": \"Lebsackbury\", \"zipcode\": \"31428-2261\", \"geo\": {\"lat\": \"-38.2386\", \"lng\": \"57.2232\"}}, \"phone\": \"024-648-3804\", \"website\": \"ambrose.net\", \"company\": {\"name\": \"Hoeger LLC\", \"catchPhrase\": \"Centralized empowering task-force\", \"bs\": \"target end-to-end models\"}}]\n"
     ]
    }
   ],
   "source": [
    "# get what would have written to file if were to use `json.dump`\n",
    "raw = json.dumps(written_content)\n",
    "print(raw)"
   ]
  },
  {
   "cell_type": "code",
   "execution_count": 120,
   "metadata": {},
   "outputs": [
    {
     "data": {
      "text/plain": [
       "[{'id': 1,\n",
       "  'name': 'Leanne Graham',\n",
       "  'username': 'Bret',\n",
       "  'email': 'Sincere@april.biz',\n",
       "  'address': {'street': 'Kulas Light',\n",
       "   'suite': 'Apt. 556',\n",
       "   'city': 'Gwenborough',\n",
       "   'zipcode': '92998-3874',\n",
       "   'geo': {'lat': '-37.3159', 'lng': '81.1496'}},\n",
       "  'phone': '1-770-736-8031 x56442',\n",
       "  'website': 'hildegard.org',\n",
       "  'company': {'name': 'Romaguera-Crona',\n",
       "   'catchPhrase': 'Multi-layered client-server neural-net',\n",
       "   'bs': 'harness real-time e-markets'}},\n",
       " {'id': 2,\n",
       "  'name': 'Ervin Howell',\n",
       "  'username': 'Antonette',\n",
       "  'email': 'Shanna@melissa.tv',\n",
       "  'address': {'street': 'Victor Plains',\n",
       "   'suite': 'Suite 879',\n",
       "   'city': 'Wisokyburgh',\n",
       "   'zipcode': '90566-7771',\n",
       "   'geo': {'lat': '-43.9509', 'lng': '-34.4618'}},\n",
       "  'phone': '010-692-6593 x09125',\n",
       "  'website': 'anastasia.net',\n",
       "  'company': {'name': 'Deckow-Crist',\n",
       "   'catchPhrase': 'Proactive didactic contingency',\n",
       "   'bs': 'synergize scalable supply-chains'}},\n",
       " {'id': 3,\n",
       "  'name': 'Clementine Bauch',\n",
       "  'username': 'Samantha',\n",
       "  'email': 'Nathan@yesenia.net',\n",
       "  'address': {'street': 'Douglas Extension',\n",
       "   'suite': 'Suite 847',\n",
       "   'city': 'McKenziehaven',\n",
       "   'zipcode': '59590-4157',\n",
       "   'geo': {'lat': '-68.6102', 'lng': '-47.0653'}},\n",
       "  'phone': '1-463-123-4447',\n",
       "  'website': 'ramiro.info',\n",
       "  'company': {'name': 'Romaguera-Jacobson',\n",
       "   'catchPhrase': 'Face to face bifurcated interface',\n",
       "   'bs': 'e-enable strategic applications'}},\n",
       " {'id': 4,\n",
       "  'name': 'Patricia Lebsack',\n",
       "  'username': 'Karianne',\n",
       "  'email': 'Julianne.OConner@kory.org',\n",
       "  'address': {'street': 'Hoeger Mall',\n",
       "   'suite': 'Apt. 692',\n",
       "   'city': 'South Elvis',\n",
       "   'zipcode': '53919-4257',\n",
       "   'geo': {'lat': '29.4572', 'lng': '-164.2990'}},\n",
       "  'phone': '493-170-9623 x156',\n",
       "  'website': 'kale.biz',\n",
       "  'company': {'name': 'Robel-Corkery',\n",
       "   'catchPhrase': 'Multi-tiered zero tolerance productivity',\n",
       "   'bs': 'transition cutting-edge web services'}},\n",
       " {'id': 5,\n",
       "  'name': 'Chelsey Dietrich',\n",
       "  'username': 'Kamren',\n",
       "  'email': 'Lucio_Hettinger@annie.ca',\n",
       "  'address': {'street': 'Skiles Walks',\n",
       "   'suite': 'Suite 351',\n",
       "   'city': 'Roscoeview',\n",
       "   'zipcode': '33263',\n",
       "   'geo': {'lat': '-31.8129', 'lng': '62.5342'}},\n",
       "  'phone': '(254)954-1289',\n",
       "  'website': 'demarco.info',\n",
       "  'company': {'name': 'Keebler LLC',\n",
       "   'catchPhrase': 'User-centric fault-tolerant solution',\n",
       "   'bs': 'revolutionize end-to-end systems'}},\n",
       " {'id': 6,\n",
       "  'name': 'Mrs. Dennis Schulist',\n",
       "  'username': 'Leopoldo_Corkery',\n",
       "  'email': 'Karley_Dach@jasper.info',\n",
       "  'address': {'street': 'Norberto Crossing',\n",
       "   'suite': 'Apt. 950',\n",
       "   'city': 'South Christy',\n",
       "   'zipcode': '23505-1337',\n",
       "   'geo': {'lat': '-71.4197', 'lng': '71.7478'}},\n",
       "  'phone': '1-477-935-8478 x6430',\n",
       "  'website': 'ola.org',\n",
       "  'company': {'name': 'Considine-Lockman',\n",
       "   'catchPhrase': 'Synchronised bottom-line interface',\n",
       "   'bs': 'e-enable innovative applications'}},\n",
       " {'id': 7,\n",
       "  'name': 'Kurtis Weissnat',\n",
       "  'username': 'Elwyn.Skiles',\n",
       "  'email': 'Telly.Hoeger@billy.biz',\n",
       "  'address': {'street': 'Rex Trail',\n",
       "   'suite': 'Suite 280',\n",
       "   'city': 'Howemouth',\n",
       "   'zipcode': '58804-1099',\n",
       "   'geo': {'lat': '24.8918', 'lng': '21.8984'}},\n",
       "  'phone': '210.067.6132',\n",
       "  'website': 'elvis.io',\n",
       "  'company': {'name': 'Johns Group',\n",
       "   'catchPhrase': 'Configurable multimedia task-force',\n",
       "   'bs': 'generate enterprise e-tailers'}},\n",
       " {'id': 8,\n",
       "  'name': 'Nicholas Runolfsdottir V',\n",
       "  'username': 'Maxime_Nienow',\n",
       "  'email': 'Sherwood@rosamond.me',\n",
       "  'address': {'street': 'Ellsworth Summit',\n",
       "   'suite': 'Suite 729',\n",
       "   'city': 'Aliyaview',\n",
       "   'zipcode': '45169',\n",
       "   'geo': {'lat': '-14.3990', 'lng': '-120.7677'}},\n",
       "  'phone': '586.493.6943 x140',\n",
       "  'website': 'jacynthe.com',\n",
       "  'company': {'name': 'Abernathy Group',\n",
       "   'catchPhrase': 'Implemented secondary concept',\n",
       "   'bs': 'e-enable extensible e-tailers'}},\n",
       " {'id': 9,\n",
       "  'name': 'Glenna Reichert',\n",
       "  'username': 'Delphine',\n",
       "  'email': 'Chaim_McDermott@dana.io',\n",
       "  'address': {'street': 'Dayna Park',\n",
       "   'suite': 'Suite 449',\n",
       "   'city': 'Bartholomebury',\n",
       "   'zipcode': '76495-3109',\n",
       "   'geo': {'lat': '24.6463', 'lng': '-168.8889'}},\n",
       "  'phone': '(775)976-6794 x41206',\n",
       "  'website': 'conrad.com',\n",
       "  'company': {'name': 'Yost and Sons',\n",
       "   'catchPhrase': 'Switchable contextually-based project',\n",
       "   'bs': 'aggregate real-time technologies'}},\n",
       " {'id': 10,\n",
       "  'name': 'Clementina DuBuque',\n",
       "  'username': 'Moriah.Stanton',\n",
       "  'email': 'Rey.Padberg@karina.biz',\n",
       "  'address': {'street': 'Kattie Turnpike',\n",
       "   'suite': 'Suite 198',\n",
       "   'city': 'Lebsackbury',\n",
       "   'zipcode': '31428-2261',\n",
       "   'geo': {'lat': '-38.2386', 'lng': '57.2232'}},\n",
       "  'phone': '024-648-3804',\n",
       "  'website': 'ambrose.net',\n",
       "  'company': {'name': 'Hoeger LLC',\n",
       "   'catchPhrase': 'Centralized empowering task-force',\n",
       "   'bs': 'target end-to-end models'}}]"
      ]
     },
     "execution_count": 120,
     "metadata": {},
     "output_type": "execute_result"
    }
   ],
   "source": [
    "# parse string as json file\n",
    "json.loads(raw)"
   ]
  },
  {
   "cell_type": "code",
   "execution_count": null,
   "metadata": {},
   "outputs": [],
   "source": [
    "# x = {\n",
    "#   \"name\": \"John\",\n",
    "#   \"age\": 30,\n",
    "#   \"married\": True,\n",
    "#   \"divorced\": False,\n",
    "#   \"children\": (\"Ann\",\"Billy\"),\n",
    "#   \"pets\": None,\n",
    "#   \"cars\": [\n",
    "#     {\"model\": \"BMW 230\", \"mpg\": 27.5},\n",
    "#     {\"model\": \"Ford Edge\", \"mpg\": 24.1}\n",
    "#   ]\n",
    "# }\n",
    "\n",
    "# print(json.dumps(x))"
   ]
  },
  {
   "cell_type": "code",
   "execution_count": 124,
   "metadata": {},
   "outputs": [],
   "source": [
    "import pickle"
   ]
  },
  {
   "cell_type": "code",
   "execution_count": 127,
   "metadata": {},
   "outputs": [],
   "source": [
    "person = collections.namedtuple(\"Person\",\"name,age\")\n",
    "\n",
    "a = 1,2,3,[4,5]\n",
    "data = {\n",
    "    \"mert\":[{\"a\",\"b\",\"c\"},(\"Aras\",\"Kahraman\",[29])],\n",
    "    \"aras\":[a,{123,234,345,456}],\n",
    "    \"others\": map(str,a)}"
   ]
  },
  {
   "cell_type": "code",
   "execution_count": 128,
   "metadata": {},
   "outputs": [
    {
     "data": {
      "text/plain": [
       "{'mert': [{'a', 'b', 'c'}, ('Aras', 'Kahraman', [29])],\n",
       " 'aras': [(1, 2, 3, [4, 5]), {123, 234, 345, 456}],\n",
       " 'others': <map at 0x7f7f07aeccc0>}"
      ]
     },
     "execution_count": 128,
     "metadata": {},
     "output_type": "execute_result"
    }
   ],
   "source": [
    "data"
   ]
  },
  {
   "cell_type": "code",
   "execution_count": 129,
   "metadata": {},
   "outputs": [],
   "source": [
    "with open(\"complex_data.pickle\",mode=\"wb\") as f:\n",
    "    pickle.dump(data,f)"
   ]
  },
  {
   "cell_type": "code",
   "execution_count": 133,
   "metadata": {},
   "outputs": [
    {
     "data": {
      "text/plain": [
       "{'mert': [{'a', 'b', 'c'}, ('Aras', 'Kahraman', [29])],\n",
       " 'aras': [(1, 2, 3, [4, 5]), {123, 234, 345, 456}],\n",
       " 'others': <map at 0x7f7f07aecbe0>}"
      ]
     },
     "execution_count": 133,
     "metadata": {},
     "output_type": "execute_result"
    }
   ],
   "source": [
    "with open(\"complex_data.pickle\",mode=\"rb\") as f:\n",
    "    written_data = pickle.load(f)\n",
    "written_data"
   ]
  },
  {
   "cell_type": "code",
   "execution_count": 134,
   "metadata": {},
   "outputs": [
    {
     "data": {
      "text/plain": [
       "['1', '2', '3', '[4, 5]']"
      ]
     },
     "execution_count": 134,
     "metadata": {},
     "output_type": "execute_result"
    }
   ],
   "source": [
    "list(written_data['others'])"
   ]
  },
  {
   "cell_type": "code",
   "execution_count": null,
   "metadata": {},
   "outputs": [],
   "source": [
    "### CAUTION <--------------- MERT\n",
    "import re\n",
    "\n",
    "# regular expression examples!!! <------------------------\n",
    "\n",
    "re.compile\n",
    "re.search\n",
    "re.findall\n",
    "re.finditer\n",
    "re.match\n",
    "re.sub"
   ]
  },
  {
   "cell_type": "markdown",
   "metadata": {},
   "source": [
    "## Section 2: Object-oriented Programming\n",
    "\n",
    "Object Oriented programming (OOP) is a programming paradigm that relies on the concept of classes and objects. It is used to structure a software program into simple, reusable pieces of code blueprints (usually called classes), which are used to create individual instances of objects.\n",
    "\n",
    "### What Is an Object?\n",
    "An object is a software bundle of related state and behavior. Software objects are often used to model the real-world objects that you find in everyday life. This lesson explains how state and behavior are represented within an object, introduces the concept of data encapsulation, and explains the benefits of designing your software in this manner.\n",
    "\n",
    "### What Is a Class?\n",
    "A class is a blueprint or prototype from which objects are created. This section defines a class that models the state and behavior of a real-world object. It intentionally focuses on the basics, showing how even a simple class can cleanly model state and behavior.\n",
    "\n",
    "### What Is Inheritance?\n",
    "Inheritance provides a powerful and natural mechanism for organizing and structuring your software. This section explains how classes inherit state and behavior from their superclasses, and explains how to derive one class from another using the simple syntax provided by the Java programming language.\n",
    "\n",
    "### What Is an Interface?\n",
    "An interface is a contract between a class and the outside world. When a class implements an interface, it promises to provide the behavior published by that interface."
   ]
  },
  {
   "cell_type": "code",
   "execution_count": null,
   "metadata": {},
   "outputs": [],
   "source": [
    "class MyClass:\n",
    "    def __init__(self,arg1,arg2):\n",
    "        self.arg1 = arg1\n",
    "        self.arg2 = arg2\n",
    "    \n",
    "    def method1(self,arguments):\n",
    "        pass\n",
    "    \n",
    "    def method2(self,arguments):\n",
    "        pass"
   ]
  },
  {
   "cell_type": "markdown",
   "metadata": {},
   "source": [
    "### The role of `self`\n",
    "\n",
    "The `self` is used to represent the instance of the class. With this keyword, you can access the attributes and methods of the class in python. It binds the attributes with the given arguments."
   ]
  },
  {
   "cell_type": "code",
   "execution_count": null,
   "metadata": {},
   "outputs": [],
   "source": [
    "class Pet:\n",
    "    def __init__(self,name,age,breed=None):\n",
    "        self.name = name\n",
    "        self.age = age\n",
    "        self.breed = breed\n",
    "        \n",
    "my_cat = Pet(\"Fluffy\",4)\n",
    "\n",
    "print(my_cat.name)\n",
    "print(my_cat.age)\n",
    "print(my_cat.breed)"
   ]
  },
  {
   "cell_type": "code",
   "execution_count": null,
   "metadata": {},
   "outputs": [],
   "source": [
    "class Pet:\n",
    "    def __init__(self,name,age,breed=None,height=None,weight=None):\n",
    "        self.name = name\n",
    "        self.age = age\n",
    "        self.breed = breed\n",
    "        self.height = height\n",
    "        self.weight = weight\n",
    "        \n",
    "    def describe(self):\n",
    "        out = {\n",
    "            \"Name\":self.name,\n",
    "            \"Age\":self.age,\n",
    "        }\n",
    "        \n",
    "        if self.breed is not None:\n",
    "            out[\"Breed\"] = self.breed\n",
    "        \n",
    "        return out\n",
    "    \n",
    "    def display_info(self):\n",
    "        d = self.describe()\n",
    "        d = map(lambda s: \": \".join(map(str,s)),d.items())\n",
    "        print(\"\\n\".join())\n",
    "    \n",
    "    def is_valid(self):\n",
    "        if self.height is not None and self.weight is not None:\n",
    "            return 0 < self.height < 40 and 0.2 < self.weight < 20\n",
    "        else:\n",
    "            return None\n",
    "        \n",
    "\n",
    "my_cat = Pet(\"Kitty\",4,\"Exotic Shorthair\",27,6)\n",
    "my_cat.is_valid()"
   ]
  },
  {
   "cell_type": "code",
   "execution_count": null,
   "metadata": {},
   "outputs": [],
   "source": [
    "my_cat.describe()"
   ]
  },
  {
   "cell_type": "code",
   "execution_count": null,
   "metadata": {},
   "outputs": [],
   "source": [
    "my_cat.display_info()"
   ]
  },
  {
   "cell_type": "code",
   "execution_count": null,
   "metadata": {},
   "outputs": [],
   "source": [
    "print(\"abc\\ndef\")"
   ]
  },
  {
   "cell_type": "code",
   "execution_count": null,
   "metadata": {},
   "outputs": [],
   "source": [
    "### NOT A PRIORITY <----\n",
    "class Pet:\n",
    "    def __init__(self,name,age):\n",
    "        self.name = name\n",
    "        self.age = age\n",
    "    \n",
    "    def describe(self):\n",
    "        print(\"Name:\",self.name)\n",
    "        print(\"Age:\",self.age)\n",
    "    \n",
    "    @staticmethod\n",
    "    def method1(self):\n",
    "        pass\n",
    "    \n",
    "    @classmethod\n",
    "    def method2(cls):\n",
    "        pass"
   ]
  },
  {
   "cell_type": "markdown",
   "metadata": {},
   "source": [
    "### Leading underscores `_` and `__`\n",
    "\n",
    "A single underscore `_` is a weak \"internal use\" indicator and should be treated as a non-public part of the API. It should be considered an implementation detail and subject to change without notice.\n",
    "\n",
    "On the other hand, double underscore `__` prefix makes an attribute private.\n",
    "\n",
    "**A warning in the [docs](https://docs.python.org/3/tutorial/classes.html#private-variables):**\n",
    "\n",
    "> it still is possible to access or modify a variable that is considered private."
   ]
  },
  {
   "cell_type": "code",
   "execution_count": null,
   "metadata": {},
   "outputs": [],
   "source": [
    "class Pet:\n",
    "    def __init__(self,name,age):\n",
    "        self.name = name\n",
    "        self.age = age\n",
    "    \n",
    "    def describe(self):\n",
    "        print(\"Name:\",self.name)\n",
    "        print(\"Age:\",self.age)\n",
    "    \n",
    "    def _method(self):\n",
    "        print(\"Method name with single leading underscore.\")\n",
    "    \n",
    "    def __method(self):\n",
    "        print(\"Method name with double leading underscore.\")\n",
    "    \n",
    "    def method(self):\n",
    "        self.__method()"
   ]
  },
  {
   "cell_type": "code",
   "execution_count": null,
   "metadata": {},
   "outputs": [],
   "source": [
    "p = Pet(\"\",\"\")"
   ]
  },
  {
   "cell_type": "code",
   "execution_count": null,
   "metadata": {},
   "outputs": [],
   "source": [
    "p._method()"
   ]
  },
  {
   "cell_type": "code",
   "execution_count": null,
   "metadata": {},
   "outputs": [],
   "source": [
    "p.__method()"
   ]
  },
  {
   "cell_type": "code",
   "execution_count": null,
   "metadata": {},
   "outputs": [],
   "source": [
    "p.method()"
   ]
  },
  {
   "cell_type": "code",
   "execution_count": null,
   "metadata": {},
   "outputs": [],
   "source": []
  },
  {
   "cell_type": "code",
   "execution_count": null,
   "metadata": {},
   "outputs": [],
   "source": [
    "# import urllib, json\n",
    "# response = urllib.request.urlopen('https://randomuser.me/api/')\n",
    "# raw = response.read()\n",
    "# content = json.loads(raw.decode())\n",
    "# content"
   ]
  },
  {
   "cell_type": "code",
   "execution_count": null,
   "metadata": {},
   "outputs": [],
   "source": []
  },
  {
   "cell_type": "code",
   "execution_count": null,
   "metadata": {},
   "outputs": [],
   "source": []
  },
  {
   "cell_type": "code",
   "execution_count": null,
   "metadata": {},
   "outputs": [],
   "source": [
    "# class employees:\n",
    "#     def __init__(self, name, lname, age, language):\n",
    "#         self.name = name\n",
    "#         self.lname = lname\n",
    "#         self.age = age\n",
    "#         self.language = language\n",
    "   \n",
    "#     def print_name(self):\n",
    "#         print(self.name  + \" \" + self.lname)\n",
    "       \n",
    "#     def showage(self):\n",
    "#         print(self.name  +  \" \" + self.lname, \"is\", self.age +  \" years old \")\n",
    "       \n",
    "#     def speak_language(self):\n",
    "#         print(self.name, self.lname, \"speaks\", self.language)\n",
    "       \n",
    "#     def showinfo(self):\n",
    "#         print(self.name, self.lname, \"is\", self.age, \"and\", \"speaks\", self.language)\n",
    "\n",
    "        \n",
    "# manager1 = managers(\"Mert\", \"Trump\", \"44\")\n",
    "# manager2 = managers(\"Gamze\", \"Cakır\", \"43\")\n",
    "\n",
    "# manager1.print_name()\n",
    "\n",
    "# manager1.showage()\n",
    "\n",
    "# manager1.addlanguage(\"Spanish and English\")\n",
    "\n",
    "# manager1.showinfo()\n",
    "\n",
    "# manager2.print_name()\n",
    "\n",
    "# manager2.showage()\n",
    "\n",
    "# manager2.addlanguage(\"English and French\")\n",
    "\n",
    "# manager2.showinfo()\n",
    "\n",
    "# employee1 = employees(\"Aras\", \"Kahraman\", \"28\", \"English and Italian\" )\n",
    "# employee2 = employees(\"Evrim\", \"Solhan\", \"27\", \"Turkish\")\n",
    "# employee3 = employees(\"Ozlem\", \"İsci\", \"34\", \"Russian\")\n",
    "\n",
    "# employee1.showinfo()\n",
    "\n",
    "# employee2.showinfo()\n",
    "\n",
    "# employee3.showinfo()\n"
   ]
  },
  {
   "cell_type": "code",
   "execution_count": null,
   "metadata": {},
   "outputs": [],
   "source": [
    "# class Math:\n",
    "#     def addition(self,number1,number2):\n",
    "#         return number1 + number2\n",
    "\n",
    "#     def extraction(self,number1,number2):\n",
    "#         return number1 - number2\n",
    "    \n",
    "#     def multiply(self,number1,number2):\n",
    "#         return number1 * number2\n",
    "    \n",
    "#     def division(self,number1,number2):\n",
    "#         return number1 / number2\n",
    "    \n",
    "# math = Math()\n",
    "# print(\"Addition = \" + str(math.addition(2,78)))\n",
    "# print(\"Multiply = \" + str(math.multiply(4,84)))"
   ]
  },
  {
   "cell_type": "markdown",
   "metadata": {},
   "source": [
    "### Magic Methods"
   ]
  },
  {
   "cell_type": "code",
   "execution_count": null,
   "metadata": {},
   "outputs": [],
   "source": [
    "class Dataset:\n",
    "    def __init__(self,d):\n",
    "        self.d = d\n",
    "    \n",
    "    def __repr__(self):\n",
    "        out = \"\"\n",
    "        for row in self.d:\n",
    "            out += \",\".join(map(lambda s: str(s).rjust(4),row)) + \"\\n\"\n",
    "        \n",
    "        return out\n",
    "    \n",
    "    def __str__(self):\n",
    "        return self.__repr__()\n",
    "    \n",
    "    def __add__(self,other):\n",
    "        return self.d + other.d\n",
    "    \n",
    "    def __sub__(self,other):\n",
    "        pass\n",
    "    \n",
    "    def __mul__(self,other):\n",
    "        pass\n",
    "    \n",
    "    def __ge__(self):\n",
    "        pass"
   ]
  },
  {
   "cell_type": "code",
   "execution_count": null,
   "metadata": {},
   "outputs": [],
   "source": [
    "d = [rand_list(5,\"randint\",0,100) for _ in range(12)]\n",
    "d"
   ]
  },
  {
   "cell_type": "code",
   "execution_count": null,
   "metadata": {},
   "outputs": [],
   "source": [
    "ds = Dataset(d)\n"
   ]
  },
  {
   "cell_type": "code",
   "execution_count": null,
   "metadata": {},
   "outputs": [],
   "source": [
    "ds + ds"
   ]
  },
  {
   "cell_type": "code",
   "execution_count": null,
   "metadata": {},
   "outputs": [],
   "source": [
    "class Array:\n",
    "    def __init__(self,d):\n",
    "        self.d = d\n",
    "    \n",
    "    def __repr__(self):\n",
    "        out = \"\"\n",
    "        for row in self.d:\n",
    "            out += \",\".join(map(lambda s: str(s).rjust(4),row)) + \"\\n\"\n",
    "        \n",
    "        return out\n",
    "    \n",
    "    def __str__(self):\n",
    "        return self.__repr__()\n",
    "    \n",
    "    def __add__(self,other):\n",
    "        out = []\n",
    "        for row1,row2 in zip(self.d,other.d):\n",
    "            tmp = map(sum,zip(row1,row2))\n",
    "            out.append(list(tmp))\n",
    "                \n",
    "        return out\n",
    "    \n",
    "    def __sub__(self,other):\n",
    "        out = []\n",
    "        for row1,row2 in zip(self.d,other.d):\n",
    "            tmp = map(lambda x: x[0] - x[1],zip(row1,row2))\n",
    "            out.append(list(tmp))\n",
    "                \n",
    "        return out\n",
    "    \n",
    "    def __mul__(self,other):\n",
    "        out = []\n",
    "        for row1,row2 in zip(self.d,other.d):\n",
    "            tmp = map(lambda x: x[0] * x[1],zip(row1,row2))\n",
    "            out.append(list(tmp))\n",
    "                \n",
    "        return out\n",
    "    \n",
    "    def __truediv__(self,other):\n",
    "        out = []\n",
    "        for row1,row2 in zip(self.d,other.d):\n",
    "            tmp = map(lambda x: x[0] / x[1],zip(row1,row2))\n",
    "            out.append(list(tmp))\n",
    "                \n",
    "        return out\n",
    "    \n",
    "    def __gt__(self,other):\n",
    "        return self.sum_elements() > other.sum_elements()\n",
    "    \n",
    "    def __ge__(self,other):\n",
    "        return self.sum_elements() >= other.sum_elements()\n",
    "    \n",
    "    def sum_elements(self):\n",
    "        return sum(map(sum,self.d))"
   ]
  },
  {
   "cell_type": "code",
   "execution_count": null,
   "metadata": {},
   "outputs": [],
   "source": [
    "m = Array(ds.d)"
   ]
  },
  {
   "cell_type": "code",
   "execution_count": null,
   "metadata": {},
   "outputs": [],
   "source": [
    "m.sum_elements()"
   ]
  },
  {
   "cell_type": "code",
   "execution_count": null,
   "metadata": {},
   "outputs": [],
   "source": [
    "m + m"
   ]
  },
  {
   "cell_type": "code",
   "execution_count": null,
   "metadata": {},
   "outputs": [],
   "source": [
    "m - m"
   ]
  },
  {
   "cell_type": "code",
   "execution_count": null,
   "metadata": {},
   "outputs": [],
   "source": [
    "m * m"
   ]
  },
  {
   "cell_type": "code",
   "execution_count": null,
   "metadata": {},
   "outputs": [],
   "source": [
    "m / m"
   ]
  },
  {
   "cell_type": "code",
   "execution_count": null,
   "metadata": {},
   "outputs": [],
   "source": [
    "m > m"
   ]
  },
  {
   "cell_type": "code",
   "execution_count": null,
   "metadata": {},
   "outputs": [],
   "source": [
    "m >= m"
   ]
  },
  {
   "cell_type": "code",
   "execution_count": null,
   "metadata": {},
   "outputs": [],
   "source": [
    "class RockScissorsPaper:\n",
    "    def __init__(self,name,n_games):\n",
    "        self.name = name\n",
    "        self.n_games = n_games\n",
    "        self.n_played = 0\n",
    "        self.n_win = 0\n",
    "        self.n_loss = 0\n",
    "        self.n_draw = 0\n",
    "        self.objects = [\"Rock\",\"Scissors\",\"Paper\"]\n",
    "    \n",
    "    def shake(self):\n",
    "        out = random.choice(self.objects)\n",
    "        print(out)\n",
    "        return out\n",
    "    \n",
    "    def compare(self,a,b):\n",
    "        if a != b:\n",
    "            if a == \"Rock\" and b == \"Scissors\":\n",
    "                return True\n",
    "            elif a == \"Scissors\" and b == \"Paper\":\n",
    "                return True\n",
    "            elif a == \"Paper\" and b == \"Rock\":\n",
    "                return True\n",
    "            else:\n",
    "                return False\n",
    "        else:\n",
    "            return None\n",
    "    \n",
    "    def check_winner(self):\n",
    "        if self.n_played >= self.n_games:\n",
    "            print(\"Game has ended.\")\n",
    "            if self.n_win > self.n_loss:\n",
    "                print(self.name,\"has won!\")\n",
    "            elif self.n_win == self.n_loss:\n",
    "                print(\"Draw!\")\n",
    "            else:\n",
    "                print(self.name,\"has lost!\")\n",
    "        \n",
    "    def __mul__(self,other):\n",
    "        r1 = self.shake()\n",
    "        r2 = other.shake()\n",
    "        left_win = self.compare(r1,r2)\n",
    "        \n",
    "        if left_win is not None:\n",
    "            if left_win:\n",
    "                self.n_win += 1\n",
    "            else:\n",
    "                self.n_loss += 1\n",
    "        else:\n",
    "            self.n_draw += 1\n",
    "            \n",
    "        self.n_played += 1\n",
    "        \n",
    "        self.check_winner()\n",
    "                \n",
    "        return left_win"
   ]
  },
  {
   "cell_type": "code",
   "execution_count": null,
   "metadata": {},
   "outputs": [],
   "source": [
    "player1 = RockScissorsPaper(\"Jimmy\",5)\n",
    "player2 = RockScissorsPaper(\"Taylor\",5)"
   ]
  },
  {
   "cell_type": "code",
   "execution_count": null,
   "metadata": {},
   "outputs": [],
   "source": [
    "player1 * player2"
   ]
  },
  {
   "cell_type": "code",
   "execution_count": null,
   "metadata": {},
   "outputs": [],
   "source": [
    "n = 7\n",
    "player1 = RockScissorsPaper(\"Jimmy\",n)\n",
    "player2 = RockScissorsPaper(\"Taylor\",n)\n",
    "\n",
    "for i in range(n):\n",
    "    print(\"Round\",i + 1)\n",
    "    player1 * player2\n",
    "    print()"
   ]
  },
  {
   "cell_type": "markdown",
   "metadata": {},
   "source": [
    "### A word on `closure` and `decorator` concepts\n",
    "\n",
    "A **closure** is function that returns another function which is defined in it. Thus, it is a function to create another function.\n",
    "\n",
    "* We must have a nested function (function inside a function).\n",
    "* The nested function must refer to a value defined in the enclosing function.\n",
    "* The enclosing function must return the nested function.\n",
    "\n"
   ]
  },
  {
   "cell_type": "code",
   "execution_count": null,
   "metadata": {},
   "outputs": [],
   "source": [
    "# an example closure\n",
    "def harbinger(s):\n",
    "    \n",
    "    def message():\n",
    "        print(\"The message is:\")\n",
    "        print(s)\n",
    "        \n",
    "    return message"
   ]
  },
  {
   "cell_type": "code",
   "execution_count": null,
   "metadata": {},
   "outputs": [],
   "source": [
    "msg = harbinger(\"Good news!\")\n",
    "msg"
   ]
  },
  {
   "cell_type": "code",
   "execution_count": null,
   "metadata": {},
   "outputs": [],
   "source": [
    "msg()"
   ]
  },
  {
   "cell_type": "code",
   "execution_count": null,
   "metadata": {},
   "outputs": [],
   "source": [
    "# an example decorator\n",
    "def uppercase(function):\n",
    "    def wrapper(s):\n",
    "        func = function(s)\n",
    "        make_uppercase = func.upper()\n",
    "        return make_uppercase\n",
    "\n",
    "    return wrapper"
   ]
  },
  {
   "cell_type": "code",
   "execution_count": null,
   "metadata": {},
   "outputs": [],
   "source": [
    "@uppercase\n",
    "def greetings(name):\n",
    "    return \"Hi \" + name "
   ]
  },
  {
   "cell_type": "code",
   "execution_count": null,
   "metadata": {},
   "outputs": [],
   "source": [
    "greetings(\"friend\")"
   ]
  },
  {
   "cell_type": "code",
   "execution_count": null,
   "metadata": {},
   "outputs": [],
   "source": [
    "def size_check(function):\n",
    "    def wrapper(*args):\n",
    "        size_1, size_2 = len(args[0]), len(args[1])\n",
    "        if size_1 != size_2:\n",
    "            raise ValueError(\"Sizes do not match.\")\n",
    "        \n",
    "        return function(*args)\n",
    "    \n",
    "    return wrapper\n",
    "\n",
    "@size_check\n",
    "def add(a,b):\n",
    "    out = []\n",
    "    for row1,row2 in zip(a,b):\n",
    "        tmp = map(sum,zip(row1,row2))\n",
    "        out.append(list(tmp))\n",
    "    return out"
   ]
  },
  {
   "cell_type": "code",
   "execution_count": null,
   "metadata": {},
   "outputs": [],
   "source": [
    "a = [rand_list(5,\"randint\",0,100) for _ in range(12)]\n",
    "b = [rand_list(5,\"randint\",0,100) for _ in range(12)]\n",
    "add(a,b)"
   ]
  },
  {
   "cell_type": "code",
   "execution_count": null,
   "metadata": {},
   "outputs": [],
   "source": [
    "a = [rand_list(3,\"randint\",0,100) for _ in range(5)]\n",
    "b = [rand_list(3,\"expovariate\",0.1) for _ in range(5)]\n",
    "add(a,b)"
   ]
  },
  {
   "cell_type": "code",
   "execution_count": null,
   "metadata": {},
   "outputs": [],
   "source": [
    "a = [rand_list(3,\"gauss\",0,100) for _ in range(5)]\n",
    "b = [rand_list(3,\"expovariate\",0.1) for _ in range(7)]\n",
    "add(a,b)"
   ]
  },
  {
   "cell_type": "code",
   "execution_count": null,
   "metadata": {},
   "outputs": [],
   "source": [
    "def type_check(function):\n",
    "    def wrapper(*args):\n",
    "        e1, e2 = args[0][0][0], args[1][0][0]\n",
    "        if type(e1) != type(e2):\n",
    "            raise ValueError(\"Types do not match.\")\n",
    "        \n",
    "        return function(*args)\n",
    "    \n",
    "    return wrapper\n",
    "\n",
    "@type_check\n",
    "@size_check\n",
    "def add(a,b):\n",
    "    out = []\n",
    "    for row1,row2 in zip(a,b):\n",
    "        tmp = map(sum,zip(row1,row2))\n",
    "        out.append(list(tmp))\n",
    "    return out"
   ]
  },
  {
   "cell_type": "code",
   "execution_count": null,
   "metadata": {},
   "outputs": [],
   "source": [
    "a = [rand_list(5,\"randint\",0,100) for _ in range(12)]\n",
    "b = [rand_list(5,\"randint\",0,100) for _ in range(12)]\n",
    "add(a,b)"
   ]
  },
  {
   "cell_type": "code",
   "execution_count": null,
   "metadata": {},
   "outputs": [],
   "source": [
    "a = [rand_list(3,\"randint\",0,100) for _ in range(5)]\n",
    "b = [rand_list(3,\"expovariate\",0.1) for _ in range(5)]\n",
    "add(a,b)"
   ]
  },
  {
   "cell_type": "markdown",
   "metadata": {},
   "source": [
    "### `getter` and `setter` methods"
   ]
  },
  {
   "cell_type": "code",
   "execution_count": null,
   "metadata": {},
   "outputs": [],
   "source": [
    "# class getters, and setters\n",
    "class Pet:\n",
    "    def __init__(self,name,age):\n",
    "        self._name = name\n",
    "        self.age = age\n",
    "    \n",
    "    def describe(self):\n",
    "        print(\"Name:\",self.name)\n",
    "        print(\"Age:\",self.age)\n",
    "\n",
    "    @property\n",
    "    def name(self):\n",
    "        return self._name\n",
    "    \n",
    "    @name.setter\n",
    "    def name(self,s):\n",
    "        self._name = s.capitalize()\n",
    "        \n",
    "    @name.deleter\n",
    "    def name(self):\n",
    "        del self._name"
   ]
  },
  {
   "cell_type": "code",
   "execution_count": null,
   "metadata": {},
   "outputs": [],
   "source": [
    "a = Pet(\"Duman\",1.5)\n",
    "a.name"
   ]
  },
  {
   "cell_type": "code",
   "execution_count": null,
   "metadata": {},
   "outputs": [],
   "source": [
    "a.name = \"zıbık\"\n",
    "a.name"
   ]
  },
  {
   "cell_type": "code",
   "execution_count": null,
   "metadata": {},
   "outputs": [],
   "source": [
    "a.name = \"a\""
   ]
  },
  {
   "cell_type": "markdown",
   "metadata": {},
   "source": [
    "### `classmethod` and `staticmethod`"
   ]
  },
  {
   "cell_type": "code",
   "execution_count": null,
   "metadata": {},
   "outputs": [],
   "source": [
    "class SmartPhones:\n",
    "    brand = \"Apple\"\n",
    "    \n",
    "    def __init__(self,model):\n",
    "        self.model = model\n",
    "    \n",
    "    @classmethod\n",
    "    def change_brand(cls,new_brand):\n",
    "        cls.brand = new_brand"
   ]
  },
  {
   "cell_type": "code",
   "execution_count": null,
   "metadata": {},
   "outputs": [],
   "source": [
    "SmartPhones"
   ]
  },
  {
   "cell_type": "code",
   "execution_count": null,
   "metadata": {},
   "outputs": [],
   "source": [
    "## SIRAYI BELIRLE, TAŞINMALI MI? <---------------------------------\n",
    "SmartPhones.brand"
   ]
  },
  {
   "cell_type": "code",
   "execution_count": null,
   "metadata": {},
   "outputs": [],
   "source": [
    "SmartPhones.model"
   ]
  },
  {
   "cell_type": "code",
   "execution_count": null,
   "metadata": {},
   "outputs": [],
   "source": [
    "obj = SmartPhones(\"iphone\")\n",
    "obj.model"
   ]
  },
  {
   "cell_type": "code",
   "execution_count": null,
   "metadata": {},
   "outputs": [],
   "source": [
    "obj.brand"
   ]
  },
  {
   "cell_type": "code",
   "execution_count": null,
   "metadata": {},
   "outputs": [],
   "source": [
    "obj.change_brand(\"Samsung\")\n",
    "obj.brand"
   ]
  },
  {
   "cell_type": "code",
   "execution_count": null,
   "metadata": {},
   "outputs": [],
   "source": [
    "obj = SmartPhones(\"iphone\")\n",
    "obj.brand"
   ]
  },
  {
   "cell_type": "code",
   "execution_count": null,
   "metadata": {},
   "outputs": [],
   "source": [
    "SmartPhones.change_brand(\"Samsung\")"
   ]
  },
  {
   "cell_type": "code",
   "execution_count": null,
   "metadata": {},
   "outputs": [],
   "source": [
    "SmartPhones.brand"
   ]
  },
  {
   "cell_type": "code",
   "execution_count": null,
   "metadata": {},
   "outputs": [],
   "source": [
    "class SmartPhones:\n",
    "    brand = \"Apple\"\n",
    "    \n",
    "    def __init__(self,model):\n",
    "        self.model = model\n",
    "    \n",
    "    @classmethod\n",
    "    def change_brand(cls,new_brand):\n",
    "        cls.brand = new_brand\n",
    "    \n",
    "    \n",
    "    @staticmethod\n",
    "    def screen_size(16:9):\n",
    "        pass"
   ]
  },
  {
   "cell_type": "markdown",
   "metadata": {},
   "source": [
    "### Inheritance"
   ]
  },
  {
   "cell_type": "code",
   "execution_count": null,
   "metadata": {},
   "outputs": [],
   "source": [
    "class Cat(Pet):\n",
    "    def __init__(self,lovesdogs=False,*args):\n",
    "        super().__init__(*args)\n",
    "    "
   ]
  },
  {
   "cell_type": "code",
   "execution_count": null,
   "metadata": {},
   "outputs": [],
   "source": [
    "class Worker():\n",
    "    def __init__(self,name,salary,department):\n",
    "        self.name = name\n",
    "        self.salary = salary\n",
    "        self.department = department\n",
    "        \n",
    "    def showinfo(self):\n",
    "        \n",
    "        print(self.name)\n",
    "        print(self.salary)\n",
    "        print(self.department)\n",
    "        \n",
    "    def change_department(self,new_department):\n",
    "        \n",
    "        self.department = new_department"
   ]
  },
  {
   "cell_type": "code",
   "execution_count": null,
   "metadata": {},
   "outputs": [],
   "source": [
    "class Manager(Worker):\n",
    "    pass"
   ]
  },
  {
   "cell_type": "code",
   "execution_count": null,
   "metadata": {},
   "outputs": [],
   "source": [
    "Manager1 = Manager(\"Dave Johnson\",1000,\"Human Resources\")"
   ]
  },
  {
   "cell_type": "code",
   "execution_count": null,
   "metadata": {
    "scrolled": true
   },
   "outputs": [],
   "source": [
    "Manager1.showinfo()"
   ]
  },
  {
   "cell_type": "code",
   "execution_count": null,
   "metadata": {},
   "outputs": [],
   "source": [
    "Manager1.change_department(\"Finance\")"
   ]
  },
  {
   "cell_type": "code",
   "execution_count": null,
   "metadata": {},
   "outputs": [],
   "source": [
    "Manager1.showinfo()"
   ]
  },
  {
   "cell_type": "code",
   "execution_count": null,
   "metadata": {},
   "outputs": [],
   "source": [
    "class Manager(Worker):\n",
    "    def give_raise(self,raise_amount):\n",
    "        self.salary += raise_amount"
   ]
  },
  {
   "cell_type": "code",
   "execution_count": null,
   "metadata": {},
   "outputs": [],
   "source": [
    "Manager2 = Manager(\"Rose Newman\",2000,\"IT\")"
   ]
  },
  {
   "cell_type": "code",
   "execution_count": null,
   "metadata": {
    "scrolled": true
   },
   "outputs": [],
   "source": [
    "Manager2.showinfo()"
   ]
  },
  {
   "cell_type": "code",
   "execution_count": null,
   "metadata": {},
   "outputs": [],
   "source": [
    "Manager2.give_raise(500)"
   ]
  },
  {
   "cell_type": "code",
   "execution_count": null,
   "metadata": {},
   "outputs": [],
   "source": [
    "Manager2.showinfo()"
   ]
  },
  {
   "cell_type": "code",
   "execution_count": 8,
   "metadata": {},
   "outputs": [],
   "source": [
    "class Person:\n",
    "    def __init__(self,firstname,lastname,nationality):\n",
    "        self.firstname = firstname\n",
    "        self.lastname = lastname\n",
    "        self.nationality = nationality"
   ]
  },
  {
   "cell_type": "code",
   "execution_count": 9,
   "metadata": {},
   "outputs": [],
   "source": [
    "class Client(Person):\n",
    "    def __init__(self,firstname,lastname,nationality,creditcardnumber):\n",
    "        super().__init__(firstname,lastname,nationality)\n",
    "        self.creditcardnumber = creditcardnumber\n",
    "        self.language = []\n",
    "        \n",
    "    def addlanguage(self,newlanguage):\n",
    "        self.language.append(newlanguage)\n",
    "        \n",
    "    def client_status(self):\n",
    "        print(self.firstname + \" \" + self.lastname + \" is \" + self.nationality + \" and his/her credit card number is \" + str(self.creditcardnumber))"
   ]
  },
  {
   "cell_type": "code",
   "execution_count": 10,
   "metadata": {},
   "outputs": [
    {
     "name": "stdout",
     "output_type": "stream",
     "text": [
      "Rob Dylan is Australian and his/her credit card number is 12345678910\n"
     ]
    },
    {
     "data": {
      "text/plain": [
       "['English']"
      ]
     },
     "execution_count": 10,
     "metadata": {},
     "output_type": "execute_result"
    }
   ],
   "source": [
    "New_Client = Client(\"Rob\",\"Dylan\",\"Australian\",\"12345678910\")\n",
    "New_Client.client_status()\n",
    "New_Client.addlanguage(\"English\")\n",
    "New_Client.language"
   ]
  },
  {
   "cell_type": "code",
   "execution_count": null,
   "metadata": {},
   "outputs": [],
   "source": [
    "# class Author:\n",
    "#     pass\n",
    "\n",
    "# class Columnist(Author):\n",
    "#     pass\n",
    "\n",
    "# class Academic(Author):\n",
    "#     pass\n",
    "\n",
    "# class Poet(Author):\n",
    "#     pass\n",
    "\n",
    "# class Novelist(Author):\n",
    "#     pass\n",
    "\n",
    "# class Critic(Author):\n",
    "#     pass\n",
    "\n",
    "# class NewAge(Poet,Novelist,Columnist):\n",
    "#     pass"
   ]
  },
  {
   "cell_type": "markdown",
   "metadata": {},
   "source": [
    "## Example Project"
   ]
  },
  {
   "cell_type": "code",
   "execution_count": null,
   "metadata": {},
   "outputs": [],
   "source": [
    "class Employee:\n",
    "    pass\n",
    "\n",
    "class Manager:\n",
    "    pass\n",
    "\n",
    "import urllib, json\n",
    "response = urllib.request.urlopen('https://randomuser.me/api/')\n",
    "raw = response.read()\n",
    "content = json.loads(raw.decode())\n",
    "content"
   ]
  },
  {
   "cell_type": "markdown",
   "metadata": {},
   "source": [
    "## Project"
   ]
  },
  {
   "cell_type": "markdown",
   "metadata": {},
   "source": [
    "## Prerequisite to Next Week: `numpy`\n",
    "\n",
    "Be sure to install numpy using `pip`, or `conda`.\n",
    "\n",
    "* `$pip install numpy`\n",
    "\n",
    "or\n",
    "\n",
    "\n",
    "* `$conda install numpy`\n",
    "\n",
    "or use Anaconda Navigator to install numpy module."
   ]
  },
  {
   "cell_type": "markdown",
   "metadata": {},
   "source": [
    "## References\n",
    "\n",
    "https://docs.python.org/3/library/\n",
    "\n",
    "https://docs.python.org/3/reference/import.html\n",
    "\n",
    "https://www.educative.io/blog/object-oriented-programming\n",
    "\n",
    "https://docs.oracle.com/javase/tutorial/java/concepts/index.html\n",
    "\n",
    "https://www.edureka.co/blog/self-in-python/\n",
    "\n",
    "https://www.python.org/dev/peps/pep-0008/\n",
    "\n",
    "https://docs.python.org/3/tutorial/classes.html#private-variables\n",
    "\n",
    "https://www.programiz.com/python-programming/closure"
   ]
  },
  {
   "cell_type": "code",
   "execution_count": null,
   "metadata": {},
   "outputs": [],
   "source": []
  }
 ],
 "metadata": {
  "kernelspec": {
   "display_name": "Python 3",
   "language": "python",
   "name": "python3"
  },
  "language_info": {
   "codemirror_mode": {
    "name": "ipython",
    "version": 3
   },
   "file_extension": ".py",
   "mimetype": "text/x-python",
   "name": "python",
   "nbconvert_exporter": "python",
   "pygments_lexer": "ipython3",
   "version": "3.6.9"
  }
 },
 "nbformat": 4,
 "nbformat_minor": 4
}
