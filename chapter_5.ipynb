{
 "cells": [
  {
   "cell_type": "markdown",
   "metadata": {},
   "source": [
    "# Chapter 5\n",
    "\n",
    "We will cover one of the best tools for visualization and plotting in python. Our module of choice is `matplotlib` as it is widely known and comes with a vast variety of plotting features.\n",
    "\n",
    "## Learning Goals\n",
    "\n",
    "- `matplotlib` basics\n",
    "- Line\n",
    "- Scatter\n",
    "- Histogram and bars\n",
    "- Advanced plotting controls\n",
    "- Area\n",
    "- Heatmap\n",
    "- Map\n",
    "- Plot canvases and grids\n",
    "\n",
    "## Authors\n",
    "\n",
    "- Mert Candar, mccandar@gmail.com\n",
    "- Aras Kahraman, aras.kahraman@hotmail.com\n",
    "\n",
    "## Learning Curve Boosters\n",
    "\n",
    "https://github.com/kyclark/tiny_python_projects\n",
    "\n",
    "https://github.com/Python-World/python-mini-projects/tree/master/projects\n",
    "\n",
    "https://github.com/rlvaugh/Impractical_Python_Projects"
   ]
  },
  {
   "cell_type": "markdown",
   "metadata": {},
   "source": [
    "## Why Use Visualization\n",
    "\n",
    "We use visualization in order to understand our data according to:\n",
    "\n",
    "* Behavior\n",
    "* Distribution\n",
    "* Interaction with other phenomena\n",
    "\n",
    "or to express results for further understanding and/or decision making. **The reason we use graphs to present results is it can summarize heavy loads of data in a simply and understandable way.**\n",
    "\n",
    "## The Goal\n",
    "\n",
    "**Our goal in data science and analytics is to clearly see and show the data or results, in an efficient way.**\n",
    "\n",
    "## Alternatives\n",
    "\n",
    "We could also use:\n",
    "\n",
    "* Tables\n",
    "* Texts\n",
    "* Verbal communication\n",
    "\n",
    "to achieve our goal.\n",
    "\n",
    "## Why Choose `matplotlib`\n",
    "\n",
    "It is the best known plotting library for python. Thus, it has the largest community of developers. Its features almost cover everything we need for data visuzalition.\n",
    "\n",
    "![](data:image/png;base64,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)\n",
    "\n",
    "Matplotlib is a comprehensive visualization library for python. It is the most preferred library for this purpose in python. According to matplotlib's website:\n",
    "\n",
    " > Matplotlib makes easy things easy and hard things possible.\n",
    " \n",
    "We will cover its basic features in this chapter."
   ]
  },
  {
   "cell_type": "code",
   "execution_count": null,
   "metadata": {},
   "outputs": [],
   "source": [
    "import matplotlib.pyplot as plt"
   ]
  },
  {
   "cell_type": "markdown",
   "metadata": {},
   "source": [
    "### Line"
   ]
  },
  {
   "cell_type": "code",
   "execution_count": null,
   "metadata": {},
   "outputs": [],
   "source": [
    "x = [0,1,2,3,4]\n",
    "y = [2,7,4,15,12]\n",
    "\n",
    "plt.plot(x,y)\n",
    "plt.show()"
   ]
  },
  {
   "cell_type": "code",
   "execution_count": null,
   "metadata": {},
   "outputs": [],
   "source": [
    "import numpy as np\n",
    "\n",
    "x = np.arange(10)\n",
    "y = np.exp(x)\n",
    "\n",
    "plt.plot(x,y)\n",
    "plt.show()"
   ]
  },
  {
   "cell_type": "code",
   "execution_count": null,
   "metadata": {},
   "outputs": [],
   "source": [
    "x = np.linspace(0,10,10)\n",
    "y = np.sin(x)\n",
    "\n",
    "plt.plot(x,y)\n",
    "plt.show()"
   ]
  },
  {
   "cell_type": "code",
   "execution_count": null,
   "metadata": {},
   "outputs": [],
   "source": [
    "x = np.linspace(0,10,100)\n",
    "y = np.sin(x)\n",
    "\n",
    "plt.plot(x,y)\n",
    "plt.show()"
   ]
  },
  {
   "cell_type": "code",
   "execution_count": null,
   "metadata": {},
   "outputs": [],
   "source": [
    "x = np.arange(1000)\n",
    "y = np.random.normal(3,1,size=1000)\n",
    "\n",
    "plt.plot(x,y)\n",
    "plt.show()"
   ]
  },
  {
   "cell_type": "code",
   "execution_count": null,
   "metadata": {},
   "outputs": [],
   "source": [
    "plt.figure(figsize=(15,5))\n",
    "plt.plot(x,y)\n",
    "plt.show()"
   ]
  },
  {
   "cell_type": "code",
   "execution_count": null,
   "metadata": {},
   "outputs": [],
   "source": [
    "np.random.seed(1234)\n",
    "n = 100\n",
    "x = np.arange(n)\n",
    "r = np.random.randn(n,3) / 100\n",
    "d = (1 + r).cumprod(axis=0)"
   ]
  },
  {
   "cell_type": "code",
   "execution_count": null,
   "metadata": {
    "scrolled": true
   },
   "outputs": [],
   "source": [
    "d"
   ]
  },
  {
   "cell_type": "code",
   "execution_count": null,
   "metadata": {},
   "outputs": [],
   "source": [
    "plt.figure(figsize=(15,5))\n",
    "plt.plot(x,d[:,0])\n",
    "plt.plot(x,d[:,1])\n",
    "plt.plot(x,d[:,2])\n",
    "plt.show()"
   ]
  },
  {
   "cell_type": "code",
   "execution_count": null,
   "metadata": {},
   "outputs": [],
   "source": [
    "plt.figure(figsize=(15,5))\n",
    "plt.plot(x,d[:,0],label='User 1')\n",
    "plt.plot(x,d[:,1],label='User 2')\n",
    "plt.plot(x,d[:,2],label='User 3')\n",
    "plt.title('Customer Scores on Recent Purchases')\n",
    "plt.legend()\n",
    "plt.show()"
   ]
  },
  {
   "cell_type": "code",
   "execution_count": null,
   "metadata": {},
   "outputs": [],
   "source": [
    "plt.figure(figsize=(15,5))\n",
    "plt.plot(x,d[:,0],label='User 1')\n",
    "plt.plot(x,d[:,1],label='User 2')\n",
    "plt.plot(x,d[:,2],label='User 3')\n",
    "plt.title('Customer Scores on Recent Purchases')\n",
    "plt.xlabel('Time')\n",
    "plt.ylabel('Score')\n",
    "plt.legend()\n",
    "plt.show()"
   ]
  },
  {
   "cell_type": "code",
   "execution_count": null,
   "metadata": {},
   "outputs": [],
   "source": [
    "# coloring\n",
    "plt.figure(figsize=(15,5))\n",
    "plt.plot(x,d[:,0],label='User 1',c='blue')\n",
    "plt.plot(x,d[:,1],label='User 2',c='orange')\n",
    "plt.plot(x,d[:,2],label='User 3',c='lightgreen')\n",
    "plt.title('Customer Scores on Recent Purchases')\n",
    "plt.xlabel('Time')\n",
    "plt.ylabel('Score')\n",
    "plt.legend()\n",
    "plt.show()"
   ]
  },
  {
   "cell_type": "markdown",
   "metadata": {},
   "source": [
    "Find the full list of colors [here](https://matplotlib.org/stable/gallery/color/named_colors.html)."
   ]
  },
  {
   "cell_type": "code",
   "execution_count": null,
   "metadata": {},
   "outputs": [],
   "source": [
    "# coloring\n",
    "plt.figure(figsize=(15,5))\n",
    "plt.plot(x,d[:,0],label='User 1',c='blue',linestyle='--')\n",
    "plt.plot(x,d[:,1],label='User 2',c='orange',linestyle='dashdot')\n",
    "plt.plot(x,d[:,2],label='User 3',c='lightgreen')\n",
    "plt.title('Customer Scores on Recent Purchases')\n",
    "plt.xlabel('Time')\n",
    "plt.ylabel('Score')\n",
    "plt.legend()\n",
    "plt.show()"
   ]
  },
  {
   "cell_type": "code",
   "execution_count": null,
   "metadata": {},
   "outputs": [],
   "source": [
    "plt.figure(figsize=(15,5))\n",
    "plt.plot(x,d[:,0],label='User 1',c='blue',linestyle='--')\n",
    "plt.plot(x,d[:,1],label='User 2',c='orange',linestyle='dashdot')\n",
    "plt.plot(x,d[:,2],label='User 3',c='lightgreen',linewidth=4)\n",
    "plt.title('Customer Scores on Recent Purchases')\n",
    "plt.xlabel('Time')\n",
    "plt.ylabel('Score')\n",
    "plt.legend()\n",
    "plt.show()"
   ]
  },
  {
   "cell_type": "code",
   "execution_count": null,
   "metadata": {},
   "outputs": [],
   "source": [
    "plt.figure(figsize=(15,5))\n",
    "plt.plot(x,d[:,0],label='User 1',c='blue',linestyle='--')\n",
    "plt.plot(x,d[:,1],label='User 2',c='orange',linestyle='dashdot')\n",
    "plt.plot(x,d[:,2],label='User 3',c='lightgreen',linewidth=3,marker='o')\n",
    "plt.title('Customer Scores on Recent Purchases')\n",
    "plt.xlabel('Time')\n",
    "plt.ylabel('Score')\n",
    "plt.legend()\n",
    "plt.show()"
   ]
  },
  {
   "cell_type": "markdown",
   "metadata": {},
   "source": [
    "### Scatter"
   ]
  },
  {
   "cell_type": "code",
   "execution_count": null,
   "metadata": {},
   "outputs": [],
   "source": [
    "x = np.arange(10)\n",
    "y = x\n",
    "\n",
    "plt.scatter(x,y)\n",
    "plt.show()"
   ]
  },
  {
   "cell_type": "code",
   "execution_count": null,
   "metadata": {},
   "outputs": [],
   "source": [
    "x = np.linspace(0,10,10)\n",
    "y = np.sin(x)\n",
    "\n",
    "plt.scatter(x,y)\n",
    "plt.show()"
   ]
  },
  {
   "cell_type": "code",
   "execution_count": null,
   "metadata": {},
   "outputs": [],
   "source": [
    "x = np.linspace(0,10,100)\n",
    "y = np.sin(x)\n",
    "\n",
    "plt.scatter(x,y)\n",
    "plt.show()"
   ]
  },
  {
   "cell_type": "code",
   "execution_count": null,
   "metadata": {},
   "outputs": [],
   "source": [
    "x = np.arange(1000)\n",
    "y = np.random.normal(3,1,size=1000)\n",
    "\n",
    "plt.scatter(x,y,marker='x')\n",
    "plt.show()"
   ]
  },
  {
   "cell_type": "code",
   "execution_count": null,
   "metadata": {},
   "outputs": [],
   "source": [
    "rng = np.random.RandomState(0)\n",
    "for marker in ['o', '.', ',', 'x', '+', 'v', '^', '<', '>', 's', 'd']:\n",
    "    plt.plot(rng.rand(5), rng.rand(5), marker,label=f\"marker='{marker}'\")\n",
    "plt.legend(numpoints=1)\n",
    "plt.xlim(0, 1.8);"
   ]
  },
  {
   "cell_type": "code",
   "execution_count": null,
   "metadata": {},
   "outputs": [],
   "source": [
    "# ~add to basket: feature (5 dk thresh.)\n",
    "# optimum time could be found <--\n",
    "x = np.random.exponential(50,size=n)\n",
    "y = np.random.exponential(10,size=n)\n",
    "\n",
    "plt.scatter(x,y)\n",
    "plt.title('Customer Spending')\n",
    "plt.ylabel('Time On Page')\n",
    "plt.xlabel('Purchased Total')\n",
    "plt.show()"
   ]
  },
  {
   "cell_type": "code",
   "execution_count": null,
   "metadata": {},
   "outputs": [],
   "source": [
    "plt.figure(figsize=(8,5),dpi=150)\n",
    "plt.scatter(x,y,alpha=0.2)\n",
    "plt.title('Customer Spending')\n",
    "plt.ylabel('Time On Page')\n",
    "plt.xlabel('Purchased Total')\n",
    "plt.show()"
   ]
  },
  {
   "cell_type": "code",
   "execution_count": null,
   "metadata": {},
   "outputs": [],
   "source": [
    "plt.figure(figsize=(5,3),dpi=200)\n",
    "plt.scatter(x,y,alpha=0.2)\n",
    "plt.title('Customer Spending')\n",
    "plt.ylabel('Time On Page')\n",
    "plt.xlabel('Purchased Total')\n",
    "plt.show()"
   ]
  },
  {
   "cell_type": "code",
   "execution_count": null,
   "metadata": {},
   "outputs": [],
   "source": [
    "# channels of customers, etc.\n",
    "plt.figure(figsize=(5,3),dpi=200)\n",
    "plt.scatter(x,y,alpha=0.2,s=x)\n",
    "plt.title('Customer Spending')\n",
    "plt.ylabel('Time On Page')\n",
    "plt.xlabel('Purchased Total')\n",
    "plt.show()"
   ]
  },
  {
   "cell_type": "code",
   "execution_count": null,
   "metadata": {
    "scrolled": false
   },
   "outputs": [],
   "source": [
    "x = np.random.normal(3,1,size=1000)\n",
    "y = np.random.normal(3,1,size=1000)\n",
    "\n",
    "plt.scatter(x,y)\n",
    "plt.show()"
   ]
  },
  {
   "cell_type": "code",
   "execution_count": null,
   "metadata": {},
   "outputs": [],
   "source": [
    "x = np.random.normal(3,1,size=1000)\n",
    "y = np.random.normal(3,1,size=1000)\n",
    "\n",
    "plt.scatter(x,y)\n",
    "plt.plot([0,6],[0,6],label=\"Fit\",color='red',linewidth=3)\n",
    "plt.legend()\n",
    "plt.show()"
   ]
  },
  {
   "cell_type": "code",
   "execution_count": null,
   "metadata": {},
   "outputs": [],
   "source": [
    "np.random.seed(123)\n",
    "x = np.random.normal(3,1,size=(100,3)) * np.random.randn(3)\n",
    "y = np.random.normal(3,1,size=(100,3)) * np.random.randn(3)\n",
    "\n",
    "plt.figure(figsize=(12,6))\n",
    "plt.scatter(x[:,0],y[:,0],label='Frequent',c='red',marker='^')\n",
    "plt.scatter(x[:,1],y[:,1],label='One-comer',c='green')\n",
    "plt.scatter(x[:,2],y[:,2],label='Occasional')\n",
    "plt.legend()\n",
    "plt.show()"
   ]
  },
  {
   "cell_type": "code",
   "execution_count": null,
   "metadata": {},
   "outputs": [],
   "source": [
    "plt.style.use('classic')"
   ]
  },
  {
   "cell_type": "code",
   "execution_count": null,
   "metadata": {},
   "outputs": [],
   "source": [
    "np.random.seed(123)\n",
    "x = np.random.normal(3,1,size=(100,3)) * np.random.randn(3)\n",
    "y = np.random.normal(3,1,size=(100,3)) * np.random.randn(3)\n",
    "\n",
    "plt.figure(figsize=(12,6))\n",
    "plt.scatter(x[:,0],y[:,0],label='Frequent',marker='^')\n",
    "plt.scatter(x[:,1],y[:,1],label='One-comer')\n",
    "plt.scatter(x[:,2],y[:,2],label='Occasional')\n",
    "plt.legend()\n",
    "plt.show()"
   ]
  },
  {
   "cell_type": "markdown",
   "metadata": {},
   "source": [
    "### Bars"
   ]
  },
  {
   "cell_type": "code",
   "execution_count": null,
   "metadata": {},
   "outputs": [],
   "source": [
    "x = np.linspace(-5,5,11)\n",
    "\n",
    "def sigmoid(x):\n",
    "    return 1/(1 + np.exp(-x))\n",
    "\n",
    "y = sigmoid(x)"
   ]
  },
  {
   "cell_type": "code",
   "execution_count": null,
   "metadata": {},
   "outputs": [],
   "source": [
    "plt.figure(figsize=(15,5))\n",
    "plt.bar(x,y[::-1])\n",
    "plt.show()"
   ]
  },
  {
   "cell_type": "code",
   "execution_count": null,
   "metadata": {},
   "outputs": [],
   "source": [
    "x = np.arange(1000)\n",
    "y = np.exp(np.cumsum(np.random.laplace(0,0.005,size=1000)))"
   ]
  },
  {
   "cell_type": "code",
   "execution_count": null,
   "metadata": {},
   "outputs": [],
   "source": [
    "# importing package\n",
    "import matplotlib.pyplot as plt\n",
    "import numpy as np\n",
    "\n",
    "# create data\n",
    "x = np.arange(7)\n",
    "y1 = np.array([74, 56, 42, 89, 67, 30, 48]) * 10000\n",
    "y2 = np.array([52, 61, 78, 45, 90, 23, 35]) * 10000\n",
    "width = 0.4\n",
    "\n",
    "plt.figure(figsize=(12,6))\n",
    "plt.bar(x-0.2, y1, width)\n",
    "plt.bar(x+0.2, y2, width)\n",
    "\n",
    "plt.xlabel('Week Days')\n",
    "plt.ylabel('View Count')\n",
    "plt.title('Average Daily Visits')\n",
    "\n",
    "plt.show()"
   ]
  },
  {
   "cell_type": "code",
   "execution_count": null,
   "metadata": {},
   "outputs": [],
   "source": [
    "np.random.seed(123)\n",
    "n = 7\n",
    "ps = np.random.randint(20,50,n)\n",
    "tv = ps + np.random.poisson(12,size=n)\n",
    "pc = tv + np.random.poisson(7,size=n)\n",
    "days = list(\"1234567\")"
   ]
  },
  {
   "cell_type": "code",
   "execution_count": null,
   "metadata": {
    "scrolled": false
   },
   "outputs": [],
   "source": [
    "plt.figure(figsize=(12,6))\n",
    "\n",
    "plt.bar(days,pc,label = \"PC Stock\")\n",
    "plt.bar(days,tv,label = \"TV Stock\")\n",
    "plt.bar(days,ps,label = \"PS Stock\")\n",
    "plt.legend()\n",
    "\n",
    "plt.title(\"Stock Quantities\")\n",
    "plt.xlabel(\"Day\")\n",
    "plt.ylabel(\"Quantity\")\n",
    "plt.show()"
   ]
  },
  {
   "cell_type": "code",
   "execution_count": null,
   "metadata": {},
   "outputs": [],
   "source": [
    "from pylab import rcParams"
   ]
  },
  {
   "cell_type": "code",
   "execution_count": null,
   "metadata": {},
   "outputs": [],
   "source": [
    "rcParams['figure.figsize'] = (8,4.5)\n",
    "rcParams['figure.dpi'] = 150"
   ]
  },
  {
   "cell_type": "code",
   "execution_count": null,
   "metadata": {},
   "outputs": [],
   "source": [
    "fg = plt.figure()\n",
    "axs = plt.axes()\n",
    "days_index = np.arange(len(days))\n",
    "ds = 0.25\n",
    "\n",
    "plt.bar(days_index - ds, tv, label = \"TV Stock\", width = ds)\n",
    "plt.bar(days_index, pc, label = \"PC Stock\", width = ds)\n",
    "plt.bar(days_index + ds, ps, label = \"PS Stock\", width = ds)\n",
    "\n",
    "plt.legend()\n",
    "\n",
    "plt.title(\"Electronics Stocks\")\n",
    "plt.xlabel(\"Days\")\n",
    "plt.ylabel(\"Quantity\")\n",
    "plt.show()"
   ]
  },
  {
   "cell_type": "code",
   "execution_count": null,
   "metadata": {},
   "outputs": [],
   "source": [
    "fg = plt.figure()\n",
    "axs = plt.axes()\n",
    "days_index = np.arange(len(days))\n",
    "ds = 0.25\n",
    "\n",
    "plt.bar(days_index - ds, tv, label = \"TV Stock\", width = ds)\n",
    "plt.bar(days_index, pc, label = \"PC Stock\", width = ds)\n",
    "plt.bar(days_index + ds, ps, label = \"PS Stock\", width = ds)\n",
    "\n",
    "plt.legend(loc='upper left',frameon=True) # <------\n",
    "\n",
    "plt.title(\"Electronics Stocks\")\n",
    "plt.xlabel(\"Days\")\n",
    "plt.ylabel(\"Quantity\")\n",
    "plt.show()"
   ]
  },
  {
   "cell_type": "markdown",
   "metadata": {},
   "source": [
    "### Histogram\n",
    "\n",
    "**A histogram is the best way to visualize the empirical distribution of samples!**\n",
    "\n",
    "![](https://www.onlinemathlearning.com/image-files/histogram.png)"
   ]
  },
  {
   "cell_type": "code",
   "execution_count": null,
   "metadata": {},
   "outputs": [],
   "source": [
    "x = np.random.randn(1000)\n",
    "plt.hist(x)\n",
    "plt.show()"
   ]
  },
  {
   "cell_type": "code",
   "execution_count": null,
   "metadata": {},
   "outputs": [],
   "source": [
    "product_prices = np.random.uniform(20,480,1000)\n",
    "plt.hist(product_prices,bins=40)\n",
    "plt.title('Product Price Distribution')\n",
    "plt.show()"
   ]
  },
  {
   "cell_type": "code",
   "execution_count": null,
   "metadata": {},
   "outputs": [],
   "source": [
    "np.random.seed(123)\n",
    "product_prices = np.random.normal(180,30,1000)\n",
    "plt.hist(product_prices,bins=40)\n",
    "plt.title('Product Price Distribution')\n",
    "plt.ylabel('Number of Counts')\n",
    "plt.xlabel('Price')\n",
    "plt.show()"
   ]
  },
  {
   "cell_type": "code",
   "execution_count": null,
   "metadata": {},
   "outputs": [],
   "source": [
    "np.random.seed(123)\n",
    "product_prices = np.random.normal(180,30,1000)\n",
    "plt.hist(product_prices,bins=40,density=True)\n",
    "plt.title('Product Price Distribution')\n",
    "plt.ylabel('Probability')\n",
    "plt.xlabel('Price')\n",
    "plt.show()"
   ]
  },
  {
   "cell_type": "code",
   "execution_count": null,
   "metadata": {},
   "outputs": [],
   "source": [
    "plt.title(\"Age Distribution\")\n",
    "plt.xlabel(\"Age\")\n",
    "plt.ylabel(\"Number of Customer\")\n",
    "\n",
    "customer_ages = [18,19,20,24,28,29,34,35,44,50,53,57,64,66,71,79,91]\n",
    "interval = [10,20,30,40,50,60,70,80,90,100]\n",
    "\n",
    "plt.hist(customer_ages, interval, histtype=\"bar\", rwidth=0.8, edgecolor=\"black\")\n",
    "\n",
    "midline = np.median(customer_ages)\n",
    "plt.axvline(midline, color=\"red\")\n",
    "plt.tick_params(labelsize=8)\n",
    "\n",
    "plt.show()"
   ]
  },
  {
   "cell_type": "code",
   "execution_count": null,
   "metadata": {},
   "outputs": [],
   "source": [
    "rn1 = np.random.normal(0, 0.8, 1000)\n",
    "rn2 = np.random.normal(-3, 2, 1000)\n",
    "rn3 = np.random.normal(2, 1, 1000)"
   ]
  },
  {
   "cell_type": "code",
   "execution_count": null,
   "metadata": {},
   "outputs": [],
   "source": [
    "plt.hist(rn1,histtype=\"stepfilled\", alpha=0.6)\n",
    "plt.hist(rn2,histtype=\"stepfilled\", alpha=0.6)\n",
    "plt.hist(rn3,histtype=\"stepfilled\", alpha=0.6)\n",
    "\n",
    "plt.show()"
   ]
  },
  {
   "cell_type": "code",
   "execution_count": null,
   "metadata": {},
   "outputs": [],
   "source": [
    "customer_men_age = [18, 19, 21, 25, 35, 38, 42, 43, 44, 47, 48, 53, 57, 62, 71]\n",
    "customer_women_age = [19, 19, 19, 19, 21, 24, 26, 27, 28, 35, 39, 45, 46, 47, 48, 56, 64, 66]\n",
    "\n",
    "plt.hist([customer_men_age,customer_women_age], bins=[15,25,35,45,55], rwidth=0.95, color=['green','orange'],label=['men','women'])\n",
    "plt.legend()\n",
    "\n",
    "plt.xlabel(\"Age\")\n",
    "plt.ylabel(\"Number Of Customer\")\n",
    "plt.title(\"Customer Age Distribution\")\n",
    "plt.show()"
   ]
  },
  {
   "cell_type": "code",
   "execution_count": null,
   "metadata": {},
   "outputs": [],
   "source": [
    "customer_men_age = [18, 19, 21, 25, 35, 38, 42, 43, 44, 47, 48, 53, 57, 62, 71]\n",
    "customer_women_age = [19, 19, 19, 19, 21, 24, 26, 27, 28, 35, 39, 45, 46, 47, 48, 56, 64, 66]\n",
    "\n",
    "plt.hist([customer_men_age,customer_women_age], \n",
    "         bins=[15,25,35,45,55],\n",
    "         rwidth=0.95, \n",
    "         color=['green','orange'],\n",
    "         label=['men','women'], \n",
    "         orientation='horizontal')\n",
    "plt.legend()\n",
    "\n",
    "plt.xlabel(\"Age\")\n",
    "plt.ylabel(\"Number Of Customer\")\n",
    "plt.title(\"Customer Age Distribution\")\n",
    "plt.show()"
   ]
  },
  {
   "cell_type": "code",
   "execution_count": null,
   "metadata": {},
   "outputs": [],
   "source": [
    "plt.xlabel(\"Ages\")\n",
    "plt.ylabel(\"Number Of Men Customer\")\n",
    "plt.title(\"Customer Age Chart\")\n",
    "\n",
    "plt.hist(customer_men_age,bins=[15,25,35,45,55],histtype='step',color='Black',linewidth=5)\n",
    "plt.show()"
   ]
  },
  {
   "cell_type": "markdown",
   "metadata": {},
   "source": [
    "### Pie Chart"
   ]
  },
  {
   "cell_type": "code",
   "execution_count": null,
   "metadata": {},
   "outputs": [],
   "source": [
    "rcParams['figure.figsize'] = (4,4)\n",
    "rcParams['figure.dpi'] = 150"
   ]
  },
  {
   "cell_type": "code",
   "execution_count": null,
   "metadata": {},
   "outputs": [],
   "source": [
    "exp_vals = [500,300,350,120]\n",
    "exp_labels = [\"Google\",\"Home Page\",\"Social\",\"Other\"]\n",
    "\n",
    "plt.pie(exp_vals,labels=exp_labels)\n",
    "plt.title('Source')\n",
    "plt.show()"
   ]
  },
  {
   "cell_type": "code",
   "execution_count": null,
   "metadata": {},
   "outputs": [],
   "source": [
    "plt.pie(exp_vals,labels=exp_labels, shadow=True, autopct='%1.1f%%',radius=1.5)\n",
    "plt.title('Source')\n",
    "plt.show()"
   ]
  },
  {
   "cell_type": "code",
   "execution_count": null,
   "metadata": {},
   "outputs": [],
   "source": [
    "plt.pie(exp_vals,labels=exp_labels, shadow=True, autopct='%1.1f%%',explode=[0.1,0,0,0])\n",
    "plt.title('Source')\n",
    "plt.show()"
   ]
  },
  {
   "cell_type": "code",
   "execution_count": null,
   "metadata": {},
   "outputs": [],
   "source": [
    "plt.pie(\n",
    "    exp_vals,\n",
    "    labels=exp_labels,\n",
    "    shadow=True,\n",
    "    autopct='%1.1f%%',\n",
    "    explode=[0,0,0.1,0.2],\n",
    "    counterclock=True,\n",
    "    startangle=45\n",
    ")\n",
    "plt.title('Source')\n",
    "plt.show()"
   ]
  },
  {
   "cell_type": "markdown",
   "metadata": {},
   "source": [
    "### Area Plot"
   ]
  },
  {
   "cell_type": "code",
   "execution_count": null,
   "metadata": {},
   "outputs": [],
   "source": [
    "plt.style.use(\"ggplot\")"
   ]
  },
  {
   "cell_type": "code",
   "execution_count": null,
   "metadata": {},
   "outputs": [],
   "source": [
    "rcParams['figure.figsize'] = (12,5)\n",
    "rcParams['figure.dpi'] = 120"
   ]
  },
  {
   "cell_type": "code",
   "execution_count": null,
   "metadata": {},
   "outputs": [],
   "source": [
    "turnover_PS = [2, 7, 14, 19, 20, 27, 30, 23, 25, 18, 28, 23]\n",
    "\n",
    "plt.fill_between(np.arange(12), turnover_PS,\n",
    "                 color=\"skyblue\", alpha=0.4)\n",
    "plt.plot(np.arange(12), turnover_PS, color=\"#0ff1ce\",\n",
    "         alpha=0.6, linewidth=2)\n",
    "\n",
    "plt.xlabel('Month', size=12)\n",
    "plt.ylabel('Turnover', size=12)\n",
    "\n",
    "plt.show()"
   ]
  },
  {
   "cell_type": "code",
   "execution_count": null,
   "metadata": {},
   "outputs": [],
   "source": [
    "plt.figure(figsize=(10,5),dpi=120)\n",
    "plt.fill_between(np.arange(12), turnover_PS,\n",
    "                 color=\"skyblue\", alpha=0.4)\n",
    "plt.plot(np.arange(12), turnover_PS, color=\"skyblue\",\n",
    "         alpha=0.6, linewidth=2)\n",
    "\n",
    "plt.tick_params(labelsize=12)\n",
    "plt.xticks(np.arange(12), [\"Jan\",\"Feb\",\"Mar\",\"Apr\",\"May\",\"Jun\",\"Jul\",\"Aug\",\"Sep\",\"Oct\",\"Nov\",\"Dec\"])\n",
    "plt.xlabel('Month', size=12)\n",
    "plt.ylabel('Turnover', size=12)\n",
    "plt.ylim(bottom=0)\n",
    "\n",
    "plt.show()"
   ]
  },
  {
   "cell_type": "code",
   "execution_count": null,
   "metadata": {},
   "outputs": [],
   "source": [
    "website_A = [1.5, 3, 10, 13, 22, 36, 27, 33, 24.5, 15, 6.5, 18]\n",
    "website_B = [2, 7, 14, 17, 20, 27, 30, 20, 25, 18, 14, 20]\n",
    "\n",
    "plt.fill_between(np.arange(12), website_A, color=\"lightpink\",\n",
    "                 alpha=0.6, label='Client A')\n",
    "plt.fill_between(np.arange(12), website_B, color=\"skyblue\",\n",
    "                 alpha=0.6, label='Client B')\n",
    "\n",
    "plt.legend()\n",
    "plt.show()"
   ]
  },
  {
   "cell_type": "code",
   "execution_count": null,
   "metadata": {},
   "outputs": [],
   "source": [
    "x = np.linspace(5,10,100)\n",
    "y = x*3 + 2\n",
    "\n",
    "band_lower = y - np.linspace(-2,2,100)**2 - 2\n",
    "band_upper = y + np.linspace(-2,2,100)**2 + 2\n",
    "\n",
    "plt.plot(x,y,c='royalblue')\n",
    "plt.fill_between(x,band_lower, band_upper, color=\"skyblue\",alpha=0.3)\n",
    "\n",
    "plt.show()"
   ]
  },
  {
   "cell_type": "code",
   "execution_count": null,
   "metadata": {},
   "outputs": [],
   "source": [
    "# now name the area and line\n",
    "x = np.linspace(5,10,100)\n",
    "y = x*3 + 2\n",
    "\n",
    "band_lower = y - np.linspace(-2,2,100)**2 - 2\n",
    "band_upper = y + np.linspace(-2,2,100)**2 + 2\n",
    "\n",
    "plt.plot(x,y,c='royalblue',label='Fit')\n",
    "plt.fill_between(x,band_lower, band_upper, color=\"skyblue\",alpha=0.3,label='Conf. Interv.')\n",
    "plt.legend()\n",
    "plt.show()"
   ]
  },
  {
   "cell_type": "markdown",
   "metadata": {},
   "source": [
    "### Heat Map"
   ]
  },
  {
   "cell_type": "code",
   "execution_count": null,
   "metadata": {},
   "outputs": [],
   "source": [
    "import seaborn as sns"
   ]
  },
  {
   "cell_type": "code",
   "execution_count": null,
   "metadata": {},
   "outputs": [],
   "source": [
    "data = np.random.rand(4, 6)"
   ]
  },
  {
   "cell_type": "code",
   "execution_count": null,
   "metadata": {},
   "outputs": [],
   "source": [
    "data"
   ]
  },
  {
   "cell_type": "code",
   "execution_count": null,
   "metadata": {},
   "outputs": [],
   "source": [
    "heat_map = sns.heatmap(data)\n",
    "plt.show()"
   ]
  },
  {
   "cell_type": "code",
   "execution_count": null,
   "metadata": {},
   "outputs": [],
   "source": [
    "plt.figure(figsize=(12,6))\n",
    "flights = sns.load_dataset(\"flights\")\n",
    "flights = flights.pivot(\"month\", \"year\", \"passengers\")\n",
    "ax = sns.heatmap(flights)"
   ]
  },
  {
   "cell_type": "code",
   "execution_count": null,
   "metadata": {},
   "outputs": [],
   "source": [
    "plt.figure(figsize=(12,6))\n",
    "flights = sns.load_dataset(\"flights\")\n",
    "flights = flights.pivot(\"month\", \"year\", \"passengers\")\n",
    "ax = sns.heatmap(flights,cmap='viridis')"
   ]
  },
  {
   "cell_type": "code",
   "execution_count": null,
   "metadata": {},
   "outputs": [],
   "source": [
    "data = np.random.rand(4, 6)\n",
    "\n",
    "heat_map = sns.heatmap(data, annot=True)\n",
    "sns.set(font_scale=0.5)\n",
    "\n",
    "plt.show()"
   ]
  },
  {
   "cell_type": "code",
   "execution_count": null,
   "metadata": {},
   "outputs": [],
   "source": [
    "heat_map = sns.heatmap(data, annot=True, cbar_kws={'label': 'Colorbar','orientation': 'horizontal'})\n",
    "sns.set(font_scale=1)\n",
    "plt.show()"
   ]
  },
  {
   "cell_type": "code",
   "execution_count": null,
   "metadata": {
    "scrolled": false
   },
   "outputs": [],
   "source": [
    "uniform_data = np.random.uniform(0,1, size=(10,12))\n",
    "sns.heatmap(uniform_data, linewidth=0.5, cmap='viridis',vmin=0, vmax=1, center=0.5)\n",
    "plt.show()"
   ]
  },
  {
   "cell_type": "markdown",
   "metadata": {},
   "source": [
    "### Boxplot"
   ]
  },
  {
   "cell_type": "markdown",
   "metadata": {},
   "source": [
    "![](https://miro.medium.com/max/18000/1*2c21SkzJMf3frPXPAR_gZA.png)"
   ]
  },
  {
   "cell_type": "code",
   "execution_count": null,
   "metadata": {},
   "outputs": [],
   "source": [
    "np.random.seed(123)\n",
    "x = np.random.normal(3,1,size=1000)\n",
    "x"
   ]
  },
  {
   "cell_type": "code",
   "execution_count": null,
   "metadata": {},
   "outputs": [],
   "source": [
    "plt.figure(figsize=(6,6))\n",
    "sns.boxplot(data=x)\n",
    "plt.show()"
   ]
  },
  {
   "cell_type": "code",
   "execution_count": null,
   "metadata": {},
   "outputs": [],
   "source": [
    "np.random.seed(123)\n",
    "x = np.random.normal(3,1,size=(100,6)) * np.random.randn(6)\n",
    "\n",
    "plt.figure(figsize=(12,8))\n",
    "sns.boxplot(data=x)\n",
    "plt.show()"
   ]
  },
  {
   "cell_type": "code",
   "execution_count": null,
   "metadata": {},
   "outputs": [],
   "source": [
    "import numpy as np\n",
    "import matplotlib.pyplot as plt\n",
    "\n",
    "# Create some mock data\n",
    "t = np.arange(0.01, 10.0, 0.01)\n",
    "data1 = np.exp(t)\n",
    "data2 = np.sin(2 * np.pi * t)\n",
    "\n",
    "fig, ax1 = plt.subplots()\n",
    "\n",
    "color = 'tab:red'\n",
    "ax1.set_xlabel('time (s)')\n",
    "ax1.set_ylabel('exp', color=color)\n",
    "ax1.plot(t, data1, color=color)\n",
    "ax1.tick_params(axis='y', labelcolor=color)\n",
    "\n",
    "ax2 = ax1.twinx()  # instantiate a second axes that shares the same x-axis\n",
    "\n",
    "color = 'tab:blue'\n",
    "ax2.set_ylabel('sin', color=color)  # we already handled the x-label with ax1\n",
    "ax2.plot(t, data2, color=color)\n",
    "ax2.tick_params(axis='y', labelcolor=color)\n",
    "\n",
    "fig.tight_layout()  # otherwise the right y-label is slightly clipped\n",
    "plt.show()"
   ]
  },
  {
   "cell_type": "markdown",
   "metadata": {},
   "source": [
    "### Subplots"
   ]
  },
  {
   "cell_type": "code",
   "execution_count": null,
   "metadata": {},
   "outputs": [],
   "source": [
    "Days = [0,1,2,3,4,5,6]\n",
    "Quantity = [4500,5000,6000,6000,4500,5000,4100]\n",
    "Customer = [1000,2000,5000,5250,4750,3500,2000]"
   ]
  },
  {
   "cell_type": "code",
   "execution_count": null,
   "metadata": {},
   "outputs": [],
   "source": [
    "plt.figure(figsize=(12,4))\n",
    "\n",
    "plt.subplot(121)\n",
    "plt.plot(Days,Quantity,color =\"red\",lw=3,ls =\"dashdot\",marker =\"o\",markerfacecolor =\"yellow\")\n",
    "plt.xlabel(\"Day\")\n",
    "plt.ylabel(\"Quantity\")\n",
    "plt.title(\"Days-Quantity\")\n",
    "\n",
    "plt.subplot(122)\n",
    "plt.plot(Days,Customer,color =\"purple\",lw=2,ls = \"--\",marker =\"o\",markerfacecolor =\"yellow\")\n",
    "plt.xlabel(\"Day\")\n",
    "plt.ylabel(\"Customer\")\n",
    "plt.title(\"Days-Customer\")\n",
    "\n",
    "plt.show()"
   ]
  },
  {
   "cell_type": "code",
   "execution_count": null,
   "metadata": {},
   "outputs": [],
   "source": [
    "fig,axes = plt.subplots(nrows =1 ,ncols = 2,figsize=(12,4))\n",
    "\n",
    "axes[0].plot(Days,Quantity,color =\"red\",lw=3,ls =\"--\",marker =\"o\",markerfacecolor =\"yellow\")\n",
    "axes[0].set_xlabel(\"Day\")\n",
    "axes[0].set_ylabel(\"Quantity\")\n",
    "axes[0].set_title(\"Days-Quantity Graph\")\n",
    "\n",
    "axes[1].plot(Days,Customer,color =\"purple\",lw=2,ls = \"--\",marker =\"o\",markerfacecolor =\"yellow\")\n",
    "axes[1].set_xlabel(\"Day\")\n",
    "axes[1].set_ylabel(\"Customer\")\n",
    "axes[1].set_title(\"Days-Customer Graph\")\n",
    "\n",
    "plt.show()"
   ]
  },
  {
   "cell_type": "code",
   "execution_count": null,
   "metadata": {},
   "outputs": [],
   "source": [
    "plt.suptitle('Just A Canvas')\n",
    "plt.subplot(2,2,1)\n",
    "plt.plot(Days,Quantity,\"red\")\n",
    "plt.subplot(2,2,2)\n",
    "plt.plot(Quantity,Days,\"blue\")\n",
    "plt.subplot(2,2,3)\n",
    "plt.plot(Quantity,Days,\"black\")\n",
    "plt.subplot(2,2,4)\n",
    "plt.plot(Days,Quantity,\"yellow\")\n",
    "plt.title('Plot 4')\n",
    "\n",
    "plt.tight_layout() # <---- mind this\n",
    "plt.show()"
   ]
  },
  {
   "cell_type": "code",
   "execution_count": null,
   "metadata": {},
   "outputs": [],
   "source": [
    "a = np.arange(51)\n",
    "b = np.arange(0,101,2)\n",
    "c = a ** 3"
   ]
  },
  {
   "cell_type": "code",
   "execution_count": null,
   "metadata": {
    "scrolled": false
   },
   "outputs": [],
   "source": [
    "fig,axes = plt.subplots(nrows =1 ,ncols = 2,figsize=(8,4))\n",
    "\n",
    "axes[0].plot(a,b,color =\"red\",lw=3,ls =\"--\",marker =\"o\",markerfacecolor =\"black\")\n",
    "axes[0].set_xlabel(\"A Values\")\n",
    "axes[0].set_ylabel(\"B Values\")\n",
    "axes[0].set_title(\"A vs B Graph\")\n",
    "\n",
    "axes[1].plot(a,c,color =\"purple\",lw=5,ls = \"-.\")\n",
    "axes[1].set_xlabel(\"A Values\")\n",
    "axes[1].set_ylabel(\"C Values\")\n",
    "axes[1].set_title(\"A vs C Graph\")\n",
    "\n",
    "plt.savefig('A_B_C.png') # <------------------ save graph"
   ]
  },
  {
   "cell_type": "code",
   "execution_count": null,
   "metadata": {},
   "outputs": [],
   "source": [
    "import numpy as np\n",
    "import matplotlib.pyplot as plt\n",
    "from matplotlib.ticker import NullFormatter\n",
    "\n",
    "# the random data\n",
    "x = np.random.randn(1000)\n",
    "y = np.random.randn(1000)\n",
    "\n",
    "nullfmt = NullFormatter()         # no labels\n",
    "\n",
    "# definitions for the axes\n",
    "left, width = 0.1, 0.65\n",
    "bottom, height = 0.1, 0.65\n",
    "bottom_h = left_h = left + width + 0.02\n",
    "\n",
    "rect_scatter = [left, bottom, width, height]\n",
    "rect_histx = [left, bottom_h, width, 0.2]\n",
    "rect_histy = [left_h, bottom, 0.2, height]\n",
    "\n",
    "# start with a rectangular Figure\n",
    "plt.figure(1, figsize=(8, 8))\n",
    "\n",
    "axScatter = plt.axes(rect_scatter)\n",
    "axHistx = plt.axes(rect_histx)\n",
    "axHisty = plt.axes(rect_histy)\n",
    "\n",
    "# no labels\n",
    "axHistx.xaxis.set_major_formatter(nullfmt)\n",
    "axHisty.yaxis.set_major_formatter(nullfmt)\n",
    "\n",
    "# the scatter plot:\n",
    "axScatter.scatter(x, y)\n",
    "\n",
    "# now determine nice limits by hand:\n",
    "binwidth = 0.25\n",
    "xymax = np.max([np.max(np.fabs(x)), np.max(np.fabs(y))])\n",
    "lim = (int(xymax/binwidth) + 1) * binwidth\n",
    "\n",
    "axScatter.set_xlim((-lim, lim))\n",
    "axScatter.set_ylim((-lim, lim))\n",
    "\n",
    "bins = np.arange(-lim, lim + binwidth, binwidth)\n",
    "axHistx.hist(x, bins=bins)\n",
    "axHisty.hist(y, bins=bins, orientation='horizontal')\n",
    "\n",
    "axHistx.set_xlim(axScatter.get_xlim())\n",
    "axHisty.set_ylim(axScatter.get_ylim())\n",
    "\n",
    "plt.show()"
   ]
  },
  {
   "cell_type": "code",
   "execution_count": null,
   "metadata": {},
   "outputs": [],
   "source": [
    "plt.style.use('classic')"
   ]
  },
  {
   "cell_type": "code",
   "execution_count": null,
   "metadata": {},
   "outputs": [],
   "source": [
    "a = np.arange(51)\n",
    "b = np.arange(0,101,2)\n",
    "c = a ** 3"
   ]
  },
  {
   "cell_type": "code",
   "execution_count": null,
   "metadata": {},
   "outputs": [],
   "source": [
    "fig = plt.figure(figsize=(8,6))\n",
    "\n",
    "axes1 = fig.add_axes([0,0.1,0.9,0.9])\n",
    "axes2 = fig.add_axes([0.1,0.4,0.4,0.5])\n",
    "\n",
    "axes1.plot(a,c,color =\"purple\")\n",
    "axes1.set_title(\"Outer Graph - A vs C Graph\")\n",
    "\n",
    "axes2.plot(a,b,color =\"red\")\n",
    "axes2.set_title(\"Inner Graph - A vs B Graph\")\n",
    "plt.show()"
   ]
  },
  {
   "cell_type": "markdown",
   "metadata": {},
   "source": [
    "### Map"
   ]
  },
  {
   "cell_type": "code",
   "execution_count": null,
   "metadata": {},
   "outputs": [],
   "source": [
    "def qfilter(x):\n",
    "    l,u = x.quantile([0.01,0.99])\n",
    "    return (x > l) & (x < u)"
   ]
  },
  {
   "cell_type": "code",
   "execution_count": null,
   "metadata": {},
   "outputs": [],
   "source": [
    "d = np.loadtxt('data/lat_lon.csv')"
   ]
  },
  {
   "cell_type": "code",
   "execution_count": null,
   "metadata": {},
   "outputs": [],
   "source": [
    "d"
   ]
  },
  {
   "cell_type": "code",
   "execution_count": null,
   "metadata": {
    "scrolled": false
   },
   "outputs": [],
   "source": [
    "import numpy as np\n",
    "import matplotlib.pyplot as plt\n",
    "from mpl_toolkits.basemap import Basemap\n",
    "\n",
    "plt.figure(figsize=(15,10))\n",
    "m = Basemap(\n",
    "    llcrnrlon=min(d[:,1]),\n",
    "    llcrnrlat=min(d[:,0]),\n",
    "    urcrnrlon=max(d[:,1]),\n",
    "    urcrnrlat=max(d[:,0]),\n",
    "    projection='cyl',\n",
    "    resolution ='h',\n",
    "    )\n",
    "\n",
    "# m.drawcoastlines()\n",
    "# m.drawcountries()\n",
    "m.drawmapboundary(fill_color='lightskyblue')\n",
    "m.fillcontinents(color='lightyellow',lake_color='lightskyblue')\n",
    "m.scatter(d[:,1],d[:,0],alpha=0.4,s=2,zorder=2,c='magenta')\n",
    "plt.title('Customer Geolocation')\n",
    "plt.show()"
   ]
  },
  {
   "cell_type": "markdown",
   "metadata": {},
   "source": [
    "# Plotly\n",
    "\n",
    "A javascript based interaction visualization library!\n",
    "\n",
    "![](https://upload.wikimedia.org/wikipedia/commons/thumb/3/37/Plotly-logo-01-square.png/1200px-Plotly-logo-01-square.png)"
   ]
  },
  {
   "cell_type": "code",
   "execution_count": null,
   "metadata": {},
   "outputs": [],
   "source": [
    "import plotly.graph_objects as go\n",
    "import numpy as np\n",
    "\n",
    "x = np.arange(10)\n",
    "\n",
    "fig = go.Figure(data=go.Scatter(x=x, y=x**2))\n",
    "fig.show()"
   ]
  },
  {
   "cell_type": "code",
   "execution_count": null,
   "metadata": {},
   "outputs": [],
   "source": [
    "np.random.seed(1)\n",
    "\n",
    "N = 100\n",
    "random_x = np.linspace(0, 1, N)\n",
    "random_y0 = np.random.randn(N) + 5\n",
    "random_y1 = np.random.randn(N)\n",
    "random_y2 = np.random.randn(N) - 5\n",
    "\n",
    "# Create traces\n",
    "fig = go.Figure()\n",
    "fig.add_trace(go.Scatter(x=random_x, y=random_y0,\n",
    "                    mode='lines',\n",
    "                    name='lines'))\n",
    "fig.add_trace(go.Scatter(x=random_x, y=random_y1,\n",
    "                    mode='lines+markers',\n",
    "                    name='lines+markers'))\n",
    "fig.add_trace(go.Scatter(x=random_x, y=random_y2,\n",
    "                    mode='markers', name='markers'))\n",
    "\n",
    "fig.show()"
   ]
  },
  {
   "cell_type": "code",
   "execution_count": null,
   "metadata": {},
   "outputs": [],
   "source": [
    "title = 'Main Source for News'\n",
    "labels = ['Television', 'Newspaper', 'Internet', 'Radio']\n",
    "colors = ['rgb(67,67,67)', 'rgb(115,115,115)', 'rgb(49,130,189)', 'rgb(189,189,189)']\n",
    "\n",
    "mode_size = [8, 8, 12, 8]\n",
    "line_size = [2, 2, 4, 2]\n",
    "\n",
    "x_data = np.vstack((np.arange(2001, 2014),)*4)\n",
    "\n",
    "y_data = np.array([\n",
    "    [74, 82, 80, 74, 73, 72, 74, 70, 70, 66, 66, 69],\n",
    "    [45, 42, 50, 46, 36, 36, 34, 35, 32, 31, 31, 28],\n",
    "    [13, 14, 20, 24, 20, 24, 24, 40, 35, 41, 43, 50],\n",
    "    [18, 21, 18, 21, 16, 14, 13, 18, 17, 16, 19, 23],\n",
    "])\n",
    "\n",
    "fig = go.Figure()\n",
    "\n",
    "fig.update_layout(\n",
    "    title={\n",
    "        'text': \"Main Source of News\",\"font\":{\"size\":24,'family':'Arial'}})\n",
    "\n",
    "for i in range(0, 4):\n",
    "    fig.add_trace(go.Scatter(x=x_data[i], y=y_data[i], mode='lines',\n",
    "        name=labels[i],\n",
    "        line=dict(color=colors[i], width=line_size[i]),\n",
    "        connectgaps=True,\n",
    "    ))\n",
    "\n",
    "    # endpoints\n",
    "    fig.add_trace(go.Scatter(\n",
    "        x=[x_data[i][0], x_data[i][-1]],\n",
    "        y=[y_data[i][0], y_data[i][-1]],\n",
    "        mode='markers',\n",
    "        marker=dict(color=colors[i], size=mode_size[i])\n",
    "    ))\n",
    "\n",
    "fig.update_layout(\n",
    "    xaxis=dict(\n",
    "        showline=True,\n",
    "        showticklabels=True,\n",
    "        linecolor='rgb(204, 204, 204)',\n",
    "    ),\n",
    "    yaxis=dict(\n",
    "        showticklabels=False,\n",
    "    ),\n",
    "    showlegend=False,\n",
    "    plot_bgcolor='white'\n",
    ")\n",
    "\n",
    "annotations = []\n",
    "\n",
    "# Adding labels\n",
    "for y_trace, label, color in zip(y_data, labels, colors):\n",
    "    # labeling the left_side of the plot\n",
    "    annotations.append(dict(xref='paper', x=0.05, y=y_trace[0],\n",
    "                                  xanchor='right', yanchor='middle',\n",
    "                                  text=label + \" \" + str(y_trace[0]) + '%',\n",
    "                                  font=dict(family='Arial',\n",
    "                                            size=16),\n",
    "                                  showarrow=False))\n",
    "    # labeling the right_side of the plot\n",
    "    annotations.append(dict(xref='paper', x=0.95, y=y_trace[11],\n",
    "                                  xanchor='left', yanchor='middle',\n",
    "                                  text=str(y_trace[11]) + '%',\n",
    "                                  font=dict(family='Arial',\n",
    "                                            size=16),\n",
    "                                  showarrow=False))\n",
    "# Source\n",
    "annotations.append(dict(xref='paper', yref='paper', x=0.5, y=-0.1,\n",
    "                              xanchor='center', yanchor='top',\n",
    "                              text='Source: PewResearch Center & ' +\n",
    "                                   'Storytelling with data',\n",
    "                              font=dict(family='Arial',\n",
    "                                        size=12,\n",
    "                                        color='rgb(150,150,150)'),\n",
    "                              showarrow=False))\n",
    "\n",
    "fig.update_layout(annotations=annotations)\n",
    "fig.show()"
   ]
  },
  {
   "cell_type": "code",
   "execution_count": null,
   "metadata": {},
   "outputs": [],
   "source": [
    "import plotly.graph_objects as go\n",
    "\n",
    "fig = go.Figure(data=go.Scatter(\n",
    "    x=[1, 2, 3, 4],\n",
    "    y=[10, 11, 12, 13],\n",
    "    mode='markers',\n",
    "    marker=dict(size=[40, 60, 80, 100],\n",
    "                color=[0, 1, 2, 3])\n",
    "))\n",
    "\n",
    "fig.show()"
   ]
  },
  {
   "cell_type": "code",
   "execution_count": null,
   "metadata": {},
   "outputs": [],
   "source": [
    "import plotly.graph_objects as go\n",
    "\n",
    "np.random.seed(12)\n",
    "n, m = 1000, 2\n",
    "x = np.random.laplace(size=(n,m)) * np.random.randn(m) + np.random.randn(m) * 1\n",
    "y = np.random.laplace(size=(n,m)) * np.random.randn(m) + np.random.randn(m) * 3\n",
    "\n",
    "fig = go.Figure(data=go.Scatter(x=x[:,0],y=y[:,0],mode='markers', name='Cohort1'))\n",
    "fig.add_trace(go.Scatter(x=x[:,1], y=y[:,1],mode='markers', name='Cohort2'))\n",
    "\n",
    "fig.show()"
   ]
  },
  {
   "cell_type": "code",
   "execution_count": null,
   "metadata": {},
   "outputs": [],
   "source": [
    "import plotly.graph_objects as go\n",
    "\n",
    "np.random.seed(12)\n",
    "n, m = 1000, 2\n",
    "x = np.random.laplace(size=(n,m)) * np.random.randn(m) + np.random.randn(m) * 1\n",
    "y = np.random.laplace(size=(n,m)) * np.random.randn(m) + np.random.randn(m) * 3\n",
    "\n",
    "size_code = (x[:,1] + abs(min(x[:,1]))) * 5\n",
    "color_code = y[:,1] + abs(min(y[:,1]))\n",
    "\n",
    "d = go.Scatter(\n",
    "    x=x[:,0],\n",
    "    y=y[:,0],\n",
    "    mode='markers',\n",
    "    marker = {'size':size_code, 'color':color_code,\"colorbar\":{\"thickness\":20}})\n",
    "fig = go.Figure(data=d)\n",
    "\n",
    "fig.show()"
   ]
  },
  {
   "cell_type": "code",
   "execution_count": null,
   "metadata": {},
   "outputs": [],
   "source": [
    "fig = go.Figure(\n",
    "    data=go.Bar(y=[2, 1, 3]),\n",
    "    layout_title_text=\"Just a Bar Chart\"\n",
    ")\n",
    "fig.show()"
   ]
  },
  {
   "cell_type": "code",
   "execution_count": null,
   "metadata": {},
   "outputs": [],
   "source": [
    "revenues = [559.200,407.009,386.064,383.906,379.130,344.379,329.784,282.760,282.610,275.288,274.515,264.938,256.776,254.616,242.155,231.051,215.111,205.839,200.600,193.346]\n",
    "companies = [\"Walmart\",\"Sinopec Group\",\"Amazon\",\"State Grid\",\"China National Petroleum\",\"Royal Dutch Shell\",\"Saudi Aramco\",\"Volkswagen\",\"BP\",\"Toyota\",\"Apple\",\"ExxonMobil\",\"CVS Health\",\"Berkshire Hathaway\",\"UnitedHealth\",\"McKesson\",\"Glencore\",\"China State Construction\",\"Samsung Electronics\",\"Daimler\"]"
   ]
  },
  {
   "cell_type": "code",
   "execution_count": null,
   "metadata": {},
   "outputs": [],
   "source": [
    "fig = go.Figure(\n",
    "    data=[go.Bar(x=companies,y=revenues)],\n",
    "    layout_title_text=\"Companies by Revenue\"\n",
    ")\n",
    "fig.show()"
   ]
  },
  {
   "cell_type": "code",
   "execution_count": null,
   "metadata": {},
   "outputs": [],
   "source": [
    "import plotly.express as px\n",
    "\n",
    "df = px.data.gapminder().query(\"continent == 'Asia'\")\n",
    "fig = px.pie(df, values='pop', names='country')\n",
    "fig.update_traces(textposition='inside')\n",
    "fig.update_layout(uniformtext_minsize=12, uniformtext_mode='hide')\n",
    "fig.show()"
   ]
  },
  {
   "cell_type": "code",
   "execution_count": null,
   "metadata": {},
   "outputs": [],
   "source": [
    "import plotly.graph_objects as go\n",
    "from plotly.subplots import make_subplots\n",
    "\n",
    "labels = [\"US\", \"China\", \"European Union\", \"Russian Federation\", \"Brazil\", \"India\",\n",
    "          \"Rest of World\"]\n",
    "\n",
    "# Create subplots: use 'domain' type for Pie subplot\n",
    "fig = make_subplots(rows=1, cols=2, specs=[[{'type':'domain'}, {'type':'domain'}]])\n",
    "fig.add_trace(go.Pie(labels=labels, values=[16, 15, 12, 6, 5, 4, 42], name=\"GHG Emissions\"),\n",
    "              1, 1)\n",
    "fig.add_trace(go.Pie(labels=labels, values=[27, 11, 25, 8, 1, 3, 25], name=\"CO2 Emissions\"),\n",
    "              1, 2)\n",
    "\n",
    "# Use `hole` to create a donut-like pie chart\n",
    "fig.update_traces(hole=.4, hoverinfo=\"label+percent+name\")\n",
    "\n",
    "fig.update_layout(\n",
    "    title_text=\"Global Emissions 1990-2011\",\n",
    "    # Add annotations in the center of the donut pies.\n",
    "    annotations=[dict(text='GHG', x=0.18, y=0.5, font_size=20, showarrow=False),\n",
    "                 dict(text='CO2', x=0.82, y=0.5, font_size=20, showarrow=False)])\n",
    "fig.show()"
   ]
  },
  {
   "cell_type": "code",
   "execution_count": null,
   "metadata": {},
   "outputs": [],
   "source": [
    "import plotly.graph_objects as go\n",
    "\n",
    "x_data = ['Carmelo Anthony', 'Dwyane Wade',\n",
    "          'Deron Williams', 'Brook Lopez',\n",
    "          'Damian Lillard', 'David West']\n",
    "\n",
    "N = 50\n",
    "\n",
    "y0 = (10 * np.random.randn(N) + 30).astype(np.int)\n",
    "y1 = (13 * np.random.randn(N) + 38).astype(np.int)\n",
    "y2 = (11 * np.random.randn(N) + 33).astype(np.int)\n",
    "y3 = (9 * np.random.randn(N) + 36).astype(np.int)\n",
    "y4 = (15 * np.random.randn(N) + 31).astype(np.int)\n",
    "y5 = (12 * np.random.randn(N) + 40).astype(np.int)\n",
    "\n",
    "y_data = [y0, y1, y2, y3, y4, y5]\n",
    "\n",
    "colors = ['rgba(93, 164, 214, 0.5)', 'rgba(255, 144, 14, 0.5)', 'rgba(44, 160, 101, 0.5)',\n",
    "          'rgba(255, 65, 54, 0.5)', 'rgba(207, 114, 255, 0.5)', 'rgba(127, 96, 0, 0.5)']\n",
    "\n",
    "\n",
    "\n",
    "fig = go.Figure()\n",
    "\n",
    "for xd, yd, cls in zip(x_data, y_data, colors):\n",
    "        fig.add_trace(go.Box(\n",
    "            y=yd,\n",
    "            name=xd,\n",
    "            boxpoints='all',\n",
    "            jitter=0.5,\n",
    "            whiskerwidth=0.2,\n",
    "            fillcolor=cls,\n",
    "            marker_size=2,\n",
    "            line_width=1)\n",
    "        )\n",
    "\n",
    "fig.update_layout(\n",
    "    title='Points Scored by the Top 9 Scoring NBA Players in 2012',\n",
    "    yaxis=dict(\n",
    "        autorange=True,\n",
    "        showgrid=True,\n",
    "        zeroline=True,\n",
    "        dtick=5,\n",
    "        gridcolor='rgb(255, 255, 255)',\n",
    "        gridwidth=1,\n",
    "        zerolinecolor='rgb(255, 255, 255)',\n",
    "        zerolinewidth=2,\n",
    "    ),\n",
    "    margin=dict(\n",
    "        l=40,\n",
    "        r=30,\n",
    "        b=80,\n",
    "        t=100,\n",
    "    ),\n",
    "    paper_bgcolor='rgb(243, 243, 243)',\n",
    "    plot_bgcolor='rgb(243, 243, 243)',\n",
    "    showlegend=False\n",
    ")\n",
    "\n",
    "fig.show()"
   ]
  },
  {
   "cell_type": "code",
   "execution_count": null,
   "metadata": {},
   "outputs": [],
   "source": [
    "import plotly.graph_objects as go\n",
    "import pandas as pd\n",
    "\n",
    "df = pd.read_csv('https://raw.githubusercontent.com/plotly/datasets/master/2014_world_gdp_with_codes.csv')\n",
    "\n",
    "fig = go.Figure(data=go.Choropleth(\n",
    "    locations = df['CODE'],\n",
    "    z = df['GDP (BILLIONS)'],\n",
    "    text = df['COUNTRY'],\n",
    "    colorscale = 'Blues',\n",
    "    autocolorscale=False,\n",
    "    reversescale=True,\n",
    "    marker_line_color='darkgray',\n",
    "    marker_line_width=0.5,\n",
    "    colorbar_tickprefix = '$',\n",
    "    colorbar_title = 'GDP<br>Billions US$',\n",
    "))\n",
    "\n",
    "fig.update_layout(\n",
    "    title_text='2014 Global GDP',\n",
    "    geo=dict(\n",
    "        showframe=False,\n",
    "        showcoastlines=False,\n",
    "        projection_type='equirectangular'\n",
    "    ),\n",
    "    annotations = [dict(\n",
    "        x=0.55,\n",
    "        y=0.1,\n",
    "        xref='paper',\n",
    "        yref='paper',\n",
    "        text='Source: <a href=\"https://www.cia.gov/library/publications/the-world-factbook/fields/2195.html\">\\\n",
    "            CIA World Factbook</a>',\n",
    "        showarrow = False\n",
    "    )]\n",
    ")\n",
    "\n",
    "fig.show()"
   ]
  },
  {
   "cell_type": "markdown",
   "metadata": {},
   "source": [
    "## Plotly: Dash\n",
    "\n",
    "An easy-to-use dashboard creation library!\n",
    "\n",
    "![](https://rapids.ai/assets/images/Plotly_Dash_logo.png)"
   ]
  },
  {
   "cell_type": "code",
   "execution_count": null,
   "metadata": {},
   "outputs": [],
   "source": [
    "%%writefile app.py\n",
    "\n",
    "import dash\n",
    "import dash_core_components as dcc\n",
    "import dash_html_components as html\n",
    "from dash.dependencies import Input, Output\n",
    "import plotly.express as px\n",
    "\n",
    "df = px.data.iris()\n",
    "all_dims = ['sepal_length', 'sepal_width', \n",
    "            'petal_length', 'petal_width']\n",
    "\n",
    "app = dash.Dash(__name__)\n",
    "\n",
    "app.layout = html.Div([\n",
    "    dcc.Dropdown(\n",
    "        id=\"dropdown\",\n",
    "        options=[{\"label\": x, \"value\": x} \n",
    "                 for x in all_dims],\n",
    "        value=all_dims[:2],\n",
    "        multi=True\n",
    "    ),\n",
    "    dcc.Graph(id=\"splom\"),\n",
    "])\n",
    "\n",
    "@app.callback(\n",
    "    Output(\"splom\", \"figure\"), \n",
    "    [Input(\"dropdown\", \"value\")])\n",
    "\n",
    "def update_bar_chart(dims):\n",
    "    fig = px.scatter_matrix(\n",
    "        df, dimensions=dims, color=\"species\")\n",
    "    return fig\n",
    "\n",
    "app.run_server(debug=True)"
   ]
  },
  {
   "cell_type": "code",
   "execution_count": null,
   "metadata": {},
   "outputs": [],
   "source": [
    "%run app.py"
   ]
  },
  {
   "cell_type": "code",
   "execution_count": null,
   "metadata": {},
   "outputs": [],
   "source": [
    "%%writefile app.py\n",
    "import dash\n",
    "import dash_core_components as dcc\n",
    "import dash_html_components as html\n",
    "import pandas as pd\n",
    "import plotly.express as px\n",
    "\n",
    "external_stylesheets = ['https://codepen.io/chriddyp/pen/bWLwgP.css']\n",
    "\n",
    "app = dash.Dash(__name__, external_stylesheets=external_stylesheets)\n",
    "\n",
    "df = pd.read_csv('https://plotly.github.io/datasets/country_indicators.csv')\n",
    "\n",
    "available_indicators = df['Indicator Name'].unique()\n",
    "\n",
    "app.layout = html.Div([\n",
    "    html.Div([\n",
    "\n",
    "        html.Div([\n",
    "            dcc.Dropdown(\n",
    "                id='crossfilter-xaxis-column',\n",
    "                options=[{'label': i, 'value': i} for i in available_indicators],\n",
    "                value='Fertility rate, total (births per woman)'\n",
    "            ),\n",
    "            dcc.RadioItems(\n",
    "                id='crossfilter-xaxis-type',\n",
    "                options=[{'label': i, 'value': i} for i in ['Linear', 'Log']],\n",
    "                value='Linear',\n",
    "                labelStyle={'display': 'inline-block', 'marginTop': '5px'}\n",
    "            )\n",
    "        ],\n",
    "        style={'width': '49%', 'display': 'inline-block'}),\n",
    "\n",
    "        html.Div([\n",
    "            dcc.Dropdown(\n",
    "                id='crossfilter-yaxis-column',\n",
    "                options=[{'label': i, 'value': i} for i in available_indicators],\n",
    "                value='Life expectancy at birth, total (years)'\n",
    "            ),\n",
    "            dcc.RadioItems(\n",
    "                id='crossfilter-yaxis-type',\n",
    "                options=[{'label': i, 'value': i} for i in ['Linear', 'Log']],\n",
    "                value='Linear',\n",
    "                labelStyle={'display': 'inline-block', 'marginTop': '5px'}\n",
    "            )\n",
    "        ], style={'width': '49%', 'float': 'right', 'display': 'inline-block'})\n",
    "    ], style={\n",
    "        'padding': '10px 5px'\n",
    "    }),\n",
    "\n",
    "    html.Div([\n",
    "        dcc.Graph(\n",
    "            id='crossfilter-indicator-scatter',\n",
    "            hoverData={'points': [{'customdata': 'Japan'}]}\n",
    "        )\n",
    "    ], style={'width': '49%', 'display': 'inline-block', 'padding': '0 20'}),\n",
    "    html.Div([\n",
    "        dcc.Graph(id='x-time-series'),\n",
    "        dcc.Graph(id='y-time-series'),\n",
    "    ], style={'display': 'inline-block', 'width': '49%'}),\n",
    "\n",
    "    html.Div(dcc.Slider(\n",
    "        id='crossfilter-year--slider',\n",
    "        min=df['Year'].min(),\n",
    "        max=df['Year'].max(),\n",
    "        value=df['Year'].max(),\n",
    "        marks={str(year): str(year) for year in df['Year'].unique()},\n",
    "        step=None\n",
    "    ), style={'width': '49%', 'padding': '0px 20px 20px 20px'})\n",
    "])\n",
    "\n",
    "\n",
    "@app.callback(\n",
    "    dash.dependencies.Output('crossfilter-indicator-scatter', 'figure'),\n",
    "    [dash.dependencies.Input('crossfilter-xaxis-column', 'value'),\n",
    "     dash.dependencies.Input('crossfilter-yaxis-column', 'value'),\n",
    "     dash.dependencies.Input('crossfilter-xaxis-type', 'value'),\n",
    "     dash.dependencies.Input('crossfilter-yaxis-type', 'value'),\n",
    "     dash.dependencies.Input('crossfilter-year--slider', 'value')])\n",
    "def update_graph(xaxis_column_name, yaxis_column_name,\n",
    "                 xaxis_type, yaxis_type,\n",
    "                 year_value):\n",
    "    dff = df[df['Year'] == year_value]\n",
    "\n",
    "    fig = px.scatter(x=dff[dff['Indicator Name'] == xaxis_column_name]['Value'],\n",
    "            y=dff[dff['Indicator Name'] == yaxis_column_name]['Value'],\n",
    "            hover_name=dff[dff['Indicator Name'] == yaxis_column_name]['Country Name']\n",
    "            )\n",
    "\n",
    "    fig.update_traces(customdata=dff[dff['Indicator Name'] == yaxis_column_name]['Country Name'])\n",
    "\n",
    "    fig.update_xaxes(title=xaxis_column_name, type='linear' if xaxis_type == 'Linear' else 'log')\n",
    "\n",
    "    fig.update_yaxes(title=yaxis_column_name, type='linear' if yaxis_type == 'Linear' else 'log')\n",
    "\n",
    "    fig.update_layout(margin={'l': 40, 'b': 40, 't': 10, 'r': 0}, hovermode='closest')\n",
    "\n",
    "    return fig\n",
    "\n",
    "\n",
    "def create_time_series(dff, axis_type, title):\n",
    "\n",
    "    fig = px.scatter(dff, x='Year', y='Value')\n",
    "\n",
    "    fig.update_traces(mode='lines+markers')\n",
    "\n",
    "    fig.update_xaxes(showgrid=False)\n",
    "\n",
    "    fig.update_yaxes(type='linear' if axis_type == 'Linear' else 'log')\n",
    "\n",
    "    fig.add_annotation(x=0, y=0.85, xanchor='left', yanchor='bottom',\n",
    "                       xref='paper', yref='paper', showarrow=False, align='left',\n",
    "                       text=title)\n",
    "\n",
    "    fig.update_layout(height=225, margin={'l': 20, 'b': 30, 'r': 10, 't': 10})\n",
    "\n",
    "    return fig\n",
    "\n",
    "\n",
    "@app.callback(\n",
    "    dash.dependencies.Output('x-time-series', 'figure'),\n",
    "    [dash.dependencies.Input('crossfilter-indicator-scatter', 'hoverData'),\n",
    "     dash.dependencies.Input('crossfilter-xaxis-column', 'value'),\n",
    "     dash.dependencies.Input('crossfilter-xaxis-type', 'value')])\n",
    "def update_y_timeseries(hoverData, xaxis_column_name, axis_type):\n",
    "    country_name = hoverData['points'][0]['customdata']\n",
    "    dff = df[df['Country Name'] == country_name]\n",
    "    dff = dff[dff['Indicator Name'] == xaxis_column_name]\n",
    "    title = '<b>{}</b><br>{}'.format(country_name, xaxis_column_name)\n",
    "    return create_time_series(dff, axis_type, title)\n",
    "\n",
    "\n",
    "@app.callback(\n",
    "    dash.dependencies.Output('y-time-series', 'figure'),\n",
    "    [dash.dependencies.Input('crossfilter-indicator-scatter', 'hoverData'),\n",
    "     dash.dependencies.Input('crossfilter-yaxis-column', 'value'),\n",
    "     dash.dependencies.Input('crossfilter-yaxis-type', 'value')])\n",
    "def update_x_timeseries(hoverData, yaxis_column_name, axis_type):\n",
    "    dff = df[df['Country Name'] == hoverData['points'][0]['customdata']]\n",
    "    dff = dff[dff['Indicator Name'] == yaxis_column_name]\n",
    "    return create_time_series(dff, axis_type, yaxis_column_name)\n",
    "\n",
    "app.run_server(debug=True)"
   ]
  },
  {
   "cell_type": "code",
   "execution_count": null,
   "metadata": {},
   "outputs": [],
   "source": [
    "%run app.py"
   ]
  },
  {
   "cell_type": "markdown",
   "metadata": {},
   "source": [
    "## Example Project"
   ]
  },
  {
   "cell_type": "code",
   "execution_count": null,
   "metadata": {},
   "outputs": [],
   "source": [
    "plt.style.use('seaborn')"
   ]
  },
  {
   "cell_type": "code",
   "execution_count": null,
   "metadata": {},
   "outputs": [],
   "source": [
    "from itertools import groupby"
   ]
  },
  {
   "cell_type": "code",
   "execution_count": null,
   "metadata": {},
   "outputs": [],
   "source": [
    "def sum_by_user(x,u):\n",
    "    out = {}\n",
    "    val = np.unique(u)\n",
    "    \n",
    "    for user in val:\n",
    "        mask = user == u\n",
    "        out[user] = np.sum(x[mask])\n",
    "        \n",
    "    out = np.array(list(out.items()))\n",
    "    return out\n",
    "\n",
    "def sort_by_sum(a):\n",
    "    return a[np.argsort(a[:,1],)][::-1]\n",
    "\n",
    "def find_outliers(x,y):\n",
    "    x_, y_ = x/np.max(x), y/np.max(y)\n",
    "    a = np.column_stack([x_,y_])\n",
    "    mx, my = np.median(a,axis=0)\n",
    "    dist = np.sqrt((x_ - mx)**2 + (y_ - my)**2)\n",
    "    idx = np.argsort(dist)\n",
    "    n = int(0.01*x.shape[0])\n",
    "    return idx[-n:]"
   ]
  },
  {
   "cell_type": "code",
   "execution_count": null,
   "metadata": {},
   "outputs": [],
   "source": [
    "n = 1000\n",
    "x = np.random.exponential(50,size=n)\n",
    "y = np.random.exponential(10,size=n)\n",
    "u = np.random.randint(0,30,n)"
   ]
  },
  {
   "cell_type": "code",
   "execution_count": null,
   "metadata": {},
   "outputs": [],
   "source": [
    "sec = np.round(y,decimals=-1)"
   ]
  },
  {
   "cell_type": "code",
   "execution_count": null,
   "metadata": {},
   "outputs": [],
   "source": [
    "unique, counts = np.unique(sec, return_counts=True)\n",
    "dict(zip(unique, counts))"
   ]
  },
  {
   "cell_type": "code",
   "execution_count": null,
   "metadata": {},
   "outputs": [],
   "source": [
    "plt.figure(figsize=(8,6),dpi=150)\n",
    "ax1 = plt.subplot2grid((2, 1), (0, 0), colspan=1)\n",
    "ax2 = plt.subplot2grid((2, 2), (1, 0))\n",
    "ax3 = plt.subplot2grid((2, 2), (1, 1))\n",
    "\n",
    "idx = find_outliers(x,y)\n",
    "ax1.scatter(np.delete(x,idx),np.delete(y,idx),c=np.delete(u,idx),alpha=0.7)\n",
    "ax1.scatter(x[idx],y[idx],c='red',marker='x',s=30)\n",
    "ax1.set_title('Customer Spending')\n",
    "ax1.set_xlabel('Purchased Total')\n",
    "ax1.set_ylabel('Time On Page')\n",
    "\n",
    "tot = sum_by_user(x,u)\n",
    "tot = sort_by_sum(tot)\n",
    "ax2.bar(tot[:,0],tot[:,1])\n",
    "ax2.set_xlabel('Users')\n",
    "ax2.set_ylabel('Purchased Total (USD)')\n",
    "ax2.set_title('Purchased Total by Customer')\n",
    "\n",
    "ax3.pie(counts,labels=unique.astype(int),shadow=True, autopct='%1.1f%%')\n",
    "ax3.set_title('Time on Page (sec)')\n",
    "\n",
    "plt.tight_layout()\n",
    "plt.show()"
   ]
  },
  {
   "cell_type": "markdown",
   "metadata": {},
   "source": [
    "# Next Week: `pandas`!\n",
    "\n",
    "We will learn:\n",
    "* Reading data from different sources and writing to file\n",
    "* Array operations, indexing, time indexing, etc.\n",
    "* Data frame basic features\n",
    "* Manipulating, filtering, grouping of data"
   ]
  },
  {
   "cell_type": "markdown",
   "metadata": {},
   "source": [
    "# References\n",
    "\n",
    "https://matplotlib.org/\n",
    "\n",
    "https://plotly.com/\n",
    "\n",
    "https://dash.plotly.com/"
   ]
  },
  {
   "cell_type": "code",
   "execution_count": null,
   "metadata": {},
   "outputs": [],
   "source": []
  }
 ],
 "metadata": {
  "kernelspec": {
   "display_name": "Python 3",
   "language": "python",
   "name": "python3"
  },
  "language_info": {
   "codemirror_mode": {
    "name": "ipython",
    "version": 3
   },
   "file_extension": ".py",
   "mimetype": "text/x-python",
   "name": "python",
   "nbconvert_exporter": "python",
   "pygments_lexer": "ipython3",
   "version": "3.6.9"
  }
 },
 "nbformat": 4,
 "nbformat_minor": 4
}
