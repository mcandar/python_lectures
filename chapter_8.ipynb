{
 "cells": [
  {
   "cell_type": "markdown",
   "metadata": {},
   "source": [
    "# Chapter 8\n",
    "\n",
    ".................\n",
    "\n",
    "## Learning Goals\n",
    "\n",
    ".....\n",
    "\n",
    "## Authors\n",
    "\n",
    "- Mert Candar, mccandar@gmail.com\n",
    "- Aras Kahraman, aras.kahraman@hotmail.com\n",
    "\n",
    "## Learning Curve Boosters\n",
    "\n",
    "https://github.com/justmarkham/pandas-videos\n",
    "\n",
    "https://github.com/joeyajames/Python/tree/master/Pandas\n",
    "\n",
    "https://pandas.pydata.org/pandas-docs/stable/reference/"
   ]
  },
  {
   "cell_type": "markdown",
   "metadata": {},
   "source": [
    "<h1><center><strike>Learn Machine Learning</strike></center></h1>\n",
    "<h1><center>Learn Statistics</center></h1>"
   ]
  },
  {
   "cell_type": "markdown",
   "metadata": {},
   "source": [
    "![](https://miro.medium.com/max/970/0*5NrDYk8PryKASFJD)"
   ]
  },
  {
   "cell_type": "markdown",
   "metadata": {},
   "source": [
    "![](https://corpnce.com/wp-content/uploads/2019/08/AI-Ml-Dl-Ds.jpg)"
   ]
  },
  {
   "cell_type": "markdown",
   "metadata": {},
   "source": [
    "![](img/5g7lgo.jpg)"
   ]
  },
  {
   "cell_type": "markdown",
   "metadata": {},
   "source": [
    "![](img/5g7joc.jpg)"
   ]
  },
  {
   "cell_type": "markdown",
   "metadata": {},
   "source": [
    "![](img/5g7ko1.jpg)"
   ]
  },
  {
   "cell_type": "markdown",
   "metadata": {},
   "source": [
    "![](img/5g7ky2.jpg)"
   ]
  },
  {
   "cell_type": "markdown",
   "metadata": {},
   "source": [
    "![](img/5g7l9a.jpg)"
   ]
  },
  {
   "cell_type": "markdown",
   "metadata": {},
   "source": [
    "![](img/5g7lr4.jpg)"
   ]
  },
  {
   "cell_type": "markdown",
   "metadata": {},
   "source": [
    "![](img/5g7shy.jpg)"
   ]
  },
  {
   "cell_type": "markdown",
   "metadata": {},
   "source": [
    "![](img/5g7nht.jpg)"
   ]
  },
  {
   "cell_type": "markdown",
   "metadata": {},
   "source": [
    "![](img/5g7m0q.jpg)"
   ]
  },
  {
   "cell_type": "markdown",
   "metadata": {},
   "source": [
    "![](https://datascience.foundation/img/pdf_images/underfitting_and_overfitting_in_machine_learning_some_degrees_and_train_our_model.png)"
   ]
  },
  {
   "cell_type": "markdown",
   "metadata": {},
   "source": [
    "## Important Blog Pages\n",
    "\n",
    "http://colah.github.io/\n",
    "\n",
    "http://mark.reid.name/blog/\n",
    "\n",
    "http://karpathy.github.io/\n",
    "\n",
    "\n",
    "## Other Several Readings\n",
    "\n",
    "https://www.kdnuggets.com/2021/01/data-scientist-dont-start-machine-learning.html\n",
    "\n",
    "https://www.kdnuggets.com/2018/04/dont-learn-machine-learning-24-hours.html\n",
    "\n",
    "https://medium.datadriveninvestor.com/good-grief-stop-trying-to-learn-machine-learning-1b12a7d749a7\n",
    "\n",
    "https://www.quora.com/Is-it-true-that-I-should-not-learn-machine-learning-and-artificial-intelligence-if-I-am-not-good-at-data-structures-and-algorithms\n",
    "\n",
    "## Videos\n",
    "\n",
    "https://www.youtube.com/watch?v=reY50t2hbuM&ab_channel=SmithaKolan-MachineLearningEngineer\n",
    "\n",
    "## Bonus: Youtube Channel\n",
    "\n",
    "https://www.youtube.com/channel/UCYO_jab_esuFRV4b17AJtAw"
   ]
  },
  {
   "cell_type": "markdown",
   "metadata": {},
   "source": [
    "# References\n",
    "\n",
    "https://www.kdnuggets.com/2018/04/dont-learn-machine-learning-24-hours.html"
   ]
  },
  {
   "cell_type": "code",
   "execution_count": null,
   "metadata": {},
   "outputs": [],
   "source": []
  }
 ],
 "metadata": {
  "kernelspec": {
   "display_name": "Python 3",
   "language": "python",
   "name": "python3"
  },
  "language_info": {
   "codemirror_mode": {
    "name": "ipython",
    "version": 3
   },
   "file_extension": ".py",
   "mimetype": "text/x-python",
   "name": "python",
   "nbconvert_exporter": "python",
   "pygments_lexer": "ipython3",
   "version": "3.6.9"
  }
 },
 "nbformat": 4,
 "nbformat_minor": 4
}
