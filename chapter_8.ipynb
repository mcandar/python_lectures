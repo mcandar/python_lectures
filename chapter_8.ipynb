{
 "cells": [
  {
   "cell_type": "markdown",
   "metadata": {},
   "source": [
    "# Chapter 8\n",
    "\n",
    ".................\n",
    "\n",
    "## Learning Goals\n",
    "\n",
    ".....\n",
    "\n",
    "## Authors\n",
    "\n",
    "- Mert Candar, mccandar@gmail.com\n",
    "- Aras Kahraman, aras.kahraman@hotmail.com\n",
    "\n",
    "## Learning Curve Boosters\n",
    "\n",
    "https://github.com/justmarkham/pandas-videos\n",
    "\n",
    "https://github.com/joeyajames/Python/tree/master/Pandas\n",
    "\n",
    "https://pandas.pydata.org/pandas-docs/stable/reference/"
   ]
  },
  {
   "cell_type": "markdown",
   "metadata": {},
   "source": [
    "<h1><center><strike>Learn Machine Learning</strike></center></h1>\n",
    "<h1><center>Learn Statistics</center></h1>"
   ]
  },
  {
   "cell_type": "markdown",
   "metadata": {},
   "source": [
    "![](https://miro.medium.com/max/970/0*5NrDYk8PryKASFJD)"
   ]
  },
  {
   "cell_type": "markdown",
   "metadata": {},
   "source": [
    "![](https://corpnce.com/wp-content/uploads/2019/08/AI-Ml-Dl-Ds.jpg)"
   ]
  },
  {
   "cell_type": "markdown",
   "metadata": {},
   "source": [
    "![](img/5g7lgo.jpg)"
   ]
  },
  {
   "cell_type": "markdown",
   "metadata": {},
   "source": [
    "![](img/5g7joc.jpg)"
   ]
  },
  {
   "cell_type": "markdown",
   "metadata": {},
   "source": [
    "![](img/5g7ko1.jpg)"
   ]
  },
  {
   "cell_type": "markdown",
   "metadata": {},
   "source": [
    "![](img/5g7ky2.jpg)"
   ]
  },
  {
   "cell_type": "markdown",
   "metadata": {},
   "source": [
    "![](img/5g7l9a.jpg)"
   ]
  },
  {
   "cell_type": "markdown",
   "metadata": {},
   "source": [
    "![](img/5g7lr4.jpg)"
   ]
  },
  {
   "cell_type": "markdown",
   "metadata": {},
   "source": [
    "![](img/5g7shy.jpg)"
   ]
  },
  {
   "cell_type": "markdown",
   "metadata": {},
   "source": [
    "![](img/5g7nht.jpg)"
   ]
  },
  {
   "cell_type": "markdown",
   "metadata": {},
   "source": [
    "![](img/5g7m0q.jpg)"
   ]
  },
  {
   "cell_type": "markdown",
   "metadata": {},
   "source": [
    "## Linear Relationship\n",
    "\n",
    "\n",
    "We will start with inspecting the relations between variables."
   ]
  },
  {
   "cell_type": "markdown",
   "metadata": {},
   "source": [
    "![](https://statistics.laerd.com/spss-tutorials/img/lr/linear-nonlinear-relationships.png)"
   ]
  },
  {
   "cell_type": "markdown",
   "metadata": {},
   "source": [
    "![](https://slidetodoc.com/presentation_image_h/2784606e0d7545ed74e84ba33c1aa308/image-4.jpg)"
   ]
  },
  {
   "cell_type": "markdown",
   "metadata": {},
   "source": [
    "![](https://datascience.foundation/img/pdf_images/underfitting_and_overfitting_in_machine_learning_some_degrees_and_train_our_model.png)"
   ]
  },
  {
   "cell_type": "markdown",
   "metadata": {},
   "source": [
    "![](https://miro.medium.com/max/1400/1*ZKLa74o-WDpVt9umDjrhjw.png)"
   ]
  },
  {
   "cell_type": "markdown",
   "metadata": {},
   "source": [
    "## Linear Regression\n",
    "\n",
    "Regression line:\n",
    "\n",
    "$$\n",
    "\\hat{y} = ax + b\n",
    "$$\n",
    "\n",
    "Dependent variable:\n",
    "\n",
    "$$\n",
    "y = \\hat{y} + \\epsilon\n",
    "$$\n",
    "\n",
    "or in explicit form\n",
    "\n",
    "$$\n",
    "y = ax + b + \\epsilon\n",
    "$$\n",
    "\n",
    "where $\\epsilon$ is the error term.\n",
    "\n",
    "$$\n",
    "\\epsilon \\sim \\mathcal{N}(\\mu,\\sigma^{2})\n",
    "$$\n",
    "\n",
    "We name $y$ as **dependent variable** as we claim that it depends on some *linear combination* of **independent variable** $x$. Similarly, $\\hat{y}$ will be our **regression line** and the two *parameters* $a$ and $b$ will be **slope** and **intersection**, respectively.\n",
    "\n",
    "In statistics, we accept the fact that our model will always produce **error**, $\\epsilon$, and we will try to reduce and measure that error.\n",
    "\n",
    "![](https://www150.statcan.gc.ca/n1/edu/power-pouvoir/ch9/img/5214827_03-eng.jpg)\n",
    "![](https://www150.statcan.gc.ca/n1/edu/power-pouvoir/ch9/img/5214827_04-eng.jpg)\n",
    "![](https://www150.statcan.gc.ca/n1/edu/power-pouvoir/ch9/img/5214827_05-eng.jpg)\n",
    "![](https://www150.statcan.gc.ca/n1/edu/power-pouvoir/ch9/img/5214827_06-eng.jpg)\n",
    "![](https://www150.statcan.gc.ca/n1/edu/power-pouvoir/ch9/img/5214827_07-eng.jpg)"
   ]
  },
  {
   "cell_type": "code",
   "execution_count": 5,
   "metadata": {},
   "outputs": [],
   "source": [
    "import numpy as np\n",
    "import pandas as pd\n",
    "import matplotlib.pyplot as plt\n",
    "import statsmodels.api as sm"
   ]
  },
  {
   "cell_type": "code",
   "execution_count": 34,
   "metadata": {},
   "outputs": [
    {
     "data": {
      "image/png": "[encoded data removed]",
      "text/plain": [
       "<matplotlib.figure.Figure at 0x7fbbd6defba8>"
      ]
     },
     "metadata": {
      "needs_background": "light"
     },
     "output_type": "display_data"
    }
   ],
   "source": [
    "# A Textbook Example\n",
    "\n",
    "n = 50\n",
    "np.random.seed(123)\n",
    "\n",
    "# create our independent variable\n",
    "x = np.linspace(0,15,n)\n",
    "\n",
    "# generate random coefficients, we will try to find them using linear regression\n",
    "a = np.random.uniform() # slope\n",
    "b = np.random.randn() # intersection\n",
    "e = np.random.randn(n) # error term\n",
    "\n",
    "# create our dependent variable\n",
    "y = a*x + b + e\n",
    "\n",
    "plt.scatter(x,y)\n",
    "plt.xlabel(\"x\")\n",
    "plt.ylabel('y')\n",
    "plt.title('Relation Between Two Variables')\n",
    "plt.show()"
   ]
  },
  {
   "cell_type": "code",
   "execution_count": 30,
   "metadata": {},
   "outputs": [
    {
     "data": {
      "text/html": [
       "<table class=\"simpletable\">\n",
       "<caption>OLS Regression Results</caption>\n",
       "<tr>\n",
       "  <th>Dep. Variable:</th>            <td>y</td>        <th>  R-squared:         </th> <td>   0.868</td>\n",
       "</tr>\n",
       "<tr>\n",
       "  <th>Model:</th>                   <td>OLS</td>       <th>  Adj. R-squared:    </th> <td>   0.865</td>\n",
       "</tr>\n",
       "<tr>\n",
       "  <th>Method:</th>             <td>Least Squares</td>  <th>  F-statistic:       </th> <td>   315.7</td>\n",
       "</tr>\n",
       "<tr>\n",
       "  <th>Date:</th>             <td>Thu, 29 Jul 2021</td> <th>  Prob (F-statistic):</th> <td>9.59e-23</td>\n",
       "</tr>\n",
       "<tr>\n",
       "  <th>Time:</th>                 <td>11:28:12</td>     <th>  Log-Likelihood:    </th> <td> -76.774</td>\n",
       "</tr>\n",
       "<tr>\n",
       "  <th>No. Observations:</th>      <td>    50</td>      <th>  AIC:               </th> <td>   157.5</td>\n",
       "</tr>\n",
       "<tr>\n",
       "  <th>Df Residuals:</th>          <td>    48</td>      <th>  BIC:               </th> <td>   161.4</td>\n",
       "</tr>\n",
       "<tr>\n",
       "  <th>Df Model:</th>              <td>     1</td>      <th>                     </th>     <td> </td>   \n",
       "</tr>\n",
       "<tr>\n",
       "  <th>Covariance Type:</th>      <td>nonrobust</td>    <th>                     </th>     <td> </td>   \n",
       "</tr>\n",
       "</table>\n",
       "<table class=\"simpletable\">\n",
       "<tr>\n",
       "    <td></td>       <th>coef</th>     <th>std err</th>      <th>t</th>      <th>P>|t|</th>  <th>[0.025</th>    <th>0.975]</th>  \n",
       "</tr>\n",
       "<tr>\n",
       "  <th>const</th> <td>   -0.7866</td> <td>    0.320</td> <td>   -2.462</td> <td> 0.017</td> <td>   -1.429</td> <td>   -0.144</td>\n",
       "</tr>\n",
       "<tr>\n",
       "  <th>x1</th>    <td>    0.6522</td> <td>    0.037</td> <td>   17.767</td> <td> 0.000</td> <td>    0.578</td> <td>    0.726</td>\n",
       "</tr>\n",
       "</table>\n",
       "<table class=\"simpletable\">\n",
       "<tr>\n",
       "  <th>Omnibus:</th>       <td> 0.579</td> <th>  Durbin-Watson:     </th> <td>   1.899</td>\n",
       "</tr>\n",
       "<tr>\n",
       "  <th>Prob(Omnibus):</th> <td> 0.749</td> <th>  Jarque-Bera (JB):  </th> <td>   0.705</td>\n",
       "</tr>\n",
       "<tr>\n",
       "  <th>Skew:</th>          <td> 0.209</td> <th>  Prob(JB):          </th> <td>   0.703</td>\n",
       "</tr>\n",
       "<tr>\n",
       "  <th>Kurtosis:</th>      <td> 2.595</td> <th>  Cond. No.          </th> <td>    17.3</td>\n",
       "</tr>\n",
       "</table><br/><br/>Warnings:<br/>[1] Standard Errors assume that the covariance matrix of the errors is correctly specified."
      ],
      "text/plain": [
       "<class 'statsmodels.iolib.summary.Summary'>\n",
       "\"\"\"\n",
       "                            OLS Regression Results                            \n",
       "==============================================================================\n",
       "Dep. Variable:                      y   R-squared:                       0.868\n",
       "Model:                            OLS   Adj. R-squared:                  0.865\n",
       "Method:                 Least Squares   F-statistic:                     315.7\n",
       "Date:                Thu, 29 Jul 2021   Prob (F-statistic):           9.59e-23\n",
       "Time:                        11:28:12   Log-Likelihood:                -76.774\n",
       "No. Observations:                  50   AIC:                             157.5\n",
       "Df Residuals:                      48   BIC:                             161.4\n",
       "Df Model:                           1                                         \n",
       "Covariance Type:            nonrobust                                         \n",
       "==============================================================================\n",
       "                 coef    std err          t      P>|t|      [0.025      0.975]\n",
       "------------------------------------------------------------------------------\n",
       "const         -0.7866      0.320     -2.462      0.017      -1.429      -0.144\n",
       "x1             0.6522      0.037     17.767      0.000       0.578       0.726\n",
       "==============================================================================\n",
       "Omnibus:                        0.579   Durbin-Watson:                   1.899\n",
       "Prob(Omnibus):                  0.749   Jarque-Bera (JB):                0.705\n",
       "Skew:                           0.209   Prob(JB):                        0.703\n",
       "Kurtosis:                       2.595   Cond. No.                         17.3\n",
       "==============================================================================\n",
       "\n",
       "Warnings:\n",
       "[1] Standard Errors assume that the covariance matrix of the errors is correctly specified.\n",
       "\"\"\""
      ]
     },
     "execution_count": 30,
     "metadata": {},
     "output_type": "execute_result"
    }
   ],
   "source": [
    "X = sm.add_constant(x)\n",
    "model = sm.OLS(y,X).fit()\n",
    "model.summary()"
   ]
  },
  {
   "cell_type": "code",
   "execution_count": 31,
   "metadata": {},
   "outputs": [
    {
     "name": "stdout",
     "output_type": "stream",
     "text": [
      "Estimated intersection parameter: -0.7866270332850218\n",
      "True intersection parameter: -0.9520972068613222\n"
     ]
    }
   ],
   "source": [
    "print('Estimated intersection parameter:',model.params[0])\n",
    "print('True intersection parameter:',b)"
   ]
  },
  {
   "cell_type": "code",
   "execution_count": 32,
   "metadata": {},
   "outputs": [
    {
     "name": "stdout",
     "output_type": "stream",
     "text": [
      "Estimated slope parameter: 0.6522418127403078\n",
      "True slope parameter: 0.6964691855978616\n"
     ]
    }
   ],
   "source": [
    "print('Estimated slope parameter:',model.params[1])\n",
    "print('True slope parameter:',a)"
   ]
  },
  {
   "cell_type": "markdown",
   "metadata": {},
   "source": [
    "### Goodness of Fit\n",
    "\n",
    "Standard Error of the regression:\n",
    "\n",
    "$$\n",
    "se = \\sqrt{\\frac{1}{N}\\sum(y - \\hat{y})^2}\n",
    "$$\n",
    "\n",
    "\n",
    "\n",
    "...............\n",
    "\n",
    "\n",
    "$$\n",
    "r^2 = \\frac{SSE}{........}\n",
    "$$\n",
    "\n",
    "![](https://vitalflux.com/wp-content/uploads/2020/09/Regression-terminologies-Page-3.png)\n",
    "\n",
    "![](https://www.mathsisfun.com/data/images/least-squares2.svg)\n",
    "\n",
    "**We try to minimize the error. Namely, the total sum of squares of vertical difference between each data point and the regression line.**\n",
    "\n",
    "How to minimize this total distance?\n",
    "\n",
    "### Ordinary Least Squares\n",
    "\n",
    "$$\n",
    "min f(x,y) = \\sum^{N}_{i=1}(y - \\hat{y}_i)^2\n",
    "$$\n",
    "\n",
    "$$\n",
    "= \\sum^{N}_{i=1}(y - (ax_i + b))^2\n",
    "$$"
   ]
  },
  {
   "cell_type": "markdown",
   "metadata": {},
   "source": [
    "![](https://www.researchgate.net/profile/Rui-Perdigao-2/publication/256972221/figure/fig1/AS:392590982696969@1470612392539/Time-evolution-of-the-mean-quadratic-error-in-the-presence-of-both-initial-condition-and.png)\n",
    "\n",
    "We could take derivates with respect to the parameters, and set the equation to zero. This could give us the parameters that minimize the squared error.\n",
    "\n",
    "$$\n",
    "\\frac{\\partial f}{\\partial a} = 0\n",
    "$$\n",
    "\n",
    "$$\n",
    "\\frac{\\partial}{\\partial a} \\left( \\sum^{N}_{i=1}(y - (ax_i + b))^2 \\right) = 0\n",
    "$$\n",
    "\n",
    "We found a as:\n",
    "\n",
    "$$\n",
    "a = \\frac{\\sum x_iy_i}{\\sum x^{2}_{i}}\n",
    "$$\n",
    "\n",
    "Likewise for b,\n",
    "\n",
    "$$\n",
    "\\frac{\\partial f}{\\partial b} = 0\n",
    "$$\n",
    "\n",
    "$$\n",
    "\\frac{\\partial}{\\partial b} \\left( \\sum^{N}_{i=1}(y - (ax_i + b))^2 \\right) = 0\n",
    "$$\n",
    "\n",
    "$$\n",
    "b = \\bar{y} - a\\bar{x}\n",
    "$$\n",
    "\n",
    "where $\\bar{x}$ is the mean of $x$\n",
    "\n",
    "$$\n",
    "\\bar{x} = \\frac{1}{N} \\sum^{N}_{i=1} x_i\n",
    "$$"
   ]
  },
  {
   "cell_type": "code",
   "execution_count": null,
   "metadata": {},
   "outputs": [],
   "source": []
  },
  {
   "cell_type": "markdown",
   "metadata": {},
   "source": [
    "## Important Blog Pages\n",
    "\n",
    "http://colah.github.io/\n",
    "\n",
    "http://mark.reid.name/blog/\n",
    "\n",
    "http://karpathy.github.io/\n",
    "\n",
    "\n",
    "## Other Several Readings\n",
    "\n",
    "https://www.kdnuggets.com/2021/01/data-scientist-dont-start-machine-learning.html\n",
    "\n",
    "https://www.kdnuggets.com/2018/04/dont-learn-machine-learning-24-hours.html\n",
    "\n",
    "https://medium.datadriveninvestor.com/good-grief-stop-trying-to-learn-machine-learning-1b12a7d749a7\n",
    "\n",
    "https://www.quora.com/Is-it-true-that-I-should-not-learn-machine-learning-and-artificial-intelligence-if-I-am-not-good-at-data-structures-and-algorithms\n",
    "\n",
    "## Videos\n",
    "\n",
    "https://www.youtube.com/watch?v=reY50t2hbuM&ab_channel=SmithaKolan-MachineLearningEngineer\n",
    "\n",
    "## Bonus: Youtube Channel\n",
    "\n",
    "https://www.youtube.com/channel/UCYO_jab_esuFRV4b17AJtAw"
   ]
  },
  {
   "cell_type": "markdown",
   "metadata": {},
   "source": [
    "# References\n",
    "\n",
    "Gujarati, D., Porter, D., *Essentials of Econometrics*, McGraw-Hill Education (2009)\n",
    "\n",
    "https://www.kdnuggets.com/2018/04/dont-learn-machine-learning-24-hours.html\n",
    "\n",
    "https://www150.statcan.gc.ca/n1/edu/power-pouvoir/ch9/scatter-nuages/5214827-eng.htm#:~:text=positive%20or%20direct%20relationships%20between,non%2Dlinear%20patterns"
   ]
  },
  {
   "cell_type": "code",
   "execution_count": null,
   "metadata": {},
   "outputs": [],
   "source": []
  }
 ],
 "metadata": {
  "kernelspec": {
   "display_name": "Python 3",
   "language": "python",
   "name": "python3"
  },
  "language_info": {
   "codemirror_mode": {
    "name": "ipython",
    "version": 3
   },
   "file_extension": ".py",
   "mimetype": "text/x-python",
   "name": "python",
   "nbconvert_exporter": "python",
   "pygments_lexer": "ipython3",
   "version": "3.6.9"
  }
 },
 "nbformat": 4,
 "nbformat_minor": 4
}
