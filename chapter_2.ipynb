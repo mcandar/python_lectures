{
 "cells": [
  {
   "cell_type": "markdown",
   "metadata": {},
   "source": [
    "# CHAPTER 2\n",
    "\n",
    "Starting with the loops, we will cover also functions and dive into details of these both concepts in python programming. These are some of the building blocks of python, and also programming, in general. Together with `if` statements, these two concepts is frequently used in programming.\n",
    "\n",
    "## Learning Goals\n",
    "\n",
    "* Loops\n",
    "* Function definitions"
   ]
  },
  {
   "cell_type": "markdown",
   "metadata": {},
   "source": [
    "## 1 - Loop Structure\n",
    "\n",
    "Loops enable repeating a computation many times.\n",
    "\n",
    "TODO: BULLET LIST OF FOR WHILE MAP REDUCE????\n",
    "\n",
    "TODO: ADD A DIAGRAM??"
   ]
  },
  {
   "cell_type": "markdown",
   "metadata": {},
   "source": [
    "### 1. For Loops"
   ]
  },
  {
   "cell_type": "code",
   "execution_count": 1,
   "metadata": {},
   "outputs": [
    {
     "name": "stdout",
     "output_type": "stream",
     "text": [
      "0\n",
      "1\n",
      "2\n",
      "3\n",
      "4\n"
     ]
    }
   ],
   "source": [
    "for i in range(5):\n",
    "    print(i)"
   ]
  },
  {
   "cell_type": "code",
   "execution_count": 2,
   "metadata": {},
   "outputs": [
    {
     "name": "stdout",
     "output_type": "stream",
     "text": [
      "2\n",
      "3\n",
      "4\n"
     ]
    }
   ],
   "source": [
    "for i in range(2,5):\n",
    "    print(i)"
   ]
  },
  {
   "cell_type": "code",
   "execution_count": 3,
   "metadata": {},
   "outputs": [
    {
     "name": "stdout",
     "output_type": "stream",
     "text": [
      "2\n",
      "5\n",
      "8\n",
      "11\n",
      "14\n"
     ]
    }
   ],
   "source": [
    "for i in range(2,15,3):\n",
    "    print(i)"
   ]
  },
  {
   "cell_type": "code",
   "execution_count": 5,
   "metadata": {},
   "outputs": [
    {
     "name": "stdout",
     "output_type": "stream",
     "text": [
      "20\n",
      "17\n",
      "14\n",
      "11\n",
      "8\n"
     ]
    }
   ],
   "source": [
    "for i in range(20,5,-3):\n",
    "    print(i)"
   ]
  },
  {
   "cell_type": "code",
   "execution_count": 6,
   "metadata": {},
   "outputs": [
    {
     "name": "stdout",
     "output_type": "stream",
     "text": [
      "Products\n",
      "Services\n",
      "Team\n"
     ]
    }
   ],
   "source": [
    "lst = ['Products','Services','Team']\n",
    "for l in lst:\n",
    "    print(l)"
   ]
  },
  {
   "cell_type": "code",
   "execution_count": 3,
   "metadata": {},
   "outputs": [
    {
     "name": "stdout",
     "output_type": "stream",
     "text": [
      "1 2\n",
      "3 4\n",
      "5 6\n",
      "7 8\n"
     ]
    }
   ],
   "source": [
    "list_1 = [(1,2),(3,4),(5,6),(7,8)]\n",
    "    \n",
    "for i,k in list_1:\n",
    "    print(i,k)"
   ]
  },
  {
   "cell_type": "code",
   "execution_count": 4,
   "metadata": {},
   "outputs": [
    {
     "name": "stdout",
     "output_type": "stream",
     "text": [
      "S\n",
      "t\n",
      "r\n",
      "u\n",
      "c\n",
      "t\n",
      "u\n",
      "r\n",
      "e\n"
     ]
    }
   ],
   "source": [
    "word = \"Structure\"\n",
    "for character in word:\n",
    "    print(character)"
   ]
  },
  {
   "cell_type": "code",
   "execution_count": 3,
   "metadata": {},
   "outputs": [
    {
     "name": "stdout",
     "output_type": "stream",
     "text": [
      "Python\n",
      "Instructions\n"
     ]
    }
   ],
   "source": [
    "for i in \"Python Instructions\".split():\n",
    "    print(i)"
   ]
  },
  {
   "cell_type": "code",
   "execution_count": 12,
   "metadata": {},
   "outputs": [
    {
     "data": {
      "text/plain": [
       "{'Skirt': 11.5, 'Hat': 15.5, 'Shoe': 18.0, 'Shirt': 4.7}"
      ]
     },
     "execution_count": 12,
     "metadata": {},
     "output_type": "execute_result"
    }
   ],
   "source": [
    "products = {\"Skirt\":11.50,\"Hat\":15.50,\"Shoe\":18.00,\"Shirt\":4.70}\n",
    "products"
   ]
  },
  {
   "cell_type": "code",
   "execution_count": 18,
   "metadata": {},
   "outputs": [
    {
     "name": "stdout",
     "output_type": "stream",
     "text": [
      "Skirt\n",
      "Hat\n",
      "Shoe\n",
      "Shirt\n"
     ]
    }
   ],
   "source": [
    "for product in products.keys(): # Just `products` will do the same\n",
    "    print(product)"
   ]
  },
  {
   "cell_type": "code",
   "execution_count": 20,
   "metadata": {},
   "outputs": [
    {
     "name": "stdout",
     "output_type": "stream",
     "text": [
      "11.5\n",
      "15.5\n",
      "18.0\n",
      "4.7\n"
     ]
    }
   ],
   "source": [
    "for product in products.values():\n",
    "    print(product)"
   ]
  },
  {
   "cell_type": "code",
   "execution_count": 21,
   "metadata": {},
   "outputs": [
    {
     "name": "stdout",
     "output_type": "stream",
     "text": [
      "Skirt 11.5\n",
      "Hat 15.5\n",
      "Shoe 18.0\n",
      "Shirt 4.7\n"
     ]
    }
   ],
   "source": [
    "for product,cost in products.items():\n",
    "    print(product,cost)"
   ]
  },
  {
   "cell_type": "code",
   "execution_count": 4,
   "metadata": {},
   "outputs": [
    {
     "name": "stdout",
     "output_type": "stream",
     "text": [
      "1 0\n",
      "2 0\n",
      "2 1\n",
      "3 0\n",
      "3 1\n",
      "3 2\n",
      "4 0\n",
      "4 1\n",
      "4 2\n",
      "4 3\n"
     ]
    }
   ],
   "source": [
    "# give a nested for loop example\n",
    "for i in range(5):\n",
    "    for j in range(i):\n",
    "        print(i,j)"
   ]
  },
  {
   "cell_type": "code",
   "execution_count": 6,
   "metadata": {},
   "outputs": [],
   "source": [
    "#dictionaryde for dönerken value değerini bulup değiştirme örneği"
   ]
  },
  {
   "cell_type": "code",
   "execution_count": 7,
   "metadata": {},
   "outputs": [
    {
     "name": "stdout",
     "output_type": "stream",
     "text": [
      "{'Type': 'Automobile', 'Class': 'Subcompact', 'Brand': 'Volkswagen', 'Model': 'Polo', 'Year': 2015, 'Status': 'Old', 'Used': True}\n"
     ]
    }
   ],
   "source": [
    "# an automobile ad ----------------------->>><???????? MERT\n",
    "vw_models = {'Polo','Golf','Passat'}\n",
    "\n",
    "vehicle = {\n",
    "    \"Type\": \"Automobile\",\n",
    "    \"Class\": \"Compact\",\n",
    "    \"Brand\": \"Volkswagen\",\n",
    "    \"Model\": \"Corolla\",\n",
    "    \"Year\": 2105, # <--------------------------------------------\n",
    "    \"Status\": \"New\",\n",
    "    \"Used\": True,\n",
    "    \"Eligible\": None,\n",
    "}\n",
    "\n",
    "for x in vehicle:\n",
    "    if x == \"Year\" and vehicle[x] > 2021:\n",
    "        vehicle[x] = \"N/A\"\n",
    "        \n",
    "    if x == \"Brand\":\n",
    "        if vehicle[\"Model\"] not in vw_models:\n",
    "            vehicle[\"Eligible\"] = False\n",
    "        \n",
    "print(vehicle)"
   ]
  },
  {
   "cell_type": "code",
   "execution_count": 7,
   "metadata": {},
   "outputs": [],
   "source": [
    "# for loop örnek tiplerine bak <------- ARAS"
   ]
  },
  {
   "cell_type": "code",
   "execution_count": 26,
   "metadata": {
    "scrolled": true
   },
   "outputs": [
    {
     "name": "stdout",
     "output_type": "stream",
     "text": [
      "0 Linear Programming\n",
      "1 Integer Programming\n",
      "2 Mixed-Integer Linear Programming\n",
      "3 Quadratic Programming\n"
     ]
    }
   ],
   "source": [
    "lst = [\n",
    "    \"Linear Programming\",\n",
    "    \"Integer Programming\",\n",
    "    \"Mixed-Integer Linear Programming\",\n",
    "    \"Quadratic Programming\"\n",
    "]\n",
    "for i,e in enumerate(lst):\n",
    "    print(i,e)"
   ]
  },
  {
   "cell_type": "code",
   "execution_count": 23,
   "metadata": {},
   "outputs": [
    {
     "name": "stdout",
     "output_type": "stream",
     "text": [
      "0 C\n",
      "1 o\n",
      "2 u\n",
      "3 n\n",
      "4 t\n",
      "5 i\n",
      "6 n\n",
      "7 g\n",
      "8  \n",
      "9 t\n",
      "10 h\n",
      "11 e\n",
      "12  \n",
      "13 l\n",
      "14 e\n",
      "15 t\n",
      "16 t\n",
      "17 e\n",
      "18 r\n",
      "19 s\n",
      "20 !\n"
     ]
    }
   ],
   "source": [
    "s = \"Counting the letters!\"\n",
    "for i,e in enumerate(s):\n",
    "    print(i,e)"
   ]
  },
  {
   "cell_type": "code",
   "execution_count": 22,
   "metadata": {},
   "outputs": [
    {
     "name": "stdout",
     "output_type": "stream",
     "text": [
      "0 - Labor : 55000.0\n",
      "1 - Raw material : 127000.0\n",
      "2 - Prefabrication : 62000.0\n",
      "3 - Shipping & transportation : 28000.0\n",
      "4 - Tax : 50000.0\n",
      "5 - Delay cost per week : 5000.0\n",
      "6 - Unit : Euro\n"
     ]
    }
   ],
   "source": [
    "costs = {\n",
    "    \"Labor\": 55000.0,\n",
    "    \"Raw material\": 127000.0,\n",
    "    \"Prefabrication\": 62000.0,\n",
    "    \"Shipping & transportation\": 28000.0,\n",
    "    \"Tax\" : 50000.0,\n",
    "    \"Delay cost per week\": 5000.0,\n",
    "    \"Unit\": \"Euro\",\n",
    "}\n",
    "for i,(k,v) in enumerate(costs.items()):\n",
    "    print(i,\"-\",k,\":\",v)"
   ]
  },
  {
   "cell_type": "code",
   "execution_count": 39,
   "metadata": {},
   "outputs": [
    {
     "name": "stdout",
     "output_type": "stream",
     "text": [
      "Camera & Photo | Cooking & Dining\n",
      "Computers | Appliances\n",
      "Audio Accessories | Furniture\n",
      "TV & Video | Bedding & Linens\n",
      "Smartphones | Laundry & Storage\n",
      "Wearable Technology | Lighting\n"
     ]
    }
   ],
   "source": [
    "electronics = [\"Camera & Photo\",\"Computers\",\"Audio Accessories\",\"TV & Video\",\"Smartphones\",\"Wearable Technology\"]\n",
    "home_appliances = [\"Cooking & Dining\",\"Appliances\",\"Furniture\",\"Bedding & Linens\",\"Laundry & Storage\",\"Lighting\"]\n",
    "\n",
    "for c1,c2 in zip(electronics,home_appliances):\n",
    "    print(c1,\"|\",c2)"
   ]
  },
  {
   "cell_type": "code",
   "execution_count": 41,
   "metadata": {},
   "outputs": [
    {
     "name": "stdout",
     "output_type": "stream",
     "text": [
      "Camera & Photo | Cooking & Dining | Fragrance\n",
      "Computers | Appliances | Skin Care\n",
      "Audio Accessories | Furniture | Make-up\n",
      "TV & Video | Bedding & Linens | Hair Care\n",
      "Smartphones | Laundry & Storage | Bath & Body\n",
      "Wearable Technology | Lighting | Men's Grooming\n"
     ]
    }
   ],
   "source": [
    "beauty = [\"Fragrance\",\"Skin Care\",\"Make-up\",\"Hair Care\",\"Bath & Body\",\"Men's Grooming\"]\n",
    "\n",
    "for c1,c2,c3 in zip(electronics,home_appliances,beauty):\n",
    "    print(c1,\"|\",c2,\"|\",c3)"
   ]
  },
  {
   "cell_type": "code",
   "execution_count": 38,
   "metadata": {},
   "outputs": [
    {
     "name": "stdout",
     "output_type": "stream",
     "text": [
      "AA\n",
      "BA\n",
      "BB\n",
      "CB\n",
      "CC\n",
      "DC\n",
      "DD\n",
      "FF\n"
     ]
    }
   ],
   "source": [
    "# a list of grades\n",
    "for l1,l2 in zip(\"ABBCCDDF\",\"AABBCCDF\"):\n",
    "    print(\"\".join([l1,l2]))"
   ]
  },
  {
   "cell_type": "code",
   "execution_count": 42,
   "metadata": {},
   "outputs": [],
   "source": [
    "# lst = ['0-18','19-30','31-45','45+']\n",
    "# num = [782,1439,1103,548]\n",
    "# for l,n in zip(lst,num):\n",
    "#     print(l,\":\",n)"
   ]
  },
  {
   "cell_type": "code",
   "execution_count": null,
   "metadata": {},
   "outputs": [],
   "source": [
    "# dict(zip(lst,num))"
   ]
  },
  {
   "cell_type": "markdown",
   "metadata": {},
   "source": [
    "## Short version of `for` loop"
   ]
  },
  {
   "cell_type": "code",
   "execution_count": 43,
   "metadata": {},
   "outputs": [
    {
     "name": "stdout",
     "output_type": "stream",
     "text": [
      "[0, 1, 2, 3, 4]\n"
     ]
    }
   ],
   "source": [
    "lst = [e for e in range(5)]\n",
    "print(lst)"
   ]
  },
  {
   "cell_type": "code",
   "execution_count": 44,
   "metadata": {},
   "outputs": [
    {
     "name": "stdout",
     "output_type": "stream",
     "text": [
      "[0, 1, 2, 3, 4]\n"
     ]
    }
   ],
   "source": [
    "# is the same with\n",
    "lst = []\n",
    "for e in range(5):\n",
    "    lst.append(e)\n",
    "print(lst)"
   ]
  },
  {
   "cell_type": "code",
   "execution_count": 47,
   "metadata": {},
   "outputs": [
    {
     "name": "stdout",
     "output_type": "stream",
     "text": [
      "[-17, 2, 65, 22, 20, 47, -1, -2, -5123]\n"
     ]
    }
   ],
   "source": [
    "elems = [(-17,2,65),(22,20,47),(-1,-2,-5123)]\n",
    "lst = [e for elem in elems for e in elem]\n",
    "print(lst)"
   ]
  },
  {
   "cell_type": "code",
   "execution_count": 48,
   "metadata": {},
   "outputs": [
    {
     "name": "stdout",
     "output_type": "stream",
     "text": [
      "[-17, 2, 65, 22, 20, 47, -1, -2, -5123]\n"
     ]
    }
   ],
   "source": [
    "# is the same with\n",
    "lst = []\n",
    "for elem in elems:\n",
    "    for e in elem:\n",
    "        lst.append(e)\n",
    "print(lst)"
   ]
  },
  {
   "cell_type": "code",
   "execution_count": 49,
   "metadata": {},
   "outputs": [
    {
     "name": "stdout",
     "output_type": "stream",
     "text": [
      "<generator object <genexpr> at 0x7ff940b7b1a8>\n"
     ]
    }
   ],
   "source": [
    "# Caution: a generator!\n",
    "lst = (e for e in range(5))\n",
    "print(lst)"
   ]
  },
  {
   "cell_type": "code",
   "execution_count": 50,
   "metadata": {},
   "outputs": [
    {
     "name": "stdout",
     "output_type": "stream",
     "text": [
      "{'Technology': 'Included', 'Conglomerate': 'Included', 'Insurance': 'Excluded', 'Transportation': 'Included'}\n"
     ]
    }
   ],
   "source": [
    "lst = [\n",
    "    ('Technology','Included'),\n",
    "    ('Conglomerate','Included'),\n",
    "    ('Insurance','Excluded'),\n",
    "    (\"Transportation\",\"Included\")\n",
    "]\n",
    "d = {k:v for k,v in lst}\n",
    "print(d)"
   ]
  },
  {
   "cell_type": "code",
   "execution_count": 51,
   "metadata": {},
   "outputs": [
    {
     "data": {
      "text/plain": [
       "{'Technology': 'Included',\n",
       " 'Conglomerate': 'Included',\n",
       " 'Insurance': 'Excluded',\n",
       " 'Transportation': 'Included'}"
      ]
     },
     "execution_count": 51,
     "metadata": {},
     "output_type": "execute_result"
    }
   ],
   "source": [
    "# this is much easier\n",
    "dict(lst)"
   ]
  },
  {
   "cell_type": "markdown",
   "metadata": {},
   "source": [
    "#### `continue` and `break`"
   ]
  },
  {
   "cell_type": "code",
   "execution_count": 53,
   "metadata": {
    "scrolled": true
   },
   "outputs": [
    {
     "name": "stdout",
     "output_type": "stream",
     "text": [
      "0\n",
      "1\n",
      "5\n",
      "6\n",
      "7\n",
      "8\n",
      "9\n"
     ]
    }
   ],
   "source": [
    "for i in range(10):\n",
    "    if 1 < i < 5:\n",
    "        continue\n",
    "    print(i)"
   ]
  },
  {
   "cell_type": "code",
   "execution_count": 54,
   "metadata": {},
   "outputs": [
    {
     "name": "stdout",
     "output_type": "stream",
     "text": [
      "0\n",
      "1\n",
      "2\n",
      "3\n",
      "4\n"
     ]
    }
   ],
   "source": [
    "for i in range(10):\n",
    "    if i == 5:\n",
    "        break\n",
    "    print(i)"
   ]
  },
  {
   "cell_type": "code",
   "execution_count": null,
   "metadata": {},
   "outputs": [],
   "source": [
    "# add a more sophisticated examples for `break` <---------------------------- ARAS Check"
   ]
  },
  {
   "cell_type": "code",
   "execution_count": 10,
   "metadata": {},
   "outputs": [
    {
     "name": "stdout",
     "output_type": "stream",
     "text": [
      "Welcome to Square-Calculation Unit\n",
      "Enter a Number: 8\n",
      "8\n",
      "If you want to stop enter 'Stop!'; else enter 'Go!' Go!\n",
      "Invalid Number/Text\n",
      "64\n",
      "If you want to stop enter 'Stop!'; else enter 'Go!' Stop!\n",
      "Please put 5¢ in the jar... Thank you!\n"
     ]
    }
   ],
   "source": [
    "print(\"Welcome to Square-Calculation Unit\")\n",
    "\n",
    "selection = int(input(\"Enter a Number: \"))\n",
    "\n",
    "while True:\n",
    "    print(selection)\n",
    "    \n",
    "    selection = selection ** 2\n",
    "    \n",
    "    stopper = input(\"If you want to stop enter 'Stop!'; else enter 'Go!' \")\n",
    "    \n",
    "    if stopper == \"Stop!\":\n",
    "        break\n",
    "        \n",
    "    if stopper != \"Stop!\" or stopper != \"Go!\":\n",
    "        print(\"Invalid Number/Text\")\n",
    "                \n",
    "print(\"Please put 5¢ in the jar... Thank you!\")"
   ]
  },
  {
   "cell_type": "markdown",
   "metadata": {},
   "source": [
    "## While Loop\n",
    "\n",
    "For loop with a break condition that goes forever if not stopped..."
   ]
  },
  {
   "cell_type": "code",
   "execution_count": 4,
   "metadata": {},
   "outputs": [
    {
     "name": "stdout",
     "output_type": "stream",
     "text": [
      "0\n",
      "1\n",
      "2\n",
      "3\n",
      "6\n",
      "7\n",
      "8\n",
      "Out of range\n"
     ]
    }
   ],
   "source": [
    "num = 0 #<------------------- ARAS Check\n",
    "\n",
    "while num < 9:\n",
    "    print(num)\n",
    "    num += 1         # num = num + 1\n",
    "    if num == 4:\n",
    "        num += 2     # num = num + 2 \n",
    "else:\n",
    "    print(\"Out of range\")"
   ]
  },
  {
   "cell_type": "code",
   "execution_count": 1,
   "metadata": {},
   "outputs": [
    {
     "name": "stdout",
     "output_type": "stream",
     "text": [
      "Inside loop\n",
      "Inside loop\n",
      "Inside loop\n",
      "Inside else\n"
     ]
    }
   ],
   "source": [
    "counter = 0\n",
    "\n",
    "while counter < 3:\n",
    "    print(\"Inside loop\")\n",
    "    counter = counter + 1\n",
    "else:\n",
    "    print(\"Inside else\")"
   ]
  },
  {
   "cell_type": "code",
   "execution_count": 5,
   "metadata": {},
   "outputs": [
    {
     "name": "stdout",
     "output_type": "stream",
     "text": [
      "Please enter a number: 6\n",
      "The sum is 21\n"
     ]
    }
   ],
   "source": [
    "number = int(input(\"Please enter a number: \"))\n",
    "sum = 0\n",
    "i = 1\n",
    "\n",
    "while i <= number:\n",
    "    sum = sum + i\n",
    "    i = i+1\n",
    "\n",
    "print(\"The sum is\", sum)"
   ]
  },
  {
   "cell_type": "code",
   "execution_count": 9,
   "metadata": {},
   "outputs": [
    {
     "name": "stdout",
     "output_type": "stream",
     "text": [
      "Please enter an integer between 1 and 10: 88\n",
      "Invalid value!!!!\n",
      "Please enter an integer between 1 and 10: 4\n",
      "Congrats!!...\n"
     ]
    }
   ],
   "source": [
    "# make it more sophisticated - playing a game with computer? <------------ ARAS check but ask\n",
    "number = int(input(\"Please enter an integer between 1 and 10: \"))\n",
    "\n",
    "while number < 1 or number > 10:\n",
    "    print(\"Invalid value!!!!\")\n",
    "    number = int(input(\"Please enter an integer between 1 and 10: \"))\n",
    "     \n",
    "print(\"Congrats!!...\")"
   ]
  },
  {
   "cell_type": "code",
   "execution_count": 21,
   "metadata": {},
   "outputs": [
    {
     "name": "stdout",
     "output_type": "stream",
     "text": [
      "Please guess a number5\n",
      "Wrong! You guessed too high\n"
     ]
    }
   ],
   "source": [
    "import random\n",
    "\n",
    "number = int(input(\"Please guess a number\"))\n",
    "rand_num = random.randrange(0,11)\n",
    "\n",
    "while number != rand_num:\n",
    "    if (number == rand_num): \n",
    "        print( \"You got it!\")\n",
    "        break\n",
    "    if (number > rand_num):\n",
    "        print(\"Wrong! You guessed too high\")\n",
    "        break\n",
    "    if (number < rand_num):\n",
    "        print(\"Wrong! You guessed too low\")\n",
    "        break\n",
    "else:\n",
    "    print(\"Please enter an integer between 1 and 10: \")"
   ]
  },
  {
   "cell_type": "code",
   "execution_count": 56,
   "metadata": {},
   "outputs": [],
   "source": [
    "# a = 0\n",
    "\n",
    "# while a < 20:\n",
    "#     a += 1\n",
    "#     if a % 2 == 0:\n",
    "#         print(a)"
   ]
  },
  {
   "cell_type": "code",
   "execution_count": 15,
   "metadata": {},
   "outputs": [
    {
     "name": "stdout",
     "output_type": "stream",
     "text": [
      "toplam: 1681\n"
     ]
    }
   ],
   "source": [
    "x = 0\n",
    "result = 0\n",
    "\n",
    "while x <= 80:\n",
    "    x+=1\n",
    "    if x % 2 == 0:\n",
    "        continue\n",
    "    result += x\n",
    "\n",
    "print(f'toplam: {result}')"
   ]
  },
  {
   "cell_type": "code",
   "execution_count": 14,
   "metadata": {},
   "outputs": [],
   "source": [
    "# add a while example with a break <------------------- ARAS Check"
   ]
  },
  {
   "cell_type": "code",
   "execution_count": 16,
   "metadata": {},
   "outputs": [
    {
     "name": "stdout",
     "output_type": "stream",
     "text": [
      "Username: Davewood36\n",
      "Password: 11Dave06\n",
      "Access Granted...\n"
     ]
    }
   ],
   "source": [
    "first_username = \"Davewood36\"\n",
    "first_password = \"11Dave06\"\n",
    "\n",
    "second_username = \"Janeunderhill66\"\n",
    "second_password = \"missjane88\"\n",
    "\n",
    "while(True):\n",
    "    username = input(\"Username: \")\n",
    "    \n",
    "    password = input(\"Password: \")\n",
    "    \n",
    "    if username == first_username and password == first_password:\n",
    "        print(\"Access Granted...\")\n",
    "        break\n",
    "    elif username == second_username and password == second_password:\n",
    "        print(\"Access Granted...\")\n",
    "        break\n",
    "    else:\n",
    "        print(\"Invalid username/password, Please try again...\")\n",
    "        continue"
   ]
  },
  {
   "cell_type": "markdown",
   "metadata": {},
   "source": [
    "## Function definitions\n",
    "\n",
    "Make a precise definition of what a function is..................."
   ]
  },
  {
   "cell_type": "code",
   "execution_count": 18,
   "metadata": {},
   "outputs": [],
   "source": [
    "def function_name(arguments):\n",
    "    # calculations\n",
    "    return"
   ]
  },
  {
   "cell_type": "code",
   "execution_count": 16,
   "metadata": {},
   "outputs": [],
   "source": [
    "def hello():\n",
    "    print(\"Hi there!\")"
   ]
  },
  {
   "cell_type": "code",
   "execution_count": 17,
   "metadata": {},
   "outputs": [
    {
     "name": "stdout",
     "output_type": "stream",
     "text": [
      "Hi my friend\n"
     ]
    }
   ],
   "source": [
    "hello()"
   ]
  },
  {
   "cell_type": "code",
   "execution_count": 18,
   "metadata": {},
   "outputs": [],
   "source": [
    "def hello(name):\n",
    "    print(\"Hi\" , name)"
   ]
  },
  {
   "cell_type": "code",
   "execution_count": 20,
   "metadata": {
    "scrolled": true
   },
   "outputs": [
    {
     "name": "stdout",
     "output_type": "stream",
     "text": [
      "Hi Jane\n",
      "Hi Dave\n",
      "Hi John\n",
      "Hi Felix\n"
     ]
    }
   ],
   "source": [
    "hello(\"Jane\")\n",
    "hello(\"Dave\")\n",
    "hello(\"John\")\n",
    "hello(\"Felix\")"
   ]
  },
  {
   "cell_type": "code",
   "execution_count": 21,
   "metadata": {},
   "outputs": [
    {
     "ename": "TypeError",
     "evalue": "hello() missing 1 required positional argument: 'name'",
     "output_type": "error",
     "traceback": [
      "\u001b[1;31m---------------------------------------------------------------------------\u001b[0m",
      "\u001b[1;31mTypeError\u001b[0m                                 Traceback (most recent call last)",
      "\u001b[1;32m<ipython-input-21-a75d7781aaeb>\u001b[0m in \u001b[0;36m<module>\u001b[1;34m\u001b[0m\n\u001b[1;32m----> 1\u001b[1;33m \u001b[0mhello\u001b[0m\u001b[1;33m(\u001b[0m\u001b[1;33m)\u001b[0m\u001b[1;33m\u001b[0m\u001b[1;33m\u001b[0m\u001b[0m\n\u001b[0m",
      "\u001b[1;31mTypeError\u001b[0m: hello() missing 1 required positional argument: 'name'"
     ]
    }
   ],
   "source": [
    "hello()"
   ]
  },
  {
   "cell_type": "code",
   "execution_count": 22,
   "metadata": {},
   "outputs": [],
   "source": [
    "def hello(name=\"coder\"):\n",
    "    print(\"Hi\" , name)"
   ]
  },
  {
   "cell_type": "code",
   "execution_count": 23,
   "metadata": {},
   "outputs": [
    {
     "name": "stdout",
     "output_type": "stream",
     "text": [
      "Hi coder\n"
     ]
    }
   ],
   "source": [
    "hello()"
   ]
  },
  {
   "cell_type": "code",
   "execution_count": 35,
   "metadata": {},
   "outputs": [],
   "source": [
    "# word counter function <--------- ARAS check but ask"
   ]
  },
  {
   "cell_type": "code",
   "execution_count": 25,
   "metadata": {},
   "outputs": [
    {
     "name": "stdout",
     "output_type": "stream",
     "text": [
      "{'the': 2, 'quick': 1, 'brown': 1, 'fox': 1, 'jumps': 1, 'over': 1, 'lazy': 1, 'dog.': 1}\n"
     ]
    }
   ],
   "source": [
    "def word_count(str):\n",
    "    counts = dict()\n",
    "    words = str.split()\n",
    "\n",
    "    for word in words:\n",
    "        if word in counts:\n",
    "            counts[word] += 1\n",
    "        else:\n",
    "            counts[word] = 1\n",
    "\n",
    "    return counts\n",
    "\n",
    "print(word_count('the quick brown fox jumps over the lazy dog.'))"
   ]
  },
  {
   "cell_type": "code",
   "execution_count": 30,
   "metadata": {},
   "outputs": [],
   "source": [
    "def word_counter(a):\n",
    "    \n",
    "    word_count = dict()        # Burda dictionary oluşuyor. aşağıdaki if çalıştığı zaman her bir kelime (yani key) için value\n",
    "                               # değeri 1 artıyor. Mesela the:2, over:1 gibi\n",
    "    word_list = a.split()      # burası kullanıcıdan aldığımız cümleyi kelimelerine ayırıyor. o nedenle for döngüsünü bununla\n",
    "                               # başlattık\n",
    "    \n",
    "    for word in word_list:\n",
    "        if word in word_count:\n",
    "            word_count[word] += 1\n",
    "        else:\n",
    "            word_count[word] = 1\n",
    "            \n",
    "    for key in word_count:\n",
    "        print(key,word_count[key])"
   ]
  },
  {
   "cell_type": "code",
   "execution_count": 27,
   "metadata": {},
   "outputs": [
    {
     "name": "stdout",
     "output_type": "stream",
     "text": [
      "the 2\n",
      "quick 1\n",
      "brown 1\n",
      "fox 1\n",
      "jumps 1\n",
      "over 1\n",
      "lazy 1\n",
      "dog. 1\n"
     ]
    }
   ],
   "source": [
    "word_counter(\"the quick brown fox jumps over the lazy dog.\")"
   ]
  },
  {
   "cell_type": "code",
   "execution_count": 36,
   "metadata": {},
   "outputs": [],
   "source": [
    "def word_counterss(b):\n",
    "    \n",
    "    bosluk_sayac = 0\n",
    "    \n",
    "    for w in b:\n",
    "        if w == \" \":\n",
    "            bosluk_sayac += 1\n",
    "            \n",
    "    print(\"Kelime sayısı: \", bosluk_sayac+1)\n",
    "    print(\"Harf sayısı: \", len(b)-bosluk_sayac)"
   ]
  },
  {
   "cell_type": "code",
   "execution_count": 37,
   "metadata": {},
   "outputs": [
    {
     "name": "stdout",
     "output_type": "stream",
     "text": [
      "Bir cümle giriniz: the quick brown fox jumps over the lazy dog\n",
      "Kelime sayısı:  9\n",
      "Harf sayısı:  35\n"
     ]
    }
   ],
   "source": [
    "b = input(\"Bir cümle giriniz: \")\n",
    "\n",
    "word_counterss(b)"
   ]
  },
  {
   "cell_type": "code",
   "execution_count": null,
   "metadata": {},
   "outputs": [],
   "source": [
    "# a simpler function here <------------------------- 2-3 ARAS Check"
   ]
  },
  {
   "cell_type": "code",
   "execution_count": 38,
   "metadata": {},
   "outputs": [],
   "source": [
    "def divisor_number(digit):\n",
    "    divisor_list = []\n",
    "\n",
    "    for i in range(2, digit):\n",
    "        if (digit % i == 0):\n",
    "            divisor_list.append(i)    \n",
    "\n",
    "    return divisor_list"
   ]
  },
  {
   "cell_type": "code",
   "execution_count": 39,
   "metadata": {},
   "outputs": [
    {
     "data": {
      "text/plain": [
       "[2, 3, 4, 6, 7, 8, 12, 14, 21, 24, 28, 42, 56, 84]"
      ]
     },
     "execution_count": 39,
     "metadata": {},
     "output_type": "execute_result"
    }
   ],
   "source": [
    "divisor_number(168)"
   ]
  },
  {
   "cell_type": "code",
   "execution_count": 45,
   "metadata": {},
   "outputs": [],
   "source": [
    "def calculate_cost(cost):\n",
    "\n",
    "    if cost < 0:\n",
    "        print(\"Invalid value\")\n",
    "        \n",
    "    else:\n",
    "        if 0 < cost <= 500:\n",
    "            cost = cost + cost * 0.125\n",
    "        elif cost <= 750:\n",
    "            cost = cost + cost * 0.1\n",
    "        elif cost <= 1000:\n",
    "            cost = cost + cost * 0.075\n",
    "        else:\n",
    "            cost = cost + cost * 0.050\n",
    "  \n",
    "        print(\"New cost is \", cost)"
   ]
  },
  {
   "cell_type": "code",
   "execution_count": 46,
   "metadata": {},
   "outputs": [
    {
     "name": "stdout",
     "output_type": "stream",
     "text": [
      "New cost is  1575.0\n"
     ]
    }
   ],
   "source": [
    "calculate_cost(1500)"
   ]
  },
  {
   "cell_type": "code",
   "execution_count": 70,
   "metadata": {},
   "outputs": [],
   "source": [
    "def factorial(number):\n",
    "    result = 1\n",
    "    if number == 0 or number == 1:\n",
    "        return result\n",
    "    else:\n",
    "        while number >= 1:\n",
    "            result *= number\n",
    "            number -=1\n",
    "        return result"
   ]
  },
  {
   "cell_type": "code",
   "execution_count": 61,
   "metadata": {},
   "outputs": [
    {
     "data": {
      "text/plain": [
       "1"
      ]
     },
     "execution_count": 61,
     "metadata": {},
     "output_type": "execute_result"
    }
   ],
   "source": [
    "factorial(1)"
   ]
  },
  {
   "cell_type": "code",
   "execution_count": 78,
   "metadata": {
    "scrolled": true
   },
   "outputs": [
    {
     "data": {
      "text/plain": [
       "5040"
      ]
     },
     "execution_count": 78,
     "metadata": {},
     "output_type": "execute_result"
    }
   ],
   "source": [
    "factorial(7)"
   ]
  },
  {
   "cell_type": "code",
   "execution_count": null,
   "metadata": {},
   "outputs": [],
   "source": [
    "def factorial(number):\n",
    "    result = 1\n",
    "    if number == 0 or number == 1:\n",
    "        return result\n",
    "    elif number < 0:\n",
    "        return None\n",
    "    else:\n",
    "        while number >= 1:\n",
    "            result *= number\n",
    "            number -=1\n",
    "        return result"
   ]
  },
  {
   "cell_type": "code",
   "execution_count": 80,
   "metadata": {},
   "outputs": [],
   "source": [
    "def factorial(number):\n",
    "    result = 1\n",
    "    if isinstance(number,int):\n",
    "        if number == 0 or number == 1:\n",
    "            return result\n",
    "        elif number < 0:\n",
    "            return None\n",
    "        else:\n",
    "            while number >= 1:\n",
    "                result *= number\n",
    "                number -=1\n",
    "            return result\n",
    "    else:\n",
    "        return None"
   ]
  },
  {
   "cell_type": "code",
   "execution_count": 81,
   "metadata": {},
   "outputs": [],
   "source": [
    "factorial(-5)"
   ]
  },
  {
   "cell_type": "code",
   "execution_count": 82,
   "metadata": {},
   "outputs": [],
   "source": [
    "factorial(-5.22)"
   ]
  },
  {
   "cell_type": "markdown",
   "metadata": {},
   "source": [
    "#### Example: Bubble Sort\n",
    "\n",
    "Açıklama\n",
    "Add pseudocode"
   ]
  },
  {
   "cell_type": "code",
   "execution_count": 99,
   "metadata": {},
   "outputs": [],
   "source": [
    "dataList=[20,-5,15,7,7.0,13.91]\n",
    "\n",
    "def bubble_sort(nums):\n",
    "    size = len(nums)\n",
    "    \n",
    "    for i in range(size):\n",
    "        for j in range(size-1):\n",
    "            if nums[j] > nums[j+1]:\n",
    "                nums[j], nums[j+1] = nums[j+1], nums[j]\n",
    "\n",
    "    return nums"
   ]
  },
  {
   "cell_type": "code",
   "execution_count": 100,
   "metadata": {},
   "outputs": [
    {
     "data": {
      "text/plain": [
       "[-5, 7, 7.0, 13.91, 15, 20]"
      ]
     },
     "execution_count": 100,
     "metadata": {},
     "output_type": "execute_result"
    }
   ],
   "source": [
    "bubble_sort(dataList)"
   ]
  },
  {
   "cell_type": "code",
   "execution_count": null,
   "metadata": {},
   "outputs": [],
   "source": [
    "# implement: binary search (prerequisite: sorting) MERT <-------------------"
   ]
  },
  {
   "cell_type": "code",
   "execution_count": 17,
   "metadata": {},
   "outputs": [
    {
     "name": "stdout",
     "output_type": "stream",
     "text": [
      "[0, 1, 2, 3, 4, 5, 6, 7, 8, 9]\n"
     ]
    }
   ],
   "source": [
    "def create_list(): # <----- need a more appropriate name ARAS Check\n",
    "    list = []\n",
    "    for i in range(0,10):\n",
    "        list.append(i)\n",
    "    return list\n",
    "a = create_list()\n",
    "print(a)"
   ]
  },
  {
   "cell_type": "code",
   "execution_count": 115,
   "metadata": {},
   "outputs": [],
   "source": [
    "# definition = \"Python includes back end development, software development, data science and writing system scripts.\"\n",
    "\n",
    "# list_seperate = definition.split()\n",
    " \n",
    "# print(list_seperate)"
   ]
  },
  {
   "cell_type": "code",
   "execution_count": 116,
   "metadata": {},
   "outputs": [],
   "source": [
    "# list_seperate[5].capitalize()\n",
    "# list_seperate"
   ]
  },
  {
   "cell_type": "code",
   "execution_count": 21,
   "metadata": {},
   "outputs": [
    {
     "name": "stdout",
     "output_type": "stream",
     "text": [
      "the number of letter e in the sentence: 12\n"
     ]
    }
   ],
   "source": [
    "# count each word <------------------- ARAS check on the above\n",
    "# output should be like: {\"Python\":4,\"back\":1,\"development\":1} (before these: convert to lowercase)\n",
    "definition = \"Python includes back end development, software development, data science and writing system scripts.\"\n",
    "\n",
    "letter = \"e\"\n",
    "counter = 0\n",
    "\n",
    "for i in definition:\n",
    "    if i == \"e\":\n",
    "        counter = counter + 1\n",
    "        \n",
    "print(\"the number of letter e in the sentence:\" , counter )\n"
   ]
  },
  {
   "cell_type": "code",
   "execution_count": 18,
   "metadata": {},
   "outputs": [
    {
     "name": "stdout",
     "output_type": "stream",
     "text": [
      "{'product': 'hat', 'cost': 10}\n",
      "\n",
      "    This function create a dictionary about a product and its cost.\n",
      "    \n",
      "    \n"
     ]
    }
   ],
   "source": [
    "def create_dict(): # <--------- NAMING PROBLEMS ARAS Check\n",
    "    '''\n",
    "    This function create a dictionary about a product and its cost.\n",
    "    \n",
    "    '''\n",
    "    \n",
    "    b = dict()\n",
    "    b['product'] = \"hat\"\n",
    "    b['cost']   = 10\n",
    "    return b\n",
    "print(create_dict())\n",
    "print(create_dict.__doc__)"
   ]
  },
  {
   "cell_type": "code",
   "execution_count": 19,
   "metadata": {},
   "outputs": [
    {
     "name": "stdout",
     "output_type": "stream",
     "text": [
      "{'product': 'hat', 'cost': 10}\n",
      "dict() -> new empty dictionary\n",
      "dict(mapping) -> new dictionary initialized from a mapping object's\n",
      "    (key, value) pairs\n",
      "dict(iterable) -> new dictionary initialized as if via:\n",
      "    d = {}\n",
      "    for k, v in iterable:\n",
      "        d[k] = v\n",
      "dict(**kwargs) -> new dictionary initialized with the name=value pairs\n",
      "    in the keyword argument list.  For example:  dict(one=1, two=2)\n"
     ]
    }
   ],
   "source": [
    "def create_dict(): # <--------- NAMING PROBLEMS ARAS Check\n",
    "    '''\n",
    "    This function create a dictionary about a product and its cost.\n",
    "    \n",
    "    '''\n",
    "    \n",
    "    b = dict()\n",
    "    b['product'] = \"hat\"\n",
    "    b['cost']   = 10\n",
    "    return b\n",
    "print(create_dict())\n",
    "print(create_dict().__doc__)"
   ]
  },
  {
   "cell_type": "code",
   "execution_count": 28,
   "metadata": {},
   "outputs": [
    {
     "name": "stdout",
     "output_type": "stream",
     "text": [
      "40\n"
     ]
    }
   ],
   "source": [
    "def multiply(x,y):\n",
    "    result = x * y\n",
    "    return result\n",
    "\n",
    "print(multiply(5,8))"
   ]
  },
  {
   "cell_type": "code",
   "execution_count": 26,
   "metadata": {},
   "outputs": [
    {
     "name": "stdout",
     "output_type": "stream",
     "text": [
      "-768\n"
     ]
    }
   ],
   "source": [
    "def multiply_2(*numbers):\n",
    "    result = 1\n",
    "    for number in numbers:\n",
    "        result *= number\n",
    "    return result\n",
    "\n",
    "print(multiply_2(8,-4,6,4))"
   ]
  },
  {
   "cell_type": "code",
   "execution_count": 34,
   "metadata": {},
   "outputs": [
    {
     "name": "stdout",
     "output_type": "stream",
     "text": [
      "Sum: 8\n",
      "Sum: 18\n",
      "Sum: 16\n"
     ]
    }
   ],
   "source": [
    "def adder(*number):\n",
    "    sum = 0\n",
    "    \n",
    "    for n in number:\n",
    "        sum = sum + n\n",
    "\n",
    "    print(\"Sum:\",sum)\n",
    "\n",
    "adder(3,5)\n",
    "adder(3,4,5,6)\n",
    "adder(1,2,3,5,5)"
   ]
  },
  {
   "cell_type": "code",
   "execution_count": null,
   "metadata": {},
   "outputs": [],
   "source": [
    "def info(**kwargs):  ## <--------------------- ARAS\n",
    "    ................."
   ]
  },
  {
   "cell_type": "code",
   "execution_count": 44,
   "metadata": {
    "scrolled": false
   },
   "outputs": [
    {
     "name": "stdout",
     "output_type": "stream",
     "text": [
      "Firstname is Dave\n",
      "Lastname is Goldman\n",
      "Age is 22\n",
      "Phone is 12345678910\n",
      "None\n"
     ]
    }
   ],
   "source": [
    "print(info(**worker))"
   ]
  },
  {
   "cell_type": "code",
   "execution_count": 6,
   "metadata": {},
   "outputs": [
    {
     "name": "stdout",
     "output_type": "stream",
     "text": [
      "['Total indesign_cost is 50000 €', 'Total materials is 30000 €', 'Total labor is 20000 €']\n"
     ]
    }
   ],
   "source": [
    "def expenses(**kwargs):\n",
    "    result = []\n",
    "    for key, value in kwargs.items():\n",
    "        result.append(\"Total {} is {} €\".format (key,value))\n",
    " \n",
    "    return result\n",
    "                      \n",
    "print(expenses(indesign_cost = 50000, materials = 30000, labor = 20000))"
   ]
  },
  {
   "cell_type": "code",
   "execution_count": 47,
   "metadata": {},
   "outputs": [
    {
     "name": "stdout",
     "output_type": "stream",
     "text": [
      "Firstname is Jane\n",
      "Lastname is Wood\n",
      "Age is 24\n",
      "Phone is 46879478478\n",
      "email is janewood@nomail.com\n",
      "None\n"
     ]
    }
   ],
   "source": [
    "worker_2 = {\"Firstname\":\"Jane\", \"Lastname\":\"Wood\", \"Age\":24, \"Phone\":46879478478, \"email\":\"janewood@nomail.com\"}\n",
    "print(info(**worker_2))"
   ]
  },
  {
   "cell_type": "code",
   "execution_count": 38,
   "metadata": {},
   "outputs": [
    {
     "name": "stdout",
     "output_type": "stream",
     "text": [
      "{'Dave': 1.8, 'Rachel': 1.68, 'Samantha': 1.75, 'Debra': 1.86}\n",
      "<class 'dict'>\n",
      "None\n"
     ]
    }
   ],
   "source": [
    "## MODIFY THIS, WORK ON IT <----------- ARAS\n",
    "def height(**person):\n",
    "    print(person)\n",
    "    print(type(person))\n",
    "    \n",
    "employees = {\"Dave\": 1.80, \"Rachel\": 1.68, \"Samantha\": 1.75, \"Debra\": 1.86}\n",
    "\n",
    "print(height(**employees))"
   ]
  },
  {
   "cell_type": "code",
   "execution_count": 39,
   "metadata": {
    "scrolled": true
   },
   "outputs": [
    {
     "name": "stdout",
     "output_type": "stream",
     "text": [
      "{'dave': 1.78, 'rachel': 1.94}\n",
      "<class 'dict'>\n"
     ]
    }
   ],
   "source": [
    "height(dave=1.78,rachel=1.94)"
   ]
  },
  {
   "cell_type": "code",
   "execution_count": 16,
   "metadata": {
    "scrolled": true
   },
   "outputs": [
    {
     "name": "stdout",
     "output_type": "stream",
     "text": [
      "Dave:1.8\n",
      "Rachel:1.68\n",
      "Samantha:1.75\n",
      "{'Dave': 1.8, 'Rachel': 1.68, 'Samantha': 1.75}\n"
     ]
    },
    {
     "ename": "NameError",
     "evalue": "name 'out' is not defined",
     "output_type": "error",
     "traceback": [
      "\u001b[1;31m---------------------------------------------------------------------------\u001b[0m",
      "\u001b[1;31mNameError\u001b[0m                                 Traceback (most recent call last)",
      "\u001b[1;32m<ipython-input-16-0cb8371d8799>\u001b[0m in \u001b[0;36m<module>\u001b[1;34m\u001b[0m\n\u001b[0;32m     10\u001b[0m \u001b[1;33m\u001b[0m\u001b[0m\n\u001b[0;32m     11\u001b[0m \u001b[0mprint\u001b[0m\u001b[1;33m(\u001b[0m\u001b[0mheight_info\u001b[0m\u001b[1;33m(\u001b[0m\u001b[1;33m**\u001b[0m\u001b[0memployees\u001b[0m\u001b[1;33m)\u001b[0m\u001b[1;33m)\u001b[0m\u001b[1;33m\u001b[0m\u001b[1;33m\u001b[0m\u001b[0m\n\u001b[1;32m---> 12\u001b[1;33m \u001b[0mprint\u001b[0m\u001b[1;33m(\u001b[0m\u001b[0mout\u001b[0m\u001b[1;33m)\u001b[0m\u001b[1;33m\u001b[0m\u001b[1;33m\u001b[0m\u001b[0m\n\u001b[0m",
      "\u001b[1;31mNameError\u001b[0m: name 'out' is not defined"
     ]
    }
   ],
   "source": [
    "# FILTER A GIVEN DICTIONARY, FUNCTION NAME !!! ARAS\n",
    "def height_info(**person):\n",
    "    out = {}\n",
    "    for employee,height in employees.items():\n",
    "        if height <= 1.80:\n",
    "            print(f'{employee}:{height}')\n",
    "            out[employee] = height\n",
    "    return out\n",
    "employees = {\"Dave\": 1.80, \"Rachel\": 1.68, \"Samantha\": 1.75, \"Debra\": 1.86}\n",
    "\n",
    "print(height_info(**employees))\n",
    "print(out)"
   ]
  },
  {
   "cell_type": "code",
   "execution_count": 29,
   "metadata": {},
   "outputs": [
    {
     "name": "stdout",
     "output_type": "stream",
     "text": [
      "{}\n"
     ]
    }
   ],
   "source": [
    "names = {1: \"Alice\", 2: \"Dave\", 3: \"Sarah\", 4: \"John\", 5: \"Carl\"}\n",
    "\n",
    "def filter_dict():\n",
    "    new_dict = dict()\n",
    "    \n",
    "    for k,v in names.items():\n",
    "        if k % 2 ==0:\n",
    "            new_dict[key] = value\n",
    "\n",
    "print(new_dict)"
   ]
  },
  {
   "cell_type": "code",
   "execution_count": 27,
   "metadata": {},
   "outputs": [
    {
     "name": "stdout",
     "output_type": "stream",
     "text": [
      "Filtered Dictionary : \n",
      "{8: 'john', 10: 'riti', 12: 'sachin'}\n"
     ]
    }
   ],
   "source": [
    "dictOfNames = {\n",
    "   7 : 'sam',\n",
    "   8: 'john',\n",
    "   9: 'mathew',\n",
    "   10: 'riti',\n",
    "   11 : 'aadi',\n",
    "   12 : 'sachin'\n",
    "}\n",
    "\n",
    "newDict = dict()\n",
    "\n",
    "# Iterate over all the items in dictionary and filter items which has even keys\n",
    "for key, value in dictOfNames.items():\n",
    "   # Check if key is even then add pair to new dictionary\n",
    "   if key % 2 == 0:\n",
    "        newDict[key] = value\n",
    "print('Filtered Dictionary : ')\n",
    "print(newDict)"
   ]
  },
  {
   "cell_type": "code",
   "execution_count": 24,
   "metadata": {},
   "outputs": [
    {
     "name": "stdout",
     "output_type": "stream",
     "text": [
      "Filtered Dictionary : \n",
      "{8: 'john', 10: 'riti', 12: 'sachin'}\n"
     ]
    }
   ],
   "source": [
    "newDict = dict(filter(lambda elem: elem[0] % 2 == 0, dictOfNames.items()))\n",
    "print('Filtered Dictionary : ')\n",
    "print(newDict)"
   ]
  },
  {
   "cell_type": "code",
   "execution_count": null,
   "metadata": {},
   "outputs": [],
   "source": [
    "ages = [5, 12, 17, 18, 24, 32]\n",
    "\n",
    "def myFunc(x):\n",
    "    if x < 18:\n",
    "    return False\n",
    "  else:\n",
    "    return True\n",
    "\n",
    "adults = filter(myFunc, ages)\n",
    "\n",
    "for x in adults:\n",
    "    print(x)"
   ]
  },
  {
   "cell_type": "code",
   "execution_count": 20,
   "metadata": {},
   "outputs": [
    {
     "ename": "TypeError",
     "evalue": "filter() takes no keyword arguments",
     "output_type": "error",
     "traceback": [
      "\u001b[1;31m---------------------------------------------------------------------------\u001b[0m",
      "\u001b[1;31mTypeError\u001b[0m                                 Traceback (most recent call last)",
      "\u001b[1;32m<ipython-input-20-87a931e76cc1>\u001b[0m in \u001b[0;36m<module>\u001b[1;34m\u001b[0m\n\u001b[0;32m     13\u001b[0m \u001b[0memployeess\u001b[0m \u001b[1;33m=\u001b[0m \u001b[1;33m{\u001b[0m\u001b[1;34m\"Dave\"\u001b[0m\u001b[1;33m:\u001b[0m \u001b[1;36m1.80\u001b[0m\u001b[1;33m,\u001b[0m \u001b[1;34m\"Rachel\"\u001b[0m\u001b[1;33m:\u001b[0m \u001b[1;36m1.68\u001b[0m\u001b[1;33m,\u001b[0m \u001b[1;34m\"Samantha\"\u001b[0m\u001b[1;33m:\u001b[0m \u001b[1;36m1.75\u001b[0m\u001b[1;33m,\u001b[0m \u001b[1;34m\"Debra\"\u001b[0m\u001b[1;33m:\u001b[0m \u001b[1;36m1.86\u001b[0m\u001b[1;33m}\u001b[0m\u001b[1;33m\u001b[0m\u001b[1;33m\u001b[0m\u001b[0m\n\u001b[0;32m     14\u001b[0m \u001b[1;33m\u001b[0m\u001b[0m\n\u001b[1;32m---> 15\u001b[1;33m \u001b[0mtaller_person\u001b[0m \u001b[1;33m=\u001b[0m \u001b[0mlist\u001b[0m\u001b[1;33m(\u001b[0m\u001b[0mfilter\u001b[0m\u001b[1;33m(\u001b[0m\u001b[1;32mlambda\u001b[0m \u001b[0mheight\u001b[0m\u001b[1;33m:\u001b[0m\u001b[0mheight\u001b[0m\u001b[1;33m>\u001b[0m\u001b[1;36m1.77\u001b[0m\u001b[1;33m,\u001b[0m \u001b[1;33m**\u001b[0m\u001b[0memployeess\u001b[0m\u001b[1;33m)\u001b[0m\u001b[1;33m)\u001b[0m\u001b[1;33m\u001b[0m\u001b[1;33m\u001b[0m\u001b[0m\n\u001b[0m\u001b[0;32m     16\u001b[0m \u001b[1;33m\u001b[0m\u001b[0m\n\u001b[0;32m     17\u001b[0m \u001b[0mprint\u001b[0m\u001b[1;33m(\u001b[0m\u001b[0mtaller_person\u001b[0m\u001b[1;33m)\u001b[0m\u001b[1;33m\u001b[0m\u001b[1;33m\u001b[0m\u001b[0m\n",
      "\u001b[1;31mTypeError\u001b[0m: filter() takes no keyword arguments"
     ]
    }
   ],
   "source": [
    "# FILTER A GIVEN DICTIONARY, FUNCTION NAME !!! ARAS\n",
    "def asdf(**person):\n",
    "    \n",
    "    outt = {}\n",
    "    for employee,height in employeess.items():\n",
    "        \n",
    "        if height <= 1.80:\n",
    "            print(f'{employee}:{height}')\n",
    "            out[employee] = height\n",
    "            \n",
    "    return outt\n",
    "\n",
    "employeess = {\"Dave\": 1.80, \"Rachel\": 1.68, \"Samantha\": 1.75, \"Debra\": 1.86}\n",
    "\n",
    "taller_person = list(filter(lambda height:height>1.77, **employeess))\n",
    "\n",
    "print(taller_person)"
   ]
  },
  {
   "cell_type": "markdown",
   "metadata": {},
   "source": [
    "## `lambda` functions"
   ]
  },
  {
   "cell_type": "code",
   "execution_count": 106,
   "metadata": {},
   "outputs": [],
   "source": [
    "square = lambda x: x**2"
   ]
  },
  {
   "cell_type": "code",
   "execution_count": 107,
   "metadata": {},
   "outputs": [
    {
     "data": {
      "text/plain": [
       "25"
      ]
     },
     "execution_count": 107,
     "metadata": {},
     "output_type": "execute_result"
    }
   ],
   "source": [
    "square(5)"
   ]
  },
  {
   "cell_type": "code",
   "execution_count": 108,
   "metadata": {},
   "outputs": [],
   "source": [
    "def square(x):\n",
    "    return x**2"
   ]
  },
  {
   "cell_type": "code",
   "execution_count": 109,
   "metadata": {},
   "outputs": [
    {
     "data": {
      "text/plain": [
       "25"
      ]
     },
     "execution_count": 109,
     "metadata": {},
     "output_type": "execute_result"
    }
   ],
   "source": [
    "square(5)"
   ]
  },
  {
   "cell_type": "code",
   "execution_count": 20,
   "metadata": {},
   "outputs": [],
   "source": [
    "# ??\n",
    "def triangle_area(h,d): # <----------------- apropriate function argument names !!! Check\n",
    "    return d*h/2"
   ]
  },
  {
   "cell_type": "code",
   "execution_count": 21,
   "metadata": {},
   "outputs": [
    {
     "data": {
      "text/plain": [
       "10.0"
      ]
     },
     "execution_count": 21,
     "metadata": {},
     "output_type": "execute_result"
    }
   ],
   "source": [
    "triangle_area(5,4)"
   ]
  },
  {
   "cell_type": "code",
   "execution_count": 113,
   "metadata": {},
   "outputs": [],
   "source": [
    "triangle_area = lambda m,n : m*n/2"
   ]
  },
  {
   "cell_type": "code",
   "execution_count": 114,
   "metadata": {},
   "outputs": [
    {
     "data": {
      "text/plain": [
       "66.0"
      ]
     },
     "execution_count": 114,
     "metadata": {},
     "output_type": "execute_result"
    }
   ],
   "source": [
    "triangle_area(6,22)"
   ]
  },
  {
   "cell_type": "code",
   "execution_count": 54,
   "metadata": {},
   "outputs": [
    {
     "name": "stdout",
     "output_type": "stream",
     "text": [
      "[8, 4, 6, 0, 18]\n"
     ]
    }
   ],
   "source": [
    "list1 = [8, 4, 99, 6, 0, 11, 18]\n",
    "\n",
    "new_list = list(filter(lambda x:(x%2 == 0), list1))\n",
    "\n",
    "print(new_list)"
   ]
  },
  {
   "cell_type": "code",
   "execution_count": 1,
   "metadata": {},
   "outputs": [
    {
     "name": "stdout",
     "output_type": "stream",
     "text": [
      "[25, 36, 64, 81]\n"
     ]
    }
   ],
   "source": [
    "list_2 = [5,6,8,9]\n",
    "\n",
    "list_square = list(map(lambda x:x**2, list_2))\n",
    "\n",
    "print(list_square)"
   ]
  },
  {
   "cell_type": "code",
   "execution_count": 4,
   "metadata": {},
   "outputs": [
    {
     "name": "stdout",
     "output_type": "stream",
     "text": [
      "720\n"
     ]
    }
   ],
   "source": [
    "from functools import reduce\n",
    "\n",
    "list_3 = [1,2,3,4,5,6]\n",
    "\n",
    "# write factorial function using reduce\n",
    "result_multiply = reduce(lambda x,y:x*y, list_3)\n",
    "\n",
    "print(result_multiply)"
   ]
  },
  {
   "cell_type": "code",
   "execution_count": null,
   "metadata": {},
   "outputs": [],
   "source": [
    "# VARIABLE SCOPES !!!! <-------------------------------------------------- MERT"
   ]
  },
  {
   "cell_type": "code",
   "execution_count": 77,
   "metadata": {},
   "outputs": [],
   "source": [
    "# recursive function example\n",
    "def fibonacci(number):\n",
    "    if number == 0 or number == 1:\n",
    "        return 1\n",
    "    else:\n",
    "        return fibonacci(number-1) + fibonacci(number-2)"
   ]
  },
  {
   "cell_type": "markdown",
   "metadata": {},
   "source": [
    "## Example project\n",
    "\n",
    "do an example here"
   ]
  },
  {
   "cell_type": "markdown",
   "metadata": {},
   "source": [
    "## Project\n",
    "\n",
    "assignment"
   ]
  },
  {
   "cell_type": "code",
   "execution_count": null,
   "metadata": {},
   "outputs": [],
   "source": []
  }
 ],
 "metadata": {
  "kernelspec": {
   "display_name": "Python 3",
   "language": "python",
   "name": "python3"
  },
  "language_info": {
   "codemirror_mode": {
    "name": "ipython",
    "version": 3
   },
   "file_extension": ".py",
   "mimetype": "text/x-python",
   "name": "python",
   "nbconvert_exporter": "python",
   "pygments_lexer": "ipython3",
   "version": "3.8.3"
  }
 },
 "nbformat": 4,
 "nbformat_minor": 4
}
