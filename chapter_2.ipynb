{
 "cells": [
  {
   "cell_type": "markdown",
   "metadata": {},
   "source": [
    "# CHAPTER 2\n",
    "\n",
    "Starting with the loops, we will cover also functions and dive into details of these both concepts in python programming. These are some of the building blocks of python, and also programming, in general. Together with `if` statements, these two concepts is frequently used in programming.\n",
    "\n",
    "## Learning Goals\n",
    "\n",
    "* Loops\n",
    "* Function definitions"
   ]
  },
  {
   "cell_type": "markdown",
   "metadata": {},
   "source": [
    "## 1 - Loop Structure\n",
    "\n",
    "Loops enable repeating a computation many times.\n",
    "\n",
    "TODO: BULLET LIST OF FOR WHILE MAP REDUCE????\n",
    "\n",
    "TODO: ADD A DIAGRAM??"
   ]
  },
  {
   "cell_type": "markdown",
   "metadata": {},
   "source": [
    "### 1. For Loops"
   ]
  },
  {
   "cell_type": "code",
   "execution_count": 1,
   "metadata": {},
   "outputs": [
    {
     "name": "stdout",
     "output_type": "stream",
     "text": [
      "0\n",
      "1\n",
      "2\n",
      "3\n",
      "4\n"
     ]
    }
   ],
   "source": [
    "for i in range(5):\n",
    "    print(i)"
   ]
  },
  {
   "cell_type": "code",
   "execution_count": 2,
   "metadata": {},
   "outputs": [
    {
     "name": "stdout",
     "output_type": "stream",
     "text": [
      "2\n",
      "3\n",
      "4\n"
     ]
    }
   ],
   "source": [
    "for i in range(2,5):\n",
    "    print(i)"
   ]
  },
  {
   "cell_type": "code",
   "execution_count": 3,
   "metadata": {},
   "outputs": [
    {
     "name": "stdout",
     "output_type": "stream",
     "text": [
      "2\n",
      "5\n",
      "8\n",
      "11\n",
      "14\n"
     ]
    }
   ],
   "source": [
    "for i in range(2,15,3):\n",
    "    print(i)"
   ]
  },
  {
   "cell_type": "code",
   "execution_count": 5,
   "metadata": {},
   "outputs": [
    {
     "name": "stdout",
     "output_type": "stream",
     "text": [
      "20\n",
      "17\n",
      "14\n",
      "11\n",
      "8\n"
     ]
    }
   ],
   "source": [
    "for i in range(20,5,-3):\n",
    "    print(i)"
   ]
  },
  {
   "cell_type": "code",
   "execution_count": 6,
   "metadata": {},
   "outputs": [
    {
     "name": "stdout",
     "output_type": "stream",
     "text": [
      "Products\n",
      "Services\n",
      "Team\n"
     ]
    }
   ],
   "source": [
    "lst = ['Products','Services','Team']\n",
    "for l in lst:\n",
    "    print(l)"
   ]
  },
  {
   "cell_type": "code",
   "execution_count": 3,
   "metadata": {},
   "outputs": [
    {
     "name": "stdout",
     "output_type": "stream",
     "text": [
      "1 2\n",
      "3 4\n",
      "5 6\n",
      "7 8\n"
     ]
    }
   ],
   "source": [
    "list_1 = [(1,2),(3,4),(5,6),(7,8)]\n",
    "    \n",
    "for i,k in list_1:\n",
    "    print(i,k)"
   ]
  },
  {
   "cell_type": "code",
   "execution_count": 4,
   "metadata": {},
   "outputs": [
    {
     "name": "stdout",
     "output_type": "stream",
     "text": [
      "S\n",
      "t\n",
      "r\n",
      "u\n",
      "c\n",
      "t\n",
      "u\n",
      "r\n",
      "e\n"
     ]
    }
   ],
   "source": [
    "word = \"Structure\"\n",
    "for character in word:\n",
    "    print(character)"
   ]
  },
  {
   "cell_type": "code",
   "execution_count": 3,
   "metadata": {},
   "outputs": [
    {
     "name": "stdout",
     "output_type": "stream",
     "text": [
      "Python\n",
      "Instructions\n"
     ]
    }
   ],
   "source": [
    "for i in \"Python Instructions\".split():\n",
    "    print(i)"
   ]
  },
  {
   "cell_type": "code",
   "execution_count": 12,
   "metadata": {},
   "outputs": [
    {
     "data": {
      "text/plain": [
       "{'Skirt': 11.5, 'Hat': 15.5, 'Shoe': 18.0, 'Shirt': 4.7}"
      ]
     },
     "execution_count": 12,
     "metadata": {},
     "output_type": "execute_result"
    }
   ],
   "source": [
    "products = {\"Skirt\":11.50,\"Hat\":15.50,\"Shoe\":18.00,\"Shirt\":4.70}\n",
    "products"
   ]
  },
  {
   "cell_type": "code",
   "execution_count": 18,
   "metadata": {},
   "outputs": [
    {
     "name": "stdout",
     "output_type": "stream",
     "text": [
      "Skirt\n",
      "Hat\n",
      "Shoe\n",
      "Shirt\n"
     ]
    }
   ],
   "source": [
    "for product in products.keys(): # Just `products` will do the same\n",
    "    print(product)"
   ]
  },
  {
   "cell_type": "code",
   "execution_count": 20,
   "metadata": {},
   "outputs": [
    {
     "name": "stdout",
     "output_type": "stream",
     "text": [
      "11.5\n",
      "15.5\n",
      "18.0\n",
      "4.7\n"
     ]
    }
   ],
   "source": [
    "for product in products.values():\n",
    "    print(product)"
   ]
  },
  {
   "cell_type": "code",
   "execution_count": 21,
   "metadata": {},
   "outputs": [
    {
     "name": "stdout",
     "output_type": "stream",
     "text": [
      "Skirt 11.5\n",
      "Hat 15.5\n",
      "Shoe 18.0\n",
      "Shirt 4.7\n"
     ]
    }
   ],
   "source": [
    "for product,cost in products.items():\n",
    "    print(product,cost)"
   ]
  },
  {
   "cell_type": "code",
   "execution_count": 4,
   "metadata": {},
   "outputs": [
    {
     "name": "stdout",
     "output_type": "stream",
     "text": [
      "1 0\n",
      "2 0\n",
      "2 1\n",
      "3 0\n",
      "3 1\n",
      "3 2\n",
      "4 0\n",
      "4 1\n",
      "4 2\n",
      "4 3\n"
     ]
    }
   ],
   "source": [
    "# give a nested for loop example\n",
    "for i in range(5):\n",
    "    for j in range(i):\n",
    "        print(i,j)"
   ]
  },
  {
   "cell_type": "code",
   "execution_count": 6,
   "metadata": {},
   "outputs": [],
   "source": [
    "#dictionaryde for dönerken value değerini bulup değiştirme örneği"
   ]
  },
  {
   "cell_type": "code",
   "execution_count": 7,
   "metadata": {},
   "outputs": [
    {
     "name": "stdout",
     "output_type": "stream",
     "text": [
      "{'Type': 'Automobile', 'Class': 'Subcompact', 'Brand': 'Volkswagen', 'Model': 'Polo', 'Year': 2015, 'Status': 'Old', 'Used': True}\n"
     ]
    }
   ],
   "source": [
    "# an automobile ad ----------------------->>><???????? MERT\n",
    "vw_models = {'Polo','Golf','Passat'}\n",
    "\n",
    "vehicle = {\n",
    "    \"Type\": \"Automobile\",\n",
    "    \"Class\": \"Compact\",\n",
    "    \"Brand\": \"Volkswagen\",\n",
    "    \"Model\": \"Corolla\",\n",
    "    \"Year\": 2105, # <--------------------------------------------\n",
    "    \"Status\": \"New\",\n",
    "    \"Used\": True,\n",
    "    \"Eligible\": None,\n",
    "}\n",
    "\n",
    "for x in vehicle:\n",
    "    if x == \"Year\" and vehicle[x] > 2021:\n",
    "        vehicle[x] = \"N/A\"\n",
    "        \n",
    "    if x == \"Brand\":\n",
    "        if vehicle[\"Model\"] not in vw_models:\n",
    "            vehicle[\"Eligible\"] = False\n",
    "        \n",
    "print(vehicle)"
   ]
  },
  {
   "cell_type": "code",
   "execution_count": 7,
   "metadata": {},
   "outputs": [],
   "source": [
    "# for loop örnek tiplerine bak <------- ARAS"
   ]
  },
  {
   "cell_type": "code",
   "execution_count": 26,
   "metadata": {
    "scrolled": true
   },
   "outputs": [
    {
     "name": "stdout",
     "output_type": "stream",
     "text": [
      "0 Linear Programming\n",
      "1 Integer Programming\n",
      "2 Mixed-Integer Linear Programming\n",
      "3 Quadratic Programming\n"
     ]
    }
   ],
   "source": [
    "lst = [\n",
    "    \"Linear Programming\",\n",
    "    \"Integer Programming\",\n",
    "    \"Mixed-Integer Linear Programming\",\n",
    "    \"Quadratic Programming\"\n",
    "]\n",
    "for i,e in enumerate(lst):\n",
    "    print(i,e)"
   ]
  },
  {
   "cell_type": "code",
   "execution_count": 23,
   "metadata": {},
   "outputs": [
    {
     "name": "stdout",
     "output_type": "stream",
     "text": [
      "0 C\n",
      "1 o\n",
      "2 u\n",
      "3 n\n",
      "4 t\n",
      "5 i\n",
      "6 n\n",
      "7 g\n",
      "8  \n",
      "9 t\n",
      "10 h\n",
      "11 e\n",
      "12  \n",
      "13 l\n",
      "14 e\n",
      "15 t\n",
      "16 t\n",
      "17 e\n",
      "18 r\n",
      "19 s\n",
      "20 !\n"
     ]
    }
   ],
   "source": [
    "s = \"Counting the letters!\"\n",
    "for i,e in enumerate(s):\n",
    "    print(i,e)"
   ]
  },
  {
   "cell_type": "code",
   "execution_count": 22,
   "metadata": {},
   "outputs": [
    {
     "name": "stdout",
     "output_type": "stream",
     "text": [
      "0 - Labor : 55000.0\n",
      "1 - Raw material : 127000.0\n",
      "2 - Prefabrication : 62000.0\n",
      "3 - Shipping & transportation : 28000.0\n",
      "4 - Tax : 50000.0\n",
      "5 - Delay cost per week : 5000.0\n",
      "6 - Unit : Euro\n"
     ]
    }
   ],
   "source": [
    "costs = {\n",
    "    \"Labor\": 55000.0,\n",
    "    \"Raw material\": 127000.0,\n",
    "    \"Prefabrication\": 62000.0,\n",
    "    \"Shipping & transportation\": 28000.0,\n",
    "    \"Tax\" : 50000.0,\n",
    "    \"Delay cost per week\": 5000.0,\n",
    "    \"Unit\": \"Euro\",\n",
    "}\n",
    "for i,(k,v) in enumerate(costs.items()):\n",
    "    print(i,\"-\",k,\":\",v)"
   ]
  },
  {
   "cell_type": "code",
   "execution_count": 39,
   "metadata": {},
   "outputs": [
    {
     "name": "stdout",
     "output_type": "stream",
     "text": [
      "Camera & Photo | Cooking & Dining\n",
      "Computers | Appliances\n",
      "Audio Accessories | Furniture\n",
      "TV & Video | Bedding & Linens\n",
      "Smartphones | Laundry & Storage\n",
      "Wearable Technology | Lighting\n"
     ]
    }
   ],
   "source": [
    "electronics = [\"Camera & Photo\",\"Computers\",\"Audio Accessories\",\"TV & Video\",\"Smartphones\",\"Wearable Technology\"]\n",
    "home_appliances = [\"Cooking & Dining\",\"Appliances\",\"Furniture\",\"Bedding & Linens\",\"Laundry & Storage\",\"Lighting\"]\n",
    "\n",
    "for c1,c2 in zip(electronics,home_appliances):\n",
    "    print(c1,\"|\",c2)"
   ]
  },
  {
   "cell_type": "code",
   "execution_count": 41,
   "metadata": {},
   "outputs": [
    {
     "name": "stdout",
     "output_type": "stream",
     "text": [
      "Camera & Photo | Cooking & Dining | Fragrance\n",
      "Computers | Appliances | Skin Care\n",
      "Audio Accessories | Furniture | Make-up\n",
      "TV & Video | Bedding & Linens | Hair Care\n",
      "Smartphones | Laundry & Storage | Bath & Body\n",
      "Wearable Technology | Lighting | Men's Grooming\n"
     ]
    }
   ],
   "source": [
    "beauty = [\"Fragrance\",\"Skin Care\",\"Make-up\",\"Hair Care\",\"Bath & Body\",\"Men's Grooming\"]\n",
    "\n",
    "for c1,c2,c3 in zip(electronics,home_appliances,beauty):\n",
    "    print(c1,\"|\",c2,\"|\",c3)"
   ]
  },
  {
   "cell_type": "code",
   "execution_count": 38,
   "metadata": {},
   "outputs": [
    {
     "name": "stdout",
     "output_type": "stream",
     "text": [
      "AA\n",
      "BA\n",
      "BB\n",
      "CB\n",
      "CC\n",
      "DC\n",
      "DD\n",
      "FF\n"
     ]
    }
   ],
   "source": [
    "# a list of grades\n",
    "for l1,l2 in zip(\"ABBCCDDF\",\"AABBCCDF\"):\n",
    "    print(\"\".join([l1,l2]))"
   ]
  },
  {
   "cell_type": "code",
   "execution_count": 42,
   "metadata": {},
   "outputs": [],
   "source": [
    "# lst = ['0-18','19-30','31-45','45+']\n",
    "# num = [782,1439,1103,548]\n",
    "# for l,n in zip(lst,num):\n",
    "#     print(l,\":\",n)"
   ]
  },
  {
   "cell_type": "code",
   "execution_count": null,
   "metadata": {},
   "outputs": [],
   "source": [
    "# dict(zip(lst,num))"
   ]
  },
  {
   "cell_type": "markdown",
   "metadata": {},
   "source": [
    "## Short version of `for` loop"
   ]
  },
  {
   "cell_type": "code",
   "execution_count": 43,
   "metadata": {},
   "outputs": [
    {
     "name": "stdout",
     "output_type": "stream",
     "text": [
      "[0, 1, 2, 3, 4]\n"
     ]
    }
   ],
   "source": [
    "lst = [e for e in range(5)]\n",
    "print(lst)"
   ]
  },
  {
   "cell_type": "code",
   "execution_count": 44,
   "metadata": {},
   "outputs": [
    {
     "name": "stdout",
     "output_type": "stream",
     "text": [
      "[0, 1, 2, 3, 4]\n"
     ]
    }
   ],
   "source": [
    "# is the same with\n",
    "lst = []\n",
    "for e in range(5):\n",
    "    lst.append(e)\n",
    "print(lst)"
   ]
  },
  {
   "cell_type": "code",
   "execution_count": 47,
   "metadata": {},
   "outputs": [
    {
     "name": "stdout",
     "output_type": "stream",
     "text": [
      "[-17, 2, 65, 22, 20, 47, -1, -2, -5123]\n"
     ]
    }
   ],
   "source": [
    "elems = [(-17,2,65),(22,20,47),(-1,-2,-5123)]\n",
    "lst = [e for elem in elems for e in elem]\n",
    "print(lst)"
   ]
  },
  {
   "cell_type": "code",
   "execution_count": 48,
   "metadata": {},
   "outputs": [
    {
     "name": "stdout",
     "output_type": "stream",
     "text": [
      "[-17, 2, 65, 22, 20, 47, -1, -2, -5123]\n"
     ]
    }
   ],
   "source": [
    "# is the same with\n",
    "lst = []\n",
    "for elem in elems:\n",
    "    for e in elem:\n",
    "        lst.append(e)\n",
    "print(lst)"
   ]
  },
  {
   "cell_type": "code",
   "execution_count": 49,
   "metadata": {},
   "outputs": [
    {
     "name": "stdout",
     "output_type": "stream",
     "text": [
      "<generator object <genexpr> at 0x7ff940b7b1a8>\n"
     ]
    }
   ],
   "source": [
    "# Caution: a generator!\n",
    "lst = (e for e in range(5))\n",
    "print(lst)"
   ]
  },
  {
   "cell_type": "code",
   "execution_count": 50,
   "metadata": {},
   "outputs": [
    {
     "name": "stdout",
     "output_type": "stream",
     "text": [
      "{'Technology': 'Included', 'Conglomerate': 'Included', 'Insurance': 'Excluded', 'Transportation': 'Included'}\n"
     ]
    }
   ],
   "source": [
    "lst = [\n",
    "    ('Technology','Included'),\n",
    "    ('Conglomerate','Included'),\n",
    "    ('Insurance','Excluded'),\n",
    "    (\"Transportation\",\"Included\")\n",
    "]\n",
    "d = {k:v for k,v in lst}\n",
    "print(d)"
   ]
  },
  {
   "cell_type": "code",
   "execution_count": 51,
   "metadata": {},
   "outputs": [
    {
     "data": {
      "text/plain": [
       "{'Technology': 'Included',\n",
       " 'Conglomerate': 'Included',\n",
       " 'Insurance': 'Excluded',\n",
       " 'Transportation': 'Included'}"
      ]
     },
     "execution_count": 51,
     "metadata": {},
     "output_type": "execute_result"
    }
   ],
   "source": [
    "# this is much easier\n",
    "dict(lst)"
   ]
  },
  {
   "cell_type": "markdown",
   "metadata": {},
   "source": [
    "#### `continue` and `break`"
   ]
  },
  {
   "cell_type": "code",
   "execution_count": 53,
   "metadata": {
    "scrolled": true
   },
   "outputs": [
    {
     "name": "stdout",
     "output_type": "stream",
     "text": [
      "0\n",
      "1\n",
      "5\n",
      "6\n",
      "7\n",
      "8\n",
      "9\n"
     ]
    }
   ],
   "source": [
    "for i in range(10):\n",
    "    if 1 < i < 5:\n",
    "        continue\n",
    "    print(i)"
   ]
  },
  {
   "cell_type": "code",
   "execution_count": 54,
   "metadata": {},
   "outputs": [
    {
     "name": "stdout",
     "output_type": "stream",
     "text": [
      "0\n",
      "1\n",
      "2\n",
      "3\n",
      "4\n"
     ]
    }
   ],
   "source": [
    "for i in range(10):\n",
    "    if i == 5:\n",
    "        break\n",
    "    print(i)"
   ]
  },
  {
   "cell_type": "code",
   "execution_count": null,
   "metadata": {},
   "outputs": [],
   "source": [
    "# add a more sophisticated examples for `break` <---------------------------- ARAS"
   ]
  },
  {
   "cell_type": "markdown",
   "metadata": {},
   "source": [
    "## While Loop\n",
    "\n",
    "For loop with a break condition that goes forever if not stopped..."
   ]
  },
  {
   "cell_type": "code",
   "execution_count": 55,
   "metadata": {},
   "outputs": [
    {
     "name": "stdout",
     "output_type": "stream",
     "text": [
      "0\n",
      "1\n",
      "2\n",
      "3\n",
      "4\n",
      "5\n",
      "6\n",
      "7\n",
      "8\n"
     ]
    }
   ],
   "source": [
    "num = 0\n",
    "\n",
    "while num < 9:\n",
    "    # more computation here\n",
    "    print(num)\n",
    "    num += 1 # num = num + 1"
   ]
  },
  {
   "cell_type": "code",
   "execution_count": 88,
   "metadata": {},
   "outputs": [
    {
     "name": "stdout",
     "output_type": "stream",
     "text": [
      "i is 0\n",
      "i is 1\n",
      "i is 2\n",
      "i is 3\n",
      "i is 4\n",
      "i is 5\n",
      "i is 6\n",
      "i is 7\n",
      "i is 8\n",
      "i is 9\n"
     ]
    }
   ],
   "source": [
    "# make it more sophisticated <-------------------- ARAS\n",
    "i = 0\n",
    "\n",
    "while i < 10:\n",
    "    print(\"i is\",i)\n",
    "    i += 1 # <--------- do not forget this increment"
   ]
  },
  {
   "cell_type": "code",
   "execution_count": 9,
   "metadata": {},
   "outputs": [
    {
     "name": "stdout",
     "output_type": "stream",
     "text": [
      "Please enter an integer between 1 and 10: 88\n",
      "Invalid value!!!!\n",
      "Please enter an integer between 1 and 10: 4\n",
      "Congrats!!...\n"
     ]
    }
   ],
   "source": [
    "# make it more sophisticated - playing a game with computer? <------------ ARAS\n",
    "number = int(input(\"Please enter an integer between 1 and 10: \"))\n",
    "\n",
    "while number < 1 or number > 10:\n",
    "    print(\"Invalid value!!!!\")\n",
    "    number = int(input(\"Please enter an integer between 1 and 10: \"))\n",
    "     \n",
    "print(\"Congrats!!...\")"
   ]
  },
  {
   "cell_type": "code",
   "execution_count": 56,
   "metadata": {},
   "outputs": [],
   "source": [
    "# a = 0\n",
    "\n",
    "# while a < 20:\n",
    "#     a += 1\n",
    "#     if a % 2 == 0:\n",
    "#         print(a)"
   ]
  },
  {
   "cell_type": "code",
   "execution_count": 15,
   "metadata": {},
   "outputs": [
    {
     "name": "stdout",
     "output_type": "stream",
     "text": [
      "toplam: 1681\n"
     ]
    }
   ],
   "source": [
    "x = 0\n",
    "result = 0\n",
    "\n",
    "while x <= 80:\n",
    "    x+=1\n",
    "    if x % 2 == 0:\n",
    "        continue\n",
    "    result += x\n",
    "\n",
    "print(f'toplam: {result}')"
   ]
  },
  {
   "cell_type": "code",
   "execution_count": 14,
   "metadata": {},
   "outputs": [],
   "source": [
    "# add a while example with a break <------------------- ARAS"
   ]
  },
  {
   "cell_type": "markdown",
   "metadata": {},
   "source": [
    "## Function definitions\n",
    "\n",
    "Make a precise definition of what a function is..................."
   ]
  },
  {
   "cell_type": "code",
   "execution_count": 18,
   "metadata": {},
   "outputs": [],
   "source": [
    "def function_name(arguments):\n",
    "    # calculations\n",
    "    return"
   ]
  },
  {
   "cell_type": "code",
   "execution_count": 16,
   "metadata": {},
   "outputs": [],
   "source": [
    "def hello():\n",
    "    print(\"Hi there!\")"
   ]
  },
  {
   "cell_type": "code",
   "execution_count": 17,
   "metadata": {},
   "outputs": [
    {
     "name": "stdout",
     "output_type": "stream",
     "text": [
      "Hi my friend\n"
     ]
    }
   ],
   "source": [
    "hello()"
   ]
  },
  {
   "cell_type": "code",
   "execution_count": 18,
   "metadata": {},
   "outputs": [],
   "source": [
    "def hello(name):\n",
    "    print(\"Hi\" , name)"
   ]
  },
  {
   "cell_type": "code",
   "execution_count": 20,
   "metadata": {
    "scrolled": true
   },
   "outputs": [
    {
     "name": "stdout",
     "output_type": "stream",
     "text": [
      "Hi Jane\n",
      "Hi Dave\n",
      "Hi John\n",
      "Hi Felix\n"
     ]
    }
   ],
   "source": [
    "hello(\"Jane\")\n",
    "hello(\"Dave\")\n",
    "hello(\"John\")\n",
    "hello(\"Felix\")"
   ]
  },
  {
   "cell_type": "code",
   "execution_count": 21,
   "metadata": {},
   "outputs": [
    {
     "ename": "TypeError",
     "evalue": "hello() missing 1 required positional argument: 'name'",
     "output_type": "error",
     "traceback": [
      "\u001b[1;31m---------------------------------------------------------------------------\u001b[0m",
      "\u001b[1;31mTypeError\u001b[0m                                 Traceback (most recent call last)",
      "\u001b[1;32m<ipython-input-21-a75d7781aaeb>\u001b[0m in \u001b[0;36m<module>\u001b[1;34m\u001b[0m\n\u001b[1;32m----> 1\u001b[1;33m \u001b[0mhello\u001b[0m\u001b[1;33m(\u001b[0m\u001b[1;33m)\u001b[0m\u001b[1;33m\u001b[0m\u001b[1;33m\u001b[0m\u001b[0m\n\u001b[0m",
      "\u001b[1;31mTypeError\u001b[0m: hello() missing 1 required positional argument: 'name'"
     ]
    }
   ],
   "source": [
    "hello()"
   ]
  },
  {
   "cell_type": "code",
   "execution_count": 22,
   "metadata": {},
   "outputs": [],
   "source": [
    "def hello(name=\"coder\"):\n",
    "    print(\"Hi\" , name)"
   ]
  },
  {
   "cell_type": "code",
   "execution_count": 23,
   "metadata": {},
   "outputs": [
    {
     "name": "stdout",
     "output_type": "stream",
     "text": [
      "Hi coder\n"
     ]
    }
   ],
   "source": [
    "hello()"
   ]
  },
  {
   "cell_type": "code",
   "execution_count": null,
   "metadata": {},
   "outputs": [],
   "source": [
    "# word counter function <--------- ARAS"
   ]
  },
  {
   "cell_type": "code",
   "execution_count": null,
   "metadata": {},
   "outputs": [],
   "source": [
    "# a simpler function here <------------------------- 2-3 ARAS"
   ]
  },
  {
   "cell_type": "code",
   "execution_count": 70,
   "metadata": {},
   "outputs": [],
   "source": [
    "def factorial(number):\n",
    "    result = 1\n",
    "    if number == 0 or number == 1:\n",
    "        return result\n",
    "    else:\n",
    "        while number >= 1:\n",
    "            result *= number\n",
    "            number -=1\n",
    "        return result"
   ]
  },
  {
   "cell_type": "code",
   "execution_count": 61,
   "metadata": {},
   "outputs": [
    {
     "data": {
      "text/plain": [
       "1"
      ]
     },
     "execution_count": 61,
     "metadata": {},
     "output_type": "execute_result"
    }
   ],
   "source": [
    "factorial(1)"
   ]
  },
  {
   "cell_type": "code",
   "execution_count": 78,
   "metadata": {
    "scrolled": true
   },
   "outputs": [
    {
     "data": {
      "text/plain": [
       "5040"
      ]
     },
     "execution_count": 78,
     "metadata": {},
     "output_type": "execute_result"
    }
   ],
   "source": [
    "factorial(7)"
   ]
  },
  {
   "cell_type": "code",
   "execution_count": null,
   "metadata": {},
   "outputs": [],
   "source": [
    "def factorial(number):\n",
    "    result = 1\n",
    "    if number == 0 or number == 1:\n",
    "        return result\n",
    "    elif number < 0:\n",
    "        return None\n",
    "    else:\n",
    "        while number >= 1:\n",
    "            result *= number\n",
    "            number -=1\n",
    "        return result"
   ]
  },
  {
   "cell_type": "code",
   "execution_count": 80,
   "metadata": {},
   "outputs": [],
   "source": [
    "def factorial(number):\n",
    "    result = 1\n",
    "    if isinstance(number,int):\n",
    "        if number == 0 or number == 1:\n",
    "            return result\n",
    "        elif number < 0:\n",
    "            return None\n",
    "        else:\n",
    "            while number >= 1:\n",
    "                result *= number\n",
    "                number -=1\n",
    "            return result\n",
    "    else:\n",
    "        return None"
   ]
  },
  {
   "cell_type": "code",
   "execution_count": 81,
   "metadata": {},
   "outputs": [],
   "source": [
    "factorial(-5)"
   ]
  },
  {
   "cell_type": "code",
   "execution_count": 82,
   "metadata": {},
   "outputs": [],
   "source": [
    "factorial(-5.22)"
   ]
  },
  {
   "cell_type": "markdown",
   "metadata": {},
   "source": [
    "#### Example: Bubble Sort\n",
    "\n",
    "Açıklama\n",
    "Add pseudocode"
   ]
  },
  {
   "cell_type": "code",
   "execution_count": 99,
   "metadata": {},
   "outputs": [],
   "source": [
    "dataList=[20,-5,15,7,7.0,13.91]\n",
    "\n",
    "def bubble_sort(nums):\n",
    "    size = len(nums)\n",
    "    \n",
    "    for i in range(size):\n",
    "        for j in range(size-1):\n",
    "            if nums[j] > nums[j+1]:\n",
    "                nums[j], nums[j+1] = nums[j+1], nums[j]\n",
    "\n",
    "    return nums"
   ]
  },
  {
   "cell_type": "code",
   "execution_count": 100,
   "metadata": {},
   "outputs": [
    {
     "data": {
      "text/plain": [
       "[-5, 7, 7.0, 13.91, 15, 20]"
      ]
     },
     "execution_count": 100,
     "metadata": {},
     "output_type": "execute_result"
    }
   ],
   "source": [
    "bubble_sort(dataList)"
   ]
  },
  {
   "cell_type": "code",
   "execution_count": null,
   "metadata": {},
   "outputs": [],
   "source": [
    "# implement: binary search (prerequisite: sorting) MERT <-------------------"
   ]
  },
  {
   "cell_type": "code",
   "execution_count": 3,
   "metadata": {},
   "outputs": [
    {
     "name": "stdout",
     "output_type": "stream",
     "text": [
      "[0, 1, 2, 3, 4, 5, 6, 7, 8, 9]\n"
     ]
    }
   ],
   "source": [
    "def ret_list(): # <----- need a more appropriate name ARAS\n",
    "    list = []\n",
    "    for i in range(0,10):\n",
    "        list.append(i)\n",
    "    return list\n",
    "a = ret_list()\n",
    "print(a)"
   ]
  },
  {
   "cell_type": "code",
   "execution_count": 115,
   "metadata": {},
   "outputs": [],
   "source": [
    "# definition = \"Python includes back end development, software development, data science and writing system scripts.\"\n",
    "\n",
    "# list_seperate = definition.split()\n",
    " \n",
    "# print(list_seperate)"
   ]
  },
  {
   "cell_type": "code",
   "execution_count": 116,
   "metadata": {},
   "outputs": [],
   "source": [
    "# list_seperate[5].capitalize()\n",
    "# list_seperate"
   ]
  },
  {
   "cell_type": "code",
   "execution_count": 21,
   "metadata": {},
   "outputs": [
    {
     "name": "stdout",
     "output_type": "stream",
     "text": [
      "the number of letter e in the sentence: 12\n"
     ]
    }
   ],
   "source": [
    "# count each word <------------------- ARAS\n",
    "# output should be like: {\"Python\":4,\"back\":1,\"development\":1} (before these: convert to lowercase)\n",
    "definition = \"Python includes back end development, software development, data science and writing system scripts.\"\n",
    "\n",
    "letter = \"e\"\n",
    "counter = 0\n",
    "\n",
    "for i in definition:\n",
    "    if i == \"e\":\n",
    "        counter = counter + 1\n",
    "        \n",
    "print(\"the number of letter e in the sentence:\" , counter )\n"
   ]
  },
  {
   "cell_type": "code",
   "execution_count": 15,
   "metadata": {},
   "outputs": [
    {
     "name": "stdout",
     "output_type": "stream",
     "text": [
      "{'product': 'hat', 'cost': 10}\n",
      "\n",
      "    This function create a dictionary about a product and its cost.\n",
      "    \n",
      "    \n"
     ]
    }
   ],
   "source": [
    "def ret_dict(): # <--------- NAMING PROBLEMS ARAS\n",
    "    '''\n",
    "    This function create a dictionary about a product and its cost.\n",
    "    \n",
    "    '''\n",
    "    \n",
    "    b = dict()\n",
    "    b['product'] = \"hat\"\n",
    "    b['cost']   = 10\n",
    "    return b\n",
    "print(ret_dict())\n",
    "print(ret_dict.__doc__)"
   ]
  },
  {
   "cell_type": "code",
   "execution_count": 17,
   "metadata": {},
   "outputs": [
    {
     "name": "stdout",
     "output_type": "stream",
     "text": [
      "{'product': 'hat', 'cost': 10}\n",
      "dict() -> new empty dictionary\n",
      "dict(mapping) -> new dictionary initialized from a mapping object's\n",
      "    (key, value) pairs\n",
      "dict(iterable) -> new dictionary initialized as if via:\n",
      "    d = {}\n",
      "    for k, v in iterable:\n",
      "        d[k] = v\n",
      "dict(**kwargs) -> new dictionary initialized with the name=value pairs\n",
      "    in the keyword argument list.  For example:  dict(one=1, two=2)\n"
     ]
    }
   ],
   "source": [
    "def ret_dict(): # <--------- NAMING PROBLEMS ARAS\n",
    "    '''\n",
    "    This function create a dictionary about a product and its cost.\n",
    "    \n",
    "    '''\n",
    "    \n",
    "    b = dict()\n",
    "    b['product'] = \"hat\"\n",
    "    b['cost']   = 10\n",
    "    return b\n",
    "print(ret_dict())\n",
    "print(ret_dict().__doc__)"
   ]
  },
  {
   "cell_type": "code",
   "execution_count": 28,
   "metadata": {},
   "outputs": [
    {
     "name": "stdout",
     "output_type": "stream",
     "text": [
      "40\n"
     ]
    }
   ],
   "source": [
    "def multiply(x,y):\n",
    "    result = x * y\n",
    "    return result\n",
    "\n",
    "print(multiply(5,8))"
   ]
  },
  {
   "cell_type": "code",
   "execution_count": 26,
   "metadata": {},
   "outputs": [
    {
     "name": "stdout",
     "output_type": "stream",
     "text": [
      "-768\n"
     ]
    }
   ],
   "source": [
    "def multiply_2(*numbers):\n",
    "    result = 1\n",
    "    for number in numbers:\n",
    "        result *= number\n",
    "    return result\n",
    "\n",
    "print(multiply_2(8,-4,6,4))"
   ]
  },
  {
   "cell_type": "code",
   "execution_count": 34,
   "metadata": {},
   "outputs": [
    {
     "name": "stdout",
     "output_type": "stream",
     "text": [
      "Sum: 8\n",
      "Sum: 18\n",
      "Sum: 16\n"
     ]
    }
   ],
   "source": [
    "def adder(*number):\n",
    "    sum = 0\n",
    "    \n",
    "    for n in number:\n",
    "        sum = sum + n\n",
    "\n",
    "    print(\"Sum:\",sum)\n",
    "\n",
    "adder(3,5)\n",
    "adder(3,4,5,6)\n",
    "adder(1,2,3,5,5)"
   ]
  },
  {
   "cell_type": "code",
   "execution_count": null,
   "metadata": {},
   "outputs": [],
   "source": [
    "def info(**kwargs):  ## <--------------------- ARAS\n",
    "    ................."
   ]
  },
  {
   "cell_type": "code",
   "execution_count": 44,
   "metadata": {
    "scrolled": true
   },
   "outputs": [
    {
     "name": "stdout",
     "output_type": "stream",
     "text": [
      "Firstname is Dave\n",
      "Lastname is Goldman\n",
      "Age is 22\n",
      "Phone is 12345678910\n",
      "None\n"
     ]
    }
   ],
   "source": [
    "print(info(**worker))"
   ]
  },
  {
   "cell_type": "code",
   "execution_count": 47,
   "metadata": {},
   "outputs": [
    {
     "name": "stdout",
     "output_type": "stream",
     "text": [
      "Firstname is Jane\n",
      "Lastname is Wood\n",
      "Age is 24\n",
      "Phone is 46879478478\n",
      "email is janewood@nomail.com\n",
      "None\n"
     ]
    }
   ],
   "source": [
    "worker_2 = {\"Firstname\":\"Jane\", \"Lastname\":\"Wood\", \"Age\":24, \"Phone\":46879478478, \"email\":\"janewood@nomail.com\"}\n",
    "print(info(**worker_2))"
   ]
  },
  {
   "cell_type": "code",
   "execution_count": 38,
   "metadata": {},
   "outputs": [
    {
     "name": "stdout",
     "output_type": "stream",
     "text": [
      "{'Dave': 1.8, 'Rachel': 1.68, 'Samantha': 1.75, 'Debra': 1.86}\n",
      "<class 'dict'>\n",
      "None\n"
     ]
    }
   ],
   "source": [
    "## MODIFY THIS, WORK ON IT <----------- ARAS\n",
    "def height(**person):\n",
    "    print(person)\n",
    "    print(type(person))\n",
    "    \n",
    "employees = {\"Dave\": 1.80, \"Rachel\": 1.68, \"Samantha\": 1.75, \"Debra\": 1.86}\n",
    "\n",
    "print(height(**employees))"
   ]
  },
  {
   "cell_type": "code",
   "execution_count": 39,
   "metadata": {
    "scrolled": true
   },
   "outputs": [
    {
     "name": "stdout",
     "output_type": "stream",
     "text": [
      "{'dave': 1.78, 'rachel': 1.94}\n",
      "<class 'dict'>\n"
     ]
    }
   ],
   "source": [
    "height(dave=1.78,rachel=1.94)"
   ]
  },
  {
   "cell_type": "code",
   "execution_count": 101,
   "metadata": {
    "scrolled": true
   },
   "outputs": [
    {
     "name": "stdout",
     "output_type": "stream",
     "text": [
      "Dave:1.8\n",
      "Rachel:1.68\n",
      "Samantha:1.75\n",
      "{'Dave': 1.8, 'Rachel': 1.68, 'Samantha': 1.75}\n"
     ]
    }
   ],
   "source": [
    "# FILTER A GIVEN DICTIONARY, FUNCTION NAME !!! ARAS\n",
    "def height_2(**person):\n",
    "    out = {}\n",
    "    for employee,height in employees.items():\n",
    "        if height <= 1.80:\n",
    "            print(f'{employee}:{height}')\n",
    "            out[employee] = height\n",
    "    return out\n",
    "employees = {\"Dave\": 1.80, \"Rachel\": 1.68, \"Samantha\": 1.75, \"Debra\": 1.86}\n",
    "\n",
    "print(height_2(**employees))"
   ]
  },
  {
   "cell_type": "markdown",
   "metadata": {},
   "source": [
    "## `lambda` functions"
   ]
  },
  {
   "cell_type": "code",
   "execution_count": 106,
   "metadata": {},
   "outputs": [],
   "source": [
    "square = lambda x: x**2"
   ]
  },
  {
   "cell_type": "code",
   "execution_count": 107,
   "metadata": {},
   "outputs": [
    {
     "data": {
      "text/plain": [
       "25"
      ]
     },
     "execution_count": 107,
     "metadata": {},
     "output_type": "execute_result"
    }
   ],
   "source": [
    "square(5)"
   ]
  },
  {
   "cell_type": "code",
   "execution_count": 108,
   "metadata": {},
   "outputs": [],
   "source": [
    "def square(x):\n",
    "    return x**2"
   ]
  },
  {
   "cell_type": "code",
   "execution_count": 109,
   "metadata": {},
   "outputs": [
    {
     "data": {
      "text/plain": [
       "25"
      ]
     },
     "execution_count": 109,
     "metadata": {},
     "output_type": "execute_result"
    }
   ],
   "source": [
    "square(5)"
   ]
  },
  {
   "cell_type": "code",
   "execution_count": 111,
   "metadata": {},
   "outputs": [],
   "source": [
    "# ??\n",
    "def triangle_area(h,x): # <----------------- apropriate function argument names !!!\n",
    "    return x*h/2"
   ]
  },
  {
   "cell_type": "code",
   "execution_count": 112,
   "metadata": {},
   "outputs": [
    {
     "data": {
      "text/plain": [
       "10.0"
      ]
     },
     "execution_count": 112,
     "metadata": {},
     "output_type": "execute_result"
    }
   ],
   "source": [
    "triangle_area(5,4)"
   ]
  },
  {
   "cell_type": "code",
   "execution_count": 113,
   "metadata": {},
   "outputs": [],
   "source": [
    "triangle_area = lambda m,n : m*n/2"
   ]
  },
  {
   "cell_type": "code",
   "execution_count": 114,
   "metadata": {},
   "outputs": [
    {
     "data": {
      "text/plain": [
       "66.0"
      ]
     },
     "execution_count": 114,
     "metadata": {},
     "output_type": "execute_result"
    }
   ],
   "source": [
    "triangle_area(6,22)"
   ]
  },
  {
   "cell_type": "code",
   "execution_count": 54,
   "metadata": {},
   "outputs": [
    {
     "name": "stdout",
     "output_type": "stream",
     "text": [
      "[8, 4, 6, 0, 18]\n"
     ]
    }
   ],
   "source": [
    "list1 = [8, 4, 99, 6, 0, 11, 18]\n",
    "\n",
    "new_list = list(filter(lambda x:(x%2 == 0), list1))\n",
    "\n",
    "print(new_list)"
   ]
  },
  {
   "cell_type": "code",
   "execution_count": 1,
   "metadata": {},
   "outputs": [
    {
     "name": "stdout",
     "output_type": "stream",
     "text": [
      "[25, 36, 64, 81]\n"
     ]
    }
   ],
   "source": [
    "list_2 = [5,6,8,9]\n",
    "\n",
    "list_square = list(map(lambda x:x**2, list_2))\n",
    "\n",
    "print(list_square)"
   ]
  },
  {
   "cell_type": "code",
   "execution_count": 4,
   "metadata": {},
   "outputs": [
    {
     "name": "stdout",
     "output_type": "stream",
     "text": [
      "720\n"
     ]
    }
   ],
   "source": [
    "from functools import reduce\n",
    "\n",
    "list_3 = [1,2,3,4,5,6]\n",
    "\n",
    "# write factorial function using reduce\n",
    "result_multiply = reduce(lambda x,y:x*y, list_3)\n",
    "\n",
    "print(result_multiply)"
   ]
  },
  {
   "cell_type": "code",
   "execution_count": null,
   "metadata": {},
   "outputs": [],
   "source": [
    "# VARIABLE SCOPES !!!! <-------------------------------------------------- MERT"
   ]
  },
  {
   "cell_type": "code",
   "execution_count": 77,
   "metadata": {},
   "outputs": [],
   "source": [
    "# recursive function example\n",
    "def fibonacci(number):\n",
    "    if number == 0 or number == 1:\n",
    "        return 1\n",
    "    else:\n",
    "        return fibonacci(number-1) + fibonacci(number-2)"
   ]
  },
  {
   "cell_type": "markdown",
   "metadata": {},
   "source": [
    "## Example project\n",
    "\n",
    "do an example here"
   ]
  },
  {
   "cell_type": "markdown",
   "metadata": {},
   "source": [
    "## Project\n",
    "\n",
    "assignment"
   ]
  },
  {
   "cell_type": "code",
   "execution_count": null,
   "metadata": {},
   "outputs": [],
   "source": []
  }
 ],
 "metadata": {
  "kernelspec": {
   "display_name": "Python 3",
   "language": "python",
   "name": "python3"
  },
  "language_info": {
   "codemirror_mode": {
    "name": "ipython",
    "version": 3
   },
   "file_extension": ".py",
   "mimetype": "text/x-python",
   "name": "python",
   "nbconvert_exporter": "python",
   "pygments_lexer": "ipython3",
   "version": "3.6.9"
  }
 },
 "nbformat": 4,
 "nbformat_minor": 4
}
