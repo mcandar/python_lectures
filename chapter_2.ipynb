{
 "cells": [
  {
   "cell_type": "markdown",
   "metadata": {},
   "source": [
    "# CHAPTER 2\n",
    "\n",
    "Starting with the loops, we will cover also functions and dive into details of these both concepts in python programming. These are some of the building blocks of python, and also programming, in general. Together with `if` statements, these two concepts are frequently used in programming.\n",
    "\n",
    "## Learning Goals\n",
    "\n",
    "* Loops\n",
    "* Functions\n",
    "\n",
    "## Authors\n",
    "\n",
    "- Mert Candar, mccandar@gmail.com\n",
    "- Aras Kahraman, aras.kahraman@hotmail.com"
   ]
  },
  {
   "cell_type": "markdown",
   "metadata": {},
   "source": [
    "## Section 1: Loops\n",
    "\n",
    "Loops enable repeating a computation many times."
   ]
  },
  {
   "cell_type": "markdown",
   "metadata": {},
   "source": [
    "### 1. `for` Loop"
   ]
  },
  {
   "cell_type": "code",
   "execution_count": null,
   "metadata": {},
   "outputs": [],
   "source": [
    "for i in range(0,5):\n",
    "    print(i)"
   ]
  },
  {
   "cell_type": "code",
   "execution_count": null,
   "metadata": {},
   "outputs": [],
   "source": [
    "# is the same with\n",
    "i = 0\n",
    "print(i)\n",
    "i = 1\n",
    "print(i)\n",
    "i = 2\n",
    "print(i)\n",
    "i = 3\n",
    "print(i)\n",
    "i = 4\n",
    "print(i)"
   ]
  },
  {
   "cell_type": "code",
   "execution_count": null,
   "metadata": {},
   "outputs": [],
   "source": [
    "for i in range(2,5):\n",
    "    print(i)"
   ]
  },
  {
   "cell_type": "code",
   "execution_count": null,
   "metadata": {},
   "outputs": [],
   "source": [
    "for i in range(2,15,3):\n",
    "    print(i)"
   ]
  },
  {
   "cell_type": "code",
   "execution_count": null,
   "metadata": {},
   "outputs": [],
   "source": [
    "for i in range(20,5,-2):\n",
    "    print(i)"
   ]
  },
  {
   "cell_type": "code",
   "execution_count": null,
   "metadata": {},
   "outputs": [],
   "source": [
    "lst = ['Products','Services','Team']\n",
    "\n",
    "size = len(lst)\n",
    "for i in range(size):\n",
    "    print(lst[i])"
   ]
  },
  {
   "cell_type": "code",
   "execution_count": null,
   "metadata": {},
   "outputs": [],
   "source": [
    "for e in lst:\n",
    "    print(e)"
   ]
  },
  {
   "cell_type": "code",
   "execution_count": null,
   "metadata": {},
   "outputs": [],
   "source": [
    "# is the same with\n",
    "e = lst[0]\n",
    "print(e)\n",
    "e = lst[1]\n",
    "print(e)\n",
    "e = lst[2]\n",
    "print(e)"
   ]
  },
  {
   "cell_type": "code",
   "execution_count": null,
   "metadata": {},
   "outputs": [],
   "source": [
    "word = \"Structure\"\n",
    "for character in word:\n",
    "    print(character)"
   ]
  },
  {
   "cell_type": "code",
   "execution_count": null,
   "metadata": {},
   "outputs": [],
   "source": [
    "lst = [(1,2),(3,4),(5,6),(7,8)]\n",
    "\n",
    "for i,k in lst:\n",
    "    print(i,k)"
   ]
  },
  {
   "cell_type": "code",
   "execution_count": null,
   "metadata": {},
   "outputs": [],
   "source": [
    "# is the same with\n",
    "i, k = lst[0][0], lst[0][1]\n",
    "print(i,k)\n",
    "i, k = lst[1][0], lst[1][1]\n",
    "print(i,k)\n",
    "i, k = lst[2][0], lst[2][1]\n",
    "print(i,k)\n",
    "i, k = lst[3][0], lst[3][1]\n",
    "print(i,k)"
   ]
  },
  {
   "cell_type": "code",
   "execution_count": null,
   "metadata": {},
   "outputs": [],
   "source": [
    "words = \"Python Instructions\".split()\n",
    "for i in words:\n",
    "    print(i)"
   ]
  },
  {
   "cell_type": "code",
   "execution_count": null,
   "metadata": {},
   "outputs": [],
   "source": [
    "products = {\"Skirt\":11.50,\"Hat\":15.50,\"Shoe\":18.00,\"Shirt\":4.70}\n",
    "products"
   ]
  },
  {
   "cell_type": "code",
   "execution_count": null,
   "metadata": {},
   "outputs": [],
   "source": [
    "for product in products.keys(): # Just `products` will do the same\n",
    "    print(product)"
   ]
  },
  {
   "cell_type": "code",
   "execution_count": null,
   "metadata": {},
   "outputs": [],
   "source": [
    "for product in products.values():\n",
    "    print(product)"
   ]
  },
  {
   "cell_type": "code",
   "execution_count": null,
   "metadata": {},
   "outputs": [],
   "source": [
    "for product,cost in products.items():\n",
    "    print(product,cost)"
   ]
  },
  {
   "cell_type": "code",
   "execution_count": null,
   "metadata": {
    "scrolled": true
   },
   "outputs": [],
   "source": [
    "for i in range(10):\n",
    "    for j in range(10):\n",
    "        for k in range(10): # mind the computational cost at some point\n",
    "            print(\"\".join([str(i),str(j),str(k)]))"
   ]
  },
  {
   "cell_type": "code",
   "execution_count": null,
   "metadata": {},
   "outputs": [],
   "source": [
    "vw_models = {'Polo','Golf','Passat'}\n",
    "\n",
    "vehicle = {\n",
    "    \"Type\": \"Automobile\",\n",
    "    \"Class\": \"Compact\",\n",
    "    \"Brand\": \"Volkswagen\",\n",
    "    \"Model\": \"Corolla\",\n",
    "    \"Year\": 2105,\n",
    "    \"Status\": \"New\",\n",
    "    \"Used\": True,\n",
    "    \"Eligible\": None,\n",
    "}\n",
    "\n",
    "print(\"Ad is received:\")\n",
    "print(vehicle)\n",
    "for k,v in vehicle.items():\n",
    "    \n",
    "    if k == \"Year\" and v >= 2021:\n",
    "        vehicle[k] = \"N/A\"\n",
    "        \n",
    "    if k == \"Brand\":\n",
    "        if vehicle[\"Model\"] not in vw_models:\n",
    "            vehicle[\"Eligible\"] = False\n",
    "            vehicle[\"Model\"] = \"N/A\"\n",
    "print()\n",
    "print(\"Ad is checked:\")\n",
    "print(vehicle)"
   ]
  },
  {
   "cell_type": "markdown",
   "metadata": {},
   "source": [
    "### The role of `enumerate`"
   ]
  },
  {
   "cell_type": "code",
   "execution_count": null,
   "metadata": {
    "scrolled": true
   },
   "outputs": [],
   "source": [
    "lst = [\n",
    "    \"Linear Programming\",\n",
    "    \"Integer Programming\",\n",
    "    \"Mixed-Integer Linear Programming\",\n",
    "    \"Dynamic Programming\",\n",
    "    \"Quadratic Programming\"\n",
    "]\n",
    "for i,e in enumerate(lst):\n",
    "    print(i,e)"
   ]
  },
  {
   "cell_type": "code",
   "execution_count": null,
   "metadata": {},
   "outputs": [],
   "source": [
    "# is the same with\n",
    "i = 0\n",
    "for e in lst:\n",
    "    print(i,e)\n",
    "    i += 1"
   ]
  },
  {
   "cell_type": "code",
   "execution_count": null,
   "metadata": {},
   "outputs": [],
   "source": [
    "s = \"Counting the letters!\"\n",
    "for i,e in enumerate(s):\n",
    "    print(i,e)"
   ]
  },
  {
   "cell_type": "code",
   "execution_count": null,
   "metadata": {},
   "outputs": [],
   "source": [
    "costs = {\n",
    "    \"Labor\": 55000.0,\n",
    "    \"Raw material\": 127000.0,\n",
    "    \"Prefabrication\": 62000.0,\n",
    "    \"Shipping & transportation\": 28000.0,\n",
    "    \"Tax\" : 50000.0,\n",
    "    \"Delay cost per week\": 5000.0,\n",
    "    \"Unit\": \"Euro\",\n",
    "}\n",
    "for i,(k,v) in enumerate(costs.items()):\n",
    "    print(i,\"-\",k,\":\",v)"
   ]
  },
  {
   "cell_type": "markdown",
   "metadata": {},
   "source": [
    "### `zip` lists together\n",
    "\n",
    "`zip` binds the elements of lists together, in an element-wise way."
   ]
  },
  {
   "cell_type": "code",
   "execution_count": null,
   "metadata": {},
   "outputs": [],
   "source": [
    "electronics = [\n",
    "    \"Camera & Photo\",\n",
    "    \"Computers\",\n",
    "    \"Audio Accessories\",\n",
    "    \"TV & Video\",\n",
    "    \"Smartphones\",\n",
    "    \"Wearable Technology\"\n",
    "]\n",
    "home_appliances = [\n",
    "    \"Cooking & Dining\",\n",
    "    \"Appliances\",\n",
    "    \"Furniture\",\n",
    "    \"Bedding & Linens\",\n",
    "    \"Laundry & Storage\",\n",
    "    \"Lighting\"\n",
    "]\n",
    "\n",
    "for c1,c2 in zip(electronics,home_appliances):\n",
    "    print(c1,\"|\",c2)"
   ]
  },
  {
   "cell_type": "code",
   "execution_count": null,
   "metadata": {},
   "outputs": [],
   "source": [
    "beauty = [\n",
    "    \"Fragrance\",\n",
    "    \"Skin Care\",\n",
    "    \"Make-up\",\n",
    "    \"Hair Care\",\n",
    "    \"Bath & Body\",\n",
    "    \"Men's Grooming\"\n",
    "]\n",
    "\n",
    "for c1,c2,c3 in zip(electronics,home_appliances,beauty):\n",
    "    print(c1,\"|\",c2,\"|\",c3)"
   ]
  },
  {
   "cell_type": "code",
   "execution_count": null,
   "metadata": {},
   "outputs": [],
   "source": [
    "# a list of grades\n",
    "for l1,l2 in zip(\"ABBCCDDF\",\"AABBCCDF\"):\n",
    "    print(\"\".join([l1,l2]))"
   ]
  },
  {
   "cell_type": "code",
   "execution_count": null,
   "metadata": {},
   "outputs": [],
   "source": [
    "# mind the list lengths!\n",
    "l1 = [i for i in range(7)]\n",
    "l2 = [i for i in range(100)]\n",
    "for i,j in zip(l1,l2):\n",
    "    print(i,j)"
   ]
  },
  {
   "cell_type": "markdown",
   "metadata": {},
   "source": [
    "### Short version of `for` loop"
   ]
  },
  {
   "cell_type": "code",
   "execution_count": null,
   "metadata": {},
   "outputs": [],
   "source": [
    "lst = [e for e in range(5)]\n",
    "print(lst)"
   ]
  },
  {
   "cell_type": "code",
   "execution_count": null,
   "metadata": {},
   "outputs": [],
   "source": [
    "# is the same with\n",
    "lst = []\n",
    "for e in range(5):\n",
    "    lst.append(e)\n",
    "print(lst)"
   ]
  },
  {
   "cell_type": "code",
   "execution_count": null,
   "metadata": {},
   "outputs": [],
   "source": [
    "# nested for loops\n",
    "elems = [(-17,2,65),(22,20,47),(-1,-2,-5123)]\n",
    "lst = [e for elem in elems for e in elem]\n",
    "print(lst)"
   ]
  },
  {
   "cell_type": "code",
   "execution_count": null,
   "metadata": {},
   "outputs": [],
   "source": [
    "# is the same with\n",
    "lst = []\n",
    "for elem in elems:\n",
    "    for e in elem:\n",
    "        lst.append(e)\n",
    "print(lst)"
   ]
  },
  {
   "cell_type": "code",
   "execution_count": null,
   "metadata": {},
   "outputs": [],
   "source": [
    "# create a dictionary\n",
    "lst = [\n",
    "    ('Information Technology','Included'),\n",
    "    ('Energy','Included'),\n",
    "    ('Financials','Excluded'),\n",
    "    (\"Healthcare\",\"Included\"),\n",
    "    (\"Utilites\",\"Included\"),\n",
    "    (\"Real Estate\",\"Excluded\"),\n",
    "]\n",
    "d = {k:v for k,v in lst}\n",
    "d"
   ]
  },
  {
   "cell_type": "code",
   "execution_count": null,
   "metadata": {},
   "outputs": [],
   "source": [
    "# is the same with\n",
    "d = {}\n",
    "for k,v in lst:\n",
    "    d[k] = v\n",
    "d"
   ]
  },
  {
   "cell_type": "code",
   "execution_count": null,
   "metadata": {},
   "outputs": [],
   "source": [
    "# this is much easier\n",
    "d = dict(lst)\n",
    "d"
   ]
  },
  {
   "cell_type": "markdown",
   "metadata": {},
   "source": [
    "### `continue` and `break`"
   ]
  },
  {
   "cell_type": "code",
   "execution_count": null,
   "metadata": {
    "scrolled": true
   },
   "outputs": [],
   "source": [
    "for i in range(10):\n",
    "    if 1 < i < 5:\n",
    "        continue # pass to next step (i.e. skip)\n",
    "    print(i)"
   ]
  },
  {
   "cell_type": "code",
   "execution_count": null,
   "metadata": {},
   "outputs": [],
   "source": [
    "for i in range(10):\n",
    "    if i == 5:\n",
    "        break # stop the loop here\n",
    "    print(i)"
   ]
  },
  {
   "cell_type": "code",
   "execution_count": null,
   "metadata": {},
   "outputs": [],
   "source": [
    "print(\"Guess the number game!\")\n",
    "\n",
    "secret_num = 7\n",
    "user_answer = None\n",
    "n_tries = 10\n",
    "\n",
    "for i in range(n_tries):\n",
    "    user_answer = int(input(\"Enter a number between [0,9]:\"))\n",
    "    \n",
    "    if user_answer == secret_num:\n",
    "        print(\"Congrats! You've guessed the number correctly!\")\n",
    "        break\n",
    "    else:\n",
    "        print(\"Try again.\")"
   ]
  },
  {
   "cell_type": "markdown",
   "metadata": {},
   "source": [
    "### 2. `while` Loop\n",
    "\n",
    "For loop with a break condition that goes forever if not stopped..."
   ]
  },
  {
   "cell_type": "code",
   "execution_count": null,
   "metadata": {},
   "outputs": [],
   "source": [
    "n = 0\n",
    "\n",
    "while n < 9:\n",
    "    print(n)\n",
    "    n += 1"
   ]
  },
  {
   "cell_type": "code",
   "execution_count": null,
   "metadata": {},
   "outputs": [],
   "source": [
    "# is similarly\n",
    "n = 0\n",
    "for _ in range(1000000):\n",
    "    print(n)\n",
    "    n += 1\n",
    "    if not n < 9:\n",
    "        break"
   ]
  },
  {
   "cell_type": "code",
   "execution_count": null,
   "metadata": {},
   "outputs": [],
   "source": [
    "# Caution: This goes on forever!\n",
    "n = 0\n",
    "\n",
    "while n < 9: # <--- This condition have to be satisfied in a finite number of steps!\n",
    "    print(n)"
   ]
  },
  {
   "cell_type": "code",
   "execution_count": null,
   "metadata": {},
   "outputs": [],
   "source": [
    "number = int(input(\"Please enter a number: \"))\n",
    "total = 0\n",
    "i = 1\n",
    "\n",
    "while i <= number:\n",
    "    total += i\n",
    "    i += 1\n",
    "\n",
    "print(\"The sum is\", total)"
   ]
  },
  {
   "cell_type": "code",
   "execution_count": null,
   "metadata": {},
   "outputs": [],
   "source": [
    "print(\"Guess the number!\")\n",
    "\n",
    "secret_num = 7\n",
    "user_answer = None\n",
    "\n",
    "while user_answer != secret_num:\n",
    "    user_answer = int(input(\"Enter a number between [0,9]:\"))\n",
    "\n",
    "print(\"Congrats! You've guessed the number correctly!\")"
   ]
  },
  {
   "cell_type": "code",
   "execution_count": null,
   "metadata": {},
   "outputs": [],
   "source": [
    "print(\"Guess the number!\")\n",
    "\n",
    "secret_num = 7\n",
    "user_answer = None\n",
    "n_tries = 10\n",
    "n = 0\n",
    "\n",
    "while user_answer != secret_num:\n",
    "    user_answer = int(input(\"Enter a number between [0,9]:\"))\n",
    "    \n",
    "    if n >= n_tries:\n",
    "        print(\"Congrat! You've guessed the number correctly!\")\n",
    "        break\n",
    "    else:\n",
    "        print(\"Try again.\")\n",
    "    \n",
    "print(\"Congrats! You've guessed the number correctly!\")"
   ]
  },
  {
   "cell_type": "code",
   "execution_count": null,
   "metadata": {},
   "outputs": [],
   "source": [
    "number = 80\n",
    "\n",
    "i = 0\n",
    "result = 0\n",
    "while i <= number:\n",
    "    i += 1\n",
    "    if i % 2 == 0: # skip even numbers\n",
    "        continue\n",
    "    result += i\n",
    "\n",
    "print(\"Total\",result)"
   ]
  },
  {
   "cell_type": "code",
   "execution_count": null,
   "metadata": {},
   "outputs": [],
   "source": [
    "user_db = {\n",
    "    \"Davewood36\":\"11Dave06\",\n",
    "    \"Janeunderhill66\":\"missjane88\"\n",
    "}\n",
    "\n",
    "n_tries = 3\n",
    "n = 0\n",
    "while True:\n",
    "    n += 1\n",
    "    username = input(\"Username: \")\n",
    "    password = input(\"Password: \")\n",
    "    \n",
    "    if username in user_db and password == user_db[username]:\n",
    "        print(\"Access granted.\")\n",
    "        break\n",
    "    else:\n",
    "        print(\"Invalid username/password, please try again.\")\n",
    "    \n",
    "    if n >= n_tries:\n",
    "        print(\"Number of retries has been reached the maximum.\")\n",
    "        break"
   ]
  },
  {
   "cell_type": "markdown",
   "metadata": {},
   "source": [
    "## Section 2: Functions\n",
    "\n",
    "Functions are objects which encapsulate the task they are intended to perform.\n",
    "\n",
    "### How it goes\n",
    "\n",
    "1. The program comes to a line of code containing a \"function call\".\n",
    "2. The program enters the function.\n",
    "3. All instructions inside of the function are executed from top to bottom.\n",
    "4. The program leaves the function and goes back to where it started from.\n",
    "5. Any data computed and RETURNED by the function is used in place of the function in the original line of code.\n",
    "\n",
    "### Why use it\n",
    "\n",
    "* They allow us to represent of our program as a bunch of sub-steps.\n",
    "* They allow us to reuse code instead of rewriting it.\n",
    "* Functions allow us to keep our variable namespace clean."
   ]
  },
  {
   "cell_type": "code",
   "execution_count": null,
   "metadata": {},
   "outputs": [],
   "source": [
    "## Function Declaration\n",
    "\n",
    "# start with magic keywords... (def)\n",
    "# choose yourself a (relevant) function name\n",
    "def function_name(arguments): # <--- denote the function arguments here\n",
    "    \n",
    "    # this is the\n",
    "    # body part so\n",
    "    # all of the\n",
    "    # computation\n",
    "    # goes here\n",
    "    \n",
    "    return # <--- give me the result if necessary"
   ]
  },
  {
   "cell_type": "code",
   "execution_count": null,
   "metadata": {},
   "outputs": [],
   "source": [
    "def hello():\n",
    "    return \"Hi there!\""
   ]
  },
  {
   "cell_type": "code",
   "execution_count": null,
   "metadata": {},
   "outputs": [],
   "source": [
    "s = hello()\n",
    "print(s)"
   ]
  },
  {
   "cell_type": "code",
   "execution_count": null,
   "metadata": {},
   "outputs": [],
   "source": [
    "def hello(name):\n",
    "    return \" \".join([\"Hi\", name])"
   ]
  },
  {
   "cell_type": "code",
   "execution_count": null,
   "metadata": {
    "scrolled": true
   },
   "outputs": [],
   "source": [
    "print(hello(\"Jane\"))\n",
    "print(hello(\"Dave\"))\n",
    "print(hello(\"John\"))\n",
    "print(hello(\"Felix\"))"
   ]
  },
  {
   "cell_type": "code",
   "execution_count": null,
   "metadata": {},
   "outputs": [],
   "source": [
    "def hello(name):\n",
    "    \" \".join([\"Hi\", name]) # <--- see there is no `return` here"
   ]
  },
  {
   "cell_type": "code",
   "execution_count": null,
   "metadata": {},
   "outputs": [],
   "source": [
    "s = hello(\"Felix\")\n",
    "print(s)"
   ]
  },
  {
   "cell_type": "code",
   "execution_count": null,
   "metadata": {},
   "outputs": [],
   "source": [
    "type(s)"
   ]
  },
  {
   "cell_type": "code",
   "execution_count": null,
   "metadata": {},
   "outputs": [],
   "source": [
    "hello()"
   ]
  },
  {
   "cell_type": "code",
   "execution_count": null,
   "metadata": {},
   "outputs": [],
   "source": [
    "def hello(name=\"human\"):\n",
    "    return \" \".join([\"Hi\", name])"
   ]
  },
  {
   "cell_type": "code",
   "execution_count": null,
   "metadata": {},
   "outputs": [],
   "source": [
    "hello()"
   ]
  },
  {
   "cell_type": "code",
   "execution_count": null,
   "metadata": {},
   "outputs": [],
   "source": [
    "def calculate_cost(cost):\n",
    "    if cost < 0:\n",
    "        return None\n",
    "    else:\n",
    "        if 0 < cost <= 500:\n",
    "            cost = cost + cost * 0.125\n",
    "        elif cost <= 750:\n",
    "            cost = cost + cost * 0.1\n",
    "        elif cost <= 1000:\n",
    "            cost = cost + cost * 0.075\n",
    "        else:\n",
    "            cost = cost + cost * 0.050\n",
    "        return cost"
   ]
  },
  {
   "cell_type": "code",
   "execution_count": null,
   "metadata": {},
   "outputs": [],
   "source": [
    "calculate_cost(1500)"
   ]
  },
  {
   "cell_type": "code",
   "execution_count": null,
   "metadata": {},
   "outputs": [],
   "source": [
    "calculate_cost(-1)"
   ]
  },
  {
   "cell_type": "code",
   "execution_count": null,
   "metadata": {},
   "outputs": [],
   "source": [
    "def count_words(s):\n",
    "    counts = {}\n",
    "    words = s.split()\n",
    "\n",
    "    for word in words:\n",
    "        if word not in counts:\n",
    "            counts[word] = 1 # if not encountered before, then add it to our dictionary\n",
    "        else:\n",
    "            counts[word] += 1 # if counted before, add 1 to existing value\n",
    "\n",
    "    return counts\n",
    "\n",
    "print(count_words('the quick brown fox jumps over the lazy dog.'))"
   ]
  },
  {
   "cell_type": "markdown",
   "metadata": {},
   "source": [
    "### Scopes\n",
    "\n",
    "Scope refers to the visibility of variables. In other words, which parts of your program can see or use it.\n",
    "\n",
    "**Caution: mind the indentation!**"
   ]
  },
  {
   "cell_type": "code",
   "execution_count": null,
   "metadata": {},
   "outputs": [],
   "source": [
    "def divisor_number(digit):\n",
    "    divisor_list = []\n",
    "\n",
    "    for i in range(2, digit):\n",
    "        if digit % i == 0:\n",
    "            divisor_list.append(i)\n",
    "\n",
    "    return divisor_list"
   ]
  },
  {
   "cell_type": "code",
   "execution_count": null,
   "metadata": {},
   "outputs": [],
   "source": [
    "divisor_number(168)"
   ]
  },
  {
   "cell_type": "code",
   "execution_count": null,
   "metadata": {},
   "outputs": [],
   "source": [
    "divisor_list # <---- this variable is used inside `divisor_number()` function and annihilated"
   ]
  },
  {
   "cell_type": "code",
   "execution_count": null,
   "metadata": {},
   "outputs": [],
   "source": [
    "def factorial(number):\n",
    "    result = 1\n",
    "    if number == 0 or number == 1:\n",
    "        return result\n",
    "    else:\n",
    "        while number >= 1:\n",
    "            result *= number\n",
    "            number -=1\n",
    "        return result"
   ]
  },
  {
   "cell_type": "code",
   "execution_count": null,
   "metadata": {},
   "outputs": [],
   "source": [
    "factorial(1)"
   ]
  },
  {
   "cell_type": "code",
   "execution_count": null,
   "metadata": {
    "scrolled": true
   },
   "outputs": [],
   "source": [
    "factorial(7)"
   ]
  },
  {
   "cell_type": "markdown",
   "metadata": {},
   "source": [
    "Now, let's consider the domain and range of $factorial$ function:\n",
    "\n",
    "$$\n",
    "factorial(x): N \\rightarrow N\n",
    "$$\n",
    "\n",
    "for a more generalized version of factorial, see $\\Gamma(n)$ (gamma) function."
   ]
  },
  {
   "cell_type": "code",
   "execution_count": null,
   "metadata": {},
   "outputs": [],
   "source": [
    "def factorial(number):\n",
    "    result = 1\n",
    "    if isinstance(number,int):\n",
    "        if number < 0:\n",
    "            return None\n",
    "        elif number == 0 or number == 1:\n",
    "            return result\n",
    "        else:\n",
    "            while number >= 1:\n",
    "                result *= number\n",
    "                number -=1\n",
    "            return result\n",
    "    else:\n",
    "        return None"
   ]
  },
  {
   "cell_type": "code",
   "execution_count": null,
   "metadata": {},
   "outputs": [],
   "source": [
    "factorial(-5)"
   ]
  },
  {
   "cell_type": "code",
   "execution_count": null,
   "metadata": {},
   "outputs": [],
   "source": [
    "factorial(5.22)"
   ]
  },
  {
   "cell_type": "code",
   "execution_count": null,
   "metadata": {},
   "outputs": [],
   "source": [
    "factorial(7)"
   ]
  },
  {
   "cell_type": "markdown",
   "metadata": {},
   "source": [
    "### Example: Bubble Sort\n",
    "\n",
    "![](https://lasopacenters282.weebly.com/uploads/1/2/5/7/125773725/864337729.jpg)\n",
    "![](https://www.baeldung.com/wp-content/ql-cache/quicklatex.com-bc033b4c5003f6b53db4529e43712961_l3.svg)"
   ]
  },
  {
   "cell_type": "code",
   "execution_count": null,
   "metadata": {},
   "outputs": [],
   "source": [
    "def bubble_sort(nums):\n",
    "    size = len(nums)\n",
    "    \n",
    "    for i in range(size):\n",
    "        for j in range(size-1):\n",
    "            if nums[j] > nums[j+1]:\n",
    "                nums[j], nums[j+1] = nums[j+1], nums[j]\n",
    "\n",
    "    return nums"
   ]
  },
  {
   "cell_type": "code",
   "execution_count": null,
   "metadata": {},
   "outputs": [],
   "source": [
    "lst = [20,-5,15,7,7.0,13.91]\n",
    "bubble_sort(lst)"
   ]
  },
  {
   "cell_type": "code",
   "execution_count": null,
   "metadata": {},
   "outputs": [],
   "source": [
    "lst = [\n",
    "    \"Confutatis\", \"maledictis\",\n",
    "    \"Flammis\", \"acribus\", \"addictis\",\n",
    "    \"Voca\",\"me\", \"cum\", \"benedictis\",\n",
    "    \"Oro\", \"supplex\", \"et\", \"acclinis\",\n",
    "    \"Cor\", \"contritum\", \"quasi\", \"cinis\",\n",
    "    \"Gere\", \"curam\", \"mei\", \"finis\"\n",
    "] # Mozart\n",
    "\n",
    "bubble_sort(lst)"
   ]
  },
  {
   "cell_type": "markdown",
   "metadata": {},
   "source": [
    "### `*args` and `**kwargs` for function arguments\n",
    "\n",
    "We use `*args` to represent a number of function arguments according to their *positions*. On the other hand, we use `**kwargs` to represent function arguments by their argument names, hence the name, keyword args. Also:\n",
    "\n",
    "* We use a single asterisk `*` to unpack **iterables**.\n",
    "* We use two asterisks `**` to unpack **dictionaries**.\n",
    "\n",
    "so the names `args` and `kwargs` are arbitrary."
   ]
  },
  {
   "cell_type": "code",
   "execution_count": null,
   "metadata": {},
   "outputs": [],
   "source": [
    "def mul(a,b,c):\n",
    "    return (a * b) ** c\n",
    "\n",
    "def add(a,b,c):\n",
    "    return a + b + c\n",
    "\n",
    "def secret_number(mul_a,mul_b,mul_c,add_a,add_b,add_c):\n",
    "    return mul(mul_a,mul_b,mul_c) + add(add_a,add_b,add_c)\n",
    "\n",
    "n = secret_number(2,5,2,1,6,0)\n",
    "print(n)"
   ]
  },
  {
   "cell_type": "code",
   "execution_count": null,
   "metadata": {},
   "outputs": [],
   "source": [
    "# leave the rest to *args\n",
    "def secret_number(mul_a,mul_b,mul_c,*args):\n",
    "    return mul(mul_a,mul_b,mul_c) + add(*args)\n",
    "\n",
    "n = secret_number(2,5,2,1,6,0)\n",
    "print(n)"
   ]
  },
  {
   "cell_type": "code",
   "execution_count": null,
   "metadata": {},
   "outputs": [],
   "source": [
    "# leave the rest to **kwargs\n",
    "def secret_number(mul_a,mul_b,mul_c,**kwargs):\n",
    "    return mul(mul_a,mul_b,mul_c) + add(**kwargs)\n",
    "\n",
    "n = secret_number(2,5,2,a=1,b=6,c=0)\n",
    "print(n)"
   ]
  },
  {
   "cell_type": "code",
   "execution_count": null,
   "metadata": {},
   "outputs": [],
   "source": [
    "# could be used together but be careful\n",
    "def secret_number(*args,**kwargs):\n",
    "    return mul(*args) + add(**kwargs)\n",
    "\n",
    "n = secret_number(2,5,2,a=1,b=6,c=0)\n",
    "print(n)"
   ]
  },
  {
   "cell_type": "code",
   "execution_count": null,
   "metadata": {},
   "outputs": [],
   "source": [
    "lst = [\n",
    "    [i for i in range(10)],\n",
    "    [i for i in range(10)],\n",
    "    [i for i in range(10)],\n",
    "]\n",
    "print(lst)"
   ]
  },
  {
   "cell_type": "code",
   "execution_count": null,
   "metadata": {},
   "outputs": [],
   "source": [
    "for i,j,k in zip(*lst):\n",
    "    print(i,j,k)"
   ]
  },
  {
   "cell_type": "code",
   "execution_count": null,
   "metadata": {},
   "outputs": [],
   "source": [
    "for i,j,k in zip(lst):\n",
    "    print(i,j,k)"
   ]
  },
  {
   "cell_type": "code",
   "execution_count": null,
   "metadata": {},
   "outputs": [],
   "source": [
    "def expenses(**kwargs):\n",
    "    result = []\n",
    "    for key, value in kwargs.items():\n",
    "        result.append(\"Total {} is {} €\".format (key,value))\n",
    " \n",
    "    return result\n",
    "                      \n",
    "expenses(indesign_cost = 50000, materials = 30000, labor = 20000)"
   ]
  },
  {
   "cell_type": "code",
   "execution_count": null,
   "metadata": {},
   "outputs": [],
   "source": [
    "employee = {\n",
    "    \"first_name\":\"Jane\",\n",
    "    \"last_name\":\"Wood\",\n",
    "    \"age\":24,\n",
    "    \"contact_number\":12345678910,\n",
    "    \"email\":\"janewood@nomail.com\"\n",
    "}\n",
    "\n",
    "def check_info(first_name,last_name,age,contact_number,email):\n",
    "    if not isinstance(contact_number,(int,float)):\n",
    "        return False\n",
    "    if not \"@\" in email:\n",
    "        return False\n",
    "    if age < 18:\n",
    "        return False\n",
    "    if len(first_name) <= 1 or len(last_name) <= 1:\n",
    "        return False\n",
    "    return True\n",
    "\n",
    "print(check_info(**employee))"
   ]
  },
  {
   "cell_type": "markdown",
   "metadata": {},
   "source": [
    "## Built-in functions"
   ]
  },
  {
   "cell_type": "markdown",
   "metadata": {},
   "source": [
    "There are a number of functions (and types) in python that are built-in and always available. These functions constitute some of the fundamental features of python. The following list shows a portion of them.\n",
    "\n",
    "* `abs()`\n",
    "* `all()`\n",
    "* `help()`\n",
    "* `min()`\n",
    "* `any()`\n",
    "* `dir()`\n",
    "* `next()`\n",
    "* `slice()`\n",
    "* `sorted()`\n",
    "* `enumerate()`\n",
    "* `input()`\n",
    "* `eval()`\n",
    "* `exec()`\n",
    "* `isinstance()`\n",
    "* `sum()`\n",
    "* `filter()`\n",
    "* `pow()`\n",
    "* `iter()`\n",
    "* `print()`\n",
    "* `callable()`\n",
    "* `len()`\n",
    "* `type()`\n",
    "* `range()`\n",
    "* `zip()`\n",
    "* `map()`\n",
    "* `max()`\n",
    "* `round()`\n",
    "\n",
    "Find the full list [here](https://docs.python.org/3/library/functions.html).\n",
    "\n",
    "**Caution**: We should not use these **reserved** keywords to create a variable or another function."
   ]
  },
  {
   "cell_type": "code",
   "execution_count": null,
   "metadata": {},
   "outputs": [],
   "source": [
    "integer = -20\n",
    "print('Absolute value of -20 is:', abs(integer))\n",
    "\n",
    "floating = -30.33\n",
    "print('Absolute value of -30.33 is:', abs(floating))"
   ]
  },
  {
   "cell_type": "code",
   "execution_count": null,
   "metadata": {},
   "outputs": [],
   "source": [
    "l = [True,True,True]\n",
    "print(all(l))\n",
    "\n",
    "\n",
    "l = [True, False]\n",
    "print(all(l))\n",
    "\n",
    "\n",
    "l = [1, 3, 4, 0]\n",
    "print(all(l))\n",
    "\n",
    "\n",
    "l = [0, False, 5]\n",
    "print(all(l))\n",
    "\n",
    "l = []\n",
    "print(all(l))"
   ]
  },
  {
   "cell_type": "code",
   "execution_count": null,
   "metadata": {},
   "outputs": [],
   "source": [
    "x = min(5, 10, 88)\n",
    "print(x)\n",
    "x = min([5, 10,-1, 3])\n",
    "print(x)"
   ]
  },
  {
   "cell_type": "code",
   "execution_count": null,
   "metadata": {},
   "outputs": [],
   "source": [
    "mytuple = (0, 1, False)\n",
    "x = any(mytuple)\n",
    "print(x)\n",
    "\n",
    "myset = {0, 1, 0}\n",
    "y = any(myset)\n",
    "print(y)\n",
    "\n",
    "\n",
    "mydict = {0 : \"Apple\", 1 : \"Orange\"}\n",
    "a = any(mydict)\n",
    "print(a)\n",
    "\n",
    "mydict = {0 : \"Apple\"}\n",
    "a = any(mydict)\n",
    "print(a)"
   ]
  },
  {
   "cell_type": "code",
   "execution_count": null,
   "metadata": {},
   "outputs": [],
   "source": [
    "py_string = 'Python'\n",
    "slice_object = slice(3)\n",
    "print(py_string[slice_object])\n",
    "\n",
    "slice_object = slice(1, 6, 2)\n",
    "print(py_string[slice_object])\n",
    "\n",
    "a = (\"a\", \"b\", \"c\", \"d\", \"e\", \"f\", \"g\", \"h\")\n",
    "x = slice(4)\n",
    "print(a[x])"
   ]
  },
  {
   "cell_type": "code",
   "execution_count": null,
   "metadata": {},
   "outputs": [],
   "source": [
    "a = (1, 2, 3, 4, 5, 6, 7, 8)\n",
    "x = sum(a)\n",
    "print(x)\n",
    "\n",
    "a = [1, 2, 3, 4, 5]\n",
    "x = sum(a,9)\n",
    "print(x)"
   ]
  },
  {
   "cell_type": "code",
   "execution_count": null,
   "metadata": {},
   "outputs": [],
   "source": [
    "print(pow(2, 4))\n",
    "print(pow(-2, 4))\n",
    "print(pow(2, -4))\n",
    "print(pow(-2, -4))"
   ]
  },
  {
   "cell_type": "code",
   "execution_count": null,
   "metadata": {},
   "outputs": [],
   "source": [
    "def x():\n",
    "    return\n",
    "print(callable(x))"
   ]
  },
  {
   "cell_type": "code",
   "execution_count": null,
   "metadata": {},
   "outputs": [],
   "source": [
    "number = [3, 2, 8, 5, 10, 6]\n",
    "largest_number = max(number);\n",
    "print(\"The largest number is:\", largest_number)\n",
    "\n",
    "languages = [\"Python\", \"C Programming\", \"Java\", \"JavaScript\"]\n",
    "largest_string = max(languages);\n",
    "print(\"The largest string is:\", largest_string)"
   ]
  },
  {
   "cell_type": "code",
   "execution_count": null,
   "metadata": {},
   "outputs": [],
   "source": [
    "print(round(10))\n",
    "print(round(10.5))\n",
    "print(round(10.48))\n",
    "print(round(-3.5123,2))"
   ]
  },
  {
   "cell_type": "markdown",
   "metadata": {},
   "source": [
    "### Generators\n",
    "\n",
    "Generators are iterables that return a value when they are used. They store how to generate the specified value, and generate just-in-time."
   ]
  },
  {
   "cell_type": "code",
   "execution_count": null,
   "metadata": {},
   "outputs": [],
   "source": [
    "tup = (e for e in range(10))\n",
    "tup"
   ]
  },
  {
   "cell_type": "code",
   "execution_count": null,
   "metadata": {},
   "outputs": [],
   "source": [
    "list(tup)"
   ]
  },
  {
   "cell_type": "code",
   "execution_count": null,
   "metadata": {},
   "outputs": [],
   "source": [
    "tup = (e for e in range(10))\n",
    "print(next(tup))\n",
    "print(next(tup))\n",
    "print(next(tup))\n",
    "print(next(tup))"
   ]
  },
  {
   "cell_type": "code",
   "execution_count": null,
   "metadata": {},
   "outputs": [],
   "source": [
    "mylist = iter([\"apple\", \"banana\", \"cherry\"])\n",
    "print(mylist)"
   ]
  },
  {
   "cell_type": "code",
   "execution_count": null,
   "metadata": {},
   "outputs": [],
   "source": [
    "x = next(mylist)\n",
    "print(x)\n",
    "x = next(mylist)\n",
    "print(x)\n",
    "x = next(mylist)\n",
    "print(x)"
   ]
  },
  {
   "cell_type": "code",
   "execution_count": null,
   "metadata": {},
   "outputs": [],
   "source": [
    "range(10)"
   ]
  },
  {
   "cell_type": "code",
   "execution_count": null,
   "metadata": {},
   "outputs": [],
   "source": [
    "list(range(10))"
   ]
  },
  {
   "cell_type": "markdown",
   "metadata": {},
   "source": [
    "### `map`"
   ]
  },
  {
   "cell_type": "code",
   "execution_count": null,
   "metadata": {},
   "outputs": [],
   "source": [
    "lst = list(range(1,9,2))\n",
    "tfm = map(str,lst)\n",
    "print(tfm)"
   ]
  },
  {
   "cell_type": "code",
   "execution_count": null,
   "metadata": {},
   "outputs": [],
   "source": [
    "tfm = list(tfm)\n",
    "print(tfm)"
   ]
  },
  {
   "cell_type": "code",
   "execution_count": null,
   "metadata": {},
   "outputs": [],
   "source": [
    "lst = list(range(2,10,2))\n",
    "tfm2 = list(map(str,lst))\n",
    "print(tfm2)"
   ]
  },
  {
   "cell_type": "code",
   "execution_count": null,
   "metadata": {},
   "outputs": [],
   "source": [
    "zip(tfm,tfm2)"
   ]
  },
  {
   "cell_type": "code",
   "execution_count": null,
   "metadata": {},
   "outputs": [],
   "source": [
    "result = list(zip(tfm,tfm2))\n",
    "result"
   ]
  },
  {
   "cell_type": "code",
   "execution_count": null,
   "metadata": {},
   "outputs": [],
   "source": [
    "def concat(s):\n",
    "    return \"\".join(s)\n",
    "\n",
    "cct = map(concat,result)\n",
    "print(cct)"
   ]
  },
  {
   "cell_type": "code",
   "execution_count": null,
   "metadata": {},
   "outputs": [],
   "source": [
    "list(cct)"
   ]
  },
  {
   "cell_type": "markdown",
   "metadata": {},
   "source": [
    "### `filter`"
   ]
  },
  {
   "cell_type": "code",
   "execution_count": null,
   "metadata": {},
   "outputs": [],
   "source": [
    "costs = {\n",
    "    \"Labor\": 55000.0,\n",
    "    \"Raw material\": 127000.0,\n",
    "    \"Prefabrication\": 62000.0,\n",
    "    \"Shipping & transportation\": 28000.0,\n",
    "    \"Tax\" : 50000.0,\n",
    "    \"Delay cost per week\": 5000.0,\n",
    "    \"Unit\": \"Euro\",\n",
    "}"
   ]
  },
  {
   "cell_type": "code",
   "execution_count": null,
   "metadata": {},
   "outputs": [],
   "source": [
    "# version 1\n",
    "def filter_excessive_costs(d,limit=70000):\n",
    "    result = {}\n",
    "    \n",
    "    for k,v in d.items():\n",
    "        if isinstance(v,(int,float)) and v > limit:\n",
    "            result[k] = v\n",
    "    \n",
    "    return result\n",
    "\n",
    "print(filter_excessive_costs(costs))"
   ]
  },
  {
   "cell_type": "code",
   "execution_count": null,
   "metadata": {},
   "outputs": [],
   "source": [
    "# version 2\n",
    "limit=70000\n",
    "\n",
    "def is_excessive(e):\n",
    "    return isinstance(e[1],(int,float)) and e[1] > limit\n",
    "\n",
    "def filter_excessive_costs(d):\n",
    "    result = {}\n",
    "    for e in d.items():\n",
    "        if is_excessive(e):\n",
    "            result[e[0]] = e[1]\n",
    "    \n",
    "    return result\n",
    "\n",
    "print(filter_excessive_costs(costs))"
   ]
  },
  {
   "cell_type": "code",
   "execution_count": null,
   "metadata": {},
   "outputs": [],
   "source": [
    "# version 3\n",
    "limit = 70000\n",
    "f = filter(is_excessive, costs.items())\n",
    "print(f)"
   ]
  },
  {
   "cell_type": "code",
   "execution_count": null,
   "metadata": {},
   "outputs": [],
   "source": [
    "dict(f)"
   ]
  },
  {
   "cell_type": "code",
   "execution_count": null,
   "metadata": {},
   "outputs": [],
   "source": [
    "# version 4\n",
    "limit = 70000\n",
    "f = filter(lambda e: isinstance(e[1],(int,float)) and e[1] > limit, costs.items())\n",
    "dict(f)"
   ]
  },
  {
   "cell_type": "markdown",
   "metadata": {},
   "source": [
    "## `lambda` functions\n",
    "\n",
    "Simple and \"disposable\" function definitions."
   ]
  },
  {
   "cell_type": "code",
   "execution_count": null,
   "metadata": {},
   "outputs": [],
   "source": [
    "square = lambda x: x**2\n",
    "print(square)"
   ]
  },
  {
   "cell_type": "code",
   "execution_count": null,
   "metadata": {},
   "outputs": [],
   "source": [
    "# is the same with\n",
    "def square(x):\n",
    "    return x**2"
   ]
  },
  {
   "cell_type": "code",
   "execution_count": null,
   "metadata": {},
   "outputs": [],
   "source": [
    "square(5)"
   ]
  },
  {
   "cell_type": "code",
   "execution_count": null,
   "metadata": {},
   "outputs": [],
   "source": [
    "list1 = [8, 4, 99, 6, 0, 11, 18]\n",
    "\n",
    "new_list = list(filter(lambda x:(x%2 == 0), list1))\n",
    "\n",
    "print(new_list)"
   ]
  },
  {
   "cell_type": "code",
   "execution_count": null,
   "metadata": {},
   "outputs": [],
   "source": [
    "list_2 = [5,6,8,9]\n",
    "\n",
    "list_square = list(map(lambda x:x**2, list_2))\n",
    "\n",
    "print(list_square)"
   ]
  },
  {
   "cell_type": "markdown",
   "metadata": {},
   "source": [
    "## Recursive Functions\n",
    "\n",
    "A function can call itself! We need:\n",
    "\n",
    "* A condition\n",
    "* A recursive call"
   ]
  },
  {
   "cell_type": "markdown",
   "metadata": {},
   "source": [
    "### Example: Fibonacci Sequence\n",
    "\n",
    "A fibonacci number is a number that is the sum of the last two fibonacci numbers.\n",
    "\n",
    "$$\n",
    "0,1,1,2,3,5,8,13,21,\\dots\n",
    "$$\n",
    "\n",
    "![](https://www.mathsisfun.com/numbers/images/fibonacci-spiral.svg)"
   ]
  },
  {
   "cell_type": "code",
   "execution_count": null,
   "metadata": {},
   "outputs": [],
   "source": [
    "def fibonacci(n):\n",
    "    if n == 0 or n == 1:\n",
    "        return 1\n",
    "    else:\n",
    "        return fibonacci(n-1) + fibonacci(n-2)"
   ]
  },
  {
   "cell_type": "code",
   "execution_count": null,
   "metadata": {},
   "outputs": [],
   "source": [
    "fibonacci(4)"
   ]
  },
  {
   "cell_type": "code",
   "execution_count": null,
   "metadata": {},
   "outputs": [],
   "source": [
    "fibonacci(10)"
   ]
  },
  {
   "cell_type": "code",
   "execution_count": null,
   "metadata": {},
   "outputs": [],
   "source": [
    "def sum_all(lst):\n",
    "    out = 0\n",
    "    for l in lst:\n",
    "        if isinstance(l,(list,tuple)):\n",
    "            out += sum_all(l)\n",
    "        else:\n",
    "            out += l\n",
    "    return out"
   ]
  },
  {
   "cell_type": "code",
   "execution_count": null,
   "metadata": {},
   "outputs": [],
   "source": [
    "nested_list = [1,2,3,[15,25,[-2,-1000],(412,9)]]\n",
    "sum_all(nested_list)"
   ]
  },
  {
   "cell_type": "markdown",
   "metadata": {},
   "source": [
    "## Bonus: Comments, Docstrings, Annotations (Optional)\n",
    "\n",
    "We could add explanations to our code in several different ways. We use:\n",
    "\n",
    "* **comments** to inform the *developer* about our code, if necessary.\n",
    "* **docstrings** to make written explanations to our function, to help *user* and *developer*. There are several styles of docstrings, see [here](https://stackoverflow.com/a/24385103/7184515). Plus, one can [automatically create a web page for documentation](https://sphinx-rtd-tutorial.readthedocs.io/en/latest/docstrings.html) just using the docstrings! An example is [here](https://stable-baselines.readthedocs.io/en/master/modules/her.html).\n",
    "* **annotations** to inform *user* and *developer* about variable types of both the function arguments and its returned value. Annotations do not impose the specified types, they are only informative."
   ]
  },
  {
   "cell_type": "code",
   "execution_count": null,
   "metadata": {},
   "outputs": [],
   "source": [
    "# Comment example\n",
    "def fibonacci(n):\n",
    "    if n == 0 or n == 1: # if the entered number is either 0 or 1\n",
    "        return 1 # the result is always 1\n",
    "    else:\n",
    "        return fibonacci(n-1) + fibonacci(n-2) # otherwise, recurse with previous values"
   ]
  },
  {
   "cell_type": "code",
   "execution_count": null,
   "metadata": {},
   "outputs": [],
   "source": [
    "# Docstring example\n",
    "def fibonacci(n):\n",
    "    \"\"\"\n",
    "    Calculate the fibonacci number given\n",
    "    its index in the sequence.\n",
    "    \n",
    "    Parameters\n",
    "    ----------\n",
    "    n : int, float\n",
    "        The index of the number in the\n",
    "        series, n'th number.\n",
    "        \n",
    "    Returns\n",
    "    -------\n",
    "    m : int\n",
    "        The value of n'th fibonacci number.\n",
    "        \n",
    "    See Also\n",
    "    --------\n",
    "    https://en.wikipedia.org/wiki/Fibonacci_number\n",
    "    \n",
    "    Examples\n",
    "    --------\n",
    "    >>> fibonacci(10)\n",
    "    89\n",
    "    >>> fibonacci(7.0)\n",
    "    21\n",
    "    \"\"\"\n",
    "    if n == 0 or n == 1:\n",
    "        return 1\n",
    "    else:\n",
    "        return fibonacci(n-1) + fibonacci(n-2)"
   ]
  },
  {
   "cell_type": "code",
   "execution_count": null,
   "metadata": {},
   "outputs": [],
   "source": [
    "# Annotation example\n",
    "def fibonacci(n : (int,float) = 0) -> int:\n",
    "    \"\"\"\n",
    "    Calculate the fibonacci number given\n",
    "    its index in the sequence.\n",
    "    \n",
    "    Parameters\n",
    "    ----------\n",
    "    n : int, float\n",
    "        The index of the number in the\n",
    "        series, n'th number.\n",
    "        \n",
    "    Returns\n",
    "    -------\n",
    "    m : int\n",
    "        The value of n'th fibonacci number.\n",
    "        \n",
    "    See Also\n",
    "    --------\n",
    "    https://en.wikipedia.org/wiki/Fibonacci_number\n",
    "    \n",
    "    Examples\n",
    "    --------\n",
    "    >>> fibonacci(10)\n",
    "    89\n",
    "    >>> fibonacci(7.0)\n",
    "    21\n",
    "    \"\"\"\n",
    "    if n == 0 or n == 1:\n",
    "        return 1\n",
    "    else:\n",
    "        return fibonacci(n-1) + fibonacci(n-2)"
   ]
  },
  {
   "cell_type": "code",
   "execution_count": null,
   "metadata": {},
   "outputs": [],
   "source": [
    "fibonacci()"
   ]
  },
  {
   "cell_type": "code",
   "execution_count": null,
   "metadata": {},
   "outputs": [],
   "source": [
    "fibonacci(21)"
   ]
  },
  {
   "cell_type": "markdown",
   "metadata": {},
   "source": [
    "### Two helpful `ipython` magics"
   ]
  },
  {
   "cell_type": "code",
   "execution_count": null,
   "metadata": {},
   "outputs": [],
   "source": [
    "fibonacci?"
   ]
  },
  {
   "cell_type": "code",
   "execution_count": null,
   "metadata": {},
   "outputs": [],
   "source": [
    "fibonacci??"
   ]
  },
  {
   "cell_type": "markdown",
   "metadata": {},
   "source": [
    "## Example project: Binary Search\n",
    "\n",
    "![](https://upload.wikimedia.org/wikipedia/commons/9/9b/Binary_search_tree_example.gif)\n",
    "![](https://i0.wp.com/techieme.in/wp-content/uploads/2013/08/binarysearch.jpg)"
   ]
  },
  {
   "cell_type": "code",
   "execution_count": null,
   "metadata": {},
   "outputs": [],
   "source": [
    "def is_sorted(x):\n",
    "    concat = zip(x[1:],x[:-1])\n",
    "    increasing = map(lambda e: e[0] > e[1],concat)\n",
    "    return all(increasing)\n",
    "\n",
    "def find(x,lst,max_iter = 30):\n",
    "    \"\"\"\n",
    "    Implementation of binary search \n",
    "    algorithm. Provided `lst` object\n",
    "    have to be sorted ascending.\n",
    "    \n",
    "    Parameters\n",
    "    ----------\n",
    "    x : int, float, str\n",
    "        Object to be found.\n",
    "    lst : list, tuple\n",
    "        Object to search `x` in.\n",
    "    \n",
    "    Returns\n",
    "    -------\n",
    "    m : int\n",
    "        The index of the value. If not\n",
    "        found, -1 will be returned.\n",
    "    \n",
    "    Notes\n",
    "    -----\n",
    "    This algorithm works in a way\n",
    "    that each time divides the sequence\n",
    "    into two, and continues with\n",
    "    one.\n",
    "    \n",
    "    Examples\n",
    "    --------\n",
    "    >>> l = [1,2,3,4,38,45]\n",
    "    >>> find(4,l)\n",
    "    3\n",
    "    \"\"\"\n",
    "    if not is_sorted(lst):\n",
    "        print(\"Argument `lst` is not sorted!\")\n",
    "        return -1\n",
    "\n",
    "    start, end = 0, len(lst) - 1\n",
    "    \n",
    "    for _ in range(max_iter):\n",
    "        mid  = (start + end) // 2\n",
    "        \n",
    "        if lst[mid] == x:\n",
    "            return mid\n",
    "        elif lst[mid] < x:\n",
    "            start = mid + 1\n",
    "        else:\n",
    "            end = mid\n",
    "            \n",
    "    return -1"
   ]
  },
  {
   "cell_type": "code",
   "execution_count": null,
   "metadata": {},
   "outputs": [],
   "source": [
    "find(8,[1,2,3,4,5,6,7,8])"
   ]
  },
  {
   "cell_type": "code",
   "execution_count": null,
   "metadata": {},
   "outputs": [],
   "source": [
    "find(8,[1,2,3,-132,5,6,7,8])"
   ]
  },
  {
   "cell_type": "code",
   "execution_count": null,
   "metadata": {},
   "outputs": [],
   "source": [
    "l = [-4,0.8941,1,2,3,4,38,45]\n",
    "find(4,l)"
   ]
  },
  {
   "cell_type": "code",
   "execution_count": null,
   "metadata": {},
   "outputs": [],
   "source": [
    "l = list(range(-100,100,7))\n",
    "find(45,l)"
   ]
  },
  {
   "cell_type": "code",
   "execution_count": null,
   "metadata": {},
   "outputs": [],
   "source": [
    "l = [\"a\",\"b\",\"c\",\"d\"]\n",
    "find(\"b\",l)"
   ]
  },
  {
   "cell_type": "code",
   "execution_count": null,
   "metadata": {},
   "outputs": [],
   "source": [
    "l = \"abcde\"\n",
    "find(\"d\",l)"
   ]
  },
  {
   "cell_type": "markdown",
   "metadata": {},
   "source": [
    "## Project: Jaccard Similarity\n",
    "\n",
    "Implement the Jaccard Similarity of two finite and countable sets, that has the following formulation\n",
    "\n",
    "$$\n",
    "J(A,B) = \\frac{A \\cap B}{A \\cup B}\n",
    "$$\n",
    "\n",
    "$$\n",
    "J(A,B) : (\\{\\dots\\},\\{\\dots\\}) \\rightarrow R_{[0,1]}\n",
    "$$\n",
    "\n",
    "* Input: two `lists`, `tuples`, `sets`, or `dicts`\n",
    "* Output: float"
   ]
  },
  {
   "cell_type": "markdown",
   "metadata": {},
   "source": [
    "![](https://miro.medium.com/max/744/1*XiLRKr_Bo-VdgqVI-SvSQg.png)"
   ]
  },
  {
   "cell_type": "markdown",
   "metadata": {},
   "source": [
    "## Next Week\n",
    "\n",
    "* Standard Library\n",
    "* Introduction to object-oriented programming"
   ]
  },
  {
   "cell_type": "markdown",
   "metadata": {},
   "source": [
    "## References"
   ]
  },
  {
   "cell_type": "markdown",
   "metadata": {},
   "source": [
    "https://docs.python.org/3/library/functions.html\n",
    "\n",
    "https://realpython.com/python-kwargs-and-args/\n",
    "\n",
    "https://stackoverflow.com/a/24385103/7184515\n",
    "\n",
    "https://www.cs.utah.edu/~germain/PPS/Topics/functions.html#:~:text=Functions%20are%20%22self%20contained%22%20modules,the%20inside%20of%20other%20functions."
   ]
  },
  {
   "cell_type": "code",
   "execution_count": null,
   "metadata": {},
   "outputs": [],
   "source": []
  }
 ],
 "metadata": {
  "kernelspec": {
   "display_name": "Python 3",
   "language": "python",
   "name": "python3"
  },
  "language_info": {
   "codemirror_mode": {
    "name": "ipython",
    "version": 3
   },
   "file_extension": ".py",
   "mimetype": "text/x-python",
   "name": "python",
   "nbconvert_exporter": "python",
   "pygments_lexer": "ipython3",
   "version": "3.6.9"
  }
 },
 "nbformat": 4,
 "nbformat_minor": 4
}
