{
 "cells": [
  {
   "cell_type": "markdown",
   "metadata": {},
   "source": [
    "# Chapter 7\n",
    "\n",
    ".............................................\n",
    "\n",
    "## Learning Goals\n",
    "\n",
    "- `pandas`\n",
    "- Apply() Operations\n",
    "- Resample\n",
    "- Rolling\n",
    "- String operations\n",
    "- Missing data\n",
    "- Data input and output, file types\n",
    "- Time Operations\n",
    "- Advanced indexing, multilevel indexing\n",
    "- Visulation with `pandas`\n",
    "- Advanced plot controls\n",
    "\n",
    "## Authors\n",
    "\n",
    "- Mert Candar, mccandar@gmail.com\n",
    "- Aras Kahraman, aras.kahraman@hotmail.com\n",
    "\n",
    "## Learning Curve Boosters\n",
    "\n",
    "https://github.com/justmarkham/pandas-videos\n",
    "\n",
    "https://github.com/joeyajames/Python/tree/master/Pandas\n",
    "\n",
    "https://pandas.pydata.org/pandas-docs/stable/reference/\n",
    "\n",
    "## Goals\n",
    "- Read\n",
    "- Manipulate\n",
    "- Analyze\n",
    "- Compute"
   ]
  },
  {
   "cell_type": "markdown",
   "metadata": {},
   "source": [
    "## 1 - String Operations"
   ]
  },
  {
   "cell_type": "code",
   "execution_count": 1,
   "metadata": {},
   "outputs": [],
   "source": [
    "import numpy as np\n",
    "import pandas as pd"
   ]
  },
  {
   "cell_type": "code",
   "execution_count": 2,
   "metadata": {},
   "outputs": [],
   "source": [
    "orders = pd.read_table(r\"C:\\Users\\PC\\python_lectures\\data\\orders.tsv\")"
   ]
  },
  {
   "cell_type": "code",
   "execution_count": 3,
   "metadata": {},
   "outputs": [
    {
     "data": {
      "text/html": [
       "<div>\n",
       "<style scoped>\n",
       "    .dataframe tbody tr th:only-of-type {\n",
       "        vertical-align: middle;\n",
       "    }\n",
       "\n",
       "    .dataframe tbody tr th {\n",
       "        vertical-align: top;\n",
       "    }\n",
       "\n",
       "    .dataframe thead th {\n",
       "        text-align: right;\n",
       "    }\n",
       "</style>\n",
       "<table border=\"1\" class=\"dataframe\">\n",
       "  <thead>\n",
       "    <tr style=\"text-align: right;\">\n",
       "      <th></th>\n",
       "      <th>order_id</th>\n",
       "      <th>quantity</th>\n",
       "      <th>item_name</th>\n",
       "      <th>choice_description</th>\n",
       "      <th>item_price</th>\n",
       "    </tr>\n",
       "  </thead>\n",
       "  <tbody>\n",
       "    <tr>\n",
       "      <th>0</th>\n",
       "      <td>1</td>\n",
       "      <td>1</td>\n",
       "      <td>Chips and Fresh Tomato Salsa</td>\n",
       "      <td>NaN</td>\n",
       "      <td>$2.39</td>\n",
       "    </tr>\n",
       "    <tr>\n",
       "      <th>1</th>\n",
       "      <td>1</td>\n",
       "      <td>1</td>\n",
       "      <td>Izze</td>\n",
       "      <td>[Clementine]</td>\n",
       "      <td>$3.39</td>\n",
       "    </tr>\n",
       "    <tr>\n",
       "      <th>2</th>\n",
       "      <td>1</td>\n",
       "      <td>1</td>\n",
       "      <td>Nantucket Nectar</td>\n",
       "      <td>[Apple]</td>\n",
       "      <td>$3.39</td>\n",
       "    </tr>\n",
       "    <tr>\n",
       "      <th>3</th>\n",
       "      <td>1</td>\n",
       "      <td>1</td>\n",
       "      <td>Chips and Tomatillo-Green Chili Salsa</td>\n",
       "      <td>NaN</td>\n",
       "      <td>$2.39</td>\n",
       "    </tr>\n",
       "    <tr>\n",
       "      <th>4</th>\n",
       "      <td>2</td>\n",
       "      <td>2</td>\n",
       "      <td>Chicken Bowl</td>\n",
       "      <td>[Tomatillo-Red Chili Salsa (Hot), [Black Beans...</td>\n",
       "      <td>$16.98</td>\n",
       "    </tr>\n",
       "  </tbody>\n",
       "</table>\n",
       "</div>"
      ],
      "text/plain": [
       "   order_id  quantity                              item_name  \\\n",
       "0         1         1           Chips and Fresh Tomato Salsa   \n",
       "1         1         1                                   Izze   \n",
       "2         1         1                       Nantucket Nectar   \n",
       "3         1         1  Chips and Tomatillo-Green Chili Salsa   \n",
       "4         2         2                           Chicken Bowl   \n",
       "\n",
       "                                  choice_description item_price  \n",
       "0                                                NaN     $2.39   \n",
       "1                                       [Clementine]     $3.39   \n",
       "2                                            [Apple]     $3.39   \n",
       "3                                                NaN     $2.39   \n",
       "4  [Tomatillo-Red Chili Salsa (Hot), [Black Beans...    $16.98   "
      ]
     },
     "execution_count": 3,
     "metadata": {},
     "output_type": "execute_result"
    }
   ],
   "source": [
    "orders.head()"
   ]
  },
  {
   "cell_type": "code",
   "execution_count": 4,
   "metadata": {},
   "outputs": [
    {
     "data": {
      "text/plain": [
       "Index(['order_id', 'quantity', 'item_name', 'choice_description',\n",
       "       'item_price'],\n",
       "      dtype='object')"
      ]
     },
     "execution_count": 4,
     "metadata": {},
     "output_type": "execute_result"
    }
   ],
   "source": [
    "orders.columns"
   ]
  },
  {
   "cell_type": "code",
   "execution_count": 5,
   "metadata": {},
   "outputs": [
    {
     "data": {
      "text/plain": [
       "0                Chips and Fresh Tomato Salsa\n",
       "1                                        Izze\n",
       "2                            Nantucket Nectar\n",
       "3       Chips and Tomatillo-Green Chili Salsa\n",
       "4                                Chicken Bowl\n",
       "                        ...                  \n",
       "4617                            Steak Burrito\n",
       "4618                            Steak Burrito\n",
       "4619                       Chicken Salad Bowl\n",
       "4620                       Chicken Salad Bowl\n",
       "4621                       Chicken Salad Bowl\n",
       "Name: item_name, Length: 4622, dtype: object"
      ]
     },
     "execution_count": 5,
     "metadata": {},
     "output_type": "execute_result"
    }
   ],
   "source": [
    "orders.item_name"
   ]
  },
  {
   "cell_type": "code",
   "execution_count": 6,
   "metadata": {},
   "outputs": [
    {
     "data": {
      "text/plain": [
       "0                CHIPS AND FRESH TOMATO SALSA\n",
       "1                                        IZZE\n",
       "2                            NANTUCKET NECTAR\n",
       "3       CHIPS AND TOMATILLO-GREEN CHILI SALSA\n",
       "4                                CHICKEN BOWL\n",
       "                        ...                  \n",
       "4617                            STEAK BURRITO\n",
       "4618                            STEAK BURRITO\n",
       "4619                       CHICKEN SALAD BOWL\n",
       "4620                       CHICKEN SALAD BOWL\n",
       "4621                       CHICKEN SALAD BOWL\n",
       "Name: item_name, Length: 4622, dtype: object"
      ]
     },
     "execution_count": 6,
     "metadata": {},
     "output_type": "execute_result"
    }
   ],
   "source": [
    "orders.item_name.str.upper()"
   ]
  },
  {
   "cell_type": "code",
   "execution_count": 7,
   "metadata": {},
   "outputs": [
    {
     "data": {
      "text/html": [
       "<div>\n",
       "<style scoped>\n",
       "    .dataframe tbody tr th:only-of-type {\n",
       "        vertical-align: middle;\n",
       "    }\n",
       "\n",
       "    .dataframe tbody tr th {\n",
       "        vertical-align: top;\n",
       "    }\n",
       "\n",
       "    .dataframe thead th {\n",
       "        text-align: right;\n",
       "    }\n",
       "</style>\n",
       "<table border=\"1\" class=\"dataframe\">\n",
       "  <thead>\n",
       "    <tr style=\"text-align: right;\">\n",
       "      <th></th>\n",
       "      <th>order_id</th>\n",
       "      <th>quantity</th>\n",
       "      <th>item_name</th>\n",
       "      <th>choice_description</th>\n",
       "      <th>item_price</th>\n",
       "    </tr>\n",
       "  </thead>\n",
       "  <tbody>\n",
       "    <tr>\n",
       "      <th>0</th>\n",
       "      <td>1</td>\n",
       "      <td>1</td>\n",
       "      <td>Chips and Fresh Tomato Salsa</td>\n",
       "      <td>NaN</td>\n",
       "      <td>$2.39</td>\n",
       "    </tr>\n",
       "    <tr>\n",
       "      <th>1</th>\n",
       "      <td>1</td>\n",
       "      <td>1</td>\n",
       "      <td>Izze</td>\n",
       "      <td>[Clementine]</td>\n",
       "      <td>$3.39</td>\n",
       "    </tr>\n",
       "    <tr>\n",
       "      <th>2</th>\n",
       "      <td>1</td>\n",
       "      <td>1</td>\n",
       "      <td>Nantucket Nectar</td>\n",
       "      <td>[Apple]</td>\n",
       "      <td>$3.39</td>\n",
       "    </tr>\n",
       "    <tr>\n",
       "      <th>3</th>\n",
       "      <td>1</td>\n",
       "      <td>1</td>\n",
       "      <td>Chips and Tomatillo-Green Chili Salsa</td>\n",
       "      <td>NaN</td>\n",
       "      <td>$2.39</td>\n",
       "    </tr>\n",
       "    <tr>\n",
       "      <th>4</th>\n",
       "      <td>2</td>\n",
       "      <td>2</td>\n",
       "      <td>Chicken Bowl</td>\n",
       "      <td>[Tomatillo-Red Chili Salsa (Hot), [Black Beans...</td>\n",
       "      <td>$16.98</td>\n",
       "    </tr>\n",
       "  </tbody>\n",
       "</table>\n",
       "</div>"
      ],
      "text/plain": [
       "   order_id  quantity                              item_name  \\\n",
       "0         1         1           Chips and Fresh Tomato Salsa   \n",
       "1         1         1                                   Izze   \n",
       "2         1         1                       Nantucket Nectar   \n",
       "3         1         1  Chips and Tomatillo-Green Chili Salsa   \n",
       "4         2         2                           Chicken Bowl   \n",
       "\n",
       "                                  choice_description item_price  \n",
       "0                                                NaN     $2.39   \n",
       "1                                       [Clementine]     $3.39   \n",
       "2                                            [Apple]     $3.39   \n",
       "3                                                NaN     $2.39   \n",
       "4  [Tomatillo-Red Chili Salsa (Hot), [Black Beans...    $16.98   "
      ]
     },
     "execution_count": 7,
     "metadata": {},
     "output_type": "execute_result"
    }
   ],
   "source": [
    "orders.head()"
   ]
  },
  {
   "cell_type": "code",
   "execution_count": 8,
   "metadata": {},
   "outputs": [],
   "source": [
    "orders.item_name = orders.item_name.str.upper()"
   ]
  },
  {
   "cell_type": "code",
   "execution_count": 9,
   "metadata": {},
   "outputs": [
    {
     "data": {
      "text/html": [
       "<div>\n",
       "<style scoped>\n",
       "    .dataframe tbody tr th:only-of-type {\n",
       "        vertical-align: middle;\n",
       "    }\n",
       "\n",
       "    .dataframe tbody tr th {\n",
       "        vertical-align: top;\n",
       "    }\n",
       "\n",
       "    .dataframe thead th {\n",
       "        text-align: right;\n",
       "    }\n",
       "</style>\n",
       "<table border=\"1\" class=\"dataframe\">\n",
       "  <thead>\n",
       "    <tr style=\"text-align: right;\">\n",
       "      <th></th>\n",
       "      <th>order_id</th>\n",
       "      <th>quantity</th>\n",
       "      <th>item_name</th>\n",
       "      <th>choice_description</th>\n",
       "      <th>item_price</th>\n",
       "    </tr>\n",
       "  </thead>\n",
       "  <tbody>\n",
       "    <tr>\n",
       "      <th>0</th>\n",
       "      <td>1</td>\n",
       "      <td>1</td>\n",
       "      <td>CHIPS AND FRESH TOMATO SALSA</td>\n",
       "      <td>NaN</td>\n",
       "      <td>$2.39</td>\n",
       "    </tr>\n",
       "    <tr>\n",
       "      <th>1</th>\n",
       "      <td>1</td>\n",
       "      <td>1</td>\n",
       "      <td>IZZE</td>\n",
       "      <td>[Clementine]</td>\n",
       "      <td>$3.39</td>\n",
       "    </tr>\n",
       "    <tr>\n",
       "      <th>2</th>\n",
       "      <td>1</td>\n",
       "      <td>1</td>\n",
       "      <td>NANTUCKET NECTAR</td>\n",
       "      <td>[Apple]</td>\n",
       "      <td>$3.39</td>\n",
       "    </tr>\n",
       "    <tr>\n",
       "      <th>3</th>\n",
       "      <td>1</td>\n",
       "      <td>1</td>\n",
       "      <td>CHIPS AND TOMATILLO-GREEN CHILI SALSA</td>\n",
       "      <td>NaN</td>\n",
       "      <td>$2.39</td>\n",
       "    </tr>\n",
       "    <tr>\n",
       "      <th>4</th>\n",
       "      <td>2</td>\n",
       "      <td>2</td>\n",
       "      <td>CHICKEN BOWL</td>\n",
       "      <td>[Tomatillo-Red Chili Salsa (Hot), [Black Beans...</td>\n",
       "      <td>$16.98</td>\n",
       "    </tr>\n",
       "  </tbody>\n",
       "</table>\n",
       "</div>"
      ],
      "text/plain": [
       "   order_id  quantity                              item_name  \\\n",
       "0         1         1           CHIPS AND FRESH TOMATO SALSA   \n",
       "1         1         1                                   IZZE   \n",
       "2         1         1                       NANTUCKET NECTAR   \n",
       "3         1         1  CHIPS AND TOMATILLO-GREEN CHILI SALSA   \n",
       "4         2         2                           CHICKEN BOWL   \n",
       "\n",
       "                                  choice_description item_price  \n",
       "0                                                NaN     $2.39   \n",
       "1                                       [Clementine]     $3.39   \n",
       "2                                            [Apple]     $3.39   \n",
       "3                                                NaN     $2.39   \n",
       "4  [Tomatillo-Red Chili Salsa (Hot), [Black Beans...    $16.98   "
      ]
     },
     "execution_count": 9,
     "metadata": {},
     "output_type": "execute_result"
    }
   ],
   "source": [
    "orders.head()"
   ]
  },
  {
   "cell_type": "code",
   "execution_count": 10,
   "metadata": {},
   "outputs": [
    {
     "data": {
      "text/plain": [
       "0       False\n",
       "1       False\n",
       "2       False\n",
       "3       False\n",
       "4       False\n",
       "        ...  \n",
       "4617    False\n",
       "4618    False\n",
       "4619    False\n",
       "4620    False\n",
       "4621    False\n",
       "Name: item_name, Length: 4622, dtype: bool"
      ]
     },
     "execution_count": 10,
     "metadata": {},
     "output_type": "execute_result"
    }
   ],
   "source": [
    "orders.item_name.str.contains(\"Chicken\")"
   ]
  },
  {
   "cell_type": "code",
   "execution_count": 11,
   "metadata": {},
   "outputs": [
    {
     "data": {
      "text/plain": [
       "0       False\n",
       "1       False\n",
       "2       False\n",
       "3       False\n",
       "4        True\n",
       "        ...  \n",
       "4617    False\n",
       "4618    False\n",
       "4619     True\n",
       "4620     True\n",
       "4621     True\n",
       "Name: item_name, Length: 4622, dtype: bool"
      ]
     },
     "execution_count": 11,
     "metadata": {},
     "output_type": "execute_result"
    }
   ],
   "source": [
    "orders.item_name.str.contains(\"Chicken\".upper())"
   ]
  },
  {
   "cell_type": "code",
   "execution_count": 12,
   "metadata": {},
   "outputs": [
    {
     "data": {
      "text/plain": [
       "0       False\n",
       "1       False\n",
       "2       False\n",
       "3       False\n",
       "4        True\n",
       "        ...  \n",
       "4617    False\n",
       "4618    False\n",
       "4619     True\n",
       "4620     True\n",
       "4621     True\n",
       "Name: item_name, Length: 4622, dtype: bool"
      ]
     },
     "execution_count": 12,
     "metadata": {},
     "output_type": "execute_result"
    }
   ],
   "source": [
    "orders.item_name.str.contains(\"CHICKEN\")"
   ]
  },
  {
   "cell_type": "code",
   "execution_count": 13,
   "metadata": {},
   "outputs": [
    {
     "data": {
      "text/plain": [
       "0       28\n",
       "1        4\n",
       "2       16\n",
       "3       37\n",
       "4       12\n",
       "        ..\n",
       "4617    13\n",
       "4618    13\n",
       "4619    18\n",
       "4620    18\n",
       "4621    18\n",
       "Name: item_name, Length: 4622, dtype: int64"
      ]
     },
     "execution_count": 13,
     "metadata": {},
     "output_type": "execute_result"
    }
   ],
   "source": [
    "orders.item_name.str.len()"
   ]
  },
  {
   "cell_type": "code",
   "execution_count": 14,
   "metadata": {},
   "outputs": [
    {
     "data": {
      "text/plain": [
       "0    C-H-I-P-S- -A-N-D- -F-R-E-S-H- -T-O-M-A-T-O- -...\n",
       "1                                              I-Z-Z-E\n",
       "2                      N-A-N-T-U-C-K-E-T- -N-E-C-T-A-R\n",
       "3    C-H-I-P-S- -A-N-D- -T-O-M-A-T-I-L-L-O---G-R-E-...\n",
       "4                              C-H-I-C-K-E-N- -B-O-W-L\n",
       "Name: item_name, dtype: object"
      ]
     },
     "execution_count": 14,
     "metadata": {},
     "output_type": "execute_result"
    }
   ],
   "source": [
    "orders.item_name.str.join('-').head()"
   ]
  },
  {
   "cell_type": "code",
   "execution_count": 15,
   "metadata": {},
   "outputs": [
    {
     "data": {
      "text/plain": [
       "0    False\n",
       "1     True\n",
       "2    False\n",
       "3    False\n",
       "4    False\n",
       "Name: item_name, dtype: bool"
      ]
     },
     "execution_count": 15,
     "metadata": {},
     "output_type": "execute_result"
    }
   ],
   "source": [
    "orders.item_name.str.isalpha().head()"
   ]
  },
  {
   "cell_type": "code",
   "execution_count": 16,
   "metadata": {},
   "outputs": [
    {
     "data": {
      "text/plain": [
       "0    False\n",
       "1    False\n",
       "2    False\n",
       "3    False\n",
       "4    False\n",
       "Name: item_name, dtype: bool"
      ]
     },
     "execution_count": 16,
     "metadata": {},
     "output_type": "execute_result"
    }
   ],
   "source": [
    "orders.item_name.str.isnumeric().head()"
   ]
  },
  {
   "cell_type": "code",
   "execution_count": 17,
   "metadata": {},
   "outputs": [
    {
     "data": {
      "text/plain": [
       "0    4\n",
       "1    0\n",
       "2    2\n",
       "3    4\n",
       "4    0\n",
       "Name: item_name, dtype: int64"
      ]
     },
     "execution_count": 17,
     "metadata": {},
     "output_type": "execute_result"
    }
   ],
   "source": [
    "orders.item_name.str.count('A').head()"
   ]
  },
  {
   "cell_type": "code",
   "execution_count": 18,
   "metadata": {},
   "outputs": [
    {
     "data": {
      "text/plain": [
       "'? [Clementine] [Apple] ? [Tomatillo-Red Chili Salsa (Hot), [Black Beans, Rice, Cheese, Sour Cream]] [Fresh Tomato Salsa (Mild), [Rice, Cheese, Sour Cream, Guacamole, Lettuce]] ? [Tomatillo Red Chili Salsa, [Fajita Vegetables, Black Beans, Pinto Beans, Cheese, Sour Cream, Guacamole, Lettuce]] [Tomatillo Green Chili Salsa, [Pinto Beans, Cheese, Sour Cream, Lettuce]] [Fresh Tomato Salsa, [Rice, Black Beans, Pinto Beans, Cheese, Sour Cream, Lettuce]] ? [Roasted Chili Corn Salsa, [Fajita Vegetables, Rice, Black Beans, Cheese, Sour Cream]] [Roasted Chili Corn Salsa, [Rice, Black Beans, Cheese, Sour Cream]] [Fresh Tomato Salsa, [Fajita Vegetables, Rice, Cheese, Sour Cream, Guacamole]] ? ? [Tomatillo-Green Chili Salsa (Medium), [Pinto Beans, Cheese, Sour Cream]] [Fresh Tomato Salsa (Mild), [Black Beans, Rice, Cheese, Sour Cream, Lettuce]] [Sprite] [Tomatillo Red Chili Salsa, [Fajita Vegetables, Black Beans, Sour Cream, Cheese, Lettuce]] ? [[Fresh Tomato Salsa (Mild), Tomatillo-Green Chili Salsa (Medium), Tomatillo-Red Chili Salsa (Hot)], [Rice, Cheese, Sour Cream, Lettuce]] [Pomegranate Cherry] [[Tomatillo-Green Chili Salsa (Medium), Tomatillo-Red Chili Salsa (Hot)], [Pinto Beans, Rice, Cheese, Sour Cream, Guacamole, Lettuce]] [Grapefruit] ? [Roasted Chili Corn Salsa (Medium), [Pinto Beans, Rice, Fajita Veggies, Cheese, Sour Cream, Lettuce]] [[Tomatillo-Green Chili Salsa (Medium), Roasted Chili Corn Salsa (Medium)], [Black Beans, Rice, Sour Cream, Lettuce]] [Dr. Pepper] [Tomatillo-Green Chili Salsa (Medium), [Pinto Beans, Rice, Cheese, Sour Cream]] ? [[Roasted Chili Corn Salsa (Medium), Fresh Tomato Salsa (Mild)], [Rice, Black Beans, Sour Cream]] ? [Tomatillo-Red Chili Salsa (Hot), [Black Beans, Rice, Fajita Veggies, Cheese, Sour Cream, Lettuce]] ? [Roasted Chili Corn Salsa, Rice] [Roasted Chili Corn Salsa, [Cheese, Lettuce]] ? ? [Roasted Chili Corn Salsa, [Fajita Vegetables, Rice, Black Beans, Cheese, Sour Cream, Guacamole, Lettuce]] ? ? [Roasted Chili Corn Salsa, [Rice, Black Beans, Cheese, Sour Cream, Guacamole, Lettuce]] [Fresh Tomato Salsa, [Rice, Pinto Beans, Cheese, Sour Cream, Guacamole, Lettuce]] [Fresh Tomato Salsa, [Fajita Vegetables, Pinto Beans, Lettuce]] [Tomatillo-Red Chili Salsa (Hot), [Black Beans, Fajita Veggies, Cheese, Sour Cream, Guacamole, Lettuce]] [Tomatillo-Red Chili Salsa (Hot), [Rice, Fajita Veggies, Cheese]] [Blackberry] [[Fresh Tomato Salsa (Mild), Roasted Chili Corn Salsa (Medium), Tomatillo-Red Chili Salsa (Hot)], [Black Beans, Rice, Sour Cream]] ? [Roasted Chili Corn Salsa (Medium), [Rice, Fajita Veggies, Cheese, Sour Cream, Lettuce]] [Mountain Dew] [Roasted Chili Corn Salsa (Medium), [Black Beans, Rice, Fajita Veggies, Cheese, Sour Cream, Guacamole, Lettuce]] [Sprite] [Fresh Tomato Salsa (Mild), [Black Beans, Rice, Fajita Veggies, Cheese, Sour Cream]] ? [Fresh Tomato Salsa, [Fajita Vegetables, Black Beans, Lettuce]] [Tomatillo Red Chili Salsa, [Fajita Vegetables, Rice, Black Beans, Cheese, Sour Cream, Guacamole, Lettuce]] [Roasted Chili Corn Salsa, [Fajita Vegetables, Rice, Black Beans, Cheese, Sour Cream, Guacamole, Lettuce]] ? ? [Fresh Tomato Salsa, Cheese] [Fresh Tomato Salsa, [Fajita Vegetables, Rice, Black Beans, Cheese, Sour Cream, Guacamole, Lettuce]] [Fresh Tomato Salsa, [Rice, Black Beans, Cheese]] [Tomatillo-Red Chili Salsa (Hot), [Black Beans, Rice, Fajita Veggies, Cheese, Sour Cream, Lettuce]] [Tomatillo-Red Chili Salsa (Hot), [Rice, Cheese, Sour Cream, Lettuce]] [Blackberry] [Tomatillo-Red Chili Salsa (Hot), [Rice, Cheese]] [Tomatillo-Red Chili Salsa (Hot), [Black Beans, Fajita Veggies, Cheese, Sour Cream, Guacamole, Lettuce]] [Roasted Chili Corn Salsa (Medium), [Rice, Black Beans, Sour Cream]] ? [Tomatillo-Red Chili Salsa (Hot), [Black Beans, Rice, Cheese, Sour Cream, Lettuce]] ? [Tomatillo Red Chili Salsa, [Rice, Black Beans, Cheese, Sour Cream]] ? [Tomatillo Red Chili Salsa, [Rice, Cheese, Sour Cream, Lettuce]] [Fresh Tomato Salsa, [Rice, Black Beans, Pinto Beans, Cheese, Lettuce]] ? [Fresh Tomato Salsa, [Rice, Black Beans, Cheese, Sour Cream, Lettuce]] [Roasted Chili Corn Salsa, [Rice, Cheese, Lettuce, Guacamole]] ? [Fresh Tomato Salsa, [Rice, Pinto Beans, Cheese, Sour Cream, Lettuce]] [Fresh Tomato Salsa, [Rice, Black Beans, Cheese, Sour Cream, Lettuce]] [Tomatillo Green Chili Salsa, [Rice, Black Beans, Sour Cream, Cheese]] [Tomatillo Red Chili Salsa] [Tomatillo-Red Chili Salsa (Hot), [Pinto Beans, Black Beans, Rice, Fajita Veggies, Lettuce]] [Tomatillo-Red Chili Salsa (Hot), [Pinto Beans, Rice, Fajita Veggies, Cheese, Lettuce]] ? [Fresh Tomato Salsa, [Rice, Pinto Beans, Sour Cream, Cheese]] ? [Fresh Tomato Salsa, [Rice, Black Beans, Cheese, Sour Cream, Guacamole]] [Fresh Tomato Salsa, [Fajita Vegetables, Cheese, Sour Cream, Guacamole]] [Fresh Tomato Salsa, Sour Cream] [Roasted Chili Corn Salsa, [Sour Cream, Guacamole]] ? [Fresh Tomato Salsa, [Fajita Vegetables, Rice, Cheese, Sour Cream]] ? [Fresh Tomato Salsa, [Fajita Vegetables, Rice, Black Beans, Cheese, Guacamole, Lettuce]] [Tomatillo Red Chili Salsa, [Rice, Black Beans, Cheese]] [Tomatillo Red Chili Salsa, [Rice, Fajita Vegetables, Sour Cream, Lettuce]] ? [Tomatillo-Green Chili Salsa (Medium), [Rice, Cheese, Sour Cream, Lettuce]] [Tomatillo-Green Chili Salsa (Medium), [Rice, Cheese, Sour Cream, Lettuce]] ? [Fresh Tomato Salsa (Mild), [Black Beans, Rice, Fajita Veggies, Sour Cream, Lettuce]] [Pineapple Orange Banana] [Roasted Chili Corn Salsa (Medium), [Rice, Black Beans, Fajita Veggies, Sour Cream]] [Dr. Pepper] [Roasted Chili Corn Salsa, [Fajita Vegetables, Rice, Cheese, Sour Cream, Lettuce]] ? [Tomatillo Red Chili Salsa, [Rice, Black Beans, Cheese, Sour Cream, Lettuce]] ? ? ? [Tomatillo-Green Chili Salsa (Medium), [Pinto Beans, Rice, Cheese, Sour Cream]] [[Tomatillo-Red Chili Salsa (Hot), Tomatillo-Green Chili Salsa (Medium)], [Rice, Pinto Beans, Fajita Veggies, Cheese, Sour Cream, Lettuce]] [[Tomatillo-Red Chili Salsa (Hot), Tomatillo-Green Chili Salsa (Medium)], [Rice, Pinto Beans, Cheese, Lettuce]] [Diet Dr. Pepper] [[Roasted Chili Corn Salsa (Medium), Tomatillo-Red Chili Salsa (Hot)], [Cheese, Sour Cream, Lettuce]] ? [Tomatillo Red Chili Salsa, [Rice, Black Beans, Sour Cream, Cheese, Lettuce]] [Tomatillo Green Chili Salsa, [Rice, Black Beans, Sour Cream, Cheese, Lettuce]] ? [Fresh Tomato Salsa, [Guacamole, Cheese, Sour Cream, Fajita Vegetables, Rice]] ? [Roasted Chili Corn Salsa (Medium), [Rice, Black Beans, Fajita Veggies, Sour Cream]] [Coca Cola] [Tomatillo Red Chili Salsa, [Rice, Pinto Beans, Cheese, Lettuce]] ? ? [Roasted Chili Corn Salsa, [Rice, Pinto Beans, Cheese, Guacamole, Lettuce]] ? [Tomatillo-Green Chili Salsa (Medium), [Pinto Beans, Rice, Cheese, Sour Cream]] ? [Roasted Chili Corn Salsa (Medium), [Rice, Black Beans, Sour Cream, Guacamole]] [Tomatillo Green Chili Salsa, [Sour Cream, Cheese, Guacamole]] [Tomatillo Red Chili Salsa, [Fajita Vegetables, Rice, Black Beans, Cheese, Sour Cream, Guacamole, Lettuce]] ? [Fresh Tomato Salsa, [Rice, Fajita Vegetables, Sour Cream, Cheese, Guacamole]] ? [Tomatillo Green Chili Salsa, [Rice, Sour Cream, Cheese, Guacamole]] ? [Fresh Tomato Salsa, [Fajita Vegetables, Rice, Black Beans, Cheese, Guacamole, Lettuce]] [Tomatillo Red Chili Salsa, [Fajita Vegetables, Black Beans, Cheese, Guacamole, Lettuce]] [Tomatillo Red Chili Salsa, [Rice, Sour Cream, Cheese, Guacamole]] [Roasted Chili Corn Salsa, [Rice, Fajita Vegetables, Black Beans, Sour Cream, Cheese]] ? [Tomatillo-Green Chili Salsa (Medium), [Rice, Black Beans, Sour Cream, Guacamole]] [Tomatillo-Red Chili Salsa (Hot), [Rice, Cheese, Sour Cream, Lettuce]] ? [Tomatillo Red Chili Salsa, [Rice, Black Beans, Sour Cream, Cheese, Lettuce]] ? [Tomatillo-Green Chili Salsa (Medium), [Pinto Beans, Rice, Cheese, Sour Cream]] ? [Fresh Tomato Salsa, [Fajita Vegetables, Rice, Lettuce]] ? ? [Tomatillo Red Chili Salsa, [Fajita Vegetables, Rice, Black Beans, Cheese, Guacamole, Lettuce]] [Tomatillo Green Chili Salsa, [Rice, Cheese, Guacamole, Lettuce]] [[Roasted Chili Corn Salsa (Medium), Tomatillo-Red Chili Salsa (Hot)], [Black Beans, Rice, Fajita Veggies, Cheese, Sour Cream, Guacamole, Lettuce]] [Fresh Tomato Salsa (Mild), [Black Beans, Rice, Fajita Veggies, Cheese, Sour Cream, Lettuce]] [[Roasted Chili Corn Salsa (Medium), Tomatillo-Red Chili Salsa (Hot)], [Black Beans, Rice, Fajita Veggies, Cheese, Guacamole, Lettuce]] [Diet Coke] [Roasted Chili Corn Salsa (Medium), [Pinto Beans, Rice, Fajita Veggies, Cheese, Sour Cream, Guacamole, Lettuce]] [[Fresh Tomato Salsa (Mild), Roasted Chili Corn Salsa (Medium)], [Black Beans, Rice, Fajita Veggies, Cheese, Sour Cream, Lettuce]] ? ? [Tomatillo Red Chili Salsa, [Rice, Black Beans, Cheese, Guacamole, Lettuce]] [Tomatillo Red Chili Salsa, [Rice, Black Beans, Cheese, Sour Cream, Guacamole]] [Tomatillo Red Chili Salsa, [Rice, Cheese, Sour Cream]] [[Tomatillo-Red Chili Salsa (Hot), Fresh Tomato Salsa (Mild)], [Rice, Black Beans, Cheese, Lettuce]] [Diet Dr. Pepper] [Tomatillo-Red Chili Salsa (Hot), [Black Beans, Rice, Cheese, Sour Cream, Lettuce]] [Apple] [Tomatillo-Green Chili Salsa (Medium), Lettuce] [Roasted Chili Corn Salsa (Medium), Lettuce] [Roasted Chili Corn Salsa (Medium), [Black Beans, Rice, Fajita Veggies, Cheese, Sour Cream, Guacamole, Lettuce]] [Fresh Tomato Salsa (Mild), [Rice, Black Beans, Sour Cream, Guacamole]] [Tomatillo-Green Chili Salsa (Medium), [Rice, Fajita Veggies, Cheese, Sour Cream]] [Coca Cola] [Dr. Pepper] [Tomatillo Red Chili Salsa, [Rice, Pinto Beans, Cheese, Sour Cream]] [Fresh Tomato Salsa, [Rice, Black Beans, Sour Cream]] ? [Fresh Tomato Salsa, [Cheese, Sour Cream]] ? [Fresh Tomato Salsa, [Fajita Vegetables, Rice, Black Beans, Cheese, Sour Cream, Guacamole, Lettuce]] [Fresh Tomato Salsa (Mild), [Rice, Fajita Veggies, Guacamole, Lettuce]] [Roasted Chili Corn Salsa (Medium), [Rice, Cheese, Sour Cream, Lettuce]] [Roasted Chili Corn Salsa (Medium), [Rice, Cheese, Lettuce]] [Roasted Chili Corn Salsa (Medium), [Fajita Veggies, Cheese, Lettuce, Sour Cream, Rice]] ? [Roasted Chili Corn Salsa, [Fajita Vegetables, Rice, Cheese, Sour Cream, Guacamole, Lettuce]] [Fresh Tomato Salsa, [Rice, Cheese, Sour Cream]] ? [Coca Cola] [Roasted Chili Corn Salsa (Medium), [Rice, Black Beans, Sour Cream]] [Tomatillo-Green Chili Salsa (Medium), [Pinto Beans, Rice, Cheese, Sour Cream]] ? [[Roasted Chili Corn Salsa (Medium), Tomatillo-Red Chili Salsa (Hot)], [Black Beans, Rice, Fajita Veggies, Guacamole, Lettuce]] [Diet Coke] ? [Tomatillo Red Chili Salsa, [Rice, Black Beans, Sour Cream, Cheese, Lettuce, Guacamole]] [Tomatillo Green Chili Salsa, [Rice, Pinto Beans, Sour Cream, Cheese, Lettuce]] [Tomatillo-Red Chili Salsa (Hot), [Black Beans, Rice, Cheese, Sour Cream, Lettuce]] [Peach Orange] [Fresh Tomato Salsa, [Rice, Cheese, Lettuce]] [Roasted Chili Corn Salsa, [Rice, Black Beans, Cheese, Sour Cream, Lettuce]] ? [Roasted Chili Corn Salsa, [Fajita Vegetables, Rice, Black Beans, Cheese, Sour Cream, Guacamole, Lettuce]] [Roasted Chili Corn Salsa, [Rice, Black Beans, Cheese, Sour Cream, Guacamole, Lettuce]] [Roasted Chili Corn Salsa, [Fajita Vegetables, Rice, Black Beans, Pinto Beans, Cheese, Sour Cream, Guacamole, Lettuce]] ? [Fresh Tomato Salsa, [Fajita Vegetables, Pinto Beans, Guacamole]] ? [Tomatillo Green Chili Salsa, [Fajita Vegetables, Rice, Black Beans, Cheese, Guacamole, Lettuce]] [Tomatillo Red Chili Salsa, [Rice, Black Beans, Cheese, Sour Cream]] [Tomatillo Red Chili Salsa, [Cheese, Sour Cream, Lettuce]] [Tomatillo Green Chili Salsa, [Rice, Black Beans, Cheese, Sour Cream]] [Tomatillo Red Chili Salsa, [Rice, Black Beans, Cheese]] [Roasted Chili Corn Salsa, [Rice, Black Beans, Cheese, Sour Cream]] ? [Tomatillo Red Chili Salsa, [Rice, Cheese, Lettuce]] ? [Tomatillo Green Chili Salsa, [Rice, Pinto Beans, Sour Cream, Lettuce]] [Tomatillo Red Chili Salsa, [Black Beans, Cheese, Guacamole]] ? [Roasted Chili Corn Salsa (Medium), [Rice, Black Beans, Sour Cream]] [Mountain Dew] [Tomatillo-Green Chili Salsa (Medium), [Black Beans, Rice, Cheese, Sour Cream, Lettuce]] ? [Fresh Tomato Salsa, [Fajita Vegetables, Rice, Black Beans, Cheese, Sour Cream, Lettuce]] ? ? [Tomatillo Red Chili Salsa, [Rice, Black Beans, Cheese, Sour Cream, Guacamole, Lettuce]] ? [Tomatillo Red Chili Salsa, [Rice, Black Beans, Cheese]] [Tomatillo Green Chili Salsa, [Fajita Vegetables, Pinto Beans, Cheese]] [Tomatillo Red Chili Salsa, [Rice, Black Beans, Cheese, Sour Cream, Guacamole, Lettuce]] [Fresh Tomato Salsa, [Rice, Pinto Beans, Sour Cream, Cheese]] ? [Tomatillo Red Chili Salsa, [Rice, Black Beans, Cheese, Sour Cream, Lettuce]] [Fresh Tomato Salsa, [Rice, Pinto Beans, Cheese, Sour Cream]] [Fresh Tomato Salsa, [Rice, Black Beans, Pinto Beans, Cheese, Sour Cream]] [Roasted Chili Corn Salsa (Medium), [Rice, Fajita Veggies, Cheese, Sour Cream, Guacamole, Lettuce]] [Roasted Chili Corn Salsa (Medium), [Rice, Fajita Veggies, Cheese, Lettuce]] [Mountain Dew] [Dr. Pepper] [Mountain Dew] [[Tomatillo-Red Chili Salsa (Hot), Fresh Tomato Salsa (Mild), Tomatillo-Green Chili Salsa (Medium)], [Rice, Pinto Beans, Cheese]] [Roasted Chili Corn Salsa (Medium), [Black Beans, Rice, Fajita Veggies, Cheese, Sour Cream, Guacamole, Lettuce]] [Diet Dr. Pepper] [Tomatillo Red Chili Salsa, [Rice, Cheese, Lettuce]] [Roasted Chili Corn Salsa, [Rice, Pinto Beans, Cheese, Sour Cream]] [Tomatillo Red Chili Salsa, [Rice, Cheese, Lettuce]] [Roasted Chili Corn Salsa, [Rice, Cheese, Lettuce]] [Fresh Tomato Salsa, [Fajita Vegetables, Rice, Cheese, Sour Cream, Lettuce]] [Fresh Tomato Salsa, [Rice, Black Beans, Cheese]] [Tomatillo-Red Chili Salsa (Hot), [Pinto Beans, Rice, Fajita Veggies, Cheese, Sour Cream]] [Tomatillo-Red Chili Salsa (Hot), [Pinto Beans, Rice, Fajita Veggies, Cheese, Sour Cream]] [Roasted Chili Corn Salsa (Medium), [Rice, Black Beans, Sour Cream]] [Mountain Dew] [Fresh Tomato Salsa, [Fajita Vegetables, Cheese, Sour Cream, Guacamole, Lettuce]] [Coke] [Roasted Chili Corn Salsa (Medium), [Black Beans, Rice]] ? [Fresh Tomato Salsa, [Rice, Cheese, Lettuce]] ? [Tomatillo-Red Chili Salsa (Hot), [Pinto Beans, Cheese, Sour Cream, Lettuce]] ? [Tomatillo-Green Chili Salsa (Medium), [Pinto Beans, Rice, Cheese, Sour Cream]] ? [[Fresh Tomato Salsa (Mild), Roasted Chili Corn Salsa (Medium)], [Pinto Beans, Rice, Fajita Veggies, Cheese, Sour Cream, Lettuce]] [Roasted Chili Corn Salsa (Medium), [Black Beans, Rice, Cheese, Sour Cream, Lettuce]] [Tomatillo-Red Chili Salsa (Hot), [Black Beans, Rice, Cheese]] ? [Fresh Tomato Salsa (Mild), [Black Beans, Rice, Cheese, Sour Cream]] ? [Tomatillo-Red Chili Salsa (Hot), [Rice, Cheese, Lettuce]] ? [Coca Cola] [Tomatillo Red Chili Salsa, [Black Beans, Cheese, Guacamole]] [Fresh Tomato Salsa, [Rice, Black Beans, Cheese, Sour Cream]] ? [Fresh Tomato Salsa, [Rice, Cheese, Sour Cream]] [Roasted Chili Corn Salsa, [Fajita Vegetables, Rice, Lettuce]] [Roasted Chili Corn Salsa, [Rice, Black Beans, Cheese, Sour Cream, Lettuce]] [Roasted Chili Corn Salsa, [Fajita Vegetables, Rice, Black Beans, Cheese, Sour Cream, Lettuce]] ? [Fresh Tomato Salsa, [Rice, Cheese, Sour Cream]] [Roasted Chili Corn Salsa, [Fajita Vegetables, Rice, Black Beans, Guacamole, Lettuce]] [Tomatillo Green Chili Salsa, [Rice, Sour Cream, Guacamole, Lettuce]] [Sprite] [Fresh Tomato Salsa, [Cheese, Sour Cream]] ? [Fresh Tomato Salsa, [Fajita Vegetables, Lettuce, Guacamole, Sour Cream, Cheese, Black Beans, Rice]] [Tomatillo Green Chili Salsa, [Rice, Cheese, Guacamole]] [Tomatillo Green Chili Salsa, [Rice, Cheese, Guacamole]] [Sprite] [Tomatillo-Red Chili Salsa (Hot), Lettuce] ? [Fresh Tomato Salsa (Mild), [Rice, Fajita Veggies, Cheese, Sour Cream, Lettuce]] ? [Fresh Tomato Salsa, [Rice, Black Beans, Cheese, Sour Cream, Guacamole, Lettuce]] [Fresh Tomato Salsa, [Rice, Black Beans, Cheese, Sour Cream, Lettuce]] ? [Roasted Chili Corn Salsa (Medium), [Rice, Black Beans, Sour Cream]] ? [Tomatillo Red Chili Salsa, [Rice, Black Beans, Cheese, Lettuce]] [Tomatillo Red Chili Salsa, [Rice, Black Beans, Cheese, Sour Cream, Guacamole, Lettuce]] ? ? [Fresh Tomato Salsa, [Rice, Black Beans, Cheese, Sour Cream]] [Tomatillo-Red Chili Salsa (Hot), Fajita Veggies] [Tomatillo-Green Chili Salsa (Medium), [Cheese, Lettuce]] [Fresh Tomato Salsa, Fajita Vegetables] [Roasted Chili Corn Salsa (Medium), [Rice, Fajita Veggies, Cheese]] [Diet Coke] ? [Fresh Tomato Salsa, [Fajita Vegetables, Rice, Black Beans, Sour Cream]] [Coke] ? [Fresh Tomato (Mild), [Lettuce, Guacamole, Rice, Cheese]] [Roasted Chili Corn Salsa (Medium), [Pinto Beans, Black Beans, Rice, Fajita Veggies, Cheese, Sour Cream, Lettuce]] [[Roasted Chili Corn Salsa (Medium), Tomatillo-Red Chili Salsa (Hot)], [Rice, Fajita Veggies, Cheese, Lettuce]] [Roasted Chili Corn Salsa (Medium), Rice] ? [Tomatillo Red Chili Salsa, [Rice, Cheese]] ? ? [Fresh Tomato Salsa, [Rice, Black Beans, Cheese, Sour Cream, Guacamole, Lettuce]] ? [Fresh Tomato Salsa (Mild), [Black Beans, Rice, Cheese, Sour Cream, Lettuce]] [Fresh Tomato Salsa (Mild), [Rice, Cheese, Sour Cream]] [Roasted Chili Corn Salsa, [Rice, Black Beans, Cheese, Guacamole, Lettuce]] [Roasted Chili Corn Salsa, [Fajita Vegetables, Rice, Cheese, Lettuce]] [Tomatillo Red Chili Salsa, [Fajita Vegetables, Cheese, Guacamole, Lettuce]] [Coke] [Tomatillo Red Chili Salsa, [Rice, Black Beans, Sour Cream, Cheese, Lettuce, Guacamole]] [Tomatillo Green Chili Salsa, [Rice, Pinto Beans, Sour Cream, Cheese, Lettuce]] ? [Diet Coke] [Fresh Tomato Salsa, [Fajita Vegetables, Rice, Cheese, Sour Cream, Lettuce]] ? [Fresh Tomato Salsa, [Fajita Vegetables, Cheese, Guacamole, Lettuce]] ? [Lemonade] [Sprite] [Tomatillo-Red Chili Salsa (Hot), [Rice, Fajita Veggies, Cheese, Sour Cream, Lettuce]] ? [Diet Coke] [Tomatillo-Red Chili Salsa (Hot), [Black Beans, Rice, Cheese]] [Coca Cola] [Fresh Tomato (Mild), [Lettuce, Guacamole, Rice, Cheese]] [Fresh Tomato Salsa, Sour Cream] [Tomatillo Green Chili Salsa, [Fajita Vegetables, Rice, Cheese, Sour Cream, Lettuce]] ? [Coke] [Fresh Tomato Salsa (Mild), [Pinto Beans, Cheese, Sour Cream]] [Blackberry] [Grapefruit] [Fresh Tomato Salsa (Mild), [Cheese, Sour Cream, Lettuce]] [Fresh Tomato Salsa (Mild), [Pinto Beans, Cheese, Sour Cream, Lettuce]] [Tomatillo Red Chili Salsa, [Rice, Black Beans, Cheese, Sour Cream, Guacamole, Lettuce]] ? [Tomatillo Green Chili Salsa, [Black Beans, Cheese, Sour Cream, Guacamole, Lettuce]] ? [Roasted Chili Corn Salsa, [Rice, Fajita Vegetables, Black Beans, Cheese, Lettuce, Guacamole]] [Diet Coke] [Roasted Chili Corn Salsa (Medium), [Black Beans, Cheese, Sour Cream, Lettuce]] [Diet Coke] [Fresh Tomato Salsa, [Rice, Cheese, Sour Cream]] [Fresh Tomato Salsa, [Rice, Cheese, Sour Cream]] [Fresh Tomato Salsa, [Rice, Pinto Beans, Sour Cream, Cheese]] ? [Roasted Chili Corn Salsa, [Rice, Black Beans, Cheese, Lettuce, Guacamole]] ? [Roasted Chili Corn Salsa (Medium), [Rice, Black Beans, Sour Cream]] [Mountain Dew] [Fresh Tomato Salsa, [Rice, Black Beans, Cheese, Sour Cream, Guacamole]] [Coke] [Coke] [Fresh Tomato Salsa, [Rice, Black Beans, Sour Cream, Cheese, Guacamole]] [Tomatillo Red Chili Salsa, [Rice, Fajita Vegetables, Sour Cream, Cheese, Lettuce, Guacamole]] ? [Tomatillo-Red Chili Salsa (Hot), [Rice, Cheese, Sour Cream, Lettuce]] ? [Tomatillo Red Chili Salsa, [Rice, Black Beans, Cheese, Sour Cream, Guacamole, Lettuce]] [Diet Coke] [Fresh Tomato Salsa, [Cheese, Sour Cream]] [Fresh Tomato Salsa, [Cheese, Sour Cream]] [Fresh Tomato Salsa, [Fajita Vegetables, Rice, Pinto Beans, Cheese, Guacamole, Lettuce]] ? [Coke] [Tomatillo Green Chili Salsa, Guacamole] ? [Roasted Chili Corn Salsa (Medium), [Pinto Beans, Rice, Cheese, Sour Cream, Lettuce]] [Tomatillo-Red Chili Salsa (Hot), [Pinto Beans, Rice, Cheese, Sour Cream, Lettuce]] [Roasted Chili Corn Salsa (Medium), [Rice, Fajita Veggies, Cheese]] [[Fresh Tomato Salsa (Mild), Roasted Chili Corn Salsa (Medium)], [Rice, Cheese, Lettuce]] [Roasted Chili Corn Salsa, [Rice, Black Beans, Cheese, Lettuce, Guacamole]] [Sprite] [Fresh Tomato Salsa, [Rice, Black Beans, Cheese, Sour Cream, Guacamole]] [Coke] [Fresh Tomato Salsa, [Rice, Pinto Beans, Cheese, Guacamole, Lettuce]] [Fresh Tomato Salsa, [Cheese, Lettuce]] ? [Tomatillo Red Chili Salsa, [Rice, Black Beans, Cheese, Sour Cream, Guacamole, Lettuce]] ? [[Fresh Tomato Salsa (Mild), Tomatillo-Green Chili Salsa (Medium), Roasted Chili Corn Salsa (Medium)], [Black Beans, Rice, Fajita Veggies, Cheese, Guacamole, Lettuce]] [Coke] [Tomatillo Green Chili Salsa, [Sour Cream, Cheese, Guacamole]] [Tomatillo-Red Chili Salsa (Hot), [Rice, Cheese, Sour Cream, Guacamole, Lettuce]] ? [Dr. Pepper] [Tomatillo Red Chili Salsa] ? [Diet Coke] [Fresh Tomato Salsa, [Fajita Vegetables, Rice, Black Beans, Cheese]] [Fresh Tomato Salsa, [Fajita Vegetables, Rice, Cheese, Sour Cream, Lettuce]] [Tomatillo Green Chili Salsa, [Fajita Vegetables, Rice, Cheese, Sour Cream, Lettuce]] [Fresh Tomato Salsa, [Rice, Cheese, Sour Cream, Lettuce]] [Roasted Chili Corn Salsa, [Rice, Lettuce]] [Roasted Chili Corn Salsa, [Rice, Black Beans, Cheese, Sour Cream, Lettuce]] ? ? [Fresh Tomato Salsa, [Sour Cream, Lettuce]] [[Tomatillo-Red Chili Salsa (Hot), Roasted Chili Corn Salsa (Medium)], [Guacamole, Cheese, Sour Cream]] [[Roasted Chili Corn Salsa (Medium), Tomatillo-Red Chili Salsa (Hot)], [Rice, Cheese, Sour Cream, Guacamole]] [[Roasted Chili Corn Salsa (Medium), Tomatillo-Red Chili Salsa (Hot)], [Cheese, Sour Cream, Guacamole]] [Grapefruit] [Tomatillo-Red Chili Salsa (Hot), [Rice, Cheese, Sour Cream, Lettuce]] ? [Tomatillo-Red Chili Salsa (Hot), [Black Beans, Rice, Fajita Veggies, Cheese, Sour Cream, Lettuce]] [Coca Cola] [[Roasted Chili Corn Salsa (Medium), Fresh Tomato Salsa (Mild)], [Rice, Black Beans, Pinto Beans, Fajita Veggies, Guacamole, Lettuce]] [Pomegranate Cherry] [[Roasted Chili Corn Salsa (Medium), Tomatillo-Green Chili Salsa (Medium)], [Rice, Black Beans, Cheese, Sour Cream]] [Dr. Pepper] [Tomatillo Green Chili Salsa, [Fajita Vegetables, Rice, Cheese, Sour Cream, Lettuce]] [Roasted Chili Corn Salsa, [Fajita Vegetables, Rice, Cheese, Sour Cream, Lettuce]] [Roasted Chili Corn Salsa, [Rice, Fajita Vegetables, Black Beans, Sour Cream, Cheese, Lettuce, Guacamole]] ? ? [Tomatillo Red Chili Salsa, [Rice, Pinto Beans, Cheese]] [Braised Carnitas, Pinto Beans, [Sour Cream, Cheese, Cilantro-Lime Rice]] [Roasted Chili Corn Salsa (Medium), [Rice, Fajita Veggies, Cheese]] [Fresh Tomato Salsa (Mild), [Black Beans, Rice, Cheese, Sour Cream, Lettuce]] [Fresh Tomato Salsa, [Rice, Cheese, Sour Cream, Lettuce]] [Fresh Tomato Salsa, [Rice, Black Beans, Cheese, Lettuce]] [Fresh Tomato Salsa, [Fajita Vegetables, Rice, Cheese, Sour Cream, Guacamole, Lettuce]] [Fresh Tomato Salsa, [Fajita Vegetables, Rice, Cheese, Sour Cream]] [Fresh Tomato Salsa, [Rice, Black Beans, Cheese, Sour Cream, Guacamole, Lettuce]] [Fresh Tomato Salsa, [Sour Cream, Lettuce]] [Fresh Tomato Salsa, [Rice, Black Beans, Cheese, Sour Cream, Guacamole, Lettuce]] [Fresh Tomato Salsa, [Fajita Vegetables, Rice, Black Beans, Cheese, Guacamole, Lettuce]] [Fresh Tomato Salsa, [Rice, Black Beans, Cheese]] [Fresh Tomato Salsa, [Black Beans, Cheese, Guacamole, Lettuce]] ? [Coke] [Fresh Tomato Salsa (Mild), [Black Beans, Rice, Fajita Veggies, Cheese, Sour Cream, Lettuce]] ? [Fresh Tomato Salsa, [Rice, Black Beans, Cheese, Sour Cream, Guacamole, Lettuce]] [Fresh Tomato Salsa, [Rice, Black Beans, Cheese, Sour Cream, Guacamole, Lettuce]] [Tomatillo Green Chili Salsa, [Rice, Black Beans, Cheese]] [Roasted Chili Corn Salsa, [Rice, Fajita Vegetables, Black Beans, Sour Cream, Cheese, Lettuce]] ? [Fresh Tomato Salsa (Mild), [Pinto Beans, Rice, Cheese, Sour Cream]] ? [Fresh Tomato Salsa (Mild), [Pinto Beans, Rice, Sour Cream, Cheese]] ? [[Tomatillo-Green Chili Salsa (Medium), Roasted Chili Corn Salsa (Medium)], [Black Beans, Rice, Cheese, Guacamole]] ? [Diet Dr. Pepper] [Roasted Chili Corn Salsa, [Rice, Cheese, Lettuce, Guacamole]] ? [Fresh Tomato (Mild), [Guacamole, Lettuce, Rice, Fajita Veggies, Sour Cream, Cheese]] ? [Fresh Tomato Salsa, [Fajita Vegetables, Rice, Black Beans, Cheese, Sour Cream, Lettuce]] [Roasted Chili Corn Salsa, [Fajita Vegetables, Rice, Black Beans, Cheese, Sour Cream, Guacamole, Lettuce]] [Fresh Tomato Salsa, [Fajita Vegetables, Rice, Black Beans, Cheese]] [Tomatillo Red Chili Salsa, [Rice, Black Beans, Cheese, Sour Cream, Lettuce]] [Fresh Tomato Salsa, [Rice, Black Beans, Cheese, Sour Cream, Guacamole, Lettuce]] [Fresh Tomato Salsa, [Rice, Black Beans, Cheese, Sour Cream, Guacamole, Lettuce]] [Fresh Tomato Salsa, [Fajita Vegetables, Rice, Black Beans, Cheese]] [Fresh Tomato Salsa, Guacamole] [Fresh Tomato Salsa, Cheese] [Fresh Tomato Salsa, [Rice, Cheese, Lettuce]] [Fresh Tomato Salsa, [Rice, Black Beans, Cheese, Sour Cream, Lettuce]] ? [Fresh Tomato Salsa, [Fajita Vegetables, Rice, Cheese, Sour Cream, Guacamole]] [Fresh Tomato Salsa, [Fajita Vegetables, Rice, Cheese, Sour Cream, Guacamole]] [Diet Coke] ? [Fresh Tomato Salsa, [Sour Cream, Cheese]] ? [Fresh Tomato Salsa, [Rice, Lettuce, Guacamole, Fajita Vegetables, Cheese, Sour Cream, Black Beans]] [Fresh Tomato Salsa (Mild), [Pinto Beans, Cheese]] ? [Tomatillo Green Chili Salsa, [Fajita Vegetables, Rice, Lettuce]] [Fresh Tomato Salsa, [Rice, Cheese, Sour Cream]] [Roasted Chili Corn Salsa, [Fajita Vegetables, Rice, Black Beans, Guacamole]] [Tomatillo Green Chili Salsa, [Rice, Black Beans, Cheese, Lettuce]] [Roasted Chili Corn Salsa, [Rice, Black Beans, Sour Cream, Lettuce, Guacamole]] [Roasted Chili Corn Salsa, [Rice, Cheese, Lettuce, Guacamole]] [Lemonade] [Roasted Chili Corn Salsa, [Fajita Vegetables, Rice, Black Beans, Cheese, Sour Cream, Guacamole, Lettuce]] [Coke] [Tomatillo-Red Chili Salsa (Hot), Rice] [Tomatillo-Red Chili Salsa (Hot), Rice] [Adobo-Marinated and Grilled Chicken, Pinto Beans, [Sour Cream, Salsa, Cheese, Cilantro-Lime Rice, Guacamole]] [Braised Barbacoa, Vegetarian Black Beans, [Sour Cream, Salsa, Cheese, Cilantro-Lime Rice]] [Roasted Chili Corn Salsa, [Rice, Black Beans, Sour Cream, Lettuce]] [Diet Coke] ? [Fresh Tomato Salsa, [Fajita Vegetables, Rice, Black Beans, Cheese, Sour Cream, Lettuce]] ? [Tomatillo Green Chili Salsa, [Rice, Black Beans, Cheese, Sour Cream]] ? [Braised Barbacoa, Pinto Beans, [Sour Cream, Salsa, Cheese, Cilantro-Lime Rice, Guacamole]] [Adobo-Marinated and Grilled Steak] [Adobo-Marinated and Grilled Chicken] [Fresh Tomato Salsa (Mild), [Pinto Beans, Rice, Sour Cream]] ? [Tomatillo-Red Chili Salsa (Hot), [Pinto Beans, Rice, Cheese, Sour Cream, Lettuce]] ? [Roasted Chili Corn Salsa, [Black Beans, Sour Cream, Cheese, Lettuce]] [Fresh Tomato Salsa, [Rice, Black Beans, Sour Cream, Cheese]] [Tomatillo Green Chili Salsa, [Fajita Vegetables, Black Beans, Pinto Beans, Lettuce]] [Tomatillo Green Chili Salsa, [Fajita Vegetables, Rice, Cheese, Sour Cream, Lettuce]] [Roasted Chili Corn Salsa, [Fajita Vegetables, Rice, Black Beans, Guacamole]] [Tomatillo Red Chili Salsa, [Fajita Vegetables, Rice, Black Beans, Guacamole]] ? [Fresh Tomato Salsa, [Rice, Black Beans, Cheese]] [Fresh Tomato Salsa, [Sour Cream, Lettuce, Cheese, Rice]] [Fresh Tomato Salsa (Mild), [Pinto Beans, Rice, Cheese, Sour Cream]] ? ? [Tomatillo Green Chili Salsa, [Pinto Beans, Black Beans]] [Tomatillo Green Chili Salsa, Cheese] ? [Diet Coke] [Fresh Tomato Salsa, [Rice, Cheese, Lettuce]] [Tomatillo Green Chili Salsa, [Fajita Vegetables, Pinto Beans, Sour Cream, Cheese, Lettuce]] ? [Tomatillo Green Chili Salsa, [Rice, Black Beans, Cheese]] [Roasted Chili Corn Salsa, [Rice, Pinto Beans, Lettuce, Guacamole]] ? [Roasted Chili Corn Salsa (Medium), [Black Beans, Fajita Veggies, Cheese, Guacamole, Lettuce]] [Fresh Tomato (Mild), [Lettuce, Guacamole, Rice, Cheese]] ? [Tomatillo Red Chili Salsa] [Tomatillo Green Chili Salsa] [Diet Coke] [Roasted Chili Corn Salsa] [Roasted Chili Corn Salsa, [Fajita Vegetables, Rice, Black Beans, Guacamole]] [Fresh Tomato Salsa, [Rice, Cheese, Lettuce]] [Tomatillo Green Chili Salsa, [Rice, Black Beans, Cheese, Lettuce]] ? [Fresh Tomato Salsa, [Rice, Black Beans, Cheese, Sour Cream, Lettuce]] ? [Roasted Chili Corn Salsa] ? [Fresh Tomato Salsa, [Fajita Vegetables, Rice, Black Beans, Cheese, Sour Cream]] [Tomatillo Green Chili Salsa, [Fajita Vegetables, Rice, Black Beans, Cheese, Sour Cream, Lettuce]] [Fresh Tomato Salsa, [Fajita Vegetables, Black Beans, Cheese]] [Diet Coke] [Diet Coke] [Fresh Tomato Salsa, Fajita Vegetables] [Tomatillo Green Chili Salsa, [Fajita Vegetables, Black Beans, Sour Cream, Cheese]] [Fresh Tomato Salsa, [Rice, Sour Cream, Cheese]] ? [Roasted Chili Corn Salsa, [Fajita Vegetables, Sour Cream, Lettuce, Guacamole]] [Roasted Chili Corn Salsa, [Rice, Fajita Vegetables, Sour Cream, Cheese, Lettuce, Guacamole]] [Roasted Chili Corn Salsa, [Fajita Vegetables, Sour Cream, Cheese, Lettuce, Guacamole]] [Roasted Chili Corn Salsa, [Rice, Pinto Beans, Cheese, Sour Cream]] [Roasted Chili Corn Salsa, [Fajita Vegetables, Rice, Cheese, Lettuce]] [Fresh Tomato Salsa (Mild), [Pinto Beans, Rice, Cheese, Sour Cream, Lettuce]] ? [Clementine] [Grapefruit] [Tomatillo Green Chili Salsa, [Fajita Vegetables, Cheese, Lettuce]] [Fresh Tomato Salsa, [Fajita Vegetables, Cheese, Sour Cream, Guacamole, Lettuce]] [Roasted Chili Corn Salsa, [Rice, Black Beans, Cheese, Sour Cream, Guacamole, Lettuce]] ? [Fresh Tomato Salsa, Fajita Vegetables] [Fresh Tomato Salsa, [Rice, Pinto Beans, Cheese]] ? [Fresh Tomato Salsa (Mild), [Rice, Black Beans, Fajita Veggies, Cheese, Guacamole, Lettuce]] [Fresh Tomato Salsa, [Fajita Vegetables, Rice, Cheese, Sour Cream, Guacamole, Lettuce]] [Roasted Chili Corn Salsa] [Tomatillo Green Chili Salsa, [Black Beans, Sour Cream, Cheese, Lettuce, Guacamole]] [Roasted Chili Corn Salsa, [Rice, Cheese, Lettuce]] ? ? [[Roasted Chili Corn Salsa (Medium), Tomatillo-Red Chili Salsa (Hot)], [Rice, Cheese, Sour Cream, Guacamole]] [Fresh Tomato Salsa (Mild), [Rice, Cheese, Sour Cream, Lettuce]] ? [Fresh Tomato Salsa (Mild), [Pinto Beans, Fajita Veggies, Cheese, Sour Cream, Lettuce]] [Fresh Tomato Salsa (Mild), [Pinto Beans, Rice, Cheese, Sour Cream, Lettuce]] [Fresh Tomato Salsa (Mild), [Pinto Beans, Cheese, Sour Cream, Lettuce]] [Pineapple Orange Banana] [Roasted Chili Corn Salsa, [Rice, Pinto Beans, Cheese, Lettuce, Guacamole]] ? [Fresh Tomato Salsa, [Rice, Pinto Beans, Sour Cream, Cheese, Lettuce]] ? [Fresh Tomato Salsa, [Pinto Beans, Cheese, Guacamole, Lettuce]] [Fresh Tomato Salsa, Lettuce] [Fresh Tomato Salsa, [Rice, Black Beans, Cheese, Lettuce]] ? [Nestea] [Tomatillo Red Chili Salsa, [Rice, Pinto Beans, Cheese, Sour Cream]] [Fresh Tomato Salsa, [Rice, Black Beans, Sour Cream]] [Tomatillo Red Chili Salsa, [Fajita Vegetables, Black Beans, Cheese, Guacamole, Lettuce]] [Tomatillo Green Chili Salsa, [Rice, Black Beans, Sour Cream, Lettuce]] [Tomatillo Red Chili Salsa, [Rice, Cheese, Lettuce]] ? ? [Diet Coke] [Fresh Tomato Salsa (Mild), [Pinto Beans, Rice, Cheese, Sour Cream]] ? [Tomatillo-Red Chili Salsa (Hot), [Black Beans, Rice, Cheese, Sour Cream, Guacamole, Lettuce]] [Dr. Pepper] [Tomatillo Green Chili Salsa] ? [Roasted Chili Corn Salsa, [Rice, Cheese, Lettuce]] [Tomatillo Green Chili Salsa, [Sour Cream, Cheese, Guacamole]] ? ? [Tomatillo Green Chili Salsa, [Fajita Vegetables, Rice, Cheese, Sour Cream, Lettuce]] [Roasted Chili Corn Salsa, [Fajita Vegetables, Rice, Cheese, Sour Cream, Lettuce]] [Fresh Tomato Salsa (Mild), [Pinto Beans, Rice, Cheese, Sour Cream]] ? [Tomatillo Green Chili Salsa, [Black Beans, Cheese, Guacamole]] [Tomatillo Red Chili Salsa, [Cheese, Guacamole]] [Coke] [Fresh Tomato Salsa, [Rice, Pinto Beans, Cheese, Sour Cream]] [Fresh Tomato Salsa, [Rice, Pinto Beans, Cheese, Sour Cream, Lettuce]] [Fresh Tomato Salsa, [Rice, Cheese, Sour Cream]] [Diet Coke] [Tomatillo Red Chili Salsa, [Rice, Black Beans, Cheese, Sour Cream]] [Roasted Chili Corn Salsa, [Black Beans, Cheese, Sour Cream]] ? [Fresh Tomato Salsa (Mild), [Pinto Beans, Rice, Cheese, Sour Cream]] ? [Roasted Chili Corn Salsa (Medium), [Rice, Black Beans, Sour Cream]] [Sprite] [Tomatillo-Red Chili Salsa (Hot), [Black Beans, Rice, Fajita Veggies, Cheese, Lettuce]] ? [Roasted Chili Corn Salsa (Medium), [Rice, Black Beans, Sour Cream, Guacamole]] ? [Coke] [Fresh Tomato Salsa, [Rice, Pinto Beans, Sour Cream, Cheese]] ? [Fresh Tomato Salsa, [Fajita Vegetables, Rice, Lettuce]] ? [Fresh Tomato Salsa, [Fajita Vegetables, Rice, Sour Cream, Lettuce]] ? [Fresh Tomato Salsa, [Rice, Black Beans, Sour Cream, Cheese, Lettuce, Guacamole]] [Fresh Tomato Salsa, [Rice, Black Beans, Sour Cream, Cheese, Lettuce]] [Tomatillo-Red Chili Salsa (Hot), [Black Beans, Rice, Cheese, Sour Cream, Lettuce]] ? [Fresh Tomato Salsa (Mild), [Pinto Beans, Rice, Cheese, Sour Cream]] ? [Tomatillo-Red Chili Salsa (Hot), [Black Beans, Rice, Fajita Veggies, Cheese, Lettuce]] [[Fresh Tomato Salsa (Mild), Roasted Chili Corn Salsa (Medium)], [Black Beans, Rice, Fajita Veggies, Cheese, Sour Cream, Lettuce]] ? [Fresh Tomato Salsa (Mild), [Black Beans, Rice, Fajita Veggies, Cheese, Lettuce]] [Fresh Tomato Salsa, [Rice, Black Beans, Cheese, Sour Cream, Guacamole, Lettuce]] ? [Lemonade] ? [Roasted Chili Corn Salsa (Medium), [Black Beans, Rice, Fajita Veggies, Cheese, Sour Cream, Guacamole, Lettuce]] [Adobo-Marinated and Grilled Steak, [Sour Cream, Salsa, Cheese, Cilantro-Lime Rice, Guacamole]] ? [Adobo-Marinated and Grilled Chicken, [Sour Cream, Cheese, Cilantro-Lime Rice]] ? [Fresh Tomato Salsa (Mild), [Pinto Beans, Rice, Cheese, Sour Cream]] ? [Roasted Chili Corn Salsa, [Fajita Vegetables, Rice, Cheese, Lettuce]] ? [Tomatillo Red Chili Salsa, [Guacamole, Cheese]] [Coke] [Roasted Chili Corn Salsa, [Rice, Cheese, Guacamole]] [Coke] [Fresh Tomato Salsa, [Rice, Black Beans, Cheese, Guacamole, Lettuce]] ? [Fresh Tomato Salsa, [Fajita Vegetables, Rice, Cheese, Sour Cream, Guacamole]] ? [Diet Coke] [Fresh Tomato Salsa, [Fajita Vegetables, Rice, Cheese, Sour Cream, Guacamole, Lettuce]] [Tomatillo-Red Chili Salsa (Hot), [Black Beans, Rice, Fajita Veggies, Cheese, Sour Cream, Lettuce]] ? [Fresh Tomato Salsa, [Sour Cream, Cheese, Lettuce]] ? [Diet Coke] [Fresh Tomato Salsa (Mild), [Black Beans, Rice, Fajita Veggies, Cheese, Sour Cream, Lettuce]] [Tomatillo-Green Chili Salsa (Medium), [Pinto Beans, Cheese, Sour Cream, Lettuce]] [Coca Cola] [Fresh Tomato Salsa (Mild), [Rice, Cheese, Sour Cream, Lettuce]] [Coca Cola] ? [Tomatillo Red Chili Salsa, [Black Beans, Cheese, Lettuce]] ? [Lemonade] ? [Tomatillo Green Chili Salsa, [Rice, Sour Cream, Cheese, Guacamole]] [Fresh Tomato Salsa, [Fajita Vegetables, Rice, Cheese, Sour Cream, Lettuce]] ? [Lemonade] [Fresh Tomato Salsa (Mild), [Pinto Beans, Rice, Cheese, Sour Cream]] ? [[Roasted Chili Corn Salsa (Medium), Fresh Tomato Salsa (Mild)], [Rice, Pinto Beans, Cheese, Sour Cream, Guacamole, Lettuce]] ? [Fresh Tomato Salsa (Mild), [Pinto Beans, Rice, Cheese, Sour Cream]] [Tomatillo Red Chili Salsa, [Rice, Fajita Vegetables, Black Beans, Cheese, Lettuce, Guacamole]] [Diet Coke] [Tomatillo-Green Chili Salsa (Medium), [Rice, Cheese, Sour Cream, Lettuce]] ? [Tomatillo Green Chili Salsa, [Fajita Vegetables, Rice, Black Beans, Cheese, Sour Cream, Guacamole, Lettuce]] [Coke] [Nestea] [Roasted Chili Corn Salsa, [Rice, Black Beans, Cheese, Sour Cream, Lettuce]] [Tomatillo Red Chili Salsa, [Rice, Pinto Beans, Cheese, Sour Cream, Lettuce]] [Fresh Tomato Salsa] ? [Roasted Chili Corn Salsa, [Fajita Vegetables, Rice, Black Beans, Cheese]] [Roasted Chili Corn Salsa, [Fajita Vegetables, Black Beans, Sour Cream, Guacamole, Lettuce]] [Roasted Chili Corn (Medium), [Sour Cream, Cheese]] [Fresh Tomato (Mild), [Lettuce, Cheese]] ? ? [Fresh Tomato Salsa (Mild), [Pinto Beans, Rice, Cheese, Sour Cream]] [Fresh Tomato Salsa, [Rice, Black Beans, Sour Cream, Cheese]] [Roasted Chili Corn Salsa, [Rice, Fajita Vegetables, Black Beans, Sour Cream, Cheese, Lettuce]] [Sprite] [Tomatillo Green Chili Salsa, [Rice, Cheese, Guacamole, Lettuce]] [Tomatillo Red Chili Salsa, [Fajita Vegetables, Rice, Black Beans, Cheese, Guacamole, Lettuce]] [Tomatillo Red Chili Salsa, [Fajita Vegetables, Rice, Black Beans, Cheese, Guacamole, Lettuce]] [Tomatillo Red Chili Salsa, [Guacamole, Cheese]] [Coke] [Roasted Chili Corn Salsa] [Roasted Chili Corn Salsa, [Fajita Vegetables, Rice, Black Beans, Sour Cream, Guacamole]] [Coke] ? [Fresh Tomato Salsa (Mild), [Cheese, Rice, Pinto Beans, Sour Cream]] [Fresh Tomato Salsa, [Rice, Black Beans, Cheese, Guacamole, Lettuce]] ? [Roasted Chili Corn Salsa, [Rice, Sour Cream, Cheese, Guacamole]] [Roasted Chili Corn Salsa, [Rice, Cheese, Lettuce, Guacamole]] [Tomatillo-Red Chili Salsa (Hot), [Black Beans, Rice, Cheese, Sour Cream, Lettuce]] ? [Tomatillo-Red Chili Salsa (Hot), [Black Beans, Rice, Fajita Veggies, Cheese, Lettuce]] [[Roasted Chili Corn Salsa (Medium), Fresh Tomato Salsa (Mild)], [Cheese, Fajita Veggies, Lettuce, Sour Cream, Rice, Black Beans]] ? [Fresh Tomato Salsa (Mild), [Rice, Fajita Veggies, Cheese, Lettuce, Black Beans]] [Fresh Tomato Salsa, [Rice, Pinto Beans, Cheese, Sour Cream, Lettuce]] [Fresh Tomato Salsa, [Rice, Cheese, Sour Cream, Lettuce]] ? [White Rice, Adobo-Marinated and Grilled Steak, [Salsa, Cheese]] [White Rice, Adobo-Marinated and Grilled Steak, Pinto Beans, [Sour Cream, Salsa, Cheese, Cilantro-Lime Rice]] [Fresh Tomato Salsa, [Rice, Pinto Beans, Cheese]] [Fresh Tomato Salsa, [Fajita Vegetables, Lettuce]] [Fresh Tomato Salsa, [Sour Cream, Lettuce]] ? [Roasted Chili Corn Salsa, [Fajita Vegetables, Rice, Black Beans, Cheese, Sour Cream, Guacamole, Lettuce]] [Sprite] [Roasted Chili Corn Salsa, [Rice, Cheese, Guacamole]] [Roasted Chili Corn Salsa, [Rice, Cheese, Guacamole]] [Coke] ? [Fresh Tomato Salsa (Mild), [Cheese, Rice, Pinto Beans, Sour Cream]] [Tomatillo-Green Chili Salsa (Medium), Black Beans] [Tomatillo-Green Chili Salsa (Medium), Black Beans] [Tomatillo-Green Chili Salsa (Medium), Pinto Beans] [Fresh Tomato Salsa, [Rice, Black Beans, Cheese, Sour Cream, Lettuce]] ? [Sprite] [[Fresh Tomato Salsa (Mild), Roasted Chili Corn Salsa (Medium), Tomatillo-Red Chili Salsa (Hot)], [Black Beans, Rice, Fajita Veggies, Lettuce]] [Diet Coke] ? [Fresh Tomato Salsa, [Black Beans, Cheese, Sour Cream, Lettuce]] ? [Nestea] [Tomatillo Red Chili Salsa, [Rice, Cheese]] [Lemonade] ? [Roasted Chili Corn Salsa, [Rice, Black Beans, Cheese, Lettuce, Guacamole]] [Diet Coke] ? [Fresh Tomato Salsa, [Rice, Black Beans, Cheese]] [Coke] ? [Roasted Chili Corn Salsa, [Fajita Vegetables, Rice, Pinto Beans, Cheese, Sour Cream, Lettuce]] [Roasted Chili Corn Salsa, [Fajita Vegetables, Rice, Black Beans, Cheese, Lettuce]] [Tomatillo Red Chili Salsa, [Fajita Vegetables, Rice, Black Beans, Cheese, Sour Cream, Lettuce]] [Tomatillo Red Chili Salsa, [Fajita Vegetables, Rice, Black Beans, Sour Cream, Guacamole, Lettuce]] [Tomatillo Red Chili Salsa, [Fajita Vegetables, Rice, Sour Cream, Guacamole, Lettuce]] [[Fresh Tomato Salsa (Mild), Roasted Chili Corn Salsa (Medium)], [Rice, Sour Cream, Guacamole, Lettuce]] ? [Fresh Tomato Salsa (Mild), [Rice, Fajita Veggies, Cheese, Sour Cream, Guacamole, Lettuce]] ? ? [Tomatillo-Red Chili Salsa (Hot), [Black Beans, Rice, Cheese, Sour Cream, Lettuce]] [Tomatillo Red Chili Salsa, [Rice, Fajita Vegetables, Black Beans, Sour Cream, Cheese]] [Tomatillo Red Chili Salsa, [Rice, Fajita Vegetables, Black Beans, Sour Cream, Cheese]] [Roasted Chili Corn Salsa (Medium), [Rice, Black Beans, Sour Cream, Lettuce]] [Mountain Dew] [Fresh Tomato Salsa, [Fajita Vegetables, Rice, Cheese, Lettuce]] ? [Fresh Tomato Salsa, [Rice, Black Beans, Cheese, Sour Cream]] [Tomatillo Green Chili Salsa, [Rice, Black Beans, Cheese, Sour Cream]] ? [Fresh Tomato Salsa (Mild), [Cheese, Rice, Pinto Beans, Sour Cream]] [Roasted Chili Corn Salsa, [Rice, Cheese, Sour Cream, Lettuce]] [Tomatillo Red Chili Salsa, [Rice, Cheese, Sour Cream, Lettuce]] [Tomatillo Green Chili Salsa, [Black Beans, Cheese, Guacamole]] [[Roasted Chili Corn Salsa (Medium), Fresh Tomato Salsa (Mild)], [Rice, Black Beans, Fajita Veggies, Cheese, Sour Cream, Guacamole]] ? ? [Fresh Tomato Salsa (Mild), [Rice, Pinto Beans, Cheese, Sour Cream]] [Coca Cola] [Fresh Tomato (Mild), [Guacamole, Sour Cream, Cheese]] [Fresh Tomato Salsa, [Rice, Black Beans, Cheese, Sour Cream, Lettuce]] ? [Fresh Tomato (Mild), [Guacamole, Lettuce, Pinto Beans, Rice, Sour Cream, Cheese]] ? [Fresh Tomato Salsa (Mild), [Cheese, Pinto Beans, Sour Cream, Rice]] ? [Roasted Chili Corn Salsa, [Fajita Vegetables, Black Beans, Cheese]] [Fresh Tomato Salsa, [Rice, Cheese, Lettuce]] [Roasted Chili Corn Salsa, [Black Beans, Cheese, Sour Cream, Guacamole]] [Fresh Tomato Salsa, [Rice, Black Beans, Cheese, Sour Cream, Guacamole]] [Fresh Tomato Salsa, [Rice, Black Beans, Cheese, Sour Cream]] [Tomatillo-Green Chili Salsa (Medium), [Black Beans, Rice, Fajita Veggies, Sour Cream]] [Fresh Tomato Salsa (Mild), [Pinto Beans, Rice, Fajita Veggies, Sour Cream]] [Fresh Tomato Salsa (Mild), [Pinto Beans, Rice, Sour Cream]] [Tomatillo Red Chili Salsa, [Rice, Black Beans, Cheese, Sour Cream, Lettuce]] ? ? [Tomatillo Red Chili Salsa, [Rice, Cheese, Lettuce]] ? [Tomatillo Green Chili Salsa] [Roasted Chili Corn Salsa, Fajita Vegetables] [Fresh Tomato Salsa, [Rice, Guacamole]] ? [Fresh Tomato Salsa (Mild), [Rice, Sour Cream, Cheese, Pinto Beans]] [Tomatillo-Green Chili Salsa (Medium), [Black Beans, Rice, Cheese]] ? [Fresh Tomato Salsa, [Rice, Black Beans, Cheese, Sour Cream, Guacamole]] [Sprite] [Fresh Tomato Salsa, [Fajita Vegetables, Rice, Pinto Beans, Lettuce]] ? [Roasted Chili Corn Salsa, [Rice, Pinto Beans, Sour Cream, Cheese]] [Roasted Chili Corn Salsa, [Rice, Black Beans, Sour Cream, Cheese]] ? [Fresh Tomato Salsa, [Rice, Black Beans, Sour Cream, Lettuce]] [Tomatillo Red Chili Salsa, [Rice, Pinto Beans, Cheese, Sour Cream]] [Fresh Tomato Salsa, [Rice, Black Beans, Cheese, Lettuce]] [Fresh Tomato Salsa, [Fajita Vegetables, Rice, Black Beans, Cheese, Lettuce]] [Roasted Chili Corn Salsa, [Rice, Fajita Vegetables, Sour Cream, Cheese, Lettuce]] [Tomatillo Green Chili Salsa, [Rice, Fajita Vegetables, Black Beans, Cheese]] [Roasted Chili Corn Salsa (Medium), [Rice, Fajita Veggies, Sour Cream, Guacamole, Lettuce]] [Roasted Chili Corn Salsa (Medium), [Rice, Sour Cream, Lettuce]] [Fresh Tomato Salsa, [Black Beans, Cheese, Guacamole]] [Roasted Chili Corn Salsa, [Cheese, Rice, Guacamole]] [Roasted Chili Corn Salsa, [Rice, Cheese, Guacamole]] [Coke] [Tomatillo Green Chili Salsa, [Rice, Pinto Beans, Sour Cream, Lettuce]] ? [Diet Coke] [Tomatillo Red Chili Salsa, [Rice, Sour Cream, Cheese, Guacamole]] [Fresh Tomato Salsa, [Rice, Black Beans, Cheese]] [Sprite] [Fresh Tomato Salsa, [Rice, Black Beans, Sour Cream, Guacamole]] ? [Fresh Tomato Salsa, [Cheese, Sour Cream, Guacamole, Lettuce]] [Roasted Chili Corn Salsa, [Fajita Vegetables, Pinto Beans, Sour Cream, Guacamole]] [Fresh Tomato Salsa, [Fajita Vegetables, Rice, Cheese, Sour Cream]] [Coke] ? [Tomatillo Green Chili Salsa, [Rice, Cheese, Sour Cream, Lettuce]] ? [Roasted Chili Corn Salsa, [Rice, Cheese, Lettuce, Guacamole]] [Diet Coke] [Tomatillo Red Chili Salsa] [Tomatillo Red Chili Salsa] [Tomatillo Red Chili Salsa, [Fajita Vegetables, Rice, Pinto Beans, Cheese, Sour Cream, Lettuce]] [Tomatillo Red Chili Salsa, [Rice, Cheese, Sour Cream, Guacamole, Lettuce]] ? [Tomatillo-Red Chili Salsa (Hot), [Pinto Beans, Rice, Fajita Veggies, Cheese, Sour Cream, Lettuce]] [Fresh Tomato Salsa (Mild), [Black Beans, Rice, Cheese, Sour Cream, Lettuce]] [Fresh Tomato Salsa (Mild), [Rice, Fajita Veggies, Sour Cream, Guacamole]] [Fresh Tomato Salsa (Mild), [Rice, Cheese, Sour Cream, Lettuce]] ? [Tomatillo Green Chili Salsa, [Rice, Cheese, Sour Cream, Lettuce]] ? [[Fresh Tomato Salsa (Mild), Roasted Chili Corn Salsa (Medium), Tomatillo-Red Chili Salsa (Hot)], [Black Beans, Rice, Sour Cream]] ? [Roasted Chili Corn Salsa, [Rice, Black Beans, Cheese, Sour Cream, Guacamole, Lettuce]] [Fresh Tomato Salsa, [Rice, Cheese, Sour Cream]] [Roasted Chili Corn Salsa, [Rice, Black Beans, Cheese, Sour Cream, Guacamole]] ? [Fresh Tomato Salsa, [Fajita Vegetables, Rice, Black Beans, Sour Cream, Guacamole, Lettuce]] [Coke] [Roasted Chili Corn Salsa, [Fajita Vegetables, Rice, Black Beans, Cheese, Guacamole]] ? [Roasted Chili Corn Salsa (Medium), [Rice, Fajita Veggies, Cheese, Sour Cream, Lettuce]] [Roasted Chili Corn Salsa (Medium), [Rice, Fajita Veggies, Cheese, Sour Cream, Lettuce]] [Mountain Dew] [Roasted Chili Corn Salsa (Medium), [Black Beans, Rice, Cheese]] [Roasted Chili Corn Salsa (Medium), [Black Beans, Rice, Cheese]] [Fresh Tomato Salsa (Mild), [Black Beans, Rice, Cheese, Sour Cream, Lettuce]] ? [Roasted Chili Corn Salsa, [Fajita Vegetables, Rice, Cheese, Sour Cream, Guacamole, Lettuce]] [Roasted Chili Corn Salsa, [Fajita Vegetables, Rice, Cheese, Sour Cream, Guacamole, Lettuce]] ? [Lemonade] [Roasted Chili Corn Salsa, [Cheese, Sour Cream, Lettuce]] [Tomatillo Red Chili Salsa, [Fajita Vegetables, Rice, Black Beans, Pinto Beans, Cheese, Sour Cream, Guacamole, Lettuce]] [Roasted Chili Corn Salsa, [Rice, Cheese, Sour Cream, Lettuce]] ? ? [Tomatillo-Red Chili Salsa (Hot), Cheese] [Tomatillo-Red Chili Salsa (Hot), Cheese] [Pomegranate Cherry] [Fresh Tomato (Mild), [Lettuce, Black Beans, Rice, Cheese]] ? [Tomatillo Green Chili Salsa, [Rice, Cheese, Sour Cream, Lettuce]] ? [Fresh Tomato Salsa, [Rice, Black Beans, Cheese, Sour Cream]] [Fresh Tomato Salsa, [Rice, Black Beans, Guacamole, Lettuce]] ? [Fresh Tomato Salsa, [Fajita Vegetables, Rice, Cheese, Sour Cream, Lettuce]] [Fresh Tomato Salsa (Mild), [Pinto Beans, Rice, Cheese, Sour Cream, Lettuce]] ? [Tomatillo-Red Chili Salsa (Hot), [Pinto Beans, Black Beans, Rice, Fajita Veggies, Cheese]] [Tomatillo-Red Chili Salsa (Hot), [Rice, Fajita Veggies, Cheese, Sour Cream, Lettuce]] [Lemonade] [Roasted Chili Corn Salsa, [Rice, Fajita Vegetables, Sour Cream, Cheese, Lettuce]] [Roasted Chili Corn Salsa, [Rice, Fajita Vegetables, Cheese, Lettuce, Guacamole]] [Roasted Chili Corn Salsa, [Rice, Fajita Vegetables, Sour Cream, Lettuce, Guacamole]] [Tomatillo-Red Chili Salsa (Hot), [Pinto Beans, Rice, Cheese, Sour Cream]] ? [Fresh Tomato Salsa, [Fajita Vegetables, Rice, Black Beans, Sour Cream]] ? [Fresh Tomato Salsa, Lettuce] ? [Roasted Chili Corn Salsa, [Fajita Vegetables, Rice, Black Beans, Cheese, Sour Cream]] ? ? [Fresh Tomato Salsa (Mild), [Rice, Cheese, Sour Cream, Lettuce]] [[Fresh Tomato Salsa (Mild), Roasted Chili Corn Salsa (Medium)], [Pinto Beans, Rice, Fajita Veggies, Cheese, Sour Cream, Lettuce]] ? [Tomatillo-Red Chili Salsa (Hot), [Black Beans, Rice, Cheese]] ? [Coca Cola] [Fresh Tomato Salsa (Mild), [Pinto Beans, Rice, Cheese, Sour Cream, Lettuce]] [Sprite] [Fresh Tomato Salsa, [Rice, Pinto Beans, Cheese]] [Fresh Tomato Salsa, [Fajita Vegetables, Lettuce]] [Tomatillo-Red Chili Salsa (Hot), [Cheese, Sour Cream, Lettuce]] ? [Diet Coke] [Coke] [Fresh Tomato Salsa, [Fajita Vegetables, Sour Cream, Cheese, Guacamole]] [Fresh Tomato Salsa, [Sour Cream, Cheese, Guacamole]] [Fresh Tomato Salsa, [Rice, Black Beans, Cheese, Sour Cream]] [Fresh Tomato Salsa, [Cheese, Sour Cream]] [Roasted Chili Corn Salsa, [Rice, Black Beans, Cheese, Lettuce, Guacamole]] ? ? [Fresh Tomato Salsa (Mild), [Rice, Pinto Beans, Cheese, Sour Cream]] [Tomatillo Green Chili Salsa, [Rice, Fajita Vegetables, Pinto Beans, Sour Cream, Cheese, Lettuce, Guacamole]] [Tomatillo Red Chili Salsa] [Tomatillo Red Chili Salsa, [Rice, Black Beans, Cheese, Lettuce, Guacamole]] [Fresh Tomato Salsa, [Fajita Vegetables, Rice, Lettuce]] [Fresh Tomato Salsa, [Rice, Black Beans, Cheese, Lettuce]] ? [Fresh Tomato Salsa, [Fajita Vegetables, Rice, Black Beans, Cheese, Sour Cream, Lettuce]] [Tomatillo Green Chili Salsa, [Fajita Vegetables, Rice, Black Beans, Cheese, Sour Cream, Lettuce]] [Roasted Chili Corn Salsa (Medium), [Black Beans, Rice, Cheese, Sour Cream]] ? [Fresh Tomato Salsa, [Fajita Vegetables, Rice, Pinto Beans, Cheese, Guacamole, Lettuce]] [Fresh Tomato Salsa, [Fajita Vegetables, Rice, Pinto Beans, Cheese, Sour Cream, Lettuce]] ? [Fresh Tomato Salsa, [Fajita Vegetables, Pinto Beans, Cheese, Guacamole]] [Diet Coke] [Tomatillo Red Chili Salsa, [Black Beans, Cheese, Sour Cream, Guacamole]] [Diet Coke] [Roasted Chili Corn Salsa, [Rice, Sour Cream, Cheese, Guacamole]] [Roasted Chili Corn Salsa, [Rice, Sour Cream, Cheese, Guacamole]] [Coke] [Tomatillo Green Chili Salsa, [Rice, Sour Cream, Cheese, Guacamole]] [Fresh Tomato Salsa, [Rice, Fajita Vegetables, Pinto Beans, Sour Cream, Cheese, Lettuce, Guacamole]] [[Fresh Tomato Salsa (Mild), Tomatillo-Red Chili Salsa (Hot)], [Black Beans, Rice, Cheese, Sour Cream]] [Roasted Chili Corn Salsa (Medium), [Black Beans, Rice, Sour Cream, Guacamole]] [Roasted Chili Corn Salsa, [Rice, Black Beans]] [Diet Coke] [Roasted Chili Corn Salsa, [Black Beans, Lettuce]] [Roasted Chili Corn Salsa (Medium), [Rice, Cheese]] [Roasted Chili Corn Salsa (Medium), [Black Beans, Rice, Cheese, Sour Cream, Lettuce]] ? ? [Fresh Tomato Salsa, [Rice, Sour Cream, Cheese, Lettuce]] ? [Fresh Tomato Salsa, [Cheese, Sour Cream, Guacamole, Lettuce]] [Coke] [Tomatillo Green Chili Salsa, [Rice, Black Beans, Cheese, Sour Cream, Guacamole]] [[Fresh Tomato Salsa (Mild), Tomatillo-Green Chili Salsa (Medium)], [Black Beans, Rice, Fajita Veggies, Cheese, Sour Cream]] ? [Tomatillo Green Chili Salsa, [Rice, Black Beans, Cheese, Sour Cream, Lettuce]] ? [Tomatillo Red Chili Salsa] [Fresh Tomato Salsa] [Tomatillo-Red Chili Salsa (Hot), [Rice, Cheese, Sour Cream]] ? [Fresh Tomato Salsa, [Rice, Cheese, Black Beans]] ? [Tomatillo-Red Chili Salsa (Hot), [Black Beans, Cheese, Sour Cream, Lettuce]] [Tomatillo-Red Chili Salsa (Hot), [Pinto Beans, Cheese, Sour Cream, Lettuce]] [Fresh Tomato Salsa, [Black Beans, Pinto Beans, Cheese, Guacamole, Lettuce]] ? [Fresh Tomato Salsa, [Rice, Cheese, Sour Cream, Lettuce]] ? [Roasted Chili Corn Salsa, [Rice, Pinto Beans, Cheese, Lettuce]] [Sprite] [Fresh Tomato Salsa (Mild), [Fajita Veggies, Cheese, Sour Cream, Guacamole, Lettuce]] [Fresh Tomato Salsa (Mild), [Rice, Cheese, Sour Cream, Lettuce]] [[Tomatillo-Green Chili Salsa (Medium), Roasted Chili Corn Salsa (Medium)], [Black Beans, Rice, Cheese]] [Diet Dr. Pepper] ? [Fresh Tomato Salsa, [Fajita Vegetables, Rice, Cheese, Sour Cream]] ? [Fresh Tomato Salsa, [Rice, Cheese, Sour Cream, Lettuce]] [Coke] ? ? [Fresh Tomato Salsa (Mild), [Pinto Beans, Rice, Sour Cream, Cheese]] [Roasted Chili Corn Salsa, [Rice, Black Beans, Lettuce, Guacamole]] [Fresh Tomato Salsa, [Rice, Fajita Vegetables, Black Beans, Guacamole]] ? [Roasted Chili Corn Salsa (Medium), [Pinto Beans, Rice, Guacamole]] [Fresh Tomato Salsa, [Fajita Vegetables, Rice]] ? [Diet Coke] [Fresh Tomato Salsa, [Rice, Black Beans, Cheese, Guacamole, Lettuce]] ? [Sprite] [Fresh Tomato Salsa, Rice] [Fresh Tomato Salsa, [Rice, Cheese]] [Coke] ? [Fresh Tomato Salsa (Mild), [Black Beans, Rice, Fajita Veggies, Cheese, Sour Cream, Lettuce]] [Fresh Tomato Salsa, [Fajita Vegetables, Rice, Sour Cream, Lettuce]] [Tomatillo Green Chili Salsa, [Rice, Pinto Beans, Cheese, Guacamole]] [[Tomatillo-Green Chili Salsa (Medium), Tomatillo-Red Chili Salsa (Hot)], [Black Beans, Rice, Cheese, Sour Cream, Guacamole]] [Mountain Dew] [[Fresh Tomato Salsa (Mild), Tomatillo-Red Chili Salsa (Hot)], [Black Beans, Rice, Cheese, Sour Cream]] [Clementine] [Fresh Tomato Salsa, [Fajita Vegetables, Rice]] ? [Diet Coke] [Fresh Tomato Salsa (Mild), [Black Beans, Rice, Cheese, Sour Cream, Guacamole]] [Tomatillo-Green Chili Salsa (Medium), [Pinto Beans, Rice, Cheese, Sour Cream, Guacamole, Lettuce]] [[Tomatillo-Green Chili Salsa (Medium), Roasted Chili Corn Salsa (Medium)], [Rice, Cheese, Sour Cream, Guacamole, Lettuce]] [[Tomatillo-Green Chili Salsa (Medium), Roasted Chili Corn Salsa (Medium)], [Black Beans, Rice, Cheese, Sour Cream, Lettuce]] ? [Tomatillo Red Chili Salsa, [Rice, Cheese, Lettuce]] [Roasted Chili Corn Salsa, [Rice, Pinto Beans, Cheese, Lettuce]] [Roasted Chili Corn Salsa, [Rice, Pinto Beans, Cheese, Sour Cream, Guacamole, Lettuce]] ? [[Roasted Chili Corn Salsa (Medium), Tomatillo-Green Chili Salsa (Medium)], [Rice, Black Beans, Sour Cream, Guacamole]] [Fresh Tomato Salsa, [Fajita Vegetables, Rice, Black Beans, Cheese, Guacamole, Lettuce]] [Tomatillo Red Chili Salsa, [Fajita Vegetables, Rice, Cheese, Sour Cream, Lettuce]] ? ? [Tomatillo-Red Chili Salsa (Hot), [Black Beans, Rice, Cheese, Sour Cream, Lettuce]] [Tomatillo Green Chili Salsa, [Fajita Vegetables, Rice, Cheese, Lettuce]] ? ? [Fresh Tomato Salsa, [Rice, Fajita Vegetables, Sour Cream, Cheese, Guacamole]] ? [[Fresh Tomato Salsa (Mild), Roasted Chili Corn Salsa (Medium), Tomatillo-Red Chili Salsa (Hot)], [Black Beans, Rice, Sour Cream]] ? [Fresh Tomato Salsa, [Fajita Vegetables, Rice, Black Beans, Pinto Beans, Cheese, Lettuce]] ? [Coke] [Fresh Tomato Salsa, [Rice, Fajita Vegetables]] ? [Diet Coke] [Dr. Pepper] [Coca Cola] [Fresh Tomato Salsa (Mild), [Pinto Beans, Rice, Guacamole]] [Fresh Tomato Salsa, [Cheese, Lettuce]] ? [Fresh Tomato Salsa, [Fajita Vegetables, Rice, Black Beans, Sour Cream, Guacamole]] [Fresh Tomato Salsa, [Black Beans, Cheese, Sour Cream, Guacamole, Lettuce]] [Diet Coke] [Fresh Tomato (Mild), [Guacamole, Lettuce, Rice, Fajita Veggies, Cheese]] [Tomatillo-Red Chili Salsa (Hot), [Rice, Cheese, Sour Cream]] ? [Roasted Chili Corn Salsa, [Rice, Pinto Beans, Cheese, Sour Cream, Guacamole]] ? [Tomatillo Red Chili Salsa, [Fajita Vegetables, Rice, Black Beans, Cheese, Sour Cream, Guacamole, Lettuce]] [Fresh Tomato Salsa, [Fajita Vegetables, Rice, Black Beans, Cheese, Sour Cream, Guacamole]] [Fresh Tomato Salsa, [Fajita Vegetables, Rice, Lettuce]] [Fresh Tomato Salsa, [Fajita Vegetables, Rice, Sour Cream, Lettuce]] [Fresh Tomato Salsa, [Rice, Black Beans, Cheese]] [Fresh Tomato Salsa, [Fajita Vegetables, Rice, Black Beans, Pinto Beans, Cheese, Lettuce]] [Fresh Tomato Salsa, [Black Beans, Cheese, Guacamole]] [Tomatillo Red Chili Salsa, [Rice, Cheese, Sour Cream, Lettuce]] [Fresh Tomato Salsa, [Rice, Cheese, Sour Cream, Lettuce]] ? [Fresh Tomato Salsa, [Fajita Vegetables, Rice, Black Beans, Sour Cream, Guacamole, Lettuce]] [Diet Coke] [Fresh Tomato Salsa, [Rice, Black Beans, Cheese, Sour Cream, Guacamole, Lettuce]] [Fresh Tomato Salsa, [Rice, Black Beans, Cheese, Sour Cream, Guacamole, Lettuce]] ? [Tomatillo-Green Chili Salsa (Medium), [Rice, Cheese, Sour Cream, Lettuce]] ? [Roasted Chili Corn Salsa, [Rice, Black Beans, Cheese, Lettuce, Guacamole]] ? [Tomatillo Red Chili Salsa, [Rice, Black Beans, Cheese, Sour Cream, Lettuce]] [Coke] [Tomatillo Red Chili Salsa, [Rice, Black Beans, Cheese]] ? [Roasted Chili Corn Salsa, [Fajita Vegetables, Rice, Black Beans, Cheese, Sour Cream, Lettuce]] ? [Roasted Chili Corn Salsa, [Rice, Pinto Beans, Cheese, Sour Cream, Guacamole]] [Roasted Chili Corn Salsa, [Rice, Pinto Beans, Cheese, Sour Cream, Guacamole]] ? [Fresh Tomato Salsa, [Rice, Black Beans, Cheese, Guacamole]] [Tomatillo Green Chili Salsa, [Rice, Pinto Beans, Cheese, Sour Cream, Guacamole, Lettuce]] [Roasted Chili Corn Salsa, [Rice, Pinto Beans, Cheese, Sour Cream, Guacamole, Lettuce]] ? ? ? [Fresh Tomato Salsa, [Rice, Fajita Vegetables, Sour Cream, Cheese, Lettuce]] [Tomatillo-Green Chili Salsa (Medium), [Pinto Beans, Rice, Cheese, Sour Cream]] ? [Fresh Tomato Salsa (Mild), [Rice, Cheese, Sour Cream, Lettuce]] [Dr. Pepper] ? [[Fresh Tomato Salsa (Mild), Tomatillo-Red Chili Salsa (Hot)], [Pinto Beans, Fajita Veggies, Cheese, Guacamole]] [Tomatillo-Green Chili Salsa (Medium), [Black Beans, Rice, Fajita Veggies, Cheese, Sour Cream]] [Fresh Tomato Salsa, [Fajita Vegetables, Rice, Black Beans, Cheese, Sour Cream]] ? [Fresh Tomato Salsa (Mild), [Pinto Beans, Rice, Fajita Veggies, Cheese, Guacamole, Lettuce]] [Tomatillo Green Chili Salsa, [Sour Cream, Cheese, Lettuce]] ? [Tomatillo Green Chili Salsa, [Rice, Black Beans, Sour Cream, Cheese]] [Fresh Tomato Salsa (Mild), [Pinto Beans, Rice, Fajita Veggies, Cheese, Sour Cream, Lettuce]] [Fresh Tomato Salsa (Mild), [Pinto Beans, Black Beans, Rice, Fajita Veggies, Cheese, Sour Cream, Lettuce]] [Tomatillo-Red Chili Salsa (Hot), [Rice, Cheese, Sour Cream]] [Tomatillo-Red Chili Salsa (Hot), [Black Beans, Rice, Cheese, Lettuce]] [Roasted Chili Corn Salsa, [Rice, Cheese, Lettuce]] ? ? [Fresh Tomato Salsa, [Rice, Fajita Vegetables, Sour Cream, Cheese, Lettuce, Guacamole]] [Fresh Tomato (Mild), [Guacamole, Rice, Fajita Veggies, Sour Cream, Cheese]] [Fresh Tomato (Mild), [Lettuce, Rice, Fajita Veggies, Sour Cream, Cheese]] ? [Fresh Tomato Salsa, [Fajita Vegetables, Rice]] ? [Diet Coke] [Fresh Tomato Salsa, Rice] [Coke] [Tomatillo Red Chili Salsa, Rice] ? [Tomatillo Red Chili Salsa, [Rice, Black Beans, Cheese]] ? [Roasted Chili Corn Salsa, [Fajita Vegetables, Rice, Pinto Beans, Cheese, Sour Cream, Lettuce]] [Coke] [Tomatillo-Green Chili Salsa (Medium), [Black Beans, Rice, Cheese, Guacamole]] [Fresh Tomato Salsa (Mild), [Black Beans, Rice, Cheese, Sour Cream, Guacamole, Lettuce]] [Tomatillo-Red Chili Salsa (Hot), [Black Beans, Rice, Cheese, Sour Cream]] ? [[Roasted Chili Corn Salsa (Medium), Tomatillo-Red Chili Salsa (Hot)], [Pinto Beans, Rice, Fajita Veggies]] [[Roasted Chili Corn Salsa (Medium), Tomatillo-Red Chili Salsa (Hot)], [Pinto Beans, Rice, Fajita Veggies]] ? ? ? [Roasted Chili Corn Salsa, [Fajita Vegetables, Rice, Black Beans, Cheese]] ? [Fresh Tomato Salsa, [Lettuce, Guacamole, Rice, Cheese, Fajita Vegetables, Sour Cream]] [Roasted Chili Corn Salsa] [Fresh Tomato Salsa, [Rice, Cheese]] [Fresh Tomato Salsa, [Fajita Vegetables, Rice, Black Beans, Cheese, Guacamole, Lettuce]] [Fresh Tomato Salsa, [Fajita Vegetables, Rice, Black Beans, Cheese, Sour Cream, Guacamole, Lettuce]] ? ? [Tomatillo Red Chili Salsa, [Rice, Cheese, Sour Cream, Guacamole, Lettuce]] [Fresh Tomato Salsa (Mild), [Pinto Beans, Rice, Cheese, Sour Cream]] [Fresh Tomato Salsa (Mild), [Pinto Beans, Cheese, Sour Cream]] [Tomatillo-Green Chili Salsa (Medium), [Fajita Veggies, Cheese, Lettuce]] ? [Tomatillo Green Chili Salsa, [Fajita Vegetables, Rice, Cheese, Sour Cream]] [Roasted Chili Corn Salsa, [Rice, Black Beans, Cheese, Guacamole]] [Fresh Tomato Salsa, [Rice, Black Beans, Cheese, Sour Cream, Guacamole, Lettuce]] [Roasted Chili Corn Salsa, [Rice, Pinto Beans, Sour Cream]] [Fresh Tomato Salsa, [Cheese, Sour Cream, Lettuce]] [Fresh Tomato Salsa, [Rice, Pinto Beans, Guacamole, Lettuce]] [Fresh Tomato Salsa, [Cheese, Sour Cream, Lettuce]] [Fresh Tomato Salsa, [Rice, Black Beans, Cheese, Sour Cream, Lettuce]] [Roasted Chili Corn Salsa, [Rice, Black Beans, Cheese, Sour Cream, Guacamole]] [Fresh Tomato Salsa, [Rice, Black Beans, Cheese, Guacamole]] [[Fresh Tomato Salsa (Mild), Tomatillo-Red Chili Salsa (Hot)], [Black Beans, Rice, Cheese, Sour Cream, Guacamole]] [Fresh Tomato Salsa, [Rice, Pinto Beans, Cheese, Sour Cream, Guacamole, Lettuce]] ? [Tomatillo-Red Chili Salsa (Hot), [Pinto Beans, Rice, Cheese, Sour Cream, Guacamole]] [Roasted Chili Corn Salsa (Medium), [Rice, Cheese, Sour Cream]] [Tomatillo-Red Chili Salsa (Hot), [Black Beans, Rice, Fajita Veggies, Cheese, Sour Cream, Lettuce]] [Clementine] ? [[Fresh Tomato Salsa (Mild), Roasted Chili Corn Salsa (Medium)], [Black Beans, Rice, Cheese, Lettuce]] [Diet Coke] [Diet Dr. Pepper] ? [Tomatillo Red Chili Salsa, [Cheese, Rice, Black Beans]] ? [Roasted Chili Corn Salsa, [Rice, Black Beans, Sour Cream, Guacamole]] [Tomatillo Green Chili Salsa, [Rice, Cheese, Guacamole, Lettuce]] ? [Fresh Tomato Salsa, [Black Beans, Cheese, Sour Cream]] ? [Fresh Tomato Salsa, [Fajita Vegetables, Rice]] ? [Diet Coke] [Fresh Tomato Salsa, [Rice, Fajita Vegetables, Pinto Beans, Black Beans, Sour Cream, Cheese, Lettuce, Guacamole]] ? [Roasted Chili Corn Salsa, [Black Beans, Cheese, Sour Cream, Guacamole, Lettuce]] [Diet Coke] [Roasted Chili Corn Salsa, [Rice, Black Beans, Cheese, Sour Cream, Guacamole, Lettuce]] ? [Tomatillo-Green Chili Salsa (Medium), [Black Beans, Rice, Cheese, Guacamole]] [Fresh Tomato Salsa (Mild), [Black Beans, Rice, Cheese, Sour Cream, Guacamole, Lettuce]] ? [Fresh Tomato Salsa, [Rice, Black Beans, Cheese, Sour Cream, Lettuce]] [Fresh Tomato Salsa, [Rice, Black Beans, Sour Cream, Lettuce]] [Tomatillo Red Chili Salsa, [Rice, Pinto Beans, Cheese, Sour Cream]] ? [Tomatillo Red Chili Salsa, [Rice, Black Beans, Cheese, Sour Cream, Guacamole, Lettuce]] [Lemonade] [Tomatillo Green Chili Salsa, [Rice, Pinto Beans, Cheese, Guacamole, Lettuce]] [Lemonade] [Fresh Tomato Salsa (Mild), [Rice, Cheese]] ? [Diet Coke] [Fresh Tomato Salsa, [Sour Cream, Cheese, Guacamole]] [Coke] [Fresh Tomato Salsa, [Rice, Fajita Vegetables, Sour Cream, Cheese, Guacamole]] [Fresh Tomato Salsa (Mild), [Pinto Beans, Rice, Cheese, Sour Cream]] ? [Fresh Tomato Salsa, [Fajita Vegetables, Rice, Black Beans, Cheese, Lettuce]] [Fresh Tomato Salsa, [Fajita Vegetables, Rice, Black Beans, Cheese, Lettuce]] [Fresh Tomato Salsa, [Fajita Vegetables, Rice, Black Beans, Cheese, Lettuce]] ? ? ? [Coke] [Roasted Chili Corn Salsa (Medium), [Black Beans, Rice, Fajita Veggies, Cheese, Sour Cream, Guacamole, Lettuce]] [[Tomatillo-Green Chili Salsa (Medium), Tomatillo-Red Chili Salsa (Hot)], [Black Beans, Rice, Fajita Veggies, Sour Cream]] ? [Tomatillo Red Chili Salsa, [Rice, Black Beans, Cheese, Lettuce]] [Fresh Tomato Salsa, [Rice, Black Beans]] ? [Roasted Chili Corn Salsa, [Rice, Cheese]] ? [Fresh Tomato Salsa (Mild), [Rice, Cheese, Lettuce]] ? [Tomatillo Red Chili (Hot), [Lettuce, Rice, Cheese]] [Tomatillo Red Chili (Hot), [Lettuce, Rice, Sour Cream, Cheese]] [[Roasted Chili Corn Salsa (Medium), Fresh Tomato Salsa (Mild)], [Rice, Black Beans, Fajita Veggies, Cheese, Sour Cream, Guacamole, Lettuce]] ? [Fresh Tomato Salsa (Mild), [Rice, Cheese, Sour Cream, Guacamole, Lettuce]] [Fresh Tomato Salsa (Mild), [Rice, Black Beans, Cheese, Sour Cream, Guacamole, Lettuce]] ? [Fresh Tomato Salsa, [Rice, Sour Cream, Cheese, Lettuce]] [Sprite] [Fresh Tomato Salsa, [Rice, Black Beans, Cheese, Lettuce]] [Fresh Tomato Salsa, [Fajita Vegetables, Rice]] [Roasted Chili Corn Salsa, [Rice, Pinto Beans, Cheese]] [Diet Coke] ? [Tomatillo-Red Chili Salsa (Hot), [Black Beans, Rice, Cheese]] ? [Fresh Tomato Salsa, [Fajita Vegetables, Rice, Pinto Beans, Cheese, Sour Cream, Lettuce]] ? [[Roasted Chili Corn Salsa (Medium), Fresh Tomato Salsa (Mild)], [Lettuce, Black Beans, Sour Cream, Cheese, Rice, Fajita Veggies, Pinto Beans]] [Sprite] [Fresh Tomato Salsa, [Fajita Vegetables, Rice, Cheese, Sour Cream, Guacamole, Lettuce]] ? [Fresh Tomato (Mild), [Guacamole, Lettuce, Pinto Beans, Rice, Sour Cream, Cheese]] [Fresh Tomato (Mild), [Guacamole, Lettuce, Rice, Sour Cream, Cheese]] ? [Fresh Tomato Salsa (Mild), [Rice, Black Beans, Fajita Veggies, Cheese, Guacamole, Lettuce]] [Roasted Chili Corn Salsa, [Fajita Vegetables, Rice, Black Beans, Guacamole]] [Roasted Chili Corn Salsa, [Rice, Black Beans, Cheese, Sour Cream, Lettuce]] [Roasted Chili Corn Salsa, [Fajita Vegetables, Black Beans, Guacamole]] [Tomatillo Red Chili Salsa, [Rice, Cheese, Lettuce]] ? [Tomatillo Green Chili Salsa, [Rice, Pinto Beans, Sour Cream, Lettuce]] [[Fresh Tomato Salsa (Mild), Tomatillo-Red Chili Salsa (Hot)], [Black Beans, Rice, Cheese, Sour Cream]] ? ? [Fresh Tomato Salsa (Mild), [Black Beans, Rice, Fajita Veggies, Lettuce, Cheese, Sour Cream]] [Fresh Tomato Salsa (Mild), [Black Beans, Rice, Cheese]] ? [Tomatillo Red Chili Salsa, [Fajita Vegetables, Black Beans, Cheese, Sour Cream, Guacamole]] [Roasted Chili Corn Salsa, [Fajita Vegetables, Rice, Black Beans, Cheese, Sour Cream, Guacamole]] [Roasted Chili Corn Salsa, [Fajita Vegetables, Rice, Black Beans, Cheese, Sour Cream, Guacamole, Lettuce]] [Tomatillo Red Chili Salsa, [Rice, Black Beans, Cheese]] ? [Fresh Tomato Salsa, [Fajita Vegetables, Rice, Black Beans, Cheese, Sour Cream, Lettuce]] ? [Fresh Tomato Salsa, [Fajita Vegetables, Rice, Black Beans, Cheese, Sour Cream]] ? ? [Fresh Tomato Salsa, [Fajita Vegetables, Rice, Cheese, Sour Cream, Lettuce]] [[Tomatillo-Green Chili Salsa (Medium), Roasted Chili Corn Salsa (Medium), Tomatillo-Red Chili Salsa (Hot)], [Pinto Beans, Rice, Fajita Veggies, Cheese, Sour Cream, Guacamole, Lettuce]] [[Fresh Tomato Salsa (Mild), Tomatillo-Red Chili Salsa (Hot)], [Rice, Cheese, Sour Cream, Guacamole]] [Tomatillo-Red Chili Salsa (Hot), [Black Beans, Rice, Cheese]] [Fresh Tomato Salsa, [Rice, Pinto Beans, Cheese]] ? [Fresh Tomato Salsa, [Fajita Vegetables, Rice, Black Beans, Cheese, Sour Cream, Guacamole]] [Fresh Tomato Salsa, [Fajita Vegetables, Rice, Black Beans, Cheese, Guacamole, Lettuce]] [Roasted Chili Corn Salsa (Medium), [Rice, Cheese, Lettuce]] [Roasted Chili Corn Salsa (Medium), [Rice, Cheese, Lettuce]] [Tomatillo Red Chili Salsa, [Black Beans, Cheese, Sour Cream]] [Tomatillo Green Chili Salsa, [Fajita Vegetables, Rice, Pinto Beans, Cheese, Sour Cream]] [Fresh Tomato Salsa, [Rice, Cheese, Sour Cream, Lettuce]] [Fresh Tomato Salsa, [Rice, Cheese, Sour Cream, Lettuce]] [Roasted Chili Corn Salsa, [Rice, Pinto Beans, Cheese, Sour Cream, Guacamole]] [Roasted Chili Corn Salsa, [Rice, Cheese, Sour Cream, Guacamole]] ? [Tomatillo Green Chili Salsa, [Rice, Black Beans, Sour Cream, Cheese, Guacamole]] [Tomatillo Green Chili Salsa, [Rice, Fajita Vegetables, Sour Cream, Cheese, Lettuce, Guacamole]] [Coke] [Tomatillo-Green Chili Salsa (Medium), [Rice, Cheese, Sour Cream, Lettuce]] ? [Tomatillo Green Chili Salsa, [Rice, Black Beans, Pinto Beans, Cheese, Guacamole]] ? [Coke] [Tomatillo Red Chili Salsa, [Rice, Black Beans, Cheese, Sour Cream]] [Fresh Tomato Salsa, [Fajita Vegetables, Cheese, Sour Cream, Lettuce]] ? [Fresh Tomato Salsa, [Rice, Black Beans, Cheese, Lettuce]] ? [Tomatillo Green Chili Salsa, [Fajita Vegetables, Rice, Black Beans, Cheese, Sour Cream, Lettuce]] [Tomatillo Green Chili Salsa, Guacamole] ? [Roasted Chili Corn Salsa, [Fajita Vegetables, Rice, Black Beans, Guacamole]] [Tomatillo Green Chili Salsa, [Fajita Vegetables, Black Beans, Cheese, Guacamole, Lettuce]] [[Tomatillo-Green Chili Salsa (Medium), Roasted Chili Corn Salsa (Medium)], [Rice, Cheese, Sour Cream, Guacamole, Lettuce]] ? [Pomegranate Cherry] [Fresh Tomato Salsa, [Rice, Black Beans, Pinto Beans, Cheese, Sour Cream, Lettuce]] ? [Tomatillo-Red Chili Salsa (Hot), [Black Beans, Rice, Cheese, Sour Cream, Lettuce]] ? [Tomatillo-Red Chili Salsa (Hot), [Black Beans, Cheese, Sour Cream, Lettuce]] [Tomatillo-Red Chili Salsa (Hot), [Black Beans, Rice, Cheese, Sour Cream, Guacamole]] [Roasted Chili Corn Salsa, [Fajita Vegetables, Cheese, Sour Cream, Guacamole, Lettuce]] ? [[Tomatillo-Green Chili Salsa (Medium), Roasted Chili Corn Salsa (Medium)], [Black Beans, Rice, Fajita Veggies, Cheese, Sour Cream, Lettuce]] ? [Fresh Tomato Salsa, [Rice, Fajita Vegetables]] ? [Diet Coke] [Tomatillo Red Chili Salsa, [Rice, Cheese, Lettuce]] ? [Roasted Chili Corn Salsa, [Rice, Pinto Beans, Cheese, Lettuce]] [Coke] [Tomatillo Red Chili Salsa, [Rice, Black Beans, Cheese, Sour Cream, Guacamole, Lettuce]] [Coke] [Tomatillo Green Chili Salsa, [Rice, Pinto Beans, Cheese, Guacamole, Lettuce]] [Lemonade] [Tomatillo Green Chili Salsa, [Rice, Black Beans, Pinto Beans, Guacamole, Lettuce]] ? [Roasted Chili Corn Salsa, [Fajita Vegetables, Rice, Cheese, Lettuce]] [Coke] ? [[Tomatillo-Green Chili Salsa (Medium), Roasted Chili Corn Salsa (Medium)], [Rice, Fajita Veggies, Guacamole, Lettuce]] [Fresh Tomato Salsa (Mild), [Cheese, Sour Cream, Guacamole, Lettuce]] [Roasted Chili Corn Salsa, [Rice, Black Beans, Sour Cream]] [Tomatillo Red Chili Salsa, [Fajita Vegetables, Rice, Black Beans, Cheese, Sour Cream]] ? [Fresh Tomato Salsa, [Rice, Sour Cream, Guacamole]] [Diet Coke] [Tomatillo Red Chili Salsa, [Rice, Cheese, Sour Cream, Lettuce]] [Tomatillo Red Chili Salsa, [Rice, Cheese, Sour Cream, Lettuce]] [Diet Coke] [Fresh Tomato Salsa, [Rice, Black Beans, Cheese, Guacamole, Lettuce]] [Fresh Tomato Salsa (Mild), [Pinto Beans, Rice, Cheese, Sour Cream]] [Fresh Tomato Salsa (Mild), [Pinto Beans, Rice, Cheese, Sour Cream]] [Coca Cola] [Tomatillo-Green Chili Salsa (Medium), [Fajita Veggies, Cheese, Guacamole, Lettuce]] [Fresh Tomato Salsa, [Fajita Vegetables, Rice]] [Diet Coke] ? [Roasted Chili Corn Salsa, [Rice, Black Beans, Cheese, Lettuce, Guacamole]] ? [Fresh Tomato Salsa, [Rice, Black Beans, Cheese, Sour Cream, Guacamole]] [Fresh Tomato Salsa, [Fajita Vegetables, Rice, Guacamole]] [Roasted Chili Corn Salsa (Medium), [Rice, Cheese]] [Fresh Tomato Salsa (Mild), [Black Beans, Rice, Cheese, Sour Cream, Lettuce]] [Fresh Tomato Salsa, [Rice, Lettuce]] ? [Diet Coke] ? [Roasted Chili Corn Salsa, [Rice, Black Beans, Cheese]] [Diet Coke] ? [Brown Rice, Adobo-Marinated and Grilled Chicken, Vegetarian Black Beans] [White Rice, Adobo-Marinated and Grilled Chicken, Vegetarian Black Beans] ? [Tomatillo Red Chili Salsa] [Roasted Chili Corn Salsa] [Roasted Chili Corn Salsa] [Roasted Chili Corn Salsa] [Roasted Chili Corn Salsa] [Fresh Tomato Salsa, [Rice, Black Beans, Cheese, Guacamole, Lettuce]] ? [Roasted Chili Corn Salsa, [Fajita Vegetables, Rice, Pinto Beans, Guacamole, Lettuce]] ? [Fresh Tomato Salsa, [Fajita Vegetables, Cheese, Guacamole]] [Tomatillo Red Chili Salsa, [Fajita Vegetables, Rice, Cheese, Guacamole]] [Fresh Tomato Salsa, [Black Beans, Pinto Beans, Cheese, Guacamole, Lettuce]] [Fresh Tomato Salsa, [Rice, Sour Cream, Guacamole]] [[Tomatillo-Red Chili Salsa (Hot), Fresh Tomato Salsa (Mild)], [Rice, Fajita Veggies, Cheese, Sour Cream, Guacamole, Lettuce]] [Sprite] [[Fresh Tomato Salsa (Mild), Roasted Chili Corn Salsa (Medium)], [Rice, Fajita Veggies]] [[Fresh Tomato Salsa (Mild), Roasted Chili Corn Salsa (Medium)], [Rice, Fajita Veggies, Lettuce]] [Fresh Tomato Salsa, Rice] [Fresh Tomato Salsa, [Rice, Black Beans, Cheese, Sour Cream, Guacamole]] ? [Tomatillo Red Chili Salsa, [Rice, Cheese, Sour Cream, Lettuce]] [Roasted Chili Corn Salsa, [Rice, Cheese, Lettuce]] ? [Fresh Tomato Salsa (Mild), [Pinto Beans, Rice, Cheese, Sour Cream]] [Fresh Tomato Salsa, [Fajita Vegetables, Rice, Black Beans, Cheese, Sour Cream]] [Roasted Chili Corn Salsa, [Fajita Vegetables, Rice, Sour Cream, Lettuce]] [Fresh Tomato Salsa, [Rice, Black Beans, Cheese, Sour Cream]] [Roasted Chili Corn Salsa, [Rice, Fajita Vegetables]] [Tomatillo Green Chili Salsa, [Rice, Fajita Vegetables, Sour Cream]] [Fresh Tomato Salsa, [Rice, Black Beans, Cheese, Sour Cream, Guacamole]] ? [Fresh Tomato Salsa, [Fajita Vegetables, Rice, Black Beans, Pinto Beans, Cheese, Sour Cream, Guacamole, Lettuce]] [Fresh Tomato Salsa, [Fajita Vegetables, Rice, Black Beans, Pinto Beans, Cheese, Sour Cream, Guacamole]] ? [Fresh Tomato Salsa (Mild), [Rice, Cheese]] [Tomatillo-Red Chili Salsa (Hot), [Black Beans, Rice, Cheese, Sour Cream, Guacamole]] [Fresh Tomato Salsa, [Rice, Fajita Vegetables, Black Beans, Sour Cream, Cheese, Lettuce]] [Fresh Tomato Salsa, [Rice, Fajita Vegetables, Pinto Beans, Cheese]] ? [[Roasted Chili Corn Salsa (Medium), Tomatillo-Red Chili Salsa (Hot)], [Pinto Beans, Rice, Fajita Veggies, Cheese, Lettuce]] [Sprite] ? [Fresh Tomato Salsa, [Rice, Pinto Beans, Cheese]] [Fresh Tomato Salsa, Lettuce] [[Fresh Tomato Salsa (Mild), Roasted Chili Corn Salsa (Medium)], [Rice, Fajita Veggies, Cheese, Sour Cream, Guacamole, Lettuce]] [Tomatillo-Red Chili Salsa (Hot), [Black Beans, Rice, Fajita Veggies, Cheese, Lettuce]] [[Fresh Tomato Salsa (Mild), Roasted Chili Corn Salsa (Medium)], [Pinto Beans, Black Beans, Rice, Fajita Veggies, Cheese, Lettuce]] [Tomatillo-Green Chili Salsa (Medium), [Pinto Beans, Rice, Fajita Veggies, Cheese, Sour Cream, Lettuce]] ? [Tomatillo-Green Chili Salsa (Medium), [Black Beans, Rice, Cheese, Sour Cream, Guacamole, Lettuce]] [Tomatillo-Red Chili Salsa (Hot), [Black Beans, Rice, Cheese, Sour Cream, Lettuce]] ? [Fresh Tomato Salsa, [Rice, Sour Cream, Guacamole, Lettuce]] ? [Roasted Chili Corn Salsa, [Fajita Vegetables, Rice]] ? [Diet Coke] [Fresh Tomato Salsa (Mild), [Black Beans, Rice, Sour Cream, Guacamole]] [Roasted Chili Corn Salsa (Medium), [Rice, Cheese]] [Roasted Chili Corn Salsa, [Rice, Cheese, Lettuce, Guacamole]] ? [Fresh Tomato Salsa, [Fajita Vegetables, Rice]] ? [Diet Coke] [Fresh Tomato Salsa, [Fajita Vegetables, Rice, Cheese, Sour Cream, Lettuce]] [Roasted Chili Corn Salsa, [Fajita Vegetables, Rice, Black Beans, Cheese, Sour Cream, Lettuce]] [Fresh Tomato Salsa, [Fajita Vegetables, Cheese, Sour Cream]] [Fresh Tomato Salsa, [Rice, Black Beans, Cheese, Sour Cream, Guacamole, Lettuce]] ? [Tomatillo Red Chili Salsa, [Rice, Black Beans, Cheese]] [Coke] ? [Tomatillo-Red Chili Salsa (Hot), [Fajita Veggies, Cheese, Sour Cream, Guacamole]] [Fresh Tomato Salsa, [Rice, Black Beans, Cheese, Sour Cream, Lettuce]] ? [Nestea] [Roasted Chili Corn Salsa, [Rice, Black Beans, Sour Cream, Cheese, Lettuce]] ? [Sprite] [Roasted Chili Corn Salsa (Medium), Cheese] [[Fresh Tomato Salsa (Mild), Roasted Chili Corn Salsa (Medium)], [Black Beans, Rice, Fajita Veggies, Cheese, Sour Cream, Lettuce]] ? [Fresh Tomato Salsa, [Fajita Vegetables, Pinto Beans, Guacamole, Lettuce]] [Diet Coke] [Fresh Tomato Salsa, [Fajita Vegetables, Rice, Black Beans, Cheese, Sour Cream, Lettuce]] [Fresh Tomato Salsa, [Fajita Vegetables, Rice, Black Beans, Cheese, Sour Cream, Lettuce]] [Tomatillo Red Chili Salsa, [Rice, Cheese, Sour Cream, Lettuce]] [Fresh Tomato Salsa, [Rice, Cheese, Sour Cream, Lettuce]] [Fresh Tomato Salsa, [Rice, Pinto Beans, Cheese, Sour Cream, Guacamole, Lettuce]] [Diet Coke] [Tomatillo Red Chili Salsa, [Fajita Vegetables, Rice, Black Beans, Cheese, Sour Cream]] ? [Lemonade] [[Roasted Chili Corn Salsa (Medium), Tomatillo-Green Chili Salsa (Medium)], [Rice, Black Beans, Sour Cream]] [Mountain Dew] [Fresh Tomato Salsa, [Rice, Black Beans, Cheese]] ? [Fresh Tomato Salsa, [Rice, Black Beans, Cheese, Sour Cream, Lettuce]] [Fresh Tomato Salsa, [Sour Cream, Lettuce, Rice, Cheese]] ? [Fresh Tomato Salsa, [Rice, Sour Cream, Guacamole, Lettuce]] ? [Roasted Chili Corn Salsa, [Rice, Fajita Vegetables, Black Beans, Sour Cream, Cheese, Lettuce]] [Fresh Tomato Salsa, [Rice, Black Beans, Cheese, Lettuce]] [Fresh Tomato Salsa, [Rice, Sour Cream, Guacamole, Lettuce]] [Tomatillo Red Chili Salsa, [Rice, Black Beans, Cheese]] [Roasted Chili Corn Salsa, [Fajita Vegetables, Rice, Black Beans, Pinto Beans, Cheese, Guacamole, Lettuce]] [Fresh Tomato Salsa, [Fajita Vegetables, Rice, Black Beans, Pinto Beans, Cheese, Sour Cream, Guacamole, Lettuce]] [Tomatillo Green Chili Salsa, [Rice, Sour Cream, Cheese, Guacamole]] ? [Coke] [Fresh Tomato Salsa (Mild), [Black Beans, Rice, Fajita Veggies, Cheese, Sour Cream, Lettuce]] [[Fresh Tomato Salsa (Mild), Roasted Chili Corn Salsa (Medium), Tomatillo-Red Chili Salsa (Hot)], [Black Beans, Rice, Fajita Veggies, Cheese, Sour Cream, Lettuce]] [Fresh Tomato Salsa (Mild), [Black Beans, Rice, Cheese, Sour Cream, Lettuce]] [Roasted Chili Corn Salsa (Medium), [Black Beans, Rice, Fajita Veggies, Cheese, Lettuce]] [[Fresh Tomato Salsa (Mild), Tomatillo-Red Chili Salsa (Hot)], [Black Beans, Rice, Cheese, Sour Cream]] ? ? ? [Fresh Tomato Salsa, [Rice, Cheese, Lettuce]] ? ? [Tomatillo Red Chili Salsa, [Rice, Black Beans, Cheese, Sour Cream, Lettuce]] [Sprite] [Fresh Tomato Salsa, [Guacamole, Lettuce, Sour Cream, Fajita Vegetables, Cheese, Rice]] [Tomatillo Green Chili Salsa, [Fajita Vegetables, Rice, Cheese, Sour Cream, Guacamole]] [Fresh Tomato Salsa, [Rice, Cheese, Sour Cream, Lettuce]] ? [Fresh Tomato Salsa, [Fajita Vegetables, Rice, Cheese, Guacamole]] ? [Fresh Tomato Salsa, [Fajita Vegetables, Rice, Sour Cream]] ? [Roasted Chili Corn Salsa, [Rice, Black Beans]] [Fresh Tomato Salsa, [Rice, Black Beans]] [Diet Coke] [Fresh Tomato Salsa, [Rice, Guacamole, Lettuce]] ? [Roasted Chili Corn Salsa, [Fajita Vegetables, Lettuce, Black Beans]] ? [Tomatillo Green Chili Salsa, [Rice, Pinto Beans, Cheese, Guacamole, Lettuce]] [Coke] [Roasted Chili Corn Salsa, [Black Beans, Cheese, Lettuce]] [Coke] [Fresh Tomato Salsa] [Lemonade] ? [Tomatillo Green Chili Salsa, [Rice, Cheese, Sour Cream, Guacamole, Lettuce]] ? [Fresh Tomato Salsa, Rice] [Fresh Tomato Salsa, [Rice, Black Beans, Cheese, Sour Cream, Guacamole]] [Tomatillo Green Chili Salsa, [Rice, Cheese, Lettuce]] ? [Tomatillo Green Chili Salsa, [Rice, Pinto Beans, Cheese, Lettuce]] [Roasted Chili Corn Salsa, [Fajita Vegetables, Cheese, Lettuce]] [Fresh Tomato Salsa, [Fajita Vegetables, Sour Cream, Cheese, Lettuce, Guacamole]] ? ? [Diet Coke] [Roasted Chili Corn Salsa, [Rice, Fajita Vegetables, Cheese, Lettuce]] ? ? [Sprite] [Fresh Tomato Salsa, [Fajita Vegetables, Rice]] ? [Diet Coke] [Roasted Chili Corn Salsa, [Fajita Vegetables, Black Beans, Sour Cream, Lettuce, Guacamole]] ? [Tomatillo-Green Chili Salsa (Medium), [Rice, Cheese, Sour Cream, Lettuce]] [Peach Orange] [Roasted Chili Corn Salsa, [Black Beans, Cheese, Lettuce]] [Roasted Chili Corn Salsa, [Cheese, Lettuce]] [Fresh Tomato Salsa, [Fajita Vegetables, Rice, Sour Cream, Lettuce]] ? [Fresh Tomato Salsa, [Fajita Vegetables, Rice, Black Beans, Cheese, Sour Cream, Guacamole]] ? [Fresh Tomato Salsa, [Fajita Vegetables, Rice, Cheese, Sour Cream, Guacamole, Lettuce]] ? [Tomatillo Red Chili Salsa, [Fajita Vegetables, Rice, Black Beans, Cheese, Sour Cream, Lettuce]] [Roasted Chili Corn Salsa, [Fajita Vegetables, Rice, Black Beans, Cheese, Sour Cream, Guacamole, Lettuce]] [Fresh Tomato Salsa, [Rice, Fajita Vegetables, Cheese, Lettuce, Guacamole]] ? [Tomatillo Green Chili Salsa, [Rice, Pinto Beans, Sour Cream, Lettuce]] [Tomatillo Red Chili Salsa, [Rice, Cheese, Lettuce]] ? [Roasted Chili Corn Salsa, [Fajita Vegetables, Rice, Pinto Beans, Cheese, Sour Cream, Lettuce]] [Tomatillo Green Chili Salsa, [Rice, Cheese, Sour Cream, Lettuce]] [Fresh Tomato Salsa, [Rice, Cheese, Sour Cream, Guacamole, Lettuce]] [Tomatillo Green Chili Salsa, [Fajita Vegetables, Rice, Black Beans]] ? [Fresh Tomato Salsa, [Rice, Fajita Vegetables]] [Diet Coke] ? [Tomatillo-Red Chili Salsa (Hot), [Rice, Cheese, Sour Cream, Lettuce]] [Tomatillo-Red Chili Salsa (Hot), [Rice, Fajita Veggies, Sour Cream, Lettuce]] [Blackberry] [Blackberry] [Fresh Tomato Salsa (Mild), [Black Beans, Rice, Sour Cream, Guacamole]] [Fresh Tomato Salsa (Mild), [Rice, Fajita Veggies, Guacamole, Lettuce]] ? [Fresh Tomato Salsa, [Guacamole, Cheese, Rice, Sour Cream, Fajita Vegetables, Lettuce]] [Tomatillo Green Chili Salsa, [Sour Cream, Cheese, Guacamole, Rice, Fajita Vegetables]] [Fresh Tomato Salsa, [Rice, Pinto Beans, Cheese, Guacamole, Lettuce]] [Lemonade] ? [Roasted Chili Corn Salsa, [Fajita Vegetables, Rice, Cheese, Lettuce]] [Tomatillo Red Chili Salsa, [Rice, Black Beans, Cheese, Sour Cream, Guacamole, Lettuce]] [Roasted Chili Corn Salsa, [Rice, Black Beans, Cheese, Sour Cream]] ? ? [Pineapple Orange Banana] [Fresh Tomato Salsa (Mild), [Pinto Beans, Black Beans, Rice, Cheese, Sour Cream, Lettuce]] ? [Fresh Tomato Salsa, [Rice, Fajita Vegetables, Sour Cream, Cheese, Guacamole]] ? [Fresh Tomato Salsa, [Fajita Vegetables, Rice, Black Beans, Sour Cream, Guacamole, Lettuce]] [Fresh Tomato Salsa, [Fajita Vegetables, Rice, Black Beans, Cheese, Sour Cream, Guacamole, Lettuce]] [Roasted Chili Corn Salsa, [Rice, Pinto Beans, Sour Cream, Cheese, Guacamole]] ? [Fresh Tomato Salsa, [Rice, Sour Cream, Guacamole, Lettuce]] ? [Tomatillo Red Chili Salsa, [Rice, Black Beans, Cheese, Sour Cream, Lettuce]] [Tomatillo Red Chili Salsa, [Rice, Black Beans, Cheese, Sour Cream, Lettuce]] [Fresh Tomato Salsa (Mild), [Rice, Fajita Veggies, Cheese, Sour Cream, Lettuce]] [Tomatillo-Red Chili Salsa (Hot), [Rice, Fajita Veggies, Cheese, Sour Cream, Lettuce]] [[Fresh Tomato Salsa (Mild), Roasted Chili Corn Salsa (Medium), Tomatillo-Red Chili Salsa (Hot)], [Pinto Beans, Rice, Fajita Veggies, Cheese, Sour Cream, Lettuce]] [[Fresh Tomato Salsa (Mild), Roasted Chili Corn Salsa (Medium), Tomatillo-Red Chili Salsa (Hot)], [Pinto Beans, Cheese, Sour Cream, Lettuce]] [Fresh Tomato Salsa, [Rice, Black Beans, Cheese, Sour Cream, Guacamole]] [Fresh Tomato Salsa, [Rice, Black Beans, Cheese, Sour Cream, Lettuce]] [[Fresh Tomato Salsa (Mild), Tomatillo-Red Chili Salsa (Hot)], [Black Beans, Rice, Cheese, Sour Cream]] ? ? [Fresh Tomato (Mild), [Guacamole, Rice, Black Beans]] [Tomatillo-Red Chili Salsa (Hot), [Black Beans, Rice, Cheese, Lettuce]] [[Tomatillo-Green Chili Salsa (Medium), Tomatillo-Red Chili Salsa (Hot)], [Black Beans, Rice, Cheese, Lettuce]] [Roasted Chili Corn Salsa (Medium), [Rice, Cheese, Lettuce]] [Fresh Tomato Salsa (Mild), [Pinto Beans, Rice, Cheese, Sour Cream]] [Fresh Tomato Salsa (Mild), [Pinto Beans, Rice, Cheese, Sour Cream]] [Fresh Tomato Salsa, [Rice, Black Beans, Cheese, Sour Cream, Guacamole, Lettuce]] ? [Tomatillo Red Chili Salsa, Rice] [Tomatillo Red Chili Salsa, Rice] ? [[Fresh Tomato Salsa (Mild), Roasted Chili Corn Salsa (Medium), Tomatillo-Red Chili Salsa (Hot)], [Rice, Fajita Veggies, Cheese, Lettuce]] [Tomatillo-Red Chili Salsa (Hot), [Black Beans, Rice, Cheese, Lettuce]] [Fresh Tomato Salsa (Mild), [Fajita Veggies, Guacamole, Lettuce]] [Diet Coke] [Fresh Tomato Salsa, [Rice, Black Beans, Sour Cream, Cheese, Lettuce, Guacamole]] ? ? [Sprite] [Tomatillo Green Chili Salsa, [Fajita Vegetables, Rice, Black Beans, Pinto Beans, Cheese]] [Tomatillo Red Chili Salsa, [Rice, Cheese, Sour Cream, Lettuce]] [Tomatillo Red Chili Salsa, [Rice, Cheese, Sour Cream, Lettuce]] [Fresh Tomato Salsa, [Rice, Black Beans, Cheese, Lettuce]] ? [Tomatillo Red Chili Salsa, [Rice, Pinto Beans, Cheese, Lettuce]] ? [Lemonade] [Fresh Tomato Salsa (Mild), [Pinto Beans, Rice, Cheese, Sour Cream]] ? [Tomatillo Green Chili Salsa, [Rice, Pinto Beans, Cheese, Sour Cream, Guacamole]] ? [Tomatillo-Red Chili Salsa (Hot), [Lettuce, Sour Cream, Cheese, Fajita Veggies, Rice, Black Beans]] [Clementine] [Tomatillo Green Chili Salsa, [Rice, Fajita Vegetables, Sour Cream, Cheese, Lettuce]] [Roasted Chili Corn Salsa, [Rice, Fajita Vegetables, Sour Cream, Cheese, Lettuce]] [Fresh Tomato Salsa, [Rice, Cheese, Sour Cream, Guacamole]] [Roasted Chili Corn Salsa, [Rice, Cheese, Sour Cream, Guacamole]] ? [Fresh Tomato Salsa, [Fajita Vegetables, Rice]] ? [Diet Coke] [Fresh Tomato Salsa, [Sour Cream, Guacamole, Rice, Lettuce]] ? [Fresh Tomato Salsa, [Rice, Cheese, Lettuce]] ? [[Fresh Tomato Salsa (Mild), Roasted Chili Corn Salsa (Medium)], [Rice, Fajita Veggies]] [[Fresh Tomato Salsa (Mild), Roasted Chili Corn Salsa (Medium)], [Rice, Fajita Veggies, Lettuce]] [Fresh Tomato Salsa, [Rice, Fajita Vegetables, Black Beans, Lettuce, Guacamole]] [Roasted Chili Corn Salsa, [Rice, Cheese]] ? [Fresh Tomato Salsa, [Fajita Vegetables, Rice, Cheese, Guacamole]] [Fresh Tomato Salsa, [Fajita Vegetables, Rice, Black Beans, Pinto Beans, Cheese, Sour Cream, Guacamole, Lettuce]] [Tomatillo Green Chili Salsa, [Fajita Vegetables, Rice, Black Beans, Pinto Beans, Cheese, Sour Cream, Guacamole, Lettuce]] [Tomatillo Red Chili Salsa, [Rice, Black Beans, Cheese, Sour Cream, Guacamole, Lettuce]] ? [[Fresh Tomato Salsa (Mild), Roasted Chili Corn Salsa (Medium), Tomatillo-Red Chili Salsa (Hot)], [Black Beans, Rice, Cheese, Sour Cream]] ? [Tomatillo-Red Chili Salsa (Hot), [Pinto Beans, Rice, Fajita Veggies, Cheese, Sour Cream]] [Apple] [Tomatillo Red Chili Salsa, [Rice, Cheese, Sour Cream]] [Roasted Chili Corn Salsa, [Fajita Vegetables, Black Beans, Guacamole, Lettuce]] [Tomatillo Red Chili Salsa, [Rice, Black Beans, Cheese, Lettuce]] [Tomatillo Red Chili Salsa, [Rice, Pinto Beans, Cheese, Lettuce]] [Fresh Tomato Salsa, [Rice, Black Beans, Cheese, Sour Cream, Guacamole]] [Roasted Chili Corn Salsa, [Fajita Vegetables, Rice, Black Beans, Guacamole]] [Fresh Tomato Salsa, [Rice, Pinto Beans, Cheese, Guacamole, Lettuce]] [Roasted Chili Corn Salsa, [Rice, Pinto Beans, Cheese, Sour Cream, Guacamole, Lettuce]] [Fresh Tomato Salsa, [Rice, Pinto Beans, Guacamole, Lettuce]] [Roasted Chili Corn Salsa, [Fajita Vegetables, Rice, Pinto Beans, Cheese, Guacamole, Lettuce]] [Fresh Tomato Salsa, [Rice, Black Beans, Cheese, Sour Cream, Guacamole, Lettuce]] [Tomatillo-Red Chili Salsa (Hot), [Lettuce, Guacamole, Sour Cream, Cheese, Rice, Black Beans]] [Fresh Tomato Salsa (Mild), [Pinto Beans, Rice, Fajita Veggies, Cheese, Sour Cream, Guacamole, Lettuce]] ? [[Fresh Tomato Salsa (Mild), Tomatillo-Red Chili Salsa (Hot)], [Black Beans, Rice, Cheese, Sour Cream, Guacamole, Lettuce]] [Fresh Tomato Salsa (Mild), [Black Beans, Rice, Cheese, Sour Cream]] [Fresh Tomato Salsa (Mild), [Cheese, Lettuce]] ? [Fresh Tomato Salsa, Rice] ? ? [Fresh Tomato Salsa, [Rice, Black Beans, Cheese, Sour Cream, Guacamole]] ? [Fresh Tomato Salsa, [Sour Cream, Cheese]] [Fresh Tomato Salsa, [Rice, Cheese, Lettuce]] ? [Tomatillo-Green Chili Salsa (Medium), [Pinto Beans, Rice, Fajita Veggies, Lettuce]] ? [Fresh Tomato Salsa, [Rice, Black Beans, Cheese]] ? [Lemonade] [Roasted Chili Corn Salsa, [Fajita Vegetables, Rice, Black Beans, Pinto Beans, Guacamole, Lettuce]] ? [Fresh Tomato (Mild), [Guacamole, Sour Cream, Cheese]] [Roasted Chili Corn Salsa (Medium), [Rice, Fajita Veggies, Cheese]] [Fresh Tomato Salsa (Mild), [Black Beans, Rice, Fajita Veggies, Cheese]] [[Roasted Chili Corn Salsa (Medium), Tomatillo-Red Chili Salsa (Hot)], [Pinto Beans, Rice, Fajita Veggies, Cheese]] [Fresh Tomato Salsa, Guacamole] [Sprite] [Tomatillo Red Chili Salsa, [Cheese, Sour Cream, Guacamole, Lettuce]] [Tomatillo Red Chili Salsa, [Black Beans, Lettuce]] [Tomatillo Green Chili Salsa, [Rice, Pinto Beans, Black Beans, Sour Cream, Cheese, Lettuce]] [Roasted Chili Corn Salsa, [Rice, Fajita Vegetables, Black Beans, Sour Cream, Cheese, Lettuce]] ? [Tomatillo Red Chili Salsa, [Rice, Pinto Beans, Sour Cream, Guacamole, Lettuce]] ? [Tomatillo Green Chili Salsa, [Fajita Vegetables, Rice, Cheese, Sour Cream, Guacamole, Lettuce]] [Tomatillo Green Chili Salsa, [Pinto Beans, Sour Cream, Guacamole]] [Coke] [Fresh Tomato Salsa, [Fajita Vegetables, Sour Cream, Cheese, Lettuce]] ? [Diet Coke] [Roasted Chili Corn Salsa, [Rice, Black Beans, Cheese]] [Diet Coke] ? [Tomatillo-Red Chili Salsa (Hot), [Rice, Cheese, Sour Cream, Lettuce]] ? [Tomatillo Red Chili Salsa, [Rice, Black Beans, Cheese]] [Roasted Chili Corn Salsa, [Fajita Vegetables, Rice, Black Beans, Cheese, Sour Cream, Guacamole, Lettuce]] ? [Fresh Tomato Salsa (Mild), [Rice, Cheese, Sour Cream]] [[Fresh Tomato Salsa (Mild), Roasted Chili Corn Salsa (Medium)], [Black Beans, Rice, Cheese, Sour Cream, Guacamole]] [Roasted Chili Corn Salsa, [Fajita Vegetables, Rice, Black Beans, Cheese]] ? [Roasted Chili Corn Salsa, [Lettuce, Black Beans, Cheese]] [Roasted Chili Corn Salsa, [Cheese, Lettuce]] [Fresh Tomato Salsa, [Rice, Sour Cream, Guacamole, Lettuce]] [Tomatillo Red Chili Salsa, [Rice, Black Beans, Cheese]] [Tomatillo Red Chili Salsa, [Rice, Cheese, Lettuce]] [Tomatillo Green Chili Salsa, [Rice, Pinto Beans, Cheese, Lettuce]] [[Fresh Tomato Salsa (Mild), Roasted Chili Corn Salsa (Medium)], [Black Beans, Rice, Fajita Veggies, Cheese, Sour Cream, Guacamole, Lettuce]] [Fresh Tomato Salsa, [Fajita Vegetables, Rice, Black Beans, Cheese, Sour Cream, Guacamole]] [Fresh Tomato Salsa, [Fajita Vegetables, Rice, Pinto Beans, Cheese, Sour Cream]] [Roasted Chili Corn Salsa, [Rice, Black Beans, Cheese, Sour Cream, Lettuce]] [Fresh Tomato Salsa, [Cheese, Sour Cream, Lettuce]] ? [Fresh Tomato Salsa, [Rice, Fajita Vegetables, Sour Cream, Cheese, Guacamole]] ? ? [Tomatillo Red Chili Salsa, [Rice, Cheese, Sour Cream, Guacamole, Lettuce]] [[Fresh Tomato Salsa (Mild), Tomatillo-Red Chili Salsa (Hot)], [Black Beans, Rice, Cheese, Sour Cream]] ? [Roasted Chili Corn Salsa, [Rice, Cheese, Sour Cream, Lettuce]] [Coke] [Coke] [Coke] [Coke] [Tomatillo Red Chili Salsa, [Rice, Black Beans, Cheese, Sour Cream, Lettuce]] ? [[Tomatillo-Green Chili Salsa (Medium), Roasted Chili Corn Salsa (Medium)], [Black Beans, Rice, Fajita Veggies, Cheese, Sour Cream, Lettuce]] ? [Tomatillo Red Chili Salsa, [Rice, Black Beans, Cheese, Lettuce, Guacamole]] ? [Tomatillo Red Chili Salsa, [Rice, Cheese, Sour Cream]] [Tomatillo Red Chili Salsa, [Rice, Cheese, Sour Cream]] [[Fresh Tomato Salsa (Mild), Tomatillo-Red Chili Salsa (Hot)], [Black Beans, Rice, Cheese, Sour Cream]] ? [Fresh Tomato Salsa (Mild), [Rice, Cheese, Sour Cream, Lettuce]] [Sprite] [Fresh Tomato Salsa, [Rice, Fajita Vegetables, Pinto Beans, Black Beans, Lettuce, Guacamole]] [Diet Coke] [Fresh Tomato Salsa (Mild), [Black Beans, Rice, Fajita Veggies, Cheese, Sour Cream, Lettuce]] ? [Fresh Tomato Salsa (Mild), [Cheese, Sour Cream]] [Tomatillo Green Chili Salsa, [Rice, Cheese, Lettuce]] [Tomatillo Red Chili Salsa, [Rice, Cheese, Lettuce]] [Fresh Tomato Salsa, [Fajita Vegetables, Black Beans, Cheese, Guacamole]] ? [Tomatillo Red Chili Salsa, [Fajita Vegetables, Black Beans, Guacamole, Lettuce]] [Fresh Tomato Salsa, [Rice, Black Beans, Cheese, Guacamole]] [Fresh Tomato Salsa (Mild), [Pinto Beans, Rice, Cheese, Sour Cream]] [Fresh Tomato Salsa (Mild), [Pinto Beans, Rice, Cheese, Sour Cream]] [Tomatillo Green Chili Salsa, [Rice, Fajita Vegetables, Sour Cream, Cheese, Lettuce]] ? [Tomatillo Red Chili Salsa, [Rice, Black Beans, Cheese]] [Tomatillo Green Chili Salsa, [Rice, Cheese, Sour Cream, Guacamole, Lettuce]] [Tomatillo Green Chili Salsa, [Rice, Black Beans, Cheese, Sour Cream, Guacamole, Lettuce]] ? [Fresh Tomato Salsa, [Rice, Pinto Beans, Cheese, Lettuce]] ? [Roasted Chili Corn Salsa (Medium), [Black Beans, Rice, Cheese, Sour Cream, Lettuce]] ? [Fresh Tomato Salsa, [Fajita Vegetables, Rice]] ? [Diet Coke] [Tomatillo-Red Chili Salsa (Hot), [Sour Cream, Cheese, Fajita Veggies, Guacamole, Rice, Pinto Beans]] [[Fresh Tomato Salsa (Mild), Roasted Chili Corn Salsa (Medium)], [Black Beans, Rice, Fajita Veggies, Cheese, Sour Cream]] ? [Tomatillo Green Chili Salsa, [Rice, Black Beans, Cheese, Sour Cream, Lettuce]] ? [Tomatillo-Red Chili Salsa (Hot), [Black Beans, Rice, Cheese, Lettuce]] [Tomatillo-Red Chili Salsa (Hot), [Black Beans, Rice, Cheese, Sour Cream, Lettuce]] [[Roasted Chili Corn Salsa (Medium), Tomatillo-Red Chili Salsa (Hot), Fresh Tomato Salsa (Mild), Tomatillo-Green Chili Salsa (Medium)], [Rice, Black Beans, Fajita Veggies, Cheese, Sour Cream]] ? [Fresh Tomato Salsa, [Rice, Black Beans, Cheese, Sour Cream, Lettuce]] [Fresh Tomato Salsa, [Rice, Cheese, Lettuce]] ? [Roasted Chili Corn Salsa, [Rice, Black Beans, Lettuce]] [Fresh Tomato Salsa, [Fajita Vegetables, Rice, Pinto Beans, Cheese, Sour Cream]] [Tomatillo Red Chili Salsa, [Rice, Cheese, Lettuce]] ? [Tomatillo Green Chili Salsa, [Rice, Black Beans, Sour Cream, Cheese]] [Coke] ? [Roasted Chili Corn Salsa, [Rice, Cheese, Sour Cream, Lettuce]] [Fresh Tomato Salsa, [Fajita Vegetables, Rice]] ? ? [Tomatillo-Red Chili Salsa (Hot), [Black Beans, Rice, Cheese, Lettuce]] [Roasted Chili Corn Salsa (Medium), [Rice, Cheese, Lettuce]] ? [Tomatillo Red Chili Salsa, Sour Cream] ? [Diet Coke] [Fresh Tomato Salsa, [Rice, Pinto Beans, Cheese, Sour Cream, Guacamole]] ? [Tomatillo-Green Chili Salsa (Medium), [Black Beans, Rice, Cheese, Sour Cream, Guacamole, Lettuce]] ? [Fresh Tomato Salsa, [Rice, Cheese, Sour Cream]] [Fresh Tomato Salsa, [Rice, Cheese, Sour Cream]] [Roasted Chili Corn Salsa, [Rice, Black Beans, Cheese, Sour Cream]] ? [Fresh Tomato Salsa, [Rice, Black Beans, Cheese, Lettuce]] ? [Sprite] [Fresh Tomato Salsa, [Rice, Black Beans, Pinto Beans, Guacamole, Lettuce]] [Fresh Tomato Salsa, [Rice, Pinto Beans, Cheese, Lettuce]] [Fresh Tomato Salsa, [Cheese, Lettuce]] [Roasted Chili Corn Salsa, [Rice, Black Beans, Cheese, Sour Cream, Guacamole, Lettuce]] [Tomatillo Green Chili Salsa, [Rice, Black Beans, Cheese, Sour Cream, Lettuce]] [Fresh Tomato Salsa, [Fajita Vegetables, Rice, Guacamole, Lettuce]] [Coke] [Diet Coke] ? ? ? [Fresh Tomato Salsa, [Fajita Vegetables, Rice, Black Beans, Pinto Beans, Guacamole, Lettuce]] [Fresh Tomato Salsa, [Fajita Vegetables, Rice, Black Beans, Cheese, Guacamole, Lettuce]] [Fresh Tomato Salsa (Mild), [Black Beans, Rice, Cheese, Sour Cream, Lettuce]] [Fresh Tomato Salsa (Mild), [Black Beans, Rice, Sour Cream, Guacamole]] [Fresh Tomato Salsa, [Rice, Fajita Vegetables]] ? ? [Fresh Tomato Salsa, Rice] [Coke] ? ? [Lemonade] [Fresh Tomato Salsa, [Rice, Black Beans, Cheese]] ? [Fresh Tomato Salsa (Mild), [Cheese, Sour Cream, Lettuce]] ? [Fresh Tomato Salsa, [Rice, Fajita Vegetables, Pinto Beans, Black Beans, Lettuce, Guacamole]] ? [Roasted Chili Corn Salsa, [Rice, Black Beans, Lettuce, Guacamole]] ? [Fresh Tomato Salsa, [Sour Cream, Cheese, Rice]] [[Fresh Tomato Salsa (Mild), Tomatillo-Red Chili Salsa (Hot)], [Black Beans, Rice, Cheese, Sour Cream]] ? [Roasted Chili Corn Salsa, [Rice, Black Beans, Cheese, Lettuce]] ? [Fresh Tomato Salsa, [Rice, Black Beans, Cheese, Sour Cream, Guacamole]] [Fresh Tomato Salsa (Mild), [Black Beans, Rice, Cheese, Sour Cream]] ? [Roasted Chili Corn Salsa, [Rice, Black Beans, Sour Cream, Cheese, Lettuce]] [Tomatillo Green Chili Salsa, [Rice, Black Beans, Sour Cream, Cheese, Lettuce]] ? [Tomatillo Red Chili Salsa, [Rice, Black Beans, Sour Cream, Cheese, Lettuce]] ? [Diet Coke] [Fresh Tomato Salsa, [Rice, Fajita Vegetables, Black Beans, Cheese, Lettuce, Guacamole]] [Roasted Chili Corn Salsa (Medium), [Pinto Beans, Rice, Fajita Veggies, Sour Cream, Lettuce]] [[Roasted Chili Corn Salsa (Medium), Tomatillo-Red Chili Salsa (Hot)], [Pinto Beans, Rice, Fajita Veggies, Cheese, Sour Cream, Lettuce]] [Tomatillo Green Chili Salsa, [Rice, Black Beans, Sour Cream, Cheese]] ? [Coke] [Tomatillo Green Chili Salsa, [Black Beans, Cheese, Guacamole]] [Roasted Chili Corn Salsa, [Rice, Black Beans, Cheese, Lettuce]] ? [[Fresh Tomato Salsa (Mild), Roasted Chili Corn Salsa (Medium), Tomatillo-Red Chili Salsa (Hot)], [Pinto Beans, Rice, Fajita Veggies, Cheese, Sour Cream, Lettuce]] ? [Fresh Tomato Salsa (Mild), [Rice, Black Beans, Fajita Veggies, Cheese, Guacamole, Lettuce]] [Fresh Tomato Salsa, [Rice, Black Beans, Cheese, Sour Cream]] ? [Tomatillo Green Chili Salsa, [Rice, Cheese, Guacamole]] ? [Roasted Chili Corn Salsa (Medium), [Black Beans, Rice, Fajita Veggies, Cheese, Sour Cream, Lettuce]] [Tomatillo-Green Chili Salsa (Medium), [Black Beans, Rice, Cheese, Sour Cream]] ? [Tomatillo Green Chili Salsa, [Fajita Vegetables, Rice, Cheese, Sour Cream, Guacamole, Lettuce]] [Diet Coke] [Tomatillo Green Chili Salsa, [Sour Cream, Guacamole]] [Fresh Tomato Salsa, [Rice, Sour Cream, Lettuce, Guacamole]] ? [Fresh Tomato Salsa (Mild), [Black Beans, Rice, Cheese, Sour Cream, Lettuce]] ? [[Fresh Tomato Salsa (Mild), Tomatillo-Green Chili Salsa (Medium), Roasted Chili Corn Salsa (Medium)], [Pinto Beans, Rice, Cheese, Sour Cream, Lettuce]] [Dr. Pepper] [Coca Cola] [[Tomatillo-Green Chili Salsa (Medium), Roasted Chili Corn Salsa (Medium), Tomatillo-Red Chili Salsa (Hot)], [Pinto Beans, Rice, Fajita Veggies, Cheese, Sour Cream, Lettuce]] [[Fresh Tomato Salsa (Mild), Roasted Chili Corn Salsa (Medium)], [Black Beans, Rice, Cheese, Sour Cream, Lettuce]] [Dr. Pepper] [Fresh Tomato Salsa (Mild), [Rice, Fajita Veggies, Cheese, Lettuce]] [Fresh Tomato Salsa (Mild), [Pinto Beans, Rice, Cheese, Sour Cream]] [Fresh Tomato Salsa (Mild), [Pinto Beans, Rice, Cheese, Sour Cream]] [Fresh Tomato Salsa (Mild), [Pinto Beans, Rice, Sour Cream, Guacamole]] [Diet Coke] [Fresh Tomato Salsa, [Rice, Pinto Beans, Cheese, Guacamole, Lettuce]] [Tomatillo Green Chili Salsa, [Rice, Pinto Beans, Cheese, Lettuce]] [Fresh Tomato Salsa, [Fajita Vegetables, Rice, Guacamole, Lettuce]] [Roasted Chili Corn Salsa, [Fajita Vegetables, Rice, Sour Cream, Guacamole]] ? [Fresh Tomato Salsa, [Rice, Fajita Vegetables, Black Beans, Lettuce, Guacamole]] [Roasted Chili Corn Salsa, [Rice, Cheese]] ? ? [Fresh Tomato Salsa, [Sour Cream, Guacamole]] ? [Fresh Tomato Salsa (Mild), [Black Beans, Rice, Cheese, Sour Cream, Lettuce]] [Fresh Tomato Salsa (Mild), [Black Beans, Rice, Cheese, Sour Cream, Guacamole, Lettuce]] ? [Tomatillo Red Chili Salsa, Lettuce] ? [Tomatillo Red Chili Salsa] ? [Tomatillo Red Chili Salsa, [Rice, Black Beans, Sour Cream, Cheese, Lettuce]] ? ? [[Roasted Chili Corn Salsa (Medium), Tomatillo-Red Chili Salsa (Hot), Fresh Tomato Salsa (Mild), Tomatillo-Green Chili Salsa (Medium)], [Rice, Black Beans, Fajita Veggies, Cheese, Sour Cream]] [Diet Coke] [Fresh Tomato Salsa, [Fajita Vegetables, Sour Cream, Cheese, Lettuce]] ? [Tomatillo-Green Chili Salsa (Medium), [Cheese, Sour Cream]] ? [Fresh Tomato Salsa, [Rice, Black Beans, Cheese, Sour Cream, Lettuce]] [Tomatillo Green Chili Salsa, [Fajita Vegetables, Rice, Cheese, Guacamole, Lettuce]] [Diet Coke] [Fresh Tomato Salsa (Mild), [Rice, Pinto Beans, Cheese, Guacamole, Lettuce]] [Fresh Tomato Salsa, [Black Beans, Cheese, Lettuce]] ? [Coke] ? [Fresh Tomato Salsa, [Rice, Black Beans, Cheese, Guacamole, Lettuce]] ? ? ? [Tomatillo Red Chili Salsa, [Rice, Pinto Beans, Cheese, Lettuce]] [Tomatillo Green Chili Salsa, [Rice, Black Beans, Cheese, Guacamole]] ? [Tomatillo Red Chili Salsa, [Fajita Vegetables, Rice, Black Beans, Cheese, Guacamole, Lettuce]] [Fresh Tomato Salsa, [Fajita Vegetables, Rice, Pinto Beans, Cheese, Guacamole, Lettuce]] ? ? [Tomatillo Red Chili Salsa, [Rice, Lettuce]] [Tomatillo Red Chili Salsa, [Rice, Pinto Beans, Guacamole, Lettuce]] [Coke] [Fresh Tomato Salsa, [Rice, Black Beans, Cheese]] ? [Sprite] [Fresh Tomato Salsa, [Fajita Vegetables, Rice, Sour Cream, Lettuce]] ? [[Fresh Tomato Salsa (Mild), Roasted Chili Corn Salsa (Medium)], [Rice, Guacamole, Lettuce]] [Fresh Tomato Salsa (Mild), [Black Beans, Rice, Guacamole, Lettuce]] [Fresh Tomato Salsa (Mild), [Rice, Black Beans, Fajita Veggies, Cheese, Sour Cream, Lettuce]] ? [Tomatillo Green Chili Salsa, [Rice, Sour Cream, Guacamole]] [Tomatillo Red Chili Salsa, [Black Beans, Cheese, Sour Cream, Guacamole]] ? ? ? [Tomatillo Red Chili Salsa, [Rice, Black Beans, Sour Cream, Cheese, Lettuce]] [Fresh Tomato Salsa, [Rice, Black Beans, Cheese, Guacamole, Lettuce]] ? [Roasted Chili Corn Salsa, [Fajita Vegetables, Rice, Pinto Beans, Cheese, Sour Cream, Guacamole, Lettuce]] [Roasted Chili Corn Salsa, [Rice, Pinto Beans, Cheese, Sour Cream, Guacamole, Lettuce]] [Diet Coke] ? [Tomatillo Red Chili Salsa, [Fajita Vegetables, Rice, Cheese, Sour Cream]] [Tomatillo Red Chili Salsa, [Fajita Vegetables, Rice, Cheese, Sour Cream, Lettuce]] [Fresh Tomato Salsa, [Fajita Vegetables, Rice, Black Beans, Cheese, Sour Cream, Lettuce]] [Roasted Chili Corn Salsa, [Fajita Vegetables, Rice, Black Beans, Cheese, Sour Cream]] [Roasted Chili Corn Salsa, [Fajita Vegetables, Rice, Black Beans, Cheese, Sour Cream]] [Fresh Tomato Salsa, [Rice, Black Beans, Cheese, Sour Cream, Lettuce]] [Fresh Tomato Salsa, [Rice, Cheese, Lettuce]] [Roasted Chili Corn Salsa, [Rice, Black Beans, Lettuce]] [Tomatillo Green Chili Salsa, [Rice, Pinto Beans, Cheese, Sour Cream, Guacamole]] [Tomatillo Red Chili Salsa, [Fajita Vegetables, Rice, Black Beans, Cheese, Guacamole, Lettuce]] [Roasted Chili Corn Salsa, [Fajita Vegetables, Rice, Black Beans, Cheese, Lettuce]] [Roasted Chili Corn Salsa, [Rice, Black Beans, Cheese, Sour Cream, Lettuce]] ? ? [[Fresh Tomato Salsa (Mild), Tomatillo-Red Chili Salsa (Hot)], [Black Beans, Rice, Cheese, Sour Cream, Guacamole]] [[Tomatillo-Green Chili Salsa (Medium), Roasted Chili Corn Salsa (Medium), Tomatillo-Red Chili Salsa (Hot)], [Pinto Beans, Rice, Fajita Veggies, Cheese, Sour Cream, Lettuce]] [[Fresh Tomato Salsa (Mild), Tomatillo-Green Chili Salsa (Medium), Tomatillo-Red Chili Salsa (Hot)], [Pinto Beans, Black Beans, Rice, Fajita Veggies, Cheese, Sour Cream, Lettuce]] [Tomatillo-Green Chili Salsa (Medium), [Rice, Cheese, Guacamole]] [Tomatillo-Red Chili Salsa (Hot), [Black Beans, Rice, Cheese, Sour Cream, Lettuce]] [Tomatillo-Red Chili Salsa (Hot), [Black Beans, Rice, Cheese, Sour Cream]] [Fresh Tomato Salsa, [Rice, Black Beans, Cheese, Sour Cream, Guacamole, Lettuce]] [Fresh Tomato Salsa, Rice] [Tomatillo Green Chili Salsa, [Rice, Cheese, Sour Cream, Guacamole, Lettuce]] ? [Roasted Chili Corn Salsa (Medium), [Cheese, Sour Cream]] [[Fresh Tomato Salsa (Mild), Roasted Chili Corn Salsa (Medium)], [Black Beans, Guacamole]] ? [Fresh Tomato Salsa, [Rice, Black Beans, Cheese, Sour Cream, Lettuce]] [Roasted Chili Corn Salsa (Medium), [Rice, Fajita Veggies, Cheese, Sour Cream, Lettuce]] ? [Fresh Tomato Salsa (Mild), [Pinto Beans, Rice, Cheese, Sour Cream]] ? [Sprite] [Fresh Tomato Salsa, [Rice, Black Beans, Lettuce]] ? [Tomatillo Green Chili Salsa, [Fajita Vegetables, Cheese, Sour Cream, Guacamole, Lettuce, Rice]] [Tomatillo Green Chili Salsa, [Guacamole, Sour Cream]] [Fresh Tomato Salsa, [Lettuce, Rice, Black Beans, Cheese]] [[Fresh Tomato Salsa (Mild), Roasted Chili Corn Salsa (Medium)], [Rice, Fajita Veggies]] [[Fresh Tomato Salsa (Mild), Roasted Chili Corn Salsa (Medium)], [Rice, Fajita Veggies]] ? [Fresh Tomato Salsa, [Sour Cream, Guacamole, Lettuce]] ? [Fresh Tomato Salsa, [Cheese, Rice, Pinto Beans]] ? [Diet Coke] [Fresh Tomato Salsa, Cheese] ? [Tomatillo Green Chili Salsa, [Fajita Vegetables, Rice, Black Beans, Cheese, Guacamole]] [Tomatillo Green Chili Salsa, [Fajita Vegetables, Pinto Beans, Sour Cream, Guacamole, Lettuce]] ? [Tomatillo-Red Chili Salsa (Hot), [Pinto Beans, Cheese, Sour Cream, Rice, Fajita Veggies, Guacamole]] [Fresh Tomato Salsa, [Cheese, Sour Cream, Lettuce]] ? [Fresh Tomato Salsa, [Cheese, Sour Cream, Lettuce]] [Fresh Tomato Salsa, [Cheese, Sour Cream, Guacamole]] [Tomatillo Green Chili Salsa] [Fresh Tomato Salsa (Mild), [Pinto Beans, Rice, Cheese, Sour Cream]] ? [Fresh Tomato Salsa, [Rice, Black Beans, Pinto Beans, Cheese, Sour Cream]] [Roasted Chili Corn Salsa, [Fajita Vegetables, Rice, Black Beans, Pinto Beans, Cheese, Sour Cream, Lettuce]] [Fresh Tomato Salsa (Mild), [Black Beans, Rice, Cheese, Sour Cream, Guacamole]] [Fresh Tomato Salsa (Mild), [Rice, Fajita Veggies, Sour Cream, Lettuce]] ? [Clementine] [Tomatillo Red Chili Salsa, [Black Beans, Pinto Beans, Cheese, Sour Cream, Guacamole, Lettuce]] ? ? [Fresh Tomato Salsa, [Fajita Vegetables, Rice, Black Beans, Cheese, Sour Cream]] [Roasted Chili Corn Salsa, [Fajita Vegetables, Rice, Black Beans, Pinto Beans, Cheese, Sour Cream, Lettuce]] [Coke] [Tomatillo Green Chili Salsa, [Rice, Black Beans, Guacamole, Lettuce]] [Fresh Tomato Salsa, [Rice, Pinto Beans, Cheese]] ? [Fresh Tomato Salsa, [Cheese, Lettuce]] [Fresh Tomato Salsa, [Fajita Vegetables, Rice]] ? ? [Fresh Tomato Salsa, [Rice, Black Beans, Cheese, Sour Cream]] ? [Tomatillo Red Chili Salsa, [Rice, Black Beans]] [Tomatillo Red Chili Salsa, [Black Beans, Cheese, Sour Cream]] [Fresh Tomato Salsa, [Black Beans, Cheese, Sour Cream]] [Fresh Tomato Salsa, [Pinto Beans, Cheese, Sour Cream]] [Coke] ? [Roasted Chili Corn Salsa, [Rice, Pinto Beans, Cheese, Sour Cream, Guacamole]] [Fresh Tomato Salsa, [Rice, Fajita Vegetables, Pinto Beans, Black Beans, Lettuce, Guacamole]] ? [Fresh Tomato Salsa, [Rice, Black Beans, Cheese]] [Tomatillo Green Chili Salsa, [Fajita Vegetables, Rice, Cheese, Guacamole, Lettuce]] ? [[Fresh Tomato Salsa (Mild), Roasted Chili Corn Salsa (Medium)], [Black Beans, Rice, Fajita Veggies, Sour Cream, Lettuce]] ? [Roasted Chili Corn Salsa, [Cheese, Black Beans, Lettuce]] [Roasted Chili Corn Salsa, [Lettuce, Cheese]] [Roasted Chili Corn Salsa, [Rice, Pinto Beans, Cheese, Sour Cream]] ? [Roasted Chili Corn Salsa, [Rice, Cheese, Guacamole, Lettuce]] [Roasted Chili Corn Salsa, [Rice, Black Beans, Cheese, Sour Cream, Guacamole]] ? ? [Fresh Tomato Salsa, [Rice, Black Beans, Cheese, Sour Cream, Guacamole, Lettuce]] [Fresh Tomato Salsa, [Rice, Black Beans, Cheese, Sour Cream, Guacamole, Lettuce]] [Fresh Tomato Salsa, [Fajita Vegetables, Rice]] ? ? [Roasted Chili Corn Salsa, [Rice, Black Beans, Cheese, Sour Cream, Lettuce]] ? [Tomatillo-Red Chili Salsa (Hot), [Rice, Guacamole]] [Fresh Tomato Salsa (Mild), Black Beans] [Diet Coke] [Roasted Chili Corn Salsa, [Rice, Cheese, Sour Cream, Lettuce]] ? [Diet Coke] [Tomatillo-Red Chili Salsa (Hot), [Pinto Beans, Black Beans, Fajita Veggies, Cheese, Sour Cream, Lettuce]] ? ? [Fresh Tomato Salsa, [Rice, Black Beans, Cheese, Sour Cream]] [Tomatillo-Green Chili Salsa (Medium), [Rice, Cheese, Guacamole]] [Fresh Tomato Salsa, [Sour Cream, Cheese, Lettuce, Guacamole]] ? [[Fresh Tomato Salsa (Mild), Tomatillo-Red Chili Salsa (Hot)], [Guacamole, Rice, Black Beans, Cheese, Sour Cream]] [Fresh Tomato Salsa (Mild), [Rice, Cheese, Sour Cream, Lettuce]] [Roasted Chili Corn Salsa (Medium), [Black Beans, Rice, Cheese, Sour Cream, Lettuce]] ? [Fresh Tomato Salsa (Mild), [Pinto Beans, Rice, Cheese, Sour Cream]] [Fresh Tomato Salsa (Mild), [Pinto Beans, Rice, Cheese, Sour Cream]] ? [Fresh Tomato Salsa (Mild), [Black Beans, Rice, Cheese]] [Tomatillo-Green Chili Salsa (Medium), [Black Beans, Rice, Cheese, Sour Cream, Lettuce]] [Fresh Tomato Salsa (Mild), [Black Beans, Rice, Cheese, Lettuce]] [Tomatillo Red Chili Salsa, [Fajita Vegetables, Rice, Black Beans, Cheese, Guacamole]] [Fresh Tomato Salsa, [Fajita Vegetables, Rice, Guacamole, Lettuce]] [Tomatillo-Red Chili Salsa (Hot), [Black Beans, Rice, Cheese, Sour Cream, Guacamole]] [[Tomatillo-Green Chili Salsa (Medium), Roasted Chili Corn Salsa (Medium)], [Pinto Beans, Black Beans, Rice, Fajita Veggies, Cheese, Sour Cream, Guacamole, Lettuce]] [[Fresh Tomato Salsa (Mild), Tomatillo-Red Chili Salsa (Hot)], [Rice, Fajita Veggies, Cheese, Sour Cream, Guacamole, Lettuce]] ? [Pineapple Orange Banana] [Fresh Tomato Salsa, [Rice, Black Beans, Cheese]] [Sprite] ? [Fresh Tomato Salsa, [Fajita Vegetables, Rice, Black Beans, Cheese, Sour Cream, Guacamole, Lettuce]] ? [[Fresh Tomato Salsa (Mild), Roasted Chili Corn Salsa (Medium)], [Black Beans, Cheese, Guacamole]] ? ? [Roasted Chili Corn Salsa] [Fresh Tomato Salsa, [Rice, Black Beans, Lettuce]] [Fresh Tomato Salsa, [Rice, Pinto Beans, Sour Cream, Cheese, Lettuce]] [Fresh Tomato Salsa, [Rice, Cheese, Lettuce]] ? [Tomatillo Red Chili Salsa, [Rice, Cheese, Sour Cream]] [Fresh Tomato Salsa, [Fajita Vegetables, Rice, Black Beans, Cheese, Sour Cream]] [Fresh Tomato Salsa, [Fajita Vegetables, Rice, Black Beans, Cheese, Guacamole]] [Tomatillo Red Chili Salsa, [Rice, Black Beans, Cheese, Sour Cream]] ? [Roasted Chili Corn Salsa (Medium), [Black Beans, Rice, Fajita Veggies, Cheese, Sour Cream, Lettuce]] [Roasted Chili Corn Salsa (Medium), [Black Beans, Rice, Cheese, Sour Cream]] [Fresh Tomato Salsa, [Rice, Black Beans, Sour Cream, Cheese, Guacamole]] [Fresh Tomato Salsa, [Sour Cream, Cheese, Lettuce, Guacamole]] [Fresh Tomato Salsa, [Rice, Black Beans]] ? [Roasted Chili Corn Salsa, [Fajita Vegetables, Rice, Black Beans, Lettuce]] ? [Diet Coke] [Roasted Chili Corn Salsa, [Fajita Vegetables, Black Beans, Pinto Beans, Cheese, Lettuce]] [Tomatillo Red Chili Salsa, [Rice, Black Beans, Sour Cream, Cheese, Lettuce]] ? ? [Fresh Tomato Salsa, [Rice, Fajita Vegetables, Black Beans, Cheese, Lettuce, Guacamole]] [Fresh Tomato Salsa, [Rice, Fajita Vegetables, Pinto Beans, Cheese, Lettuce, Guacamole]] [Fresh Tomato Salsa, [Rice, Cheese, Sour Cream, Guacamole, Lettuce]] [Fresh Tomato Salsa, [Rice, Black Beans, Cheese, Sour Cream, Guacamole, Lettuce]] [Fresh Tomato Salsa, [Rice, Black Beans, Sour Cream, Cheese, Guacamole]] ? [Fresh Tomato Salsa, [Rice, Cheese, Sour Cream, Lettuce]] [Fresh Tomato Salsa, [Cheese, Sour Cream, Lettuce]] [Sprite] [Fresh Tomato Salsa, [Black Beans, Cheese, Sour Cream]] ? [[Roasted Chili Corn Salsa (Medium), Tomatillo-Green Chili Salsa (Medium)], [Rice, Black Beans, Pinto Beans, Fajita Veggies, Cheese, Sour Cream, Lettuce]] [Mountain Dew] ? [Roasted Chili Corn Salsa, [Rice, Pinto Beans, Cheese, Sour Cream, Guacamole]] [Roasted Chili Corn Salsa, [Rice, Pinto Beans, Cheese, Sour Cream, Guacamole]] ? [Tomatillo Red Chili Salsa, [Rice, Cheese, Sour Cream, Lettuce]] [Fresh Tomato Salsa, [Rice, Black Beans]] [Lemonade] [Fresh Tomato Salsa] ? [Tomatillo Green Chili Salsa, [Fajita Vegetables, Rice, Cheese, Sour Cream, Guacamole, Lettuce]] [Roasted Chili Corn Salsa, [Fajita Vegetables, Rice, Sour Cream, Guacamole, Lettuce]] [Tomatillo Red Chili Salsa, [Fajita Vegetables, Rice, Pinto Beans, Cheese, Lettuce]] [Fresh Tomato Salsa, [Fajita Vegetables, Rice, Pinto Beans, Cheese, Guacamole, Lettuce]] ? [Fresh Tomato Salsa (Mild), [Rice, Cheese, Lettuce]] ? [Roasted Chili Corn Salsa, Fajita Vegetables] [Fresh Tomato Salsa, [Pinto Beans, Sour Cream, Cheese]] [Fresh Tomato Salsa (Mild), [Pinto Beans, Rice, Cheese, Sour Cream]] [Fresh Tomato Salsa (Mild), [Pinto Beans, Rice, Cheese, Sour Cream]] [Tomatillo Red Chili Salsa, [Rice, Pinto Beans, Sour Cream, Cheese, Lettuce]] [Roasted Chili Corn Salsa, [Rice, Black Beans, Guacamole]] ? ? [Fresh Tomato Salsa, Guacamole] [Coke] [Roasted Chili Corn Salsa (Medium), [Rice, Guacamole, Lettuce]] [[Fresh Tomato Salsa (Mild), Tomatillo-Green Chili Salsa (Medium), Roasted Chili Corn Salsa (Medium), Tomatillo-Red Chili Salsa (Hot)], [Pinto Beans, Black Beans, Rice, Cheese, Sour Cream]] [Sprite] [[Fresh Tomato Salsa (Mild), Roasted Chili Corn Salsa (Medium)], [Black Beans, Rice, Sour Cream, Guacamole, Lettuce]] [[Fresh Tomato Salsa (Mild), Roasted Chili Corn Salsa (Medium)], [Black Beans, Rice, Cheese, Lettuce]] [Fresh Tomato Salsa (Mild), [Rice, Fajita Veggies, Cheese, Sour Cream, Lettuce]] [Fresh Tomato Salsa (Mild), [Black Beans, Rice, Cheese, Sour Cream, Guacamole]] [Fresh Tomato Salsa, [Fajita Vegetables, Rice]] ? ? [[Roasted Chili Corn Salsa (Medium), Tomatillo-Red Chili Salsa (Hot)], [Black Beans, Rice, Cheese, Sour Cream]] ? [Fresh Tomato Salsa, [Rice, Black Beans, Cheese, Sour Cream, Guacamole]] [Nestea] [Tomatillo Red Chili Salsa, [Rice, Cheese, Sour Cream, Lettuce]] [Tomatillo Red Chili Salsa, [Rice, Cheese, Sour Cream, Lettuce]] [Roasted Chili Corn Salsa, [Rice, Cheese]] [Roasted Chili Corn Salsa, [Black Beans, Sour Cream, Lettuce]] ? ? [Fresh Tomato Salsa, [Rice, Fajita Vegetables, Black Beans, Sour Cream]] [Fresh Tomato Salsa (Mild), [Pinto Beans, Rice, Fajita Veggies, Cheese, Sour Cream, Guacamole, Lettuce]] [Tomatillo-Red Chili Salsa (Hot), [Pinto Beans, Rice, Fajita Veggies, Cheese, Lettuce]] [Tomatillo Green Chili Salsa, [Rice, Pinto Beans, Sour Cream, Lettuce]] [Tomatillo Red Chili Salsa, [Rice, Cheese, Lettuce]] ? [Tomatillo Red Chili Salsa, [Rice, Pinto Beans, Cheese, Sour Cream]] [Fresh Tomato Salsa] [Roasted Chili Corn Salsa, [Rice, Black Beans, Cheese]] ? [Diet Coke] [Fresh Tomato Salsa, [Fajita Vegetables, Rice, Lettuce]] [Lemonade] [Roasted Chili Corn Salsa, [Rice, Black Beans, Cheese, Sour Cream, Lettuce]] ? [Fresh Tomato Salsa, [Rice, Black Beans, Cheese, Lettuce]] [Fresh Tomato Salsa, [Fajita Vegetables, Rice, Pinto Beans, Cheese, Lettuce]] [Fresh Tomato Salsa, [Rice, Pinto Beans, Cheese]] ? [Roasted Chili Corn Salsa, [Rice, Cheese, Sour Cream, Lettuce]] [Tomatillo Green Chili Salsa, [Rice, Black Beans, Cheese, Sour Cream, Guacamole, Lettuce]] [Coke] [Fresh Tomato Salsa, Rice] ? [Tomatillo Green Chili Salsa, [Rice, Pinto Beans, Cheese, Lettuce]] ? [Coke] [Roasted Chili Corn Salsa, [Rice, Black Beans, Cheese, Sour Cream, Guacamole, Lettuce]] ? [Fresh Tomato Salsa, [Fajita Vegetables, Rice, Lettuce]] [Fresh Tomato Salsa, [Fajita Vegetables, Cheese, Lettuce]] [Fresh Tomato Salsa, [Cheese, Lettuce]] [Tomatillo-Green Chili Salsa (Medium), [Black Beans, Rice, Cheese, Sour Cream, Guacamole]] [Fresh Tomato Salsa, Rice] [Fresh Tomato Salsa, [Rice, Cheese]] [Tomatillo Red Chili Salsa, [Rice, Black Beans, Cheese, Sour Cream, Lettuce]] ? [Sprite] [Fresh Tomato Salsa (Mild), [Black Beans, Rice, Cheese, Sour Cream, Guacamole, Lettuce]] [Fresh Tomato Salsa, [Rice, Pinto Beans, Cheese, Sour Cream, Lettuce]] ? ? [Roasted Chili Corn Salsa, [Cheese, Lettuce, Fajita Vegetables, Rice]] ? [Sprite] [Roasted Chili Corn Salsa, [Rice, Cheese, Sour Cream, Lettuce]] [Tomatillo Red Chili Salsa, [Rice, Cheese, Sour Cream, Lettuce]] [Roasted Chili Corn Salsa (Medium), [Rice, Fajita Veggies, Cheese, Sour Cream, Lettuce]] ? [Fresh Tomato Salsa, [Rice, Black Beans, Cheese, Sour Cream]] ? [Fresh Tomato Salsa, [Rice, Sour Cream, Lettuce]] [Roasted Chili Corn Salsa, [Fajita Vegetables, Rice, Cheese, Sour Cream, Lettuce]] [Roasted Chili Corn Salsa, [Fajita Vegetables, Rice, Cheese, Sour Cream]] [Roasted Chili Corn Salsa, [Fajita Vegetables, Rice, Cheese, Sour Cream, Lettuce]] [Fresh Tomato Salsa, [Rice, Black Beans, Lettuce]] [Fresh Tomato Salsa, [Rice, Black Beans, Cheese, Sour Cream, Lettuce]] [Roasted Chili Corn Salsa, [Rice, Cheese, Sour Cream, Lettuce]] [Fresh Tomato Salsa, [Rice, Black Beans, Cheese, Lettuce]] [Fresh Tomato Salsa, [Rice, Lettuce]] [Fresh Tomato Salsa, [Rice, Cheese, Sour Cream, Lettuce]] [Roasted Chili Corn Salsa, [Rice, Sour Cream]] [Fresh Tomato Salsa, [Rice, Black Beans, Cheese, Sour Cream, Lettuce]] [Roasted Chili Corn Salsa, [Rice, Black Beans, Cheese, Sour Cream, Lettuce]] [Roasted Chili Corn Salsa, [Rice, Black Beans, Sour Cream]] [Roasted Chili Corn Salsa, [Fajita Vegetables, Rice, Cheese, Sour Cream, Lettuce]] [Fresh Tomato Salsa, [Rice, Cheese]] [Fresh Tomato Salsa, [Rice, Cheese, Lettuce]] [Roasted Chili Corn Salsa, [Rice, Pinto Beans, Cheese, Sour Cream, Lettuce]] [Roasted Chili Corn Salsa, [Rice, Cheese]] [Fresh Tomato Salsa, [Rice, Black Beans, Cheese, Lettuce]] [Tomatillo Red Chili Salsa, [Rice, Cheese, Sour Cream, Lettuce]] [Tomatillo Red Chili Salsa, [Rice, Black Beans, Cheese]] [Roasted Chili Corn Salsa, [Rice, Black Beans, Cheese, Sour Cream, Lettuce]] [Fresh Tomato Salsa (Mild), [Rice, Fajita Veggies, Cheese, Sour Cream, Lettuce]] [Tomatillo-Green Chili Salsa (Medium), [Rice, Fajita Veggies, Cheese, Sour Cream, Lettuce]] [Fresh Tomato Salsa, [Rice, Black Beans, Cheese, Sour Cream, Lettuce]] ? [Nestea] [Fresh Tomato Salsa, [Rice, Black Beans, Cheese, Sour Cream, Guacamole]] ? [Fresh Tomato Salsa, [Rice, Black Beans, Sour Cream, Guacamole, Lettuce]] [Fresh Tomato Salsa, [Rice, Black Beans, Cheese, Sour Cream, Guacamole]] [Fresh Tomato Salsa, [Rice, Cheese, Lettuce]] ? ? [[Fresh Tomato Salsa (Mild), Roasted Chili Corn Salsa (Medium)], [Rice, Fajita Veggies]] [Fresh Tomato Salsa, [Black Beans, Pinto Beans, Cheese, Sour Cream, Guacamole]] ? [Fresh Tomato Salsa, [Rice, Pinto Beans, Cheese, Sour Cream, Lettuce]] ? ? [Fresh Tomato Salsa, [Rice, Cheese, Lettuce]] ? [Nestea] [Coke] [Fresh Tomato Salsa, [Rice, Black Beans, Sour Cream, Cheese]] ? [Fresh Tomato Salsa, [Fajita Vegetables, Rice, Black Beans, Cheese, Guacamole, Lettuce]] [Tomatillo Red Chili Salsa, [Fajita Vegetables, Rice, Black Beans, Pinto Beans, Cheese, Sour Cream, Lettuce]] ? [Fresh Tomato Salsa, [Rice, Fajita Vegetables]] ? [Sprite] [Roasted Chili Corn Salsa (Medium), [Black Beans, Rice, Cheese, Guacamole, Lettuce]] ? [Fresh Tomato Salsa, [Rice, Black Beans, Cheese, Lettuce]] [Coke] [Fresh Tomato Salsa, [Rice, Black Beans, Cheese, Sour Cream]] [Coke] [Tomatillo Green Chili Salsa, [Rice, Cheese, Sour Cream, Guacamole]] [Tomatillo Green Chili Salsa, [Rice, Black Beans, Cheese, Sour Cream, Lettuce]] [Tomatillo Green Chili Salsa, [Fajita Vegetables, Rice, Pinto Beans, Cheese, Sour Cream, Lettuce]] [Roasted Chili Corn Salsa (Medium), [Rice, Fajita Veggies, Cheese, Sour Cream]] ? [Fresh Tomato Salsa, [Fajita Vegetables, Rice, Black Beans, Pinto Beans, Cheese, Sour Cream, Lettuce]] [Roasted Chili Corn Salsa, [Fajita Vegetables, Rice, Black Beans, Pinto Beans, Cheese, Sour Cream, Guacamole, Lettuce]] [Fresh Tomato Salsa (Mild), [Black Beans, Rice, Fajita Veggies, Cheese, Sour Cream, Lettuce]] ? [Tomatillo Red Chili Salsa, [Rice, Cheese, Lettuce]] ? [Sprite] [Tomatillo Red Chili Salsa, Cheese] [Tomatillo Green Chili Salsa, [Rice, Black Beans, Cheese, Lettuce]] [Tomatillo Green Chili Salsa, [Fajita Vegetables, Rice, Black Beans, Cheese, Lettuce]] [Fresh Tomato Salsa, [Rice, Black Beans, Cheese, Lettuce]] [Peach Orange] [Fresh Tomato Salsa (Mild), [Pinto Beans, Cheese, Lettuce]] [Apple] [Fresh Tomato Salsa, [Fajita Vegetables, Rice, Black Beans, Cheese, Sour Cream, Guacamole, Lettuce]] [Fresh Tomato Salsa, [Fajita Vegetables, Rice, Black Beans, Pinto Beans, Cheese, Sour Cream, Guacamole, Lettuce]] [Roasted Chili Corn Salsa, [Fajita Vegetables, Black Beans, Pinto Beans, Cheese, Lettuce]] ? [Tomatillo Red Chili Salsa, [Rice, Black Beans, Sour Cream, Lettuce, Guacamole]] [Tomatillo Red Chili Salsa, [Rice, Sour Cream, Cheese, Lettuce]] [Fresh Tomato Salsa, [Rice, Sour Cream, Cheese]] [Coke] [Fresh Tomato Salsa (Mild), [Pinto Beans, Rice, Cheese, Sour Cream]] ? [Fresh Tomato Salsa, [Fajita Vegetables, Rice, Black Beans, Sour Cream, Lettuce]] [Fresh Tomato Salsa, [Rice, Black Beans, Cheese, Guacamole]] [Tomatillo Green Chili Salsa, [Rice, Black Beans, Cheese, Guacamole, Lettuce]] ? [Fresh Tomato Salsa, [Rice, Cheese, Sour Cream, Lettuce]] ? [Fresh Tomato Salsa, [Rice, Pinto Beans, Cheese, Lettuce]] [Roasted Chili Corn Salsa, [Cheese, Lettuce]] [Roasted Chili Corn Salsa, [Fajita Vegetables, Rice, Cheese, Sour Cream, Lettuce]] [Fresh Tomato Salsa, [Fajita Vegetables, Guacamole]] [Fresh Tomato Salsa, [Fajita Vegetables, Rice, Guacamole]] [Fresh Tomato Salsa, [Fajita Vegetables, Rice, Pinto Beans, Cheese, Guacamole]] [Fresh Tomato Salsa, [Fajita Vegetables, Rice, Black Beans, Cheese, Sour Cream]] [Tomatillo Red Chili Salsa, [Rice, Lettuce]] [Fresh Tomato Salsa, [Rice, Black Beans, Cheese, Sour Cream, Lettuce]] [Roasted Chili Corn Salsa, [Rice, Black Beans, Cheese, Sour Cream, Lettuce]] [Tomatillo-Red Chili Salsa (Hot), [Black Beans, Rice, Cheese, Lettuce]] ? ? [Fresh Tomato Salsa, [Rice, Black Beans, Cheese, Sour Cream, Guacamole, Lettuce]] ? [Fresh Tomato Salsa, [Rice, Black Beans, Cheese, Guacamole, Lettuce]] [Fresh Tomato Salsa, [Rice, Cheese, Sour Cream, Guacamole]] [Fresh Tomato Salsa, [Rice, Black Beans, Cheese, Sour Cream, Guacamole]] ? [Tomatillo-Green Chili Salsa (Medium), [Cheese, Lettuce]] [Tomatillo-Red Chili Salsa (Hot), [Cheese, Lettuce]] [Tomatillo Green Chili Salsa, [Black Beans, Cheese, Guacamole]] [Roasted Chili Corn Salsa, [Fajita Vegetables, Rice]] ? [Fresh Tomato Salsa, Fajita Vegetables] [Tomatillo Red Chili Salsa, [Fajita Vegetables, Rice, Black Beans, Cheese, Guacamole]] ? [Tomatillo Red Chili Salsa, [Fajita Vegetables, Rice, Black Beans, Cheese, Guacamole, Lettuce]] ? ? [Fresh Tomato Salsa, [Rice, Black Beans, Cheese, Sour Cream, Guacamole]] [[Fresh Tomato Salsa (Mild), Roasted Chili Corn Salsa (Medium)], [Black Beans, Rice, Fajita Veggies, Lettuce]] [Pomegranate Cherry] ? [Roasted Chili Corn Salsa, [Rice, Pinto Beans, Cheese, Sour Cream, Guacamole]] ? [Roasted Chili Corn Salsa, [Cheese, Sour Cream, Guacamole]] [Fresh Tomato Salsa (Mild), [Pinto Beans, Rice, Cheese, Sour Cream]] ? [Fresh Tomato Salsa, [Rice, Pinto Beans, Cheese]] [Fresh Tomato Salsa, [Rice, Black Beans, Cheese, Sour Cream, Guacamole, Lettuce]] [Fresh Tomato Salsa, [Fajita Vegetables, Rice, Cheese, Sour Cream, Guacamole, Lettuce]] [Diet Coke] ? [Tomatillo Green Chili Salsa, [Rice, Fajita Vegetables, Pinto Beans, Sour Cream, Cheese, Lettuce, Guacamole]] [Coca Cola] [Fresh Tomato Salsa (Mild), [Pinto Beans, Rice, Cheese, Sour Cream]] ? [Tomatillo Red Chili Salsa, [Rice, Black Beans, Sour Cream, Cheese, Lettuce]] [Fresh Tomato Salsa, [Rice, Black Beans, Sour Cream, Cheese, Lettuce]] [Tomatillo Red Chili Salsa, [Rice, Black Beans, Sour Cream, Cheese, Lettuce]] [Tomatillo Green Chili Salsa, [Rice, Cheese, Sour Cream, Lettuce]] [Tomatillo Red Chili Salsa, [Cheese, Sour Cream]] [Tomatillo Red Chili Salsa, [Rice, Black Beans, Sour Cream, Guacamole, Lettuce]] [Tomatillo Green Chili Salsa, [Rice, Black Beans, Sour Cream, Lettuce]] ? [Fresh Tomato Salsa, [Black Beans, Pinto Beans, Cheese, Sour Cream, Lettuce]] [Fresh Tomato Salsa, [Cheese, Sour Cream, Lettuce]] [Fresh Tomato Salsa, [Rice, Black Beans, Cheese, Sour Cream, Lettuce]] [Fresh Tomato Salsa, [Rice, Black Beans, Cheese, Sour Cream, Guacamole, Lettuce]] ? ? [Roasted Chili Corn Salsa, [Rice, Black Beans, Cheese, Guacamole]] [Fresh Tomato Salsa, [Cheese, Guacamole]] [Tomatillo-Red Chili Salsa (Hot), [Rice, Cheese, Lettuce]] [Fresh Tomato Salsa (Mild), [Black Beans, Rice, Sour Cream, Guacamole]] ? [Fresh Tomato Salsa, [Cheese, Sour Cream]] ? [Roasted Chili Corn Salsa, [Rice, Pinto Beans, Cheese, Sour Cream, Lettuce]] [Fresh Tomato Salsa, [Rice, Cheese, Sour Cream, Guacamole]] ? ? [[Roasted Chili Corn Salsa (Medium), Tomatillo-Red Chili Salsa (Hot)], [Black Beans, Rice, Cheese, Guacamole, Lettuce]] [Tomatillo Red Chili Salsa, [Rice, Black Beans, Cheese, Sour Cream, Lettuce]] [Fresh Tomato Salsa, [Rice, Black Beans, Cheese, Sour Cream, Guacamole, Lettuce]] [Tomatillo Green Chili Salsa, [Fajita Vegetables, Rice, Cheese, Sour Cream, Lettuce]] ? [[Fresh Tomato Salsa (Mild), Roasted Chili Corn Salsa (Medium)], [Rice, Cheese, Sour Cream, Guacamole, Lettuce]] ? [Roasted Chili Corn Salsa (Medium), [Pinto Beans, Rice, Cheese, Sour Cream, Lettuce]] [Coke] [Tomatillo Red Chili Salsa, [Rice, Fajita Vegetables, Pinto Beans, Sour Cream, Lettuce]] ? [[Tomatillo-Green Chili Salsa (Medium), Roasted Chili Corn Salsa (Medium), Tomatillo-Red Chili Salsa (Hot)], [Black Beans, Rice, Fajita Veggies, Guacamole, Lettuce]] [Roasted Chili Corn Salsa, [Fajita Vegetables, Rice, Pinto Beans, Cheese, Sour Cream, Lettuce]] [Fresh Tomato Salsa, [Fajita Vegetables, Rice, Pinto Beans, Cheese, Sour Cream, Lettuce]] [Tomatillo Green Chili Salsa, [Lettuce, Guacamole, Sour Cream, Cheese, Fajita Vegetables, Rice]] [Roasted Chili Corn Salsa, [Guacamole, Sour Cream, Rice, Fajita Vegetables, Lettuce]] [Tomatillo-Red Chili Salsa (Hot), [Black Beans, Cheese, Lettuce]] [[Tomatillo-Red Chili Salsa (Hot), Fresh Tomato Salsa (Mild)], [Pinto Beans, Cheese, Guacamole, Lettuce]] ? [Diet Coke] [Tomatillo Green Chili Salsa, [Rice, Black Beans, Cheese, Sour Cream, Guacamole]] [Fresh Tomato Salsa (Mild), [Pinto Beans, Rice, Cheese, Sour Cream]] [Coca Cola] ? [Fresh Tomato Salsa, [Guacamole, Cheese, Sour Cream, Fajita Vegetables, Rice]] ? [Fresh Tomato Salsa, Cheese] ? [Fresh Tomato Salsa (Mild), [Cheese, Lettuce]] ? [Roasted Chili Corn Salsa (Medium), [Black Beans, Rice, Cheese, Guacamole, Lettuce]] ? [Fresh Tomato Salsa, [Pinto Beans, Cheese, Sour Cream, Lettuce]] ? [Fresh Tomato Salsa, [Rice, Black Beans, Guacamole, Lettuce]] [Tomatillo Red Chili Salsa, [Fajita Vegetables, Black Beans, Cheese, Lettuce]] [Tomatillo Red Chili Salsa, [Fajita Vegetables, Black Beans, Cheese, Guacamole, Lettuce]] [Tomatillo Red Chili Salsa, [Fajita Vegetables, Rice, Black Beans, Pinto Beans, Cheese, Sour Cream, Guacamole, Lettuce]] [Roasted Chili Corn Salsa, [Black Beans, Cheese, Guacamole, Lettuce]] [Roasted Chili Corn Salsa, [Rice, Black Beans, Cheese, Guacamole]] [Tomatillo-Red Chili Salsa (Hot), [Rice, Cheese, Sour Cream, Lettuce]] ? [Sprite] [Tomatillo Green Chili Salsa, [Rice, Fajita Vegetables, Cheese, Lettuce]] [Tomatillo Red Chili Salsa, [Rice, Fajita Vegetables, Cheese, Lettuce]] [Fresh Tomato Salsa, [Rice, Fajita Vegetables, Cheese, Lettuce]] [Roasted Chili Corn Salsa, [Rice, Black Beans, Cheese, Sour Cream, Lettuce]] [Fresh Tomato Salsa, [Black Beans, Cheese, Guacamole, Lettuce]] [Fresh Tomato Salsa (Mild), [Pinto Beans, Rice, Cheese, Sour Cream]] [Coca Cola] [[Tomatillo-Green Chili Salsa (Medium), Tomatillo-Red Chili Salsa (Hot)], [Rice, Cheese, Sour Cream, Lettuce]] ? [Tomatillo Red Chili Salsa, [Black Beans, Cheese, Sour Cream, Guacamole]] [Diet Coke] [Tomatillo-Red Chili Salsa (Hot), [Rice, Fajita Veggies, Pinto Beans, Sour Cream, Cheese, Guacamole]] [Fresh Tomato Salsa, [Rice, Black Beans, Cheese, Lettuce]] ? [Coke] [Fresh Tomato Salsa, [Sour Cream, Lettuce]] [Fresh Tomato Salsa, [Rice, Black Beans, Cheese, Guacamole, Lettuce]] [Fresh Tomato Salsa, [Rice, Cheese, Sour Cream, Lettuce]] [Fresh Tomato Salsa, [Rice, Cheese, Sour Cream, Guacamole, Lettuce]] [Fresh Tomato Salsa, [Fajita Vegetables, Rice, Black Beans, Cheese, Sour Cream, Lettuce]] [Fresh Tomato Salsa, [Rice, Black Beans, Cheese, Sour Cream]] [Fresh Tomato Salsa, [Rice, Black Beans, Cheese, Guacamole]] ? [[Fresh Tomato Salsa (Mild), Tomatillo-Green Chili Salsa (Medium), Roasted Chili Corn Salsa (Medium)], [Black Beans, Rice, Cheese]] [Diet Dr. Pepper] ? [Fresh Tomato Salsa, [Fajita Vegetables, Rice]] ? [Sprite] [Tomatillo-Red Chili Salsa (Hot), [Black Beans, Rice, Cheese, Lettuce]] [Diet Coke] ? ? [[Tomatillo-Red Chili Salsa (Hot), Fresh Tomato Salsa (Mild)], [Rice, Pinto Beans, Cheese, Guacamole]] [Tomatillo-Red Chili Salsa (Hot), [Rice, Black Beans, Cheese, Lettuce]] [Fresh Tomato Salsa (Mild), [Rice, Cheese, Lettuce]] ? [Roasted Chili Corn Salsa, [Lettuce, Sour Cream, Cheese, Rice]] [Coke] [Coke] [Coke] [Tomatillo Red Chili Salsa, [Fajita Vegetables, Rice, Black Beans, Cheese, Sour Cream, Guacamole, Lettuce]] [Tomatillo Red Chili Salsa, [Fajita Vegetables, Black Beans, Cheese, Guacamole, Lettuce]] [Roasted Chili Corn Salsa, [Fajita Vegetables, Rice, Pinto Beans, Cheese, Sour Cream, Guacamole, Lettuce]] ? [Fresh Tomato Salsa, [Fajita Vegetables, Rice, Black Beans, Cheese, Sour Cream, Guacamole, Lettuce]] ? [Fresh Tomato Salsa (Mild), [Cheese, Rice, Pinto Beans, Sour Cream]] [Coca Cola] [Roasted Chili Corn Salsa, [Cheese, Guacamole, Lettuce]] ? [Roasted Chili Corn Salsa, [Fajita Vegetables, Rice, Black Beans, Pinto Beans, Sour Cream, Guacamole, Lettuce]] [Fresh Tomato Salsa, [Rice, Pinto Beans, Cheese]] [Fresh Tomato Salsa, [Fajita Vegetables, Rice, Black Beans, Pinto Beans, Cheese, Sour Cream, Guacamole, Lettuce]] [Tomatillo Red Chili Salsa, [Fajita Vegetables, Rice, Black Beans, Cheese, Sour Cream, Guacamole]] [Fresh Tomato Salsa, [Fajita Vegetables, Rice, Sour Cream, Guacamole]] [Roasted Chili Corn Salsa, [Rice, Cheese, Sour Cream]] ? [Fresh Tomato Salsa, [Rice, Black Beans, Cheese, Sour Cream, Guacamole, Lettuce]] ? [Fresh Tomato Salsa, [Rice, Black Beans, Cheese]] ? ? [Tomatillo Red Chili Salsa, [Rice, Fajita Vegetables, Black Beans, Cheese, Lettuce, Guacamole]] ? [Tomatillo-Green Chili Salsa (Medium), [Rice, Cheese, Sour Cream, Guacamole]] [[Roasted Chili Corn Salsa (Medium), Fresh Tomato Salsa (Mild)], [Rice, Fajita Veggies]] [Tomatillo Red Chili Salsa, [Rice, Pinto Beans, Cheese, Sour Cream]] [[Tomatillo-Green Chili Salsa (Medium), Roasted Chili Corn Salsa (Medium)], [Black Beans, Rice, Fajita Veggies, Cheese, Sour Cream, Guacamole]] ? [Mountain Dew] [Tomatillo Red Chili Salsa, [Rice, Black Beans, Cheese, Sour Cream]] [Tomatillo Red Chili Salsa, [Fajita Vegetables, Rice, Black Beans, Cheese, Sour Cream, Lettuce]] [Fresh Tomato Salsa, [Fajita Vegetables, Rice, Black Beans, Cheese, Lettuce]] ? [Fresh Tomato Salsa, [Rice, Black Beans, Cheese, Sour Cream, Lettuce]] [Fresh Tomato Salsa, [Rice, Cheese, Sour Cream, Lettuce]] ? [Fresh Tomato Salsa, [Rice, Black Beans, Cheese, Sour Cream]] [Diet Coke] ? [Roasted Chili Corn Salsa, [Rice, Cheese]] [Tomatillo Green Chili Salsa, [Rice, Black Beans, Cheese, Sour Cream]] [Tomatillo Red Chili Salsa, Fajita Vegetables] [Fresh Tomato Salsa, [Rice, Black Beans, Cheese, Sour Cream]] ? [Fresh Tomato Salsa, [Fajita Vegetables, Lettuce]] [Diet Coke] ? [Fresh Tomato Salsa, [Fajita Vegetables, Rice, Guacamole, Lettuce]] [Fresh Tomato Salsa, [Fajita Vegetables, Lettuce]] [Fresh Tomato Salsa, [Fajita Vegetables, Rice, Pinto Beans, Cheese, Lettuce]] [Fresh Tomato Salsa, [Sour Cream, Fajita Vegetables, Rice, Guacamole, Cheese]] ? ? [Fresh Tomato Salsa, [Fajita Vegetables, Rice, Black Beans, Cheese, Sour Cream, Guacamole, Lettuce]] [Roasted Chili Corn Salsa, [Fajita Vegetables, Rice, Black Beans, Cheese, Sour Cream, Guacamole, Lettuce]] [Fresh Tomato Salsa (Mild), [Black Beans, Rice, Fajita Veggies, Cheese, Sour Cream, Guacamole, Lettuce]] [Fresh Tomato Salsa, [Rice, Pinto Beans, Cheese, Guacamole, Lettuce]] ? [Fresh Tomato Salsa, [Rice, Black Beans, Sour Cream, Guacamole, Lettuce]] [Fresh Tomato Salsa, [Rice, Cheese, Sour Cream, Guacamole]] [Fresh Tomato Salsa (Mild), [Rice, Fajita Veggies, Cheese, Lettuce]] [Tomatillo-Red Chili Salsa (Hot), [Rice, Black Beans, Fajita Veggies, Guacamole]] [Fresh Tomato Salsa (Mild), [Rice, Fajita Veggies, Lettuce]] [Clementine] [Fresh Tomato Salsa, [Rice, Black Beans, Sour Cream, Lettuce]] [Tomatillo Red Chili Salsa, Rice] ? ? [Fresh Tomato Salsa, [Black Beans, Sour Cream, Cheese, Lettuce]] [Fresh Tomato Salsa, [Rice, Fajita Vegetables, Pinto Beans, Cheese, Guacamole]] ? ? [Roasted Chili Corn Salsa, [Rice, Black Beans, Sour Cream, Cheese, Guacamole]] [Fresh Tomato Salsa, [Sour Cream, Cheese, Lettuce, Guacamole]] [Fresh Tomato Salsa, [Rice, Cheese, Lettuce]] ? ? [Fresh Tomato Salsa (Mild), [Rice, Fajita Veggies, Lettuce]] [Clementine] [Fresh Tomato Salsa, [Rice, Cheese, Sour Cream, Guacamole]] [Diet Coke] [Fresh Tomato Salsa, [Rice, Black Beans, Cheese, Sour Cream, Lettuce]] [Fresh Tomato Salsa, [Cheese, Sour Cream, Guacamole]] [Nestea] [Tomatillo Green Chili Salsa, [Rice, Pinto Beans, Cheese, Lettuce]] ? [Lemonade] [Tomatillo Red Chili Salsa, [Rice, Pinto Beans, Sour Cream, Guacamole, Lettuce]] [Roasted Chili Corn Salsa, [Fajita Vegetables, Rice, Black Beans, Cheese, Sour Cream, Guacamole]] ? [Fresh Tomato Salsa, [Fajita Vegetables, Rice, Cheese, Sour Cream, Guacamole, Lettuce]] [Tomatillo Green Chili Salsa, [Fajita Vegetables, Rice, Black Beans, Cheese, Sour Cream, Guacamole, Lettuce]] [Fresh Tomato Salsa, [Rice, Cheese, Sour Cream, Guacamole]] [Fresh Tomato Salsa, [Rice, Black Beans, Cheese, Guacamole, Lettuce]] ? [Fresh Tomato Salsa, [Fajita Vegetables, Cheese, Sour Cream, Guacamole]] [Tomatillo-Red Chili Salsa (Hot), [Black Beans, Rice, Cheese, Sour Cream, Lettuce]] [Pineapple Orange Banana] [Fresh Tomato Salsa, [Cheese, Lettuce]] ? ? ? ? [Roasted Chili Corn Salsa (Medium), [Rice, Fajita Veggies, Cheese, Sour Cream, Lettuce]] [Roasted Chili Corn Salsa (Medium), [Rice, Fajita Veggies, Cheese, Sour Cream, Lettuce]] [Tomatillo Red Chili Salsa, [Fajita Vegetables, Black Beans, Cheese, Guacamole, Lettuce]] [Tomatillo Red Chili Salsa, [Fajita Vegetables, Black Beans, Cheese, Guacamole, Lettuce]] [Tomatillo Red Chili Salsa, [Fajita Vegetables, Rice, Black Beans, Cheese, Lettuce]] [Tomatillo Red Chili Salsa, [Rice, Black Beans, Cheese, Sour Cream, Guacamole, Lettuce]] ? ? [Tomatillo Red Chili Salsa, [Rice, Cheese, Lettuce]] [Tomatillo Red Chili Salsa, [Rice, Cheese]] ? [Tomatillo-Green Chili Salsa (Medium), [Rice, Fajita Veggies, Lettuce]] [Fresh Tomato Salsa (Mild), [Rice, Fajita Veggies, Cheese, Sour Cream, Lettuce]] [Fresh Tomato Salsa (Mild), [Rice, Black Beans, Sour Cream, Guacamole]] [Fresh Tomato Salsa (Mild), [Pinto Beans, Black Beans, Rice, Fajita Veggies, Cheese, Sour Cream, Guacamole, Lettuce]] ? [Tomatillo Green Chili Salsa, [Rice, Sour Cream, Guacamole, Lettuce]] [Tomatillo Green Chili Salsa, [Rice, Black Beans, Cheese]] [Fresh Tomato Salsa, [Rice, Black Beans, Guacamole, Lettuce]] ? ? [Sprite] [Tomatillo-Green Chili Salsa (Medium), [Black Beans, Rice, Cheese, Lettuce]] [Fresh Tomato Salsa (Mild), [Black Beans, Rice, Cheese, Sour Cream, Lettuce]] [Roasted Chili Corn Salsa, [Fajita Vegetables, Rice, Black Beans, Lettuce]] [Roasted Chili Corn Salsa, [Fajita Vegetables, Rice, Pinto Beans, Cheese, Sour Cream, Lettuce]] [Fresh Tomato Salsa, [Rice, Pinto Beans, Cheese]] [Fresh Tomato Salsa, [Cheese, Lettuce]] [Fresh Tomato Salsa, [Fajita Vegetables, Rice, Black Beans, Cheese]] ? [Diet Coke] [Fresh Tomato Salsa, [Rice, Sour Cream, Guacamole]] ? [Fresh Tomato Salsa, [Sour Cream, Cheese, Guacamole, Rice]] ? [Roasted Chili Corn Salsa, [Rice, Pinto Beans, Sour Cream, Cheese, Lettuce]] [Fresh Tomato Salsa, [Rice, Fajita Vegetables, Cheese]] [Fresh Tomato Salsa, [Rice, Black Beans, Cheese]] [Fresh Tomato Salsa, [Fajita Vegetables, Rice, Black Beans, Cheese, Sour Cream, Lettuce]] [Roasted Chili Corn Salsa, [Fajita Vegetables, Rice, Black Beans, Cheese, Sour Cream, Lettuce]] ? ? [Fresh Tomato Salsa, [Fajita Vegetables, Rice, Lettuce]] [Fresh Tomato Salsa, [Fajita Vegetables, Rice, Sour Cream, Lettuce]] [Fresh Tomato Salsa (Mild), [Black Beans, Rice, Cheese, Sour Cream, Lettuce]] ? [Tomatillo Green Chili Salsa, [Rice, Pinto Beans, Sour Cream, Lettuce]] ? [Tomatillo Red Chili Salsa, [Rice, Cheese, Lettuce]] ? ? [Tomatillo Red Chili Salsa, [Rice, Black Beans, Sour Cream, Cheese, Lettuce, Guacamole]] [Roasted Chili Corn Salsa, [Rice, Pinto Beans, Sour Cream, Cheese, Guacamole]] ? [Coke] [Roasted Chili Corn Salsa, [Cheese, Black Beans, Lettuce]] [Roasted Chili Corn Salsa, [Cheese, Lettuce]] [Fresh Tomato Salsa, [Rice, Black Beans, Cheese, Guacamole, Lettuce]] [Fresh Tomato Salsa, [Rice, Black Beans, Cheese, Guacamole, Lettuce]] [Fresh Tomato Salsa, [Fajita Vegetables, Rice, Black Beans, Cheese, Guacamole, Lettuce]] [Fresh Tomato Salsa, [Fajita Vegetables, Rice, Black Beans, Cheese, Guacamole, Lettuce]] [Roasted Chili Corn Salsa, [Rice, Cheese, Sour Cream, Guacamole, Lettuce]] [Roasted Chili Corn Salsa, [Fajita Vegetables, Rice, Black Beans, Cheese, Sour Cream, Guacamole, Lettuce]] [Roasted Chili Corn Salsa, [Rice, Pinto Beans, Cheese, Sour Cream, Lettuce]] ? [Nestea] [Fresh Tomato Salsa, [Rice, Black Beans, Pinto Beans, Cheese, Sour Cream, Guacamole, Lettuce]] [Fresh Tomato Salsa, [Rice, Pinto Beans, Cheese]] [Roasted Chili Corn Salsa, [Fajita Vegetables, Rice, Black Beans, Pinto Beans, Guacamole, Lettuce]] [Roasted Chili Corn Salsa, [Cheese, Lettuce]] ? [Fresh Tomato Salsa, [Rice, Black Beans, Cheese, Sour Cream, Lettuce]] ? [Fresh Tomato Salsa, Sour Cream] [Roasted Chili Corn Salsa, [Rice, Black Beans, Cheese, Sour Cream, Lettuce]] ? [Tomatillo Green Chili Salsa, [Rice, Black Beans, Pinto Beans, Cheese, Guacamole, Lettuce]] ? [Tomatillo Green Chili Salsa, [Rice, Pinto Beans, Cheese, Sour Cream, Guacamole, Lettuce]] [Roasted Chili Corn Salsa, [Rice, Pinto Beans, Cheese, Sour Cream, Lettuce]] ? [Fresh Tomato Salsa, [Fajita Vegetables, Black Beans, Cheese, Sour Cream, Guacamole]] [Fresh Tomato Salsa, [Pinto Beans, Cheese, Guacamole]] [Fresh Tomato Salsa, [Rice, Black Beans, Cheese]] ? ? [Roasted Chili Corn Salsa, [Fajita Vegetables, Rice]] ? [Fresh Tomato Salsa, [Rice, Cheese, Sour Cream]] [Fresh Tomato Salsa, [Rice, Black Beans, Guacamole, Lettuce]] [Fresh Tomato Salsa, [Rice, Black Beans, Cheese, Sour Cream, Guacamole, Lettuce]] [Roasted Chili Corn Salsa, [Rice, Pinto Beans, Sour Cream, Cheese, Guacamole]] ? [Roasted Chili Corn Salsa, [Rice, Pinto Beans, Sour Cream, Cheese, Guacamole]] [Fresh Tomato Salsa (Mild), [Rice, Cheese, Sour Cream, Lettuce]] ? [[Tomatillo-Green Chili Salsa (Medium), Roasted Chili Corn Salsa (Medium), Tomatillo-Red Chili Salsa (Hot)], [Black Beans, Rice, Fajita Veggies, Lettuce]] [[Tomatillo-Green Chili Salsa (Medium), Roasted Chili Corn Salsa (Medium), Tomatillo-Red Chili Salsa (Hot)], [Black Beans, Rice, Fajita Veggies, Lettuce]] [Tomatillo-Red Chili Salsa (Hot), [Black Beans, Fajita Veggies, Cheese, Sour Cream, Lettuce]] [Blackberry] [Tomatillo-Red Chili Salsa (Hot), [Rice, Fajita Veggies, Cheese]] [Fresh Tomato Salsa (Mild), [Pinto Beans, Rice, Cheese, Sour Cream, Guacamole, Lettuce]] ? [Tomatillo Red Chili Salsa, [Rice, Fajita Vegetables, Black Beans, Sour Cream, Cheese, Lettuce, Guacamole]] ? [Roasted Chili Corn Salsa, [Rice, Cheese]] ? [Diet Coke] [Fresh Tomato Salsa (Mild), [Rice, Fajita Veggies, Cheese, Guacamole]] [Sprite] [[Fresh Tomato Salsa (Mild), Roasted Chili Corn Salsa (Medium)], [Black Beans, Rice, Fajita Veggies, Cheese, Sour Cream, Lettuce]] [[Fresh Tomato Salsa (Mild), Roasted Chili Corn Salsa (Medium)], [Pinto Beans, Black Beans, Rice, Fajita Veggies, Cheese, Sour Cream, Lettuce]] [[Roasted Chili Corn Salsa (Medium), Fresh Tomato Salsa (Mild)], [Rice, Fajita Veggies]] ? [[Fresh Tomato Salsa (Mild), Tomatillo-Red Chili Salsa (Hot)], [Black Beans, Rice, Fajita Veggies, Cheese, Sour Cream, Guacamole, Lettuce]] [Sprite] [Fresh Tomato Salsa, [Rice, Pinto Beans, Cheese]] ? [Fresh Tomato Salsa, [Rice, Fajita Vegetables, Black Beans]] [Fresh Tomato Salsa, [Rice, Black Beans, Sour Cream]] ? [Tomatillo Red Chili Salsa, [Rice, Pinto Beans, Cheese, Sour Cream]] [Fresh Tomato Salsa, [Cheese, Guacamole, Sour Cream, Fajita Vegetables, Rice]] ? [Fresh Tomato Salsa, [Pinto Beans, Cheese, Sour Cream]] ? ? [Fresh Tomato Salsa, [Rice, Pinto Beans, Cheese, Lettuce]] [Roasted Chili Corn Salsa, [Rice, Cheese, Lettuce, Guacamole]] [Roasted Chili Corn Salsa, [Rice, Pinto Beans, Sour Cream, Cheese, Guacamole]] ? [Tomatillo Red Chili Salsa, [Rice, Cheese, Sour Cream, Lettuce]] [Fresh Tomato Salsa, [Rice, Black Beans, Cheese, Sour Cream]] [Roasted Chili Corn Salsa, [Fajita Vegetables, Rice, Sour Cream, Guacamole, Lettuce]] [Diet Coke] [Fresh Tomato Salsa, [Rice, Cheese, Lettuce]] [Roasted Chili Corn Salsa, [Fajita Vegetables, Rice, Black Beans, Cheese, Guacamole, Lettuce]] ? [Tomatillo-Red Chili Salsa (Hot), [Pinto Beans, Rice, Cheese, Sour Cream, Guacamole]] ? ? [Tomatillo Red Chili Salsa, [Rice, Black Beans, Sour Cream, Cheese, Lettuce]] ? [Fresh Tomato Salsa, [Fajita Vegetables, Rice, Black Beans, Lettuce]] [Fresh Tomato Salsa, [Fajita Vegetables, Rice, Black Beans, Guacamole, Lettuce]] [Tomatillo Red Chili Salsa, [Rice, Black Beans, Cheese, Sour Cream, Guacamole, Lettuce]] ? ? [Coke] [Fresh Tomato Salsa, [Rice, Black Beans, Cheese, Sour Cream, Lettuce]] [Fresh Tomato Salsa, [Rice, Cheese, Sour Cream, Lettuce]] ? [Roasted Chili Corn Salsa, [Rice, Black Beans, Sour Cream, Cheese, Guacamole]] [Roasted Chili Corn Salsa, [Sour Cream, Cheese, Lettuce, Guacamole]] [Tomatillo-Red Chili Salsa (Hot), [Black Beans, Rice, Cheese, Lettuce]] [Diet Dr. Pepper] ? ? [[Roasted Chili Corn Salsa (Medium), Tomatillo-Red Chili Salsa (Hot)], [Black Beans, Rice, Cheese, Sour Cream, Lettuce]] [Apple] [Tomatillo-Red Chili Salsa (Hot), [Rice, Cheese, Sour Cream, Lettuce]] ? [Roasted Chili Corn Salsa (Medium), [Rice, Fajita Veggies, Cheese, Sour Cream, Lettuce]] [Roasted Chili Corn Salsa (Medium), [Rice, Fajita Veggies, Cheese, Sour Cream, Lettuce]] ? [Roasted Chili Corn Salsa (Medium), [Pinto Beans, Black Beans, Rice, Fajita Veggies, Lettuce]] [[Fresh Tomato Salsa (Mild), Tomatillo-Red Chili Salsa (Hot)], [Rice, Cheese, Sour Cream, Lettuce]] [Coca Cola] [Fresh Tomato Salsa (Mild), [Rice, Cheese, Sour Cream, Guacamole, Lettuce]] ? ? [Fresh Tomato Salsa (Mild), [Cheese, Sour Cream]] [Coca Cola] [Fresh Tomato Salsa, [Rice, Cheese, Lettuce]] [Fresh Tomato Salsa, [Rice, Cheese, Lettuce]] [Tomatillo Green Chili Salsa, [Rice, Sour Cream, Guacamole, Lettuce]] [Tomatillo Green Chili Salsa, [Rice, Black Beans, Cheese]] [Fresh Tomato Salsa, [Rice, Cheese, Sour Cream]] [Fresh Tomato Salsa, [Fajita Vegetables, Rice, Cheese, Sour Cream, Lettuce]] [Peach Orange] [Roasted Chili Corn Salsa (Medium), [Black Beans, Rice, Fajita Veggies, Cheese, Sour Cream]] [Tomatillo-Green Chili Salsa (Medium), [Cheese, Sour Cream]] ? [Fresh Tomato Salsa, [Rice, Cheese, Sour Cream, Lettuce]] [Tomatillo Green Chili Salsa, [Rice, Pinto Beans, Cheese, Lettuce]] [Fresh Tomato Salsa, [Cheese, Sour Cream]] [Tomatillo Red Chili Salsa, [Cheese, Sour Cream]] [[Roasted Chili Corn Salsa (Medium), Fresh Tomato Salsa (Mild)], [Rice, Black Beans, Cheese, Lettuce]] ? ? [Roasted Chili Corn Salsa (Medium), [Black Beans, Rice, Fajita Veggies, Cheese, Sour Cream, Lettuce]] [Diet Coke] [Roasted Chili Corn Salsa (Medium), [Black Beans, Fajita Veggies, Cheese, Sour Cream, Lettuce]] [[Roasted Chili Corn Salsa (Medium), Tomatillo-Red Chili Salsa (Hot)], [Black Beans, Rice, Cheese, Sour Cream, Lettuce]] [Apple] [Roasted Chili Corn Salsa, [Rice, Fajita Vegetables, Lettuce, Guacamole]] [Diet Coke] [[Roasted Chili Corn Salsa (Medium), Tomatillo-Red Chili Salsa (Hot), Fresh Tomato Salsa (Mild), Tomatillo-Green Chili Salsa (Medium)], [Rice, Black Beans, Fajita Veggies, Cheese, Sour Cream]] ? [Fresh Tomato Salsa, [Fajita Vegetables, Cheese, Sour Cream, Lettuce]] ? [Diet Coke] [Tomatillo Red Chili Salsa, [Rice, Black Beans, Pinto Beans, Cheese, Sour Cream, Lettuce]] [Tomatillo Red Chili Salsa, [Cheese, Sour Cream]] [Roasted Chili Corn Salsa, [Fajita Vegetables, Rice, Guacamole, Lettuce]] [Fresh Tomato Salsa, [Fajita Vegetables, Rice, Sour Cream, Guacamole, Lettuce]] [Fresh Tomato Salsa, [Fajita Vegetables, Rice, Black Beans, Pinto Beans, Guacamole, Lettuce]] [Sprite] [Tomatillo Red Chili Salsa, [Rice, Black Beans, Pinto Beans, Cheese, Sour Cream]] [Roasted Chili Corn Salsa, [Black Beans, Pinto Beans, Cheese, Sour Cream]] ? [Coke] [Tomatillo Red Chili Salsa, [Rice, Cheese, Sour Cream]] [Coke] ? [Tomatillo-Red Chili Salsa (Hot), [Pinto Beans, Cheese, Sour Cream, Lettuce]] [Tomatillo-Red Chili Salsa (Hot), [Pinto Beans, Cheese, Sour Cream, Lettuce]] [Fresh Tomato Salsa, [Fajita Vegetables, Rice, Cheese, Lettuce]] ? [Coke] [Fresh Tomato Salsa, [Sour Cream, Cheese, Lettuce, Guacamole]] ? ? [Roasted Chili Corn Salsa, [Rice, Black Beans]] [Roasted Chili Corn Salsa, [Black Beans, Sour Cream, Cheese, Lettuce]] [Fresh Tomato (Mild), [Lettuce, Black Beans, Guacamole, Rice, Sour Cream, Cheese]] [[Roasted Chili Corn Salsa (Medium), Tomatillo-Red Chili Salsa (Hot)], [Black Beans, Rice, Cheese, Sour Cream, Lettuce]] ? [Fresh Tomato Salsa (Mild), [Pinto Beans, Rice, Cheese, Sour Cream, Lettuce]] ? [Tomatillo-Red Chili Salsa (Hot), [Pinto Beans, Rice, Cheese, Guacamole]] ? [Blackberry] [Roasted Chili Corn Salsa, [Pinto Beans, Rice, Cheese, Sour Cream, Guacamole]] ? [Fresh Tomato Salsa, [Sour Cream, Rice, Guacamole, Lettuce]] ? [Fresh Tomato Salsa, [Rice, Cheese, Sour Cream]] [Roasted Chili Corn Salsa, Cheese] [Tomatillo Red Chili Salsa, [Rice, Black Beans, Cheese, Sour Cream, Guacamole, Lettuce]] [Fresh Tomato Salsa, [Fajita Vegetables, Rice, Black Beans, Cheese, Guacamole, Lettuce]] [Fresh Tomato Salsa, [Rice, Pinto Beans, Cheese, Sour Cream, Guacamole, Lettuce]] [Fresh Tomato Salsa, [Fajita Vegetables, Rice, Pinto Beans, Cheese, Sour Cream, Guacamole, Lettuce]] ? [Fresh Tomato Salsa, [Rice, Black Beans, Cheese, Sour Cream, Guacamole, Lettuce]] [Diet Coke] [Coca Cola] [Sprite] ? [Roasted Chili Corn Salsa (Medium), [Cheese, Sour Cream, Lettuce]] [Roasted Chili Corn Salsa (Medium), [Black Beans, Rice, Cheese, Sour Cream, Lettuce]] ? [Fresh Tomato Salsa, [Fajita Vegetables, Rice, Black Beans, Guacamole, Lettuce]] [Roasted Chili Corn Salsa, [Fajita Vegetables, Rice, Black Beans, Cheese, Lettuce]] [Fresh Tomato Salsa, [Rice, Fajita Vegetables, Black Beans, Cheese, Lettuce, Guacamole]] [Fresh Tomato Salsa, [Rice, Fajita Vegetables, Black Beans, Lettuce, Guacamole]] [Fresh Tomato Salsa, [Fajita Vegetables, Rice, Pinto Beans, Cheese, Sour Cream, Guacamole, Lettuce]] ? ? [Fresh Tomato (Mild), [Rice, Sour Cream, Cheese]] [Fresh Tomato (Mild), [Guacamole, Rice]] ? [Tomatillo Red Chili Salsa, [Rice, Black Beans, Cheese]] ? [Roasted Chili Corn Salsa (Medium), [Rice, Black Beans, Pinto Beans, Fajita Veggies, Lettuce]] [Tomatillo Green Chili Salsa, [Black Beans, Cheese, Guacamole, Lettuce]] ? [Roasted Chili Corn Salsa (Medium), [Rice, Cheese, Sour Cream, Lettuce]] ? ? [Roasted Chili Corn Salsa, [Rice, Pinto Beans, Sour Cream, Cheese, Guacamole]] ? [Roasted Chili Corn Salsa, [Rice, Cheese, Sour Cream, Guacamole, Lettuce]] [Fresh Tomato Salsa, [Cheese, Sour Cream, Lettuce]] ? [Tomatillo Red Chili Salsa, [Rice, Pinto Beans, Cheese]] [Tomatillo Red Chili Salsa, [Rice, Cheese, Lettuce]] ? [Tomatillo Green Chili Salsa, [Rice, Pinto Beans, Sour Cream, Lettuce]] [Fresh Tomato Salsa, [Fajita Vegetables, Black Beans, Cheese, Sour Cream, Guacamole, Lettuce]] [Fresh Tomato Salsa, [Fajita Vegetables, Rice, Cheese, Sour Cream, Guacamole, Lettuce]] [Tomatillo Red Chili Salsa, [Rice, Black Beans, Cheese, Lettuce]] [Roasted Chili Corn Salsa, [Rice, Cheese, Sour Cream, Guacamole, Lettuce]] [Tomatillo-Green Chili Salsa (Medium), [Black Beans, Rice, Fajita Veggies, Cheese, Sour Cream, Guacamole, Lettuce]] [Tomatillo-Red Chili Salsa (Hot), [Black Beans, Rice, Fajita Veggies, Cheese]] ? [[Fresh Tomato Salsa (Mild), Tomatillo-Green Chili Salsa (Medium)], [Rice, Fajita Veggies, Cheese, Sour Cream, Lettuce]] [Roasted Chili Corn Salsa, [Rice, Pinto Beans, Sour Cream, Cheese, Lettuce]] [Fresh Tomato Salsa, [Rice, Sour Cream, Cheese, Guacamole]] ? [Peach Orange] [Fresh Tomato Salsa (Mild), [Black Beans, Rice, Fajita Veggies, Cheese, Sour Cream, Lettuce]] [Tomatillo-Red Chili Salsa (Hot), [Black Beans, Rice, Cheese, Sour Cream, Lettuce]] [Roasted Chili Corn Salsa (Medium), [Rice, Fajita Veggies, Cheese, Sour Cream, Lettuce]] [Fresh Tomato Salsa, [Cheese, Rice, Black Beans, Lettuce]] [[Tomatillo-Green Chili Salsa (Medium), Roasted Chili Corn Salsa (Medium), Tomatillo-Red Chili Salsa (Hot)], [Black Beans, Rice, Cheese, Sour Cream, Guacamole, Lettuce]] [Roasted Chili Corn Salsa, [Fajita Vegetables, Rice, Pinto Beans, Cheese, Lettuce]] [Roasted Chili Corn Salsa, [Fajita Vegetables, Rice, Black Beans, Cheese, Guacamole, Lettuce]] [Fresh Tomato Salsa, [Black Beans, Cheese, Guacamole, Lettuce]] [Fresh Tomato Salsa, [Rice, Black Beans, Guacamole]] [Fresh Tomato Salsa (Mild), [Black Beans, Rice, Cheese]] ? [Sprite] [Tomatillo-Green Chili Salsa (Medium), [Rice, Cheese, Sour Cream, Lettuce]] [Tomatillo-Red Chili Salsa (Hot), [Rice, Cheese, Sour Cream, Lettuce]] [Fresh Tomato Salsa, [Rice, Black Beans, Cheese]] [Fresh Tomato Salsa, [Rice, Black Beans, Cheese, Lettuce]] [Fresh Tomato Salsa, [Fajita Vegetables, Rice, Cheese, Lettuce]] ? [Fresh Tomato Salsa (Mild), Black Beans] ? [Tomatillo-Green Chili Salsa (Medium), [Rice, Pinto Beans, Cheese, Sour Cream, Lettuce]] [Tomatillo-Red Chili Salsa (Hot), [Rice, Black Beans, Cheese, Lettuce]] ? [Tomatillo-Red Chili Salsa (Hot), [Rice, Black Beans, Cheese, Lettuce]] [Tomatillo-Red Chili Salsa (Hot), [Rice, Black Beans, Cheese]] [Fresh Tomato Salsa, [Rice, Black Beans, Cheese, Sour Cream]] [Fresh Tomato Salsa, [Rice, Pinto Beans, Cheese, Sour Cream, Lettuce]] [Fresh Tomato Salsa, [Rice, Pinto Beans, Cheese, Sour Cream, Lettuce]] [Tomatillo Red Chili Salsa, [Rice, Pinto Beans, Sour Cream, Guacamole, Lettuce]] [Coke] [[Roasted Chili Corn Salsa (Medium), Tomatillo-Red Chili Salsa (Hot)], [Black Beans, Rice, Cheese, Lettuce]] ? [Fresh Tomato Salsa, [Rice, Black Beans, Cheese, Sour Cream, Lettuce]] ? [Fresh Tomato Salsa, [Sour Cream, Fajita Vegetables, Rice, Guacamole, Cheese]] ? [Tomatillo Red Chili Salsa, [Rice, Fajita Vegetables, Sour Cream, Cheese, Lettuce, Guacamole]] [Fresh Tomato Salsa, [Rice, Black Beans, Guacamole]] [Fresh Tomato Salsa, [Fajita Vegetables, Guacamole]] [Fresh Tomato Salsa, [Fajita Vegetables, Rice, Black Beans, Cheese, Sour Cream]] [Tomatillo Red Chili Salsa, [Rice, Cheese, Sour Cream]] ? [Diet Coke] [Tomatillo Green Chili Salsa, [Rice, Pinto Beans, Cheese, Sour Cream, Guacamole]] [Fresh Tomato Salsa, [Pinto Beans, Cheese, Sour Cream, Guacamole]] [Sprite] [Roasted Chili Corn Salsa (Medium), [Black Beans, Rice, Cheese, Sour Cream, Lettuce]] [Roasted Chili Corn Salsa (Medium), [Rice, Fajita Veggies, Cheese, Sour Cream]] ? [Fresh Tomato Salsa, [Fajita Vegetables, Rice, Black Beans, Cheese, Guacamole, Lettuce]] ? [Tomatillo Red Chili Salsa, [Fajita Vegetables, Black Beans, Guacamole, Lettuce]] [Fresh Tomato Salsa, [Rice, Black Beans, Cheese, Guacamole, Lettuce]] [[Roasted Chili Corn Salsa (Medium), Tomatillo-Red Chili Salsa (Hot), Fresh Tomato Salsa (Mild)], [Rice, Pinto Beans, Fajita Veggies, Cheese, Sour Cream, Lettuce]] [[Roasted Chili Corn Salsa (Medium), Tomatillo-Red Chili Salsa (Hot), Fresh Tomato Salsa (Mild)], [Rice, Pinto Beans, Fajita Veggies, Cheese, Sour Cream, Lettuce]] ? [Coca Cola] [[Roasted Chili Corn Salsa (Medium), Tomatillo-Red Chili Salsa (Hot)], [Black Beans, Rice, Fajita Veggies, Cheese, Sour Cream, Lettuce]] [Roasted Chili Corn Salsa (Medium), [Rice, Fajita Veggies, Cheese, Sour Cream, Lettuce]] [Fresh Tomato Salsa, [Sour Cream, Guacamole, Lettuce]] [Diet Coke] [Fresh Tomato Salsa, [Fajita Vegetables, Rice, Cheese, Sour Cream, Guacamole, Lettuce]] [Fresh Tomato Salsa, [Fajita Vegetables, Rice, Black Beans, Cheese, Sour Cream, Lettuce]] ? [[Roasted Chili Corn Salsa (Medium), Tomatillo-Red Chili Salsa (Hot)], [Black Beans, Rice, Cheese, Sour Cream, Lettuce]] ? [Tomatillo-Red Chili Salsa (Hot), [Rice, Cheese, Sour Cream, Guacamole]] [Fresh Tomato Salsa, [Fajita Vegetables, Rice, Black Beans, Cheese, Guacamole, Lettuce]] [Diet Coke] [Tomatillo-Red Chili Salsa (Hot), [Cheese, Lettuce, Rice, Black Beans]] [Diet Dr. Pepper] ? ? [[Fresh Tomato Salsa (Mild), Roasted Chili Corn Salsa (Medium)], [Black Beans, Rice, Fajita Veggies, Cheese, Sour Cream, Lettuce]] ? [Roasted Chili Corn Salsa, [Fajita Vegetables, Rice, Guacamole]] [Sprite] [[Fresh Tomato Salsa (Mild), Tomatillo-Red Chili Salsa (Hot)], [Rice, Fajita Veggies, Cheese, Lettuce]] ? [[Fresh Tomato Salsa (Mild), Roasted Chili Corn Salsa (Medium)], [Black Beans, Rice, Cheese, Sour Cream, Lettuce]] ? [Roasted Chili Corn Salsa, [Rice, Pinto Beans, Cheese, Guacamole]] ? [Fresh Tomato Salsa, [Cheese, Lettuce]] [Fresh Tomato Salsa, [Rice, Cheese, Lettuce]] ? [Tomatillo Red Chili Salsa, [Fajita Vegetables, Rice, Pinto Beans, Cheese, Lettuce]] [Fresh Tomato Salsa, [Fajita Vegetables, Rice, Black Beans, Cheese, Guacamole, Lettuce]] [Fresh Tomato Salsa, [Fajita Vegetables, Rice, Black Beans, Guacamole, Lettuce]] [Fresh Tomato Salsa, [Rice, Pinto Beans, Cheese, Lettuce]] ? [Fresh Tomato Salsa (Mild), Fajita Veggies] ? [Fresh Tomato Salsa (Mild), [Cheese, Sour Cream, Lettuce]] ? [Fresh Tomato Salsa (Mild), Black Beans] ? [Fresh Tomato Salsa (Mild), [Rice, Cheese, Sour Cream, Lettuce]] ? [Fresh Tomato Salsa, [Rice, Fajita Vegetables, Sour Cream, Cheese, Guacamole]] ? [[Tomatillo-Red Chili Salsa (Hot), Tomatillo-Green Chili Salsa (Medium)], [Rice, Black Beans, Lettuce]] ? [Roasted Chili Corn Salsa (Medium), [Rice, Fajita Veggies, Cheese, Sour Cream, Lettuce]] ? ? [Fresh Tomato Salsa (Mild), [Black Beans, Rice, Fajita Veggies, Cheese, Sour Cream]] [Coke] [Tomatillo Green Chili Salsa, [Sour Cream, Cheese, Guacamole]] ? [Roasted Chili Corn Salsa, [Rice, Cheese, Sour Cream, Lettuce]] ? [Dr. Pepper] [Tomatillo-Green Chili Salsa (Medium), [Black Beans, Rice, Cheese]] ? [Fresh Tomato Salsa, [Rice, Black Beans, Cheese, Sour Cream, Guacamole, Lettuce]] ? [Tomatillo Green Chili Salsa, [Cheese, Sour Cream, Lettuce]] [Fresh Tomato Salsa, [Fajita Vegetables, Rice, Cheese, Sour Cream, Guacamole, Lettuce]] [Fresh Tomato Salsa, [Fajita Vegetables, Black Beans, Cheese, Lettuce]] [Fresh Tomato Salsa, [Fajita Vegetables, Rice, Black Beans, Guacamole, Lettuce]] [Tomatillo Red Chili Salsa, [Fajita Vegetables, Black Beans, Cheese, Guacamole, Lettuce]] [Fresh Tomato Salsa, [Fajita Vegetables, Black Beans, Cheese, Guacamole, Lettuce]] [Tomatillo Green Chili Salsa, [Rice, Black Beans, Cheese, Sour Cream, Guacamole, Lettuce]] [Tomatillo Red Chili Salsa, [Rice, Black Beans, Cheese, Sour Cream, Guacamole, Lettuce]] [Fresh Tomato Salsa (Mild), [Cheese, Sour Cream, Lettuce]] [Fresh Tomato Salsa (Mild), [Black Beans, Rice, Fajita Veggies, Cheese, Sour Cream, Lettuce]] [Roasted Chili Corn Salsa, [Cheese, Sour Cream]] [Roasted Chili Corn Salsa, [Cheese, Sour Cream, Lettuce]] ? [[Roasted Chili Corn Salsa (Medium), Fresh Tomato Salsa (Mild)], [Rice, Fajita Veggies]] [Roasted Chili Corn Salsa, [Rice, Black Beans, Cheese, Sour Cream, Guacamole, Lettuce]] [Roasted Chili Corn Salsa, [Fajita Vegetables, Rice, Black Beans, Guacamole, Lettuce]] [Roasted Chili Corn Salsa, [Rice, Black Beans, Cheese, Lettuce]] ? [Fresh Tomato Salsa, [Black Beans, Cheese, Sour Cream, Lettuce]] ? [[Roasted Chili Corn Salsa (Medium), Fresh Tomato Salsa (Mild)], [Fajita Veggies, Lettuce, Rice, Black Beans]] ? [Diet Coke] ? [Roasted Chili Corn Salsa, [Fajita Vegetables, Rice, Pinto Beans, Cheese, Sour Cream, Lettuce]] ? [Tomatillo Red Chili Salsa, [Sour Cream, Cheese, Guacamole, Lettuce, Black Beans, Rice]] [Tomatillo-Red Chili Salsa (Hot), [Black Beans, Rice, Cheese, Sour Cream, Guacamole, Lettuce]] [Tomatillo Green Chili Salsa, [Fajita Vegetables, Rice, Cheese, Guacamole, Lettuce]] ? [Fresh Tomato Salsa, [Rice, Cheese, Sour Cream, Lettuce]] [Roasted Chili Corn Salsa, [Rice, Black Beans, Pinto Beans, Cheese, Sour Cream, Lettuce]] [Roasted Chili Corn Salsa (Medium), [Black Beans, Rice, Cheese]] ? [Fresh Tomato (Mild), [Lettuce, Fajita Veggies, Black Beans, Rice, Sour Cream, Cheese]] ? [Roasted Chili Corn Salsa (Medium), [Pinto Beans, Rice, Cheese, Guacamole, Lettuce]] ? [[Fresh Tomato Salsa (Mild), Tomatillo-Green Chili Salsa (Medium)], [Rice, Fajita Veggies, Cheese, Guacamole, Lettuce]] ? [[Fresh Tomato Salsa (Mild), Roasted Chili Corn Salsa (Medium)], [Black Beans, Rice, Cheese, Sour Cream, Lettuce]] ? [Tomatillo Green Chili Salsa, [Rice, Black Beans, Cheese, Sour Cream, Lettuce]] ? [Fresh Tomato Salsa (Mild), [Black Beans, Rice, Cheese, Sour Cream, Lettuce]] ? [Fresh Tomato Salsa, [Fajita Vegetables, Rice, Black Beans, Guacamole, Lettuce]] ? [Tomatillo Green Chili Salsa, [Rice, Pinto Beans, Cheese, Sour Cream, Lettuce]] [Fresh Tomato Salsa, [Rice, Black Beans, Cheese, Sour Cream]] [Roasted Chili Corn Salsa, [Rice, Pinto Beans, Cheese, Sour Cream, Lettuce]] [Tomatillo Red Chili Salsa, [Rice, Cheese]] ? [Roasted Chili Corn Salsa, [Fajita Vegetables, Rice, Pinto Beans, Cheese, Sour Cream, Guacamole, Lettuce]] ? ? [Tomatillo Green Chili Salsa, [Rice, Black Beans, Cheese, Lettuce]] [Tomatillo Green Chili Salsa, [Rice, Pinto Beans, Sour Cream, Lettuce]] [Tomatillo Red Chili Salsa, [Rice, Pinto Beans, Cheese]] ? [Tomatillo Red Chili Salsa, [Sour Cream, Cheese, Rice]] [Diet Coke] [Fresh Tomato Salsa, [Rice, Pinto Beans, Cheese, Lettuce]] [Fresh Tomato Salsa, [Rice, Sour Cream, Cheese, Guacamole]] ? [Diet Coke] [[Fresh Tomato Salsa (Mild), Roasted Chili Corn Salsa (Medium)], [Fajita Veggies, Rice]] [Tomatillo Red Chili Salsa, [Cheese, Black Beans, Rice, Lettuce, Sour Cream]] [Coke] ? ? [Fresh Tomato Salsa (Mild), [Fajita Veggies, Cheese, Sour Cream, Lettuce]] [[Rice, Cheese]] [Fresh Tomato (Mild), [Black Beans, Guacamole, Rice, Sour Cream, Cheese]] [Lemonade] [Fresh Tomato Salsa, [Rice, Cheese, Sour Cream, Guacamole]] ? [[Fresh Tomato Salsa (Mild), Tomatillo-Green Chili Salsa (Medium), Roasted Chili Corn Salsa (Medium), Tomatillo-Red Chili Salsa (Hot)], [Black Beans, Rice, Fajita Veggies, Cheese, Sour Cream]] [Diet Dr. Pepper] [Tomatillo Green Chili Salsa, [Rice, Black Beans, Cheese, Guacamole]] ? [Fresh Tomato Salsa, [Fajita Vegetables, Rice, Black Beans, Guacamole]] [Tomatillo-Red Chili Salsa (Hot), [Rice, Cheese, Sour Cream, Lettuce]] ? [Tomatillo-Red Chili Salsa (Hot), [Pinto Beans, Rice, Fajita Veggies, Cheese, Sour Cream, Guacamole]] [Dr. Pepper] [[Roasted Chili Corn Salsa (Medium), Tomatillo-Green Chili Salsa (Medium)], [Rice, Black Beans, Sour Cream]] [Fresh Tomato Salsa (Mild), [Rice, Cheese, Sour Cream, Lettuce]] ? [[Black Beans, Rice, Cheese]] ? ? [Diet Coke] [Roasted Chili Corn Salsa, [Rice, Cheese]] [[Roasted Chili Corn Salsa (Medium), Tomatillo-Red Chili Salsa (Hot), Fresh Tomato Salsa (Mild)], [Rice, Pinto Beans, Fajita Veggies, Cheese, Sour Cream, Lettuce]] [Coca Cola] [[Fresh Tomato Salsa (Mild), Roasted Chili Corn Salsa (Medium), Tomatillo-Red Chili Salsa (Hot)], [Black Beans, Rice, Fajita Veggies, Lettuce]] [[Fresh Tomato Salsa (Mild), Roasted Chili Corn Salsa (Medium), Tomatillo-Red Chili Salsa (Hot)], [Black Beans, Rice, Fajita Veggies, Lettuce]] [Fresh Tomato Salsa, [Fajita Vegetables, Rice, Black Beans, Cheese, Sour Cream]] ? [Fresh Tomato Salsa, [Pinto Beans, Cheese, Lettuce]] [Tomatillo Red Chili Salsa, [Rice, Black Beans, Lettuce]] [Tomatillo Red Chili Salsa, [Rice, Black Beans, Lettuce]] [[Tomatillo-Red Chili Salsa (Hot), Tomatillo-Green Chili Salsa (Medium)], [Rice, Black Beans, Cheese, Lettuce]] ? [Fresh Tomato Salsa, [Fajita Vegetables, Rice, Black Beans, Cheese, Sour Cream, Lettuce]] ? [Roasted Chili Corn Salsa, [Rice, Fajita Vegetables, Lettuce, Pinto Beans, Black Beans, Guacamole, Cheese]] [Fresh Tomato Salsa, [Pinto Beans, Cheese, Sour Cream, Guacamole, Fajita Vegetables, Rice, Black Beans, Lettuce]] [Tomatillo Green Chili Salsa, [Rice, Sour Cream, Guacamole, Lettuce]] [Tomatillo Green Chili Salsa, [Rice, Black Beans, Cheese]] [Fresh Tomato Salsa (Mild), Lettuce] [Fresh Tomato Salsa (Mild), Cheese] [Roasted Chili Corn Salsa (Medium), Cheese] [Roasted Chili Corn Salsa (Medium), Lettuce] [Tomatillo Green Chili Salsa, [Rice, Black Beans, Cheese, Lettuce]] ? [Tomatillo-Red Chili Salsa (Hot), [Rice, Cheese, Guacamole]] [Fresh Tomato Salsa, [Fajita Vegetables, Rice, Black Beans, Cheese, Sour Cream, Lettuce]] [Coke] ? [Fresh Tomato Salsa, [Pinto Beans, Cheese, Sour Cream]] ? [Roasted Chili Corn Salsa, [Rice, Pinto Beans, Sour Cream, Cheese, Guacamole]] ? [Roasted Chili Corn Salsa, [Rice, Sour Cream, Cheese, Guacamole]] [Roasted Chili Corn Salsa (Medium), [Rice, Pinto Beans, Cheese, Lettuce]] ? [Fresh Tomato (Mild), [Lettuce, Black Beans, Rice]] [Fresh Tomato (Mild), [Lettuce, Black Beans, Rice]] [Fresh Tomato Salsa, [Guacamole, Lettuce, Sour Cream, Rice]] ? [Roasted Chili Corn Salsa, [Rice, Pinto Beans, Cheese, Sour Cream, Guacamole]] ? [Fresh Tomato Salsa, [Rice, Black Beans, Cheese, Sour Cream]] ? ? [Fresh Tomato Salsa (Mild), [Rice, Fajita Veggies, Cheese, Sour Cream, Guacamole]] [Fresh Tomato Salsa (Mild), [Cheese, Sour Cream]] ? [Fresh Tomato Salsa, [Rice, Cheese, Sour Cream, Guacamole]] [Tomatillo Red Chili Salsa, [Black Beans, Cheese, Sour Cream, Guacamole]] ? [Diet Coke] [Roasted Chili Corn Salsa, [Rice, Black Beans, Cheese, Sour Cream, Guacamole, Lettuce]] ? [Fresh Tomato Salsa, [Rice, Black Beans, Pinto Beans, Cheese, Lettuce]] [Fresh Tomato Salsa, [Fajita Vegetables, Rice, Black Beans, Sour Cream, Lettuce]] [Fresh Tomato Salsa, [Rice, Black Beans, Cheese, Guacamole, Lettuce]] ? [Fresh Tomato Salsa, [Fajita Vegetables, Rice, Pinto Beans, Cheese, Sour Cream, Guacamole, Lettuce]] ? ? [Roasted Chili Corn Salsa (Medium), [Rice, Fajita Veggies, Sour Cream]] [Mountain Dew] ? [Tomatillo Red Chili Salsa, [Fajita Vegetables, Rice, Black Beans, Cheese, Guacamole]] [Fresh Tomato Salsa, [Fajita Vegetables, Rice, Cheese, Sour Cream, Guacamole, Lettuce]] [Fresh Tomato Salsa (Mild), [Pinto Beans, Rice, Cheese, Sour Cream]] ? [Fresh Tomato Salsa (Mild), [Pinto Beans, Rice, Cheese, Sour Cream]] ? [Fresh Tomato Salsa, [Guacamole, Cheese, Rice, Sour Cream, Fajita Vegetables]] ? [Fresh Tomato Salsa, [Rice, Black Beans, Cheese, Lettuce]] ? [Coke] [Tomatillo Red Chili Salsa, [Fajita Vegetables, Rice, Pinto Beans, Cheese, Lettuce]] [Fresh Tomato Salsa, [Fajita Vegetables, Rice, Black Beans, Cheese, Guacamole, Lettuce]] [Fresh Tomato Salsa, [Sour Cream, Cheese, Pinto Beans, Rice]] [Fresh Tomato Salsa, [Black Beans, Cheese, Guacamole, Lettuce]] [Roasted Chili Corn Salsa, [Fajita Vegetables, Rice, Black Beans, Cheese, Sour Cream, Guacamole, Lettuce]] [Roasted Chili Corn Salsa, [Rice, Black Beans, Sour Cream, Cheese, Guacamole]] [Roasted Chili Corn Salsa, [Sour Cream, Cheese, Lettuce, Guacamole]] ? [Diet Coke] [Roasted Chili Corn Salsa, [Rice, Cheese]] [[Fresh Tomato Salsa (Mild), Tomatillo-Green Chili Salsa (Medium)], [Rice, Fajita Veggies, Lettuce]] [[Tomatillo-Red Chili Salsa (Hot), Tomatillo-Green Chili Salsa (Medium)], [Rice, Pinto Beans, Fajita Veggies, Lettuce]] ? [[Roasted Chili Corn Salsa (Medium), Tomatillo-Red Chili Salsa (Hot)], [Black Beans, Rice, Cheese, Sour Cream, Lettuce]] ? [Roasted Chili Corn Salsa, [Rice, Black Beans, Sour Cream, Cheese, Lettuce, Guacamole]] [Diet Coke] [Fresh Tomato (Mild), [Lettuce, Guacamole, Pinto Beans, Rice, Sour Cream, Cheese]] [Fresh Tomato (Mild), [Lettuce, Rice]] [Fresh Tomato Salsa (Mild), [Rice, Cheese, Sour Cream, Lettuce]] [Sprite] [Fresh Tomato Salsa, [Rice, Cheese, Guacamole, Lettuce]] [Fresh Tomato Salsa, [Rice, Pinto Beans, Cheese, Sour Cream, Guacamole]] ? [Sprite] [Fresh Tomato Salsa, [Fajita Vegetables, Pinto Beans, Lettuce]] [Diet Coke] [Fresh Tomato Salsa, [Fajita Vegetables, Lettuce]] [Fresh Tomato Salsa, [Rice, Fajita Vegetables]] ? [Sprite] [Roasted Chili Corn Salsa (Medium), [Black Beans, Rice, Fajita Veggies, Cheese, Sour Cream]] ? [Roasted Chili Corn Salsa (Medium), [Rice, Fajita Veggies, Cheese, Sour Cream, Lettuce]] ? [[Tomatillo-Red Chili Salsa (Hot), Tomatillo-Green Chili Salsa (Medium)], [Rice, Black Beans, Cheese, Lettuce]] ? [Fresh Tomato Salsa, [Rice, Black Beans, Cheese, Sour Cream]] ? [Tomatillo-Red Chili Salsa (Hot), [Guacamole, Lettuce, Sour Cream, Rice, Cheese, Black Beans]] [Fresh Tomato Salsa, [Rice, Black Beans, Cheese, Lettuce]] [Fresh Tomato Salsa, [Fajita Vegetables, Rice, Black Beans, Pinto Beans, Cheese]] [Fresh Tomato Salsa (Mild), [Black Beans, Rice, Cheese, Sour Cream, Guacamole, Lettuce]] [Roasted Chili Corn Salsa, [Rice, Pinto Beans, Cheese, Sour Cream, Lettuce]] [Fresh Tomato Salsa, [Fajita Vegetables, Rice, Pinto Beans, Cheese, Sour Cream, Lettuce]] [Fresh Tomato Salsa (Mild), [Cheese, Lettuce]] ? ? [Tomatillo Green Chili Salsa, [Rice, Black Beans, Guacamole, Lettuce]] [Fresh Tomato Salsa, [Lettuce, Fajita Vegetables, Guacamole, Rice, Black Beans]] [Fresh Tomato Salsa, [Lettuce, Cheese, Pinto Beans, Rice]] [Fresh Tomato Salsa, [Rice, Pinto Beans, Sour Cream, Cheese, Lettuce]] ? [Tomatillo Red Chili Salsa, [Rice, Black Beans, Cheese, Sour Cream, Lettuce]] ? [Roasted Chili Corn Salsa, [Rice, Black Beans, Sour Cream, Lettuce]] [Roasted Chili Corn Salsa, [Fajita Vegetables, Cheese]] ? ? [Fresh Tomato Salsa, [Rice, Black Beans, Cheese, Sour Cream]] ? [Fresh Tomato Salsa, [Rice, Cheese, Lettuce, Pinto Beans]] [Fresh Tomato Salsa, [Rice, Guacamole, Cheese, Sour Cream]] ? [Roasted Chili Corn Salsa, [Fajita Vegetables, Rice, Black Beans, Cheese, Sour Cream, Guacamole, Lettuce]] [Fresh Tomato Salsa, [Fajita Vegetables, Rice, Black Beans, Cheese, Sour Cream, Guacamole, Lettuce]] [Roasted Chili Corn Salsa, [Rice, Pinto Beans, Cheese]] [Roasted Chili Corn Salsa, [Black Beans, Cheese, Sour Cream]] [Fresh Tomato Salsa, [Rice, Fajita Vegetables]] ? [Sprite] [Fresh Tomato Salsa, [Rice, Cheese, Lettuce]] ? [Nestea] [Roasted Chili Corn Salsa (Medium), [Black Beans, Rice, Cheese]] [Tomatillo-Green Chili Salsa (Medium), [Black Beans, Rice, Cheese]] [Fresh Tomato Salsa] [Fresh Tomato Salsa] [Sprite] [Fresh Tomato Salsa, [Rice, Cheese, Sour Cream, Guacamole]] ? [Fresh Tomato Salsa, [Rice, Lettuce]] [Roasted Chili Corn Salsa, [Rice, Black Beans, Sour Cream, Cheese, Lettuce]] ? [Peach Orange] [[Fresh Tomato Salsa (Mild), Tomatillo-Green Chili Salsa (Medium), Roasted Chili Corn Salsa (Medium)], [Pinto Beans, Rice, Fajita Veggies, Cheese, Lettuce]] ? [[Fresh Tomato Salsa (Mild), Tomatillo-Green Chili Salsa (Medium)], [Pinto Beans, Rice, Fajita Veggies, Cheese, Sour Cream, Lettuce]] ? [Roasted Chili Corn Salsa, [Rice, Black Beans, Sour Cream, Cheese, Guacamole]] [Roasted Chili Corn Salsa, [Fajita Vegetables, Sour Cream, Cheese, Lettuce, Guacamole]] [Roasted Chili Corn Salsa, [Rice, Pinto Beans, Cheese, Sour Cream, Lettuce]] [Fresh Tomato Salsa, [Rice, Cheese, Sour Cream, Lettuce]] ? [Fresh Tomato Salsa, [Rice, Fajita Vegetables]] ? [Sprite] [Tomatillo-Green Chili Salsa (Medium), [Pinto Beans, Rice, Fajita Veggies, Cheese, Sour Cream, Guacamole, Lettuce]] [Tomatillo-Red Chili Salsa (Hot), [Pinto Beans, Rice, Fajita Veggies, Cheese, Sour Cream]] ? [Tomatillo Green Chili (Medium), [Rice, Black Beans, Sour Cream, Cheese]] [Fresh Tomato Salsa, [Cheese, Black Beans, Pinto Beans, Guacamole, Sour Cream]] ? [[Tomatillo-Red Chili Salsa (Hot), Fresh Tomato Salsa (Mild)], [Rice, Black Beans, Lettuce]] [[Roasted Chili Corn Salsa (Medium), Tomatillo-Red Chili Salsa (Hot)], [Rice, Pinto Beans, Lettuce]] [[Fresh Tomato Salsa (Mild), Tomatillo-Red Chili Salsa (Hot)], [Rice, Cheese, Sour Cream, Guacamole, Lettuce]] [Tomatillo Red Chili Salsa, [Cheese, Sour Cream, Lettuce]] [Roasted Chili Corn Salsa, [Rice, Cheese, Sour Cream, Lettuce]] [Fresh Tomato Salsa, [Rice, Black Beans, Cheese, Sour Cream, Lettuce]] [Roasted Chili Corn Salsa, [Rice, Black Beans, Cheese]] [Roasted Chili Corn Salsa, [Rice, Black Beans, Lettuce]] [Roasted Chili Corn Salsa, [Fajita Vegetables, Rice, Pinto Beans, Cheese, Sour Cream, Lettuce]] [Roasted Chili Corn Salsa, [Fajita Vegetables, Rice]] [Fresh Tomato Salsa, [Rice, Black Beans, Lettuce, Cheese]] ? [Sprite] [Fresh Tomato Salsa, [Cheese, Guacamole, Lettuce]] [Fresh Tomato Salsa, [Rice, Pinto Beans, Cheese]] [Fresh Tomato Salsa, [Rice, Black Beans, Cheese, Sour Cream, Guacamole]] ? [Fresh Tomato Salsa, [Rice, Black Beans, Cheese]] [Fresh Tomato Salsa, [Fajita Vegetables, Rice, Black Beans, Lettuce]] [Fresh Tomato Salsa, [Rice, Black Beans, Cheese, Sour Cream]] [Tomatillo-Red Chili Salsa (Hot), [Pinto Beans, Rice, Fajita Veggies, Cheese, Sour Cream]] ? [[Fresh Tomato Salsa (Mild), Tomatillo-Green Chili Salsa (Medium)], [Rice, Fajita Veggies, Cheese, Sour Cream, Lettuce]] ? ? [[Fresh Tomato Salsa (Mild), Tomatillo-Red Chili Salsa (Hot)], [Pinto Beans, Rice, Cheese, Sour Cream]] [Fresh Tomato Salsa (Mild), [Pinto Beans, Rice, Cheese, Sour Cream]] [Coca Cola] [Roasted Chili Corn Salsa, [Rice, Pinto Beans, Cheese, Sour Cream, Guacamole]] [Nestea] [[Fresh Tomato Salsa (Mild), Roasted Chili Corn Salsa (Medium), Tomatillo-Red Chili Salsa (Hot)], [Black Beans, Rice, Fajita Veggies, Lettuce]] [Pineapple Orange Banana] [Fresh Tomato Salsa (Mild), [Pinto Beans, Rice, Cheese, Sour Cream, Lettuce]] ? [Fresh Tomato Salsa, [Rice, Cheese, Sour Cream, Guacamole, Lettuce]] [Fresh Tomato Salsa, [Rice, Cheese, Sour Cream, Lettuce]] [Fresh Tomato Salsa (Mild), [Pinto Beans, Rice, Cheese, Sour Cream, Lettuce]] ? [Roasted Chili Corn Salsa (Medium), [Black Beans, Rice, Cheese, Sour Cream]] [Fresh Tomato Salsa, [Rice, Black Beans, Cheese]] [Fresh Tomato Salsa, [Rice, Black Beans, Cheese]] [Fresh Tomato Salsa, [Fajita Vegetables, Rice, Black Beans, Cheese, Guacamole]] [Diet Coke] [Fresh Tomato Salsa, [Cheese, Guacamole, Lettuce]] [Fresh Tomato Salsa, [Cheese, Lettuce]] [Tomatillo-Red Chili Salsa (Hot), [Rice, Black Beans, Cheese, Lettuce]] [Fresh Tomato Salsa (Mild), [Rice, Black Beans, Fajita Veggies, Cheese, Sour Cream, Lettuce]] [Fresh Tomato Salsa, [Fajita Vegetables, Rice, Lettuce]] [Diet Coke] [Lemonade] [Nestea] [Roasted Chili Corn Salsa, [Fajita Vegetables, Rice, Sour Cream, Guacamole, Lettuce]] [Diet Coke] [Roasted Chili Corn Salsa, [Fajita Vegetables, Rice, Cheese, Sour Cream, Guacamole, Lettuce]] [Roasted Chili Corn Salsa, [Fajita Vegetables, Rice, Cheese, Sour Cream, Guacamole, Lettuce]] ? [Fresh Tomato Salsa, [Rice, Black Beans, Cheese, Sour Cream, Guacamole, Lettuce]] [Fresh Tomato Salsa, [Rice, Black Beans, Cheese, Sour Cream, Guacamole, Lettuce]] [Roasted Chili Corn Salsa (Medium), [Pinto Beans, Black Beans, Rice, Cheese, Sour Cream, Guacamole]] [Tomatillo-Green Chili Salsa (Medium), [Pinto Beans, Black Beans, Rice, Fajita Veggies, Sour Cream, Lettuce]] [[Fresh Tomato Salsa (Mild), Roasted Chili Corn Salsa (Medium)], [Cheese, Sour Cream, Lettuce]] ? [Fresh Tomato Salsa, [Pinto Beans, Lettuce, Cheese, Rice]] [Fresh Tomato Salsa, [Rice, Guacamole, Cheese, Sour Cream]] [Tomatillo Green Chili Salsa, [Cheese, Lettuce, Rice, Pinto Beans]] ? ? [Fresh Tomato Salsa, [Fajita Vegetables, Rice, Black Beans, Cheese, Guacamole, Lettuce]] ? [Fresh Tomato Salsa, Lettuce] ? [Fresh Tomato Salsa, [Fajita Vegetables, Rice, Black Beans, Cheese, Sour Cream, Lettuce]] [Fresh Tomato Salsa, [Fajita Vegetables, Rice, Black Beans, Cheese, Sour Cream, Lettuce]] [Fresh Tomato Salsa, [Fajita Vegetables, Pinto Beans, Guacamole, Lettuce]] [Fresh Tomato Salsa, [Pinto Beans, Lettuce]] [Roasted Chili Corn Salsa, [Fajita Vegetables, Rice, Black Beans, Cheese, Lettuce]] ? [Tomatillo Red Chili Salsa, [Rice, Pinto Beans, Sour Cream, Guacamole, Lettuce]] [Coke] [Fresh Tomato Salsa, [Fajita Vegetables, Rice, Black Beans, Cheese]] ? [Diet Coke] [Fresh Tomato Salsa, [Rice, Cheese]] [Tomatillo Red Chili Salsa, [Rice, Black Beans, Cheese, Sour Cream]] [Fresh Tomato Salsa, [Rice, Pinto Beans, Cheese, Lettuce]] [Coke] [Fresh Tomato Salsa, [Rice, Cheese, Sour Cream, Lettuce]] [[Roasted Chili Corn Salsa (Medium), Tomatillo-Green Chili Salsa (Medium)], [Rice, Fajita Veggies, Cheese, Sour Cream, Lettuce]] ? [[Fresh Tomato Salsa (Mild), Roasted Chili Corn Salsa (Medium)], [Rice, Fajita Veggies, Cheese, Lettuce]] ? [Fresh Tomato Salsa, [Cheese, Black Beans, Rice]] ? ? [[Roasted Chili Corn Salsa (Medium), Tomatillo-Red Chili Salsa (Hot)], [Cheese, Lettuce]] [[Roasted Chili Corn Salsa (Medium), Tomatillo-Red Chili Salsa (Hot)], [Rice, Cheese, Lettuce]] [[Fresh Tomato Salsa (Mild), Tomatillo-Red Chili Salsa (Hot)], [Rice, Cheese, Sour Cream]] [Sprite] [Fresh Tomato Salsa, [Rice, Pinto Beans, Cheese, Sour Cream, Lettuce]] ? [Coke] [Roasted Chili Corn Salsa, [Rice, Black Beans, Sour Cream, Cheese, Guacamole]] [Roasted Chili Corn Salsa, [Fajita Vegetables, Sour Cream, Cheese, Lettuce, Guacamole]] [Roasted Chili Corn Salsa, [Black Beans, Cheese, Guacamole]] [Fresh Tomato Salsa, [Rice, Black Beans, Cheese, Lettuce]] [Fresh Tomato Salsa, [Fajita Vegetables, Black Beans, Guacamole, Lettuce]] ? [Fresh Tomato Salsa, [Rice, Fajita Vegetables, Sour Cream, Cheese, Guacamole]] ? [Tomatillo-Red Chili Salsa (Hot), [Black Beans, Rice, Cheese, Sour Cream, Guacamole, Lettuce]] [Fresh Tomato Salsa, [Rice, Black Beans, Cheese]] [Fresh Tomato Salsa, [Rice, Black Beans, Cheese, Guacamole]] ? [Fresh Tomato Salsa, [Fajita Vegetables, Rice, Black Beans, Pinto Beans, Cheese, Sour Cream, Guacamole, Lettuce]] [Fresh Tomato Salsa, [Rice, Pinto Beans, Cheese, Guacamole, Lettuce]] [Fresh Tomato Salsa, [Cheese, Sour Cream, Lettuce]] [Fresh Tomato Salsa, [Rice, Sour Cream, Cheese, Lettuce]] [Roasted Chili Corn Salsa, [Rice, Black Beans, Cheese]] [Tomatillo Red Chili Salsa, [Rice, Cheese]] [Fresh Tomato Salsa, [Rice, Cheese]] [Tomatillo Green Chili Salsa, [Rice, Cheese]] [Coke] [Roasted Chili Corn Salsa, [Rice, Black Beans, Cheese, Guacamole]] ? ? [Fresh Tomato Salsa, [Rice, Black Beans, Cheese, Sour Cream, Lettuce]] [Roasted Chili Corn Salsa, [Rice, Black Beans, Cheese, Lettuce]] [Fresh Tomato Salsa, [Rice, Cheese, Guacamole, Lettuce]] [Roasted Chili Corn Salsa, [Fajita Vegetables, Rice, Black Beans, Cheese, Sour Cream]] [Roasted Chili Corn Salsa, [Fajita Vegetables, Rice, Black Beans, Pinto Beans, Cheese, Lettuce]] [Roasted Chili Corn Salsa, [Rice, Black Beans, Sour Cream, Guacamole]] ? [[Fresh Tomato Salsa (Mild), Tomatillo-Green Chili Salsa (Medium), Roasted Chili Corn Salsa (Medium)], [Black Beans, Rice, Fajita Veggies, Sour Cream, Lettuce]] [[Fresh Tomato Salsa (Mild), Roasted Chili Corn Salsa (Medium)], [Rice, Fajita Veggies, Sour Cream]] [[Tomatillo-Green Chili Salsa (Medium), Roasted Chili Corn Salsa (Medium), Tomatillo-Red Chili Salsa (Hot)], [Black Beans, Rice, Fajita Veggies, Lettuce]] [Roasted Chili Corn Salsa (Medium), [Cheese, Sour Cream, Lettuce]] [Roasted Chili Corn Salsa (Medium), [Black Beans, Rice, Cheese, Sour Cream]] ? ? [Coca Cola] [Dr. Pepper] [Fresh Tomato Salsa, [Fajita Vegetables, Rice, Black Beans, Cheese, Sour Cream, Guacamole, Lettuce]] ? [Roasted Chili Corn Salsa, [Fajita Vegetables, Rice, Black Beans, Cheese, Sour Cream, Guacamole, Lettuce]] [Fresh Tomato Salsa, [Cheese, Rice, Black Beans]] ? [Sprite] [Fresh Tomato Salsa, [Guacamole, Sour Cream, Cheese, Rice, Fajita Vegetables]] ? [Tomatillo Red Chili Salsa, [Rice, Black Beans, Pinto Beans, Cheese, Lettuce]] ? [Roasted Chili Corn Salsa, Fajita Vegetables] [Fresh Tomato Salsa, [Rice, Fajita Vegetables, Black Beans, Sour Cream, Cheese, Lettuce]] [Tomatillo Green Chili Salsa, [Fajita Vegetables, Sour Cream]] ? [Diet Coke] [Roasted Chili Corn Salsa, [Fajita Vegetables, Rice, Cheese, Guacamole, Lettuce]] [Tomatillo Green Chili Salsa, [Rice, Pinto Beans, Sour Cream, Lettuce]] ? [Diet Coke] [Tomatillo-Red Chili Salsa (Hot), [Black Beans, Rice, Cheese, Lettuce]] [Diet Dr. Pepper] ? ? [[Lettuce, Fajita Veggies, Rice]] [[Lettuce, Fajita Veggies]] [Fresh Tomato Salsa] ? [Fresh Tomato Salsa (Mild), [Black Beans, Rice, Guacamole, Lettuce]] ? [Tomatillo Green Chili Salsa, [Black Beans, Cheese, Guacamole]] [Tomatillo-Red Chili Salsa (Hot), [Pinto Beans, Rice, Fajita Veggies, Cheese, Sour Cream, Guacamole]] [[Roasted Chili Corn Salsa (Medium), Fresh Tomato Salsa (Mild)], [Rice, Black Beans, Fajita Veggies, Guacamole]] [[Roasted Chili Corn Salsa (Medium), Tomatillo-Red Chili Salsa (Hot), Fresh Tomato Salsa (Mild)], [Rice, Pinto Beans, Fajita Veggies, Cheese, Sour Cream, Lettuce]] ? [Tomatillo Red Chili Salsa, [Rice, Black Beans, Cheese, Guacamole]] ? [Fresh Tomato Salsa, [Fajita Vegetables, Rice, Pinto Beans, Cheese]] [Fresh Tomato Salsa, [Fajita Vegetables, Rice, Black Beans, Cheese, Sour Cream, Guacamole, Lettuce]] [Tomatillo Red Chili Salsa, [Rice, Sour Cream]] [Fresh Tomato Salsa, [Rice, Black Beans, Pinto Beans, Cheese, Sour Cream, Lettuce]] [Tomatillo Red Chili Salsa, [Rice, Sour Cream]] [[Rice, Cheese]] [Fresh Tomato (Mild), [Guacamole, Rice, Sour Cream, Cheese]] [Tomatillo Green Chili Salsa, [Cheese, Lettuce, Pinto Beans, Rice]] ? ? [Coke] [Fresh Tomato Salsa, [Rice, Fajita Vegetables, Black Beans, Sour Cream, Cheese, Lettuce]] ? [Tomatillo Red Chili Salsa, [Rice, Black Beans]] [Fresh Tomato Salsa, [Rice, Sour Cream, Cheese, Lettuce, Guacamole]] [Fresh Tomato (Mild), [Lettuce, Rice]] [Fresh Tomato (Mild), [Lettuce, Pinto Beans, Rice, Sour Cream, Cheese]] ? [[Lettuce, Fajita Veggies, Rice]] ? ? [Tomatillo Red Chili Salsa, [Rice, Black Beans, Cheese, Sour Cream, Lettuce]] [Fresh Tomato Salsa, [Fajita Vegetables, Rice, Pinto Beans, Cheese, Sour Cream, Guacamole, Lettuce]] ? ? [[Lettuce, Fajita Veggies, Rice]] [[Lettuce, Fajita Veggies, Rice]] ? [Roasted Chili Corn Salsa, [Fajita Vegetables, Rice, Black Beans, Cheese, Sour Cream, Guacamole, Lettuce]] [Coke] [Tomatillo Red Chili Salsa, [Rice, Pinto Beans, Sour Cream, Guacamole, Lettuce]] [Fresh Tomato Salsa, [Fajita Vegetables, Rice, Black Beans, Cheese, Sour Cream, Lettuce]] [Fresh Tomato Salsa, Guacamole] [Fresh Tomato Salsa, [Rice, Cheese, Sour Cream, Guacamole, Lettuce]] [Tomatillo Red Chili Salsa, [Fajita Vegetables, Guacamole, Lettuce]] [Fresh Tomato Salsa, [Rice, Black Beans, Cheese, Sour Cream, Lettuce]] [Fresh Tomato Salsa, [Rice, Black Beans, Cheese, Sour Cream]] ? ? [Roasted Chili Corn Salsa, [Rice, Pinto Beans, Sour Cream, Cheese, Guacamole]] ? ? [Tomatillo-Green Chili Salsa (Medium), [Rice, Fajita Veggies, Cheese, Sour Cream, Lettuce]] [Tomatillo-Red Chili Salsa (Hot), [Rice, Cheese, Sour Cream, Guacamole]] ? [Sprite] ? [Tomatillo Green Chili Salsa, [Fajita Vegetables, Rice, Black Beans, Cheese, Lettuce]] ? [Fresh Tomato Salsa, [Rice, Black Beans, Cheese, Sour Cream, Lettuce]] [Tomatillo Green Chili Salsa, [Rice, Black Beans, Cheese, Sour Cream, Lettuce]] [Fresh Tomato Salsa, [Rice, Black Beans, Cheese, Lettuce]] [Roasted Chili Corn Salsa, [Rice, Pinto Beans, Cheese, Lettuce]] ? [Tomatillo Green Chili Salsa, [Rice, Black Beans, Sour Cream, Lettuce]] [Fresh Tomato Salsa, [Cheese, Lettuce]] [Pineapple Orange Banana] [Tomatillo-Green Chili Salsa (Medium), [Pinto Beans, Rice, Cheese, Sour Cream]] [Tomatillo-Green Chili Salsa (Medium), [Cheese, Sour Cream]] ? [Roasted Chili Corn Salsa (Medium), [Black Beans, Fajita Veggies, Cheese, Sour Cream, Guacamole]] [Dr. Pepper] [Coca Cola] [Roasted Chili Corn Salsa (Medium), [Black Beans, Rice, Cheese, Sour Cream]] [Roasted Chili Corn Salsa, [Rice, Fajita Vegetables, Black Beans, Cheese, Lettuce, Guacamole]] [Diet Coke] [Fresh Tomato Salsa (Mild), [Rice, Cheese, Sour Cream, Lettuce]] ? [Fresh Tomato Salsa, [Fajita Vegetables, Rice]] ? ? ? [Roasted Chili Corn Salsa (Medium), [Black Beans, Rice, Fajita Veggies, Cheese, Sour Cream]] [Fresh Tomato Salsa, [Rice, Cheese, Sour Cream]] ? ? [Tomatillo-Green Chili Salsa (Medium), [Black Beans, Rice, Fajita Veggies, Cheese, Sour Cream, Lettuce]] [[Roasted Chili Corn Salsa (Medium), Tomatillo-Red Chili Salsa (Hot)], [Black Beans, Rice, Fajita Veggies, Guacamole, Lettuce]] [Diet Coke] [Fresh Tomato Salsa, [Rice, Black Beans, Cheese]] ? ? ? [Roasted Chili Corn Salsa, [Rice, Black Beans, Cheese, Lettuce]] ? ? [Coke] [Fresh Tomato Salsa, [Fajita Vegetables, Rice, Black Beans, Cheese, Sour Cream, Guacamole]] [Fresh Tomato Salsa, [Rice, Black Beans, Cheese, Sour Cream]] [Fresh Tomato Salsa, [Rice, Black Beans, Cheese, Sour Cream]] ? [Roasted Chili Corn Salsa, [Rice, Pinto Beans, Sour Cream, Cheese, Guacamole]] [Roasted Chili Corn Salsa, [Fajita Vegetables, Sour Cream, Cheese, Lettuce, Guacamole]] [Fresh Tomato Salsa (Mild), [Black Beans, Rice, Guacamole, Lettuce]] ? [Diet Coke] [Roasted Chili Corn Salsa, [Rice, Cheese]] ? [Tomatillo-Red Chili Salsa (Hot), [Cheese, Sour Cream, Fajita Veggies, Pinto Beans, Rice]] [Tomatillo Red Chili Salsa, [Rice, Black Beans, Cheese, Lettuce]] [Nestea] [Fresh Tomato Salsa (Mild), [Black Beans, Rice, Fajita Veggies, Cheese]] [Fresh Tomato Salsa (Mild), [Black Beans, Rice, Fajita Veggies, Cheese]] [Fresh Tomato Salsa (Mild), [Black Beans, Rice, Fajita Veggies, Cheese, Lettuce]] [Fresh Tomato Salsa (Mild), [Black Beans, Rice, Fajita Veggies, Cheese]] [Roasted Chili Corn Salsa (Medium), [Black Beans, Lettuce]] [Fresh Tomato Salsa (Mild), [Rice, Cheese, Lettuce]] [Tomatillo-Red Chili Salsa (Hot), [Cheese, Sour Cream, Lettuce]] [Tomatillo Green Chili Salsa, [Rice, Black Beans, Lettuce]] [Roasted Chili Corn Salsa, [Rice, Pinto Beans, Lettuce]] ? [[Fresh Tomato Salsa (Mild), Tomatillo-Green Chili Salsa (Medium)], [Rice, Fajita Veggies, Cheese, Guacamole, Lettuce]] ? [Roasted Chili Corn Salsa (Medium), [Rice, Pinto Beans, Lettuce]] ? [Fresh Tomato Salsa, [Rice, Pinto Beans, Cheese, Guacamole, Lettuce]] ? [Roasted Chili Corn Salsa, [Rice, Pinto Beans, Cheese, Sour Cream, Lettuce]] [Roasted Chili Corn Salsa, [Rice, Pinto Beans, Cheese, Sour Cream, Lettuce]] [Coke] [Fresh Tomato Salsa] [Fresh Tomato Salsa, Rice] [Fresh Tomato Salsa, Rice] [Fresh Tomato Salsa, Rice] [Fresh Tomato Salsa, Rice] [Fresh Tomato Salsa, [Rice, Black Beans, Cheese, Guacamole, Lettuce]] [Fresh Tomato Salsa, [Fajita Vegetables, Guacamole, Lettuce]] ? [Sprite] [Tomatillo Green Chili Salsa, [Rice, Black Beans, Pinto Beans, Cheese, Sour Cream, Guacamole, Lettuce]] [Fresh Tomato Salsa, [Rice, Cheese, Sour Cream]] ? ? [Fresh Tomato Salsa, [Rice, Cheese, Sour Cream, Guacamole, Fajita Vegetables]] ? [Roasted Chili Corn Salsa (Medium), [Pinto Beans, Rice, Fajita Veggies, Cheese, Lettuce]] ? [Tomatillo Green Chili Salsa, [Rice, Cheese, Guacamole, Lettuce]] [Roasted Chili Corn Salsa, [Rice, Black Beans, Sour Cream, Guacamole]] ? [Tomatillo Red Chili Salsa, [Rice, Cheese, Sour Cream, Guacamole]] [Fresh Tomato Salsa, [Fajita Vegetables, Rice, Cheese, Sour Cream, Guacamole, Lettuce]] [Tomatillo Green Chili Salsa, [Fajita Vegetables, Lettuce]] ? [[Tomatillo-Green Chili Salsa (Medium), Fresh Tomato Salsa (Mild)], [Cheese, Sour Cream, Guacamole]] [[Fresh Tomato Salsa (Mild), Tomatillo-Green Chili Salsa (Medium), Roasted Chili Corn Salsa (Medium), Tomatillo-Red Chili Salsa (Hot)], [Pinto Beans, Rice, Fajita Veggies, Cheese, Sour Cream, Lettuce]] ? [Tomatillo Green Chili Salsa, [Rice, Fajita Vegetables, Sour Cream, Cheese, Lettuce]] ? [[Roasted Chili Corn Salsa (Medium), Fresh Tomato Salsa (Mild)], [Rice, Fajita Veggies]] [Fresh Tomato (Mild), [Lettuce, Fajita Veggies, Pinto Beans, Rice, Sour Cream, Cheese]] ? [Roasted Chili Corn Salsa (Medium), [Rice, Cheese, Sour Cream, Lettuce]] ? [Tomatillo-Green Chili Salsa (Medium), [Rice, Fajita Veggies, Cheese, Lettuce]] [Blackberry] [Fresh Tomato Salsa, [Rice, Pinto Beans, Cheese, Sour Cream]] ? [Tomatillo-Red Chili Salsa (Hot), [Pinto Beans, Rice, Fajita Veggies, Cheese, Sour Cream, Guacamole]] [[Tomatillo-Green Chili Salsa (Medium), Tomatillo-Red Chili Salsa (Hot)], [Pinto Beans, Rice, Fajita Veggies, Cheese, Sour Cream, Guacamole]] [Fresh Tomato Salsa, [Rice, Black Beans, Cheese, Sour Cream, Lettuce]] [Fresh Tomato Salsa, [Fajita Vegetables, Rice, Black Beans, Sour Cream, Guacamole, Lettuce]] [Coke] [Fresh Tomato Salsa, [Fajita Vegetables, Rice, Black Beans, Lettuce]] [Fresh Tomato Salsa, [Cheese, Sour Cream, Guacamole, Lettuce]] ? [Roasted Chili Corn Salsa, [Fajita Vegetables, Rice, Black Beans, Guacamole]] [Roasted Chili Corn Salsa, [Rice, Guacamole]] [[Roasted Chili Corn Salsa (Medium), Tomatillo-Red Chili Salsa (Hot), Fresh Tomato Salsa (Mild)], [Rice, Black Beans, Pinto Beans, Cheese, Sour Cream, Lettuce]] [Coca Cola] [[Roasted Chili Corn Salsa (Medium), Fresh Tomato Salsa (Mild)], [Rice, Black Beans, Fajita Veggies, Guacamole]] [[Roasted Chili Corn Salsa (Medium), Tomatillo-Red Chili Salsa (Hot), Fresh Tomato Salsa (Mild)], [Rice, Pinto Beans, Fajita Veggies, Cheese, Sour Cream, Lettuce]] ? [Fresh Tomato Salsa, [Black Beans, Guacamole]] [Fresh Tomato Salsa, [Cheese, Lettuce]] [Roasted Chili Corn Salsa (Medium), [Sour Cream, Cheese, Black Beans, Rice]] [Fresh Tomato Salsa, [Fajita Vegetables, Rice, Cheese, Sour Cream, Lettuce]] ? [Roasted Chili Corn Salsa, [Guacamole, Lettuce, Rice, Fajita Vegetables, Sour Cream]] [Diet Coke] [Tomatillo Green Chili Salsa, [Cheese, Sour Cream, Guacamole]] [Tomatillo Red Chili Salsa, [Rice, Cheese, Sour Cream, Lettuce]] [Tomatillo Red Chili Salsa, [Rice, Cheese, Sour Cream, Lettuce]] [Fresh Tomato Salsa, [Rice, Cheese, Lettuce]] ? [Diet Coke] [Roasted Chili Corn Salsa, [Rice, Black Beans, Cheese, Sour Cream, Lettuce]] [Roasted Chili Corn Salsa, [Fajita Vegetables, Black Beans, Cheese, Sour Cream, Guacamole, Lettuce]] [Tomatillo Red Chili Salsa, [Fajita Vegetables, Rice, Cheese]] [Roasted Chili Corn Salsa, [Fajita Vegetables, Rice, Black Beans, Cheese, Sour Cream, Lettuce]] [Roasted Chili Corn Salsa, [Rice, Black Beans, Cheese, Sour Cream, Guacamole, Lettuce]] [Fresh Tomato Salsa, [Fajita Vegetables, Black Beans]] [Roasted Chili Corn Salsa, [Pinto Beans, Cheese, Sour Cream, Lettuce]] [Roasted Chili Corn Salsa, [Black Beans, Cheese, Sour Cream, Lettuce]] [Fresh Tomato Salsa, [Rice, Black Beans, Sour Cream]] [Roasted Chili Corn Salsa, [Rice, Black Beans, Cheese, Sour Cream, Guacamole, Lettuce]] [Fresh Tomato Salsa, Guacamole] [Fresh Tomato Salsa, [Fajita Vegetables, Rice, Black Beans, Lettuce]] [Roasted Chili Corn Salsa, [Black Beans, Cheese, Sour Cream, Lettuce]] [Roasted Chili Corn Salsa, [Rice, Black Beans, Cheese, Sour Cream, Guacamole, Lettuce]] [Roasted Chili Corn Salsa (Medium), [Black Beans, Rice, Cheese, Sour Cream]] [Dr. Pepper] [Dr. Pepper] [Tomatillo-Red Chili Salsa (Hot), [Black Beans, Rice, Cheese, Lettuce]] [Diet Dr. Pepper] ? [Fresh Tomato Salsa, [Guacamole, Lettuce, Rice, Cheese, Sour Cream, Black Beans]] [Lemonade] [Fresh Tomato Salsa, [Rice, Fajita Vegetables]] ? ? [[Fresh Tomato Salsa (Mild), Roasted Chili Corn Salsa (Medium)], [Black Beans, Rice, Cheese, Sour Cream, Lettuce]] ? [Diet Coke] [Fresh Tomato Salsa, [Rice, Black Beans, Cheese]] ? [Fresh Tomato Salsa (Mild), Black Beans] ? [Tomatillo-Red Chili Salsa (Hot), [Black Beans, Rice]] [Fresh Tomato Salsa (Mild), [Black Beans, Cheese, Lettuce]] [Fresh Tomato Salsa, [Fajita Vegetables, Rice, Black Beans, Cheese, Sour Cream, Lettuce]] [Fresh Tomato Salsa, [Rice, Black Beans, Cheese, Sour Cream, Guacamole, Lettuce]] ? ? [Fresh Tomato Salsa, [Rice, Black Beans, Pinto Beans, Cheese, Sour Cream, Guacamole, Lettuce]] [[Fresh Tomato Salsa (Mild), Tomatillo-Red Chili Salsa (Hot)], [Rice, Cheese, Sour Cream]] [Sprite] [[Fresh Tomato Salsa (Mild), Tomatillo-Red Chili Salsa (Hot)], [Black Beans, Rice, Cheese, Sour Cream, Guacamole]] [Fresh Tomato Salsa (Mild), [Black Beans, Rice, Fajita Veggies, Guacamole, Lettuce]] [Fresh Tomato Salsa, [Rice, Black Beans, Cheese, Sour Cream, Guacamole, Lettuce]] [Sprite] [Fresh Tomato Salsa, [Fajita Vegetables, Rice, Black Beans, Cheese, Sour Cream]] ? ? [Sprite] [Roasted Chili Corn Salsa, [Fajita Vegetables, Rice, Pinto Beans, Cheese, Sour Cream, Guacamole, Lettuce]] [[Fresh Tomato Salsa (Mild), Roasted Chili Corn Salsa (Medium)], [Black Beans, Rice, Cheese, Sour Cream]] [[Fresh Tomato Salsa (Mild), Roasted Chili Corn Salsa (Medium)], [Pinto Beans, Rice, Fajita Veggies, Cheese, Sour Cream]] [Fresh Tomato Salsa, [Rice, Black Beans, Cheese, Sour Cream, Guacamole, Lettuce]] ? [Tomatillo Red Chili Salsa, [Fajita Vegetables, Rice, Black Beans, Cheese, Sour Cream, Guacamole, Lettuce]] [[Tomatillo-Green Chili Salsa (Medium), Roasted Chili Corn Salsa (Medium), Tomatillo-Red Chili Salsa (Hot)], [Black Beans, Rice, Fajita Veggies, Lettuce]] ? [Fresh Tomato Salsa, [Rice, Pinto Beans, Cheese, Sour Cream]] ? ? [Fresh Tomato Salsa, [Rice, Black Beans, Cheese]] [Fresh Tomato Salsa, [Rice, Black Beans, Cheese, Sour Cream]] ? [Fresh Tomato Salsa, [Rice, Black Beans, Cheese, Sour Cream, Lettuce]] [Fresh Tomato Salsa, [Rice, Black Beans, Cheese, Sour Cream, Lettuce]] [Fresh Tomato Salsa, [Rice, Black Beans, Cheese, Sour Cream, Guacamole, Lettuce]] [Coke] [Tomatillo Red Chili Salsa, [Rice, Black Beans, Cheese]] ? [Fresh Tomato Salsa, [Rice, Cheese, Lettuce]] ? ? [Fresh Tomato Salsa, [Fajita Vegetables, Rice, Black Beans, Cheese]] [Tomatillo Green Chili Salsa, [Fajita Vegetables, Rice]] [Roasted Chili Corn Salsa, [Fajita Vegetables, Rice, Pinto Beans, Cheese, Sour Cream, Lettuce]] ? [Fresh Tomato Salsa, [Fajita Vegetables, Rice, Black Beans, Cheese, Sour Cream, Guacamole, Lettuce]] [Roasted Chili Corn Salsa, [Rice, Black Beans, Sour Cream, Cheese, Guacamole]] [Roasted Chili Corn Salsa, [Fajita Vegetables, Sour Cream, Cheese, Lettuce, Guacamole]] [Tomatillo Red Chili Salsa, [Rice, Fajita Vegetables, Black Beans, Sour Cream, Cheese, Lettuce, Guacamole]] ? [Tomatillo Red Chili Salsa, [Rice, Black Beans, Cheese, Sour Cream, Guacamole, Lettuce]] ? ? [Diet Coke] ? [Tomatillo Red Chili Salsa, [Rice, Fajita Vegetables, Pinto Beans, Sour Cream, Cheese]] [[Fresh Tomato Salsa (Mild), Tomatillo-Green Chili Salsa (Medium), Roasted Chili Corn Salsa (Medium), Tomatillo-Red Chili Salsa (Hot)], [Black Beans, Rice, Fajita Veggies, Cheese, Sour Cream]] ? [Diet Coke] [Fresh Tomato Salsa, [Fajita Vegetables, Cheese, Sour Cream, Lettuce]] ? [Fresh Tomato Salsa (Mild), [Fajita Veggies, Cheese, Sour Cream, Guacamole]] [Diet Coke] [Fresh Tomato Salsa (Mild), [Rice, Fajita Veggies, Cheese, Sour Cream, Guacamole, Lettuce]] [Tomatillo Green Chili Salsa, [Rice, Fajita Vegetables, Pinto Beans, Sour Cream, Cheese]] [Roasted Chili Corn Salsa, [Rice, Pinto Beans, Sour Cream, Cheese, Lettuce]] [Fresh Tomato Salsa, [Fajita Vegetables, Pinto Beans, Guacamole, Lettuce]] [Fresh Tomato Salsa, [Fajita Vegetables, Lettuce]] [Fresh Tomato Salsa, [Fajita Vegetables, Rice, Black Beans, Guacamole, Lettuce]] [Fresh Tomato Salsa, [Fajita Vegetables, Rice, Sour Cream, Guacamole]] [Roasted Chili Corn Salsa, [Rice, Black Beans, Cheese, Sour Cream, Guacamole, Lettuce]] [Nestea] [Tomatillo Green Chili Salsa, [Rice, Pinto Beans, Sour Cream]] ? [Fresh Tomato Salsa, [Rice, Black Beans, Cheese, Sour Cream]] [Sprite] [Tomatillo Red Chili Salsa, [Fajita Vegetables, Rice, Black Beans, Cheese, Sour Cream, Guacamole, Lettuce]] [Roasted Chili Corn Salsa, [Fajita Vegetables, Rice, Black Beans, Cheese, Sour Cream, Guacamole, Lettuce]] [Tomatillo-Green Chili Salsa (Medium), [Rice, Cheese, Sour Cream]] ? [Roasted Chili Corn Salsa (Medium), [Pinto Beans, Black Beans, Rice, Fajita Veggies, Cheese, Lettuce]] [Tomatillo-Red Chili Salsa (Hot), [Pinto Beans, Black Beans, Rice, Fajita Veggies, Cheese, Sour Cream, Lettuce]] [Tomatillo Red Chili Salsa, [Rice, Cheese, Sour Cream, Lettuce]] [Tomatillo Red Chili Salsa, [Rice, Cheese, Sour Cream, Lettuce]] [Coke] [Fresh Tomato Salsa, [Black Beans, Cheese, Sour Cream, Lettuce]] ? [Fresh Tomato Salsa, [Rice, Cheese, Guacamole, Lettuce]] ? [[Tomatillo-Green Chili Salsa (Medium), Roasted Chili Corn Salsa (Medium), Tomatillo-Red Chili Salsa (Hot)], [Black Beans, Rice, Fajita Veggies, Lettuce]] [[Tomatillo-Green Chili Salsa (Medium), Roasted Chili Corn Salsa (Medium), Tomatillo-Red Chili Salsa (Hot)], [Black Beans, Rice, Fajita Veggies, Lettuce]] [Fresh Tomato (Mild), [Lettuce, Rice, Cheese]] [[Lettuce, Rice]] [Rice] ? ? [Roasted Chili Corn Salsa, [Fajita Vegetables, Rice, Black Beans, Sour Cream, Guacamole]] [Fresh Tomato Salsa, [Rice, Cheese, Sour Cream, Lettuce]] [Fresh Tomato Salsa, [Rice, Cheese, Sour Cream, Lettuce]] [Fresh Tomato Salsa, [Rice, Pinto Beans, Sour Cream, Cheese, Lettuce]] ? [Tomatillo-Red Chili Salsa (Hot), [Black Beans, Rice, Fajita Veggies, Cheese, Sour Cream, Lettuce]] [Tomatillo-Red Chili Salsa (Hot), [Black Beans, Rice, Fajita Veggies, Cheese, Sour Cream, Lettuce]] [Fresh Tomato Salsa, [Rice, Black Beans, Cheese, Lettuce]] [Fresh Tomato Salsa, [Rice, Black Beans, Cheese, Lettuce]] [Coke] ? [Fresh Tomato Salsa, [Fajita Vegetables, Rice, Black Beans, Cheese, Guacamole, Lettuce]] [Roasted Chili Corn Salsa, [Rice, Black Beans, Cheese, Guacamole, Lettuce]] ? [Fresh Tomato Salsa, [Pinto Beans, Cheese, Sour Cream]] [Fresh Tomato Salsa, [Pinto Beans, Cheese, Sour Cream, Guacamole]] [Tomatillo-Red Chili Salsa (Hot), [Rice, Pinto Beans, Fajita Veggies, Cheese, Sour Cream, Guacamole]] [Fresh Tomato Salsa (Mild), [Rice, Fajita Veggies, Cheese, Lettuce]] [Peach Orange] ? [Roasted Chili Corn Salsa (Medium), [Black Beans, Rice, Cheese, Sour Cream, Lettuce]] [Roasted Chili Corn Salsa, [Rice, Black Beans, Cheese, Sour Cream, Lettuce]] ? [Tomatillo-Red Chili Salsa (Hot), [Pinto Beans, Rice, Cheese, Sour Cream, Lettuce]] ? [Fresh Tomato Salsa, [Rice, Black Beans, Cheese, Lettuce, Guacamole]] [Tomatillo Green Chili Salsa, [Rice, Fajita Vegetables, Black Beans, Sour Cream, Cheese, Lettuce]] [Fresh Tomato Salsa, [Rice, Black Beans, Cheese, Guacamole, Lettuce]] ? [Fresh Tomato Salsa, [Rice, Sour Cream, Cheese, Lettuce, Guacamole]] ? [Fresh Tomato Salsa, [Rice, Sour Cream, Cheese, Lettuce, Guacamole]] [Tomatillo Red Chili Salsa, [Rice, Black Beans, Cheese]] [Tomatillo Red Chili Salsa, [Rice, Cheese]] [Fresh Tomato Salsa, [Fajita Vegetables, Rice, Pinto Beans, Cheese, Sour Cream, Lettuce]] ? [Fresh Tomato Salsa, [Rice, Cheese, Sour Cream]] ? [Roasted Chili Corn Salsa (Medium), [Rice, Fajita Veggies, Cheese, Sour Cream, Guacamole, Lettuce]] [Mountain Dew] ? [Tomatillo Red Chili Salsa, [Rice, Black Beans, Sour Cream, Cheese, Lettuce, Guacamole]] ? [[Fresh Tomato Salsa (Mild), Tomatillo-Green Chili Salsa (Medium), Roasted Chili Corn Salsa (Medium), Tomatillo-Red Chili Salsa (Hot)], [Cheese, Sour Cream]] ? [Roasted Chili Corn Salsa, [Pinto Beans, Rice, Guacamole, Sour Cream, Cheese]] ? [Fresh Tomato Salsa, [Fajita Vegetables, Rice, Pinto Beans, Cheese, Sour Cream, Guacamole, Lettuce]] [Diet Coke] ? [Fresh Tomato Salsa, [Fajita Vegetables, Rice, Black Beans, Pinto Beans, Cheese, Sour Cream, Guacamole, Lettuce]] [Tomatillo-Red Chili Salsa (Hot), [Black Beans, Rice, Fajita Veggies, Cheese, Sour Cream]] ? [Coke] [Fresh Tomato Salsa, [Rice, Cheese, Sour Cream, Lettuce]] [Tomatillo Green Chili Salsa, [Rice, Black Beans, Cheese, Sour Cream]] ? [Tomatillo-Red Chili Salsa (Hot), [Rice, Pinto Beans, Cheese]] [Fresh Tomato Salsa, Cheese] [Diet Coke] ? [Fresh Tomato Salsa (Mild), [Pinto Beans, Rice, Cheese, Lettuce]] [Fresh Tomato Salsa (Mild), [Black Beans, Rice, Cheese, Lettuce]] [Fresh Tomato Salsa (Mild), [Cheese, Lettuce]] [Fresh Tomato Salsa (Mild), [Rice, Cheese, Sour Cream, Lettuce]] [Fresh Tomato Salsa, [Fajita Vegetables, Rice, Black Beans, Cheese, Sour Cream, Lettuce]] [Fresh Tomato Salsa, [Rice, Cheese, Sour Cream]] [Tomatillo Red Chili Salsa, [Fajita Vegetables, Rice, Black Beans, Cheese, Sour Cream, Guacamole, Lettuce]] [Fresh Tomato Salsa, [Fajita Vegetables, Rice, Black Beans, Cheese, Sour Cream, Guacamole, Lettuce]] [[Roasted Chili Corn Salsa (Medium), Tomatillo-Red Chili Salsa (Hot)], [Black Beans, Rice, Cheese, Sour Cream, Lettuce]] [Mountain Dew] ? [Lemonade] [Fresh Tomato Salsa, [Cheese, Lettuce]] ? [Fresh Tomato (Mild), [Black Beans, Rice, Sour Cream, Cheese]] [Fresh Tomato (Mild), [Black Beans, Rice, Sour Cream, Cheese]] [Roasted Chili Corn Salsa (Medium), [Rice, Fajita Veggies, Cheese, Sour Cream, Lettuce]] ? [Fresh Tomato Salsa (Mild), [Black Beans, Rice, Cheese, Sour Cream, Lettuce]] ? [[Tomatillo-Green Chili Salsa (Medium), Roasted Chili Corn Salsa (Medium)], [Rice, Fajita Veggies, Guacamole, Lettuce]] [Tomatillo-Red Chili Salsa (Hot), [Rice, Cheese, Sour Cream, Lettuce]] [Tomatillo-Green Chili Salsa (Medium), [Rice, Cheese, Sour Cream, Lettuce]] ? [Fresh Tomato Salsa (Mild), [Black Beans, Fajita Veggies, Cheese, Sour Cream, Lettuce]] [Tomatillo Green Chili Salsa, [Rice, Black Beans, Cheese, Sour Cream]] [Tomatillo Green Chili Salsa, [Rice, Black Beans, Cheese, Sour Cream]] [Fresh Tomato Salsa, [Rice, Fajita Vegetables, Pinto Beans, Cheese, Lettuce, Guacamole]] ? ? [Tomatillo Red Chili Salsa, [Cheese, Black Beans, Rice]] [Fresh Tomato Salsa, [Sour Cream, Cheese, Rice, Black Beans]] ? [Fresh Tomato Salsa, [Rice, Black Beans, Cheese, Sour Cream]] ? ? ? [Roasted Chili Corn Salsa (Medium), [Black Beans, Rice, Fajita Veggies]] [Dr. Pepper] [Fresh Tomato Salsa, [Fajita Vegetables, Rice, Black Beans, Cheese]] ? [Fresh Tomato Salsa, [Rice, Black Beans, Cheese, Lettuce]] [Fresh Tomato Salsa, [Rice, Fajita Vegetables, Black Beans, Cheese, Lettuce]] [Fresh Tomato Salsa, [Rice, Black Beans, Cheese, Lettuce, Guacamole]] ? [Tomatillo-Red Chili Salsa (Hot), [Black Beans, Rice, Cheese, Lettuce]] ? ? [Diet Dr. Pepper] [Fresh Tomato Salsa, [Fajita Vegetables, Rice]] ? ? [Tomatillo-Red Chili Salsa (Hot), [Cheese, Sour Cream, Lettuce]] [Tomatillo-Red Chili Salsa (Hot), [Rice, Fajita Veggies, Cheese, Sour Cream]] ? [Fresh Tomato Salsa, [Rice, Cheese, Lettuce]] ? [Nestea] [Fresh Tomato Salsa, [Rice, Cheese, Sour Cream, Lettuce]] ? [Fresh Tomato Salsa, [Fajita Vegetables, Rice, Black Beans, Cheese, Sour Cream, Guacamole, Lettuce]] ? [Fresh Tomato Salsa, [Sour Cream, Lettuce, Rice, Cheese]] ? ? [[Fresh Tomato Salsa (Mild), Tomatillo-Red Chili Salsa (Hot)], [Black Beans, Rice, Fajita Veggies, Cheese, Lettuce]] [[Fresh Tomato Salsa (Mild), Roasted Chili Corn Salsa (Medium)], [Black Beans, Rice, Fajita Veggies, Cheese, Lettuce]] [Fresh Tomato Salsa, [Rice, Pinto Beans, Cheese, Sour Cream]] [Fresh Tomato Salsa, [Rice, Cheese, Sour Cream]] [Tomatillo Red Chili Salsa, [Fajita Vegetables, Rice, Pinto Beans, Guacamole, Lettuce]] [Tomatillo Red Chili Salsa, [Rice, Pinto Beans, Cheese, Sour Cream]] [Fresh Tomato Salsa, [Rice, Pinto Beans, Lettuce]] ? [Roasted Chili Corn Salsa, [Rice, Black Beans, Guacamole]] [Coke] [Fresh Tomato Salsa, [Rice, Cheese]] [Fresh Tomato Salsa, [Rice, Pinto Beans, Cheese, Sour Cream, Guacamole, Lettuce]] ? ? [Tomatillo-Red Chili Salsa (Hot), [Black Beans, Rice, Cheese, Sour Cream, Guacamole]] [Fresh Tomato Salsa, [Rice, Black Beans, Fajita Vegetables, Lettuce, Cheese, Sour Cream]] [Fresh Tomato Salsa, [Rice, Cheese, Sour Cream, Lettuce]] [Fresh Tomato Salsa, [Lettuce, Sour Cream, Cheese, Fajita Vegetables, Pinto Beans, Rice]] [Fresh Tomato Salsa, [Rice, Black Beans, Sour Cream, Lettuce]] [Tomatillo Red Chili Salsa, [Rice, Black Beans, Sour Cream, Lettuce]] [Coke] [Fresh Tomato Salsa, [Rice, Pinto Beans, Lettuce]] ? [[Roasted Chili Corn Salsa (Medium), Fresh Tomato Salsa (Mild)], [Rice, Fajita Veggies]] [Tomatillo Green Chili Salsa, [Rice, Black Beans, Guacamole, Lettuce]] ? [Fresh Tomato Salsa, [Rice, Black Beans, Cheese, Sour Cream]] ? ? [Fresh Tomato Salsa (Mild), [Pinto Beans, Black Beans, Rice, Fajita Veggies, Lettuce]] ? [Fresh Tomato Salsa, [Rice, Cheese]] ? [Nestea] [Tomatillo Green Chili (Medium), [Lettuce, Black Beans, Rice, Sour Cream, Cheese]] [Tomatillo Red Chili (Hot), [Lettuce, Black Beans, Rice, Sour Cream, Cheese]] [Roasted Chili Corn (Medium), [Lettuce, Black Beans, Cheese]] [Roasted Chili Corn (Medium), [Lettuce, Black Beans, Rice, Sour Cream, Cheese]] [Tomatillo Green Chili Salsa, [Rice, Pinto Beans, Cheese, Lettuce]] ? [Nestea] [Fresh Tomato Salsa, [Cheese, Lettuce]] ? [Fresh Tomato Salsa, [Fajita Vegetables, Rice, Black Beans, Sour Cream, Guacamole, Lettuce]] [Tomatillo Green Chili Salsa, [Fajita Vegetables, Black Beans, Cheese, Lettuce]] [Fresh Tomato Salsa, [Fajita Vegetables, Rice, Black Beans, Pinto Beans, Cheese, Sour Cream, Guacamole, Lettuce]] [Fresh Tomato Salsa, [Fajita Vegetables, Rice, Black Beans, Cheese, Sour Cream, Guacamole, Lettuce]] [Roasted Chili Corn Salsa (Medium), [Rice, Black Beans, Pinto Beans, Fajita Veggies, Lettuce]] ? [Roasted Chili Corn Salsa, [Rice, Black Beans, Cheese, Sour Cream]] [Roasted Chili Corn Salsa, [Rice, Black Beans, Cheese, Sour Cream]] ? [[Fresh Tomato Salsa (Mild), Tomatillo-Green Chili Salsa (Medium), Roasted Chili Corn Salsa (Medium), Tomatillo-Red Chili Salsa (Hot)], [Black Beans, Rice, Fajita Veggies, Cheese, Sour Cream]] ? ? [Diet Coke] [[Fresh Tomato Salsa (Mild), Tomatillo-Red Chili Salsa (Hot)], [Pinto Beans, Rice, Cheese, Sour Cream, Lettuce]] [Tomatillo-Green Chili Salsa (Medium), [Rice, Cheese, Sour Cream, Lettuce]] [Roasted Chili Corn Salsa, [Rice, Black Beans, Cheese, Sour Cream, Lettuce]] [Fresh Tomato Salsa] [Roasted Chili Corn Salsa, [Rice, Black Beans, Sour Cream, Cheese, Guacamole]] [Roasted Chili Corn Salsa, [Fajita Vegetables, Sour Cream, Cheese, Lettuce, Guacamole]] ? [Diet Coke] [Tomatillo Green Chili Salsa, [Rice, Black Beans, Cheese, Sour Cream, Lettuce]] [[Fresh Tomato Salsa (Mild), Roasted Chili Corn Salsa (Medium), Tomatillo-Red Chili Salsa (Hot)], [Black Beans, Rice, Fajita Veggies, Lettuce]] [Pineapple Orange Banana] [Roasted Chili Corn Salsa, [Rice, Black Beans, Sour Cream, Cheese, Lettuce]] [Roasted Chili Corn Salsa, [Rice, Fajita Vegetables, Black Beans, Sour Cream, Cheese, Lettuce]] ? [Lemonade] [Fresh Tomato Salsa, [Fajita Vegetables, Rice, Pinto Beans, Cheese, Sour Cream, Guacamole, Lettuce]] ? ? [Coke] [Fresh Tomato Salsa (Mild), [Black Beans, Rice, Cheese, Lettuce]] ? [Tomatillo Red Chili Salsa, Cheese] ? [Tomatillo Red Chili Salsa, [Rice, Fajita Vegetables, Cheese, Lettuce, Guacamole]] [Roasted Chili Corn Salsa, [Fajita Vegetables, Rice, Black Beans, Cheese, Guacamole, Lettuce]] [Coke] [Fresh Tomato Salsa, [Fajita Vegetables, Cheese, Sour Cream]] [Fresh Tomato Salsa, [Fajita Vegetables, Cheese, Sour Cream]] [Fresh Tomato Salsa, [Fajita Vegetables, Rice, Black Beans, Cheese, Sour Cream, Guacamole, Lettuce]] [Tomatillo Red Chili Salsa, [Fajita Vegetables, Black Beans, Cheese, Sour Cream, Lettuce]] [Tomatillo Red Chili Salsa, [Rice, Cheese]] ? [Roasted Chili Corn Salsa, [Rice, Black Beans, Sour Cream, Cheese]] ? [Diet Coke] [Tomatillo Green Chili Salsa, [Fajita Vegetables, Pinto Beans, Sour Cream, Cheese, Lettuce]] [Tomatillo Green Chili Salsa, [Rice, Fajita Vegetables, Black Beans, Sour Cream, Cheese, Lettuce]] [Tomatillo Green Chili Salsa, [Fajita Vegetables, Rice, Black Beans, Pinto Beans, Guacamole]] ? [Fresh Tomato Salsa, [Rice, Pinto Beans, Cheese, Lettuce]] ? [Roasted Chili Corn Salsa (Medium), [Rice, Black Beans, Fajita Veggies]] [Sprite] [Fresh Tomato Salsa, [Cheese, Lettuce]] ? [Fresh Tomato Salsa (Mild), [Sour Cream, Lettuce, Cheese, Black Beans, Rice]] ? [[Rice, Cheese]] ? [Roasted Chili Corn Salsa, [Rice, Black Beans, Guacamole, Lettuce]] ? [Roasted Chili Corn Salsa, [Fajita Vegetables, Rice, Pinto Beans, Cheese, Sour Cream, Lettuce]] [Fresh Tomato Salsa, [Fajita Vegetables, Rice, Black Beans, Cheese, Sour Cream, Lettuce]] ? [Fresh Tomato Salsa, [Rice, Black Beans, Cheese, Sour Cream, Guacamole, Lettuce]] [Fresh Tomato Salsa, [Rice, Black Beans, Cheese, Sour Cream, Lettuce]] ? ? [[Lettuce, Rice, Fajita Veggies]] [[Lettuce, Fajita Veggies, Rice]] ? ? [Fresh Tomato Salsa (Mild), [Black Beans, Rice, Cheese]] [Fresh Tomato Salsa, [Rice, Pinto Beans, Cheese, Sour Cream, Lettuce]] ? [Coke] [Roasted Chili Corn Salsa (Medium), [Black Beans, Rice, Fajita Veggies, Cheese, Sour Cream]] ? [Fresh Tomato Salsa (Mild), [Black Beans, Rice, Sour Cream, Guacamole]] [Peach Orange] [Fresh Tomato Salsa, [Fajita Vegetables, Black Beans, Cheese, Sour Cream, Guacamole, Lettuce]] [Fresh Tomato Salsa, [Fajita Vegetables, Rice, Cheese, Sour Cream, Guacamole, Lettuce]] ? [Fresh Tomato Salsa, [Rice, Pinto Beans, Cheese, Sour Cream, Lettuce]] [[Fresh Tomato Salsa (Mild), Roasted Chili Corn Salsa (Medium), Tomatillo-Red Chili Salsa (Hot)], [Black Beans, Rice, Fajita Veggies, Lettuce]] [[Fresh Tomato Salsa (Mild), Roasted Chili Corn Salsa (Medium), Tomatillo-Red Chili Salsa (Hot)], [Black Beans, Rice, Fajita Veggies, Lettuce]] [Fresh Tomato Salsa, [Rice, Guacamole]] ? [[Fresh Tomato Salsa (Mild), Roasted Chili Corn Salsa (Medium)], [Black Beans, Rice, Cheese, Sour Cream, Lettuce]] ? [Tomatillo-Red Chili Salsa (Hot), [Black Beans, Rice, Cheese, Lettuce]] ? [Fresh Tomato Salsa, [Rice, Black Beans, Cheese, Sour Cream, Guacamole]] ? [Fresh Tomato Salsa, [Rice, Black Beans, Cheese, Sour Cream]] [Roasted Chili Corn Salsa, [Rice, Black Beans, Cheese, Sour Cream, Lettuce]] [Fresh Tomato Salsa, [Fajita Vegetables, Rice, Pinto Beans, Cheese, Sour Cream, Lettuce]] [Roasted Chili Corn Salsa, [Fajita Vegetables, Rice, Cheese, Sour Cream, Lettuce]] ? [Diet Coke] [Fresh Tomato Salsa, [Rice, Cheese, Sour Cream]] ? [Tomatillo Red Chili Salsa, [Fajita Vegetables, Rice, Black Beans, Cheese, Sour Cream, Guacamole, Lettuce]] ? [Lemonade] ? [Fresh Tomato Salsa, [Rice, Cheese, Lettuce]] [Coke] ? [Fresh Tomato Salsa, [Rice, Pinto Beans, Cheese, Sour Cream]] [Tomatillo Red Chili Salsa, [Fajita Vegetables, Rice, Black Beans, Cheese, Guacamole, Lettuce]] [Fresh Tomato Salsa, [Fajita Vegetables, Rice, Sour Cream, Guacamole, Lettuce]] [Fresh Tomato Salsa, [Fajita Vegetables, Rice, Cheese, Sour Cream, Guacamole, Lettuce]] [Fresh Tomato Salsa, [Fajita Vegetables, Rice, Cheese, Sour Cream, Guacamole, Lettuce]] [Tomatillo Red Chili Salsa, [Rice, Pinto Beans, Cheese, Lettuce]] [Fresh Tomato Salsa, [Rice, Sour Cream, Cheese, Guacamole]] ? [Fresh Tomato Salsa, [Rice, Fajita Vegetables, Cheese]] [Tomatillo Green Chili Salsa, [Fajita Vegetables, Rice, Cheese, Sour Cream, Lettuce]] [Roasted Chili Corn Salsa, [Fajita Vegetables, Rice, Cheese, Sour Cream, Lettuce]] [Fresh Tomato Salsa, [Fajita Vegetables, Cheese, Sour Cream]] ? [Tomatillo Red Chili Salsa, [Rice, Cheese, Lettuce]] [Lemonade] ? [Tomatillo Green Chili Salsa, [Rice, Pinto Beans, Sour Cream, Lettuce]] [Tomatillo Red Chili Salsa, [Rice, Cheese, Lettuce]] ? [Fresh Tomato Salsa, [Fajita Vegetables, Rice, Lettuce]] [Sprite] ? [Fresh Tomato Salsa] ? ? [Fresh Tomato Salsa, [Rice, Black Beans, Cheese, Sour Cream, Guacamole, Lettuce]] [Roasted Chili Corn Salsa, [Rice, Black Beans, Cheese, Sour Cream, Guacamole, Lettuce]] [Roasted Chili Corn Salsa, [Rice, Black Beans, Cheese, Sour Cream, Lettuce]] [Roasted Chili Corn Salsa, [Rice, Pinto Beans, Cheese, Sour Cream, Lettuce]] ? [Fresh Tomato Salsa, [Rice, Pinto Beans, Cheese, Sour Cream, Guacamole]] [Lemonade] [Tomatillo Red Chili Salsa, [Fajita Vegetables, Rice, Black Beans, Pinto Beans, Cheese, Sour Cream, Guacamole, Lettuce]] [Tomatillo Green Chili Salsa, [Fajita Vegetables, Rice, Black Beans, Guacamole, Lettuce]] [Coke] [Nestea] [Roasted Chili Corn Salsa, [Rice, Pinto Beans]] ? [Fresh Tomato Salsa, [Rice, Black Beans, Cheese, Sour Cream, Guacamole, Lettuce]] [Roasted Chili Corn Salsa, [Fajita Vegetables, Rice, Cheese, Sour Cream, Guacamole]] [Fresh Tomato Salsa, Rice] ? [Coke] [Fresh Tomato Salsa, [Fajita Vegetables, Rice, Black Beans, Cheese, Guacamole, Lettuce]] ? [Fresh Tomato Salsa, [Fajita Vegetables, Rice, Guacamole]] ? ? ? [Fresh Tomato Salsa, [Guacamole, Sour Cream, Cheese, Rice, Fajita Vegetables]] ? [Sprite] ? [Roasted Chili Corn Salsa, [Fajita Vegetables, Pinto Beans, Sour Cream, Cheese]] [Fresh Tomato Salsa, [Sour Cream, Cheese, Guacamole]] ? [Fresh Tomato Salsa, [Fajita Vegetables, Rice, Black Beans, Cheese, Sour Cream, Guacamole, Lettuce]] [Sprite] ? [Fresh Tomato Salsa, [Rice, Black Beans, Cheese, Sour Cream, Guacamole, Lettuce]] [Roasted Chili Corn Salsa, [Rice, Black Beans, Pinto Beans, Cheese, Sour Cream, Lettuce]] [Diet Coke] [Diet Coke] [Roasted Chili Corn Salsa, [Rice, Black Beans, Cheese]] ? [Tomatillo Red Chili Salsa, [Rice, Black Beans, Pinto Beans, Cheese, Sour Cream, Lettuce]] [Coke] [Tomatillo Red Chili Salsa, [Fajita Vegetables, Rice, Black Beans, Sour Cream, Guacamole]] ? [Fresh Tomato Salsa, [Rice, Black Beans, Cheese, Sour Cream, Lettuce]] ? [Fresh Tomato Salsa, Rice] ? [Roasted Chili Corn Salsa, [Rice, Cheese, Sour Cream, Lettuce]] [Tomatillo Red Chili Salsa, [Rice, Cheese, Sour Cream, Lettuce]] [Coke] [Sprite] [Tomatillo Red Chili Salsa, [Rice, Black Beans, Cheese, Sour Cream, Lettuce]] ? [Fresh Tomato Salsa, [Rice, Cheese, Sour Cream, Guacamole]] [Coke] ? [Fresh Tomato Salsa, [Rice, Black Beans, Cheese, Lettuce]] ? [Fresh Tomato Salsa, [Rice, Black Beans, Lettuce, Guacamole]] ? [Tomatillo Green Chili Salsa, [Rice, Black Beans, Cheese, Sour Cream, Guacamole, Lettuce]] ? [Fresh Tomato Salsa, [Rice, Black Beans, Pinto Beans, Cheese, Sour Cream]] ? [Fresh Tomato Salsa, [Rice, Fajita Vegetables, Black Beans, Sour Cream, Cheese]] ? [Coke] [Fresh Tomato Salsa, [Fajita Vegetables, Black Beans, Guacamole]] ? [Tomatillo Red Chili Salsa, [Rice, Black Beans, Cheese, Sour Cream, Lettuce]] ? [Roasted Chili Corn Salsa, [Black Beans, Cheese, Lettuce]] ? [Fresh Tomato Salsa, [Black Beans, Cheese, Sour Cream]] ? [Roasted Chili Corn Salsa, [Fajita Vegetables, Rice, Black Beans, Sour Cream, Lettuce]] [Fresh Tomato Salsa, [Black Beans, Cheese, Sour Cream, Guacamole, Lettuce]] ? [Fresh Tomato Salsa, [Rice, Black Beans, Pinto Beans, Cheese, Guacamole, Lettuce]] ? [Fresh Tomato Salsa, [Fajita Vegetables, Rice]] ? ? [Fresh Tomato Salsa, [Fajita Vegetables, Rice, Lettuce]] ? [Fresh Tomato Salsa, [Fajita Vegetables, Cheese, Lettuce]] [Tomatillo Red Chili Salsa, [Rice, Pinto Beans, Guacamole, Lettuce]] [Tomatillo Green Chili Salsa, [Fajita Vegetables, Rice, Black Beans, Cheese, Lettuce]] [Tomatillo Green Chili Salsa, [Fajita Vegetables, Cheese, Sour Cream, Lettuce]] [Fresh Tomato Salsa, [Fajita Vegetables, Black Beans, Cheese, Sour Cream, Guacamole, Lettuce]] [Fresh Tomato Salsa, [Fajita Vegetables, Rice, Cheese, Sour Cream, Guacamole, Lettuce]] ? [Fresh Tomato Salsa, [Rice, Black Beans, Sour Cream, Cheese]] ? [Tomatillo Green Chili Salsa, [Rice, Pinto Beans, Cheese, Guacamole]] ? [Fresh Tomato Salsa, [Cheese, Lettuce]] ? [Fresh Tomato Salsa, [Rice, Black Beans, Cheese]] [Coke] ? [White Rice] [White Rice] ? [Tomatillo Green Chili Salsa, [Black Beans, Sour Cream, Cheese, Guacamole]] [Tomatillo Green Chili Salsa, [Black Beans, Cheese, Guacamole]] [Diet Coke] [Roasted Chili Corn Salsa, [Fajita Vegetables, Rice, Black Beans, Cheese, Sour Cream, Lettuce]] ? [Tomatillo Red Chili Salsa, [Rice, Black Beans, Cheese, Sour Cream, Lettuce]] ? ? [Tomatillo Red Chili Salsa, [Rice, Fajita Vegetables, Cheese, Lettuce, Guacamole]] [Tomatillo Red Chili Salsa, Cheese] [Tomatillo Red Chili Salsa, [Rice, Black Beans, Cheese]] [Fresh Tomato Salsa, [Rice, Pinto Beans, Cheese, Sour Cream]] ? [Coke] [Tomatillo Red Chili Salsa, [Fajita Vegetables, Rice, Black Beans, Cheese, Sour Cream, Guacamole, Lettuce]] [Fresh Tomato Salsa, [Rice, Black Beans, Cheese, Sour Cream, Lettuce]] ? [Tomatillo Green Chili Salsa, [Rice, Pinto Beans, Sour Cream, Lettuce]] [Tomatillo Red Chili Salsa, [Rice, Pinto Beans, Cheese]] ? [Fresh Tomato Salsa, [Rice, Black Beans, Cheese, Sour Cream, Lettuce]] [Fresh Tomato Salsa, [Fajita Vegetables, Rice, Cheese, Guacamole]] [Fresh Tomato Salsa, [Rice, Black Beans, Cheese, Guacamole, Lettuce]] [Fresh Tomato Salsa, [Fajita Vegetables, Rice, Guacamole]] [Fresh Tomato Salsa, [Rice, Black Beans, Cheese, Guacamole, Lettuce]] [Fresh Tomato Salsa, [Rice, Black Beans, Cheese, Guacamole, Lettuce]] ? [Fresh Tomato Salsa, [Rice, Black Beans, Cheese, Sour Cream, Guacamole, Lettuce]] ? [Rice, Tomatillo-Red Chili Salsa (Hot)] [Rice, Tomatillo-Red Chili Salsa (Hot)] [Fresh Tomato Salsa, [Rice, Cheese, Sour Cream, Lettuce]] [Fresh Tomato Salsa, [Fajita Vegetables, Rice, Cheese, Sour Cream, Lettuce]] [Roasted Chili Corn Salsa, [Fajita Vegetables, Black Beans, Cheese, Sour Cream, Lettuce]] [Fresh Tomato Salsa, [Fajita Vegetables, Rice, Black Beans, Cheese, Sour Cream, Guacamole, Lettuce]] [Fresh Tomato Salsa, [Pinto Beans, Rice, Lettuce, Cheese]] ? [Roasted Chili Corn Salsa, [Rice, Cheese, Sour Cream, Lettuce]] [Diet Coke] ? [Fresh Tomato Salsa, [Fajita Vegetables, Rice, Black Beans, Pinto Beans, Cheese, Sour Cream, Guacamole]] [Coke] [Fresh Tomato Salsa, [Rice, Cheese, Sour Cream, Lettuce]] [Fresh Tomato Salsa, [Rice, Cheese, Sour Cream]] [Tomatillo Red Chili Salsa, [Rice, Black Beans, Sour Cream, Guacamole, Lettuce]] [Fresh Tomato Salsa, [Rice, Black Beans, Cheese, Sour Cream, Lettuce]] [Diet Coke] [Sprite] [Nestea] [Fresh Tomato Salsa, [Cheese, Lettuce]] [Tomatillo Red Chili Salsa, [Rice, Cheese, Guacamole]] ? [Fresh Tomato Salsa, [Rice, Cheese, Sour Cream]] ? [Fresh Tomato Salsa, [Fajita Vegetables, Rice, Black Beans, Sour Cream, Lettuce]] ? [Roasted Chili Corn Salsa, [Fajita Vegetables, Rice, Black Beans, Cheese, Guacamole]] [Tomatillo Green Chili Salsa, [Fajita Vegetables, Rice, Black Beans, Cheese, Lettuce]] [Roasted Chili Corn Salsa, [Rice, Pinto Beans, Cheese, Sour Cream]] [Roasted Chili Corn Salsa, [Fajita Vegetables, Cheese, Sour Cream, Lettuce]] ? [Fresh Tomato Salsa, [Rice, Pinto Beans, Cheese, Sour Cream, Guacamole, Lettuce]] ? [Coke] ? [Roasted Chili Corn Salsa, [Rice, Black Beans, Cheese, Guacamole, Lettuce]] [Fresh Tomato Salsa, [Rice, Cheese, Lettuce]] [Fresh Tomato Salsa, [Fajita Vegetables, Black Beans, Pinto Beans, Guacamole, Lettuce]] ? [Fresh Tomato Salsa, [Fajita Vegetables, Sour Cream, Cheese, Lettuce, Guacamole]] [Fresh Tomato Salsa, [Rice, Fajita Vegetables, Cheese]] ? [Tomatillo Red Chili Salsa, [Rice, Black Beans, Cheese, Lettuce, Sour Cream]] [Tomatillo Red Chili Salsa, [Rice, Black Beans, Cheese, Sour Cream, Lettuce]] ? [Roasted Chili Corn Salsa, [Fajita Vegetables, Rice, Black Beans, Guacamole]] ? [Roasted Chili Corn Salsa, [Fajita Vegetables, Rice, Black Beans, Cheese, Lettuce]] ? [Tomatillo Green Chili Salsa, [Fajita Vegetables, Rice, Cheese, Sour Cream, Lettuce]] ? [Roasted Chili Corn Salsa, [Fajita Vegetables, Rice, Black Beans, Sour Cream, Guacamole, Lettuce]] ? [Tomatillo Green Chili Salsa, [Rice, Black Beans, Cheese, Guacamole]] [Tomatillo Red Chili Salsa, [Black Beans, Cheese, Lettuce, Guacamole]] [Tomatillo Red Chili Salsa, [Rice, Black Beans, Cheese, Guacamole]] ? [Tomatillo Red Chili Salsa, [Rice, Black Beans, Cheese, Sour Cream, Guacamole, Lettuce]] [Fresh Tomato Salsa, [Rice, Black Beans, Cheese, Sour Cream, Lettuce]] [Roasted Chili Corn Salsa, [Fajita Vegetables, Rice, Black Beans, Cheese]] ? [Fresh Tomato Salsa, [Guacamole, Lettuce]] ? [Fresh Tomato Salsa, [Rice, Pinto Beans, Cheese, Sour Cream]] ? [Tomatillo Red Chili Salsa, [Rice, Cheese]] [Tomatillo Red Chili Salsa, [Rice, Black Beans, Cheese, Guacamole, Lettuce]] [Fresh Tomato Salsa, [Fajita Vegetables, Black Beans, Cheese, Sour Cream, Guacamole, Lettuce]] [Fresh Tomato Salsa, [Fajita Vegetables, Rice, Cheese, Sour Cream, Guacamole, Lettuce]] [Tomatillo Red Chili Salsa, [Fajita Vegetables, Rice, Black Beans, Cheese, Sour Cream]] ? [Coke] [Fresh Tomato Salsa, [Rice, Black Beans, Cheese, Guacamole, Lettuce]] [Sprite] [Fresh Tomato Salsa, [Rice, Black Beans, Cheese, Lettuce]] ? [Coke] [Roasted Chili Corn Salsa, [Rice, Pinto Beans, Sour Cream, Cheese, Guacamole]] [Roasted Chili Corn Salsa, [Fajita Vegetables, Sour Cream, Cheese, Lettuce, Guacamole]] [Tomatillo Red Chili Salsa, [Rice, Black Beans, Cheese, Sour Cream, Guacamole, Lettuce]] [Coke] [Fresh Tomato Salsa, [Rice, Guacamole]] [Roasted Chili Corn Salsa, [Rice, Black Beans, Guacamole]] [Roasted Chili Corn Salsa, [Rice, Black Beans, Guacamole]] [Tomatillo Red Chili Salsa, [Rice, Fajita Vegetables, Black Beans, Cheese, Lettuce]] [Tomatillo Red Chili Salsa, [Rice, Fajita Vegetables, Black Beans, Lettuce]] [Fresh Tomato Salsa, [Cheese, Lettuce]] [Roasted Chili Corn Salsa, [Fajita Vegetables, Rice, Sour Cream, Guacamole]] [Coke] ? [Fresh Tomato Salsa, [Rice, Black Beans, Cheese, Sour Cream]] [Coke] ? [Tomatillo Green Chili Salsa, [Rice, Sour Cream, Cheese, Lettuce]] [Fresh Tomato Salsa, [Pinto Beans, Rice, Cheese, Lettuce, Guacamole, Sour Cream, Fajita Vegetables]] [Diet Coke] [Roasted Chili Corn Salsa, [Fajita Vegetables, Rice, Cheese, Sour Cream, Guacamole, Lettuce]] [Fresh Tomato Salsa, [Fajita Vegetables, Rice, Black Beans, Cheese, Sour Cream, Lettuce]] [Roasted Chili Corn Salsa, [Black Beans, Cheese, Sour Cream]] [Fresh Tomato Salsa, [Rice, Black Beans, Guacamole, Lettuce]] ? [Fresh Tomato Salsa, [Rice, Cheese, Sour Cream, Lettuce]] ? [Fresh Tomato Salsa, [Fajita Vegetables, Rice, Cheese, Sour Cream, Guacamole, Lettuce]] ? [Roasted Chili Corn Salsa, [Rice, Black Beans, Cheese, Sour Cream, Lettuce]] [Roasted Chili Corn Salsa, [Fajita Vegetables, Rice, Black Beans, Cheese]] ? [Lemonade] [Sprite] [Tomatillo Green Chili Salsa, [Fajita Vegetables, Black Beans, Sour Cream, Lettuce]] [Tomatillo Green Chili Salsa, [Rice, Pinto Beans, Cheese, Sour Cream, Guacamole, Lettuce]] [Fresh Tomato Salsa, [Fajita Vegetables, Rice, Black Beans, Cheese, Guacamole, Lettuce]] ? [Fresh Tomato Salsa, [Fajita Vegetables, Rice, Black Beans, Pinto Beans, Cheese, Sour Cream, Guacamole, Lettuce]] ? [Fresh Tomato Salsa, [Rice, Pinto Beans, Cheese, Sour Cream, Guacamole, Lettuce]] [Coke] [Roasted Chili Corn Salsa, [Rice, Pinto Beans, Guacamole, Lettuce]] [Fresh Tomato Salsa, [Fajita Vegetables, Rice, Pinto Beans, Cheese, Sour Cream, Guacamole, Lettuce]] [Fresh Tomato Salsa, [Fajita Vegetables, Rice, Cheese, Sour Cream, Guacamole]] ? [Tomatillo Green Chili Salsa, [Fajita Vegetables, Rice, Cheese, Sour Cream, Lettuce]] [Fresh Tomato Salsa, [Black Beans, Pinto Beans, Cheese]] [Fresh Tomato Salsa, [Fajita Vegetables, Rice, Black Beans, Pinto Beans, Cheese, Sour Cream]] [Coke] [Fresh Tomato Salsa, [Rice, Black Beans, Sour Cream, Cheese]] ? [Fresh Tomato Salsa, [Black Beans, Rice, Sour Cream, Cheese, Guacamole, Lettuce]] [Sprite] [Fresh Tomato Salsa, [Rice, Black Beans, Pinto Beans, Cheese]] [Coke] ? [Fresh Tomato Salsa, [Rice, Black Beans, Pinto Beans, Cheese, Sour Cream, Guacamole]] ? [Fresh Tomato Salsa, [Rice, Pinto Beans, Cheese, Sour Cream, Lettuce]] ? ? ? [Fresh Tomato Salsa, [Cheese, Black Beans, Rice]] [Fresh Tomato Salsa, [Rice, Black Beans, Cheese]] ? [Diet Coke] [Fresh Tomato Salsa, [Fajita Vegetables, Rice, Black Beans, Guacamole, Lettuce]] ? [Tomatillo Green Chili Salsa, [Rice, Pinto Beans, Sour Cream, Lettuce]] [Tomatillo Red Chili Salsa, [Rice, Cheese, Lettuce]] [Tomatillo Red Chili Salsa, [Rice, Pinto Beans, Cheese]] [Roasted Chili Corn Salsa, [Rice, Fajita Vegetables, Cheese]] ? [Roasted Chili Corn Salsa, [Fajita Vegetables, Rice, Pinto Beans, Cheese, Sour Cream]] [Roasted Chili Corn Salsa, [Fajita Vegetables, Cheese, Lettuce]] ? [Fresh Tomato Salsa, [Rice, Pinto Beans, Cheese, Sour Cream]] [Coke] [Fresh Tomato Salsa, [Rice, Fajita Vegetables, Black Beans, Sour Cream, Cheese, Lettuce, Guacamole]] ? ? ? [Fresh Tomato Salsa, [Rice, Pinto Beans, Sour Cream, Cheese, Lettuce, Guacamole]] [Fresh Tomato Salsa, [Rice, Black Beans, Cheese, Guacamole, Lettuce]] ? [Coke] [Fresh Tomato Salsa, [Rice, Pinto Beans, Cheese, Sour Cream]] ? [Fresh Tomato Salsa, [Rice, Black Beans, Cheese, Sour Cream, Guacamole]] [Tomatillo Red Chili Salsa, [Fajita Vegetables, Rice, Black Beans, Sour Cream, Guacamole]] [Fresh Tomato Salsa, [Rice, Pinto Beans, Cheese, Lettuce]] [Fresh Tomato Salsa, [Rice, Black Beans, Cheese, Sour Cream, Lettuce]] [Fresh Tomato Salsa, [Fajita Vegetables, Rice, Black Beans, Cheese, Sour Cream, Guacamole, Lettuce]] [Fresh Tomato Salsa, [Fajita Vegetables, Black Beans, Cheese, Sour Cream, Guacamole]] [Fresh Tomato Salsa, [Rice, Black Beans, Cheese, Sour Cream, Lettuce]] ? [Tomatillo Green Chili Salsa, [Rice, Cheese, Guacamole, Lettuce]] ? [Tomatillo Green Chili Salsa, [Rice, Pinto Beans, Cheese, Sour Cream, Lettuce]] [Fresh Tomato Salsa, [Rice, Black Beans, Sour Cream]] [Tomatillo Red Chili Salsa, [Rice, Fajita Vegetables, Cheese, Lettuce, Guacamole]] [Tomatillo Red Chili Salsa, [Rice, Black Beans, Cheese]] [Fresh Tomato Salsa, [Rice, Sour Cream, Cheese, Lettuce, Guacamole]] ? [Roasted Chili Corn Salsa, [Rice, Black Beans, Cheese, Guacamole, Lettuce]] [Fresh Tomato Salsa, [Pinto Beans, Sour Cream, Cheese, Lettuce]] ? [Fresh Tomato Salsa, [Fajita Vegetables, Black Beans, Cheese, Guacamole, Lettuce]] [Tomatillo Red Chili Salsa, [Black Beans, Cheese]] [Tomatillo Red Chili Salsa, [Rice, Pinto Beans, Cheese]] ? ? [Fresh Tomato Salsa, [Fajita Vegetables, Rice]] ? [Fresh Tomato Salsa, [Fajita Vegetables, Rice, Cheese, Lettuce]] [Tomatillo Red Chili Salsa, [Rice, Cheese]] ? [Lemonade] [Lemonade] [Diet Coke] [Fresh Tomato Salsa, [Rice, Black Beans, Cheese]] ? [Fresh Tomato Salsa, [Fajita Vegetables, Black Beans, Cheese, Sour Cream, Guacamole, Lettuce]] [Fresh Tomato Salsa, [Fajita Vegetables, Rice, Cheese, Sour Cream, Guacamole, Lettuce]] ? [Fresh Tomato Salsa, [Rice, Black Beans, Pinto Beans, Cheese, Sour Cream, Guacamole, Lettuce]] [Roasted Chili Corn Salsa, [Rice, Black Beans, Cheese, Sour Cream, Guacamole, Lettuce]] ? [Tomatillo Green Chili Salsa, [Rice, Fajita Vegetables, Sour Cream, Cheese, Lettuce]] [Roasted Chili Corn Salsa, [Rice, Fajita Vegetables, Sour Cream, Cheese, Lettuce]] [Fresh Tomato Salsa, [Rice, Cheese, Sour Cream, Guacamole, Lettuce]] ? ? [Fresh Tomato Salsa, [Fajita Vegetables, Rice]] ? [Diet Coke] [Fresh Tomato Salsa, Rice] [Fresh Tomato Salsa, [Fajita Vegetables, Rice, Pinto Beans, Cheese, Sour Cream, Guacamole, Lettuce]] [Fresh Tomato Salsa, [Rice, Pinto Beans, Cheese, Sour Cream, Guacamole, Lettuce]] [Fresh Tomato Salsa, [Fajita Vegetables, Rice, Black Beans, Cheese, Sour Cream, Guacamole, Lettuce]] [Fresh Tomato Salsa, [Fajita Vegetables, Rice, Black Beans, Guacamole, Lettuce]] [Fresh Tomato Salsa, [Rice, Black Beans, Cheese, Sour Cream, Guacamole, Lettuce]] [Fresh Tomato Salsa, [Rice, Black Beans, Guacamole, Lettuce]] [Fresh Tomato Salsa, [Fajita Vegetables, Rice, Sour Cream, Lettuce]] ? [Coke] [Sprite] [Tomatillo Green Chili Salsa, [Rice, Black Beans, Cheese, Sour Cream, Lettuce]] ? [Lemonade] [Fresh Tomato Salsa, [Rice, Pinto Beans, Sour Cream, Cheese, Lettuce, Guacamole]] [Sprite] ? [Tomatillo Green Chili Salsa, [Fajita Vegetables, Rice, Sour Cream, Guacamole]] [Coke] [Roasted Chili Corn Salsa, [Rice, Black Beans, Cheese, Sour Cream]] [Sprite] [Fresh Tomato Salsa, [Cheese, Guacamole, Lettuce]] ? [Fresh Tomato Salsa, [Rice, Sour Cream, Guacamole, Lettuce]] ? [Fresh Tomato Salsa, [Rice, Cheese, Sour Cream, Guacamole]] ? [Brown Rice] ? [Guacamole] [Roasted Chili Corn Salsa, [Rice, Fajita Vegetables, Cheese, Lettuce]] ? [Diet Coke] [Fresh Tomato Salsa, [Rice, Cheese, Sour Cream]] ? [Sprite] ? [Tomatillo Red Chili Salsa, [Rice, Black Beans, Pinto Beans, Cheese, Sour Cream, Guacamole, Lettuce]] [Fresh Tomato Salsa, [Rice, Pinto Beans, Cheese]] [Fresh Tomato Salsa, Lettuce] [Roasted Chili Corn Salsa, [Guacamole, Lettuce, Rice, Fajita Vegetables, Sour Cream]] [Diet Coke] [Tomatillo Green Chili Salsa, [Cheese, Sour Cream, Guacamole]] [Roasted Chili Corn Salsa, [Rice, Black Beans, Cheese]] ? [Sprite] [Diet Coke] [Fresh Tomato Salsa, [Rice, Black Beans, Sour Cream, Cheese, Lettuce]] ? [Roasted Chili Corn Salsa, [Fajita Vegetables, Rice, Cheese, Lettuce]] ? [Roasted Chili Corn Salsa, [Rice, Black Beans, Cheese, Sour Cream, Lettuce]] [Tomatillo Red Chili Salsa, [Fajita Vegetables, Rice, Black Beans, Cheese, Sour Cream, Guacamole, Lettuce]] ? [Lemonade] [Fresh Tomato Salsa, [Fajita Vegetables, Rice, Cheese]] [Fresh Tomato Salsa, [Rice, Black Beans, Cheese, Sour Cream]] [Coke] ? [Tomatillo Green Chili Salsa, [Fajita Vegetables, Rice, Pinto Beans, Cheese, Guacamole, Lettuce]] [Tomatillo Green Chili Salsa, [Fajita Vegetables, Rice, Black Beans, Cheese, Sour Cream, Lettuce]] ? [Fresh Tomato Salsa, [Fajita Vegetables, Rice]] ? [Diet Coke] [Fresh Tomato Salsa, [Rice, Black Beans, Cheese]] [Roasted Chili Corn Salsa, [Fajita Vegetables, Cheese]] ? [Tomatillo Green Chili Salsa, [Rice, Pinto Beans, Cheese, Sour Cream]] [Fresh Tomato Salsa, [Fajita Vegetables, Cheese, Sour Cream]] ? [Sprite] [Roasted Chili Corn Salsa, [Black Beans, Sour Cream, Cheese, Guacamole]] [Roasted Chili Corn Salsa, [Fajita Vegetables, Sour Cream, Cheese, Lettuce, Guacamole]] [Roasted Chili Corn Salsa, [Fajita Vegetables, Rice, Cheese, Sour Cream, Lettuce]] [Tomatillo Green Chili Salsa, [Fajita Vegetables, Rice, Black Beans, Cheese, Sour Cream, Guacamole, Lettuce]] [Tomatillo Red Chili Salsa, [Fajita Vegetables, Rice, Black Beans, Cheese, Sour Cream, Lettuce]] [Fresh Tomato Salsa, [Rice, Black Beans, Cheese, Sour Cream, Lettuce]] [Tomatillo Red Chili Salsa, [Rice, Cheese, Guacamole, Lettuce]] [Coke] [Fresh Tomato Salsa, [Fajita Vegetables, Pinto Beans, Lettuce]] [Roasted Chili Corn Salsa, [Fajita Vegetables, Rice, Cheese, Sour Cream]] ? [Fresh Tomato Salsa, [Fajita Vegetables, Rice, Pinto Beans, Cheese, Guacamole, Lettuce]] [Sprite] [Roasted Chili Corn Salsa, [Pinto Beans, Cheese, Sour Cream]] ? ? [Fresh Tomato Salsa, [Fajita Vegetables, Rice]] ? [Diet Coke] [Fresh Tomato Salsa, [Fajita Vegetables, Lettuce]] [Fresh Tomato Salsa, [Fajita Vegetables, Pinto Beans, Lettuce]] [Roasted Chili Corn Salsa, [Rice, Cheese, Lettuce]] ? [Fresh Tomato Salsa, [Rice, Cheese, Sour Cream, Guacamole]] [Coke] [Tomatillo Green Chili Salsa, [Rice, Pinto Beans, Sour Cream]] ? [Fresh Tomato Salsa, [Black Beans, Cheese, Guacamole]] [Tomatillo Red Chili Salsa, [Rice, Black Beans, Pinto Beans, Cheese, Sour Cream, Lettuce]] ? [Tomatillo Green Chili Salsa, [Rice, Black Beans, Sour Cream, Lettuce]] ? [Diet Coke] [Fresh Tomato Salsa, [Rice, Black Beans, Cheese, Sour Cream, Guacamole, Lettuce]] [Fresh Tomato Salsa, [Rice, Black Beans, Cheese, Sour Cream, Guacamole]] ? [Fresh Tomato Salsa, [Rice, Black Beans, Sour Cream, Cheese, Lettuce, Guacamole]] [Roasted Chili Corn Salsa, [Rice, Black Beans, Cheese, Lettuce, Guacamole]] [Tomatillo Red Chili Salsa, [Rice, Black Beans, Sour Cream, Cheese, Lettuce]] [Tomatillo Red Chili Salsa, [Rice, Fajita Vegetables, Black Beans, Sour Cream, Cheese, Guacamole]] [Roasted Chili Corn Salsa, [Rice, Sour Cream, Cheese, Lettuce, Guacamole]] [Roasted Chili Corn Salsa, [Pinto Beans, Sour Cream, Cheese, Lettuce, Guacamole]] [Tomatillo Green Chili Salsa, [Rice, Black Beans]] ? [Nestea] ? [Roasted Chili Corn Salsa, [Cheese, Lettuce]] ? [Diet Coke] [Tomatillo Green Chili Salsa] [Tomatillo Green Chili Salsa] [Fresh Tomato Salsa, [Rice, Black Beans, Cheese, Sour Cream]] ? [Coke] [Tomatillo Green Chili Salsa, [Rice, Cheese, Sour Cream, Guacamole]] [Tomatillo Red Chili Salsa, [Fajita Vegetables, Rice, Black Beans, Cheese, Guacamole, Lettuce]] [Sprite] [Fresh Tomato Salsa, [Rice, Sour Cream, Cheese, Lettuce, Guacamole]] [Tomatillo Green Chili Salsa, [Rice, Fajita Vegetables, Black Beans, Guacamole]] [Fresh Tomato Salsa, [Fajita Vegetables, Rice, Black Beans, Cheese, Sour Cream, Lettuce]] ? ? [Fresh Tomato Salsa, [Rice, Cheese, Sour Cream]] ? [Fresh Tomato Salsa, [Rice, Black Beans, Sour Cream, Cheese, Lettuce, Guacamole]] [Fresh Tomato Salsa, [Rice, Sour Cream, Cheese, Lettuce, Guacamole]] [Fresh Tomato Salsa, [Fajita Vegetables, Pinto Beans, Guacamole, Lettuce]] [Fresh Tomato Salsa, [Fajita Vegetables, Lettuce]] [Fresh Tomato Salsa, [Fajita Vegetables, Pinto Beans, Lettuce]]'"
      ]
     },
     "execution_count": 18,
     "metadata": {},
     "output_type": "execute_result"
    }
   ],
   "source": [
    "orders.choice_description.str.cat(sep=' ', na_rep='?')"
   ]
  },
  {
   "cell_type": "code",
   "execution_count": 19,
   "metadata": {},
   "outputs": [],
   "source": [
    "orders.choice_description = orders.choice_description.str.replace(\"[\",\"\")"
   ]
  },
  {
   "cell_type": "code",
   "execution_count": 20,
   "metadata": {},
   "outputs": [
    {
     "data": {
      "text/html": [
       "<div>\n",
       "<style scoped>\n",
       "    .dataframe tbody tr th:only-of-type {\n",
       "        vertical-align: middle;\n",
       "    }\n",
       "\n",
       "    .dataframe tbody tr th {\n",
       "        vertical-align: top;\n",
       "    }\n",
       "\n",
       "    .dataframe thead th {\n",
       "        text-align: right;\n",
       "    }\n",
       "</style>\n",
       "<table border=\"1\" class=\"dataframe\">\n",
       "  <thead>\n",
       "    <tr style=\"text-align: right;\">\n",
       "      <th></th>\n",
       "      <th>order_id</th>\n",
       "      <th>quantity</th>\n",
       "      <th>item_name</th>\n",
       "      <th>choice_description</th>\n",
       "      <th>item_price</th>\n",
       "    </tr>\n",
       "  </thead>\n",
       "  <tbody>\n",
       "    <tr>\n",
       "      <th>0</th>\n",
       "      <td>1</td>\n",
       "      <td>1</td>\n",
       "      <td>CHIPS AND FRESH TOMATO SALSA</td>\n",
       "      <td>NaN</td>\n",
       "      <td>$2.39</td>\n",
       "    </tr>\n",
       "    <tr>\n",
       "      <th>1</th>\n",
       "      <td>1</td>\n",
       "      <td>1</td>\n",
       "      <td>IZZE</td>\n",
       "      <td>Clementine]</td>\n",
       "      <td>$3.39</td>\n",
       "    </tr>\n",
       "    <tr>\n",
       "      <th>2</th>\n",
       "      <td>1</td>\n",
       "      <td>1</td>\n",
       "      <td>NANTUCKET NECTAR</td>\n",
       "      <td>Apple]</td>\n",
       "      <td>$3.39</td>\n",
       "    </tr>\n",
       "    <tr>\n",
       "      <th>3</th>\n",
       "      <td>1</td>\n",
       "      <td>1</td>\n",
       "      <td>CHIPS AND TOMATILLO-GREEN CHILI SALSA</td>\n",
       "      <td>NaN</td>\n",
       "      <td>$2.39</td>\n",
       "    </tr>\n",
       "    <tr>\n",
       "      <th>4</th>\n",
       "      <td>2</td>\n",
       "      <td>2</td>\n",
       "      <td>CHICKEN BOWL</td>\n",
       "      <td>Tomatillo-Red Chili Salsa (Hot), Black Beans, ...</td>\n",
       "      <td>$16.98</td>\n",
       "    </tr>\n",
       "    <tr>\n",
       "      <th>...</th>\n",
       "      <td>...</td>\n",
       "      <td>...</td>\n",
       "      <td>...</td>\n",
       "      <td>...</td>\n",
       "      <td>...</td>\n",
       "    </tr>\n",
       "    <tr>\n",
       "      <th>4617</th>\n",
       "      <td>1833</td>\n",
       "      <td>1</td>\n",
       "      <td>STEAK BURRITO</td>\n",
       "      <td>Fresh Tomato Salsa, Rice, Black Beans, Sour Cr...</td>\n",
       "      <td>$11.75</td>\n",
       "    </tr>\n",
       "    <tr>\n",
       "      <th>4618</th>\n",
       "      <td>1833</td>\n",
       "      <td>1</td>\n",
       "      <td>STEAK BURRITO</td>\n",
       "      <td>Fresh Tomato Salsa, Rice, Sour Cream, Cheese, ...</td>\n",
       "      <td>$11.75</td>\n",
       "    </tr>\n",
       "    <tr>\n",
       "      <th>4619</th>\n",
       "      <td>1834</td>\n",
       "      <td>1</td>\n",
       "      <td>CHICKEN SALAD BOWL</td>\n",
       "      <td>Fresh Tomato Salsa, Fajita Vegetables, Pinto B...</td>\n",
       "      <td>$11.25</td>\n",
       "    </tr>\n",
       "    <tr>\n",
       "      <th>4620</th>\n",
       "      <td>1834</td>\n",
       "      <td>1</td>\n",
       "      <td>CHICKEN SALAD BOWL</td>\n",
       "      <td>Fresh Tomato Salsa, Fajita Vegetables, Lettuce]]</td>\n",
       "      <td>$8.75</td>\n",
       "    </tr>\n",
       "    <tr>\n",
       "      <th>4621</th>\n",
       "      <td>1834</td>\n",
       "      <td>1</td>\n",
       "      <td>CHICKEN SALAD BOWL</td>\n",
       "      <td>Fresh Tomato Salsa, Fajita Vegetables, Pinto B...</td>\n",
       "      <td>$8.75</td>\n",
       "    </tr>\n",
       "  </tbody>\n",
       "</table>\n",
       "<p>4622 rows × 5 columns</p>\n",
       "</div>"
      ],
      "text/plain": [
       "      order_id  quantity                              item_name  \\\n",
       "0            1         1           CHIPS AND FRESH TOMATO SALSA   \n",
       "1            1         1                                   IZZE   \n",
       "2            1         1                       NANTUCKET NECTAR   \n",
       "3            1         1  CHIPS AND TOMATILLO-GREEN CHILI SALSA   \n",
       "4            2         2                           CHICKEN BOWL   \n",
       "...        ...       ...                                    ...   \n",
       "4617      1833         1                          STEAK BURRITO   \n",
       "4618      1833         1                          STEAK BURRITO   \n",
       "4619      1834         1                     CHICKEN SALAD BOWL   \n",
       "4620      1834         1                     CHICKEN SALAD BOWL   \n",
       "4621      1834         1                     CHICKEN SALAD BOWL   \n",
       "\n",
       "                                     choice_description item_price  \n",
       "0                                                   NaN     $2.39   \n",
       "1                                           Clementine]     $3.39   \n",
       "2                                                Apple]     $3.39   \n",
       "3                                                   NaN     $2.39   \n",
       "4     Tomatillo-Red Chili Salsa (Hot), Black Beans, ...    $16.98   \n",
       "...                                                 ...        ...  \n",
       "4617  Fresh Tomato Salsa, Rice, Black Beans, Sour Cr...    $11.75   \n",
       "4618  Fresh Tomato Salsa, Rice, Sour Cream, Cheese, ...    $11.75   \n",
       "4619  Fresh Tomato Salsa, Fajita Vegetables, Pinto B...    $11.25   \n",
       "4620   Fresh Tomato Salsa, Fajita Vegetables, Lettuce]]     $8.75   \n",
       "4621  Fresh Tomato Salsa, Fajita Vegetables, Pinto B...     $8.75   \n",
       "\n",
       "[4622 rows x 5 columns]"
      ]
     },
     "execution_count": 20,
     "metadata": {},
     "output_type": "execute_result"
    }
   ],
   "source": [
    "orders"
   ]
  },
  {
   "cell_type": "code",
   "execution_count": 21,
   "metadata": {},
   "outputs": [],
   "source": [
    "orders.choice_description = orders.choice_description.str.replace(\"[\",\"\").str.replace(\"]\",\"\")"
   ]
  },
  {
   "cell_type": "code",
   "execution_count": 22,
   "metadata": {},
   "outputs": [
    {
     "data": {
      "text/html": [
       "<div>\n",
       "<style scoped>\n",
       "    .dataframe tbody tr th:only-of-type {\n",
       "        vertical-align: middle;\n",
       "    }\n",
       "\n",
       "    .dataframe tbody tr th {\n",
       "        vertical-align: top;\n",
       "    }\n",
       "\n",
       "    .dataframe thead th {\n",
       "        text-align: right;\n",
       "    }\n",
       "</style>\n",
       "<table border=\"1\" class=\"dataframe\">\n",
       "  <thead>\n",
       "    <tr style=\"text-align: right;\">\n",
       "      <th></th>\n",
       "      <th>order_id</th>\n",
       "      <th>quantity</th>\n",
       "      <th>item_name</th>\n",
       "      <th>choice_description</th>\n",
       "      <th>item_price</th>\n",
       "    </tr>\n",
       "  </thead>\n",
       "  <tbody>\n",
       "    <tr>\n",
       "      <th>0</th>\n",
       "      <td>1</td>\n",
       "      <td>1</td>\n",
       "      <td>CHIPS AND FRESH TOMATO SALSA</td>\n",
       "      <td>NaN</td>\n",
       "      <td>$2.39</td>\n",
       "    </tr>\n",
       "    <tr>\n",
       "      <th>1</th>\n",
       "      <td>1</td>\n",
       "      <td>1</td>\n",
       "      <td>IZZE</td>\n",
       "      <td>Clementine</td>\n",
       "      <td>$3.39</td>\n",
       "    </tr>\n",
       "    <tr>\n",
       "      <th>2</th>\n",
       "      <td>1</td>\n",
       "      <td>1</td>\n",
       "      <td>NANTUCKET NECTAR</td>\n",
       "      <td>Apple</td>\n",
       "      <td>$3.39</td>\n",
       "    </tr>\n",
       "    <tr>\n",
       "      <th>3</th>\n",
       "      <td>1</td>\n",
       "      <td>1</td>\n",
       "      <td>CHIPS AND TOMATILLO-GREEN CHILI SALSA</td>\n",
       "      <td>NaN</td>\n",
       "      <td>$2.39</td>\n",
       "    </tr>\n",
       "    <tr>\n",
       "      <th>4</th>\n",
       "      <td>2</td>\n",
       "      <td>2</td>\n",
       "      <td>CHICKEN BOWL</td>\n",
       "      <td>Tomatillo-Red Chili Salsa (Hot), Black Beans, ...</td>\n",
       "      <td>$16.98</td>\n",
       "    </tr>\n",
       "    <tr>\n",
       "      <th>...</th>\n",
       "      <td>...</td>\n",
       "      <td>...</td>\n",
       "      <td>...</td>\n",
       "      <td>...</td>\n",
       "      <td>...</td>\n",
       "    </tr>\n",
       "    <tr>\n",
       "      <th>4617</th>\n",
       "      <td>1833</td>\n",
       "      <td>1</td>\n",
       "      <td>STEAK BURRITO</td>\n",
       "      <td>Fresh Tomato Salsa, Rice, Black Beans, Sour Cr...</td>\n",
       "      <td>$11.75</td>\n",
       "    </tr>\n",
       "    <tr>\n",
       "      <th>4618</th>\n",
       "      <td>1833</td>\n",
       "      <td>1</td>\n",
       "      <td>STEAK BURRITO</td>\n",
       "      <td>Fresh Tomato Salsa, Rice, Sour Cream, Cheese, ...</td>\n",
       "      <td>$11.75</td>\n",
       "    </tr>\n",
       "    <tr>\n",
       "      <th>4619</th>\n",
       "      <td>1834</td>\n",
       "      <td>1</td>\n",
       "      <td>CHICKEN SALAD BOWL</td>\n",
       "      <td>Fresh Tomato Salsa, Fajita Vegetables, Pinto B...</td>\n",
       "      <td>$11.25</td>\n",
       "    </tr>\n",
       "    <tr>\n",
       "      <th>4620</th>\n",
       "      <td>1834</td>\n",
       "      <td>1</td>\n",
       "      <td>CHICKEN SALAD BOWL</td>\n",
       "      <td>Fresh Tomato Salsa, Fajita Vegetables, Lettuce</td>\n",
       "      <td>$8.75</td>\n",
       "    </tr>\n",
       "    <tr>\n",
       "      <th>4621</th>\n",
       "      <td>1834</td>\n",
       "      <td>1</td>\n",
       "      <td>CHICKEN SALAD BOWL</td>\n",
       "      <td>Fresh Tomato Salsa, Fajita Vegetables, Pinto B...</td>\n",
       "      <td>$8.75</td>\n",
       "    </tr>\n",
       "  </tbody>\n",
       "</table>\n",
       "<p>4622 rows × 5 columns</p>\n",
       "</div>"
      ],
      "text/plain": [
       "      order_id  quantity                              item_name  \\\n",
       "0            1         1           CHIPS AND FRESH TOMATO SALSA   \n",
       "1            1         1                                   IZZE   \n",
       "2            1         1                       NANTUCKET NECTAR   \n",
       "3            1         1  CHIPS AND TOMATILLO-GREEN CHILI SALSA   \n",
       "4            2         2                           CHICKEN BOWL   \n",
       "...        ...       ...                                    ...   \n",
       "4617      1833         1                          STEAK BURRITO   \n",
       "4618      1833         1                          STEAK BURRITO   \n",
       "4619      1834         1                     CHICKEN SALAD BOWL   \n",
       "4620      1834         1                     CHICKEN SALAD BOWL   \n",
       "4621      1834         1                     CHICKEN SALAD BOWL   \n",
       "\n",
       "                                     choice_description item_price  \n",
       "0                                                   NaN     $2.39   \n",
       "1                                            Clementine     $3.39   \n",
       "2                                                 Apple     $3.39   \n",
       "3                                                   NaN     $2.39   \n",
       "4     Tomatillo-Red Chili Salsa (Hot), Black Beans, ...    $16.98   \n",
       "...                                                 ...        ...  \n",
       "4617  Fresh Tomato Salsa, Rice, Black Beans, Sour Cr...    $11.75   \n",
       "4618  Fresh Tomato Salsa, Rice, Sour Cream, Cheese, ...    $11.75   \n",
       "4619  Fresh Tomato Salsa, Fajita Vegetables, Pinto B...    $11.25   \n",
       "4620     Fresh Tomato Salsa, Fajita Vegetables, Lettuce     $8.75   \n",
       "4621  Fresh Tomato Salsa, Fajita Vegetables, Pinto B...     $8.75   \n",
       "\n",
       "[4622 rows x 5 columns]"
      ]
     },
     "execution_count": 22,
     "metadata": {},
     "output_type": "execute_result"
    }
   ],
   "source": [
    "orders"
   ]
  },
  {
   "cell_type": "markdown",
   "metadata": {},
   "source": [
    "## 2 - Missing Data"
   ]
  },
  {
   "cell_type": "code",
   "execution_count": 23,
   "metadata": {},
   "outputs": [],
   "source": [
    "url = \"http://bit.ly/uforeports\""
   ]
  },
  {
   "cell_type": "code",
   "execution_count": 24,
   "metadata": {},
   "outputs": [],
   "source": [
    "ufo = pd.read_csv(url)"
   ]
  },
  {
   "cell_type": "code",
   "execution_count": 25,
   "metadata": {},
   "outputs": [
    {
     "data": {
      "text/html": [
       "<div>\n",
       "<style scoped>\n",
       "    .dataframe tbody tr th:only-of-type {\n",
       "        vertical-align: middle;\n",
       "    }\n",
       "\n",
       "    .dataframe tbody tr th {\n",
       "        vertical-align: top;\n",
       "    }\n",
       "\n",
       "    .dataframe thead th {\n",
       "        text-align: right;\n",
       "    }\n",
       "</style>\n",
       "<table border=\"1\" class=\"dataframe\">\n",
       "  <thead>\n",
       "    <tr style=\"text-align: right;\">\n",
       "      <th></th>\n",
       "      <th>City</th>\n",
       "      <th>Colors Reported</th>\n",
       "      <th>Shape Reported</th>\n",
       "      <th>State</th>\n",
       "      <th>Time</th>\n",
       "    </tr>\n",
       "  </thead>\n",
       "  <tbody>\n",
       "    <tr>\n",
       "      <th>0</th>\n",
       "      <td>Ithaca</td>\n",
       "      <td>NaN</td>\n",
       "      <td>TRIANGLE</td>\n",
       "      <td>NY</td>\n",
       "      <td>6/1/1930 22:00</td>\n",
       "    </tr>\n",
       "    <tr>\n",
       "      <th>1</th>\n",
       "      <td>Willingboro</td>\n",
       "      <td>NaN</td>\n",
       "      <td>OTHER</td>\n",
       "      <td>NJ</td>\n",
       "      <td>6/30/1930 20:00</td>\n",
       "    </tr>\n",
       "    <tr>\n",
       "      <th>2</th>\n",
       "      <td>Holyoke</td>\n",
       "      <td>NaN</td>\n",
       "      <td>OVAL</td>\n",
       "      <td>CO</td>\n",
       "      <td>2/15/1931 14:00</td>\n",
       "    </tr>\n",
       "    <tr>\n",
       "      <th>3</th>\n",
       "      <td>Abilene</td>\n",
       "      <td>NaN</td>\n",
       "      <td>DISK</td>\n",
       "      <td>KS</td>\n",
       "      <td>6/1/1931 13:00</td>\n",
       "    </tr>\n",
       "    <tr>\n",
       "      <th>4</th>\n",
       "      <td>New York Worlds Fair</td>\n",
       "      <td>NaN</td>\n",
       "      <td>LIGHT</td>\n",
       "      <td>NY</td>\n",
       "      <td>4/18/1933 19:00</td>\n",
       "    </tr>\n",
       "    <tr>\n",
       "      <th>...</th>\n",
       "      <td>...</td>\n",
       "      <td>...</td>\n",
       "      <td>...</td>\n",
       "      <td>...</td>\n",
       "      <td>...</td>\n",
       "    </tr>\n",
       "    <tr>\n",
       "      <th>18236</th>\n",
       "      <td>Grant Park</td>\n",
       "      <td>NaN</td>\n",
       "      <td>TRIANGLE</td>\n",
       "      <td>IL</td>\n",
       "      <td>12/31/2000 23:00</td>\n",
       "    </tr>\n",
       "    <tr>\n",
       "      <th>18237</th>\n",
       "      <td>Spirit Lake</td>\n",
       "      <td>NaN</td>\n",
       "      <td>DISK</td>\n",
       "      <td>IA</td>\n",
       "      <td>12/31/2000 23:00</td>\n",
       "    </tr>\n",
       "    <tr>\n",
       "      <th>18238</th>\n",
       "      <td>Eagle River</td>\n",
       "      <td>NaN</td>\n",
       "      <td>NaN</td>\n",
       "      <td>WI</td>\n",
       "      <td>12/31/2000 23:45</td>\n",
       "    </tr>\n",
       "    <tr>\n",
       "      <th>18239</th>\n",
       "      <td>Eagle River</td>\n",
       "      <td>RED</td>\n",
       "      <td>LIGHT</td>\n",
       "      <td>WI</td>\n",
       "      <td>12/31/2000 23:45</td>\n",
       "    </tr>\n",
       "    <tr>\n",
       "      <th>18240</th>\n",
       "      <td>Ybor</td>\n",
       "      <td>NaN</td>\n",
       "      <td>OVAL</td>\n",
       "      <td>FL</td>\n",
       "      <td>12/31/2000 23:59</td>\n",
       "    </tr>\n",
       "  </tbody>\n",
       "</table>\n",
       "<p>18241 rows × 5 columns</p>\n",
       "</div>"
      ],
      "text/plain": [
       "                       City Colors Reported Shape Reported State  \\\n",
       "0                    Ithaca             NaN       TRIANGLE    NY   \n",
       "1               Willingboro             NaN          OTHER    NJ   \n",
       "2                   Holyoke             NaN           OVAL    CO   \n",
       "3                   Abilene             NaN           DISK    KS   \n",
       "4      New York Worlds Fair             NaN          LIGHT    NY   \n",
       "...                     ...             ...            ...   ...   \n",
       "18236            Grant Park             NaN       TRIANGLE    IL   \n",
       "18237           Spirit Lake             NaN           DISK    IA   \n",
       "18238           Eagle River             NaN            NaN    WI   \n",
       "18239           Eagle River             RED          LIGHT    WI   \n",
       "18240                  Ybor             NaN           OVAL    FL   \n",
       "\n",
       "                   Time  \n",
       "0        6/1/1930 22:00  \n",
       "1       6/30/1930 20:00  \n",
       "2       2/15/1931 14:00  \n",
       "3        6/1/1931 13:00  \n",
       "4       4/18/1933 19:00  \n",
       "...                 ...  \n",
       "18236  12/31/2000 23:00  \n",
       "18237  12/31/2000 23:00  \n",
       "18238  12/31/2000 23:45  \n",
       "18239  12/31/2000 23:45  \n",
       "18240  12/31/2000 23:59  \n",
       "\n",
       "[18241 rows x 5 columns]"
      ]
     },
     "execution_count": 25,
     "metadata": {},
     "output_type": "execute_result"
    }
   ],
   "source": [
    "ufo"
   ]
  },
  {
   "cell_type": "code",
   "execution_count": 26,
   "metadata": {},
   "outputs": [
    {
     "data": {
      "text/plain": [
       "Index(['City', 'Colors Reported', 'Shape Reported', 'State', 'Time'], dtype='object')"
      ]
     },
     "execution_count": 26,
     "metadata": {},
     "output_type": "execute_result"
    }
   ],
   "source": [
    "ufo.columns"
   ]
  },
  {
   "cell_type": "code",
   "execution_count": 27,
   "metadata": {},
   "outputs": [
    {
     "data": {
      "text/html": [
       "<div>\n",
       "<style scoped>\n",
       "    .dataframe tbody tr th:only-of-type {\n",
       "        vertical-align: middle;\n",
       "    }\n",
       "\n",
       "    .dataframe tbody tr th {\n",
       "        vertical-align: top;\n",
       "    }\n",
       "\n",
       "    .dataframe thead th {\n",
       "        text-align: right;\n",
       "    }\n",
       "</style>\n",
       "<table border=\"1\" class=\"dataframe\">\n",
       "  <thead>\n",
       "    <tr style=\"text-align: right;\">\n",
       "      <th></th>\n",
       "      <th>City</th>\n",
       "      <th>Colors Reported</th>\n",
       "      <th>Shape Reported</th>\n",
       "      <th>State</th>\n",
       "      <th>Time</th>\n",
       "    </tr>\n",
       "  </thead>\n",
       "  <tbody>\n",
       "    <tr>\n",
       "      <th>0</th>\n",
       "      <td>Ithaca</td>\n",
       "      <td>NaN</td>\n",
       "      <td>TRIANGLE</td>\n",
       "      <td>NY</td>\n",
       "      <td>6/1/1930 22:00</td>\n",
       "    </tr>\n",
       "    <tr>\n",
       "      <th>1</th>\n",
       "      <td>Willingboro</td>\n",
       "      <td>NaN</td>\n",
       "      <td>OTHER</td>\n",
       "      <td>NJ</td>\n",
       "      <td>6/30/1930 20:00</td>\n",
       "    </tr>\n",
       "    <tr>\n",
       "      <th>2</th>\n",
       "      <td>Holyoke</td>\n",
       "      <td>NaN</td>\n",
       "      <td>OVAL</td>\n",
       "      <td>CO</td>\n",
       "      <td>2/15/1931 14:00</td>\n",
       "    </tr>\n",
       "    <tr>\n",
       "      <th>3</th>\n",
       "      <td>Abilene</td>\n",
       "      <td>NaN</td>\n",
       "      <td>DISK</td>\n",
       "      <td>KS</td>\n",
       "      <td>6/1/1931 13:00</td>\n",
       "    </tr>\n",
       "    <tr>\n",
       "      <th>4</th>\n",
       "      <td>New York Worlds Fair</td>\n",
       "      <td>NaN</td>\n",
       "      <td>LIGHT</td>\n",
       "      <td>NY</td>\n",
       "      <td>4/18/1933 19:00</td>\n",
       "    </tr>\n",
       "  </tbody>\n",
       "</table>\n",
       "</div>"
      ],
      "text/plain": [
       "                   City Colors Reported Shape Reported State             Time\n",
       "0                Ithaca             NaN       TRIANGLE    NY   6/1/1930 22:00\n",
       "1           Willingboro             NaN          OTHER    NJ  6/30/1930 20:00\n",
       "2               Holyoke             NaN           OVAL    CO  2/15/1931 14:00\n",
       "3               Abilene             NaN           DISK    KS   6/1/1931 13:00\n",
       "4  New York Worlds Fair             NaN          LIGHT    NY  4/18/1933 19:00"
      ]
     },
     "execution_count": 27,
     "metadata": {},
     "output_type": "execute_result"
    }
   ],
   "source": [
    "ufo[[\"City\",\"Colors Reported\",\"Shape Reported\",\"State\",\"Time\"]].head()"
   ]
  },
  {
   "cell_type": "code",
   "execution_count": 28,
   "metadata": {},
   "outputs": [
    {
     "data": {
      "text/html": [
       "<div>\n",
       "<style scoped>\n",
       "    .dataframe tbody tr th:only-of-type {\n",
       "        vertical-align: middle;\n",
       "    }\n",
       "\n",
       "    .dataframe tbody tr th {\n",
       "        vertical-align: top;\n",
       "    }\n",
       "\n",
       "    .dataframe thead th {\n",
       "        text-align: right;\n",
       "    }\n",
       "</style>\n",
       "<table border=\"1\" class=\"dataframe\">\n",
       "  <thead>\n",
       "    <tr style=\"text-align: right;\">\n",
       "      <th></th>\n",
       "      <th>City</th>\n",
       "      <th>Colors Reported</th>\n",
       "      <th>Shape Reported</th>\n",
       "      <th>State</th>\n",
       "      <th>Time</th>\n",
       "    </tr>\n",
       "  </thead>\n",
       "  <tbody>\n",
       "    <tr>\n",
       "      <th>0</th>\n",
       "      <td>False</td>\n",
       "      <td>True</td>\n",
       "      <td>False</td>\n",
       "      <td>False</td>\n",
       "      <td>False</td>\n",
       "    </tr>\n",
       "    <tr>\n",
       "      <th>1</th>\n",
       "      <td>False</td>\n",
       "      <td>True</td>\n",
       "      <td>False</td>\n",
       "      <td>False</td>\n",
       "      <td>False</td>\n",
       "    </tr>\n",
       "    <tr>\n",
       "      <th>2</th>\n",
       "      <td>False</td>\n",
       "      <td>True</td>\n",
       "      <td>False</td>\n",
       "      <td>False</td>\n",
       "      <td>False</td>\n",
       "    </tr>\n",
       "    <tr>\n",
       "      <th>3</th>\n",
       "      <td>False</td>\n",
       "      <td>True</td>\n",
       "      <td>False</td>\n",
       "      <td>False</td>\n",
       "      <td>False</td>\n",
       "    </tr>\n",
       "    <tr>\n",
       "      <th>4</th>\n",
       "      <td>False</td>\n",
       "      <td>True</td>\n",
       "      <td>False</td>\n",
       "      <td>False</td>\n",
       "      <td>False</td>\n",
       "    </tr>\n",
       "    <tr>\n",
       "      <th>...</th>\n",
       "      <td>...</td>\n",
       "      <td>...</td>\n",
       "      <td>...</td>\n",
       "      <td>...</td>\n",
       "      <td>...</td>\n",
       "    </tr>\n",
       "    <tr>\n",
       "      <th>95</th>\n",
       "      <td>False</td>\n",
       "      <td>True</td>\n",
       "      <td>False</td>\n",
       "      <td>False</td>\n",
       "      <td>False</td>\n",
       "    </tr>\n",
       "    <tr>\n",
       "      <th>96</th>\n",
       "      <td>False</td>\n",
       "      <td>True</td>\n",
       "      <td>False</td>\n",
       "      <td>False</td>\n",
       "      <td>False</td>\n",
       "    </tr>\n",
       "    <tr>\n",
       "      <th>97</th>\n",
       "      <td>False</td>\n",
       "      <td>True</td>\n",
       "      <td>False</td>\n",
       "      <td>False</td>\n",
       "      <td>False</td>\n",
       "    </tr>\n",
       "    <tr>\n",
       "      <th>98</th>\n",
       "      <td>False</td>\n",
       "      <td>True</td>\n",
       "      <td>False</td>\n",
       "      <td>False</td>\n",
       "      <td>False</td>\n",
       "    </tr>\n",
       "    <tr>\n",
       "      <th>99</th>\n",
       "      <td>False</td>\n",
       "      <td>True</td>\n",
       "      <td>False</td>\n",
       "      <td>False</td>\n",
       "      <td>False</td>\n",
       "    </tr>\n",
       "  </tbody>\n",
       "</table>\n",
       "<p>100 rows × 5 columns</p>\n",
       "</div>"
      ],
      "text/plain": [
       "     City  Colors Reported  Shape Reported  State   Time\n",
       "0   False             True           False  False  False\n",
       "1   False             True           False  False  False\n",
       "2   False             True           False  False  False\n",
       "3   False             True           False  False  False\n",
       "4   False             True           False  False  False\n",
       "..    ...              ...             ...    ...    ...\n",
       "95  False             True           False  False  False\n",
       "96  False             True           False  False  False\n",
       "97  False             True           False  False  False\n",
       "98  False             True           False  False  False\n",
       "99  False             True           False  False  False\n",
       "\n",
       "[100 rows x 5 columns]"
      ]
     },
     "execution_count": 28,
     "metadata": {},
     "output_type": "execute_result"
    }
   ],
   "source": [
    "ufo.isnull().head(100)"
   ]
  },
  {
   "cell_type": "code",
   "execution_count": 29,
   "metadata": {},
   "outputs": [
    {
     "data": {
      "text/html": [
       "<div>\n",
       "<style scoped>\n",
       "    .dataframe tbody tr th:only-of-type {\n",
       "        vertical-align: middle;\n",
       "    }\n",
       "\n",
       "    .dataframe tbody tr th {\n",
       "        vertical-align: top;\n",
       "    }\n",
       "\n",
       "    .dataframe thead th {\n",
       "        text-align: right;\n",
       "    }\n",
       "</style>\n",
       "<table border=\"1\" class=\"dataframe\">\n",
       "  <thead>\n",
       "    <tr style=\"text-align: right;\">\n",
       "      <th></th>\n",
       "      <th>City</th>\n",
       "      <th>Colors Reported</th>\n",
       "      <th>Shape Reported</th>\n",
       "      <th>State</th>\n",
       "      <th>Time</th>\n",
       "    </tr>\n",
       "  </thead>\n",
       "  <tbody>\n",
       "    <tr>\n",
       "      <th>0</th>\n",
       "      <td>True</td>\n",
       "      <td>False</td>\n",
       "      <td>True</td>\n",
       "      <td>True</td>\n",
       "      <td>True</td>\n",
       "    </tr>\n",
       "    <tr>\n",
       "      <th>1</th>\n",
       "      <td>True</td>\n",
       "      <td>False</td>\n",
       "      <td>True</td>\n",
       "      <td>True</td>\n",
       "      <td>True</td>\n",
       "    </tr>\n",
       "    <tr>\n",
       "      <th>2</th>\n",
       "      <td>True</td>\n",
       "      <td>False</td>\n",
       "      <td>True</td>\n",
       "      <td>True</td>\n",
       "      <td>True</td>\n",
       "    </tr>\n",
       "    <tr>\n",
       "      <th>3</th>\n",
       "      <td>True</td>\n",
       "      <td>False</td>\n",
       "      <td>True</td>\n",
       "      <td>True</td>\n",
       "      <td>True</td>\n",
       "    </tr>\n",
       "    <tr>\n",
       "      <th>4</th>\n",
       "      <td>True</td>\n",
       "      <td>False</td>\n",
       "      <td>True</td>\n",
       "      <td>True</td>\n",
       "      <td>True</td>\n",
       "    </tr>\n",
       "    <tr>\n",
       "      <th>...</th>\n",
       "      <td>...</td>\n",
       "      <td>...</td>\n",
       "      <td>...</td>\n",
       "      <td>...</td>\n",
       "      <td>...</td>\n",
       "    </tr>\n",
       "    <tr>\n",
       "      <th>95</th>\n",
       "      <td>True</td>\n",
       "      <td>False</td>\n",
       "      <td>True</td>\n",
       "      <td>True</td>\n",
       "      <td>True</td>\n",
       "    </tr>\n",
       "    <tr>\n",
       "      <th>96</th>\n",
       "      <td>True</td>\n",
       "      <td>False</td>\n",
       "      <td>True</td>\n",
       "      <td>True</td>\n",
       "      <td>True</td>\n",
       "    </tr>\n",
       "    <tr>\n",
       "      <th>97</th>\n",
       "      <td>True</td>\n",
       "      <td>False</td>\n",
       "      <td>True</td>\n",
       "      <td>True</td>\n",
       "      <td>True</td>\n",
       "    </tr>\n",
       "    <tr>\n",
       "      <th>98</th>\n",
       "      <td>True</td>\n",
       "      <td>False</td>\n",
       "      <td>True</td>\n",
       "      <td>True</td>\n",
       "      <td>True</td>\n",
       "    </tr>\n",
       "    <tr>\n",
       "      <th>99</th>\n",
       "      <td>True</td>\n",
       "      <td>False</td>\n",
       "      <td>True</td>\n",
       "      <td>True</td>\n",
       "      <td>True</td>\n",
       "    </tr>\n",
       "  </tbody>\n",
       "</table>\n",
       "<p>100 rows × 5 columns</p>\n",
       "</div>"
      ],
      "text/plain": [
       "    City  Colors Reported  Shape Reported  State  Time\n",
       "0   True            False            True   True  True\n",
       "1   True            False            True   True  True\n",
       "2   True            False            True   True  True\n",
       "3   True            False            True   True  True\n",
       "4   True            False            True   True  True\n",
       "..   ...              ...             ...    ...   ...\n",
       "95  True            False            True   True  True\n",
       "96  True            False            True   True  True\n",
       "97  True            False            True   True  True\n",
       "98  True            False            True   True  True\n",
       "99  True            False            True   True  True\n",
       "\n",
       "[100 rows x 5 columns]"
      ]
     },
     "execution_count": 29,
     "metadata": {},
     "output_type": "execute_result"
    }
   ],
   "source": [
    "ufo.notnull().head(100)"
   ]
  },
  {
   "cell_type": "code",
   "execution_count": 30,
   "metadata": {},
   "outputs": [
    {
     "data": {
      "text/plain": [
       "Series([], dtype: float64)"
      ]
     },
     "execution_count": 30,
     "metadata": {},
     "output_type": "execute_result"
    }
   ],
   "source": [
    "ufo.sum()"
   ]
  },
  {
   "cell_type": "code",
   "execution_count": 31,
   "metadata": {},
   "outputs": [
    {
     "data": {
      "text/plain": [
       "City                  25\n",
       "Colors Reported    15359\n",
       "Shape Reported      2644\n",
       "State                  0\n",
       "Time                   0\n",
       "dtype: int64"
      ]
     },
     "execution_count": 31,
     "metadata": {},
     "output_type": "execute_result"
    }
   ],
   "source": [
    "ufo.isnull().sum()"
   ]
  },
  {
   "cell_type": "code",
   "execution_count": 32,
   "metadata": {},
   "outputs": [
    {
     "data": {
      "text/html": [
       "<div>\n",
       "<style scoped>\n",
       "    .dataframe tbody tr th:only-of-type {\n",
       "        vertical-align: middle;\n",
       "    }\n",
       "\n",
       "    .dataframe tbody tr th {\n",
       "        vertical-align: top;\n",
       "    }\n",
       "\n",
       "    .dataframe thead th {\n",
       "        text-align: right;\n",
       "    }\n",
       "</style>\n",
       "<table border=\"1\" class=\"dataframe\">\n",
       "  <thead>\n",
       "    <tr style=\"text-align: right;\">\n",
       "      <th></th>\n",
       "      <th>City</th>\n",
       "      <th>Colors Reported</th>\n",
       "      <th>Shape Reported</th>\n",
       "      <th>State</th>\n",
       "      <th>Time</th>\n",
       "    </tr>\n",
       "  </thead>\n",
       "  <tbody>\n",
       "    <tr>\n",
       "      <th>21</th>\n",
       "      <td>NaN</td>\n",
       "      <td>NaN</td>\n",
       "      <td>NaN</td>\n",
       "      <td>LA</td>\n",
       "      <td>8/15/1943 0:00</td>\n",
       "    </tr>\n",
       "    <tr>\n",
       "      <th>22</th>\n",
       "      <td>NaN</td>\n",
       "      <td>NaN</td>\n",
       "      <td>LIGHT</td>\n",
       "      <td>LA</td>\n",
       "      <td>8/15/1943 0:00</td>\n",
       "    </tr>\n",
       "    <tr>\n",
       "      <th>204</th>\n",
       "      <td>NaN</td>\n",
       "      <td>NaN</td>\n",
       "      <td>DISK</td>\n",
       "      <td>CA</td>\n",
       "      <td>7/15/1952 12:30</td>\n",
       "    </tr>\n",
       "    <tr>\n",
       "      <th>241</th>\n",
       "      <td>NaN</td>\n",
       "      <td>BLUE</td>\n",
       "      <td>DISK</td>\n",
       "      <td>MT</td>\n",
       "      <td>7/4/1953 14:00</td>\n",
       "    </tr>\n",
       "    <tr>\n",
       "      <th>613</th>\n",
       "      <td>NaN</td>\n",
       "      <td>NaN</td>\n",
       "      <td>DISK</td>\n",
       "      <td>NV</td>\n",
       "      <td>7/1/1960 12:00</td>\n",
       "    </tr>\n",
       "    <tr>\n",
       "      <th>1877</th>\n",
       "      <td>NaN</td>\n",
       "      <td>YELLOW</td>\n",
       "      <td>CIRCLE</td>\n",
       "      <td>AZ</td>\n",
       "      <td>8/15/1969 1:00</td>\n",
       "    </tr>\n",
       "    <tr>\n",
       "      <th>2013</th>\n",
       "      <td>NaN</td>\n",
       "      <td>NaN</td>\n",
       "      <td>NaN</td>\n",
       "      <td>NH</td>\n",
       "      <td>8/1/1970 9:30</td>\n",
       "    </tr>\n",
       "    <tr>\n",
       "      <th>2546</th>\n",
       "      <td>NaN</td>\n",
       "      <td>NaN</td>\n",
       "      <td>FIREBALL</td>\n",
       "      <td>OH</td>\n",
       "      <td>10/25/1973 23:30</td>\n",
       "    </tr>\n",
       "    <tr>\n",
       "      <th>3123</th>\n",
       "      <td>NaN</td>\n",
       "      <td>RED</td>\n",
       "      <td>TRIANGLE</td>\n",
       "      <td>WV</td>\n",
       "      <td>11/25/1975 23:00</td>\n",
       "    </tr>\n",
       "    <tr>\n",
       "      <th>4736</th>\n",
       "      <td>NaN</td>\n",
       "      <td>NaN</td>\n",
       "      <td>SPHERE</td>\n",
       "      <td>CA</td>\n",
       "      <td>6/23/1982 23:00</td>\n",
       "    </tr>\n",
       "    <tr>\n",
       "      <th>5269</th>\n",
       "      <td>NaN</td>\n",
       "      <td>NaN</td>\n",
       "      <td>NaN</td>\n",
       "      <td>AZ</td>\n",
       "      <td>6/30/1985 21:30</td>\n",
       "    </tr>\n",
       "    <tr>\n",
       "      <th>6735</th>\n",
       "      <td>NaN</td>\n",
       "      <td>NaN</td>\n",
       "      <td>FORMATION</td>\n",
       "      <td>TX</td>\n",
       "      <td>4/1/1992 2:00</td>\n",
       "    </tr>\n",
       "    <tr>\n",
       "      <th>7208</th>\n",
       "      <td>NaN</td>\n",
       "      <td>NaN</td>\n",
       "      <td>CIRCLE</td>\n",
       "      <td>MI</td>\n",
       "      <td>10/4/1993 17:30</td>\n",
       "    </tr>\n",
       "    <tr>\n",
       "      <th>8828</th>\n",
       "      <td>NaN</td>\n",
       "      <td>NaN</td>\n",
       "      <td>TRIANGLE</td>\n",
       "      <td>WA</td>\n",
       "      <td>10/30/1995 21:30</td>\n",
       "    </tr>\n",
       "    <tr>\n",
       "      <th>8967</th>\n",
       "      <td>NaN</td>\n",
       "      <td>NaN</td>\n",
       "      <td>VARIOUS</td>\n",
       "      <td>CA</td>\n",
       "      <td>12/8/1995 18:00</td>\n",
       "    </tr>\n",
       "    <tr>\n",
       "      <th>9273</th>\n",
       "      <td>NaN</td>\n",
       "      <td>NaN</td>\n",
       "      <td>TRIANGLE</td>\n",
       "      <td>OH</td>\n",
       "      <td>5/1/1996 3:00</td>\n",
       "    </tr>\n",
       "    <tr>\n",
       "      <th>9388</th>\n",
       "      <td>NaN</td>\n",
       "      <td>NaN</td>\n",
       "      <td>OVAL</td>\n",
       "      <td>CA</td>\n",
       "      <td>6/12/1996 12:00</td>\n",
       "    </tr>\n",
       "    <tr>\n",
       "      <th>9587</th>\n",
       "      <td>NaN</td>\n",
       "      <td>NaN</td>\n",
       "      <td>EGG</td>\n",
       "      <td>FL</td>\n",
       "      <td>8/24/1996 15:00</td>\n",
       "    </tr>\n",
       "    <tr>\n",
       "      <th>10399</th>\n",
       "      <td>NaN</td>\n",
       "      <td>NaN</td>\n",
       "      <td>TRIANGLE</td>\n",
       "      <td>IL</td>\n",
       "      <td>6/15/1997 23:00</td>\n",
       "    </tr>\n",
       "    <tr>\n",
       "      <th>11625</th>\n",
       "      <td>NaN</td>\n",
       "      <td>NaN</td>\n",
       "      <td>CIRCLE</td>\n",
       "      <td>TX</td>\n",
       "      <td>6/7/1998 7:00</td>\n",
       "    </tr>\n",
       "    <tr>\n",
       "      <th>12441</th>\n",
       "      <td>NaN</td>\n",
       "      <td>RED</td>\n",
       "      <td>FIREBALL</td>\n",
       "      <td>WA</td>\n",
       "      <td>10/26/1998 17:58</td>\n",
       "    </tr>\n",
       "    <tr>\n",
       "      <th>15767</th>\n",
       "      <td>NaN</td>\n",
       "      <td>NaN</td>\n",
       "      <td>RECTANGLE</td>\n",
       "      <td>NV</td>\n",
       "      <td>1/21/2000 11:30</td>\n",
       "    </tr>\n",
       "    <tr>\n",
       "      <th>15812</th>\n",
       "      <td>NaN</td>\n",
       "      <td>NaN</td>\n",
       "      <td>LIGHT</td>\n",
       "      <td>NV</td>\n",
       "      <td>2/2/2000 3:00</td>\n",
       "    </tr>\n",
       "    <tr>\n",
       "      <th>16054</th>\n",
       "      <td>NaN</td>\n",
       "      <td>GREEN</td>\n",
       "      <td>NaN</td>\n",
       "      <td>FL</td>\n",
       "      <td>3/11/2000 3:30</td>\n",
       "    </tr>\n",
       "    <tr>\n",
       "      <th>16608</th>\n",
       "      <td>NaN</td>\n",
       "      <td>NaN</td>\n",
       "      <td>SPHERE</td>\n",
       "      <td>NY</td>\n",
       "      <td>6/15/2000 15:00</td>\n",
       "    </tr>\n",
       "  </tbody>\n",
       "</table>\n",
       "</div>"
      ],
      "text/plain": [
       "      City Colors Reported Shape Reported State              Time\n",
       "21     NaN             NaN            NaN    LA    8/15/1943 0:00\n",
       "22     NaN             NaN          LIGHT    LA    8/15/1943 0:00\n",
       "204    NaN             NaN           DISK    CA   7/15/1952 12:30\n",
       "241    NaN            BLUE           DISK    MT    7/4/1953 14:00\n",
       "613    NaN             NaN           DISK    NV    7/1/1960 12:00\n",
       "1877   NaN          YELLOW         CIRCLE    AZ    8/15/1969 1:00\n",
       "2013   NaN             NaN            NaN    NH     8/1/1970 9:30\n",
       "2546   NaN             NaN       FIREBALL    OH  10/25/1973 23:30\n",
       "3123   NaN             RED       TRIANGLE    WV  11/25/1975 23:00\n",
       "4736   NaN             NaN         SPHERE    CA   6/23/1982 23:00\n",
       "5269   NaN             NaN            NaN    AZ   6/30/1985 21:30\n",
       "6735   NaN             NaN      FORMATION    TX     4/1/1992 2:00\n",
       "7208   NaN             NaN         CIRCLE    MI   10/4/1993 17:30\n",
       "8828   NaN             NaN       TRIANGLE    WA  10/30/1995 21:30\n",
       "8967   NaN             NaN        VARIOUS    CA   12/8/1995 18:00\n",
       "9273   NaN             NaN       TRIANGLE    OH     5/1/1996 3:00\n",
       "9388   NaN             NaN           OVAL    CA   6/12/1996 12:00\n",
       "9587   NaN             NaN            EGG    FL   8/24/1996 15:00\n",
       "10399  NaN             NaN       TRIANGLE    IL   6/15/1997 23:00\n",
       "11625  NaN             NaN         CIRCLE    TX     6/7/1998 7:00\n",
       "12441  NaN             RED       FIREBALL    WA  10/26/1998 17:58\n",
       "15767  NaN             NaN      RECTANGLE    NV   1/21/2000 11:30\n",
       "15812  NaN             NaN          LIGHT    NV     2/2/2000 3:00\n",
       "16054  NaN           GREEN            NaN    FL    3/11/2000 3:30\n",
       "16608  NaN             NaN         SPHERE    NY   6/15/2000 15:00"
      ]
     },
     "execution_count": 32,
     "metadata": {},
     "output_type": "execute_result"
    }
   ],
   "source": [
    "ufo[ufo.City.isnull()]"
   ]
  },
  {
   "cell_type": "code",
   "execution_count": 33,
   "metadata": {},
   "outputs": [
    {
     "data": {
      "text/plain": [
       "(18241, 5)"
      ]
     },
     "execution_count": 33,
     "metadata": {},
     "output_type": "execute_result"
    }
   ],
   "source": [
    "ufo.shape"
   ]
  },
  {
   "cell_type": "code",
   "execution_count": 34,
   "metadata": {},
   "outputs": [],
   "source": [
    "ufo_1 = ufo.dropna(how = \"any\")"
   ]
  },
  {
   "cell_type": "code",
   "execution_count": 35,
   "metadata": {},
   "outputs": [
    {
     "data": {
      "text/html": [
       "<div>\n",
       "<style scoped>\n",
       "    .dataframe tbody tr th:only-of-type {\n",
       "        vertical-align: middle;\n",
       "    }\n",
       "\n",
       "    .dataframe tbody tr th {\n",
       "        vertical-align: top;\n",
       "    }\n",
       "\n",
       "    .dataframe thead th {\n",
       "        text-align: right;\n",
       "    }\n",
       "</style>\n",
       "<table border=\"1\" class=\"dataframe\">\n",
       "  <thead>\n",
       "    <tr style=\"text-align: right;\">\n",
       "      <th></th>\n",
       "      <th>City</th>\n",
       "      <th>Colors Reported</th>\n",
       "      <th>Shape Reported</th>\n",
       "      <th>State</th>\n",
       "      <th>Time</th>\n",
       "    </tr>\n",
       "  </thead>\n",
       "  <tbody>\n",
       "    <tr>\n",
       "      <th>12</th>\n",
       "      <td>Belton</td>\n",
       "      <td>RED</td>\n",
       "      <td>SPHERE</td>\n",
       "      <td>SC</td>\n",
       "      <td>6/30/1939 20:00</td>\n",
       "    </tr>\n",
       "    <tr>\n",
       "      <th>19</th>\n",
       "      <td>Bering Sea</td>\n",
       "      <td>RED</td>\n",
       "      <td>OTHER</td>\n",
       "      <td>AK</td>\n",
       "      <td>4/30/1943 23:00</td>\n",
       "    </tr>\n",
       "    <tr>\n",
       "      <th>36</th>\n",
       "      <td>Portsmouth</td>\n",
       "      <td>RED</td>\n",
       "      <td>FORMATION</td>\n",
       "      <td>VA</td>\n",
       "      <td>7/10/1945 1:30</td>\n",
       "    </tr>\n",
       "    <tr>\n",
       "      <th>44</th>\n",
       "      <td>Blairsden</td>\n",
       "      <td>GREEN</td>\n",
       "      <td>SPHERE</td>\n",
       "      <td>CA</td>\n",
       "      <td>6/30/1946 19:00</td>\n",
       "    </tr>\n",
       "    <tr>\n",
       "      <th>82</th>\n",
       "      <td>San Jose</td>\n",
       "      <td>BLUE</td>\n",
       "      <td>CHEVRON</td>\n",
       "      <td>CA</td>\n",
       "      <td>7/15/1947 21:00</td>\n",
       "    </tr>\n",
       "    <tr>\n",
       "      <th>...</th>\n",
       "      <td>...</td>\n",
       "      <td>...</td>\n",
       "      <td>...</td>\n",
       "      <td>...</td>\n",
       "      <td>...</td>\n",
       "    </tr>\n",
       "    <tr>\n",
       "      <th>18213</th>\n",
       "      <td>Pasadena</td>\n",
       "      <td>GREEN</td>\n",
       "      <td>FIREBALL</td>\n",
       "      <td>CA</td>\n",
       "      <td>12/28/2000 19:10</td>\n",
       "    </tr>\n",
       "    <tr>\n",
       "      <th>18216</th>\n",
       "      <td>Garden Grove</td>\n",
       "      <td>ORANGE</td>\n",
       "      <td>LIGHT</td>\n",
       "      <td>CA</td>\n",
       "      <td>12/29/2000 16:10</td>\n",
       "    </tr>\n",
       "    <tr>\n",
       "      <th>18220</th>\n",
       "      <td>Shasta Lake</td>\n",
       "      <td>BLUE</td>\n",
       "      <td>DISK</td>\n",
       "      <td>CA</td>\n",
       "      <td>12/29/2000 20:30</td>\n",
       "    </tr>\n",
       "    <tr>\n",
       "      <th>18233</th>\n",
       "      <td>Anchorage</td>\n",
       "      <td>RED</td>\n",
       "      <td>VARIOUS</td>\n",
       "      <td>AK</td>\n",
       "      <td>12/31/2000 21:00</td>\n",
       "    </tr>\n",
       "    <tr>\n",
       "      <th>18239</th>\n",
       "      <td>Eagle River</td>\n",
       "      <td>RED</td>\n",
       "      <td>LIGHT</td>\n",
       "      <td>WI</td>\n",
       "      <td>12/31/2000 23:45</td>\n",
       "    </tr>\n",
       "  </tbody>\n",
       "</table>\n",
       "<p>2486 rows × 5 columns</p>\n",
       "</div>"
      ],
      "text/plain": [
       "               City Colors Reported Shape Reported State              Time\n",
       "12           Belton             RED         SPHERE    SC   6/30/1939 20:00\n",
       "19       Bering Sea             RED          OTHER    AK   4/30/1943 23:00\n",
       "36       Portsmouth             RED      FORMATION    VA    7/10/1945 1:30\n",
       "44        Blairsden           GREEN         SPHERE    CA   6/30/1946 19:00\n",
       "82         San Jose            BLUE        CHEVRON    CA   7/15/1947 21:00\n",
       "...             ...             ...            ...   ...               ...\n",
       "18213      Pasadena           GREEN       FIREBALL    CA  12/28/2000 19:10\n",
       "18216  Garden Grove          ORANGE          LIGHT    CA  12/29/2000 16:10\n",
       "18220   Shasta Lake            BLUE           DISK    CA  12/29/2000 20:30\n",
       "18233     Anchorage             RED        VARIOUS    AK  12/31/2000 21:00\n",
       "18239   Eagle River             RED          LIGHT    WI  12/31/2000 23:45\n",
       "\n",
       "[2486 rows x 5 columns]"
      ]
     },
     "execution_count": 35,
     "metadata": {},
     "output_type": "execute_result"
    }
   ],
   "source": [
    "ufo_1"
   ]
  },
  {
   "cell_type": "code",
   "execution_count": 36,
   "metadata": {},
   "outputs": [],
   "source": [
    "ufo_2 = ufo.dropna(how = \"all\")"
   ]
  },
  {
   "cell_type": "code",
   "execution_count": 37,
   "metadata": {},
   "outputs": [
    {
     "data": {
      "text/html": [
       "<div>\n",
       "<style scoped>\n",
       "    .dataframe tbody tr th:only-of-type {\n",
       "        vertical-align: middle;\n",
       "    }\n",
       "\n",
       "    .dataframe tbody tr th {\n",
       "        vertical-align: top;\n",
       "    }\n",
       "\n",
       "    .dataframe thead th {\n",
       "        text-align: right;\n",
       "    }\n",
       "</style>\n",
       "<table border=\"1\" class=\"dataframe\">\n",
       "  <thead>\n",
       "    <tr style=\"text-align: right;\">\n",
       "      <th></th>\n",
       "      <th>City</th>\n",
       "      <th>Colors Reported</th>\n",
       "      <th>Shape Reported</th>\n",
       "      <th>State</th>\n",
       "      <th>Time</th>\n",
       "    </tr>\n",
       "  </thead>\n",
       "  <tbody>\n",
       "    <tr>\n",
       "      <th>0</th>\n",
       "      <td>Ithaca</td>\n",
       "      <td>NaN</td>\n",
       "      <td>TRIANGLE</td>\n",
       "      <td>NY</td>\n",
       "      <td>6/1/1930 22:00</td>\n",
       "    </tr>\n",
       "    <tr>\n",
       "      <th>1</th>\n",
       "      <td>Willingboro</td>\n",
       "      <td>NaN</td>\n",
       "      <td>OTHER</td>\n",
       "      <td>NJ</td>\n",
       "      <td>6/30/1930 20:00</td>\n",
       "    </tr>\n",
       "    <tr>\n",
       "      <th>2</th>\n",
       "      <td>Holyoke</td>\n",
       "      <td>NaN</td>\n",
       "      <td>OVAL</td>\n",
       "      <td>CO</td>\n",
       "      <td>2/15/1931 14:00</td>\n",
       "    </tr>\n",
       "    <tr>\n",
       "      <th>3</th>\n",
       "      <td>Abilene</td>\n",
       "      <td>NaN</td>\n",
       "      <td>DISK</td>\n",
       "      <td>KS</td>\n",
       "      <td>6/1/1931 13:00</td>\n",
       "    </tr>\n",
       "    <tr>\n",
       "      <th>4</th>\n",
       "      <td>New York Worlds Fair</td>\n",
       "      <td>NaN</td>\n",
       "      <td>LIGHT</td>\n",
       "      <td>NY</td>\n",
       "      <td>4/18/1933 19:00</td>\n",
       "    </tr>\n",
       "    <tr>\n",
       "      <th>...</th>\n",
       "      <td>...</td>\n",
       "      <td>...</td>\n",
       "      <td>...</td>\n",
       "      <td>...</td>\n",
       "      <td>...</td>\n",
       "    </tr>\n",
       "    <tr>\n",
       "      <th>18236</th>\n",
       "      <td>Grant Park</td>\n",
       "      <td>NaN</td>\n",
       "      <td>TRIANGLE</td>\n",
       "      <td>IL</td>\n",
       "      <td>12/31/2000 23:00</td>\n",
       "    </tr>\n",
       "    <tr>\n",
       "      <th>18237</th>\n",
       "      <td>Spirit Lake</td>\n",
       "      <td>NaN</td>\n",
       "      <td>DISK</td>\n",
       "      <td>IA</td>\n",
       "      <td>12/31/2000 23:00</td>\n",
       "    </tr>\n",
       "    <tr>\n",
       "      <th>18238</th>\n",
       "      <td>Eagle River</td>\n",
       "      <td>NaN</td>\n",
       "      <td>NaN</td>\n",
       "      <td>WI</td>\n",
       "      <td>12/31/2000 23:45</td>\n",
       "    </tr>\n",
       "    <tr>\n",
       "      <th>18239</th>\n",
       "      <td>Eagle River</td>\n",
       "      <td>RED</td>\n",
       "      <td>LIGHT</td>\n",
       "      <td>WI</td>\n",
       "      <td>12/31/2000 23:45</td>\n",
       "    </tr>\n",
       "    <tr>\n",
       "      <th>18240</th>\n",
       "      <td>Ybor</td>\n",
       "      <td>NaN</td>\n",
       "      <td>OVAL</td>\n",
       "      <td>FL</td>\n",
       "      <td>12/31/2000 23:59</td>\n",
       "    </tr>\n",
       "  </tbody>\n",
       "</table>\n",
       "<p>18241 rows × 5 columns</p>\n",
       "</div>"
      ],
      "text/plain": [
       "                       City Colors Reported Shape Reported State  \\\n",
       "0                    Ithaca             NaN       TRIANGLE    NY   \n",
       "1               Willingboro             NaN          OTHER    NJ   \n",
       "2                   Holyoke             NaN           OVAL    CO   \n",
       "3                   Abilene             NaN           DISK    KS   \n",
       "4      New York Worlds Fair             NaN          LIGHT    NY   \n",
       "...                     ...             ...            ...   ...   \n",
       "18236            Grant Park             NaN       TRIANGLE    IL   \n",
       "18237           Spirit Lake             NaN           DISK    IA   \n",
       "18238           Eagle River             NaN            NaN    WI   \n",
       "18239           Eagle River             RED          LIGHT    WI   \n",
       "18240                  Ybor             NaN           OVAL    FL   \n",
       "\n",
       "                   Time  \n",
       "0        6/1/1930 22:00  \n",
       "1       6/30/1930 20:00  \n",
       "2       2/15/1931 14:00  \n",
       "3        6/1/1931 13:00  \n",
       "4       4/18/1933 19:00  \n",
       "...                 ...  \n",
       "18236  12/31/2000 23:00  \n",
       "18237  12/31/2000 23:00  \n",
       "18238  12/31/2000 23:45  \n",
       "18239  12/31/2000 23:45  \n",
       "18240  12/31/2000 23:59  \n",
       "\n",
       "[18241 rows x 5 columns]"
      ]
     },
     "execution_count": 37,
     "metadata": {},
     "output_type": "execute_result"
    }
   ],
   "source": [
    "ufo_2"
   ]
  },
  {
   "cell_type": "code",
   "execution_count": 38,
   "metadata": {},
   "outputs": [],
   "source": [
    "ufo_3 = ufo.dropna(subset = [\"City\",\"Colors Reported\"], how = \"any\") "
   ]
  },
  {
   "cell_type": "code",
   "execution_count": 39,
   "metadata": {},
   "outputs": [
    {
     "data": {
      "text/html": [
       "<div>\n",
       "<style scoped>\n",
       "    .dataframe tbody tr th:only-of-type {\n",
       "        vertical-align: middle;\n",
       "    }\n",
       "\n",
       "    .dataframe tbody tr th {\n",
       "        vertical-align: top;\n",
       "    }\n",
       "\n",
       "    .dataframe thead th {\n",
       "        text-align: right;\n",
       "    }\n",
       "</style>\n",
       "<table border=\"1\" class=\"dataframe\">\n",
       "  <thead>\n",
       "    <tr style=\"text-align: right;\">\n",
       "      <th></th>\n",
       "      <th>City</th>\n",
       "      <th>Colors Reported</th>\n",
       "      <th>Shape Reported</th>\n",
       "      <th>State</th>\n",
       "      <th>Time</th>\n",
       "    </tr>\n",
       "  </thead>\n",
       "  <tbody>\n",
       "    <tr>\n",
       "      <th>12</th>\n",
       "      <td>Belton</td>\n",
       "      <td>RED</td>\n",
       "      <td>SPHERE</td>\n",
       "      <td>SC</td>\n",
       "      <td>6/30/1939 20:00</td>\n",
       "    </tr>\n",
       "    <tr>\n",
       "      <th>19</th>\n",
       "      <td>Bering Sea</td>\n",
       "      <td>RED</td>\n",
       "      <td>OTHER</td>\n",
       "      <td>AK</td>\n",
       "      <td>4/30/1943 23:00</td>\n",
       "    </tr>\n",
       "    <tr>\n",
       "      <th>36</th>\n",
       "      <td>Portsmouth</td>\n",
       "      <td>RED</td>\n",
       "      <td>FORMATION</td>\n",
       "      <td>VA</td>\n",
       "      <td>7/10/1945 1:30</td>\n",
       "    </tr>\n",
       "    <tr>\n",
       "      <th>44</th>\n",
       "      <td>Blairsden</td>\n",
       "      <td>GREEN</td>\n",
       "      <td>SPHERE</td>\n",
       "      <td>CA</td>\n",
       "      <td>6/30/1946 19:00</td>\n",
       "    </tr>\n",
       "    <tr>\n",
       "      <th>66</th>\n",
       "      <td>Wexford</td>\n",
       "      <td>BLUE</td>\n",
       "      <td>NaN</td>\n",
       "      <td>PA</td>\n",
       "      <td>7/1/1947 20:00</td>\n",
       "    </tr>\n",
       "    <tr>\n",
       "      <th>...</th>\n",
       "      <td>...</td>\n",
       "      <td>...</td>\n",
       "      <td>...</td>\n",
       "      <td>...</td>\n",
       "      <td>...</td>\n",
       "    </tr>\n",
       "    <tr>\n",
       "      <th>18213</th>\n",
       "      <td>Pasadena</td>\n",
       "      <td>GREEN</td>\n",
       "      <td>FIREBALL</td>\n",
       "      <td>CA</td>\n",
       "      <td>12/28/2000 19:10</td>\n",
       "    </tr>\n",
       "    <tr>\n",
       "      <th>18216</th>\n",
       "      <td>Garden Grove</td>\n",
       "      <td>ORANGE</td>\n",
       "      <td>LIGHT</td>\n",
       "      <td>CA</td>\n",
       "      <td>12/29/2000 16:10</td>\n",
       "    </tr>\n",
       "    <tr>\n",
       "      <th>18220</th>\n",
       "      <td>Shasta Lake</td>\n",
       "      <td>BLUE</td>\n",
       "      <td>DISK</td>\n",
       "      <td>CA</td>\n",
       "      <td>12/29/2000 20:30</td>\n",
       "    </tr>\n",
       "    <tr>\n",
       "      <th>18233</th>\n",
       "      <td>Anchorage</td>\n",
       "      <td>RED</td>\n",
       "      <td>VARIOUS</td>\n",
       "      <td>AK</td>\n",
       "      <td>12/31/2000 21:00</td>\n",
       "    </tr>\n",
       "    <tr>\n",
       "      <th>18239</th>\n",
       "      <td>Eagle River</td>\n",
       "      <td>RED</td>\n",
       "      <td>LIGHT</td>\n",
       "      <td>WI</td>\n",
       "      <td>12/31/2000 23:45</td>\n",
       "    </tr>\n",
       "  </tbody>\n",
       "</table>\n",
       "<p>2877 rows × 5 columns</p>\n",
       "</div>"
      ],
      "text/plain": [
       "               City Colors Reported Shape Reported State              Time\n",
       "12           Belton             RED         SPHERE    SC   6/30/1939 20:00\n",
       "19       Bering Sea             RED          OTHER    AK   4/30/1943 23:00\n",
       "36       Portsmouth             RED      FORMATION    VA    7/10/1945 1:30\n",
       "44        Blairsden           GREEN         SPHERE    CA   6/30/1946 19:00\n",
       "66          Wexford            BLUE            NaN    PA    7/1/1947 20:00\n",
       "...             ...             ...            ...   ...               ...\n",
       "18213      Pasadena           GREEN       FIREBALL    CA  12/28/2000 19:10\n",
       "18216  Garden Grove          ORANGE          LIGHT    CA  12/29/2000 16:10\n",
       "18220   Shasta Lake            BLUE           DISK    CA  12/29/2000 20:30\n",
       "18233     Anchorage             RED        VARIOUS    AK  12/31/2000 21:00\n",
       "18239   Eagle River             RED          LIGHT    WI  12/31/2000 23:45\n",
       "\n",
       "[2877 rows x 5 columns]"
      ]
     },
     "execution_count": 39,
     "metadata": {},
     "output_type": "execute_result"
    }
   ],
   "source": [
    "ufo_3"
   ]
  },
  {
   "cell_type": "code",
   "execution_count": 40,
   "metadata": {},
   "outputs": [],
   "source": [
    "ufo[\"Shape Reported\"].fillna(value=\"Unknown\",inplace=True)"
   ]
  },
  {
   "cell_type": "code",
   "execution_count": 41,
   "metadata": {},
   "outputs": [
    {
     "data": {
      "text/plain": [
       "LIGHT        2803\n",
       "Unknown      2644\n",
       "DISK         2122\n",
       "TRIANGLE     1889\n",
       "OTHER        1402\n",
       "CIRCLE       1365\n",
       "SPHERE       1054\n",
       "FIREBALL     1039\n",
       "OVAL          845\n",
       "CIGAR         617\n",
       "FORMATION     434\n",
       "VARIOUS       333\n",
       "RECTANGLE     303\n",
       "CYLINDER      294\n",
       "CHEVRON       248\n",
       "DIAMOND       234\n",
       "EGG           197\n",
       "FLASH         188\n",
       "TEARDROP      119\n",
       "CONE           60\n",
       "CROSS          36\n",
       "DELTA           7\n",
       "CRESCENT        2\n",
       "ROUND           2\n",
       "HEXAGON         1\n",
       "FLARE           1\n",
       "PYRAMID         1\n",
       "DOME            1\n",
       "Name: Shape Reported, dtype: int64"
      ]
     },
     "execution_count": 41,
     "metadata": {},
     "output_type": "execute_result"
    }
   ],
   "source": [
    "ufo[\"Shape Reported\"].value_counts(dropna=False)"
   ]
  },
  {
   "cell_type": "code",
   "execution_count": 42,
   "metadata": {},
   "outputs": [],
   "source": [
    "df = pd.read_csv(r\"C:\\Users\\PC\\python_lectures\\data\\train.csv\")"
   ]
  },
  {
   "cell_type": "code",
   "execution_count": 43,
   "metadata": {},
   "outputs": [
    {
     "data": {
      "text/html": [
       "<div>\n",
       "<style scoped>\n",
       "    .dataframe tbody tr th:only-of-type {\n",
       "        vertical-align: middle;\n",
       "    }\n",
       "\n",
       "    .dataframe tbody tr th {\n",
       "        vertical-align: top;\n",
       "    }\n",
       "\n",
       "    .dataframe thead th {\n",
       "        text-align: right;\n",
       "    }\n",
       "</style>\n",
       "<table border=\"1\" class=\"dataframe\">\n",
       "  <thead>\n",
       "    <tr style=\"text-align: right;\">\n",
       "      <th></th>\n",
       "      <th>Id</th>\n",
       "      <th>MSSubClass</th>\n",
       "      <th>MSZoning</th>\n",
       "      <th>LotFrontage</th>\n",
       "      <th>LotArea</th>\n",
       "      <th>Street</th>\n",
       "      <th>Alley</th>\n",
       "      <th>LotShape</th>\n",
       "      <th>LandContour</th>\n",
       "      <th>Utilities</th>\n",
       "      <th>...</th>\n",
       "      <th>PoolArea</th>\n",
       "      <th>PoolQC</th>\n",
       "      <th>Fence</th>\n",
       "      <th>MiscFeature</th>\n",
       "      <th>MiscVal</th>\n",
       "      <th>MoSold</th>\n",
       "      <th>YrSold</th>\n",
       "      <th>SaleType</th>\n",
       "      <th>SaleCondition</th>\n",
       "      <th>SalePrice</th>\n",
       "    </tr>\n",
       "  </thead>\n",
       "  <tbody>\n",
       "    <tr>\n",
       "      <th>0</th>\n",
       "      <td>1</td>\n",
       "      <td>60</td>\n",
       "      <td>RL</td>\n",
       "      <td>65.0</td>\n",
       "      <td>8450</td>\n",
       "      <td>Pave</td>\n",
       "      <td>NaN</td>\n",
       "      <td>Reg</td>\n",
       "      <td>Lvl</td>\n",
       "      <td>AllPub</td>\n",
       "      <td>...</td>\n",
       "      <td>0</td>\n",
       "      <td>NaN</td>\n",
       "      <td>NaN</td>\n",
       "      <td>NaN</td>\n",
       "      <td>0</td>\n",
       "      <td>2</td>\n",
       "      <td>2008</td>\n",
       "      <td>WD</td>\n",
       "      <td>Normal</td>\n",
       "      <td>208500</td>\n",
       "    </tr>\n",
       "    <tr>\n",
       "      <th>1</th>\n",
       "      <td>2</td>\n",
       "      <td>20</td>\n",
       "      <td>RL</td>\n",
       "      <td>80.0</td>\n",
       "      <td>9600</td>\n",
       "      <td>Pave</td>\n",
       "      <td>NaN</td>\n",
       "      <td>Reg</td>\n",
       "      <td>Lvl</td>\n",
       "      <td>AllPub</td>\n",
       "      <td>...</td>\n",
       "      <td>0</td>\n",
       "      <td>NaN</td>\n",
       "      <td>NaN</td>\n",
       "      <td>NaN</td>\n",
       "      <td>0</td>\n",
       "      <td>5</td>\n",
       "      <td>2007</td>\n",
       "      <td>WD</td>\n",
       "      <td>Normal</td>\n",
       "      <td>181500</td>\n",
       "    </tr>\n",
       "  </tbody>\n",
       "</table>\n",
       "<p>2 rows × 81 columns</p>\n",
       "</div>"
      ],
      "text/plain": [
       "   Id  MSSubClass MSZoning  LotFrontage  LotArea Street Alley LotShape  \\\n",
       "0   1          60       RL         65.0     8450   Pave   NaN      Reg   \n",
       "1   2          20       RL         80.0     9600   Pave   NaN      Reg   \n",
       "\n",
       "  LandContour Utilities  ... PoolArea PoolQC Fence MiscFeature MiscVal MoSold  \\\n",
       "0         Lvl    AllPub  ...        0    NaN   NaN         NaN       0      2   \n",
       "1         Lvl    AllPub  ...        0    NaN   NaN         NaN       0      5   \n",
       "\n",
       "  YrSold  SaleType  SaleCondition  SalePrice  \n",
       "0   2008        WD         Normal     208500  \n",
       "1   2007        WD         Normal     181500  \n",
       "\n",
       "[2 rows x 81 columns]"
      ]
     },
     "execution_count": 43,
     "metadata": {},
     "output_type": "execute_result"
    }
   ],
   "source": [
    "df.head(2)"
   ]
  },
  {
   "cell_type": "code",
   "execution_count": 44,
   "metadata": {},
   "outputs": [],
   "source": [
    "housing = df[[\"LotFrontage\",\"FireplaceQu\",\"GarageYrBlt\",\"BsmtCond\"]].copy()"
   ]
  },
  {
   "cell_type": "code",
   "execution_count": 45,
   "metadata": {},
   "outputs": [
    {
     "data": {
      "text/html": [
       "<div>\n",
       "<style scoped>\n",
       "    .dataframe tbody tr th:only-of-type {\n",
       "        vertical-align: middle;\n",
       "    }\n",
       "\n",
       "    .dataframe tbody tr th {\n",
       "        vertical-align: top;\n",
       "    }\n",
       "\n",
       "    .dataframe thead th {\n",
       "        text-align: right;\n",
       "    }\n",
       "</style>\n",
       "<table border=\"1\" class=\"dataframe\">\n",
       "  <thead>\n",
       "    <tr style=\"text-align: right;\">\n",
       "      <th></th>\n",
       "      <th>LotFrontage</th>\n",
       "      <th>FireplaceQu</th>\n",
       "      <th>GarageYrBlt</th>\n",
       "      <th>BsmtCond</th>\n",
       "    </tr>\n",
       "  </thead>\n",
       "  <tbody>\n",
       "    <tr>\n",
       "      <th>0</th>\n",
       "      <td>65.0</td>\n",
       "      <td>NaN</td>\n",
       "      <td>2003.0</td>\n",
       "      <td>TA</td>\n",
       "    </tr>\n",
       "    <tr>\n",
       "      <th>1</th>\n",
       "      <td>80.0</td>\n",
       "      <td>TA</td>\n",
       "      <td>1976.0</td>\n",
       "      <td>TA</td>\n",
       "    </tr>\n",
       "  </tbody>\n",
       "</table>\n",
       "</div>"
      ],
      "text/plain": [
       "   LotFrontage FireplaceQu  GarageYrBlt BsmtCond\n",
       "0         65.0         NaN       2003.0       TA\n",
       "1         80.0          TA       1976.0       TA"
      ]
     },
     "execution_count": 45,
     "metadata": {},
     "output_type": "execute_result"
    }
   ],
   "source": [
    "housing.head(2)"
   ]
  },
  {
   "cell_type": "code",
   "execution_count": 46,
   "metadata": {},
   "outputs": [
    {
     "data": {
      "text/html": [
       "<div>\n",
       "<style scoped>\n",
       "    .dataframe tbody tr th:only-of-type {\n",
       "        vertical-align: middle;\n",
       "    }\n",
       "\n",
       "    .dataframe tbody tr th {\n",
       "        vertical-align: top;\n",
       "    }\n",
       "\n",
       "    .dataframe thead th {\n",
       "        text-align: right;\n",
       "    }\n",
       "</style>\n",
       "<table border=\"1\" class=\"dataframe\">\n",
       "  <thead>\n",
       "    <tr style=\"text-align: right;\">\n",
       "      <th></th>\n",
       "      <th>LotFrontage</th>\n",
       "      <th>FireplaceQu</th>\n",
       "      <th>GarageYrBlt</th>\n",
       "      <th>BsmtCond</th>\n",
       "    </tr>\n",
       "  </thead>\n",
       "  <tbody>\n",
       "    <tr>\n",
       "      <th>0</th>\n",
       "      <td>False</td>\n",
       "      <td>True</td>\n",
       "      <td>False</td>\n",
       "      <td>False</td>\n",
       "    </tr>\n",
       "    <tr>\n",
       "      <th>1</th>\n",
       "      <td>False</td>\n",
       "      <td>False</td>\n",
       "      <td>False</td>\n",
       "      <td>False</td>\n",
       "    </tr>\n",
       "    <tr>\n",
       "      <th>2</th>\n",
       "      <td>False</td>\n",
       "      <td>False</td>\n",
       "      <td>False</td>\n",
       "      <td>False</td>\n",
       "    </tr>\n",
       "    <tr>\n",
       "      <th>3</th>\n",
       "      <td>False</td>\n",
       "      <td>False</td>\n",
       "      <td>False</td>\n",
       "      <td>False</td>\n",
       "    </tr>\n",
       "    <tr>\n",
       "      <th>4</th>\n",
       "      <td>False</td>\n",
       "      <td>False</td>\n",
       "      <td>False</td>\n",
       "      <td>False</td>\n",
       "    </tr>\n",
       "    <tr>\n",
       "      <th>...</th>\n",
       "      <td>...</td>\n",
       "      <td>...</td>\n",
       "      <td>...</td>\n",
       "      <td>...</td>\n",
       "    </tr>\n",
       "    <tr>\n",
       "      <th>1455</th>\n",
       "      <td>False</td>\n",
       "      <td>False</td>\n",
       "      <td>False</td>\n",
       "      <td>False</td>\n",
       "    </tr>\n",
       "    <tr>\n",
       "      <th>1456</th>\n",
       "      <td>False</td>\n",
       "      <td>False</td>\n",
       "      <td>False</td>\n",
       "      <td>False</td>\n",
       "    </tr>\n",
       "    <tr>\n",
       "      <th>1457</th>\n",
       "      <td>False</td>\n",
       "      <td>False</td>\n",
       "      <td>False</td>\n",
       "      <td>False</td>\n",
       "    </tr>\n",
       "    <tr>\n",
       "      <th>1458</th>\n",
       "      <td>False</td>\n",
       "      <td>True</td>\n",
       "      <td>False</td>\n",
       "      <td>False</td>\n",
       "    </tr>\n",
       "    <tr>\n",
       "      <th>1459</th>\n",
       "      <td>False</td>\n",
       "      <td>True</td>\n",
       "      <td>False</td>\n",
       "      <td>False</td>\n",
       "    </tr>\n",
       "  </tbody>\n",
       "</table>\n",
       "<p>1460 rows × 4 columns</p>\n",
       "</div>"
      ],
      "text/plain": [
       "      LotFrontage  FireplaceQu  GarageYrBlt  BsmtCond\n",
       "0           False         True        False     False\n",
       "1           False        False        False     False\n",
       "2           False        False        False     False\n",
       "3           False        False        False     False\n",
       "4           False        False        False     False\n",
       "...           ...          ...          ...       ...\n",
       "1455        False        False        False     False\n",
       "1456        False        False        False     False\n",
       "1457        False        False        False     False\n",
       "1458        False         True        False     False\n",
       "1459        False         True        False     False\n",
       "\n",
       "[1460 rows x 4 columns]"
      ]
     },
     "execution_count": 46,
     "metadata": {},
     "output_type": "execute_result"
    }
   ],
   "source": [
    "housing.isnull()"
   ]
  },
  {
   "cell_type": "code",
   "execution_count": 47,
   "metadata": {},
   "outputs": [
    {
     "data": {
      "text/plain": [
       "LotFrontage    259\n",
       "FireplaceQu    690\n",
       "GarageYrBlt     81\n",
       "BsmtCond        37\n",
       "dtype: int64"
      ]
     },
     "execution_count": 47,
     "metadata": {},
     "output_type": "execute_result"
    }
   ],
   "source": [
    "housing.isnull().sum()"
   ]
  },
  {
   "cell_type": "code",
   "execution_count": 48,
   "metadata": {},
   "outputs": [
    {
     "data": {
      "text/plain": [
       "LotFrontage    0.177397\n",
       "FireplaceQu    0.472603\n",
       "GarageYrBlt    0.055479\n",
       "BsmtCond       0.025342\n",
       "dtype: float64"
      ]
     },
     "execution_count": 48,
     "metadata": {},
     "output_type": "execute_result"
    }
   ],
   "source": [
    "housing.isnull().sum()/len(housing)"
   ]
  },
  {
   "cell_type": "code",
   "execution_count": 49,
   "metadata": {},
   "outputs": [],
   "source": [
    "housing.drop(\"FireplaceQu\",inplace=True,axis=1)"
   ]
  },
  {
   "cell_type": "code",
   "execution_count": 50,
   "metadata": {},
   "outputs": [],
   "source": [
    "garage_year_mean = housing[\"GarageYrBlt\"].mean()"
   ]
  },
  {
   "cell_type": "code",
   "execution_count": 51,
   "metadata": {},
   "outputs": [
    {
     "data": {
      "text/plain": [
       "1978.5061638868744"
      ]
     },
     "execution_count": 51,
     "metadata": {},
     "output_type": "execute_result"
    }
   ],
   "source": [
    "garage_year_mean"
   ]
  },
  {
   "cell_type": "code",
   "execution_count": 52,
   "metadata": {},
   "outputs": [],
   "source": [
    "housing[\"GarageYrBlt\"].fillna(garage_year_mean,inplace=True)"
   ]
  },
  {
   "cell_type": "code",
   "execution_count": 53,
   "metadata": {},
   "outputs": [],
   "source": [
    "front_age_mean = housing[\"LotFrontage\"].mean()"
   ]
  },
  {
   "cell_type": "code",
   "execution_count": 54,
   "metadata": {},
   "outputs": [
    {
     "data": {
      "text/plain": [
       "70.04995836802665"
      ]
     },
     "execution_count": 54,
     "metadata": {},
     "output_type": "execute_result"
    }
   ],
   "source": [
    "front_age_mean"
   ]
  },
  {
   "cell_type": "code",
   "execution_count": 55,
   "metadata": {},
   "outputs": [],
   "source": [
    "housing[\"LotFrontage\"].fillna(front_age_mean,inplace=True)"
   ]
  },
  {
   "cell_type": "code",
   "execution_count": 56,
   "metadata": {},
   "outputs": [
    {
     "data": {
      "text/plain": [
       "TA    1311\n",
       "Gd      65\n",
       "Fa      45\n",
       "Po       2\n",
       "Name: BsmtCond, dtype: int64"
      ]
     },
     "execution_count": 56,
     "metadata": {},
     "output_type": "execute_result"
    }
   ],
   "source": [
    "housing[\"BsmtCond\"].value_counts()"
   ]
  },
  {
   "cell_type": "code",
   "execution_count": 57,
   "metadata": {},
   "outputs": [],
   "source": [
    "housing[\"BsmtCond\"].fillna(\"TA\",inplace=True)"
   ]
  },
  {
   "cell_type": "code",
   "execution_count": 58,
   "metadata": {},
   "outputs": [
    {
     "data": {
      "text/plain": [
       "LotFrontage    0\n",
       "GarageYrBlt    0\n",
       "BsmtCond       0\n",
       "dtype: int64"
      ]
     },
     "execution_count": 58,
     "metadata": {},
     "output_type": "execute_result"
    }
   ],
   "source": [
    "housing.isnull().sum()"
   ]
  },
  {
   "cell_type": "markdown",
   "metadata": {},
   "source": [
    "## 3 -  Advance Indexing & MultiIndex"
   ]
  },
  {
   "cell_type": "code",
   "execution_count": 59,
   "metadata": {},
   "outputs": [],
   "source": [
    "stocks = pd.read_csv(\"http://bit.ly/smallstocks\")"
   ]
  },
  {
   "cell_type": "code",
   "execution_count": 60,
   "metadata": {},
   "outputs": [
    {
     "data": {
      "text/html": [
       "<div>\n",
       "<style scoped>\n",
       "    .dataframe tbody tr th:only-of-type {\n",
       "        vertical-align: middle;\n",
       "    }\n",
       "\n",
       "    .dataframe tbody tr th {\n",
       "        vertical-align: top;\n",
       "    }\n",
       "\n",
       "    .dataframe thead th {\n",
       "        text-align: right;\n",
       "    }\n",
       "</style>\n",
       "<table border=\"1\" class=\"dataframe\">\n",
       "  <thead>\n",
       "    <tr style=\"text-align: right;\">\n",
       "      <th></th>\n",
       "      <th>Date</th>\n",
       "      <th>Close</th>\n",
       "      <th>Volume</th>\n",
       "      <th>Symbol</th>\n",
       "    </tr>\n",
       "  </thead>\n",
       "  <tbody>\n",
       "    <tr>\n",
       "      <th>0</th>\n",
       "      <td>2016-10-03</td>\n",
       "      <td>31.50</td>\n",
       "      <td>14070500</td>\n",
       "      <td>CSCO</td>\n",
       "    </tr>\n",
       "    <tr>\n",
       "      <th>1</th>\n",
       "      <td>2016-10-03</td>\n",
       "      <td>112.52</td>\n",
       "      <td>21701800</td>\n",
       "      <td>AAPL</td>\n",
       "    </tr>\n",
       "    <tr>\n",
       "      <th>2</th>\n",
       "      <td>2016-10-03</td>\n",
       "      <td>57.42</td>\n",
       "      <td>19189500</td>\n",
       "      <td>MSFT</td>\n",
       "    </tr>\n",
       "    <tr>\n",
       "      <th>3</th>\n",
       "      <td>2016-10-04</td>\n",
       "      <td>113.00</td>\n",
       "      <td>29736800</td>\n",
       "      <td>AAPL</td>\n",
       "    </tr>\n",
       "    <tr>\n",
       "      <th>4</th>\n",
       "      <td>2016-10-04</td>\n",
       "      <td>57.24</td>\n",
       "      <td>20085900</td>\n",
       "      <td>MSFT</td>\n",
       "    </tr>\n",
       "    <tr>\n",
       "      <th>5</th>\n",
       "      <td>2016-10-04</td>\n",
       "      <td>31.35</td>\n",
       "      <td>18460400</td>\n",
       "      <td>CSCO</td>\n",
       "    </tr>\n",
       "    <tr>\n",
       "      <th>6</th>\n",
       "      <td>2016-10-05</td>\n",
       "      <td>57.64</td>\n",
       "      <td>16726400</td>\n",
       "      <td>MSFT</td>\n",
       "    </tr>\n",
       "    <tr>\n",
       "      <th>7</th>\n",
       "      <td>2016-10-05</td>\n",
       "      <td>31.59</td>\n",
       "      <td>11808600</td>\n",
       "      <td>CSCO</td>\n",
       "    </tr>\n",
       "    <tr>\n",
       "      <th>8</th>\n",
       "      <td>2016-10-05</td>\n",
       "      <td>113.05</td>\n",
       "      <td>21453100</td>\n",
       "      <td>AAPL</td>\n",
       "    </tr>\n",
       "  </tbody>\n",
       "</table>\n",
       "</div>"
      ],
      "text/plain": [
       "         Date   Close    Volume Symbol\n",
       "0  2016-10-03   31.50  14070500   CSCO\n",
       "1  2016-10-03  112.52  21701800   AAPL\n",
       "2  2016-10-03   57.42  19189500   MSFT\n",
       "3  2016-10-04  113.00  29736800   AAPL\n",
       "4  2016-10-04   57.24  20085900   MSFT\n",
       "5  2016-10-04   31.35  18460400   CSCO\n",
       "6  2016-10-05   57.64  16726400   MSFT\n",
       "7  2016-10-05   31.59  11808600   CSCO\n",
       "8  2016-10-05  113.05  21453100   AAPL"
      ]
     },
     "execution_count": 60,
     "metadata": {},
     "output_type": "execute_result"
    }
   ],
   "source": [
    "stocks"
   ]
  },
  {
   "cell_type": "code",
   "execution_count": 61,
   "metadata": {},
   "outputs": [
    {
     "data": {
      "text/plain": [
       "Symbol\n",
       "AAPL    112.856667\n",
       "CSCO     31.480000\n",
       "MSFT     57.433333\n",
       "Name: Close, dtype: float64"
      ]
     },
     "execution_count": 61,
     "metadata": {},
     "output_type": "execute_result"
    }
   ],
   "source": [
    "stocks.groupby(\"Symbol\").Close.mean()"
   ]
  },
  {
   "cell_type": "code",
   "execution_count": 62,
   "metadata": {},
   "outputs": [
    {
     "data": {
      "text/plain": [
       "Symbol  Date      \n",
       "AAPL    2016-10-03    112.52\n",
       "        2016-10-04    113.00\n",
       "        2016-10-05    113.05\n",
       "CSCO    2016-10-03     31.50\n",
       "        2016-10-04     31.35\n",
       "        2016-10-05     31.59\n",
       "MSFT    2016-10-03     57.42\n",
       "        2016-10-04     57.24\n",
       "        2016-10-05     57.64\n",
       "Name: Close, dtype: float64"
      ]
     },
     "execution_count": 62,
     "metadata": {},
     "output_type": "execute_result"
    }
   ],
   "source": [
    "ser = stocks.groupby([\"Symbol\",\"Date\"]).Close.mean()\n",
    "ser"
   ]
  },
  {
   "cell_type": "code",
   "execution_count": 63,
   "metadata": {},
   "outputs": [
    {
     "data": {
      "text/plain": [
       "Date        Symbol\n",
       "2016-10-03  AAPL      112.52\n",
       "            CSCO       31.50\n",
       "            MSFT       57.42\n",
       "2016-10-04  AAPL      113.00\n",
       "            CSCO       31.35\n",
       "            MSFT       57.24\n",
       "2016-10-05  AAPL      113.05\n",
       "            CSCO       31.59\n",
       "            MSFT       57.64\n",
       "Name: Close, dtype: float64"
      ]
     },
     "execution_count": 63,
     "metadata": {},
     "output_type": "execute_result"
    }
   ],
   "source": [
    "stocks.groupby([\"Date\",\"Symbol\"]).Close.mean()"
   ]
  },
  {
   "cell_type": "code",
   "execution_count": 64,
   "metadata": {},
   "outputs": [
    {
     "data": {
      "text/plain": [
       "MultiIndex([('AAPL', '2016-10-03'),\n",
       "            ('AAPL', '2016-10-04'),\n",
       "            ('AAPL', '2016-10-05'),\n",
       "            ('CSCO', '2016-10-03'),\n",
       "            ('CSCO', '2016-10-04'),\n",
       "            ('CSCO', '2016-10-05'),\n",
       "            ('MSFT', '2016-10-03'),\n",
       "            ('MSFT', '2016-10-04'),\n",
       "            ('MSFT', '2016-10-05')],\n",
       "           names=['Symbol', 'Date'])"
      ]
     },
     "execution_count": 64,
     "metadata": {},
     "output_type": "execute_result"
    }
   ],
   "source": [
    "ser.index"
   ]
  },
  {
   "cell_type": "code",
   "execution_count": 65,
   "metadata": {},
   "outputs": [
    {
     "data": {
      "text/html": [
       "<div>\n",
       "<style scoped>\n",
       "    .dataframe tbody tr th:only-of-type {\n",
       "        vertical-align: middle;\n",
       "    }\n",
       "\n",
       "    .dataframe tbody tr th {\n",
       "        vertical-align: top;\n",
       "    }\n",
       "\n",
       "    .dataframe thead th {\n",
       "        text-align: right;\n",
       "    }\n",
       "</style>\n",
       "<table border=\"1\" class=\"dataframe\">\n",
       "  <thead>\n",
       "    <tr style=\"text-align: right;\">\n",
       "      <th>Date</th>\n",
       "      <th>2016-10-03</th>\n",
       "      <th>2016-10-04</th>\n",
       "      <th>2016-10-05</th>\n",
       "    </tr>\n",
       "    <tr>\n",
       "      <th>Symbol</th>\n",
       "      <th></th>\n",
       "      <th></th>\n",
       "      <th></th>\n",
       "    </tr>\n",
       "  </thead>\n",
       "  <tbody>\n",
       "    <tr>\n",
       "      <th>AAPL</th>\n",
       "      <td>112.52</td>\n",
       "      <td>113.00</td>\n",
       "      <td>113.05</td>\n",
       "    </tr>\n",
       "    <tr>\n",
       "      <th>CSCO</th>\n",
       "      <td>31.50</td>\n",
       "      <td>31.35</td>\n",
       "      <td>31.59</td>\n",
       "    </tr>\n",
       "    <tr>\n",
       "      <th>MSFT</th>\n",
       "      <td>57.42</td>\n",
       "      <td>57.24</td>\n",
       "      <td>57.64</td>\n",
       "    </tr>\n",
       "  </tbody>\n",
       "</table>\n",
       "</div>"
      ],
      "text/plain": [
       "Date    2016-10-03  2016-10-04  2016-10-05\n",
       "Symbol                                    \n",
       "AAPL        112.52      113.00      113.05\n",
       "CSCO         31.50       31.35       31.59\n",
       "MSFT         57.42       57.24       57.64"
      ]
     },
     "execution_count": 65,
     "metadata": {},
     "output_type": "execute_result"
    }
   ],
   "source": [
    "ser.unstack()"
   ]
  },
  {
   "cell_type": "code",
   "execution_count": 66,
   "metadata": {},
   "outputs": [
    {
     "data": {
      "text/plain": [
       "Symbol  Date      \n",
       "AAPL    2016-10-03    112.52\n",
       "        2016-10-04    113.00\n",
       "        2016-10-05    113.05\n",
       "CSCO    2016-10-03     31.50\n",
       "        2016-10-04     31.35\n",
       "        2016-10-05     31.59\n",
       "MSFT    2016-10-03     57.42\n",
       "        2016-10-04     57.24\n",
       "        2016-10-05     57.64\n",
       "Name: Close, dtype: float64"
      ]
     },
     "execution_count": 66,
     "metadata": {},
     "output_type": "execute_result"
    }
   ],
   "source": [
    "ser"
   ]
  },
  {
   "cell_type": "code",
   "execution_count": 67,
   "metadata": {},
   "outputs": [
    {
     "data": {
      "text/plain": [
       "Date\n",
       "2016-10-03    112.52\n",
       "2016-10-04    113.00\n",
       "2016-10-05    113.05\n",
       "Name: Close, dtype: float64"
      ]
     },
     "execution_count": 67,
     "metadata": {},
     "output_type": "execute_result"
    }
   ],
   "source": [
    "ser.loc[\"AAPL\"]"
   ]
  },
  {
   "cell_type": "code",
   "execution_count": 68,
   "metadata": {},
   "outputs": [
    {
     "data": {
      "text/plain": [
       "112.52"
      ]
     },
     "execution_count": 68,
     "metadata": {},
     "output_type": "execute_result"
    }
   ],
   "source": [
    "ser.loc[\"AAPL\", \"2016-10-03\"]"
   ]
  },
  {
   "cell_type": "code",
   "execution_count": 69,
   "metadata": {},
   "outputs": [
    {
     "data": {
      "text/plain": [
       "Symbol\n",
       "AAPL    113.00\n",
       "CSCO     31.35\n",
       "MSFT     57.24\n",
       "Name: Close, dtype: float64"
      ]
     },
     "execution_count": 69,
     "metadata": {},
     "output_type": "execute_result"
    }
   ],
   "source": [
    "ser.loc[:, \"2016-10-04\"]"
   ]
  },
  {
   "cell_type": "markdown",
   "metadata": {},
   "source": [
    "### 3.1. Resample"
   ]
  },
  {
   "cell_type": "code",
   "execution_count": 70,
   "metadata": {},
   "outputs": [],
   "source": [
    "df_apple = pd.read_csv(r\"C:\\Users\\PC\\python_lectures\\data\\apple.csv\", parse_dates =[\"date\"], index_col =\"date\")"
   ]
  },
  {
   "cell_type": "code",
   "execution_count": 71,
   "metadata": {},
   "outputs": [
    {
     "data": {
      "text/html": [
       "<div>\n",
       "<style scoped>\n",
       "    .dataframe tbody tr th:only-of-type {\n",
       "        vertical-align: middle;\n",
       "    }\n",
       "\n",
       "    .dataframe tbody tr th {\n",
       "        vertical-align: top;\n",
       "    }\n",
       "\n",
       "    .dataframe thead th {\n",
       "        text-align: right;\n",
       "    }\n",
       "</style>\n",
       "<table border=\"1\" class=\"dataframe\">\n",
       "  <thead>\n",
       "    <tr style=\"text-align: right;\">\n",
       "      <th></th>\n",
       "      <th>close</th>\n",
       "      <th>volume</th>\n",
       "      <th>open</th>\n",
       "      <th>high</th>\n",
       "      <th>low</th>\n",
       "    </tr>\n",
       "    <tr>\n",
       "      <th>date</th>\n",
       "      <th></th>\n",
       "      <th></th>\n",
       "      <th></th>\n",
       "      <th></th>\n",
       "      <th></th>\n",
       "    </tr>\n",
       "  </thead>\n",
       "  <tbody>\n",
       "    <tr>\n",
       "      <th>2021-07-09 16:00:00</th>\n",
       "      <td>192.23</td>\n",
       "      <td>46,541,444</td>\n",
       "      <td>191.72</td>\n",
       "      <td>197.18</td>\n",
       "      <td>191.4501</td>\n",
       "    </tr>\n",
       "    <tr>\n",
       "      <th>2018-11-13 00:00:00</th>\n",
       "      <td>192.23</td>\n",
       "      <td>46725710.0000</td>\n",
       "      <td>191.63</td>\n",
       "      <td>197.18</td>\n",
       "      <td>191.4501</td>\n",
       "    </tr>\n",
       "    <tr>\n",
       "      <th>2018-11-12 00:00:00</th>\n",
       "      <td>194.17</td>\n",
       "      <td>50991030.0000</td>\n",
       "      <td>199.00</td>\n",
       "      <td>199.85</td>\n",
       "      <td>193.7900</td>\n",
       "    </tr>\n",
       "    <tr>\n",
       "      <th>2018-11-09 00:00:00</th>\n",
       "      <td>204.47</td>\n",
       "      <td>34317760.0000</td>\n",
       "      <td>205.55</td>\n",
       "      <td>206.01</td>\n",
       "      <td>202.2500</td>\n",
       "    </tr>\n",
       "    <tr>\n",
       "      <th>2018-11-08 00:00:00</th>\n",
       "      <td>208.49</td>\n",
       "      <td>25289270.0000</td>\n",
       "      <td>209.98</td>\n",
       "      <td>210.12</td>\n",
       "      <td>206.7500</td>\n",
       "    </tr>\n",
       "    <tr>\n",
       "      <th>2018-11-07 00:00:00</th>\n",
       "      <td>209.95</td>\n",
       "      <td>33291640.0000</td>\n",
       "      <td>205.97</td>\n",
       "      <td>210.06</td>\n",
       "      <td>204.1300</td>\n",
       "    </tr>\n",
       "    <tr>\n",
       "      <th>2018-11-06 00:00:00</th>\n",
       "      <td>203.77</td>\n",
       "      <td>31774720.0000</td>\n",
       "      <td>201.92</td>\n",
       "      <td>204.72</td>\n",
       "      <td>201.6900</td>\n",
       "    </tr>\n",
       "    <tr>\n",
       "      <th>2018-11-05 00:00:00</th>\n",
       "      <td>201.59</td>\n",
       "      <td>66072170.0000</td>\n",
       "      <td>204.30</td>\n",
       "      <td>204.39</td>\n",
       "      <td>198.1700</td>\n",
       "    </tr>\n",
       "    <tr>\n",
       "      <th>2018-11-02 00:00:00</th>\n",
       "      <td>207.48</td>\n",
       "      <td>91046560.0000</td>\n",
       "      <td>209.55</td>\n",
       "      <td>213.65</td>\n",
       "      <td>205.4300</td>\n",
       "    </tr>\n",
       "    <tr>\n",
       "      <th>2018-11-01 00:00:00</th>\n",
       "      <td>222.22</td>\n",
       "      <td>52954070.0000</td>\n",
       "      <td>219.05</td>\n",
       "      <td>222.36</td>\n",
       "      <td>216.8100</td>\n",
       "    </tr>\n",
       "  </tbody>\n",
       "</table>\n",
       "</div>"
      ],
      "text/plain": [
       "                      close         volume    open    high       low\n",
       "date                                                                \n",
       "2021-07-09 16:00:00  192.23     46,541,444  191.72  197.18  191.4501\n",
       "2018-11-13 00:00:00  192.23  46725710.0000  191.63  197.18  191.4501\n",
       "2018-11-12 00:00:00  194.17  50991030.0000  199.00  199.85  193.7900\n",
       "2018-11-09 00:00:00  204.47  34317760.0000  205.55  206.01  202.2500\n",
       "2018-11-08 00:00:00  208.49  25289270.0000  209.98  210.12  206.7500\n",
       "2018-11-07 00:00:00  209.95  33291640.0000  205.97  210.06  204.1300\n",
       "2018-11-06 00:00:00  203.77  31774720.0000  201.92  204.72  201.6900\n",
       "2018-11-05 00:00:00  201.59  66072170.0000  204.30  204.39  198.1700\n",
       "2018-11-02 00:00:00  207.48  91046560.0000  209.55  213.65  205.4300\n",
       "2018-11-01 00:00:00  222.22  52954070.0000  219.05  222.36  216.8100"
      ]
     },
     "execution_count": 71,
     "metadata": {},
     "output_type": "execute_result"
    }
   ],
   "source": [
    "df_apple.head(10)"
   ]
  },
  {
   "cell_type": "code",
   "execution_count": 72,
   "metadata": {},
   "outputs": [],
   "source": [
    "monthly_resampled_data = df_apple.close.resample('M').mean()"
   ]
  },
  {
   "cell_type": "code",
   "execution_count": 73,
   "metadata": {},
   "outputs": [
    {
     "data": {
      "text/plain": [
       "date\n",
       "2017-11-30    172.090769\n",
       "2017-12-31    171.891500\n",
       "2018-01-31    174.005238\n",
       "2018-02-28    167.638947\n",
       "2018-03-31    174.496190\n",
       "2018-04-30    169.834286\n",
       "2018-05-31    185.536818\n",
       "2018-06-30    188.621429\n",
       "2018-07-31    190.311429\n",
       "2018-08-31    213.346087\n",
       "2018-09-30    222.073684\n",
       "2018-10-31    220.845652\n",
       "Freq: M, Name: close, dtype: float64"
      ]
     },
     "execution_count": 73,
     "metadata": {},
     "output_type": "execute_result"
    }
   ],
   "source": [
    "monthly_resampled_data.head(12)"
   ]
  },
  {
   "cell_type": "code",
   "execution_count": 74,
   "metadata": {},
   "outputs": [
    {
     "data": {
      "text/plain": [
       "date\n",
       "2021-07-09 16:00:00           NaN\n",
       "2018-11-13 00:00:00           NaN\n",
       "2018-11-12 00:00:00    192.876667\n",
       "2018-11-09 00:00:00    196.956667\n",
       "2018-11-08 00:00:00    202.376667\n",
       "                          ...    \n",
       "2017-11-17 00:00:00    171.090000\n",
       "2017-11-16 00:00:00    170.410000\n",
       "2017-11-15 00:00:00    170.110000\n",
       "2017-11-14 00:00:00    170.506667\n",
       "2017-11-13 00:00:00    171.463333\n",
       "Name: close, Length: 254, dtype: float64"
      ]
     },
     "execution_count": 74,
     "metadata": {},
     "output_type": "execute_result"
    }
   ],
   "source": [
    "df_apple.close.rolling(3).mean() # ??"
   ]
  },
  {
   "cell_type": "markdown",
   "metadata": {},
   "source": [
    "## 4 - Time Operations"
   ]
  },
  {
   "cell_type": "code",
   "execution_count": 75,
   "metadata": {},
   "outputs": [
    {
     "data": {
      "text/html": [
       "<div>\n",
       "<style scoped>\n",
       "    .dataframe tbody tr th:only-of-type {\n",
       "        vertical-align: middle;\n",
       "    }\n",
       "\n",
       "    .dataframe tbody tr th {\n",
       "        vertical-align: top;\n",
       "    }\n",
       "\n",
       "    .dataframe thead th {\n",
       "        text-align: right;\n",
       "    }\n",
       "</style>\n",
       "<table border=\"1\" class=\"dataframe\">\n",
       "  <thead>\n",
       "    <tr style=\"text-align: right;\">\n",
       "      <th></th>\n",
       "      <th>City</th>\n",
       "      <th>Colors Reported</th>\n",
       "      <th>Shape Reported</th>\n",
       "      <th>State</th>\n",
       "      <th>Time</th>\n",
       "    </tr>\n",
       "  </thead>\n",
       "  <tbody>\n",
       "    <tr>\n",
       "      <th>0</th>\n",
       "      <td>Ithaca</td>\n",
       "      <td>NaN</td>\n",
       "      <td>TRIANGLE</td>\n",
       "      <td>NY</td>\n",
       "      <td>6/1/1930 22:00</td>\n",
       "    </tr>\n",
       "    <tr>\n",
       "      <th>1</th>\n",
       "      <td>Willingboro</td>\n",
       "      <td>NaN</td>\n",
       "      <td>OTHER</td>\n",
       "      <td>NJ</td>\n",
       "      <td>6/30/1930 20:00</td>\n",
       "    </tr>\n",
       "    <tr>\n",
       "      <th>2</th>\n",
       "      <td>Holyoke</td>\n",
       "      <td>NaN</td>\n",
       "      <td>OVAL</td>\n",
       "      <td>CO</td>\n",
       "      <td>2/15/1931 14:00</td>\n",
       "    </tr>\n",
       "    <tr>\n",
       "      <th>3</th>\n",
       "      <td>Abilene</td>\n",
       "      <td>NaN</td>\n",
       "      <td>DISK</td>\n",
       "      <td>KS</td>\n",
       "      <td>6/1/1931 13:00</td>\n",
       "    </tr>\n",
       "    <tr>\n",
       "      <th>4</th>\n",
       "      <td>New York Worlds Fair</td>\n",
       "      <td>NaN</td>\n",
       "      <td>LIGHT</td>\n",
       "      <td>NY</td>\n",
       "      <td>4/18/1933 19:00</td>\n",
       "    </tr>\n",
       "    <tr>\n",
       "      <th>...</th>\n",
       "      <td>...</td>\n",
       "      <td>...</td>\n",
       "      <td>...</td>\n",
       "      <td>...</td>\n",
       "      <td>...</td>\n",
       "    </tr>\n",
       "    <tr>\n",
       "      <th>18236</th>\n",
       "      <td>Grant Park</td>\n",
       "      <td>NaN</td>\n",
       "      <td>TRIANGLE</td>\n",
       "      <td>IL</td>\n",
       "      <td>12/31/2000 23:00</td>\n",
       "    </tr>\n",
       "    <tr>\n",
       "      <th>18237</th>\n",
       "      <td>Spirit Lake</td>\n",
       "      <td>NaN</td>\n",
       "      <td>DISK</td>\n",
       "      <td>IA</td>\n",
       "      <td>12/31/2000 23:00</td>\n",
       "    </tr>\n",
       "    <tr>\n",
       "      <th>18238</th>\n",
       "      <td>Eagle River</td>\n",
       "      <td>NaN</td>\n",
       "      <td>Unknown</td>\n",
       "      <td>WI</td>\n",
       "      <td>12/31/2000 23:45</td>\n",
       "    </tr>\n",
       "    <tr>\n",
       "      <th>18239</th>\n",
       "      <td>Eagle River</td>\n",
       "      <td>RED</td>\n",
       "      <td>LIGHT</td>\n",
       "      <td>WI</td>\n",
       "      <td>12/31/2000 23:45</td>\n",
       "    </tr>\n",
       "    <tr>\n",
       "      <th>18240</th>\n",
       "      <td>Ybor</td>\n",
       "      <td>NaN</td>\n",
       "      <td>OVAL</td>\n",
       "      <td>FL</td>\n",
       "      <td>12/31/2000 23:59</td>\n",
       "    </tr>\n",
       "  </tbody>\n",
       "</table>\n",
       "<p>18241 rows × 5 columns</p>\n",
       "</div>"
      ],
      "text/plain": [
       "                       City Colors Reported Shape Reported State  \\\n",
       "0                    Ithaca             NaN       TRIANGLE    NY   \n",
       "1               Willingboro             NaN          OTHER    NJ   \n",
       "2                   Holyoke             NaN           OVAL    CO   \n",
       "3                   Abilene             NaN           DISK    KS   \n",
       "4      New York Worlds Fair             NaN          LIGHT    NY   \n",
       "...                     ...             ...            ...   ...   \n",
       "18236            Grant Park             NaN       TRIANGLE    IL   \n",
       "18237           Spirit Lake             NaN           DISK    IA   \n",
       "18238           Eagle River             NaN        Unknown    WI   \n",
       "18239           Eagle River             RED          LIGHT    WI   \n",
       "18240                  Ybor             NaN           OVAL    FL   \n",
       "\n",
       "                   Time  \n",
       "0        6/1/1930 22:00  \n",
       "1       6/30/1930 20:00  \n",
       "2       2/15/1931 14:00  \n",
       "3        6/1/1931 13:00  \n",
       "4       4/18/1933 19:00  \n",
       "...                 ...  \n",
       "18236  12/31/2000 23:00  \n",
       "18237  12/31/2000 23:00  \n",
       "18238  12/31/2000 23:45  \n",
       "18239  12/31/2000 23:45  \n",
       "18240  12/31/2000 23:59  \n",
       "\n",
       "[18241 rows x 5 columns]"
      ]
     },
     "execution_count": 75,
     "metadata": {},
     "output_type": "execute_result"
    }
   ],
   "source": [
    "ufo"
   ]
  },
  {
   "cell_type": "code",
   "execution_count": 76,
   "metadata": {},
   "outputs": [
    {
     "data": {
      "text/plain": [
       "City               object\n",
       "Colors Reported    object\n",
       "Shape Reported     object\n",
       "State              object\n",
       "Time               object\n",
       "dtype: object"
      ]
     },
     "execution_count": 76,
     "metadata": {},
     "output_type": "execute_result"
    }
   ],
   "source": [
    "ufo.dtypes"
   ]
  },
  {
   "cell_type": "code",
   "execution_count": 77,
   "metadata": {},
   "outputs": [
    {
     "data": {
      "text/plain": [
       "0    22\n",
       "1    20\n",
       "2    14\n",
       "3    13\n",
       "4    19\n",
       "Name: Time, dtype: object"
      ]
     },
     "execution_count": 77,
     "metadata": {},
     "output_type": "execute_result"
    }
   ],
   "source": [
    "ufo.Time.str.slice(-5,-3).head()"
   ]
  },
  {
   "cell_type": "code",
   "execution_count": 78,
   "metadata": {},
   "outputs": [],
   "source": [
    "ufo[\"Time\"] = pd.to_datetime(ufo.Time)"
   ]
  },
  {
   "cell_type": "code",
   "execution_count": 79,
   "metadata": {},
   "outputs": [
    {
     "data": {
      "text/html": [
       "<div>\n",
       "<style scoped>\n",
       "    .dataframe tbody tr th:only-of-type {\n",
       "        vertical-align: middle;\n",
       "    }\n",
       "\n",
       "    .dataframe tbody tr th {\n",
       "        vertical-align: top;\n",
       "    }\n",
       "\n",
       "    .dataframe thead th {\n",
       "        text-align: right;\n",
       "    }\n",
       "</style>\n",
       "<table border=\"1\" class=\"dataframe\">\n",
       "  <thead>\n",
       "    <tr style=\"text-align: right;\">\n",
       "      <th></th>\n",
       "      <th>City</th>\n",
       "      <th>Colors Reported</th>\n",
       "      <th>Shape Reported</th>\n",
       "      <th>State</th>\n",
       "      <th>Time</th>\n",
       "    </tr>\n",
       "  </thead>\n",
       "  <tbody>\n",
       "    <tr>\n",
       "      <th>0</th>\n",
       "      <td>Ithaca</td>\n",
       "      <td>NaN</td>\n",
       "      <td>TRIANGLE</td>\n",
       "      <td>NY</td>\n",
       "      <td>1930-06-01 22:00:00</td>\n",
       "    </tr>\n",
       "    <tr>\n",
       "      <th>1</th>\n",
       "      <td>Willingboro</td>\n",
       "      <td>NaN</td>\n",
       "      <td>OTHER</td>\n",
       "      <td>NJ</td>\n",
       "      <td>1930-06-30 20:00:00</td>\n",
       "    </tr>\n",
       "    <tr>\n",
       "      <th>2</th>\n",
       "      <td>Holyoke</td>\n",
       "      <td>NaN</td>\n",
       "      <td>OVAL</td>\n",
       "      <td>CO</td>\n",
       "      <td>1931-02-15 14:00:00</td>\n",
       "    </tr>\n",
       "    <tr>\n",
       "      <th>3</th>\n",
       "      <td>Abilene</td>\n",
       "      <td>NaN</td>\n",
       "      <td>DISK</td>\n",
       "      <td>KS</td>\n",
       "      <td>1931-06-01 13:00:00</td>\n",
       "    </tr>\n",
       "    <tr>\n",
       "      <th>4</th>\n",
       "      <td>New York Worlds Fair</td>\n",
       "      <td>NaN</td>\n",
       "      <td>LIGHT</td>\n",
       "      <td>NY</td>\n",
       "      <td>1933-04-18 19:00:00</td>\n",
       "    </tr>\n",
       "  </tbody>\n",
       "</table>\n",
       "</div>"
      ],
      "text/plain": [
       "                   City Colors Reported Shape Reported State  \\\n",
       "0                Ithaca             NaN       TRIANGLE    NY   \n",
       "1           Willingboro             NaN          OTHER    NJ   \n",
       "2               Holyoke             NaN           OVAL    CO   \n",
       "3               Abilene             NaN           DISK    KS   \n",
       "4  New York Worlds Fair             NaN          LIGHT    NY   \n",
       "\n",
       "                 Time  \n",
       "0 1930-06-01 22:00:00  \n",
       "1 1930-06-30 20:00:00  \n",
       "2 1931-02-15 14:00:00  \n",
       "3 1931-06-01 13:00:00  \n",
       "4 1933-04-18 19:00:00  "
      ]
     },
     "execution_count": 79,
     "metadata": {},
     "output_type": "execute_result"
    }
   ],
   "source": [
    "ufo.head()"
   ]
  },
  {
   "cell_type": "code",
   "execution_count": 80,
   "metadata": {},
   "outputs": [
    {
     "data": {
      "text/plain": [
       "City                       object\n",
       "Colors Reported            object\n",
       "Shape Reported             object\n",
       "State                      object\n",
       "Time               datetime64[ns]\n",
       "dtype: object"
      ]
     },
     "execution_count": 80,
     "metadata": {},
     "output_type": "execute_result"
    }
   ],
   "source": [
    "ufo.dtypes"
   ]
  },
  {
   "cell_type": "code",
   "execution_count": 81,
   "metadata": {},
   "outputs": [
    {
     "data": {
      "text/plain": [
       "0        22\n",
       "1        20\n",
       "2        14\n",
       "3        13\n",
       "4        19\n",
       "         ..\n",
       "18236    23\n",
       "18237    23\n",
       "18238    23\n",
       "18239    23\n",
       "18240    23\n",
       "Name: Time, Length: 18241, dtype: int64"
      ]
     },
     "execution_count": 81,
     "metadata": {},
     "output_type": "execute_result"
    }
   ],
   "source": [
    "ufo.Time.dt.hour"
   ]
  },
  {
   "cell_type": "code",
   "execution_count": 82,
   "metadata": {},
   "outputs": [
    {
     "data": {
      "text/plain": [
       "0        6\n",
       "1        0\n",
       "2        6\n",
       "3        0\n",
       "4        1\n",
       "        ..\n",
       "18236    6\n",
       "18237    6\n",
       "18238    6\n",
       "18239    6\n",
       "18240    6\n",
       "Name: Time, Length: 18241, dtype: int64"
      ]
     },
     "execution_count": 82,
     "metadata": {},
     "output_type": "execute_result"
    }
   ],
   "source": [
    "ufo.Time.dt.weekday"
   ]
  },
  {
   "cell_type": "code",
   "execution_count": 83,
   "metadata": {},
   "outputs": [
    {
     "data": {
      "text/plain": [
       "0        152\n",
       "1        181\n",
       "2         46\n",
       "3        152\n",
       "4        108\n",
       "        ... \n",
       "18236    366\n",
       "18237    366\n",
       "18238    366\n",
       "18239    366\n",
       "18240    366\n",
       "Name: Time, Length: 18241, dtype: int64"
      ]
     },
     "execution_count": 83,
     "metadata": {},
     "output_type": "execute_result"
    }
   ],
   "source": [
    "ufo.Time.dt.dayofyear"
   ]
  },
  {
   "cell_type": "code",
   "execution_count": 84,
   "metadata": {},
   "outputs": [
    {
     "data": {
      "text/plain": [
       "Timestamp('1999-01-01 00:00:00')"
      ]
     },
     "execution_count": 84,
     "metadata": {},
     "output_type": "execute_result"
    }
   ],
   "source": [
    "pd.to_datetime(\"1/1/1999\")"
   ]
  },
  {
   "cell_type": "code",
   "execution_count": 85,
   "metadata": {},
   "outputs": [],
   "source": [
    "ts = pd.to_datetime(\"1/1/1999\")"
   ]
  },
  {
   "cell_type": "code",
   "execution_count": 86,
   "metadata": {},
   "outputs": [
    {
     "data": {
      "text/html": [
       "<div>\n",
       "<style scoped>\n",
       "    .dataframe tbody tr th:only-of-type {\n",
       "        vertical-align: middle;\n",
       "    }\n",
       "\n",
       "    .dataframe tbody tr th {\n",
       "        vertical-align: top;\n",
       "    }\n",
       "\n",
       "    .dataframe thead th {\n",
       "        text-align: right;\n",
       "    }\n",
       "</style>\n",
       "<table border=\"1\" class=\"dataframe\">\n",
       "  <thead>\n",
       "    <tr style=\"text-align: right;\">\n",
       "      <th></th>\n",
       "      <th>City</th>\n",
       "      <th>Colors Reported</th>\n",
       "      <th>Shape Reported</th>\n",
       "      <th>State</th>\n",
       "      <th>Time</th>\n",
       "    </tr>\n",
       "  </thead>\n",
       "  <tbody>\n",
       "    <tr>\n",
       "      <th>12832</th>\n",
       "      <td>Loma Rica</td>\n",
       "      <td>NaN</td>\n",
       "      <td>LIGHT</td>\n",
       "      <td>CA</td>\n",
       "      <td>1999-01-01 02:30:00</td>\n",
       "    </tr>\n",
       "    <tr>\n",
       "      <th>12833</th>\n",
       "      <td>Bauxite</td>\n",
       "      <td>NaN</td>\n",
       "      <td>Unknown</td>\n",
       "      <td>AR</td>\n",
       "      <td>1999-01-01 03:00:00</td>\n",
       "    </tr>\n",
       "    <tr>\n",
       "      <th>12834</th>\n",
       "      <td>Florence</td>\n",
       "      <td>NaN</td>\n",
       "      <td>CYLINDER</td>\n",
       "      <td>SC</td>\n",
       "      <td>1999-01-01 14:00:00</td>\n",
       "    </tr>\n",
       "    <tr>\n",
       "      <th>12835</th>\n",
       "      <td>Lake Henshaw</td>\n",
       "      <td>NaN</td>\n",
       "      <td>CIGAR</td>\n",
       "      <td>CA</td>\n",
       "      <td>1999-01-01 15:00:00</td>\n",
       "    </tr>\n",
       "    <tr>\n",
       "      <th>12836</th>\n",
       "      <td>Wilmington Island</td>\n",
       "      <td>NaN</td>\n",
       "      <td>LIGHT</td>\n",
       "      <td>GA</td>\n",
       "      <td>1999-01-01 17:15:00</td>\n",
       "    </tr>\n",
       "    <tr>\n",
       "      <th>...</th>\n",
       "      <td>...</td>\n",
       "      <td>...</td>\n",
       "      <td>...</td>\n",
       "      <td>...</td>\n",
       "      <td>...</td>\n",
       "    </tr>\n",
       "    <tr>\n",
       "      <th>18236</th>\n",
       "      <td>Grant Park</td>\n",
       "      <td>NaN</td>\n",
       "      <td>TRIANGLE</td>\n",
       "      <td>IL</td>\n",
       "      <td>2000-12-31 23:00:00</td>\n",
       "    </tr>\n",
       "    <tr>\n",
       "      <th>18237</th>\n",
       "      <td>Spirit Lake</td>\n",
       "      <td>NaN</td>\n",
       "      <td>DISK</td>\n",
       "      <td>IA</td>\n",
       "      <td>2000-12-31 23:00:00</td>\n",
       "    </tr>\n",
       "    <tr>\n",
       "      <th>18238</th>\n",
       "      <td>Eagle River</td>\n",
       "      <td>NaN</td>\n",
       "      <td>Unknown</td>\n",
       "      <td>WI</td>\n",
       "      <td>2000-12-31 23:45:00</td>\n",
       "    </tr>\n",
       "    <tr>\n",
       "      <th>18239</th>\n",
       "      <td>Eagle River</td>\n",
       "      <td>RED</td>\n",
       "      <td>LIGHT</td>\n",
       "      <td>WI</td>\n",
       "      <td>2000-12-31 23:45:00</td>\n",
       "    </tr>\n",
       "    <tr>\n",
       "      <th>18240</th>\n",
       "      <td>Ybor</td>\n",
       "      <td>NaN</td>\n",
       "      <td>OVAL</td>\n",
       "      <td>FL</td>\n",
       "      <td>2000-12-31 23:59:00</td>\n",
       "    </tr>\n",
       "  </tbody>\n",
       "</table>\n",
       "<p>5409 rows × 5 columns</p>\n",
       "</div>"
      ],
      "text/plain": [
       "                    City Colors Reported Shape Reported State  \\\n",
       "12832          Loma Rica             NaN          LIGHT    CA   \n",
       "12833            Bauxite             NaN        Unknown    AR   \n",
       "12834           Florence             NaN       CYLINDER    SC   \n",
       "12835       Lake Henshaw             NaN          CIGAR    CA   \n",
       "12836  Wilmington Island             NaN          LIGHT    GA   \n",
       "...                  ...             ...            ...   ...   \n",
       "18236         Grant Park             NaN       TRIANGLE    IL   \n",
       "18237        Spirit Lake             NaN           DISK    IA   \n",
       "18238        Eagle River             NaN        Unknown    WI   \n",
       "18239        Eagle River             RED          LIGHT    WI   \n",
       "18240               Ybor             NaN           OVAL    FL   \n",
       "\n",
       "                     Time  \n",
       "12832 1999-01-01 02:30:00  \n",
       "12833 1999-01-01 03:00:00  \n",
       "12834 1999-01-01 14:00:00  \n",
       "12835 1999-01-01 15:00:00  \n",
       "12836 1999-01-01 17:15:00  \n",
       "...                   ...  \n",
       "18236 2000-12-31 23:00:00  \n",
       "18237 2000-12-31 23:00:00  \n",
       "18238 2000-12-31 23:45:00  \n",
       "18239 2000-12-31 23:45:00  \n",
       "18240 2000-12-31 23:59:00  \n",
       "\n",
       "[5409 rows x 5 columns]"
      ]
     },
     "execution_count": 86,
     "metadata": {},
     "output_type": "execute_result"
    }
   ],
   "source": [
    "ufo.loc[ufo.Time >= ts, :]"
   ]
  },
  {
   "cell_type": "code",
   "execution_count": 87,
   "metadata": {},
   "outputs": [
    {
     "data": {
      "text/plain": [
       "Timestamp('2000-12-31 23:59:00')"
      ]
     },
     "execution_count": 87,
     "metadata": {},
     "output_type": "execute_result"
    }
   ],
   "source": [
    "ufo.Time.max()"
   ]
  },
  {
   "cell_type": "code",
   "execution_count": 88,
   "metadata": {},
   "outputs": [
    {
     "data": {
      "text/plain": [
       "Timestamp('1930-06-01 22:00:00')"
      ]
     },
     "execution_count": 88,
     "metadata": {},
     "output_type": "execute_result"
    }
   ],
   "source": [
    "ufo.Time.min()"
   ]
  },
  {
   "cell_type": "code",
   "execution_count": 89,
   "metadata": {},
   "outputs": [
    {
     "data": {
      "text/plain": [
       "Timedelta('25781 days 01:59:00')"
      ]
     },
     "execution_count": 89,
     "metadata": {},
     "output_type": "execute_result"
    }
   ],
   "source": [
    "ufo.Time.max() - ufo.Time.min()"
   ]
  },
  {
   "cell_type": "code",
   "execution_count": 90,
   "metadata": {},
   "outputs": [
    {
     "data": {
      "text/plain": [
       "25781"
      ]
     },
     "execution_count": 90,
     "metadata": {},
     "output_type": "execute_result"
    }
   ],
   "source": [
    "(ufo.Time.max() - ufo.Time.min()).days"
   ]
  },
  {
   "cell_type": "code",
   "execution_count": 91,
   "metadata": {},
   "outputs": [],
   "source": [
    "ufo[\"Year\"] = ufo.Time.dt.year"
   ]
  },
  {
   "cell_type": "code",
   "execution_count": 92,
   "metadata": {},
   "outputs": [
    {
     "data": {
      "text/html": [
       "<div>\n",
       "<style scoped>\n",
       "    .dataframe tbody tr th:only-of-type {\n",
       "        vertical-align: middle;\n",
       "    }\n",
       "\n",
       "    .dataframe tbody tr th {\n",
       "        vertical-align: top;\n",
       "    }\n",
       "\n",
       "    .dataframe thead th {\n",
       "        text-align: right;\n",
       "    }\n",
       "</style>\n",
       "<table border=\"1\" class=\"dataframe\">\n",
       "  <thead>\n",
       "    <tr style=\"text-align: right;\">\n",
       "      <th></th>\n",
       "      <th>City</th>\n",
       "      <th>Colors Reported</th>\n",
       "      <th>Shape Reported</th>\n",
       "      <th>State</th>\n",
       "      <th>Time</th>\n",
       "      <th>Year</th>\n",
       "    </tr>\n",
       "  </thead>\n",
       "  <tbody>\n",
       "    <tr>\n",
       "      <th>0</th>\n",
       "      <td>Ithaca</td>\n",
       "      <td>NaN</td>\n",
       "      <td>TRIANGLE</td>\n",
       "      <td>NY</td>\n",
       "      <td>1930-06-01 22:00:00</td>\n",
       "      <td>1930</td>\n",
       "    </tr>\n",
       "    <tr>\n",
       "      <th>1</th>\n",
       "      <td>Willingboro</td>\n",
       "      <td>NaN</td>\n",
       "      <td>OTHER</td>\n",
       "      <td>NJ</td>\n",
       "      <td>1930-06-30 20:00:00</td>\n",
       "      <td>1930</td>\n",
       "    </tr>\n",
       "    <tr>\n",
       "      <th>2</th>\n",
       "      <td>Holyoke</td>\n",
       "      <td>NaN</td>\n",
       "      <td>OVAL</td>\n",
       "      <td>CO</td>\n",
       "      <td>1931-02-15 14:00:00</td>\n",
       "      <td>1931</td>\n",
       "    </tr>\n",
       "    <tr>\n",
       "      <th>3</th>\n",
       "      <td>Abilene</td>\n",
       "      <td>NaN</td>\n",
       "      <td>DISK</td>\n",
       "      <td>KS</td>\n",
       "      <td>1931-06-01 13:00:00</td>\n",
       "      <td>1931</td>\n",
       "    </tr>\n",
       "    <tr>\n",
       "      <th>4</th>\n",
       "      <td>New York Worlds Fair</td>\n",
       "      <td>NaN</td>\n",
       "      <td>LIGHT</td>\n",
       "      <td>NY</td>\n",
       "      <td>1933-04-18 19:00:00</td>\n",
       "      <td>1933</td>\n",
       "    </tr>\n",
       "    <tr>\n",
       "      <th>...</th>\n",
       "      <td>...</td>\n",
       "      <td>...</td>\n",
       "      <td>...</td>\n",
       "      <td>...</td>\n",
       "      <td>...</td>\n",
       "      <td>...</td>\n",
       "    </tr>\n",
       "    <tr>\n",
       "      <th>18236</th>\n",
       "      <td>Grant Park</td>\n",
       "      <td>NaN</td>\n",
       "      <td>TRIANGLE</td>\n",
       "      <td>IL</td>\n",
       "      <td>2000-12-31 23:00:00</td>\n",
       "      <td>2000</td>\n",
       "    </tr>\n",
       "    <tr>\n",
       "      <th>18237</th>\n",
       "      <td>Spirit Lake</td>\n",
       "      <td>NaN</td>\n",
       "      <td>DISK</td>\n",
       "      <td>IA</td>\n",
       "      <td>2000-12-31 23:00:00</td>\n",
       "      <td>2000</td>\n",
       "    </tr>\n",
       "    <tr>\n",
       "      <th>18238</th>\n",
       "      <td>Eagle River</td>\n",
       "      <td>NaN</td>\n",
       "      <td>Unknown</td>\n",
       "      <td>WI</td>\n",
       "      <td>2000-12-31 23:45:00</td>\n",
       "      <td>2000</td>\n",
       "    </tr>\n",
       "    <tr>\n",
       "      <th>18239</th>\n",
       "      <td>Eagle River</td>\n",
       "      <td>RED</td>\n",
       "      <td>LIGHT</td>\n",
       "      <td>WI</td>\n",
       "      <td>2000-12-31 23:45:00</td>\n",
       "      <td>2000</td>\n",
       "    </tr>\n",
       "    <tr>\n",
       "      <th>18240</th>\n",
       "      <td>Ybor</td>\n",
       "      <td>NaN</td>\n",
       "      <td>OVAL</td>\n",
       "      <td>FL</td>\n",
       "      <td>2000-12-31 23:59:00</td>\n",
       "      <td>2000</td>\n",
       "    </tr>\n",
       "  </tbody>\n",
       "</table>\n",
       "<p>18241 rows × 6 columns</p>\n",
       "</div>"
      ],
      "text/plain": [
       "                       City Colors Reported Shape Reported State  \\\n",
       "0                    Ithaca             NaN       TRIANGLE    NY   \n",
       "1               Willingboro             NaN          OTHER    NJ   \n",
       "2                   Holyoke             NaN           OVAL    CO   \n",
       "3                   Abilene             NaN           DISK    KS   \n",
       "4      New York Worlds Fair             NaN          LIGHT    NY   \n",
       "...                     ...             ...            ...   ...   \n",
       "18236            Grant Park             NaN       TRIANGLE    IL   \n",
       "18237           Spirit Lake             NaN           DISK    IA   \n",
       "18238           Eagle River             NaN        Unknown    WI   \n",
       "18239           Eagle River             RED          LIGHT    WI   \n",
       "18240                  Ybor             NaN           OVAL    FL   \n",
       "\n",
       "                     Time  Year  \n",
       "0     1930-06-01 22:00:00  1930  \n",
       "1     1930-06-30 20:00:00  1930  \n",
       "2     1931-02-15 14:00:00  1931  \n",
       "3     1931-06-01 13:00:00  1931  \n",
       "4     1933-04-18 19:00:00  1933  \n",
       "...                   ...   ...  \n",
       "18236 2000-12-31 23:00:00  2000  \n",
       "18237 2000-12-31 23:00:00  2000  \n",
       "18238 2000-12-31 23:45:00  2000  \n",
       "18239 2000-12-31 23:45:00  2000  \n",
       "18240 2000-12-31 23:59:00  2000  \n",
       "\n",
       "[18241 rows x 6 columns]"
      ]
     },
     "execution_count": 92,
     "metadata": {},
     "output_type": "execute_result"
    }
   ],
   "source": [
    "ufo"
   ]
  },
  {
   "cell_type": "markdown",
   "metadata": {},
   "source": [
    "## 5 - VISULATION WITH `pandas`"
   ]
  },
  {
   "cell_type": "markdown",
   "metadata": {},
   "source": [
    "### 5.1. Line"
   ]
  },
  {
   "cell_type": "code",
   "execution_count": 93,
   "metadata": {},
   "outputs": [],
   "source": [
    "%matplotlib inline"
   ]
  },
  {
   "cell_type": "code",
   "execution_count": 94,
   "metadata": {},
   "outputs": [],
   "source": [
    "import matplotlib.pyplot as plt"
   ]
  },
  {
   "cell_type": "code",
   "execution_count": 95,
   "metadata": {},
   "outputs": [
    {
     "data": {
      "text/plain": [
       "1999    2774\n",
       "2000    2635\n",
       "1998    1743\n",
       "1995    1344\n",
       "1997    1237\n",
       "        ... \n",
       "1941       2\n",
       "1936       2\n",
       "1935       1\n",
       "1934       1\n",
       "1933       1\n",
       "Name: Year, Length: 68, dtype: int64"
      ]
     },
     "execution_count": 95,
     "metadata": {},
     "output_type": "execute_result"
    }
   ],
   "source": [
    "ufo.Year.value_counts()"
   ]
  },
  {
   "cell_type": "code",
   "execution_count": 96,
   "metadata": {},
   "outputs": [
    {
     "data": {
      "text/plain": [
       "1930       2\n",
       "1931       2\n",
       "1933       1\n",
       "1934       1\n",
       "1935       1\n",
       "        ... \n",
       "1996     851\n",
       "1997    1237\n",
       "1998    1743\n",
       "1999    2774\n",
       "2000    2635\n",
       "Name: Year, Length: 68, dtype: int64"
      ]
     },
     "execution_count": 96,
     "metadata": {},
     "output_type": "execute_result"
    }
   ],
   "source": [
    "ufo.Year.value_counts().sort_index()"
   ]
  },
  {
   "cell_type": "code",
   "execution_count": 97,
   "metadata": {},
   "outputs": [
    {
     "data": {
      "text/plain": [
       "<AxesSubplot:>"
      ]
     },
     "execution_count": 97,
     "metadata": {},
     "output_type": "execute_result"
    },
    {
     "data": {
      "image/png": "[encoded data removed]",
      "text/plain": [
       "<Figure size 432x288 with 1 Axes>"
      ]
     },
     "metadata": {
      "needs_background": "light"
     },
     "output_type": "display_data"
    }
   ],
   "source": [
    "ufo.Year.value_counts().sort_index().plot()"
   ]
  },
  {
   "cell_type": "code",
   "execution_count": 98,
   "metadata": {},
   "outputs": [],
   "source": [
    "gas_prices = pd.read_csv(r\"C:\\Users\\PC\\python_lectures\\data\\gas_prices.csv\")"
   ]
  },
  {
   "cell_type": "code",
   "execution_count": 99,
   "metadata": {},
   "outputs": [
    {
     "data": {
      "text/html": [
       "<div>\n",
       "<style scoped>\n",
       "    .dataframe tbody tr th:only-of-type {\n",
       "        vertical-align: middle;\n",
       "    }\n",
       "\n",
       "    .dataframe tbody tr th {\n",
       "        vertical-align: top;\n",
       "    }\n",
       "\n",
       "    .dataframe thead th {\n",
       "        text-align: right;\n",
       "    }\n",
       "</style>\n",
       "<table border=\"1\" class=\"dataframe\">\n",
       "  <thead>\n",
       "    <tr style=\"text-align: right;\">\n",
       "      <th></th>\n",
       "      <th>Year</th>\n",
       "      <th>Australia</th>\n",
       "      <th>Canada</th>\n",
       "      <th>France</th>\n",
       "      <th>Germany</th>\n",
       "      <th>Italy</th>\n",
       "      <th>Japan</th>\n",
       "      <th>Mexico</th>\n",
       "      <th>South Korea</th>\n",
       "      <th>UK</th>\n",
       "      <th>USA</th>\n",
       "    </tr>\n",
       "  </thead>\n",
       "  <tbody>\n",
       "    <tr>\n",
       "      <th>0</th>\n",
       "      <td>1990</td>\n",
       "      <td>NaN</td>\n",
       "      <td>1.87</td>\n",
       "      <td>3.63</td>\n",
       "      <td>2.65</td>\n",
       "      <td>4.59</td>\n",
       "      <td>3.16</td>\n",
       "      <td>1.00</td>\n",
       "      <td>2.05</td>\n",
       "      <td>2.82</td>\n",
       "      <td>1.16</td>\n",
       "    </tr>\n",
       "    <tr>\n",
       "      <th>1</th>\n",
       "      <td>1991</td>\n",
       "      <td>1.96</td>\n",
       "      <td>1.92</td>\n",
       "      <td>3.45</td>\n",
       "      <td>2.90</td>\n",
       "      <td>4.50</td>\n",
       "      <td>3.46</td>\n",
       "      <td>1.30</td>\n",
       "      <td>2.49</td>\n",
       "      <td>3.01</td>\n",
       "      <td>1.14</td>\n",
       "    </tr>\n",
       "    <tr>\n",
       "      <th>2</th>\n",
       "      <td>1992</td>\n",
       "      <td>1.89</td>\n",
       "      <td>1.73</td>\n",
       "      <td>3.56</td>\n",
       "      <td>3.27</td>\n",
       "      <td>4.53</td>\n",
       "      <td>3.58</td>\n",
       "      <td>1.50</td>\n",
       "      <td>2.65</td>\n",
       "      <td>3.06</td>\n",
       "      <td>1.13</td>\n",
       "    </tr>\n",
       "    <tr>\n",
       "      <th>3</th>\n",
       "      <td>1993</td>\n",
       "      <td>1.73</td>\n",
       "      <td>1.57</td>\n",
       "      <td>3.41</td>\n",
       "      <td>3.07</td>\n",
       "      <td>3.68</td>\n",
       "      <td>4.16</td>\n",
       "      <td>1.56</td>\n",
       "      <td>2.88</td>\n",
       "      <td>2.84</td>\n",
       "      <td>1.11</td>\n",
       "    </tr>\n",
       "    <tr>\n",
       "      <th>4</th>\n",
       "      <td>1994</td>\n",
       "      <td>1.84</td>\n",
       "      <td>1.45</td>\n",
       "      <td>3.59</td>\n",
       "      <td>3.52</td>\n",
       "      <td>3.70</td>\n",
       "      <td>4.36</td>\n",
       "      <td>1.48</td>\n",
       "      <td>2.87</td>\n",
       "      <td>2.99</td>\n",
       "      <td>1.11</td>\n",
       "    </tr>\n",
       "    <tr>\n",
       "      <th>5</th>\n",
       "      <td>1995</td>\n",
       "      <td>1.95</td>\n",
       "      <td>1.53</td>\n",
       "      <td>4.26</td>\n",
       "      <td>3.96</td>\n",
       "      <td>4.00</td>\n",
       "      <td>4.43</td>\n",
       "      <td>1.11</td>\n",
       "      <td>2.94</td>\n",
       "      <td>3.21</td>\n",
       "      <td>1.15</td>\n",
       "    </tr>\n",
       "    <tr>\n",
       "      <th>6</th>\n",
       "      <td>1996</td>\n",
       "      <td>2.12</td>\n",
       "      <td>1.61</td>\n",
       "      <td>4.41</td>\n",
       "      <td>3.94</td>\n",
       "      <td>4.39</td>\n",
       "      <td>3.64</td>\n",
       "      <td>1.25</td>\n",
       "      <td>3.18</td>\n",
       "      <td>3.34</td>\n",
       "      <td>1.23</td>\n",
       "    </tr>\n",
       "    <tr>\n",
       "      <th>7</th>\n",
       "      <td>1997</td>\n",
       "      <td>2.05</td>\n",
       "      <td>1.62</td>\n",
       "      <td>4.00</td>\n",
       "      <td>3.53</td>\n",
       "      <td>4.07</td>\n",
       "      <td>3.26</td>\n",
       "      <td>1.47</td>\n",
       "      <td>3.34</td>\n",
       "      <td>3.83</td>\n",
       "      <td>1.23</td>\n",
       "    </tr>\n",
       "    <tr>\n",
       "      <th>8</th>\n",
       "      <td>1998</td>\n",
       "      <td>1.63</td>\n",
       "      <td>1.38</td>\n",
       "      <td>3.87</td>\n",
       "      <td>3.34</td>\n",
       "      <td>3.84</td>\n",
       "      <td>2.82</td>\n",
       "      <td>1.49</td>\n",
       "      <td>3.04</td>\n",
       "      <td>4.06</td>\n",
       "      <td>1.06</td>\n",
       "    </tr>\n",
       "    <tr>\n",
       "      <th>9</th>\n",
       "      <td>1999</td>\n",
       "      <td>1.72</td>\n",
       "      <td>1.52</td>\n",
       "      <td>3.85</td>\n",
       "      <td>3.42</td>\n",
       "      <td>3.87</td>\n",
       "      <td>3.27</td>\n",
       "      <td>1.79</td>\n",
       "      <td>3.80</td>\n",
       "      <td>4.29</td>\n",
       "      <td>1.17</td>\n",
       "    </tr>\n",
       "    <tr>\n",
       "      <th>10</th>\n",
       "      <td>2000</td>\n",
       "      <td>1.94</td>\n",
       "      <td>1.86</td>\n",
       "      <td>3.80</td>\n",
       "      <td>3.45</td>\n",
       "      <td>3.77</td>\n",
       "      <td>3.65</td>\n",
       "      <td>2.01</td>\n",
       "      <td>4.18</td>\n",
       "      <td>4.58</td>\n",
       "      <td>1.51</td>\n",
       "    </tr>\n",
       "    <tr>\n",
       "      <th>11</th>\n",
       "      <td>2001</td>\n",
       "      <td>1.71</td>\n",
       "      <td>1.72</td>\n",
       "      <td>3.51</td>\n",
       "      <td>3.40</td>\n",
       "      <td>3.57</td>\n",
       "      <td>3.27</td>\n",
       "      <td>2.20</td>\n",
       "      <td>3.76</td>\n",
       "      <td>4.13</td>\n",
       "      <td>1.46</td>\n",
       "    </tr>\n",
       "    <tr>\n",
       "      <th>12</th>\n",
       "      <td>2002</td>\n",
       "      <td>1.76</td>\n",
       "      <td>1.69</td>\n",
       "      <td>3.62</td>\n",
       "      <td>3.67</td>\n",
       "      <td>3.74</td>\n",
       "      <td>3.15</td>\n",
       "      <td>2.24</td>\n",
       "      <td>3.84</td>\n",
       "      <td>4.16</td>\n",
       "      <td>1.36</td>\n",
       "    </tr>\n",
       "    <tr>\n",
       "      <th>13</th>\n",
       "      <td>2003</td>\n",
       "      <td>2.19</td>\n",
       "      <td>1.99</td>\n",
       "      <td>4.35</td>\n",
       "      <td>4.59</td>\n",
       "      <td>4.53</td>\n",
       "      <td>3.47</td>\n",
       "      <td>2.04</td>\n",
       "      <td>4.11</td>\n",
       "      <td>4.70</td>\n",
       "      <td>1.59</td>\n",
       "    </tr>\n",
       "    <tr>\n",
       "      <th>14</th>\n",
       "      <td>2004</td>\n",
       "      <td>2.72</td>\n",
       "      <td>2.37</td>\n",
       "      <td>4.99</td>\n",
       "      <td>5.24</td>\n",
       "      <td>5.29</td>\n",
       "      <td>3.93</td>\n",
       "      <td>2.03</td>\n",
       "      <td>4.51</td>\n",
       "      <td>5.56</td>\n",
       "      <td>1.88</td>\n",
       "    </tr>\n",
       "    <tr>\n",
       "      <th>15</th>\n",
       "      <td>2005</td>\n",
       "      <td>3.23</td>\n",
       "      <td>2.89</td>\n",
       "      <td>5.46</td>\n",
       "      <td>5.66</td>\n",
       "      <td>5.74</td>\n",
       "      <td>4.28</td>\n",
       "      <td>2.22</td>\n",
       "      <td>5.28</td>\n",
       "      <td>5.97</td>\n",
       "      <td>2.30</td>\n",
       "    </tr>\n",
       "    <tr>\n",
       "      <th>16</th>\n",
       "      <td>2006</td>\n",
       "      <td>3.54</td>\n",
       "      <td>3.26</td>\n",
       "      <td>5.88</td>\n",
       "      <td>6.03</td>\n",
       "      <td>6.10</td>\n",
       "      <td>4.47</td>\n",
       "      <td>2.31</td>\n",
       "      <td>5.92</td>\n",
       "      <td>6.36</td>\n",
       "      <td>2.59</td>\n",
       "    </tr>\n",
       "    <tr>\n",
       "      <th>17</th>\n",
       "      <td>2007</td>\n",
       "      <td>3.85</td>\n",
       "      <td>3.59</td>\n",
       "      <td>6.60</td>\n",
       "      <td>6.88</td>\n",
       "      <td>6.73</td>\n",
       "      <td>4.49</td>\n",
       "      <td>2.40</td>\n",
       "      <td>6.21</td>\n",
       "      <td>7.13</td>\n",
       "      <td>2.80</td>\n",
       "    </tr>\n",
       "    <tr>\n",
       "      <th>18</th>\n",
       "      <td>2008</td>\n",
       "      <td>4.45</td>\n",
       "      <td>4.08</td>\n",
       "      <td>7.51</td>\n",
       "      <td>7.75</td>\n",
       "      <td>7.63</td>\n",
       "      <td>5.74</td>\n",
       "      <td>2.45</td>\n",
       "      <td>5.83</td>\n",
       "      <td>7.42</td>\n",
       "      <td>3.27</td>\n",
       "    </tr>\n",
       "  </tbody>\n",
       "</table>\n",
       "</div>"
      ],
      "text/plain": [
       "    Year  Australia  Canada  France  Germany  Italy  Japan  Mexico  \\\n",
       "0   1990        NaN    1.87    3.63     2.65   4.59   3.16    1.00   \n",
       "1   1991       1.96    1.92    3.45     2.90   4.50   3.46    1.30   \n",
       "2   1992       1.89    1.73    3.56     3.27   4.53   3.58    1.50   \n",
       "3   1993       1.73    1.57    3.41     3.07   3.68   4.16    1.56   \n",
       "4   1994       1.84    1.45    3.59     3.52   3.70   4.36    1.48   \n",
       "5   1995       1.95    1.53    4.26     3.96   4.00   4.43    1.11   \n",
       "6   1996       2.12    1.61    4.41     3.94   4.39   3.64    1.25   \n",
       "7   1997       2.05    1.62    4.00     3.53   4.07   3.26    1.47   \n",
       "8   1998       1.63    1.38    3.87     3.34   3.84   2.82    1.49   \n",
       "9   1999       1.72    1.52    3.85     3.42   3.87   3.27    1.79   \n",
       "10  2000       1.94    1.86    3.80     3.45   3.77   3.65    2.01   \n",
       "11  2001       1.71    1.72    3.51     3.40   3.57   3.27    2.20   \n",
       "12  2002       1.76    1.69    3.62     3.67   3.74   3.15    2.24   \n",
       "13  2003       2.19    1.99    4.35     4.59   4.53   3.47    2.04   \n",
       "14  2004       2.72    2.37    4.99     5.24   5.29   3.93    2.03   \n",
       "15  2005       3.23    2.89    5.46     5.66   5.74   4.28    2.22   \n",
       "16  2006       3.54    3.26    5.88     6.03   6.10   4.47    2.31   \n",
       "17  2007       3.85    3.59    6.60     6.88   6.73   4.49    2.40   \n",
       "18  2008       4.45    4.08    7.51     7.75   7.63   5.74    2.45   \n",
       "\n",
       "    South Korea    UK   USA  \n",
       "0          2.05  2.82  1.16  \n",
       "1          2.49  3.01  1.14  \n",
       "2          2.65  3.06  1.13  \n",
       "3          2.88  2.84  1.11  \n",
       "4          2.87  2.99  1.11  \n",
       "5          2.94  3.21  1.15  \n",
       "6          3.18  3.34  1.23  \n",
       "7          3.34  3.83  1.23  \n",
       "8          3.04  4.06  1.06  \n",
       "9          3.80  4.29  1.17  \n",
       "10         4.18  4.58  1.51  \n",
       "11         3.76  4.13  1.46  \n",
       "12         3.84  4.16  1.36  \n",
       "13         4.11  4.70  1.59  \n",
       "14         4.51  5.56  1.88  \n",
       "15         5.28  5.97  2.30  \n",
       "16         5.92  6.36  2.59  \n",
       "17         6.21  7.13  2.80  \n",
       "18         5.83  7.42  3.27  "
      ]
     },
     "execution_count": 99,
     "metadata": {},
     "output_type": "execute_result"
    }
   ],
   "source": [
    "gas_prices"
   ]
  },
  {
   "cell_type": "code",
   "execution_count": 100,
   "metadata": {},
   "outputs": [
    {
     "data": {
      "image/png": "[encoded data removed]",
      "text/plain": [
       "<Figure size 432x288 with 1 Axes>"
      ]
     },
     "metadata": {
      "needs_background": "light"
     },
     "output_type": "display_data"
    }
   ],
   "source": [
    "plt.title(\"Gas Prices Over Time (in USD)\")\n",
    "\n",
    "plt.plot(gas_prices.Year,gas_prices.USA,\"b.-\", label= \"USA\")\n",
    "plt.plot(gas_prices.Year,gas_prices.Japan,\"r.-\", label= \"Japan\")\n",
    "\n",
    "plt.xticks(gas_prices.Year[::3])\n",
    "\n",
    "plt.xlabel(\"Year\")\n",
    "plt.ylabel(\"USD\")\n",
    "\n",
    "plt.legend()\n",
    "\n",
    "plt.show()"
   ]
  },
  {
   "cell_type": "markdown",
   "metadata": {},
   "source": [
    "### 5.2. Histogram"
   ]
  },
  {
   "cell_type": "code",
   "execution_count": 101,
   "metadata": {},
   "outputs": [
    {
     "data": {
      "image/png": "[encoded data removed]",
      "text/plain": [
       "<Figure size 432x288 with 1 Axes>"
      ]
     },
     "metadata": {
      "needs_background": "light"
     },
     "output_type": "display_data"
    }
   ],
   "source": [
    "bins=[0,1,2,3,4,5,6,7,8]\n",
    "\n",
    "plt.hist(gas_prices.UK,bins=bins)\n",
    "plt.xticks(bins)\n",
    "\n",
    "plt.xlabel(\"Prices\")\n",
    "plt.ylabel(\"Number of Years\")\n",
    "\n",
    "plt.show()"
   ]
  },
  {
   "cell_type": "markdown",
   "metadata": {},
   "source": [
    "### 5.3. Pie Chart"
   ]
  },
  {
   "cell_type": "code",
   "execution_count": 102,
   "metadata": {},
   "outputs": [],
   "source": [
    "high_price_UK = gas_prices.loc[gas_prices[\"UK\"]>=4].count()[0]\n",
    "high_price_GE = gas_prices.loc[gas_prices[\"Germany\"]>=4].count()[0]\n",
    "high_price_IT = gas_prices.loc[gas_prices[\"Italy\"]>=4].count()[0]\n",
    "high_price_CA = gas_prices.loc[gas_prices[\"Canada\"]>=4].count()[0]"
   ]
  },
  {
   "cell_type": "code",
   "execution_count": 103,
   "metadata": {},
   "outputs": [
    {
     "data": {
      "image/png": "[encoded data removed]",
      "text/plain": [
       "<Figure size 432x288 with 1 Axes>"
      ]
     },
     "metadata": {},
     "output_type": "display_data"
    }
   ],
   "source": [
    "labels=[\"UK\",\"Germany\",\"Italy\",\"Canada\"]\n",
    "\n",
    "plt.pie([high_price_UK,high_price_GE,high_price_IT,high_price_CA],labels=labels,autopct=\"%.2f %%\")\n",
    "\n",
    "plt.show()"
   ]
  },
  {
   "cell_type": "code",
   "execution_count": null,
   "metadata": {},
   "outputs": [],
   "source": []
  }
 ],
 "metadata": {
  "kernelspec": {
   "display_name": "Python 3",
   "language": "python",
   "name": "python3"
  },
  "language_info": {
   "codemirror_mode": {
    "name": "ipython",
    "version": 3
   },
   "file_extension": ".py",
   "mimetype": "text/x-python",
   "name": "python",
   "nbconvert_exporter": "python",
   "pygments_lexer": "ipython3",
   "version": "3.6.9"
  }
 },
 "nbformat": 4,
 "nbformat_minor": 4
}
